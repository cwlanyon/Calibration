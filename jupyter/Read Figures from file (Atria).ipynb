{
 "cells": [
  {
   "cell_type": "code",
   "execution_count": 4,
   "id": "0bd3deb2",
   "metadata": {},
   "outputs": [],
   "source": [
    "import math\n",
    "import torch\n",
    "import gpytorch\n",
    "import pandas as pd\n",
    "import numpy as np\n",
    "from matplotlib import pyplot as plt\n",
    "\n",
    "from GPyEm import GPE_ensemble as GPE\n",
    "\n",
    "import os\n",
    "from sklearn.linear_model import LinearRegression\n",
    "from sklearn.metrics import mean_squared_error, r2_score\n",
    "from sklearn.model_selection import train_test_split\n",
    "#from GPErks.gp.data.dataset import Dataset\n",
    "from gpytorch.likelihoods import GaussianLikelihood\n",
    "from gpytorch.means import LinearMean\n",
    "from gpytorch.kernels import RBFKernel, ScaleKernel\n",
    "from torchmetrics import MeanSquaredError, R2Score\n",
    "#from GPErks.gp.experiment import GPExperiment\n",
    "#from GPErks.train.emulator import GPEmulator\n",
    "#from GPErks.perks.inference import Inference\n",
    "#from GPErks.train.early_stop import NoEarlyStoppingCriterion\n",
    "#from GPErks.train.early_stop import (\n",
    "#    GLEarlyStoppingCriterion,\n",
    "#    PQEarlyStoppingCriterion,\n",
    "#    UPEarlyStoppingCriterion,\n",
    "#)\n",
    "#from GPErks.train.early_stop import PkEarlyStoppingCriterion\n",
    "\n",
    "\n",
    "\n",
    "%matplotlib inline\n",
    "%load_ext autoreload\n",
    "%autoreload 2\n",
    "\n",
    "# set logger and enforce reproducibility\n",
    "#from GPErks.log.logger import get_logger\n",
    "#from GPErks.utils.random import set_seed\n",
    "#log = get_logger()\n",
    "seed = 7\n",
    "#set_seed(seed)\n",
    "from time import process_time \n",
    "import scipy\n",
    "from scipy.optimize import minimize"
   ]
  },
  {
   "cell_type": "code",
   "execution_count": 2,
   "id": "f4d79bef",
   "metadata": {},
   "outputs": [],
   "source": [
    "reps=5\n",
    "nn=[10,15,20,25,30,35,40,45,50,55,60,80,100,120,140]\n",
    "ylabels=pd.read_csv(r'/Users/pmzcwl/Library/CloudStorage/OneDrive-TheUniversityofNottingham/shared_simulations/LA_data/case01/ylabels.txt',delim_whitespace=True,header=None)\n",
    "xlabels=pd.read_csv(r'/Users/pmzcwl/Library/CloudStorage/OneDrive-TheUniversityofNottingham/shared_simulations/LA_data/case01/xlabels.txt',delim_whitespace=True,header=None)\n",
    "xlabels=xlabels.values.flatten().tolist()\n",
    "ylabels=ylabels.values.flatten().tolist()"
   ]
  },
  {
   "cell_type": "code",
   "execution_count": 3,
   "id": "66004419",
   "metadata": {
    "scrolled": true
   },
   "outputs": [
    {
     "ename": "FileNotFoundError",
     "evalue": "[Errno 2] No such file or directory: 'figures/WeavingDTDiscrepATATAtria.pdf'",
     "output_type": "error",
     "traceback": [
      "\u001b[0;31m---------------------------------------------------------------------------\u001b[0m",
      "\u001b[0;31mFileNotFoundError\u001b[0m                         Traceback (most recent call last)",
      "Cell \u001b[0;32mIn[3], line 21\u001b[0m\n\u001b[1;32m     19\u001b[0m     plt\u001b[38;5;241m.\u001b[39mxticks(fontsize\u001b[38;5;241m=\u001b[39mfontS)\n\u001b[1;32m     20\u001b[0m plt\u001b[38;5;241m.\u001b[39myticks(fontsize\u001b[38;5;241m=\u001b[39mfontS)\n\u001b[0;32m---> 21\u001b[0m plt\u001b[38;5;241m.\u001b[39msavefig(\u001b[38;5;124m'\u001b[39m\u001b[38;5;124mfigures/WeavingDTDiscrepATATAtria.pdf\u001b[39m\u001b[38;5;124m'\u001b[39m )\n",
      "File \u001b[0;32m~/anaconda3/lib/python3.11/site-packages/matplotlib/pyplot.py:1023\u001b[0m, in \u001b[0;36msavefig\u001b[0;34m(*args, **kwargs)\u001b[0m\n\u001b[1;32m   1020\u001b[0m \u001b[38;5;129m@_copy_docstring_and_deprecators\u001b[39m(Figure\u001b[38;5;241m.\u001b[39msavefig)\n\u001b[1;32m   1021\u001b[0m \u001b[38;5;28;01mdef\u001b[39;00m \u001b[38;5;21msavefig\u001b[39m(\u001b[38;5;241m*\u001b[39margs, \u001b[38;5;241m*\u001b[39m\u001b[38;5;241m*\u001b[39mkwargs):\n\u001b[1;32m   1022\u001b[0m     fig \u001b[38;5;241m=\u001b[39m gcf()\n\u001b[0;32m-> 1023\u001b[0m     res \u001b[38;5;241m=\u001b[39m fig\u001b[38;5;241m.\u001b[39msavefig(\u001b[38;5;241m*\u001b[39margs, \u001b[38;5;241m*\u001b[39m\u001b[38;5;241m*\u001b[39mkwargs)\n\u001b[1;32m   1024\u001b[0m     fig\u001b[38;5;241m.\u001b[39mcanvas\u001b[38;5;241m.\u001b[39mdraw_idle()  \u001b[38;5;66;03m# Need this if 'transparent=True', to reset colors.\u001b[39;00m\n\u001b[1;32m   1025\u001b[0m     \u001b[38;5;28;01mreturn\u001b[39;00m res\n",
      "File \u001b[0;32m~/anaconda3/lib/python3.11/site-packages/matplotlib/figure.py:3378\u001b[0m, in \u001b[0;36mFigure.savefig\u001b[0;34m(self, fname, transparent, **kwargs)\u001b[0m\n\u001b[1;32m   3374\u001b[0m     \u001b[38;5;28;01mfor\u001b[39;00m ax \u001b[38;5;129;01min\u001b[39;00m \u001b[38;5;28mself\u001b[39m\u001b[38;5;241m.\u001b[39maxes:\n\u001b[1;32m   3375\u001b[0m         stack\u001b[38;5;241m.\u001b[39menter_context(\n\u001b[1;32m   3376\u001b[0m             ax\u001b[38;5;241m.\u001b[39mpatch\u001b[38;5;241m.\u001b[39m_cm_set(facecolor\u001b[38;5;241m=\u001b[39m\u001b[38;5;124m'\u001b[39m\u001b[38;5;124mnone\u001b[39m\u001b[38;5;124m'\u001b[39m, edgecolor\u001b[38;5;241m=\u001b[39m\u001b[38;5;124m'\u001b[39m\u001b[38;5;124mnone\u001b[39m\u001b[38;5;124m'\u001b[39m))\n\u001b[0;32m-> 3378\u001b[0m \u001b[38;5;28mself\u001b[39m\u001b[38;5;241m.\u001b[39mcanvas\u001b[38;5;241m.\u001b[39mprint_figure(fname, \u001b[38;5;241m*\u001b[39m\u001b[38;5;241m*\u001b[39mkwargs)\n",
      "File \u001b[0;32m~/anaconda3/lib/python3.11/site-packages/matplotlib/backend_bases.py:2366\u001b[0m, in \u001b[0;36mFigureCanvasBase.print_figure\u001b[0;34m(self, filename, dpi, facecolor, edgecolor, orientation, format, bbox_inches, pad_inches, bbox_extra_artists, backend, **kwargs)\u001b[0m\n\u001b[1;32m   2362\u001b[0m \u001b[38;5;28;01mtry\u001b[39;00m:\n\u001b[1;32m   2363\u001b[0m     \u001b[38;5;66;03m# _get_renderer may change the figure dpi (as vector formats\u001b[39;00m\n\u001b[1;32m   2364\u001b[0m     \u001b[38;5;66;03m# force the figure dpi to 72), so we need to set it again here.\u001b[39;00m\n\u001b[1;32m   2365\u001b[0m     \u001b[38;5;28;01mwith\u001b[39;00m cbook\u001b[38;5;241m.\u001b[39m_setattr_cm(\u001b[38;5;28mself\u001b[39m\u001b[38;5;241m.\u001b[39mfigure, dpi\u001b[38;5;241m=\u001b[39mdpi):\n\u001b[0;32m-> 2366\u001b[0m         result \u001b[38;5;241m=\u001b[39m print_method(\n\u001b[1;32m   2367\u001b[0m             filename,\n\u001b[1;32m   2368\u001b[0m             facecolor\u001b[38;5;241m=\u001b[39mfacecolor,\n\u001b[1;32m   2369\u001b[0m             edgecolor\u001b[38;5;241m=\u001b[39medgecolor,\n\u001b[1;32m   2370\u001b[0m             orientation\u001b[38;5;241m=\u001b[39morientation,\n\u001b[1;32m   2371\u001b[0m             bbox_inches_restore\u001b[38;5;241m=\u001b[39m_bbox_inches_restore,\n\u001b[1;32m   2372\u001b[0m             \u001b[38;5;241m*\u001b[39m\u001b[38;5;241m*\u001b[39mkwargs)\n\u001b[1;32m   2373\u001b[0m \u001b[38;5;28;01mfinally\u001b[39;00m:\n\u001b[1;32m   2374\u001b[0m     \u001b[38;5;28;01mif\u001b[39;00m bbox_inches \u001b[38;5;129;01mand\u001b[39;00m restore_bbox:\n",
      "File \u001b[0;32m~/anaconda3/lib/python3.11/site-packages/matplotlib/backend_bases.py:2232\u001b[0m, in \u001b[0;36mFigureCanvasBase._switch_canvas_and_return_print_method.<locals>.<lambda>\u001b[0;34m(*args, **kwargs)\u001b[0m\n\u001b[1;32m   2228\u001b[0m     optional_kws \u001b[38;5;241m=\u001b[39m {  \u001b[38;5;66;03m# Passed by print_figure for other renderers.\u001b[39;00m\n\u001b[1;32m   2229\u001b[0m         \u001b[38;5;124m\"\u001b[39m\u001b[38;5;124mdpi\u001b[39m\u001b[38;5;124m\"\u001b[39m, \u001b[38;5;124m\"\u001b[39m\u001b[38;5;124mfacecolor\u001b[39m\u001b[38;5;124m\"\u001b[39m, \u001b[38;5;124m\"\u001b[39m\u001b[38;5;124medgecolor\u001b[39m\u001b[38;5;124m\"\u001b[39m, \u001b[38;5;124m\"\u001b[39m\u001b[38;5;124morientation\u001b[39m\u001b[38;5;124m\"\u001b[39m,\n\u001b[1;32m   2230\u001b[0m         \u001b[38;5;124m\"\u001b[39m\u001b[38;5;124mbbox_inches_restore\u001b[39m\u001b[38;5;124m\"\u001b[39m}\n\u001b[1;32m   2231\u001b[0m     skip \u001b[38;5;241m=\u001b[39m optional_kws \u001b[38;5;241m-\u001b[39m {\u001b[38;5;241m*\u001b[39minspect\u001b[38;5;241m.\u001b[39msignature(meth)\u001b[38;5;241m.\u001b[39mparameters}\n\u001b[0;32m-> 2232\u001b[0m     print_method \u001b[38;5;241m=\u001b[39m functools\u001b[38;5;241m.\u001b[39mwraps(meth)(\u001b[38;5;28;01mlambda\u001b[39;00m \u001b[38;5;241m*\u001b[39margs, \u001b[38;5;241m*\u001b[39m\u001b[38;5;241m*\u001b[39mkwargs: meth(\n\u001b[1;32m   2233\u001b[0m         \u001b[38;5;241m*\u001b[39margs, \u001b[38;5;241m*\u001b[39m\u001b[38;5;241m*\u001b[39m{k: v \u001b[38;5;28;01mfor\u001b[39;00m k, v \u001b[38;5;129;01min\u001b[39;00m kwargs\u001b[38;5;241m.\u001b[39mitems() \u001b[38;5;28;01mif\u001b[39;00m k \u001b[38;5;129;01mnot\u001b[39;00m \u001b[38;5;129;01min\u001b[39;00m skip}))\n\u001b[1;32m   2234\u001b[0m \u001b[38;5;28;01melse\u001b[39;00m:  \u001b[38;5;66;03m# Let third-parties do as they see fit.\u001b[39;00m\n\u001b[1;32m   2235\u001b[0m     print_method \u001b[38;5;241m=\u001b[39m meth\n",
      "File \u001b[0;32m~/anaconda3/lib/python3.11/site-packages/matplotlib/backends/backend_pdf.py:2813\u001b[0m, in \u001b[0;36mFigureCanvasPdf.print_pdf\u001b[0;34m(self, filename, bbox_inches_restore, metadata)\u001b[0m\n\u001b[1;32m   2811\u001b[0m     file \u001b[38;5;241m=\u001b[39m filename\u001b[38;5;241m.\u001b[39m_file\n\u001b[1;32m   2812\u001b[0m \u001b[38;5;28;01melse\u001b[39;00m:\n\u001b[0;32m-> 2813\u001b[0m     file \u001b[38;5;241m=\u001b[39m PdfFile(filename, metadata\u001b[38;5;241m=\u001b[39mmetadata)\n\u001b[1;32m   2814\u001b[0m \u001b[38;5;28;01mtry\u001b[39;00m:\n\u001b[1;32m   2815\u001b[0m     file\u001b[38;5;241m.\u001b[39mnewPage(width, height)\n",
      "File \u001b[0;32m~/anaconda3/lib/python3.11/site-packages/matplotlib/backends/backend_pdf.py:714\u001b[0m, in \u001b[0;36mPdfFile.__init__\u001b[0;34m(self, filename, metadata)\u001b[0m\n\u001b[1;32m    712\u001b[0m \u001b[38;5;28mself\u001b[39m\u001b[38;5;241m.\u001b[39moriginal_file_like \u001b[38;5;241m=\u001b[39m \u001b[38;5;28;01mNone\u001b[39;00m\n\u001b[1;32m    713\u001b[0m \u001b[38;5;28mself\u001b[39m\u001b[38;5;241m.\u001b[39mtell_base \u001b[38;5;241m=\u001b[39m \u001b[38;5;241m0\u001b[39m\n\u001b[0;32m--> 714\u001b[0m fh, opened \u001b[38;5;241m=\u001b[39m cbook\u001b[38;5;241m.\u001b[39mto_filehandle(filename, \u001b[38;5;124m\"\u001b[39m\u001b[38;5;124mwb\u001b[39m\u001b[38;5;124m\"\u001b[39m, return_opened\u001b[38;5;241m=\u001b[39m\u001b[38;5;28;01mTrue\u001b[39;00m)\n\u001b[1;32m    715\u001b[0m \u001b[38;5;28;01mif\u001b[39;00m \u001b[38;5;129;01mnot\u001b[39;00m opened:\n\u001b[1;32m    716\u001b[0m     \u001b[38;5;28;01mtry\u001b[39;00m:\n",
      "File \u001b[0;32m~/anaconda3/lib/python3.11/site-packages/matplotlib/cbook/__init__.py:494\u001b[0m, in \u001b[0;36mto_filehandle\u001b[0;34m(fname, flag, return_opened, encoding)\u001b[0m\n\u001b[1;32m    492\u001b[0m         fh \u001b[38;5;241m=\u001b[39m bz2\u001b[38;5;241m.\u001b[39mBZ2File(fname, flag)\n\u001b[1;32m    493\u001b[0m     \u001b[38;5;28;01melse\u001b[39;00m:\n\u001b[0;32m--> 494\u001b[0m         fh \u001b[38;5;241m=\u001b[39m \u001b[38;5;28mopen\u001b[39m(fname, flag, encoding\u001b[38;5;241m=\u001b[39mencoding)\n\u001b[1;32m    495\u001b[0m     opened \u001b[38;5;241m=\u001b[39m \u001b[38;5;28;01mTrue\u001b[39;00m\n\u001b[1;32m    496\u001b[0m \u001b[38;5;28;01melif\u001b[39;00m \u001b[38;5;28mhasattr\u001b[39m(fname, \u001b[38;5;124m'\u001b[39m\u001b[38;5;124mseek\u001b[39m\u001b[38;5;124m'\u001b[39m):\n",
      "\u001b[0;31mFileNotFoundError\u001b[0m: [Errno 2] No such file or directory: 'figures/WeavingDTDiscrepATATAtria.pdf'"
     ]
    },
    {
     "data": {
      "image/png": "[encoded data removed]",
      "text/plain": [
       "<Figure size 500x500 with 1 Axes>"
      ]
     },
     "metadata": {},
     "output_type": "display_data"
    }
   ],
   "source": [
    "R2_s=pd.read_csv(\"/Users/pmzcwl/Documents/GitHub/Calibration/csv_files/DiscrepR2TrainNVaryDefinitiveAtria.csv\",header=None).values.reshape(7,len(nn),7,reps)\n",
    "\n",
    "plt.rcParams[\"figure.figsize\"] = (5,5)\n",
    "fontS=12\n",
    "\n",
    "\n",
    "o=5\n",
    "lim=2\n",
    "lim2=15\n",
    "y_lim=[0.5,1.01]\n",
    "\n",
    "plt.plot(nn[lim:lim2],R2_s.mean(axis=(2,3))[:,lim:lim2].T)\n",
    "#plt.ylim(y_lim)\n",
    "plt.ylabel('$R^2$',fontsize=fontS)\n",
    "plt.xlabel('training points',fontsize=fontS)\n",
    "plt.legend(['$g_1$','$g_{\\delta}:a=1$','$g_{\\delta}:a=a_r$','$g_{\\delta h}:a=a_h$','$g_{\\delta c}:\\{a_n\\}=\\{a_{nh}\\}$','$g_{\\delta c}:\\{a_n\\}=\\{a_{nl}\\}$','$g_{\\delta c}: \\{a_n\\}=\\{a_{I}\\}$'])\n",
    "for i in range(7):\n",
    "    plt.fill_between(nn[lim:lim2], R2_s.mean(axis=(2,3))[i,lim:lim2]+R2_s.std(axis=(2,3))[i,lim:lim2], R2_s.mean(axis=(2,3))[i,lim:lim2]-R2_s.std(axis=(2,3))[i,lim:lim2],alpha=0.4)\n",
    "    plt.xticks(fontsize=fontS)\n",
    "plt.yticks(fontsize=fontS)\n",
    "plt.savefig('figures/WeavingDTDiscrepATATAtria.pdf' )\n",
    "\n"
   ]
  },
  {
   "cell_type": "code",
   "execution_count": null,
   "id": "0d1b5c9b",
   "metadata": {},
   "outputs": [],
   "source": [
    "R2_s.mean(axis=(2,3))"
   ]
  },
  {
   "cell_type": "code",
   "execution_count": null,
   "id": "a78088e4",
   "metadata": {},
   "outputs": [],
   "source": [
    "R2_s"
   ]
  },
  {
   "cell_type": "code",
   "execution_count": null,
   "id": "ad4e7e62",
   "metadata": {
    "scrolled": false
   },
   "outputs": [],
   "source": [
    "o=1\n",
    "plt.plot(nn[lim:lim2],R2_s.mean(axis=(3))[6,lim:lim2])\n",
    "#plt.ylim(y_lim)\n",
    "plt.ylabel('$R^2$',fontsize=fontS)\n",
    "plt.xlabel('training points',fontsize=fontS)\n",
    "#plt.legend(['$g_1$','$g_{\\delta}:a=1$','$g_{\\delta}:a=a_r$','$g_{\\delta h}:a=a_h$','$g_{\\delta c}:\\{a_n\\}=\\{a_{nh}\\}$','$g_{\\delta c}:\\{a_n\\}=\\{a_{nl}\\}$','$g_{\\delta c}: \\{a_n\\}=\\{a_{I}\\}$'])\n",
    "plt.legend(ylabels)\n",
    "for i in range(7):\n",
    "    plt.fill_between(nn[lim:lim2], R2_s.mean(axis=3)[6,lim:lim2,i]+R2_s.std(axis=3)[6,lim:lim2,i], R2_s.mean(axis=3)[6,lim:lim2,i]-R2_s.std(axis=3)[6,lim:lim2,i],alpha=0.4)\n",
    "    plt.xticks(fontsize=fontS)\n",
    "plt.yticks(fontsize=fontS)\n",
    "plt.savefig('figures/WeavingDTDiscrepVTATAtria.pdf' )\n",
    "#plt.axhline(y = 0.8, color = 'r', linestyle = '-') \n",
    "R2_s[:,3].shape\n",
    "\n"
   ]
  },
  {
   "cell_type": "code",
   "execution_count": null,
   "id": "c38a4486",
   "metadata": {},
   "outputs": [],
   "source": [
    "R2_s.mean(axis=(3)).shape"
   ]
  },
  {
   "cell_type": "code",
   "execution_count": null,
   "id": "6683c97e",
   "metadata": {},
   "outputs": [],
   "source": [
    "R2_s.mean(axis=(3))[6,lim:lim2].T"
   ]
  },
  {
   "cell_type": "code",
   "execution_count": 195,
   "id": "eaa66ced",
   "metadata": {},
   "outputs": [
    {
     "data": {
      "text/plain": [
       "(7, 7, 5)"
      ]
     },
     "execution_count": 195,
     "metadata": {},
     "output_type": "execute_result"
    },
    {
     "data": {
      "image/png": "[encoded data removed]",
      "text/plain": [
       "<Figure size 500x500 with 1 Axes>"
      ]
     },
     "metadata": {},
     "output_type": "display_data"
    }
   ],
   "source": [
    "o=0\n",
    "plt.plot(nn[lim:lim2],R2_s.mean(axis=(3))[o,lim:lim2])\n",
    "#plt.ylim(y_lim)\n",
    "plt.ylabel('$R^2$',fontsize=fontS)\n",
    "plt.xlabel('training points',fontsize=fontS)\n",
    "#plt.legend(['$g_1$','$g_{\\delta}:a=1$','$g_{\\delta}:a=a_r$','$g_{\\delta h}:a=a_h$','$g_{\\delta c}:\\{a_n\\}=\\{a_{nh}\\}$','$g_{\\delta c}:\\{a_n\\}=\\{a_{nl}\\}$','$g_{\\delta c}: \\{a_n\\}=\\{a_{I}\\}$'])\n",
    "plt.legend(ylabels)\n",
    "for i in range(7):\n",
    "    plt.fill_between(nn[lim:lim2], R2_s.mean(axis=3)[o,lim:lim2,i]+R2_s.std(axis=3)[o,lim:lim2,i], R2_s.mean(axis=3)[o,lim:lim2,i]-R2_s.std(axis=3)[6,lim:lim2,i],alpha=0.4)\n",
    "    plt.xticks(fontsize=fontS)\n",
    "plt.yticks(fontsize=fontS)\n",
    "plt.savefig('WeavingDTDiscrepVTATAtria.pdf' )\n",
    "\n",
    "R2_s[:,3].shape"
   ]
  },
  {
   "cell_type": "code",
   "execution_count": 196,
   "id": "f8b734db",
   "metadata": {},
   "outputs": [
    {
     "ename": "FileNotFoundError",
     "evalue": "[Errno 2] No such file or directory: 'DiscrepR2TrainNVaryDefinitiveAtria.csv'",
     "output_type": "error",
     "traceback": [
      "\u001b[0;31m---------------------------------------------------------------------------\u001b[0m",
      "\u001b[0;31mFileNotFoundError\u001b[0m                         Traceback (most recent call last)",
      "Cell \u001b[0;32mIn[196], line 1\u001b[0m\n\u001b[0;32m----> 1\u001b[0m R2_s\u001b[38;5;241m=\u001b[39mpd\u001b[38;5;241m.\u001b[39mread_csv(\u001b[38;5;124m\"\u001b[39m\u001b[38;5;124mDiscrepR2TrainNVaryDefinitiveAtria.csv\u001b[39m\u001b[38;5;124m\"\u001b[39m,header\u001b[38;5;241m=\u001b[39m\u001b[38;5;28;01mNone\u001b[39;00m)\u001b[38;5;241m.\u001b[39mvalues\u001b[38;5;241m.\u001b[39mreshape(\u001b[38;5;241m7\u001b[39m,\u001b[38;5;28mlen\u001b[39m(nn),\u001b[38;5;241m7\u001b[39m,reps)\n\u001b[1;32m      3\u001b[0m plt\u001b[38;5;241m.\u001b[39mrcParams[\u001b[38;5;124m\"\u001b[39m\u001b[38;5;124mfigure.figsize\u001b[39m\u001b[38;5;124m\"\u001b[39m] \u001b[38;5;241m=\u001b[39m (\u001b[38;5;241m5\u001b[39m,\u001b[38;5;241m5\u001b[39m)\n\u001b[1;32m      4\u001b[0m fontS\u001b[38;5;241m=\u001b[39m\u001b[38;5;241m12\u001b[39m\n",
      "File \u001b[0;32m~/anaconda3/lib/python3.11/site-packages/pandas/io/parsers/readers.py:912\u001b[0m, in \u001b[0;36mread_csv\u001b[0;34m(filepath_or_buffer, sep, delimiter, header, names, index_col, usecols, dtype, engine, converters, true_values, false_values, skipinitialspace, skiprows, skipfooter, nrows, na_values, keep_default_na, na_filter, verbose, skip_blank_lines, parse_dates, infer_datetime_format, keep_date_col, date_parser, date_format, dayfirst, cache_dates, iterator, chunksize, compression, thousands, decimal, lineterminator, quotechar, quoting, doublequote, escapechar, comment, encoding, encoding_errors, dialect, on_bad_lines, delim_whitespace, low_memory, memory_map, float_precision, storage_options, dtype_backend)\u001b[0m\n\u001b[1;32m    899\u001b[0m kwds_defaults \u001b[38;5;241m=\u001b[39m _refine_defaults_read(\n\u001b[1;32m    900\u001b[0m     dialect,\n\u001b[1;32m    901\u001b[0m     delimiter,\n\u001b[0;32m   (...)\u001b[0m\n\u001b[1;32m    908\u001b[0m     dtype_backend\u001b[38;5;241m=\u001b[39mdtype_backend,\n\u001b[1;32m    909\u001b[0m )\n\u001b[1;32m    910\u001b[0m kwds\u001b[38;5;241m.\u001b[39mupdate(kwds_defaults)\n\u001b[0;32m--> 912\u001b[0m \u001b[38;5;28;01mreturn\u001b[39;00m _read(filepath_or_buffer, kwds)\n",
      "File \u001b[0;32m~/anaconda3/lib/python3.11/site-packages/pandas/io/parsers/readers.py:577\u001b[0m, in \u001b[0;36m_read\u001b[0;34m(filepath_or_buffer, kwds)\u001b[0m\n\u001b[1;32m    574\u001b[0m _validate_names(kwds\u001b[38;5;241m.\u001b[39mget(\u001b[38;5;124m\"\u001b[39m\u001b[38;5;124mnames\u001b[39m\u001b[38;5;124m\"\u001b[39m, \u001b[38;5;28;01mNone\u001b[39;00m))\n\u001b[1;32m    576\u001b[0m \u001b[38;5;66;03m# Create the parser.\u001b[39;00m\n\u001b[0;32m--> 577\u001b[0m parser \u001b[38;5;241m=\u001b[39m TextFileReader(filepath_or_buffer, \u001b[38;5;241m*\u001b[39m\u001b[38;5;241m*\u001b[39mkwds)\n\u001b[1;32m    579\u001b[0m \u001b[38;5;28;01mif\u001b[39;00m chunksize \u001b[38;5;129;01mor\u001b[39;00m iterator:\n\u001b[1;32m    580\u001b[0m     \u001b[38;5;28;01mreturn\u001b[39;00m parser\n",
      "File \u001b[0;32m~/anaconda3/lib/python3.11/site-packages/pandas/io/parsers/readers.py:1407\u001b[0m, in \u001b[0;36mTextFileReader.__init__\u001b[0;34m(self, f, engine, **kwds)\u001b[0m\n\u001b[1;32m   1404\u001b[0m     \u001b[38;5;28mself\u001b[39m\u001b[38;5;241m.\u001b[39moptions[\u001b[38;5;124m\"\u001b[39m\u001b[38;5;124mhas_index_names\u001b[39m\u001b[38;5;124m\"\u001b[39m] \u001b[38;5;241m=\u001b[39m kwds[\u001b[38;5;124m\"\u001b[39m\u001b[38;5;124mhas_index_names\u001b[39m\u001b[38;5;124m\"\u001b[39m]\n\u001b[1;32m   1406\u001b[0m \u001b[38;5;28mself\u001b[39m\u001b[38;5;241m.\u001b[39mhandles: IOHandles \u001b[38;5;241m|\u001b[39m \u001b[38;5;28;01mNone\u001b[39;00m \u001b[38;5;241m=\u001b[39m \u001b[38;5;28;01mNone\u001b[39;00m\n\u001b[0;32m-> 1407\u001b[0m \u001b[38;5;28mself\u001b[39m\u001b[38;5;241m.\u001b[39m_engine \u001b[38;5;241m=\u001b[39m \u001b[38;5;28mself\u001b[39m\u001b[38;5;241m.\u001b[39m_make_engine(f, \u001b[38;5;28mself\u001b[39m\u001b[38;5;241m.\u001b[39mengine)\n",
      "File \u001b[0;32m~/anaconda3/lib/python3.11/site-packages/pandas/io/parsers/readers.py:1661\u001b[0m, in \u001b[0;36mTextFileReader._make_engine\u001b[0;34m(self, f, engine)\u001b[0m\n\u001b[1;32m   1659\u001b[0m     \u001b[38;5;28;01mif\u001b[39;00m \u001b[38;5;124m\"\u001b[39m\u001b[38;5;124mb\u001b[39m\u001b[38;5;124m\"\u001b[39m \u001b[38;5;129;01mnot\u001b[39;00m \u001b[38;5;129;01min\u001b[39;00m mode:\n\u001b[1;32m   1660\u001b[0m         mode \u001b[38;5;241m+\u001b[39m\u001b[38;5;241m=\u001b[39m \u001b[38;5;124m\"\u001b[39m\u001b[38;5;124mb\u001b[39m\u001b[38;5;124m\"\u001b[39m\n\u001b[0;32m-> 1661\u001b[0m \u001b[38;5;28mself\u001b[39m\u001b[38;5;241m.\u001b[39mhandles \u001b[38;5;241m=\u001b[39m get_handle(\n\u001b[1;32m   1662\u001b[0m     f,\n\u001b[1;32m   1663\u001b[0m     mode,\n\u001b[1;32m   1664\u001b[0m     encoding\u001b[38;5;241m=\u001b[39m\u001b[38;5;28mself\u001b[39m\u001b[38;5;241m.\u001b[39moptions\u001b[38;5;241m.\u001b[39mget(\u001b[38;5;124m\"\u001b[39m\u001b[38;5;124mencoding\u001b[39m\u001b[38;5;124m\"\u001b[39m, \u001b[38;5;28;01mNone\u001b[39;00m),\n\u001b[1;32m   1665\u001b[0m     compression\u001b[38;5;241m=\u001b[39m\u001b[38;5;28mself\u001b[39m\u001b[38;5;241m.\u001b[39moptions\u001b[38;5;241m.\u001b[39mget(\u001b[38;5;124m\"\u001b[39m\u001b[38;5;124mcompression\u001b[39m\u001b[38;5;124m\"\u001b[39m, \u001b[38;5;28;01mNone\u001b[39;00m),\n\u001b[1;32m   1666\u001b[0m     memory_map\u001b[38;5;241m=\u001b[39m\u001b[38;5;28mself\u001b[39m\u001b[38;5;241m.\u001b[39moptions\u001b[38;5;241m.\u001b[39mget(\u001b[38;5;124m\"\u001b[39m\u001b[38;5;124mmemory_map\u001b[39m\u001b[38;5;124m\"\u001b[39m, \u001b[38;5;28;01mFalse\u001b[39;00m),\n\u001b[1;32m   1667\u001b[0m     is_text\u001b[38;5;241m=\u001b[39mis_text,\n\u001b[1;32m   1668\u001b[0m     errors\u001b[38;5;241m=\u001b[39m\u001b[38;5;28mself\u001b[39m\u001b[38;5;241m.\u001b[39moptions\u001b[38;5;241m.\u001b[39mget(\u001b[38;5;124m\"\u001b[39m\u001b[38;5;124mencoding_errors\u001b[39m\u001b[38;5;124m\"\u001b[39m, \u001b[38;5;124m\"\u001b[39m\u001b[38;5;124mstrict\u001b[39m\u001b[38;5;124m\"\u001b[39m),\n\u001b[1;32m   1669\u001b[0m     storage_options\u001b[38;5;241m=\u001b[39m\u001b[38;5;28mself\u001b[39m\u001b[38;5;241m.\u001b[39moptions\u001b[38;5;241m.\u001b[39mget(\u001b[38;5;124m\"\u001b[39m\u001b[38;5;124mstorage_options\u001b[39m\u001b[38;5;124m\"\u001b[39m, \u001b[38;5;28;01mNone\u001b[39;00m),\n\u001b[1;32m   1670\u001b[0m )\n\u001b[1;32m   1671\u001b[0m \u001b[38;5;28;01massert\u001b[39;00m \u001b[38;5;28mself\u001b[39m\u001b[38;5;241m.\u001b[39mhandles \u001b[38;5;129;01mis\u001b[39;00m \u001b[38;5;129;01mnot\u001b[39;00m \u001b[38;5;28;01mNone\u001b[39;00m\n\u001b[1;32m   1672\u001b[0m f \u001b[38;5;241m=\u001b[39m \u001b[38;5;28mself\u001b[39m\u001b[38;5;241m.\u001b[39mhandles\u001b[38;5;241m.\u001b[39mhandle\n",
      "File \u001b[0;32m~/anaconda3/lib/python3.11/site-packages/pandas/io/common.py:859\u001b[0m, in \u001b[0;36mget_handle\u001b[0;34m(path_or_buf, mode, encoding, compression, memory_map, is_text, errors, storage_options)\u001b[0m\n\u001b[1;32m    854\u001b[0m \u001b[38;5;28;01melif\u001b[39;00m \u001b[38;5;28misinstance\u001b[39m(handle, \u001b[38;5;28mstr\u001b[39m):\n\u001b[1;32m    855\u001b[0m     \u001b[38;5;66;03m# Check whether the filename is to be opened in binary mode.\u001b[39;00m\n\u001b[1;32m    856\u001b[0m     \u001b[38;5;66;03m# Binary mode does not support 'encoding' and 'newline'.\u001b[39;00m\n\u001b[1;32m    857\u001b[0m     \u001b[38;5;28;01mif\u001b[39;00m ioargs\u001b[38;5;241m.\u001b[39mencoding \u001b[38;5;129;01mand\u001b[39;00m \u001b[38;5;124m\"\u001b[39m\u001b[38;5;124mb\u001b[39m\u001b[38;5;124m\"\u001b[39m \u001b[38;5;129;01mnot\u001b[39;00m \u001b[38;5;129;01min\u001b[39;00m ioargs\u001b[38;5;241m.\u001b[39mmode:\n\u001b[1;32m    858\u001b[0m         \u001b[38;5;66;03m# Encoding\u001b[39;00m\n\u001b[0;32m--> 859\u001b[0m         handle \u001b[38;5;241m=\u001b[39m \u001b[38;5;28mopen\u001b[39m(\n\u001b[1;32m    860\u001b[0m             handle,\n\u001b[1;32m    861\u001b[0m             ioargs\u001b[38;5;241m.\u001b[39mmode,\n\u001b[1;32m    862\u001b[0m             encoding\u001b[38;5;241m=\u001b[39mioargs\u001b[38;5;241m.\u001b[39mencoding,\n\u001b[1;32m    863\u001b[0m             errors\u001b[38;5;241m=\u001b[39merrors,\n\u001b[1;32m    864\u001b[0m             newline\u001b[38;5;241m=\u001b[39m\u001b[38;5;124m\"\u001b[39m\u001b[38;5;124m\"\u001b[39m,\n\u001b[1;32m    865\u001b[0m         )\n\u001b[1;32m    866\u001b[0m     \u001b[38;5;28;01melse\u001b[39;00m:\n\u001b[1;32m    867\u001b[0m         \u001b[38;5;66;03m# Binary mode\u001b[39;00m\n\u001b[1;32m    868\u001b[0m         handle \u001b[38;5;241m=\u001b[39m \u001b[38;5;28mopen\u001b[39m(handle, ioargs\u001b[38;5;241m.\u001b[39mmode)\n",
      "\u001b[0;31mFileNotFoundError\u001b[0m: [Errno 2] No such file or directory: 'DiscrepR2TrainNVaryDefinitiveAtria.csv'"
     ]
    }
   ],
   "source": [
    "R2_s=pd.read_csv(\"DiscrepR2TrainNVaryDefinitiveAtria.csv\",header=None).values.reshape(7,len(nn),7,reps)\n",
    "\n",
    "plt.rcParams[\"figure.figsize\"] = (5,5)\n",
    "fontS=12\n",
    "\n",
    "\n",
    "o=0\n",
    "lim=10\n",
    "lim2=15\n",
    "y_lim=[0.987,1.001]\n",
    "\n",
    "plt.plot(nn[lim:lim2],R2_s.mean(axis=3)[:,lim:lim2,o].T)\n",
    "#plt.ylim(y_lim)\n",
    "plt.ylabel('$R^2$',fontsize=fontS)\n",
    "plt.xlabel('training points',fontsize=fontS)\n",
    "plt.legend(['$g_1$','$g_{\\delta}:a=1$','$g_{\\delta}:a=a_r$','$g_{\\delta h}:a=a_h$','$g_{\\delta c}:\\{a_n\\}=\\{a_{nh}\\}$','$g_{\\delta c}:\\{a_n\\}=\\{a_{nl}\\}$','$g_{\\delta c}: \\{a_n\\}=\\{a_{I}\\}$'])\n",
    "for i in range(7):\n",
    "    plt.fill_between(nn[lim:lim2], R2_s.mean(axis=3)[i,lim:lim2,o]+R2_s.std(axis=3)[i,lim:lim2,o], R2_s.mean(axis=3)[i,lim:lim2,o]-R2_s.std(axis=3)[i,lim:lim2,o],alpha=0.4)\n",
    "    plt.xticks(fontsize=fontS)\n",
    "plt.yticks(fontsize=fontS)\n",
    "plt.savefig('WeavingDTDiscrepATATHighAtria.pdf' )\n",
    "\n"
   ]
  },
  {
   "cell_type": "code",
   "execution_count": 197,
   "id": "9c12c7c5",
   "metadata": {},
   "outputs": [
    {
     "data": {
      "text/plain": [
       "(0.5, 1.01)"
      ]
     },
     "execution_count": 197,
     "metadata": {},
     "output_type": "execute_result"
    },
    {
     "data": {
      "image/png": "[encoded data removed]",
      "text/plain": [
       "<Figure size 500x500 with 1 Axes>"
      ]
     },
     "metadata": {},
     "output_type": "display_data"
    }
   ],
   "source": [
    "plt.plot(R2_s.mean(axis=3)[:,lim:lim2,o].T[:,6])\n",
    "plt.axhline(y = 0.9985, color = 'r', linestyle = '-') \n",
    "plt.ylim(y_lim)"
   ]
  },
  {
   "cell_type": "code",
   "execution_count": 198,
   "id": "e05b1b38",
   "metadata": {
    "scrolled": true
   },
   "outputs": [
    {
     "data": {
      "text/plain": [
       "(7, 7, 5)"
      ]
     },
     "execution_count": 198,
     "metadata": {},
     "output_type": "execute_result"
    },
    {
     "data": {
      "image/png": "[encoded data removed]",
      "text/plain": [
       "<Figure size 500x500 with 1 Axes>"
      ]
     },
     "metadata": {},
     "output_type": "display_data"
    }
   ],
   "source": [
    "o=1\n",
    "plt.plot(nn[lim:lim2],R2_s.mean(axis=3)[:,lim:lim2,o].T)\n",
    "#plt.ylim(y_lim)\n",
    "plt.ylabel('$R^2$',fontsize=fontS)\n",
    "plt.xlabel('training points',fontsize=fontS)\n",
    "plt.legend(['$g_1$','$g_{\\delta}:a=1$','$g_{\\delta}:a=a_r$','$g_{\\delta h}:a=a_h$','$g_{\\delta c}:\\{a_n\\}=\\{a_{nh}\\}$','$g_{\\delta c}:\\{a_n\\}=\\{a_{nl}\\}$','$g_{\\delta c}: \\{a_n\\}=\\{a_{I}\\}$'])\n",
    "for i in range(7):\n",
    "    plt.fill_between(nn[lim:lim2], R2_s.mean(axis=3)[i,lim:lim2,o]+R2_s.std(axis=3)[i,lim:lim2,o], R2_s.mean(axis=3)[i,lim:lim2,o]-R2_s.std(axis=3)[i,lim:lim2,o],alpha=0.4)\n",
    "    plt.xticks(fontsize=fontS)\n",
    "plt.yticks(fontsize=fontS)\n",
    "plt.savefig('WeavingDTDiscrepVTATHighAtria.pdf' )\n",
    "\n",
    "R2_s[:,3].shape\n",
    "\n"
   ]
  },
  {
   "cell_type": "code",
   "execution_count": 199,
   "id": "619a19a5",
   "metadata": {},
   "outputs": [],
   "source": [
    "tpr=6"
   ]
  },
  {
   "cell_type": "code",
   "execution_count": 200,
   "id": "f6798c7a",
   "metadata": {},
   "outputs": [
    {
     "data": {
      "text/plain": [
       "40"
      ]
     },
     "execution_count": 200,
     "metadata": {},
     "output_type": "execute_result"
    }
   ],
   "source": [
    "nn[tpr]"
   ]
  },
  {
   "cell_type": "code",
   "execution_count": null,
   "id": "21d60684",
   "metadata": {},
   "outputs": [],
   "source": []
  },
  {
   "cell_type": "code",
   "execution_count": 201,
   "id": "f9325044",
   "metadata": {},
   "outputs": [
    {
     "data": {
      "text/html": [
       "<style type=\"text/css\">\n",
       "#T_66a2a_row0_col0, #T_66a2a_row0_col1, #T_66a2a_row0_col2, #T_66a2a_row0_col3, #T_66a2a_row0_col4, #T_66a2a_row0_col5, #T_66a2a_row0_col6 {\n",
       "  background-color: pink;\n",
       "}\n",
       "#T_66a2a_row4_col0, #T_66a2a_row4_col3, #T_66a2a_row4_col6, #T_66a2a_row6_col1, #T_66a2a_row6_col2, #T_66a2a_row6_col4, #T_66a2a_row6_col5 {\n",
       "  background-color: lightgreen;\n",
       "}\n",
       "</style>\n",
       "<table id=\"T_66a2a\">\n",
       "  <thead>\n",
       "    <tr>\n",
       "      <th class=\"blank level0\" >&nbsp;</th>\n",
       "      <th id=\"T_66a2a_level0_col0\" class=\"col_heading level0 col0\" >0</th>\n",
       "      <th id=\"T_66a2a_level0_col1\" class=\"col_heading level0 col1\" >1</th>\n",
       "      <th id=\"T_66a2a_level0_col2\" class=\"col_heading level0 col2\" >2</th>\n",
       "      <th id=\"T_66a2a_level0_col3\" class=\"col_heading level0 col3\" >3</th>\n",
       "      <th id=\"T_66a2a_level0_col4\" class=\"col_heading level0 col4\" >4</th>\n",
       "      <th id=\"T_66a2a_level0_col5\" class=\"col_heading level0 col5\" >5</th>\n",
       "      <th id=\"T_66a2a_level0_col6\" class=\"col_heading level0 col6\" >6</th>\n",
       "    </tr>\n",
       "  </thead>\n",
       "  <tbody>\n",
       "    <tr>\n",
       "      <th id=\"T_66a2a_level0_row0\" class=\"row_heading level0 row0\" >\\$g_1\\$</th>\n",
       "      <td id=\"T_66a2a_row0_col0\" class=\"data row0 col0\" >0.699100</td>\n",
       "      <td id=\"T_66a2a_row0_col1\" class=\"data row0 col1\" >0.677863</td>\n",
       "      <td id=\"T_66a2a_row0_col2\" class=\"data row0 col2\" >0.446374</td>\n",
       "      <td id=\"T_66a2a_row0_col3\" class=\"data row0 col3\" >0.650305</td>\n",
       "      <td id=\"T_66a2a_row0_col4\" class=\"data row0 col4\" >0.637239</td>\n",
       "      <td id=\"T_66a2a_row0_col5\" class=\"data row0 col5\" >0.567717</td>\n",
       "      <td id=\"T_66a2a_row0_col6\" class=\"data row0 col6\" >0.865924</td>\n",
       "    </tr>\n",
       "    <tr>\n",
       "      <th id=\"T_66a2a_level0_row1\" class=\"row_heading level0 row1\" >\\$g_{\\delta}:a=1\\$</th>\n",
       "      <td id=\"T_66a2a_row1_col0\" class=\"data row1 col0\" >0.713102</td>\n",
       "      <td id=\"T_66a2a_row1_col1\" class=\"data row1 col1\" >0.698292</td>\n",
       "      <td id=\"T_66a2a_row1_col2\" class=\"data row1 col2\" >0.447834</td>\n",
       "      <td id=\"T_66a2a_row1_col3\" class=\"data row1 col3\" >0.760149</td>\n",
       "      <td id=\"T_66a2a_row1_col4\" class=\"data row1 col4\" >0.703648</td>\n",
       "      <td id=\"T_66a2a_row1_col5\" class=\"data row1 col5\" >0.578490</td>\n",
       "      <td id=\"T_66a2a_row1_col6\" class=\"data row1 col6\" >0.914915</td>\n",
       "    </tr>\n",
       "    <tr>\n",
       "      <th id=\"T_66a2a_level0_row2\" class=\"row_heading level0 row2\" >\\$g_{\\delta}:a=a_r\\$</th>\n",
       "      <td id=\"T_66a2a_row2_col0\" class=\"data row2 col0\" >0.737087</td>\n",
       "      <td id=\"T_66a2a_row2_col1\" class=\"data row2 col1\" >0.766465</td>\n",
       "      <td id=\"T_66a2a_row2_col2\" class=\"data row2 col2\" >0.508705</td>\n",
       "      <td id=\"T_66a2a_row2_col3\" class=\"data row2 col3\" >0.674127</td>\n",
       "      <td id=\"T_66a2a_row2_col4\" class=\"data row2 col4\" >0.676834</td>\n",
       "      <td id=\"T_66a2a_row2_col5\" class=\"data row2 col5\" >0.641980</td>\n",
       "      <td id=\"T_66a2a_row2_col6\" class=\"data row2 col6\" >0.886406</td>\n",
       "    </tr>\n",
       "    <tr>\n",
       "      <th id=\"T_66a2a_level0_row3\" class=\"row_heading level0 row3\" >\\$g_{\\delta h}:a=a_h\\$</th>\n",
       "      <td id=\"T_66a2a_row3_col0\" class=\"data row3 col0\" >0.771974</td>\n",
       "      <td id=\"T_66a2a_row3_col1\" class=\"data row3 col1\" >0.774780</td>\n",
       "      <td id=\"T_66a2a_row3_col2\" class=\"data row3 col2\" >0.572802</td>\n",
       "      <td id=\"T_66a2a_row3_col3\" class=\"data row3 col3\" >0.811960</td>\n",
       "      <td id=\"T_66a2a_row3_col4\" class=\"data row3 col4\" >0.731376</td>\n",
       "      <td id=\"T_66a2a_row3_col5\" class=\"data row3 col5\" >0.672275</td>\n",
       "      <td id=\"T_66a2a_row3_col6\" class=\"data row3 col6\" >0.929230</td>\n",
       "    </tr>\n",
       "    <tr>\n",
       "      <th id=\"T_66a2a_level0_row4\" class=\"row_heading level0 row4\" >\\$g_{\\delta c}:\\{a_n\\}=\\{a_{nh}\\}\\$</th>\n",
       "      <td id=\"T_66a2a_row4_col0\" class=\"data row4 col0\" >0.843624</td>\n",
       "      <td id=\"T_66a2a_row4_col1\" class=\"data row4 col1\" >0.825367</td>\n",
       "      <td id=\"T_66a2a_row4_col2\" class=\"data row4 col2\" >0.607447</td>\n",
       "      <td id=\"T_66a2a_row4_col3\" class=\"data row4 col3\" >0.857285</td>\n",
       "      <td id=\"T_66a2a_row4_col4\" class=\"data row4 col4\" >0.810249</td>\n",
       "      <td id=\"T_66a2a_row4_col5\" class=\"data row4 col5\" >0.746907</td>\n",
       "      <td id=\"T_66a2a_row4_col6\" class=\"data row4 col6\" >0.942751</td>\n",
       "    </tr>\n",
       "    <tr>\n",
       "      <th id=\"T_66a2a_level0_row5\" class=\"row_heading level0 row5\" >\\$g_{\\delta c}:\\{a_n\\}=\\{a_{nl}\\}\\$</th>\n",
       "      <td id=\"T_66a2a_row5_col0\" class=\"data row5 col0\" >0.809599</td>\n",
       "      <td id=\"T_66a2a_row5_col1\" class=\"data row5 col1\" >0.794637</td>\n",
       "      <td id=\"T_66a2a_row5_col2\" class=\"data row5 col2\" >0.613641</td>\n",
       "      <td id=\"T_66a2a_row5_col3\" class=\"data row5 col3\" >0.804530</td>\n",
       "      <td id=\"T_66a2a_row5_col4\" class=\"data row5 col4\" >0.782988</td>\n",
       "      <td id=\"T_66a2a_row5_col5\" class=\"data row5 col5\" >0.706968</td>\n",
       "      <td id=\"T_66a2a_row5_col6\" class=\"data row5 col6\" >0.938090</td>\n",
       "    </tr>\n",
       "    <tr>\n",
       "      <th id=\"T_66a2a_level0_row6\" class=\"row_heading level0 row6\" >\\$g_{\\delta c}: \\{a_n\\}=\\{a_{I}\\}\\$</th>\n",
       "      <td id=\"T_66a2a_row6_col0\" class=\"data row6 col0\" >0.842302</td>\n",
       "      <td id=\"T_66a2a_row6_col1\" class=\"data row6 col1\" >0.836796</td>\n",
       "      <td id=\"T_66a2a_row6_col2\" class=\"data row6 col2\" >0.689419</td>\n",
       "      <td id=\"T_66a2a_row6_col3\" class=\"data row6 col3\" >0.853287</td>\n",
       "      <td id=\"T_66a2a_row6_col4\" class=\"data row6 col4\" >0.812975</td>\n",
       "      <td id=\"T_66a2a_row6_col5\" class=\"data row6 col5\" >0.755632</td>\n",
       "      <td id=\"T_66a2a_row6_col6\" class=\"data row6 col6\" >0.941518</td>\n",
       "    </tr>\n",
       "  </tbody>\n",
       "</table>\n"
      ],
      "text/plain": [
       "<pandas.io.formats.style.Styler at 0x13ce9a290>"
      ]
     },
     "execution_count": 201,
     "metadata": {},
     "output_type": "execute_result"
    }
   ],
   "source": [
    "plt.rcParams[\"figure.figsize\"] = (2,2)\n",
    "\n",
    "nn\n",
    "\n",
    "results=pd.DataFrame((R2_s[:,tpr ].mean(axis=2)))\n",
    "\n",
    "results.index=['\\$g_1\\$','\\$g_{\\delta}:a=1\\$','\\$g_{\\delta}:a=a_r\\$','\\$g_{\\delta h}:a=a_h\\$','\\$g_{\\delta c}:\\{a_n\\}=\\{a_{nh}\\}\\$','\\$g_{\\delta c}:\\{a_n\\}=\\{a_{nl}\\}\\$','\\$g_{\\delta c}: \\{a_n\\}=\\{a_{I}\\}\\$']\n",
    "\n",
    "#results.columns=['A_TAT','V_TAT']\n",
    "\n",
    "results.style.highlight_min(color = 'pink', axis = 0).highlight_max(color = 'lightgreen', axis = 0)"
   ]
  },
  {
   "cell_type": "code",
   "execution_count": 202,
   "id": "1268fc38",
   "metadata": {},
   "outputs": [],
   "source": [
    "ands=pd.DataFrame(['&','&','&','&','&','&','&'])"
   ]
  },
  {
   "cell_type": "code",
   "execution_count": 203,
   "id": "f3224ff8",
   "metadata": {},
   "outputs": [],
   "source": [
    "results = pd.DataFrame((R2_s[:,i ].mean(axis=2)))"
   ]
  },
  {
   "cell_type": "code",
   "execution_count": 204,
   "id": "cd76868b",
   "metadata": {},
   "outputs": [],
   "source": [
    "results=pd.concat([ands,results.iloc[:,0],ands,results.iloc[:,1]],axis=1)"
   ]
  },
  {
   "cell_type": "code",
   "execution_count": 205,
   "id": "12f5a6c9",
   "metadata": {},
   "outputs": [],
   "source": [
    "results = pd.DataFrame((R2_s[:,2 ].mean(axis=2)))\n",
    "results=pd.concat([ands,results.iloc[:,0],ands,results.iloc[:,1]],axis=1)\n",
    "for i in [6,10]:\n",
    "    results1=pd.DataFrame((R2_s[:,i ].mean(axis=2)))\n",
    "    results=pd.concat([results,ands,results1.iloc[:,0],ands,results1.iloc[:,1]],axis=1)\n",
    "results.index=['\\$g_1\\$','\\$g_{\\delta}:a=1\\$','\\$g_{\\delta}:a=a_r\\$','\\$g_{\\delta h}:a=a_h\\$','\\$g_{\\delta c}:\\{a_n\\}=\\{a_{nh}\\}\\$','\\$g_{\\delta c}:\\{a_n\\}=\\{a_{nl}\\}\\$','\\$g_{\\delta c}: \\{a_n\\}=\\{a_{I}\\}\\$']\n",
    "    "
   ]
  },
  {
   "cell_type": "code",
   "execution_count": 206,
   "id": "683a20e9",
   "metadata": {},
   "outputs": [
    {
     "data": {
      "text/html": [
       "<div>\n",
       "<style scoped>\n",
       "    .dataframe tbody tr th:only-of-type {\n",
       "        vertical-align: middle;\n",
       "    }\n",
       "\n",
       "    .dataframe tbody tr th {\n",
       "        vertical-align: top;\n",
       "    }\n",
       "\n",
       "    .dataframe thead th {\n",
       "        text-align: right;\n",
       "    }\n",
       "</style>\n",
       "<table border=\"1\" class=\"dataframe\">\n",
       "  <thead>\n",
       "    <tr style=\"text-align: right;\">\n",
       "      <th></th>\n",
       "      <th>0</th>\n",
       "      <th>0</th>\n",
       "      <th>0</th>\n",
       "      <th>1</th>\n",
       "      <th>0</th>\n",
       "      <th>0</th>\n",
       "      <th>0</th>\n",
       "      <th>1</th>\n",
       "      <th>0</th>\n",
       "      <th>0</th>\n",
       "      <th>0</th>\n",
       "      <th>1</th>\n",
       "    </tr>\n",
       "  </thead>\n",
       "  <tbody>\n",
       "    <tr>\n",
       "      <th>\\$g_1\\$</th>\n",
       "      <td>&amp;</td>\n",
       "      <td>0.438</td>\n",
       "      <td>&amp;</td>\n",
       "      <td>0.352</td>\n",
       "      <td>&amp;</td>\n",
       "      <td>0.699</td>\n",
       "      <td>&amp;</td>\n",
       "      <td>0.678</td>\n",
       "      <td>&amp;</td>\n",
       "      <td>0.784</td>\n",
       "      <td>&amp;</td>\n",
       "      <td>0.772</td>\n",
       "    </tr>\n",
       "    <tr>\n",
       "      <th>\\$g_{\\delta}:a=1\\$</th>\n",
       "      <td>&amp;</td>\n",
       "      <td>0.628</td>\n",
       "      <td>&amp;</td>\n",
       "      <td>0.619</td>\n",
       "      <td>&amp;</td>\n",
       "      <td>0.713</td>\n",
       "      <td>&amp;</td>\n",
       "      <td>0.698</td>\n",
       "      <td>&amp;</td>\n",
       "      <td>0.813</td>\n",
       "      <td>&amp;</td>\n",
       "      <td>0.763</td>\n",
       "    </tr>\n",
       "    <tr>\n",
       "      <th>\\$g_{\\delta}:a=a_r\\$</th>\n",
       "      <td>&amp;</td>\n",
       "      <td>0.571</td>\n",
       "      <td>&amp;</td>\n",
       "      <td>0.541</td>\n",
       "      <td>&amp;</td>\n",
       "      <td>0.737</td>\n",
       "      <td>&amp;</td>\n",
       "      <td>0.766</td>\n",
       "      <td>&amp;</td>\n",
       "      <td>0.749</td>\n",
       "      <td>&amp;</td>\n",
       "      <td>0.727</td>\n",
       "    </tr>\n",
       "    <tr>\n",
       "      <th>\\$g_{\\delta h}:a=a_h\\$</th>\n",
       "      <td>&amp;</td>\n",
       "      <td>0.678</td>\n",
       "      <td>&amp;</td>\n",
       "      <td>0.632</td>\n",
       "      <td>&amp;</td>\n",
       "      <td>0.772</td>\n",
       "      <td>&amp;</td>\n",
       "      <td>0.775</td>\n",
       "      <td>&amp;</td>\n",
       "      <td>0.835</td>\n",
       "      <td>&amp;</td>\n",
       "      <td>0.814</td>\n",
       "    </tr>\n",
       "    <tr>\n",
       "      <th>\\$g_{\\delta c}:\\{a_n\\}=\\{a_{nh}\\}\\$</th>\n",
       "      <td>&amp;</td>\n",
       "      <td>0.736</td>\n",
       "      <td>&amp;</td>\n",
       "      <td>0.733</td>\n",
       "      <td>&amp;</td>\n",
       "      <td>0.844</td>\n",
       "      <td>&amp;</td>\n",
       "      <td>0.825</td>\n",
       "      <td>&amp;</td>\n",
       "      <td>0.891</td>\n",
       "      <td>&amp;</td>\n",
       "      <td>0.868</td>\n",
       "    </tr>\n",
       "    <tr>\n",
       "      <th>\\$g_{\\delta c}:\\{a_n\\}=\\{a_{nl}\\}\\$</th>\n",
       "      <td>&amp;</td>\n",
       "      <td>0.651</td>\n",
       "      <td>&amp;</td>\n",
       "      <td>0.593</td>\n",
       "      <td>&amp;</td>\n",
       "      <td>0.810</td>\n",
       "      <td>&amp;</td>\n",
       "      <td>0.795</td>\n",
       "      <td>&amp;</td>\n",
       "      <td>0.867</td>\n",
       "      <td>&amp;</td>\n",
       "      <td>0.859</td>\n",
       "    </tr>\n",
       "    <tr>\n",
       "      <th>\\$g_{\\delta c}: \\{a_n\\}=\\{a_{I}\\}\\$</th>\n",
       "      <td>&amp;</td>\n",
       "      <td>0.765</td>\n",
       "      <td>&amp;</td>\n",
       "      <td>0.731</td>\n",
       "      <td>&amp;</td>\n",
       "      <td>0.842</td>\n",
       "      <td>&amp;</td>\n",
       "      <td>0.837</td>\n",
       "      <td>&amp;</td>\n",
       "      <td>0.889</td>\n",
       "      <td>&amp;</td>\n",
       "      <td>0.862</td>\n",
       "    </tr>\n",
       "  </tbody>\n",
       "</table>\n",
       "</div>"
      ],
      "text/plain": [
       "                                     0      0  0      1  0      0  0      1  \\\n",
       "\\$g_1\\$                              &  0.438  &  0.352  &  0.699  &  0.678   \n",
       "\\$g_{\\delta}:a=1\\$                   &  0.628  &  0.619  &  0.713  &  0.698   \n",
       "\\$g_{\\delta}:a=a_r\\$                 &  0.571  &  0.541  &  0.737  &  0.766   \n",
       "\\$g_{\\delta h}:a=a_h\\$               &  0.678  &  0.632  &  0.772  &  0.775   \n",
       "\\$g_{\\delta c}:\\{a_n\\}=\\{a_{nh}\\}\\$  &  0.736  &  0.733  &  0.844  &  0.825   \n",
       "\\$g_{\\delta c}:\\{a_n\\}=\\{a_{nl}\\}\\$  &  0.651  &  0.593  &  0.810  &  0.795   \n",
       "\\$g_{\\delta c}: \\{a_n\\}=\\{a_{I}\\}\\$  &  0.765  &  0.731  &  0.842  &  0.837   \n",
       "\n",
       "                                     0      0  0      1  \n",
       "\\$g_1\\$                              &  0.784  &  0.772  \n",
       "\\$g_{\\delta}:a=1\\$                   &  0.813  &  0.763  \n",
       "\\$g_{\\delta}:a=a_r\\$                 &  0.749  &  0.727  \n",
       "\\$g_{\\delta h}:a=a_h\\$               &  0.835  &  0.814  \n",
       "\\$g_{\\delta c}:\\{a_n\\}=\\{a_{nh}\\}\\$  &  0.891  &  0.868  \n",
       "\\$g_{\\delta c}:\\{a_n\\}=\\{a_{nl}\\}\\$  &  0.867  &  0.859  \n",
       "\\$g_{\\delta c}: \\{a_n\\}=\\{a_{I}\\}\\$  &  0.889  &  0.862  "
      ]
     },
     "execution_count": 206,
     "metadata": {},
     "output_type": "execute_result"
    }
   ],
   "source": [
    "results.round(3)"
   ]
  },
  {
   "cell_type": "code",
   "execution_count": 207,
   "id": "766d9f55",
   "metadata": {},
   "outputs": [],
   "source": [
    "t=np.array([[0.9958, 0.9964, 0.9958, 0.9946, 0.9967],[0.9920, 0.9889, 0.9895, 0.9912, 0.9888]])"
   ]
  },
  {
   "cell_type": "code",
   "execution_count": 208,
   "id": "8fc22213",
   "metadata": {
    "scrolled": true
   },
   "outputs": [
    {
     "data": {
      "text/plain": [
       "array([0.99586, 0.99008])"
      ]
     },
     "execution_count": 208,
     "metadata": {},
     "output_type": "execute_result"
    }
   ],
   "source": [
    "t.mean(axis=1)"
   ]
  },
  {
   "cell_type": "code",
   "execution_count": 209,
   "id": "be4b02b9",
   "metadata": {},
   "outputs": [
    {
     "data": {
      "text/plain": [
       "120"
      ]
     },
     "execution_count": 209,
     "metadata": {},
     "output_type": "execute_result"
    }
   ],
   "source": [
    "nn[13]"
   ]
  },
  {
   "cell_type": "code",
   "execution_count": 210,
   "id": "00235ef7",
   "metadata": {},
   "outputs": [],
   "source": [
    "results = pd.DataFrame((R2_s[:,12 ].mean(axis=2)))\n",
    "results=pd.concat([ands,results.iloc[:,0],ands,results.iloc[:,1]],axis=1)\n",
    "for i in [13,14]:\n",
    "    results1=pd.DataFrame((R2_s[:,i ].mean(axis=2)))\n",
    "    results=pd.concat([results,ands,results1.iloc[:,0],ands,results1.iloc[:,1]],axis=1)\n",
    "results.index=['\\$g_1\\$','\\$g_{\\delta}:a=1\\$','\\$g_{\\delta}:a=a_r\\$','\\$g_{\\delta h}:a=a_h\\$','\\$g_{\\delta c}:\\{a_n\\}=\\{a_{nh}\\}\\$','\\$g_{\\delta c}:\\{a_n\\}=\\{a_{nl}\\}\\$','\\$g_{\\delta c}: \\{a_n\\}=\\{a_{I}\\}\\$']\n",
    "    "
   ]
  },
  {
   "cell_type": "code",
   "execution_count": 211,
   "id": "e7df35bd",
   "metadata": {},
   "outputs": [
    {
     "ename": "SyntaxError",
     "evalue": "invalid syntax (411199783.py, line 1)",
     "output_type": "error",
     "traceback": [
      "\u001b[0;36m  Cell \u001b[0;32mIn[211], line 1\u001b[0;36m\u001b[0m\n\u001b[0;31m    0.884 0.876 0.743 0.889 0.836 0.781 0.945\u001b[0m\n\u001b[0m          ^\u001b[0m\n\u001b[0;31mSyntaxError\u001b[0m\u001b[0;31m:\u001b[0m invalid syntax\n"
     ]
    }
   ],
   "source": [
    "0.884 0.876 0.743 0.889 0.836 0.781 0.945"
   ]
  },
  {
   "cell_type": "code",
   "execution_count": null,
   "id": "eda54c34",
   "metadata": {},
   "outputs": [],
   "source": []
  },
  {
   "cell_type": "code",
   "execution_count": 212,
   "id": "7d9860d1",
   "metadata": {
    "scrolled": true
   },
   "outputs": [
    {
     "data": {
      "text/html": [
       "<div>\n",
       "<style scoped>\n",
       "    .dataframe tbody tr th:only-of-type {\n",
       "        vertical-align: middle;\n",
       "    }\n",
       "\n",
       "    .dataframe tbody tr th {\n",
       "        vertical-align: top;\n",
       "    }\n",
       "\n",
       "    .dataframe thead th {\n",
       "        text-align: right;\n",
       "    }\n",
       "</style>\n",
       "<table border=\"1\" class=\"dataframe\">\n",
       "  <thead>\n",
       "    <tr style=\"text-align: right;\">\n",
       "      <th></th>\n",
       "      <th>0</th>\n",
       "      <th>0</th>\n",
       "      <th>0</th>\n",
       "      <th>1</th>\n",
       "      <th>0</th>\n",
       "      <th>0</th>\n",
       "      <th>0</th>\n",
       "      <th>1</th>\n",
       "      <th>0</th>\n",
       "      <th>0</th>\n",
       "      <th>0</th>\n",
       "      <th>1</th>\n",
       "    </tr>\n",
       "  </thead>\n",
       "  <tbody>\n",
       "    <tr>\n",
       "      <th>\\$g_1\\$</th>\n",
       "      <td>&amp;</td>\n",
       "      <td>0.842</td>\n",
       "      <td>&amp;</td>\n",
       "      <td>0.848</td>\n",
       "      <td>&amp;</td>\n",
       "      <td>0.867</td>\n",
       "      <td>&amp;</td>\n",
       "      <td>0.866</td>\n",
       "      <td>&amp;</td>\n",
       "      <td>0.884</td>\n",
       "      <td>&amp;</td>\n",
       "      <td>0.876</td>\n",
       "    </tr>\n",
       "    <tr>\n",
       "      <th>\\$g_{\\delta}:a=1\\$</th>\n",
       "      <td>&amp;</td>\n",
       "      <td>0.867</td>\n",
       "      <td>&amp;</td>\n",
       "      <td>0.865</td>\n",
       "      <td>&amp;</td>\n",
       "      <td>0.875</td>\n",
       "      <td>&amp;</td>\n",
       "      <td>0.874</td>\n",
       "      <td>&amp;</td>\n",
       "      <td>0.883</td>\n",
       "      <td>&amp;</td>\n",
       "      <td>0.891</td>\n",
       "    </tr>\n",
       "    <tr>\n",
       "      <th>\\$g_{\\delta}:a=a_r\\$</th>\n",
       "      <td>&amp;</td>\n",
       "      <td>0.858</td>\n",
       "      <td>&amp;</td>\n",
       "      <td>0.859</td>\n",
       "      <td>&amp;</td>\n",
       "      <td>0.850</td>\n",
       "      <td>&amp;</td>\n",
       "      <td>0.880</td>\n",
       "      <td>&amp;</td>\n",
       "      <td>0.875</td>\n",
       "      <td>&amp;</td>\n",
       "      <td>0.884</td>\n",
       "    </tr>\n",
       "    <tr>\n",
       "      <th>\\$g_{\\delta h}:a=a_h\\$</th>\n",
       "      <td>&amp;</td>\n",
       "      <td>0.880</td>\n",
       "      <td>&amp;</td>\n",
       "      <td>0.882</td>\n",
       "      <td>&amp;</td>\n",
       "      <td>0.893</td>\n",
       "      <td>&amp;</td>\n",
       "      <td>0.891</td>\n",
       "      <td>&amp;</td>\n",
       "      <td>0.895</td>\n",
       "      <td>&amp;</td>\n",
       "      <td>0.902</td>\n",
       "    </tr>\n",
       "    <tr>\n",
       "      <th>\\$g_{\\delta c}:\\{a_n\\}=\\{a_{nh}\\}\\$</th>\n",
       "      <td>&amp;</td>\n",
       "      <td>0.915</td>\n",
       "      <td>&amp;</td>\n",
       "      <td>0.909</td>\n",
       "      <td>&amp;</td>\n",
       "      <td>0.922</td>\n",
       "      <td>&amp;</td>\n",
       "      <td>0.916</td>\n",
       "      <td>&amp;</td>\n",
       "      <td>0.924</td>\n",
       "      <td>&amp;</td>\n",
       "      <td>0.921</td>\n",
       "    </tr>\n",
       "    <tr>\n",
       "      <th>\\$g_{\\delta c}:\\{a_n\\}=\\{a_{nl}\\}\\$</th>\n",
       "      <td>&amp;</td>\n",
       "      <td>0.888</td>\n",
       "      <td>&amp;</td>\n",
       "      <td>0.886</td>\n",
       "      <td>&amp;</td>\n",
       "      <td>0.898</td>\n",
       "      <td>&amp;</td>\n",
       "      <td>0.905</td>\n",
       "      <td>&amp;</td>\n",
       "      <td>0.903</td>\n",
       "      <td>&amp;</td>\n",
       "      <td>0.903</td>\n",
       "    </tr>\n",
       "    <tr>\n",
       "      <th>\\$g_{\\delta c}: \\{a_n\\}=\\{a_{I}\\}\\$</th>\n",
       "      <td>&amp;</td>\n",
       "      <td>0.915</td>\n",
       "      <td>&amp;</td>\n",
       "      <td>0.908</td>\n",
       "      <td>&amp;</td>\n",
       "      <td>0.922</td>\n",
       "      <td>&amp;</td>\n",
       "      <td>0.918</td>\n",
       "      <td>&amp;</td>\n",
       "      <td>0.924</td>\n",
       "      <td>&amp;</td>\n",
       "      <td>0.923</td>\n",
       "    </tr>\n",
       "  </tbody>\n",
       "</table>\n",
       "</div>"
      ],
      "text/plain": [
       "                                     0      0  0      1  0      0  0      1  \\\n",
       "\\$g_1\\$                              &  0.842  &  0.848  &  0.867  &  0.866   \n",
       "\\$g_{\\delta}:a=1\\$                   &  0.867  &  0.865  &  0.875  &  0.874   \n",
       "\\$g_{\\delta}:a=a_r\\$                 &  0.858  &  0.859  &  0.850  &  0.880   \n",
       "\\$g_{\\delta h}:a=a_h\\$               &  0.880  &  0.882  &  0.893  &  0.891   \n",
       "\\$g_{\\delta c}:\\{a_n\\}=\\{a_{nh}\\}\\$  &  0.915  &  0.909  &  0.922  &  0.916   \n",
       "\\$g_{\\delta c}:\\{a_n\\}=\\{a_{nl}\\}\\$  &  0.888  &  0.886  &  0.898  &  0.905   \n",
       "\\$g_{\\delta c}: \\{a_n\\}=\\{a_{I}\\}\\$  &  0.915  &  0.908  &  0.922  &  0.918   \n",
       "\n",
       "                                     0      0  0      1  \n",
       "\\$g_1\\$                              &  0.884  &  0.876  \n",
       "\\$g_{\\delta}:a=1\\$                   &  0.883  &  0.891  \n",
       "\\$g_{\\delta}:a=a_r\\$                 &  0.875  &  0.884  \n",
       "\\$g_{\\delta h}:a=a_h\\$               &  0.895  &  0.902  \n",
       "\\$g_{\\delta c}:\\{a_n\\}=\\{a_{nh}\\}\\$  &  0.924  &  0.921  \n",
       "\\$g_{\\delta c}:\\{a_n\\}=\\{a_{nl}\\}\\$  &  0.903  &  0.903  \n",
       "\\$g_{\\delta c}: \\{a_n\\}=\\{a_{I}\\}\\$  &  0.924  &  0.923  "
      ]
     },
     "execution_count": 212,
     "metadata": {},
     "output_type": "execute_result"
    }
   ],
   "source": [
    "results.round(3)"
   ]
  },
  {
   "cell_type": "code",
   "execution_count": 213,
   "id": "96b8f07a",
   "metadata": {},
   "outputs": [
    {
     "data": {
      "text/plain": [
       "100    0.881286\n",
       "dtype: float64"
      ]
     },
     "execution_count": 213,
     "metadata": {},
     "output_type": "execute_result"
    }
   ],
   "source": [
    "res=pd.DataFrame(R2_s[6].mean(axis=2))\n",
    "res.index=nn\n",
    "res.columns=ylabels\n",
    "res.round(3).loc[[100]].mean(axis=1)"
   ]
  },
  {
   "cell_type": "code",
   "execution_count": 214,
   "id": "7d17855f",
   "metadata": {},
   "outputs": [
    {
     "data": {
      "text/plain": [
       "100    0.864714\n",
       "dtype: float64"
      ]
     },
     "execution_count": 214,
     "metadata": {},
     "output_type": "execute_result"
    }
   ],
   "source": [
    "res=pd.DataFrame(R2_s[5].mean(axis=2))\n",
    "res.index=nn\n",
    "res.columns=ylabels\n",
    "res.round(3).loc[[100]].mean(axis=1)"
   ]
  },
  {
   "cell_type": "code",
   "execution_count": 215,
   "id": "bae7bd3b",
   "metadata": {},
   "outputs": [
    {
     "data": {
      "text/html": [
       "<div>\n",
       "<style scoped>\n",
       "    .dataframe tbody tr th:only-of-type {\n",
       "        vertical-align: middle;\n",
       "    }\n",
       "\n",
       "    .dataframe tbody tr th {\n",
       "        vertical-align: top;\n",
       "    }\n",
       "\n",
       "    .dataframe thead th {\n",
       "        text-align: right;\n",
       "    }\n",
       "</style>\n",
       "<table border=\"1\" class=\"dataframe\">\n",
       "  <thead>\n",
       "    <tr style=\"text-align: right;\">\n",
       "      <th></th>\n",
       "      <th>d_global</th>\n",
       "      <th>d_anterior</th>\n",
       "      <th>d_posterior</th>\n",
       "      <th>d_septum</th>\n",
       "      <th>d_lateral</th>\n",
       "      <th>d_roof</th>\n",
       "      <th>ESV</th>\n",
       "    </tr>\n",
       "  </thead>\n",
       "  <tbody>\n",
       "    <tr>\n",
       "      <th>20</th>\n",
       "      <td>0.765</td>\n",
       "      <td>0.731</td>\n",
       "      <td>0.478</td>\n",
       "      <td>0.762</td>\n",
       "      <td>0.714</td>\n",
       "      <td>0.636</td>\n",
       "      <td>0.916</td>\n",
       "    </tr>\n",
       "    <tr>\n",
       "      <th>40</th>\n",
       "      <td>0.842</td>\n",
       "      <td>0.837</td>\n",
       "      <td>0.689</td>\n",
       "      <td>0.853</td>\n",
       "      <td>0.813</td>\n",
       "      <td>0.756</td>\n",
       "      <td>0.942</td>\n",
       "    </tr>\n",
       "    <tr>\n",
       "      <th>60</th>\n",
       "      <td>0.889</td>\n",
       "      <td>0.862</td>\n",
       "      <td>0.733</td>\n",
       "      <td>0.891</td>\n",
       "      <td>0.847</td>\n",
       "      <td>0.797</td>\n",
       "      <td>0.956</td>\n",
       "    </tr>\n",
       "    <tr>\n",
       "      <th>80</th>\n",
       "      <td>0.905</td>\n",
       "      <td>0.902</td>\n",
       "      <td>0.772</td>\n",
       "      <td>0.898</td>\n",
       "      <td>0.859</td>\n",
       "      <td>0.811</td>\n",
       "      <td>0.960</td>\n",
       "    </tr>\n",
       "    <tr>\n",
       "      <th>100</th>\n",
       "      <td>0.915</td>\n",
       "      <td>0.908</td>\n",
       "      <td>0.793</td>\n",
       "      <td>0.906</td>\n",
       "      <td>0.872</td>\n",
       "      <td>0.811</td>\n",
       "      <td>0.964</td>\n",
       "    </tr>\n",
       "    <tr>\n",
       "      <th>120</th>\n",
       "      <td>0.922</td>\n",
       "      <td>0.918</td>\n",
       "      <td>0.815</td>\n",
       "      <td>0.913</td>\n",
       "      <td>0.879</td>\n",
       "      <td>0.832</td>\n",
       "      <td>0.965</td>\n",
       "    </tr>\n",
       "    <tr>\n",
       "      <th>140</th>\n",
       "      <td>0.924</td>\n",
       "      <td>0.923</td>\n",
       "      <td>0.812</td>\n",
       "      <td>0.920</td>\n",
       "      <td>0.886</td>\n",
       "      <td>0.835</td>\n",
       "      <td>0.967</td>\n",
       "    </tr>\n",
       "  </tbody>\n",
       "</table>\n",
       "</div>"
      ],
      "text/plain": [
       "     d_global  d_anterior  d_posterior  d_septum  d_lateral  d_roof    ESV\n",
       "20      0.765       0.731        0.478     0.762      0.714   0.636  0.916\n",
       "40      0.842       0.837        0.689     0.853      0.813   0.756  0.942\n",
       "60      0.889       0.862        0.733     0.891      0.847   0.797  0.956\n",
       "80      0.905       0.902        0.772     0.898      0.859   0.811  0.960\n",
       "100     0.915       0.908        0.793     0.906      0.872   0.811  0.964\n",
       "120     0.922       0.918        0.815     0.913      0.879   0.832  0.965\n",
       "140     0.924       0.923        0.812     0.920      0.886   0.835  0.967"
      ]
     },
     "execution_count": 215,
     "metadata": {},
     "output_type": "execute_result"
    }
   ],
   "source": [
    "res=pd.DataFrame(R2_s[6].mean(axis=2))\n",
    "res.index=nn\n",
    "res.columns=ylabels\n",
    "res.round(3).loc[[20,40,60,80,100,120,140]]"
   ]
  },
  {
   "cell_type": "code",
   "execution_count": 216,
   "id": "6e1db117",
   "metadata": {},
   "outputs": [],
   "source": [
    "ands=pd.DataFrame(['&','&','&','&','&','&','&'])"
   ]
  },
  {
   "cell_type": "code",
   "execution_count": 217,
   "id": "108c675f",
   "metadata": {},
   "outputs": [],
   "source": [
    "slashes=pd.DataFrame(['\\\\\\\\','\\\\\\\\','\\\\\\\\','\\\\\\\\','\\\\\\\\','\\\\\\\\','\\\\\\\\'])"
   ]
  },
  {
   "cell_type": "code",
   "execution_count": 218,
   "id": "4b0bb805",
   "metadata": {},
   "outputs": [
    {
     "data": {
      "text/html": [
       "<div>\n",
       "<style scoped>\n",
       "    .dataframe tbody tr th:only-of-type {\n",
       "        vertical-align: middle;\n",
       "    }\n",
       "\n",
       "    .dataframe tbody tr th {\n",
       "        vertical-align: top;\n",
       "    }\n",
       "\n",
       "    .dataframe thead th {\n",
       "        text-align: right;\n",
       "    }\n",
       "</style>\n",
       "<table border=\"1\" class=\"dataframe\">\n",
       "  <thead>\n",
       "    <tr style=\"text-align: right;\">\n",
       "      <th></th>\n",
       "      <th>0</th>\n",
       "    </tr>\n",
       "  </thead>\n",
       "  <tbody>\n",
       "    <tr>\n",
       "      <th>0</th>\n",
       "      <td>\\\\</td>\n",
       "    </tr>\n",
       "    <tr>\n",
       "      <th>1</th>\n",
       "      <td>\\\\</td>\n",
       "    </tr>\n",
       "    <tr>\n",
       "      <th>2</th>\n",
       "      <td>\\\\</td>\n",
       "    </tr>\n",
       "    <tr>\n",
       "      <th>3</th>\n",
       "      <td>\\\\</td>\n",
       "    </tr>\n",
       "    <tr>\n",
       "      <th>4</th>\n",
       "      <td>\\\\</td>\n",
       "    </tr>\n",
       "    <tr>\n",
       "      <th>5</th>\n",
       "      <td>\\\\</td>\n",
       "    </tr>\n",
       "    <tr>\n",
       "      <th>6</th>\n",
       "      <td>\\\\</td>\n",
       "    </tr>\n",
       "  </tbody>\n",
       "</table>\n",
       "</div>"
      ],
      "text/plain": [
       "    0\n",
       "0  \\\\\n",
       "1  \\\\\n",
       "2  \\\\\n",
       "3  \\\\\n",
       "4  \\\\\n",
       "5  \\\\\n",
       "6  \\\\"
      ]
     },
     "execution_count": 218,
     "metadata": {},
     "output_type": "execute_result"
    }
   ],
   "source": [
    "slashes"
   ]
  },
  {
   "cell_type": "code",
   "execution_count": 219,
   "id": "136e6bb6",
   "metadata": {},
   "outputs": [
    {
     "data": {
      "text/plain": [
       "(15, 7, 5)"
      ]
     },
     "execution_count": 219,
     "metadata": {},
     "output_type": "execute_result"
    }
   ],
   "source": [
    "R2_s[0].shape"
   ]
  },
  {
   "cell_type": "code",
   "execution_count": 220,
   "id": "3af2bf53",
   "metadata": {},
   "outputs": [
    {
     "data": {
      "text/plain": [
       "(15, 7)"
      ]
     },
     "execution_count": 220,
     "metadata": {},
     "output_type": "execute_result"
    }
   ],
   "source": [
    "R2_s[0].mean(axis=2).shape"
   ]
  },
  {
   "cell_type": "code",
   "execution_count": 221,
   "id": "800b0014",
   "metadata": {},
   "outputs": [],
   "source": [
    "res=pd.DataFrame(R2_s[6].mean(axis=2))\n",
    "res.index=nn\n",
    "res.columns=ylabels\n",
    "res1 = res.round(3).loc[[20,40,60,80,100,120,140]]\n",
    "ands.index=res1.index\n",
    "slashes.index=res1.index\n",
    "ands.columns=['&']"
   ]
  },
  {
   "cell_type": "code",
   "execution_count": 222,
   "id": "6e758d50",
   "metadata": {},
   "outputs": [
    {
     "data": {
      "text/plain": [
       "(7, 7)"
      ]
     },
     "execution_count": 222,
     "metadata": {},
     "output_type": "execute_result"
    }
   ],
   "source": [
    "res1.shape"
   ]
  },
  {
   "cell_type": "code",
   "execution_count": null,
   "id": "35969967",
   "metadata": {},
   "outputs": [],
   "source": []
  },
  {
   "cell_type": "code",
   "execution_count": 223,
   "id": "8b0bdf62",
   "metadata": {},
   "outputs": [],
   "source": [
    "res2 = pd.concat([ands,res1.iloc[:,0]],axis=1)\n",
    "for i in range (res1.shape[0]-1):\n",
    "    n=i+1\n",
    "    res2 = pd.concat([res2,ands,res1.iloc[:,n]],axis=1)\n",
    "res2=pd.concat([res2,slashes],axis=1)    "
   ]
  },
  {
   "cell_type": "code",
   "execution_count": 224,
   "id": "99bd6679",
   "metadata": {},
   "outputs": [
    {
     "data": {
      "text/html": [
       "<div>\n",
       "<style scoped>\n",
       "    .dataframe tbody tr th:only-of-type {\n",
       "        vertical-align: middle;\n",
       "    }\n",
       "\n",
       "    .dataframe tbody tr th {\n",
       "        vertical-align: top;\n",
       "    }\n",
       "\n",
       "    .dataframe thead th {\n",
       "        text-align: right;\n",
       "    }\n",
       "</style>\n",
       "<table border=\"1\" class=\"dataframe\">\n",
       "  <thead>\n",
       "    <tr style=\"text-align: right;\">\n",
       "      <th></th>\n",
       "      <th>&amp;</th>\n",
       "      <th>d_global</th>\n",
       "      <th>&amp;</th>\n",
       "      <th>d_anterior</th>\n",
       "      <th>&amp;</th>\n",
       "      <th>d_posterior</th>\n",
       "      <th>&amp;</th>\n",
       "      <th>d_septum</th>\n",
       "      <th>&amp;</th>\n",
       "      <th>d_lateral</th>\n",
       "      <th>&amp;</th>\n",
       "      <th>d_roof</th>\n",
       "      <th>&amp;</th>\n",
       "      <th>ESV</th>\n",
       "      <th>0</th>\n",
       "    </tr>\n",
       "  </thead>\n",
       "  <tbody>\n",
       "    <tr>\n",
       "      <th>20</th>\n",
       "      <td>&amp;</td>\n",
       "      <td>0.765</td>\n",
       "      <td>&amp;</td>\n",
       "      <td>0.731</td>\n",
       "      <td>&amp;</td>\n",
       "      <td>0.478</td>\n",
       "      <td>&amp;</td>\n",
       "      <td>0.762</td>\n",
       "      <td>&amp;</td>\n",
       "      <td>0.714</td>\n",
       "      <td>&amp;</td>\n",
       "      <td>0.636</td>\n",
       "      <td>&amp;</td>\n",
       "      <td>0.916</td>\n",
       "      <td>\\\\</td>\n",
       "    </tr>\n",
       "    <tr>\n",
       "      <th>40</th>\n",
       "      <td>&amp;</td>\n",
       "      <td>0.842</td>\n",
       "      <td>&amp;</td>\n",
       "      <td>0.837</td>\n",
       "      <td>&amp;</td>\n",
       "      <td>0.689</td>\n",
       "      <td>&amp;</td>\n",
       "      <td>0.853</td>\n",
       "      <td>&amp;</td>\n",
       "      <td>0.813</td>\n",
       "      <td>&amp;</td>\n",
       "      <td>0.756</td>\n",
       "      <td>&amp;</td>\n",
       "      <td>0.942</td>\n",
       "      <td>\\\\</td>\n",
       "    </tr>\n",
       "    <tr>\n",
       "      <th>60</th>\n",
       "      <td>&amp;</td>\n",
       "      <td>0.889</td>\n",
       "      <td>&amp;</td>\n",
       "      <td>0.862</td>\n",
       "      <td>&amp;</td>\n",
       "      <td>0.733</td>\n",
       "      <td>&amp;</td>\n",
       "      <td>0.891</td>\n",
       "      <td>&amp;</td>\n",
       "      <td>0.847</td>\n",
       "      <td>&amp;</td>\n",
       "      <td>0.797</td>\n",
       "      <td>&amp;</td>\n",
       "      <td>0.956</td>\n",
       "      <td>\\\\</td>\n",
       "    </tr>\n",
       "    <tr>\n",
       "      <th>80</th>\n",
       "      <td>&amp;</td>\n",
       "      <td>0.905</td>\n",
       "      <td>&amp;</td>\n",
       "      <td>0.902</td>\n",
       "      <td>&amp;</td>\n",
       "      <td>0.772</td>\n",
       "      <td>&amp;</td>\n",
       "      <td>0.898</td>\n",
       "      <td>&amp;</td>\n",
       "      <td>0.859</td>\n",
       "      <td>&amp;</td>\n",
       "      <td>0.811</td>\n",
       "      <td>&amp;</td>\n",
       "      <td>0.960</td>\n",
       "      <td>\\\\</td>\n",
       "    </tr>\n",
       "    <tr>\n",
       "      <th>100</th>\n",
       "      <td>&amp;</td>\n",
       "      <td>0.915</td>\n",
       "      <td>&amp;</td>\n",
       "      <td>0.908</td>\n",
       "      <td>&amp;</td>\n",
       "      <td>0.793</td>\n",
       "      <td>&amp;</td>\n",
       "      <td>0.906</td>\n",
       "      <td>&amp;</td>\n",
       "      <td>0.872</td>\n",
       "      <td>&amp;</td>\n",
       "      <td>0.811</td>\n",
       "      <td>&amp;</td>\n",
       "      <td>0.964</td>\n",
       "      <td>\\\\</td>\n",
       "    </tr>\n",
       "    <tr>\n",
       "      <th>120</th>\n",
       "      <td>&amp;</td>\n",
       "      <td>0.922</td>\n",
       "      <td>&amp;</td>\n",
       "      <td>0.918</td>\n",
       "      <td>&amp;</td>\n",
       "      <td>0.815</td>\n",
       "      <td>&amp;</td>\n",
       "      <td>0.913</td>\n",
       "      <td>&amp;</td>\n",
       "      <td>0.879</td>\n",
       "      <td>&amp;</td>\n",
       "      <td>0.832</td>\n",
       "      <td>&amp;</td>\n",
       "      <td>0.965</td>\n",
       "      <td>\\\\</td>\n",
       "    </tr>\n",
       "    <tr>\n",
       "      <th>140</th>\n",
       "      <td>&amp;</td>\n",
       "      <td>0.924</td>\n",
       "      <td>&amp;</td>\n",
       "      <td>0.923</td>\n",
       "      <td>&amp;</td>\n",
       "      <td>0.812</td>\n",
       "      <td>&amp;</td>\n",
       "      <td>0.920</td>\n",
       "      <td>&amp;</td>\n",
       "      <td>0.886</td>\n",
       "      <td>&amp;</td>\n",
       "      <td>0.835</td>\n",
       "      <td>&amp;</td>\n",
       "      <td>0.967</td>\n",
       "      <td>\\\\</td>\n",
       "    </tr>\n",
       "  </tbody>\n",
       "</table>\n",
       "</div>"
      ],
      "text/plain": [
       "     &  d_global  &  d_anterior  &  d_posterior  &  d_septum  &  d_lateral  &  \\\n",
       "20   &     0.765  &       0.731  &        0.478  &     0.762  &      0.714  &   \n",
       "40   &     0.842  &       0.837  &        0.689  &     0.853  &      0.813  &   \n",
       "60   &     0.889  &       0.862  &        0.733  &     0.891  &      0.847  &   \n",
       "80   &     0.905  &       0.902  &        0.772  &     0.898  &      0.859  &   \n",
       "100  &     0.915  &       0.908  &        0.793  &     0.906  &      0.872  &   \n",
       "120  &     0.922  &       0.918  &        0.815  &     0.913  &      0.879  &   \n",
       "140  &     0.924  &       0.923  &        0.812  &     0.920  &      0.886  &   \n",
       "\n",
       "     d_roof  &    ESV   0  \n",
       "20    0.636  &  0.916  \\\\  \n",
       "40    0.756  &  0.942  \\\\  \n",
       "60    0.797  &  0.956  \\\\  \n",
       "80    0.811  &  0.960  \\\\  \n",
       "100   0.811  &  0.964  \\\\  \n",
       "120   0.832  &  0.965  \\\\  \n",
       "140   0.835  &  0.967  \\\\  "
      ]
     },
     "execution_count": 224,
     "metadata": {},
     "output_type": "execute_result"
    }
   ],
   "source": [
    "res2"
   ]
  },
  {
   "cell_type": "code",
   "execution_count": null,
   "id": "99d295d1",
   "metadata": {},
   "outputs": [],
   "source": []
  }
 ],
 "metadata": {
  "kernelspec": {
   "display_name": "Python 3 (ipykernel)",
   "language": "python",
   "name": "python3"
  },
  "language_info": {
   "codemirror_mode": {
    "name": "ipython",
    "version": 3
   },
   "file_extension": ".py",
   "mimetype": "text/x-python",
   "name": "python",
   "nbconvert_exporter": "python",
   "pygments_lexer": "ipython3",
   "version": "3.11.5"
  }
 },
 "nbformat": 4,
 "nbformat_minor": 5
}
