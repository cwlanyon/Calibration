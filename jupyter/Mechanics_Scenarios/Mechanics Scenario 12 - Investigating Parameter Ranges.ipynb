{
 "cells": [
  {
   "cell_type": "code",
   "execution_count": 1,
   "id": "5ba866e8",
   "metadata": {},
   "outputs": [],
   "source": [
    "import math\n",
    "import torch\n",
    "import gpytorch\n",
    "import pandas as pd\n",
    "import numpy as np\n",
    "from matplotlib import pyplot as plt\n",
    "\n",
    "\n",
    "import GPE_ensemble as GPE\n",
    "\n",
    "import os\n",
    "from sklearn.linear_model import LinearRegression\n",
    "from sklearn.metrics import mean_squared_error, r2_score\n",
    "from sklearn.model_selection import train_test_split\n",
    "#from GPErks.gp.data.dataset import Dataset\n",
    "from gpytorch.likelihoods import GaussianLikelihood\n",
    "from gpytorch.means import LinearMean\n",
    "from gpytorch.kernels import RBFKernel, ScaleKernel\n",
    "from torchmetrics import MeanSquaredError, R2Score\n",
    "#from GPErks.gp.experiment import GPExperiment\n",
    "#from GPErks.train.emulator import GPEmulator\n",
    "#from GPErks.perks.inference import Inference\n",
    "#from GPErks.train.early_stop import NoEarlyStoppingCriterion\n",
    "#from GPErks.train.early_stop import (\n",
    "#    GLEarlyStoppingCriterion,\n",
    "#    PQEarlyStoppingCriterion,\n",
    "#    UPEarlyStoppingCriterion,\n",
    "#)\n",
    "#from GPErks.train.early_stop import PkEarlyStoppingCriterion\n",
    "\n",
    "\n",
    "\n",
    "%matplotlib inline\n",
    "%load_ext autoreload\n",
    "%autoreload 2\n",
    "\n",
    "# set logger and enforce reproducibility\n",
    "#from GPErks.log.logger import get_logger\n",
    "#from GPErks.utils.random import set_seed\n",
    "#log = get_logger()\n",
    "seed = 7\n",
    "#set_seed(seed)"
   ]
  },
  {
   "cell_type": "code",
   "execution_count": 2,
   "id": "b81ecd1f",
   "metadata": {},
   "outputs": [
    {
     "name": "stdout",
     "output_type": "stream",
     "text": [
      "      $a_{v}$  $b_{f,v}$  $b_{fs,v}$  $b{t,v}$  $a_{a}$  $b_{f,a}$  \\\n",
      "0    4.740280   14.71480     7.94629   3.59968  1.11789    3.55168   \n",
      "1    4.857980   16.84220     2.44477   6.50020  5.37104   17.50990   \n",
      "2    5.420790   20.70750     9.65534   6.21518  3.67459   24.99810   \n",
      "3    1.337280   11.57860     7.62628   8.14195  1.26532   25.55680   \n",
      "4    5.134520    9.95438     7.57115  10.66760  2.96196    2.12530   \n",
      "..        ...        ...         ...       ...      ...        ...   \n",
      "995  1.316780   30.08380    10.33150   7.19801  6.35548    2.29146   \n",
      "996  2.293370   11.61130    15.41860   3.08812  4.40119   24.90360   \n",
      "997  3.590750   13.81900     2.51893   7.41213  5.69279   27.71850   \n",
      "998  3.135200    8.59333    13.61100   3.18266  5.26776   23.08810   \n",
      "999  0.914937   27.49800     6.74556   2.24665  2.69455   10.98910   \n",
      "\n",
      "     $b_{fs,a}$  $b_{t,a}$  $k_{peri}$  \n",
      "0      13.84320    3.68519    0.001700  \n",
      "1       3.95734    2.10356    0.003966  \n",
      "2       5.83999    3.75123    0.000502  \n",
      "3       5.01420   10.03170    0.000826  \n",
      "4       1.97383    9.04657    0.000925  \n",
      "..          ...        ...         ...  \n",
      "995     5.61173    1.93625    0.001042  \n",
      "996    14.56840   10.67460    0.000634  \n",
      "997     5.40170    3.68849    0.003157  \n",
      "998    15.22740    1.11967    0.001373  \n",
      "999     9.68799    8.85367    0.003023  \n",
      "\n",
      "[1000 rows x 9 columns]\n"
     ]
    }
   ],
   "source": [
    "x_labels=pd.read_csv(r'/Users/pmzcwl/Library/CloudStorage/OneDrive-TheUniversityofNottingham/shared_simulations/mechanics/scenario_12/xlabels.txt',delim_whitespace=True,header=None)\n",
    "\n",
    "\n",
    "X_all = pd.read_csv(r'/Users/pmzcwl/Library/CloudStorage/OneDrive-TheUniversityofNottingham/shared_simulations/mechanics/scenario_12/X.txt',index_col=None,delim_whitespace=True,header=None)\n",
    "X_all.columns=x_labels.values.squeeze().tolist()\n",
    "print(X_all)"
   ]
  },
  {
   "cell_type": "code",
   "execution_count": 3,
   "id": "302a0b25",
   "metadata": {},
   "outputs": [],
   "source": [
    "mask = pd.read_csv(r'/Users/pmzcwl/Library/CloudStorage/OneDrive-TheUniversityofNottingham/shared_simulations/mechanics/scenario_12/output_mask.txt',index_col=None,delim_whitespace=True,header=None)"
   ]
  },
  {
   "cell_type": "code",
   "execution_count": 4,
   "id": "8d9eb737",
   "metadata": {},
   "outputs": [
    {
     "data": {
      "text/html": [
       "<div>\n",
       "<style scoped>\n",
       "    .dataframe tbody tr th:only-of-type {\n",
       "        vertical-align: middle;\n",
       "    }\n",
       "\n",
       "    .dataframe tbody tr th {\n",
       "        vertical-align: top;\n",
       "    }\n",
       "\n",
       "    .dataframe thead th {\n",
       "        text-align: right;\n",
       "    }\n",
       "</style>\n",
       "<table border=\"1\" class=\"dataframe\">\n",
       "  <thead>\n",
       "    <tr style=\"text-align: right;\">\n",
       "      <th></th>\n",
       "      <th>0</th>\n",
       "    </tr>\n",
       "  </thead>\n",
       "  <tbody>\n",
       "    <tr>\n",
       "      <th>0</th>\n",
       "      <td>1</td>\n",
       "    </tr>\n",
       "    <tr>\n",
       "      <th>1</th>\n",
       "      <td>1</td>\n",
       "    </tr>\n",
       "    <tr>\n",
       "      <th>2</th>\n",
       "      <td>1</td>\n",
       "    </tr>\n",
       "    <tr>\n",
       "      <th>3</th>\n",
       "      <td>1</td>\n",
       "    </tr>\n",
       "    <tr>\n",
       "      <th>4</th>\n",
       "      <td>1</td>\n",
       "    </tr>\n",
       "    <tr>\n",
       "      <th>...</th>\n",
       "      <td>...</td>\n",
       "    </tr>\n",
       "    <tr>\n",
       "      <th>175</th>\n",
       "      <td>1</td>\n",
       "    </tr>\n",
       "    <tr>\n",
       "      <th>176</th>\n",
       "      <td>1</td>\n",
       "    </tr>\n",
       "    <tr>\n",
       "      <th>177</th>\n",
       "      <td>1</td>\n",
       "    </tr>\n",
       "    <tr>\n",
       "      <th>178</th>\n",
       "      <td>1</td>\n",
       "    </tr>\n",
       "    <tr>\n",
       "      <th>179</th>\n",
       "      <td>1</td>\n",
       "    </tr>\n",
       "  </tbody>\n",
       "</table>\n",
       "<p>180 rows × 1 columns</p>\n",
       "</div>"
      ],
      "text/plain": [
       "     0\n",
       "0    1\n",
       "1    1\n",
       "2    1\n",
       "3    1\n",
       "4    1\n",
       "..  ..\n",
       "175  1\n",
       "176  1\n",
       "177  1\n",
       "178  1\n",
       "179  1\n",
       "\n",
       "[180 rows x 1 columns]"
      ]
     },
     "execution_count": 4,
     "metadata": {},
     "output_type": "execute_result"
    }
   ],
   "source": [
    "mask"
   ]
  },
  {
   "cell_type": "code",
   "execution_count": 5,
   "id": "3e4e1daa",
   "metadata": {},
   "outputs": [
    {
     "data": {
      "text/plain": [
       "0    179\n",
       "dtype: int64"
      ]
     },
     "execution_count": 5,
     "metadata": {},
     "output_type": "execute_result"
    }
   ],
   "source": [
    "np.sum(mask)"
   ]
  },
  {
   "cell_type": "code",
   "execution_count": 6,
   "id": "2ff050cd",
   "metadata": {},
   "outputs": [
    {
     "data": {
      "text/plain": [
       "[<matplotlib.lines.Line2D at 0x2ad232750>]"
      ]
     },
     "execution_count": 6,
     "metadata": {},
     "output_type": "execute_result"
    },
    {
     "data": {
      "image/png": "[encoded data removed]",
      "text/plain": [
       "<Figure size 640x480 with 1 Axes>"
      ]
     },
     "metadata": {},
     "output_type": "display_data"
    }
   ],
   "source": [
    "plt.plot(mask,'o')"
   ]
  },
  {
   "cell_type": "code",
   "execution_count": 7,
   "id": "121230ab",
   "metadata": {},
   "outputs": [
    {
     "name": "stdout",
     "output_type": "stream",
     "text": [
      "     $V^{\\mathrm{max}}_{\\mathrm{LV}}$  $V^{\\mathrm{max}}_{\\mathrm{RV}}$  \\\n",
      "0                             176.068                           171.084   \n",
      "1                             170.459                           165.900   \n",
      "2                             170.071                           169.104   \n",
      "3                             201.667                           191.819   \n",
      "4                             169.384                           167.307   \n",
      "..                                ...                               ...   \n",
      "175                           176.629                           171.773   \n",
      "176                           186.282                           176.219   \n",
      "177                           171.946                           168.570   \n",
      "178                           200.781                           197.025   \n",
      "179                           165.372                           163.010   \n",
      "\n",
      "     $V^{\\mathrm{max}}_{\\mathrm{LA}}$  $V^{\\mathrm{max}}_{\\mathrm{RA}}$  \\\n",
      "0                             68.2983                           87.2082   \n",
      "1                             56.1189                           79.2871   \n",
      "2                             58.5605                           82.3657   \n",
      "3                             59.4689                           82.9831   \n",
      "4                             60.0413                           82.8489   \n",
      "..                                ...                               ...   \n",
      "175                           62.1838                           84.7443   \n",
      "176                           61.2773                           81.9510   \n",
      "177                           56.7536                           79.7173   \n",
      "178                           70.8535                           91.5856   \n",
      "179                           58.1845                           81.1863   \n",
      "\n",
      "     $\\overline{E_{ff,\\mathrm{LV}}}$  $\\overline{E_{ff,\\mathrm{RV}}}$  \\\n",
      "0                           0.023290                         0.018751   \n",
      "1                           0.015556                         0.012323   \n",
      "2                           0.015797                         0.014367   \n",
      "3                           0.057794                         0.046807   \n",
      "4                           0.014711                         0.012212   \n",
      "..                               ...                              ...   \n",
      "175                         0.019615                         0.016549   \n",
      "176                         0.036178                         0.028614   \n",
      "177                         0.018136                         0.015846   \n",
      "178                         0.055808                         0.049540   \n",
      "179                         0.009811                         0.008012   \n",
      "\n",
      "     $\\overline{E_{ff,\\mathrm{LA}}}$  $\\overline{E_{ff,\\mathrm{RA}}}$  \\\n",
      "0                           0.105532                         0.070459   \n",
      "1                           0.023607                         0.014270   \n",
      "2                           0.033045                         0.019283   \n",
      "3                           0.047235                         0.030274   \n",
      "4                           0.067935                         0.037819   \n",
      "..                               ...                              ...   \n",
      "175                         0.076106                         0.054268   \n",
      "176                         0.063980                         0.041068   \n",
      "177                         0.020815                         0.011969   \n",
      "178                         0.121958                         0.072069   \n",
      "179                         0.039053                         0.024207   \n",
      "\n",
      "     $\\overline{E_{ff,\\mathrm{V}}}$  $\\overline{E_{ff,\\mathrm{A}}}$  \n",
      "0                          0.022349                        0.082731  \n",
      "1                          0.014881                        0.017635  \n",
      "2                          0.015516                        0.024336  \n",
      "3                          0.055443                        0.036327  \n",
      "4                          0.014183                        0.048680  \n",
      "..                              ...                             ...  \n",
      "175                        0.019031                        0.061742  \n",
      "176                        0.034666                        0.048985  \n",
      "177                        0.017695                        0.015177  \n",
      "178                        0.054477                        0.090398  \n",
      "179                        0.009428                        0.029606  \n",
      "\n",
      "[180 rows x 10 columns]\n"
     ]
    }
   ],
   "source": [
    "y_labels=pd.read_csv(r'/Users/pmzcwl/Library/CloudStorage/OneDrive-TheUniversityofNottingham/shared_simulations/mechanics/scenario_12/ylabels.txt',delim_whitespace=True,header=None)\n",
    "\n",
    "\n",
    "y_all = pd.read_csv(r'/Users/pmzcwl/Library/CloudStorage/OneDrive-TheUniversityofNottingham/shared_simulations/mechanics/scenario_12/Y.txt',index_col=None,delim_whitespace=True,header=None)\n",
    "y_all.columns=y_labels.values.squeeze().tolist()\n",
    "print(y_all)"
   ]
  },
  {
   "cell_type": "markdown",
   "id": "f1349dc8",
   "metadata": {},
   "source": [
    "# Emulator"
   ]
  },
  {
   "cell_type": "code",
   "execution_count": 8,
   "id": "110b9938",
   "metadata": {},
   "outputs": [],
   "source": [
    "input_masked = X_all.copy().iloc[0:mask.shape[0]]"
   ]
  },
  {
   "cell_type": "code",
   "execution_count": 9,
   "id": "7226a5aa",
   "metadata": {},
   "outputs": [
    {
     "data": {
      "text/html": [
       "<div>\n",
       "<style scoped>\n",
       "    .dataframe tbody tr th:only-of-type {\n",
       "        vertical-align: middle;\n",
       "    }\n",
       "\n",
       "    .dataframe tbody tr th {\n",
       "        vertical-align: top;\n",
       "    }\n",
       "\n",
       "    .dataframe thead th {\n",
       "        text-align: right;\n",
       "    }\n",
       "</style>\n",
       "<table border=\"1\" class=\"dataframe\">\n",
       "  <thead>\n",
       "    <tr style=\"text-align: right;\">\n",
       "      <th></th>\n",
       "      <th>$V^{\\mathrm{max}}_{\\mathrm{LV}}$</th>\n",
       "      <th>$V^{\\mathrm{max}}_{\\mathrm{RV}}$</th>\n",
       "      <th>$V^{\\mathrm{max}}_{\\mathrm{LA}}$</th>\n",
       "      <th>$V^{\\mathrm{max}}_{\\mathrm{RA}}$</th>\n",
       "      <th>$\\overline{E_{ff,\\mathrm{LV}}}$</th>\n",
       "      <th>$\\overline{E_{ff,\\mathrm{RV}}}$</th>\n",
       "      <th>$\\overline{E_{ff,\\mathrm{LA}}}$</th>\n",
       "      <th>$\\overline{E_{ff,\\mathrm{RA}}}$</th>\n",
       "      <th>$\\overline{E_{ff,\\mathrm{V}}}$</th>\n",
       "      <th>$\\overline{E_{ff,\\mathrm{A}}}$</th>\n",
       "    </tr>\n",
       "  </thead>\n",
       "  <tbody>\n",
       "    <tr>\n",
       "      <th>15</th>\n",
       "      <td>0.0</td>\n",
       "      <td>0.0</td>\n",
       "      <td>0.0</td>\n",
       "      <td>0.0</td>\n",
       "      <td>0.0</td>\n",
       "      <td>0.0</td>\n",
       "      <td>0.0</td>\n",
       "      <td>0.0</td>\n",
       "      <td>0.0</td>\n",
       "      <td>0.0</td>\n",
       "    </tr>\n",
       "  </tbody>\n",
       "</table>\n",
       "</div>"
      ],
      "text/plain": [
       "    $V^{\\mathrm{max}}_{\\mathrm{LV}}$  $V^{\\mathrm{max}}_{\\mathrm{RV}}$  \\\n",
       "15                               0.0                               0.0   \n",
       "\n",
       "    $V^{\\mathrm{max}}_{\\mathrm{LA}}$  $V^{\\mathrm{max}}_{\\mathrm{RA}}$  \\\n",
       "15                               0.0                               0.0   \n",
       "\n",
       "    $\\overline{E_{ff,\\mathrm{LV}}}$  $\\overline{E_{ff,\\mathrm{RV}}}$  \\\n",
       "15                              0.0                              0.0   \n",
       "\n",
       "    $\\overline{E_{ff,\\mathrm{LA}}}$  $\\overline{E_{ff,\\mathrm{RA}}}$  \\\n",
       "15                              0.0                              0.0   \n",
       "\n",
       "    $\\overline{E_{ff,\\mathrm{V}}}$  $\\overline{E_{ff,\\mathrm{A}}}$  \n",
       "15                             0.0                             0.0  "
      ]
     },
     "execution_count": 9,
     "metadata": {},
     "output_type": "execute_result"
    }
   ],
   "source": [
    "y_all[np.array(mask==0)]"
   ]
  },
  {
   "cell_type": "code",
   "execution_count": 10,
   "id": "bfc728ad",
   "metadata": {},
   "outputs": [],
   "source": [
    "input_masked=input_masked.iloc[np.array(mask==1),]\n",
    "y_all=y_all[np.array(mask==1)]\n",
    "input_masked.index = y_all.index"
   ]
  },
  {
   "cell_type": "code",
   "execution_count": 11,
   "id": "ea430170",
   "metadata": {},
   "outputs": [
    {
     "data": {
      "text/plain": [
       "(179, 9)"
      ]
     },
     "execution_count": 11,
     "metadata": {},
     "output_type": "execute_result"
    }
   ],
   "source": [
    "input_masked.shape"
   ]
  },
  {
   "cell_type": "code",
   "execution_count": 12,
   "id": "0896e6ed",
   "metadata": {},
   "outputs": [
    {
     "data": {
      "text/plain": [
       "(179, 10)"
      ]
     },
     "execution_count": 12,
     "metadata": {},
     "output_type": "execute_result"
    }
   ],
   "source": [
    "y_all.shape"
   ]
  },
  {
   "cell_type": "code",
   "execution_count": 13,
   "id": "9051eb44",
   "metadata": {},
   "outputs": [
    {
     "data": {
      "text/plain": [
       "0"
      ]
     },
     "execution_count": 13,
     "metadata": {},
     "output_type": "execute_result"
    }
   ],
   "source": [
    "y_all.index[0]"
   ]
  },
  {
   "cell_type": "code",
   "execution_count": 14,
   "id": "483eb8bd",
   "metadata": {},
   "outputs": [
    {
     "data": {
      "text/html": [
       "<div>\n",
       "<style scoped>\n",
       "    .dataframe tbody tr th:only-of-type {\n",
       "        vertical-align: middle;\n",
       "    }\n",
       "\n",
       "    .dataframe tbody tr th {\n",
       "        vertical-align: top;\n",
       "    }\n",
       "\n",
       "    .dataframe thead th {\n",
       "        text-align: right;\n",
       "    }\n",
       "</style>\n",
       "<table border=\"1\" class=\"dataframe\">\n",
       "  <thead>\n",
       "    <tr style=\"text-align: right;\">\n",
       "      <th></th>\n",
       "      <th>$V^{\\mathrm{max}}_{\\mathrm{LV}}$</th>\n",
       "      <th>$V^{\\mathrm{max}}_{\\mathrm{RV}}$</th>\n",
       "      <th>$V^{\\mathrm{max}}_{\\mathrm{LA}}$</th>\n",
       "      <th>$V^{\\mathrm{max}}_{\\mathrm{RA}}$</th>\n",
       "      <th>$\\overline{E_{ff,\\mathrm{LV}}}$</th>\n",
       "      <th>$\\overline{E_{ff,\\mathrm{RV}}}$</th>\n",
       "      <th>$\\overline{E_{ff,\\mathrm{LA}}}$</th>\n",
       "      <th>$\\overline{E_{ff,\\mathrm{RA}}}$</th>\n",
       "      <th>$\\overline{E_{ff,\\mathrm{V}}}$</th>\n",
       "      <th>$\\overline{E_{ff,\\mathrm{A}}}$</th>\n",
       "    </tr>\n",
       "  </thead>\n",
       "  <tbody>\n",
       "    <tr>\n",
       "      <th>0</th>\n",
       "      <td>176.068</td>\n",
       "      <td>171.084</td>\n",
       "      <td>68.2983</td>\n",
       "      <td>87.2082</td>\n",
       "      <td>0.023290</td>\n",
       "      <td>0.018751</td>\n",
       "      <td>0.105532</td>\n",
       "      <td>0.070459</td>\n",
       "      <td>0.022349</td>\n",
       "      <td>0.082731</td>\n",
       "    </tr>\n",
       "    <tr>\n",
       "      <th>1</th>\n",
       "      <td>170.459</td>\n",
       "      <td>165.900</td>\n",
       "      <td>56.1189</td>\n",
       "      <td>79.2871</td>\n",
       "      <td>0.015556</td>\n",
       "      <td>0.012323</td>\n",
       "      <td>0.023607</td>\n",
       "      <td>0.014270</td>\n",
       "      <td>0.014881</td>\n",
       "      <td>0.017635</td>\n",
       "    </tr>\n",
       "    <tr>\n",
       "      <th>2</th>\n",
       "      <td>170.071</td>\n",
       "      <td>169.104</td>\n",
       "      <td>58.5605</td>\n",
       "      <td>82.3657</td>\n",
       "      <td>0.015797</td>\n",
       "      <td>0.014367</td>\n",
       "      <td>0.033045</td>\n",
       "      <td>0.019283</td>\n",
       "      <td>0.015516</td>\n",
       "      <td>0.024336</td>\n",
       "    </tr>\n",
       "    <tr>\n",
       "      <th>3</th>\n",
       "      <td>201.667</td>\n",
       "      <td>191.819</td>\n",
       "      <td>59.4689</td>\n",
       "      <td>82.9831</td>\n",
       "      <td>0.057794</td>\n",
       "      <td>0.046807</td>\n",
       "      <td>0.047235</td>\n",
       "      <td>0.030274</td>\n",
       "      <td>0.055443</td>\n",
       "      <td>0.036327</td>\n",
       "    </tr>\n",
       "    <tr>\n",
       "      <th>4</th>\n",
       "      <td>169.384</td>\n",
       "      <td>167.307</td>\n",
       "      <td>60.0413</td>\n",
       "      <td>82.8489</td>\n",
       "      <td>0.014711</td>\n",
       "      <td>0.012212</td>\n",
       "      <td>0.067935</td>\n",
       "      <td>0.037819</td>\n",
       "      <td>0.014183</td>\n",
       "      <td>0.048680</td>\n",
       "    </tr>\n",
       "    <tr>\n",
       "      <th>...</th>\n",
       "      <td>...</td>\n",
       "      <td>...</td>\n",
       "      <td>...</td>\n",
       "      <td>...</td>\n",
       "      <td>...</td>\n",
       "      <td>...</td>\n",
       "      <td>...</td>\n",
       "      <td>...</td>\n",
       "      <td>...</td>\n",
       "      <td>...</td>\n",
       "    </tr>\n",
       "    <tr>\n",
       "      <th>175</th>\n",
       "      <td>176.629</td>\n",
       "      <td>171.773</td>\n",
       "      <td>62.1838</td>\n",
       "      <td>84.7443</td>\n",
       "      <td>0.019615</td>\n",
       "      <td>0.016549</td>\n",
       "      <td>0.076106</td>\n",
       "      <td>0.054268</td>\n",
       "      <td>0.019031</td>\n",
       "      <td>0.061742</td>\n",
       "    </tr>\n",
       "    <tr>\n",
       "      <th>176</th>\n",
       "      <td>186.282</td>\n",
       "      <td>176.219</td>\n",
       "      <td>61.2773</td>\n",
       "      <td>81.9510</td>\n",
       "      <td>0.036178</td>\n",
       "      <td>0.028614</td>\n",
       "      <td>0.063980</td>\n",
       "      <td>0.041068</td>\n",
       "      <td>0.034666</td>\n",
       "      <td>0.048985</td>\n",
       "    </tr>\n",
       "    <tr>\n",
       "      <th>177</th>\n",
       "      <td>171.946</td>\n",
       "      <td>168.570</td>\n",
       "      <td>56.7536</td>\n",
       "      <td>79.7173</td>\n",
       "      <td>0.018136</td>\n",
       "      <td>0.015846</td>\n",
       "      <td>0.020815</td>\n",
       "      <td>0.011969</td>\n",
       "      <td>0.017695</td>\n",
       "      <td>0.015177</td>\n",
       "    </tr>\n",
       "    <tr>\n",
       "      <th>178</th>\n",
       "      <td>200.781</td>\n",
       "      <td>197.025</td>\n",
       "      <td>70.8535</td>\n",
       "      <td>91.5856</td>\n",
       "      <td>0.055808</td>\n",
       "      <td>0.049540</td>\n",
       "      <td>0.121958</td>\n",
       "      <td>0.072069</td>\n",
       "      <td>0.054477</td>\n",
       "      <td>0.090398</td>\n",
       "    </tr>\n",
       "    <tr>\n",
       "      <th>179</th>\n",
       "      <td>165.372</td>\n",
       "      <td>163.010</td>\n",
       "      <td>58.1845</td>\n",
       "      <td>81.1863</td>\n",
       "      <td>0.009811</td>\n",
       "      <td>0.008012</td>\n",
       "      <td>0.039053</td>\n",
       "      <td>0.024207</td>\n",
       "      <td>0.009428</td>\n",
       "      <td>0.029606</td>\n",
       "    </tr>\n",
       "  </tbody>\n",
       "</table>\n",
       "<p>179 rows × 10 columns</p>\n",
       "</div>"
      ],
      "text/plain": [
       "     $V^{\\mathrm{max}}_{\\mathrm{LV}}$  $V^{\\mathrm{max}}_{\\mathrm{RV}}$  \\\n",
       "0                             176.068                           171.084   \n",
       "1                             170.459                           165.900   \n",
       "2                             170.071                           169.104   \n",
       "3                             201.667                           191.819   \n",
       "4                             169.384                           167.307   \n",
       "..                                ...                               ...   \n",
       "175                           176.629                           171.773   \n",
       "176                           186.282                           176.219   \n",
       "177                           171.946                           168.570   \n",
       "178                           200.781                           197.025   \n",
       "179                           165.372                           163.010   \n",
       "\n",
       "     $V^{\\mathrm{max}}_{\\mathrm{LA}}$  $V^{\\mathrm{max}}_{\\mathrm{RA}}$  \\\n",
       "0                             68.2983                           87.2082   \n",
       "1                             56.1189                           79.2871   \n",
       "2                             58.5605                           82.3657   \n",
       "3                             59.4689                           82.9831   \n",
       "4                             60.0413                           82.8489   \n",
       "..                                ...                               ...   \n",
       "175                           62.1838                           84.7443   \n",
       "176                           61.2773                           81.9510   \n",
       "177                           56.7536                           79.7173   \n",
       "178                           70.8535                           91.5856   \n",
       "179                           58.1845                           81.1863   \n",
       "\n",
       "     $\\overline{E_{ff,\\mathrm{LV}}}$  $\\overline{E_{ff,\\mathrm{RV}}}$  \\\n",
       "0                           0.023290                         0.018751   \n",
       "1                           0.015556                         0.012323   \n",
       "2                           0.015797                         0.014367   \n",
       "3                           0.057794                         0.046807   \n",
       "4                           0.014711                         0.012212   \n",
       "..                               ...                              ...   \n",
       "175                         0.019615                         0.016549   \n",
       "176                         0.036178                         0.028614   \n",
       "177                         0.018136                         0.015846   \n",
       "178                         0.055808                         0.049540   \n",
       "179                         0.009811                         0.008012   \n",
       "\n",
       "     $\\overline{E_{ff,\\mathrm{LA}}}$  $\\overline{E_{ff,\\mathrm{RA}}}$  \\\n",
       "0                           0.105532                         0.070459   \n",
       "1                           0.023607                         0.014270   \n",
       "2                           0.033045                         0.019283   \n",
       "3                           0.047235                         0.030274   \n",
       "4                           0.067935                         0.037819   \n",
       "..                               ...                              ...   \n",
       "175                         0.076106                         0.054268   \n",
       "176                         0.063980                         0.041068   \n",
       "177                         0.020815                         0.011969   \n",
       "178                         0.121958                         0.072069   \n",
       "179                         0.039053                         0.024207   \n",
       "\n",
       "     $\\overline{E_{ff,\\mathrm{V}}}$  $\\overline{E_{ff,\\mathrm{A}}}$  \n",
       "0                          0.022349                        0.082731  \n",
       "1                          0.014881                        0.017635  \n",
       "2                          0.015516                        0.024336  \n",
       "3                          0.055443                        0.036327  \n",
       "4                          0.014183                        0.048680  \n",
       "..                              ...                             ...  \n",
       "175                        0.019031                        0.061742  \n",
       "176                        0.034666                        0.048985  \n",
       "177                        0.017695                        0.015177  \n",
       "178                        0.054477                        0.090398  \n",
       "179                        0.009428                        0.029606  \n",
       "\n",
       "[179 rows x 10 columns]"
      ]
     },
     "execution_count": 14,
     "metadata": {},
     "output_type": "execute_result"
    }
   ],
   "source": [
    "y_all"
   ]
  },
  {
   "cell_type": "code",
   "execution_count": 15,
   "id": "50a91180",
   "metadata": {},
   "outputs": [],
   "source": [
    "y_train = torch.tensor(y_all.values)\n",
    "x_train = torch.tensor(input_masked.values)"
   ]
  },
  {
   "cell_type": "code",
   "execution_count": 16,
   "id": "5b7a1c9d",
   "metadata": {},
   "outputs": [
    {
     "data": {
      "text/plain": [
       "tensor([[1.7607e+02, 1.7108e+02, 6.8298e+01,  ..., 7.0459e-02, 2.2349e-02,\n",
       "         8.2731e-02],\n",
       "        [1.7046e+02, 1.6590e+02, 5.6119e+01,  ..., 1.4270e-02, 1.4881e-02,\n",
       "         1.7635e-02],\n",
       "        [1.7007e+02, 1.6910e+02, 5.8560e+01,  ..., 1.9283e-02, 1.5516e-02,\n",
       "         2.4336e-02],\n",
       "        ...,\n",
       "        [1.7195e+02, 1.6857e+02, 5.6754e+01,  ..., 1.1969e-02, 1.7695e-02,\n",
       "         1.5177e-02],\n",
       "        [2.0078e+02, 1.9703e+02, 7.0853e+01,  ..., 7.2069e-02, 5.4477e-02,\n",
       "         9.0398e-02],\n",
       "        [1.6537e+02, 1.6301e+02, 5.8184e+01,  ..., 2.4207e-02, 9.4279e-03,\n",
       "         2.9606e-02]], dtype=torch.float64)"
      ]
     },
     "execution_count": 16,
     "metadata": {},
     "output_type": "execute_result"
    }
   ],
   "source": [
    "y_train"
   ]
  },
  {
   "cell_type": "code",
   "execution_count": 17,
   "id": "b1e17ce0",
   "metadata": {},
   "outputs": [
    {
     "data": {
      "text/plain": [
       "torch.Size([179, 9])"
      ]
     },
     "execution_count": 17,
     "metadata": {},
     "output_type": "execute_result"
    }
   ],
   "source": [
    "x_train.shape"
   ]
  },
  {
   "cell_type": "code",
   "execution_count": 18,
   "id": "670120df",
   "metadata": {},
   "outputs": [
    {
     "name": "stdout",
     "output_type": "stream",
     "text": [
      "0\n",
      "1\n",
      "2\n",
      "3\n",
      "4\n",
      "5\n",
      "6\n",
      "7\n",
      "8\n",
      "9\n"
     ]
    }
   ],
   "source": [
    "emulator = GPE.ensemble(x_train,y_train,mean_func=\"linear\",training_iter=500)"
   ]
  },
  {
   "cell_type": "code",
   "execution_count": 19,
   "id": "0a066022",
   "metadata": {},
   "outputs": [
    {
     "name": "stdout",
     "output_type": "stream",
     "text": [
      "[0.427415, 6.7379]\n",
      "[2.05874, 31.9866]\n",
      "[1.12282, 15.9934]\n",
      "[0.7982, 11.9999]\n",
      "[0.459189, 6.79268]\n",
      "[2.1253, 31.5848]\n",
      "[1.0859, 15.9728]\n",
      "[0.776844, 11.9557]\n",
      "[0.000259772, 0.00397582]\n"
     ]
    }
   ],
   "source": [
    "nDim = input_masked.shape[1]\n",
    "boundsMaxMin = []\n",
    "for i in range(nDim):\n",
    "    boundsMaxMin.append([np.min(input_masked.iloc[:,i]),np.max(input_masked.iloc[:,i])])\n",
    "    print(boundsMaxMin[i])"
   ]
  },
  {
   "cell_type": "code",
   "execution_count": 20,
   "id": "5b05f92a",
   "metadata": {},
   "outputs": [
    {
     "name": "stderr",
     "output_type": "stream",
     "text": [
      "/var/folders/_j/ptyc01811q5b1dg30hshtfzh0000gr/T/ipykernel_612/2553582652.py:24: DeprecationWarning: `salib.sample.saltelli` will be removed in SALib 1.5. Please use `salib.sample.sobol`\n",
      "  param_values = saltelli.sample(problem, 1024)\n"
     ]
    }
   ],
   "source": [
    "##### from SALib.sample import saltelli\n",
    "from SALib.sample import saltelli\n",
    "from SALib.analyze import sobol\n",
    "from SALib.test_functions import Ishigami\n",
    "import numpy as np\n",
    "\n",
    "# Define the model inputs\n",
    "problem = {\n",
    "    'num_vars': nDim,\n",
    "    'names': x_labels,\n",
    "    'bounds': boundsMaxMin\n",
    "    #'bounds': [[-1, 1],\n",
    "     #          [-1, 1],\n",
    "      #         [-1, 1],\n",
    "       #        [-1, 1],\n",
    "        #       [-1, 1],\n",
    "         #      [-1, 1],\n",
    "          #     [-1, 1],\n",
    "           #    [-1, 1],\n",
    "            #   [-1,1]]\n",
    "}\n",
    "\n",
    "# Generate samples\n",
    "param_values = saltelli.sample(problem, 1024)\n",
    "\n",
    "data1 = torch.tensor(param_values)\n",
    "#data1.columns = X_train.columns\n",
    "\n",
    "Ymean=emulator.predict(data1)"
   ]
  },
  {
   "cell_type": "code",
   "execution_count": 21,
   "id": "79378723",
   "metadata": {},
   "outputs": [
    {
     "name": "stdout",
     "output_type": "stream",
     "text": [
      "                     ST   ST_conf\n",
      "($a_{v}$,)     0.651846  0.090139\n",
      "($b_{f,v}$,)   0.198330  0.030596\n",
      "($b_{fs,v}$,)  0.006350  0.000894\n",
      "($b{t,v}$,)    0.268548  0.036620\n",
      "($a_{a}$,)     0.000108  0.000019\n",
      "($b_{f,a}$,)   0.005317  0.001099\n",
      "($b_{fs,a}$,)  0.000140  0.000023\n",
      "($b_{t,a}$,)   0.000738  0.000144\n",
      "($k_{peri}$,)  0.025022  0.003850\n",
      "                     S1   S1_conf\n",
      "($a_{v}$,)     0.560891  0.071339\n",
      "($b_{f,v}$,)   0.115851  0.047268\n",
      "($b_{fs,v}$,)  0.005887  0.007687\n",
      "($b{t,v}$,)    0.174996  0.042252\n",
      "($a_{a}$,)    -0.000012  0.000932\n",
      "($b_{f,a}$,)   0.002982  0.005477\n",
      "($b_{fs,a}$,) -0.000184  0.001054\n",
      "($b_{t,a}$,)  -0.001546  0.002715\n",
      "($k_{peri}$,)  0.024886  0.015479\n",
      "Empty DataFrame\n",
      "Columns: [S2, S2_conf]\n",
      "Index: []\n",
      "                     ST   ST_conf\n",
      "($a_{v}$,)     0.549034  0.069684\n",
      "($b_{f,v}$,)   0.139653  0.023371\n",
      "($b_{fs,v}$,)  0.004557  0.000615\n",
      "($b{t,v}$,)    0.244433  0.035579\n",
      "($a_{a}$,)     0.001803  0.000235\n",
      "($b_{f,a}$,)   0.003860  0.000713\n",
      "($b_{fs,a}$,)  0.000225  0.000029\n",
      "($b_{t,a}$,)   0.001704  0.000220\n",
      "($k_{peri}$,)  0.235310  0.036872\n",
      "                     S1   S1_conf\n",
      "($a_{v}$,)     0.457592  0.055293\n",
      "($b_{f,v}$,)   0.084794  0.038508\n",
      "($b_{fs,v}$,)  0.004950  0.006007\n",
      "($b{t,v}$,)    0.177892  0.039751\n",
      "($a_{a}$,)     0.001228  0.003618\n",
      "($b_{f,a}$,)   0.002752  0.006115\n",
      "($b_{fs,a}$,) -0.000022  0.001401\n",
      "($b_{t,a}$,)  -0.000288  0.004648\n",
      "($k_{peri}$,)  0.166921  0.049577\n",
      "Empty DataFrame\n",
      "Columns: [S2, S2_conf]\n",
      "Index: []\n",
      "                     ST   ST_conf\n",
      "($a_{v}$,)     0.004963  0.000605\n",
      "($b_{f,v}$,)   0.000153  0.000022\n",
      "($b_{fs,v}$,)  0.000678  0.000082\n",
      "($b{t,v}$,)    0.006053  0.000650\n",
      "($a_{a}$,)     0.586343  0.058951\n",
      "($b_{f,a}$,)   0.078413  0.011008\n",
      "($b_{fs,a}$,)  0.007425  0.000722\n",
      "($b_{t,a}$,)   0.257182  0.025439\n",
      "($k_{peri}$,)  0.109482  0.015763\n",
      "                     S1   S1_conf\n",
      "($a_{v}$,)     0.005013  0.006300\n",
      "($b_{f,v}$,)   0.000372  0.001045\n",
      "($b_{fs,v}$,)  0.001709  0.002246\n",
      "($b{t,v}$,)    0.005083  0.006190\n",
      "($a_{a}$,)     0.548558  0.072592\n",
      "($b_{f,a}$,)   0.060062  0.027558\n",
      "($b_{fs,a}$,)  0.006036  0.007159\n",
      "($b_{t,a}$,)   0.233537  0.042161\n",
      "($k_{peri}$,)  0.088026  0.025724\n",
      "Empty DataFrame\n",
      "Columns: [S2, S2_conf]\n",
      "Index: []\n",
      "                     ST   ST_conf\n",
      "($a_{v}$,)     0.014405  0.001536\n",
      "($b_{f,v}$,)   0.000533  0.000067\n",
      "($b_{fs,v}$,)  0.004123  0.000424\n",
      "($b{t,v}$,)    0.019605  0.002113\n",
      "($a_{a}$,)     0.547481  0.058345\n",
      "($b_{f,a}$,)   0.058578  0.008959\n",
      "($b_{fs,a}$,)  0.005479  0.000600\n",
      "($b_{t,a}$,)   0.165454  0.019451\n",
      "($k_{peri}$,)  0.255405  0.032296\n",
      "                     S1   S1_conf\n",
      "($a_{v}$,)     0.014382  0.009986\n",
      "($b_{f,v}$,)   0.000420  0.001808\n",
      "($b_{fs,v}$,)  0.005740  0.006748\n",
      "($b{t,v}$,)    0.017879  0.014068\n",
      "($a_{a}$,)     0.496113  0.073538\n",
      "($b_{f,a}$,)   0.047142  0.019180\n",
      "($b_{fs,a}$,)  0.005012  0.005960\n",
      "($b_{t,a}$,)   0.148931  0.036196\n",
      "($k_{peri}$,)  0.203093  0.041438\n",
      "Empty DataFrame\n",
      "Columns: [S2, S2_conf]\n",
      "Index: []\n",
      "                     ST   ST_conf\n",
      "($a_{v}$,)     0.649313  0.078981\n",
      "($b_{f,v}$,)   0.224391  0.033882\n",
      "($b_{fs,v}$,)  0.001977  0.000358\n",
      "($b{t,v}$,)    0.246020  0.038388\n",
      "($a_{a}$,)     0.000317  0.000044\n",
      "($b_{f,a}$,)   0.004103  0.000772\n",
      "($b_{fs,a}$,)  0.000126  0.000021\n",
      "($b_{t,a}$,)   0.000467  0.000083\n",
      "($k_{peri}$,)  0.020164  0.002705\n",
      "                     S1   S1_conf\n",
      "($a_{v}$,)     0.563054  0.077941\n",
      "($b_{f,v}$,)   0.139162  0.053106\n",
      "($b_{fs,v}$,)  0.001919  0.004213\n",
      "($b{t,v}$,)    0.158486  0.041217\n",
      "($a_{a}$,)     0.000128  0.001592\n",
      "($b_{f,a}$,)   0.002327  0.004726\n",
      "($b_{fs,a}$,) -0.000310  0.001097\n",
      "($b_{t,a}$,)  -0.001330  0.002262\n",
      "($k_{peri}$,)  0.020487  0.014500\n",
      "Empty DataFrame\n",
      "Columns: [S2, S2_conf]\n",
      "Index: []\n",
      "                     ST   ST_conf\n",
      "($a_{v}$,)     0.630673  0.082900\n",
      "($b_{f,v}$,)   0.201178  0.039210\n",
      "($b_{fs,v}$,)  0.001346  0.000217\n",
      "($b{t,v}$,)    0.268407  0.040132\n",
      "($a_{a}$,)     0.001003  0.000120\n",
      "($b_{f,a}$,)   0.005477  0.001130\n",
      "($b_{fs,a}$,)  0.000220  0.000033\n",
      "($b_{t,a}$,)   0.000582  0.000085\n",
      "($k_{peri}$,)  0.053365  0.007521\n",
      "                     S1   S1_conf\n",
      "($a_{v}$,)     0.540330  0.081648\n",
      "($b_{f,v}$,)   0.120012  0.040972\n",
      "($b_{fs,v}$,)  0.001513  0.003717\n",
      "($b{t,v}$,)    0.179669  0.042488\n",
      "($a_{a}$,)     0.000688  0.002476\n",
      "($b_{f,a}$,)   0.002776  0.006336\n",
      "($b_{fs,a}$,) -0.000170  0.001133\n",
      "($b_{t,a}$,)  -0.001224  0.002478\n",
      "($k_{peri}$,)  0.045665  0.022904\n",
      "Empty DataFrame\n",
      "Columns: [S2, S2_conf]\n",
      "Index: []\n",
      "                     ST   ST_conf\n",
      "($a_{v}$,)     0.000804  0.000095\n",
      "($b_{f,v}$,)   0.000041  0.000005\n",
      "($b_{fs,v}$,)  0.000256  0.000036\n",
      "($b{t,v}$,)    0.002666  0.000280\n",
      "($a_{a}$,)     0.622766  0.060759\n",
      "($b_{f,a}$,)   0.260763  0.031189\n",
      "($b_{fs,a}$,)  0.005607  0.000655\n",
      "($b_{t,a}$,)   0.092157  0.011687\n",
      "($k_{peri}$,)  0.085443  0.009768\n",
      "                     S1   S1_conf\n",
      "($a_{v}$,)     0.000704  0.002359\n",
      "($b_{f,v}$,)   0.000066  0.000526\n",
      "($b_{fs,v}$,)  0.000308  0.001264\n",
      "($b{t,v}$,)    0.002076  0.004415\n",
      "($a_{a}$,)     0.576501  0.076474\n",
      "($b_{f,a}$,)   0.211391  0.039550\n",
      "($b_{fs,a}$,)  0.002778  0.006417\n",
      "($b_{t,a}$,)   0.079804  0.022903\n",
      "($k_{peri}$,)  0.068582  0.028291\n",
      "Empty DataFrame\n",
      "Columns: [S2, S2_conf]\n",
      "Index: []\n",
      "                     ST   ST_conf\n",
      "($a_{v}$,)     0.000281  0.000039\n",
      "($b_{f,v}$,)   0.000032  0.000005\n",
      "($b_{fs,v}$,)  0.000667  0.000091\n",
      "($b{t,v}$,)    0.001935  0.000262\n",
      "($a_{a}$,)     0.710825  0.067749\n",
      "($b_{f,a}$,)   0.213212  0.028352\n",
      "($b_{fs,a}$,)  0.003780  0.000507\n",
      "($b_{t,a}$,)   0.078870  0.008970\n",
      "($k_{peri}$,)  0.057657  0.007105\n",
      "                     S1   S1_conf\n",
      "($a_{v}$,)     0.000208  0.001548\n",
      "($b_{f,v}$,)   0.000026  0.000457\n",
      "($b_{fs,v}$,)  0.001454  0.002778\n",
      "($b{t,v}$,)    0.001110  0.003887\n",
      "($a_{a}$,)     0.658448  0.078377\n",
      "($b_{f,a}$,)   0.166990  0.039282\n",
      "($b_{fs,a}$,)  0.001183  0.005027\n",
      "($b_{t,a}$,)   0.069122  0.022963\n",
      "($k_{peri}$,)  0.044075  0.018413\n",
      "Empty DataFrame\n",
      "Columns: [S2, S2_conf]\n",
      "Index: []\n",
      "                     ST   ST_conf\n",
      "($a_{v}$,)     0.646413  0.093870\n",
      "($b_{f,v}$,)   0.221196  0.033309\n",
      "($b_{fs,v}$,)  0.001597  0.000256\n",
      "($b{t,v}$,)    0.252566  0.037163\n",
      "($a_{a}$,)     0.000323  0.000043\n",
      "($b_{f,a}$,)   0.004060  0.000815\n",
      "($b_{fs,a}$,)  0.000126  0.000019\n",
      "($b_{t,a}$,)   0.000382  0.000066\n",
      "($k_{peri}$,)  0.024996  0.003743\n",
      "                     S1   S1_conf\n",
      "($a_{v}$,)     0.558375  0.077487\n",
      "($b_{f,v}$,)   0.135357  0.044979\n",
      "($b_{fs,v}$,)  0.001599  0.003640\n",
      "($b{t,v}$,)    0.162495  0.038208\n",
      "($a_{a}$,)     0.000184  0.001463\n",
      "($b_{f,a}$,)   0.002222  0.005294\n",
      "($b_{fs,a}$,) -0.000164  0.000975\n",
      "($b_{t,a}$,)  -0.001117  0.002013\n",
      "($k_{peri}$,)  0.024221  0.014453\n",
      "Empty DataFrame\n",
      "Columns: [S2, S2_conf]\n",
      "Index: []\n",
      "                     ST   ST_conf\n",
      "($a_{v}$,)     0.000530  0.000063\n",
      "($b_{f,v}$,)   0.000024  0.000003\n",
      "($b_{fs,v}$,)  0.000461  0.000064\n",
      "($b{t,v}$,)    0.002705  0.000309\n",
      "($a_{a}$,)     0.669387  0.061000\n",
      "($b_{f,a}$,)   0.234346  0.032650\n",
      "($b_{fs,a}$,)  0.004389  0.000629\n",
      "($b_{t,a}$,)   0.086025  0.011088\n",
      "($k_{peri}$,)  0.072446  0.009747\n",
      "                     S1   S1_conf\n",
      "($a_{v}$,)     0.000476  0.002151\n",
      "($b_{f,v}$,)   0.000020  0.000401\n",
      "($b_{fs,v}$,)  0.000948  0.001793\n",
      "($b{t,v}$,)    0.002025  0.004844\n",
      "($a_{a}$,)     0.618838  0.070327\n",
      "($b_{f,a}$,)   0.186030  0.038164\n",
      "($b_{fs,a}$,)  0.001732  0.005957\n",
      "($b_{t,a}$,)   0.074737  0.023243\n",
      "($k_{peri}$,)  0.056572  0.020379\n",
      "Empty DataFrame\n",
      "Columns: [S2, S2_conf]\n",
      "Index: []\n"
     ]
    }
   ],
   "source": [
    "Si = []\n",
    "nMod = y_all.shape[1]\n",
    "nDim = input_masked.shape[1]\n",
    "for i in range(nMod):\n",
    "    Si.append(sobol.analyze(problem, Ymean[:,i].detach().numpy(), print_to_console=True,calc_second_order=True))"
   ]
  },
  {
   "cell_type": "code",
   "execution_count": 22,
   "id": "be973aac",
   "metadata": {},
   "outputs": [],
   "source": [
    "Si_first=np.zeros((nDim,nMod))\n",
    "Si_total=np.zeros((nDim,nMod))\n",
    "for i in range(nMod):\n",
    "    total_Si, first_Si, second_Si = Si[i].to_df()\n",
    "    Si_first[:,i] =  first_Si.iloc[:,0]\n",
    "    Si_total[:,i] =  total_Si.iloc[:,0]\n"
   ]
  },
  {
   "cell_type": "code",
   "execution_count": 23,
   "id": "dce4441b",
   "metadata": {},
   "outputs": [
    {
     "data": {
      "text/plain": [
       "['$a_{v}$',\n",
       " '$b_{f,v}$',\n",
       " '$b_{fs,v}$',\n",
       " '$b{t,v}$',\n",
       " '$a_{a}$',\n",
       " '$b_{f,a}$',\n",
       " '$b_{fs,a}$',\n",
       " '$b_{t,a}$',\n",
       " '$k_{peri}$']"
      ]
     },
     "execution_count": 23,
     "metadata": {},
     "output_type": "execute_result"
    }
   ],
   "source": [
    "x_labels.values.squeeze().tolist()"
   ]
  },
  {
   "cell_type": "code",
   "execution_count": 24,
   "id": "e263f1fa",
   "metadata": {},
   "outputs": [
    {
     "data": {
      "text/plain": [
       "['$V^{\\\\mathrm{max}}_{\\\\mathrm{LV}}$',\n",
       " '$V^{\\\\mathrm{max}}_{\\\\mathrm{RV}}$',\n",
       " '$V^{\\\\mathrm{max}}_{\\\\mathrm{LA}}$',\n",
       " '$V^{\\\\mathrm{max}}_{\\\\mathrm{RA}}$',\n",
       " '$\\\\overline{E_{ff,\\\\mathrm{LV}}}$',\n",
       " '$\\\\overline{E_{ff,\\\\mathrm{RV}}}$',\n",
       " '$\\\\overline{E_{ff,\\\\mathrm{LA}}}$',\n",
       " '$\\\\overline{E_{ff,\\\\mathrm{RA}}}$',\n",
       " '$\\\\overline{E_{ff,\\\\mathrm{V}}}$',\n",
       " '$\\\\overline{E_{ff,\\\\mathrm{A}}}$']"
      ]
     },
     "execution_count": 24,
     "metadata": {},
     "output_type": "execute_result"
    }
   ],
   "source": [
    "y_all.columns.tolist()"
   ]
  },
  {
   "cell_type": "code",
   "execution_count": 25,
   "id": "47ad6507",
   "metadata": {},
   "outputs": [
    {
     "data": {
      "text/plain": [
       "['PCa_b',\n",
       " 'Tref',\n",
       " 'perm50',\n",
       " 'CV_ventricles',\n",
       " 'a_ventricles',\n",
       " 'EDP_lv',\n",
       " 'EDP_rv',\n",
       " 'Rsys',\n",
       " 'Rpulm']"
      ]
     },
     "execution_count": 25,
     "metadata": {},
     "output_type": "execute_result"
    }
   ],
   "source": [
    "['PCa_b',\n",
    " 'Tref',\n",
    " 'perm50',\n",
    " 'CV_ventricles',\n",
    " 'a_ventricles',\n",
    " 'EDP_lv',\n",
    " 'EDP_rv',\n",
    " 'Rsys',\n",
    " 'Rpulm']"
   ]
  },
  {
   "cell_type": "code",
   "execution_count": 26,
   "id": "b6b05bcd",
   "metadata": {},
   "outputs": [
    {
     "data": {
      "text/plain": [
       "<matplotlib.colorbar.Colorbar at 0x2b144f0d0>"
      ]
     },
     "execution_count": 26,
     "metadata": {},
     "output_type": "execute_result"
    },
    {
     "data": {
      "image/png": "[encoded data removed]",
      "text/plain": [
       "<Figure size 640x480 with 2 Axes>"
      ]
     },
     "metadata": {},
     "output_type": "display_data"
    }
   ],
   "source": [
    "inputs = X_all.columns.tolist()\n",
    "outputs = y_all.columns.tolist()\n",
    "fig, ax = plt.subplots()\n",
    "im = ax.imshow(Si_first[0:28],cmap='magma_r',vmin=0,vmax=1)\n",
    "\n",
    "ax.set_xticks(np.arange(len(outputs)),labels=outputs)\n",
    "ax.set_yticks(np.arange(len(inputs)), labels=inputs)\n",
    "plt.setp(ax.get_xticklabels(), rotation=60, ha=\"right\",\n",
    "         rotation_mode=\"anchor\");\n",
    "\n",
    "plt.colorbar(im,fraction=0.015, pad=0.04)"
   ]
  },
  {
   "cell_type": "code",
   "execution_count": 27,
   "id": "1bae98e0",
   "metadata": {
    "scrolled": false
   },
   "outputs": [
    {
     "data": {
      "text/plain": [
       "<matplotlib.colorbar.Colorbar at 0x2cda3fa90>"
      ]
     },
     "execution_count": 27,
     "metadata": {},
     "output_type": "execute_result"
    },
    {
     "data": {
      "image/png": "[encoded data removed]",
      "text/plain": [
       "<Figure size 640x480 with 2 Axes>"
      ]
     },
     "metadata": {},
     "output_type": "display_data"
    }
   ],
   "source": [
    "inputs = X_all.columns.tolist()\n",
    "outputs = y_all.columns.tolist()\n",
    "fig, ax = plt.subplots()\n",
    "im = ax.imshow(Si_total.T[0:28],cmap='magma_r',vmin=0,vmax=1)\n",
    "\n",
    "ax.set_yticks(np.arange(len(outputs)),labels=outputs)\n",
    "ax.set_xticks(np.arange(len(inputs)), labels=inputs)\n",
    "plt.setp(ax.get_xticklabels(), rotation=65, ha=\"right\",\n",
    "         rotation_mode=\"anchor\");\n",
    "\n",
    "plt.colorbar(im,fraction=0.015, pad=0.04)"
   ]
  },
  {
   "cell_type": "code",
   "execution_count": 42,
   "id": "015d5229",
   "metadata": {},
   "outputs": [
    {
     "data": {
      "text/plain": [
       "<matplotlib.colorbar.Colorbar at 0x2d0bff690>"
      ]
     },
     "execution_count": 42,
     "metadata": {},
     "output_type": "execute_result"
    },
    {
     "data": {
      "image/png": "[encoded data removed]",
      "text/plain": [
       "<Figure size 640x480 with 2 Axes>"
      ]
     },
     "metadata": {},
     "output_type": "display_data"
    }
   ],
   "source": [
    "inputs = X_all.columns.tolist()\n",
    "outputs = y_all.columns[[0,1,2,3,8,9]].tolist()\n",
    "fig, ax = plt.subplots()\n",
    "im = ax.imshow(Si_total.T[[0,1,2,3,8,9]],cmap='magma_r',vmin=0,vmax=1)\n",
    "\n",
    "ax.set_yticks(np.arange(len(outputs)),labels=outputs)\n",
    "ax.set_xticks(np.arange(len(inputs)), labels=inputs)\n",
    "plt.setp(ax.get_xticklabels(), rotation=65, ha=\"right\",\n",
    "         rotation_mode=\"anchor\");\n",
    "\n",
    "plt.colorbar(im,fraction=0.015, pad=0.04)"
   ]
  },
  {
   "cell_type": "code",
   "execution_count": 28,
   "id": "03017a14",
   "metadata": {},
   "outputs": [
    {
     "data": {
      "text/html": [
       "<div>\n",
       "<style scoped>\n",
       "    .dataframe tbody tr th:only-of-type {\n",
       "        vertical-align: middle;\n",
       "    }\n",
       "\n",
       "    .dataframe tbody tr th {\n",
       "        vertical-align: top;\n",
       "    }\n",
       "\n",
       "    .dataframe thead th {\n",
       "        text-align: right;\n",
       "    }\n",
       "</style>\n",
       "<table border=\"1\" class=\"dataframe\">\n",
       "  <thead>\n",
       "    <tr style=\"text-align: right;\">\n",
       "      <th></th>\n",
       "      <th>$V^{\\mathrm{max}}_{\\mathrm{LV}}$</th>\n",
       "      <th>$V^{\\mathrm{max}}_{\\mathrm{RV}}$</th>\n",
       "      <th>$V^{\\mathrm{max}}_{\\mathrm{LA}}$</th>\n",
       "      <th>$V^{\\mathrm{max}}_{\\mathrm{RA}}$</th>\n",
       "      <th>$\\overline{E_{ff,\\mathrm{LV}}}$</th>\n",
       "      <th>$\\overline{E_{ff,\\mathrm{RV}}}$</th>\n",
       "      <th>$\\overline{E_{ff,\\mathrm{LA}}}$</th>\n",
       "      <th>$\\overline{E_{ff,\\mathrm{RA}}}$</th>\n",
       "      <th>$\\overline{E_{ff,\\mathrm{V}}}$</th>\n",
       "      <th>$\\overline{E_{ff,\\mathrm{A}}}$</th>\n",
       "    </tr>\n",
       "  </thead>\n",
       "  <tbody>\n",
       "    <tr>\n",
       "      <th>0</th>\n",
       "      <td>176.068</td>\n",
       "      <td>171.084</td>\n",
       "      <td>68.2983</td>\n",
       "      <td>87.2082</td>\n",
       "      <td>0.023290</td>\n",
       "      <td>0.018751</td>\n",
       "      <td>0.105532</td>\n",
       "      <td>0.070459</td>\n",
       "      <td>0.022349</td>\n",
       "      <td>0.082731</td>\n",
       "    </tr>\n",
       "    <tr>\n",
       "      <th>1</th>\n",
       "      <td>170.459</td>\n",
       "      <td>165.900</td>\n",
       "      <td>56.1189</td>\n",
       "      <td>79.2871</td>\n",
       "      <td>0.015556</td>\n",
       "      <td>0.012323</td>\n",
       "      <td>0.023607</td>\n",
       "      <td>0.014270</td>\n",
       "      <td>0.014881</td>\n",
       "      <td>0.017635</td>\n",
       "    </tr>\n",
       "    <tr>\n",
       "      <th>2</th>\n",
       "      <td>170.071</td>\n",
       "      <td>169.104</td>\n",
       "      <td>58.5605</td>\n",
       "      <td>82.3657</td>\n",
       "      <td>0.015797</td>\n",
       "      <td>0.014367</td>\n",
       "      <td>0.033045</td>\n",
       "      <td>0.019283</td>\n",
       "      <td>0.015516</td>\n",
       "      <td>0.024336</td>\n",
       "    </tr>\n",
       "    <tr>\n",
       "      <th>3</th>\n",
       "      <td>201.667</td>\n",
       "      <td>191.819</td>\n",
       "      <td>59.4689</td>\n",
       "      <td>82.9831</td>\n",
       "      <td>0.057794</td>\n",
       "      <td>0.046807</td>\n",
       "      <td>0.047235</td>\n",
       "      <td>0.030274</td>\n",
       "      <td>0.055443</td>\n",
       "      <td>0.036327</td>\n",
       "    </tr>\n",
       "    <tr>\n",
       "      <th>4</th>\n",
       "      <td>169.384</td>\n",
       "      <td>167.307</td>\n",
       "      <td>60.0413</td>\n",
       "      <td>82.8489</td>\n",
       "      <td>0.014711</td>\n",
       "      <td>0.012212</td>\n",
       "      <td>0.067935</td>\n",
       "      <td>0.037819</td>\n",
       "      <td>0.014183</td>\n",
       "      <td>0.048680</td>\n",
       "    </tr>\n",
       "    <tr>\n",
       "      <th>...</th>\n",
       "      <td>...</td>\n",
       "      <td>...</td>\n",
       "      <td>...</td>\n",
       "      <td>...</td>\n",
       "      <td>...</td>\n",
       "      <td>...</td>\n",
       "      <td>...</td>\n",
       "      <td>...</td>\n",
       "      <td>...</td>\n",
       "      <td>...</td>\n",
       "    </tr>\n",
       "    <tr>\n",
       "      <th>175</th>\n",
       "      <td>176.629</td>\n",
       "      <td>171.773</td>\n",
       "      <td>62.1838</td>\n",
       "      <td>84.7443</td>\n",
       "      <td>0.019615</td>\n",
       "      <td>0.016549</td>\n",
       "      <td>0.076106</td>\n",
       "      <td>0.054268</td>\n",
       "      <td>0.019031</td>\n",
       "      <td>0.061742</td>\n",
       "    </tr>\n",
       "    <tr>\n",
       "      <th>176</th>\n",
       "      <td>186.282</td>\n",
       "      <td>176.219</td>\n",
       "      <td>61.2773</td>\n",
       "      <td>81.9510</td>\n",
       "      <td>0.036178</td>\n",
       "      <td>0.028614</td>\n",
       "      <td>0.063980</td>\n",
       "      <td>0.041068</td>\n",
       "      <td>0.034666</td>\n",
       "      <td>0.048985</td>\n",
       "    </tr>\n",
       "    <tr>\n",
       "      <th>177</th>\n",
       "      <td>171.946</td>\n",
       "      <td>168.570</td>\n",
       "      <td>56.7536</td>\n",
       "      <td>79.7173</td>\n",
       "      <td>0.018136</td>\n",
       "      <td>0.015846</td>\n",
       "      <td>0.020815</td>\n",
       "      <td>0.011969</td>\n",
       "      <td>0.017695</td>\n",
       "      <td>0.015177</td>\n",
       "    </tr>\n",
       "    <tr>\n",
       "      <th>178</th>\n",
       "      <td>200.781</td>\n",
       "      <td>197.025</td>\n",
       "      <td>70.8535</td>\n",
       "      <td>91.5856</td>\n",
       "      <td>0.055808</td>\n",
       "      <td>0.049540</td>\n",
       "      <td>0.121958</td>\n",
       "      <td>0.072069</td>\n",
       "      <td>0.054477</td>\n",
       "      <td>0.090398</td>\n",
       "    </tr>\n",
       "    <tr>\n",
       "      <th>179</th>\n",
       "      <td>165.372</td>\n",
       "      <td>163.010</td>\n",
       "      <td>58.1845</td>\n",
       "      <td>81.1863</td>\n",
       "      <td>0.009811</td>\n",
       "      <td>0.008012</td>\n",
       "      <td>0.039053</td>\n",
       "      <td>0.024207</td>\n",
       "      <td>0.009428</td>\n",
       "      <td>0.029606</td>\n",
       "    </tr>\n",
       "  </tbody>\n",
       "</table>\n",
       "<p>179 rows × 10 columns</p>\n",
       "</div>"
      ],
      "text/plain": [
       "     $V^{\\mathrm{max}}_{\\mathrm{LV}}$  $V^{\\mathrm{max}}_{\\mathrm{RV}}$  \\\n",
       "0                             176.068                           171.084   \n",
       "1                             170.459                           165.900   \n",
       "2                             170.071                           169.104   \n",
       "3                             201.667                           191.819   \n",
       "4                             169.384                           167.307   \n",
       "..                                ...                               ...   \n",
       "175                           176.629                           171.773   \n",
       "176                           186.282                           176.219   \n",
       "177                           171.946                           168.570   \n",
       "178                           200.781                           197.025   \n",
       "179                           165.372                           163.010   \n",
       "\n",
       "     $V^{\\mathrm{max}}_{\\mathrm{LA}}$  $V^{\\mathrm{max}}_{\\mathrm{RA}}$  \\\n",
       "0                             68.2983                           87.2082   \n",
       "1                             56.1189                           79.2871   \n",
       "2                             58.5605                           82.3657   \n",
       "3                             59.4689                           82.9831   \n",
       "4                             60.0413                           82.8489   \n",
       "..                                ...                               ...   \n",
       "175                           62.1838                           84.7443   \n",
       "176                           61.2773                           81.9510   \n",
       "177                           56.7536                           79.7173   \n",
       "178                           70.8535                           91.5856   \n",
       "179                           58.1845                           81.1863   \n",
       "\n",
       "     $\\overline{E_{ff,\\mathrm{LV}}}$  $\\overline{E_{ff,\\mathrm{RV}}}$  \\\n",
       "0                           0.023290                         0.018751   \n",
       "1                           0.015556                         0.012323   \n",
       "2                           0.015797                         0.014367   \n",
       "3                           0.057794                         0.046807   \n",
       "4                           0.014711                         0.012212   \n",
       "..                               ...                              ...   \n",
       "175                         0.019615                         0.016549   \n",
       "176                         0.036178                         0.028614   \n",
       "177                         0.018136                         0.015846   \n",
       "178                         0.055808                         0.049540   \n",
       "179                         0.009811                         0.008012   \n",
       "\n",
       "     $\\overline{E_{ff,\\mathrm{LA}}}$  $\\overline{E_{ff,\\mathrm{RA}}}$  \\\n",
       "0                           0.105532                         0.070459   \n",
       "1                           0.023607                         0.014270   \n",
       "2                           0.033045                         0.019283   \n",
       "3                           0.047235                         0.030274   \n",
       "4                           0.067935                         0.037819   \n",
       "..                               ...                              ...   \n",
       "175                         0.076106                         0.054268   \n",
       "176                         0.063980                         0.041068   \n",
       "177                         0.020815                         0.011969   \n",
       "178                         0.121958                         0.072069   \n",
       "179                         0.039053                         0.024207   \n",
       "\n",
       "     $\\overline{E_{ff,\\mathrm{V}}}$  $\\overline{E_{ff,\\mathrm{A}}}$  \n",
       "0                          0.022349                        0.082731  \n",
       "1                          0.014881                        0.017635  \n",
       "2                          0.015516                        0.024336  \n",
       "3                          0.055443                        0.036327  \n",
       "4                          0.014183                        0.048680  \n",
       "..                              ...                             ...  \n",
       "175                        0.019031                        0.061742  \n",
       "176                        0.034666                        0.048985  \n",
       "177                        0.017695                        0.015177  \n",
       "178                        0.054477                        0.090398  \n",
       "179                        0.009428                        0.029606  \n",
       "\n",
       "[179 rows x 10 columns]"
      ]
     },
     "execution_count": 28,
     "metadata": {},
     "output_type": "execute_result"
    }
   ],
   "source": [
    "y_all"
   ]
  },
  {
   "cell_type": "code",
   "execution_count": 29,
   "id": "7079420f",
   "metadata": {},
   "outputs": [
    {
     "data": {
      "text/plain": [
       "tensor([[1.7607e+02, 1.7108e+02, 6.8298e+01,  ..., 7.0459e-02, 2.2349e-02,\n",
       "         8.2731e-02],\n",
       "        [1.7046e+02, 1.6590e+02, 5.6119e+01,  ..., 1.4270e-02, 1.4881e-02,\n",
       "         1.7635e-02],\n",
       "        [1.7007e+02, 1.6910e+02, 5.8560e+01,  ..., 1.9283e-02, 1.5516e-02,\n",
       "         2.4336e-02],\n",
       "        ...,\n",
       "        [1.7195e+02, 1.6857e+02, 5.6754e+01,  ..., 1.1969e-02, 1.7695e-02,\n",
       "         1.5177e-02],\n",
       "        [2.0078e+02, 1.9703e+02, 7.0853e+01,  ..., 7.2069e-02, 5.4477e-02,\n",
       "         9.0398e-02],\n",
       "        [1.6537e+02, 1.6301e+02, 5.8184e+01,  ..., 2.4207e-02, 9.4279e-03,\n",
       "         2.9606e-02]], dtype=torch.float64)"
      ]
     },
     "execution_count": 29,
     "metadata": {},
     "output_type": "execute_result"
    }
   ],
   "source": [
    "y_train"
   ]
  },
  {
   "cell_type": "code",
   "execution_count": 30,
   "id": "9e0f952d",
   "metadata": {},
   "outputs": [
    {
     "data": {
      "text/plain": [
       "array([[1.76068e+02, 1.71084e+02, 6.82983e+01, ..., 7.04586e-02,\n",
       "        2.23493e-02, 8.27313e-02],\n",
       "       [1.70459e+02, 1.65900e+02, 5.61189e+01, ..., 1.42702e-02,\n",
       "        1.48809e-02, 1.76345e-02],\n",
       "       [1.70071e+02, 1.69104e+02, 5.85605e+01, ..., 1.92825e-02,\n",
       "        1.55160e-02, 2.43364e-02],\n",
       "       ...,\n",
       "       [1.71946e+02, 1.68570e+02, 5.67536e+01, ..., 1.19691e-02,\n",
       "        1.76954e-02, 1.51774e-02],\n",
       "       [2.00781e+02, 1.97025e+02, 7.08535e+01, ..., 7.20689e-02,\n",
       "        5.44770e-02, 9.03980e-02],\n",
       "       [1.65372e+02, 1.63010e+02, 5.81845e+01, ..., 2.42075e-02,\n",
       "        9.42788e-03, 2.96062e-02]])"
      ]
     },
     "execution_count": 30,
     "metadata": {},
     "output_type": "execute_result"
    }
   ],
   "source": [
    "y_all.copy().drop(y_all.index[i]).values"
   ]
  },
  {
   "cell_type": "code",
   "execution_count": 31,
   "id": "5f1e2e19",
   "metadata": {},
   "outputs": [
    {
     "name": "stdout",
     "output_type": "stream",
     "text": [
      "0\n",
      "1\n",
      "2\n",
      "3\n",
      "4\n",
      "5\n",
      "6\n",
      "7\n",
      "8\n",
      "9\n",
      "0\n",
      "1\n",
      "2\n",
      "3\n",
      "4\n",
      "5\n",
      "6\n",
      "7\n",
      "8\n",
      "9\n",
      "0\n",
      "1\n",
      "2\n",
      "3\n",
      "4\n",
      "5\n",
      "6\n",
      "7\n",
      "8\n",
      "9\n",
      "0\n",
      "1\n",
      "2\n",
      "3\n",
      "4\n",
      "5\n",
      "6\n",
      "7\n",
      "8\n",
      "9\n",
      "0\n",
      "1\n",
      "2\n",
      "3\n",
      "4\n",
      "5\n",
      "6\n",
      "7\n",
      "8\n",
      "9\n",
      "0\n",
      "1\n",
      "2\n",
      "3\n",
      "4\n",
      "5\n",
      "6\n",
      "7\n",
      "8\n",
      "9\n",
      "0\n",
      "1\n",
      "2\n",
      "3\n",
      "4\n",
      "5\n",
      "6\n",
      "7\n",
      "8\n",
      "9\n",
      "0\n",
      "1\n",
      "2\n",
      "3\n",
      "4\n",
      "5\n",
      "6\n",
      "7\n",
      "8\n",
      "9\n",
      "0\n",
      "1\n",
      "2\n",
      "3\n",
      "4\n",
      "5\n",
      "6\n",
      "7\n",
      "8\n",
      "9\n",
      "0\n",
      "1\n",
      "2\n",
      "3\n",
      "4\n",
      "5\n",
      "6\n",
      "7\n",
      "8\n",
      "9\n",
      "0\n",
      "1\n",
      "2\n",
      "3\n",
      "4\n",
      "5\n",
      "6\n",
      "7\n",
      "8\n",
      "9\n",
      "0\n",
      "1\n",
      "2\n",
      "3\n",
      "4\n",
      "5\n",
      "6\n",
      "7\n",
      "8\n",
      "9\n",
      "0\n",
      "1\n",
      "2\n",
      "3\n",
      "4\n",
      "5\n",
      "6\n",
      "7\n",
      "8\n"
     ]
    },
    {
     "ename": "KeyboardInterrupt",
     "evalue": "",
     "output_type": "error",
     "traceback": [
      "\u001b[0;31m---------------------------------------------------------------------------\u001b[0m",
      "\u001b[0;31mKeyboardInterrupt\u001b[0m                         Traceback (most recent call last)",
      "Cell \u001b[0;32mIn[31], line 13\u001b[0m\n\u001b[1;32m      8\u001b[0m y_test \u001b[38;5;241m=\u001b[39m torch\u001b[38;5;241m.\u001b[39mtensor(y_all\u001b[38;5;241m.\u001b[39mloc[[y_all\u001b[38;5;241m.\u001b[39mindex[i]]]\u001b[38;5;241m.\u001b[39mvalues)\n\u001b[1;32m      9\u001b[0m X_test \u001b[38;5;241m=\u001b[39m torch\u001b[38;5;241m.\u001b[39mtensor(input_masked\u001b[38;5;241m.\u001b[39mloc[[y_all\u001b[38;5;241m.\u001b[39mindex[i]]]\u001b[38;5;241m.\u001b[39mvalues)\n\u001b[0;32m---> 13\u001b[0m emulator \u001b[38;5;241m=\u001b[39m GPE\u001b[38;5;241m.\u001b[39mensemble(X_train,y_train,mean_func\u001b[38;5;241m=\u001b[39m\u001b[38;5;124m\"\u001b[39m\u001b[38;5;124mlinear\u001b[39m\u001b[38;5;124m\"\u001b[39m,training_iter\u001b[38;5;241m=\u001b[39m\u001b[38;5;241m500\u001b[39m)\n\u001b[1;32m     14\u001b[0m MSE[i,:] \u001b[38;5;241m=\u001b[39m emulator\u001b[38;5;241m.\u001b[39mMSE(X_test,y_test)\u001b[38;5;241m.\u001b[39mdetach()\u001b[38;5;241m.\u001b[39mnumpy()\n",
      "File \u001b[0;32m~/Documents/GitHub/Calibration/GPE_ensemble.py:20\u001b[0m, in \u001b[0;36mensemble.__init__\u001b[0;34m(self, X_train, y_train, mean_func, training_iter, ref_emulator, a, restarts)\u001b[0m\n\u001b[1;32m     18\u001b[0m \u001b[38;5;28mself\u001b[39m\u001b[38;5;241m.\u001b[39ma\u001b[38;5;241m=\u001b[39ma\n\u001b[1;32m     19\u001b[0m \u001b[38;5;28;01mif\u001b[39;00m restarts \u001b[38;5;241m==\u001b[39m \u001b[38;5;241m0\u001b[39m:\n\u001b[0;32m---> 20\u001b[0m     \u001b[38;5;28mself\u001b[39m\u001b[38;5;241m.\u001b[39mmodels, \u001b[38;5;28mself\u001b[39m\u001b[38;5;241m.\u001b[39mlikelihoods \u001b[38;5;241m=\u001b[39m \u001b[38;5;28mself\u001b[39m\u001b[38;5;241m.\u001b[39mcreate_ensemble()\n\u001b[1;32m     21\u001b[0m \u001b[38;5;28;01melif\u001b[39;00m restarts \u001b[38;5;241m>\u001b[39m\u001b[38;5;241m0\u001b[39m:\n\u001b[1;32m     22\u001b[0m     \u001b[38;5;28mself\u001b[39m\u001b[38;5;241m.\u001b[39mmodels,\u001b[38;5;28mself\u001b[39m\u001b[38;5;241m.\u001b[39mlikelihoods\u001b[38;5;241m=\u001b[39m\u001b[38;5;28mself\u001b[39m\u001b[38;5;241m.\u001b[39mcreate_ensemble_restart()\n",
      "File \u001b[0;32m~/Documents/GitHub/Calibration/GPE_ensemble.py:83\u001b[0m, in \u001b[0;36mensemble.create_ensemble\u001b[0;34m(self)\u001b[0m\n\u001b[1;32m     81\u001b[0m output \u001b[38;5;241m=\u001b[39m models[i](X)\n\u001b[1;32m     82\u001b[0m \u001b[38;5;66;03m# Calc loss and backprop gradients\u001b[39;00m\n\u001b[0;32m---> 83\u001b[0m loss \u001b[38;5;241m=\u001b[39m \u001b[38;5;241m-\u001b[39mmll(output, Y)\n\u001b[1;32m     84\u001b[0m loss\u001b[38;5;241m.\u001b[39mbackward()\n\u001b[1;32m     85\u001b[0m \u001b[38;5;66;03m#print('Iter %d/%d - Loss: %.3f   lengthscale: %.3f   noise: %.3f' % (\u001b[39;00m\n\u001b[1;32m     86\u001b[0m \u001b[38;5;66;03m#    j + 1, training_iter, loss.item(),\u001b[39;00m\n\u001b[1;32m     87\u001b[0m \u001b[38;5;66;03m#    models[i].covar_module.base_kernel.lengthscale.item(),\u001b[39;00m\n\u001b[1;32m     88\u001b[0m \u001b[38;5;66;03m#    models[i].likelihood.noise.item()\u001b[39;00m\n\u001b[1;32m     89\u001b[0m \u001b[38;5;66;03m#))\u001b[39;00m\n",
      "File \u001b[0;32m~/anaconda3/lib/python3.11/site-packages/gpytorch/module.py:31\u001b[0m, in \u001b[0;36mModule.__call__\u001b[0;34m(self, *inputs, **kwargs)\u001b[0m\n\u001b[1;32m     30\u001b[0m \u001b[38;5;28;01mdef\u001b[39;00m \u001b[38;5;21m__call__\u001b[39m(\u001b[38;5;28mself\u001b[39m, \u001b[38;5;241m*\u001b[39minputs, \u001b[38;5;241m*\u001b[39m\u001b[38;5;241m*\u001b[39mkwargs) \u001b[38;5;241m-\u001b[39m\u001b[38;5;241m>\u001b[39m Union[Tensor, Distribution, LinearOperator]:\n\u001b[0;32m---> 31\u001b[0m     outputs \u001b[38;5;241m=\u001b[39m \u001b[38;5;28mself\u001b[39m\u001b[38;5;241m.\u001b[39mforward(\u001b[38;5;241m*\u001b[39minputs, \u001b[38;5;241m*\u001b[39m\u001b[38;5;241m*\u001b[39mkwargs)\n\u001b[1;32m     32\u001b[0m     \u001b[38;5;28;01mif\u001b[39;00m \u001b[38;5;28misinstance\u001b[39m(outputs, \u001b[38;5;28mlist\u001b[39m):\n\u001b[1;32m     33\u001b[0m         \u001b[38;5;28;01mreturn\u001b[39;00m [_validate_module_outputs(output) \u001b[38;5;28;01mfor\u001b[39;00m output \u001b[38;5;129;01min\u001b[39;00m outputs]\n",
      "File \u001b[0;32m~/anaconda3/lib/python3.11/site-packages/gpytorch/mlls/exact_marginal_log_likelihood.py:64\u001b[0m, in \u001b[0;36mExactMarginalLogLikelihood.forward\u001b[0;34m(self, function_dist, target, *params)\u001b[0m\n\u001b[1;32m     62\u001b[0m \u001b[38;5;66;03m# Get the log prob of the marginal distribution\u001b[39;00m\n\u001b[1;32m     63\u001b[0m output \u001b[38;5;241m=\u001b[39m \u001b[38;5;28mself\u001b[39m\u001b[38;5;241m.\u001b[39mlikelihood(function_dist, \u001b[38;5;241m*\u001b[39mparams)\n\u001b[0;32m---> 64\u001b[0m res \u001b[38;5;241m=\u001b[39m output\u001b[38;5;241m.\u001b[39mlog_prob(target)\n\u001b[1;32m     65\u001b[0m res \u001b[38;5;241m=\u001b[39m \u001b[38;5;28mself\u001b[39m\u001b[38;5;241m.\u001b[39m_add_other_terms(res, params)\n\u001b[1;32m     67\u001b[0m \u001b[38;5;66;03m# Scale by the amount of data we have\u001b[39;00m\n",
      "File \u001b[0;32m~/anaconda3/lib/python3.11/site-packages/gpytorch/distributions/multivariate_normal.py:193\u001b[0m, in \u001b[0;36mMultivariateNormal.log_prob\u001b[0;34m(self, value)\u001b[0m\n\u001b[1;32m    191\u001b[0m \u001b[38;5;66;03m# Get log determininant and first part of quadratic form\u001b[39;00m\n\u001b[1;32m    192\u001b[0m covar \u001b[38;5;241m=\u001b[39m covar\u001b[38;5;241m.\u001b[39mevaluate_kernel()\n\u001b[0;32m--> 193\u001b[0m inv_quad, logdet \u001b[38;5;241m=\u001b[39m covar\u001b[38;5;241m.\u001b[39minv_quad_logdet(inv_quad_rhs\u001b[38;5;241m=\u001b[39mdiff\u001b[38;5;241m.\u001b[39munsqueeze(\u001b[38;5;241m-\u001b[39m\u001b[38;5;241m1\u001b[39m), logdet\u001b[38;5;241m=\u001b[39m\u001b[38;5;28;01mTrue\u001b[39;00m)\n\u001b[1;32m    195\u001b[0m res \u001b[38;5;241m=\u001b[39m \u001b[38;5;241m-\u001b[39m\u001b[38;5;241m0.5\u001b[39m \u001b[38;5;241m*\u001b[39m \u001b[38;5;28msum\u001b[39m([inv_quad, logdet, diff\u001b[38;5;241m.\u001b[39msize(\u001b[38;5;241m-\u001b[39m\u001b[38;5;241m1\u001b[39m) \u001b[38;5;241m*\u001b[39m math\u001b[38;5;241m.\u001b[39mlog(\u001b[38;5;241m2\u001b[39m \u001b[38;5;241m*\u001b[39m math\u001b[38;5;241m.\u001b[39mpi)])\n\u001b[1;32m    196\u001b[0m \u001b[38;5;28;01mreturn\u001b[39;00m res\n",
      "File \u001b[0;32m~/anaconda3/lib/python3.11/site-packages/linear_operator/operators/_linear_operator.py:1701\u001b[0m, in \u001b[0;36mLinearOperator.inv_quad_logdet\u001b[0;34m(self, inv_quad_rhs, logdet, reduce_inv_quad)\u001b[0m\n\u001b[1;32m   1699\u001b[0m             will_need_cholesky \u001b[38;5;241m=\u001b[39m \u001b[38;5;28;01mFalse\u001b[39;00m\n\u001b[1;32m   1700\u001b[0m     \u001b[38;5;28;01mif\u001b[39;00m will_need_cholesky:\n\u001b[0;32m-> 1701\u001b[0m         cholesky \u001b[38;5;241m=\u001b[39m CholLinearOperator(TriangularLinearOperator(\u001b[38;5;28mself\u001b[39m\u001b[38;5;241m.\u001b[39mcholesky()))\n\u001b[1;32m   1702\u001b[0m     \u001b[38;5;28;01mreturn\u001b[39;00m cholesky\u001b[38;5;241m.\u001b[39minv_quad_logdet(\n\u001b[1;32m   1703\u001b[0m         inv_quad_rhs\u001b[38;5;241m=\u001b[39minv_quad_rhs,\n\u001b[1;32m   1704\u001b[0m         logdet\u001b[38;5;241m=\u001b[39mlogdet,\n\u001b[1;32m   1705\u001b[0m         reduce_inv_quad\u001b[38;5;241m=\u001b[39mreduce_inv_quad,\n\u001b[1;32m   1706\u001b[0m     )\n\u001b[1;32m   1708\u001b[0m \u001b[38;5;66;03m# Short circuit to inv_quad function if we're not computing logdet\u001b[39;00m\n",
      "File \u001b[0;32m~/anaconda3/lib/python3.11/site-packages/linear_operator/operators/_linear_operator.py:1303\u001b[0m, in \u001b[0;36mLinearOperator.cholesky\u001b[0;34m(self, upper)\u001b[0m\n\u001b[1;32m   1293\u001b[0m \u001b[38;5;129m@_implements\u001b[39m(torch\u001b[38;5;241m.\u001b[39mlinalg\u001b[38;5;241m.\u001b[39mcholesky)\n\u001b[1;32m   1294\u001b[0m \u001b[38;5;28;01mdef\u001b[39;00m \u001b[38;5;21mcholesky\u001b[39m(\n\u001b[1;32m   1295\u001b[0m     \u001b[38;5;28mself\u001b[39m: Float[LinearOperator, \u001b[38;5;124m\"\u001b[39m\u001b[38;5;124m*batch N N\u001b[39m\u001b[38;5;124m\"\u001b[39m], upper: \u001b[38;5;28mbool\u001b[39m \u001b[38;5;241m=\u001b[39m \u001b[38;5;28;01mFalse\u001b[39;00m\n\u001b[1;32m   1296\u001b[0m ) \u001b[38;5;241m-\u001b[39m\u001b[38;5;241m>\u001b[39m Float[LinearOperator, \u001b[38;5;124m\"\u001b[39m\u001b[38;5;124m*batch N N\u001b[39m\u001b[38;5;124m\"\u001b[39m]:  \u001b[38;5;66;03m# returns TriangularLinearOperator\u001b[39;00m\n\u001b[1;32m   1297\u001b[0m \u001b[38;5;250m    \u001b[39m\u001b[38;5;124;03m\"\"\"\u001b[39;00m\n\u001b[1;32m   1298\u001b[0m \u001b[38;5;124;03m    Cholesky-factorizes the LinearOperator.\u001b[39;00m\n\u001b[1;32m   1299\u001b[0m \n\u001b[1;32m   1300\u001b[0m \u001b[38;5;124;03m    :param upper: Upper triangular or lower triangular factor (default: False).\u001b[39;00m\n\u001b[1;32m   1301\u001b[0m \u001b[38;5;124;03m    :return: Cholesky factor (lower or upper triangular)\u001b[39;00m\n\u001b[1;32m   1302\u001b[0m \u001b[38;5;124;03m    \"\"\"\u001b[39;00m\n\u001b[0;32m-> 1303\u001b[0m     chol \u001b[38;5;241m=\u001b[39m \u001b[38;5;28mself\u001b[39m\u001b[38;5;241m.\u001b[39m_cholesky(upper\u001b[38;5;241m=\u001b[39m\u001b[38;5;28;01mFalse\u001b[39;00m)\n\u001b[1;32m   1304\u001b[0m     \u001b[38;5;28;01mif\u001b[39;00m upper:\n\u001b[1;32m   1305\u001b[0m         chol \u001b[38;5;241m=\u001b[39m chol\u001b[38;5;241m.\u001b[39m_transpose_nonbatch()\n",
      "File \u001b[0;32m~/anaconda3/lib/python3.11/site-packages/linear_operator/utils/memoize.py:59\u001b[0m, in \u001b[0;36m_cached.<locals>.g\u001b[0;34m(self, *args, **kwargs)\u001b[0m\n\u001b[1;32m     57\u001b[0m kwargs_pkl \u001b[38;5;241m=\u001b[39m pickle\u001b[38;5;241m.\u001b[39mdumps(kwargs)\n\u001b[1;32m     58\u001b[0m \u001b[38;5;28;01mif\u001b[39;00m \u001b[38;5;129;01mnot\u001b[39;00m _is_in_cache(\u001b[38;5;28mself\u001b[39m, cache_name, \u001b[38;5;241m*\u001b[39margs, kwargs_pkl\u001b[38;5;241m=\u001b[39mkwargs_pkl):\n\u001b[0;32m---> 59\u001b[0m     \u001b[38;5;28;01mreturn\u001b[39;00m _add_to_cache(\u001b[38;5;28mself\u001b[39m, cache_name, method(\u001b[38;5;28mself\u001b[39m, \u001b[38;5;241m*\u001b[39margs, \u001b[38;5;241m*\u001b[39m\u001b[38;5;241m*\u001b[39mkwargs), \u001b[38;5;241m*\u001b[39margs, kwargs_pkl\u001b[38;5;241m=\u001b[39mkwargs_pkl)\n\u001b[1;32m     60\u001b[0m \u001b[38;5;28;01mreturn\u001b[39;00m _get_from_cache(\u001b[38;5;28mself\u001b[39m, cache_name, \u001b[38;5;241m*\u001b[39margs, kwargs_pkl\u001b[38;5;241m=\u001b[39mkwargs_pkl)\n",
      "File \u001b[0;32m~/anaconda3/lib/python3.11/site-packages/linear_operator/operators/_linear_operator.py:522\u001b[0m, in \u001b[0;36mLinearOperator._cholesky\u001b[0;34m(self, upper)\u001b[0m\n\u001b[1;32m    519\u001b[0m     \u001b[38;5;28;01mreturn\u001b[39;00m TriangularLinearOperator(evaluated_mat\u001b[38;5;241m.\u001b[39mclamp_min(\u001b[38;5;241m0.0\u001b[39m)\u001b[38;5;241m.\u001b[39msqrt())\n\u001b[1;32m    521\u001b[0m \u001b[38;5;66;03m# contiguous call is necessary here\u001b[39;00m\n\u001b[0;32m--> 522\u001b[0m cholesky \u001b[38;5;241m=\u001b[39m psd_safe_cholesky(evaluated_mat, upper\u001b[38;5;241m=\u001b[39mupper)\u001b[38;5;241m.\u001b[39mcontiguous()\n\u001b[1;32m    523\u001b[0m \u001b[38;5;28;01mreturn\u001b[39;00m TriangularLinearOperator(cholesky, upper\u001b[38;5;241m=\u001b[39mupper)\n",
      "File \u001b[0;32m~/anaconda3/lib/python3.11/site-packages/linear_operator/utils/cholesky.py:65\u001b[0m, in \u001b[0;36mpsd_safe_cholesky\u001b[0;34m(A, upper, out, jitter, max_tries)\u001b[0m\n\u001b[1;32m     50\u001b[0m \u001b[38;5;28;01mdef\u001b[39;00m \u001b[38;5;21mpsd_safe_cholesky\u001b[39m(A, upper\u001b[38;5;241m=\u001b[39m\u001b[38;5;28;01mFalse\u001b[39;00m, out\u001b[38;5;241m=\u001b[39m\u001b[38;5;28;01mNone\u001b[39;00m, jitter\u001b[38;5;241m=\u001b[39m\u001b[38;5;28;01mNone\u001b[39;00m, max_tries\u001b[38;5;241m=\u001b[39m\u001b[38;5;28;01mNone\u001b[39;00m):\n\u001b[1;32m     51\u001b[0m \u001b[38;5;250m    \u001b[39m\u001b[38;5;124;03m\"\"\"Compute the Cholesky decomposition of A. If A is only p.s.d, add a small jitter to the diagonal.\u001b[39;00m\n\u001b[1;32m     52\u001b[0m \u001b[38;5;124;03m    Args:\u001b[39;00m\n\u001b[1;32m     53\u001b[0m \u001b[38;5;124;03m        :attr:`A` (Tensor):\u001b[39;00m\n\u001b[0;32m   (...)\u001b[0m\n\u001b[1;32m     63\u001b[0m \u001b[38;5;124;03m            Number of attempts (with successively increasing jitter) to make before raising an error.\u001b[39;00m\n\u001b[1;32m     64\u001b[0m \u001b[38;5;124;03m    \"\"\"\u001b[39;00m\n\u001b[0;32m---> 65\u001b[0m     L \u001b[38;5;241m=\u001b[39m _psd_safe_cholesky(A, out\u001b[38;5;241m=\u001b[39mout, jitter\u001b[38;5;241m=\u001b[39mjitter, max_tries\u001b[38;5;241m=\u001b[39mmax_tries)\n\u001b[1;32m     66\u001b[0m     \u001b[38;5;28;01mif\u001b[39;00m upper:\n\u001b[1;32m     67\u001b[0m         \u001b[38;5;28;01mif\u001b[39;00m out \u001b[38;5;129;01mis\u001b[39;00m \u001b[38;5;129;01mnot\u001b[39;00m \u001b[38;5;28;01mNone\u001b[39;00m:\n",
      "File \u001b[0;32m~/anaconda3/lib/python3.11/site-packages/linear_operator/utils/cholesky.py:21\u001b[0m, in \u001b[0;36m_psd_safe_cholesky\u001b[0;34m(A, out, jitter, max_tries)\u001b[0m\n\u001b[1;32m     18\u001b[0m     out \u001b[38;5;241m=\u001b[39m (out, torch\u001b[38;5;241m.\u001b[39mempty(A\u001b[38;5;241m.\u001b[39mshape[:\u001b[38;5;241m-\u001b[39m\u001b[38;5;241m2\u001b[39m], dtype\u001b[38;5;241m=\u001b[39mtorch\u001b[38;5;241m.\u001b[39mint32, device\u001b[38;5;241m=\u001b[39mout\u001b[38;5;241m.\u001b[39mdevice))\n\u001b[1;32m     20\u001b[0m L, info \u001b[38;5;241m=\u001b[39m torch\u001b[38;5;241m.\u001b[39mlinalg\u001b[38;5;241m.\u001b[39mcholesky_ex(A, out\u001b[38;5;241m=\u001b[39mout)\n\u001b[0;32m---> 21\u001b[0m \u001b[38;5;28;01mif\u001b[39;00m settings\u001b[38;5;241m.\u001b[39mtrace_mode\u001b[38;5;241m.\u001b[39mon() \u001b[38;5;129;01mor\u001b[39;00m \u001b[38;5;129;01mnot\u001b[39;00m torch\u001b[38;5;241m.\u001b[39many(info):\n\u001b[1;32m     22\u001b[0m     \u001b[38;5;28;01mreturn\u001b[39;00m L\n\u001b[1;32m     24\u001b[0m isnan \u001b[38;5;241m=\u001b[39m torch\u001b[38;5;241m.\u001b[39misnan(A)\n",
      "\u001b[0;31mKeyboardInterrupt\u001b[0m: "
     ]
    }
   ],
   "source": [
    "nsamp=100\n",
    "MSE = np.zeros((y_all.shape[0],y_all.shape[1]))\n",
    "\n",
    "for i in range(y_all.shape[0]):\n",
    "    y_train = torch.tensor(y_all.copy().drop(y_all.index[i]).values)\n",
    "    X_train = torch.tensor(input_masked.copy().drop(y_all.index[i]).values)\n",
    "    \n",
    "    y_test = torch.tensor(y_all.loc[[y_all.index[i]]].values)\n",
    "    X_test = torch.tensor(input_masked.loc[[y_all.index[i]]].values)\n",
    "    \n",
    "    \n",
    "    \n",
    "    emulator = GPE.ensemble(X_train,y_train,mean_func=\"linear\",training_iter=500)\n",
    "    MSE[i,:] = emulator.MSE(X_test,y_test).detach().numpy()"
   ]
  },
  {
   "cell_type": "code",
   "execution_count": null,
   "id": "51a628d1",
   "metadata": {},
   "outputs": [],
   "source": [
    "1-MSE.mean(axis=0)/np.var(y_all,axis=0)"
   ]
  },
  {
   "cell_type": "code",
   "execution_count": null,
   "id": "60959a49",
   "metadata": {},
   "outputs": [],
   "source": [
    "MSE.shape"
   ]
  },
  {
   "cell_type": "code",
   "execution_count": null,
   "id": "cf401aa1",
   "metadata": {
    "scrolled": true
   },
   "outputs": [],
   "source": [
    "MSE[0].shape"
   ]
  },
  {
   "cell_type": "code",
   "execution_count": null,
   "id": "2ff2721d",
   "metadata": {},
   "outputs": [],
   "source": [
    "np.var(y_all,axis=0).shape"
   ]
  },
  {
   "cell_type": "code",
   "execution_count": null,
   "id": "2c14921b",
   "metadata": {},
   "outputs": [],
   "source": [
    "R2=np.zeros((18,28))\n",
    "for i in range(18):\n",
    "    R2[i]=(1-MSE[i]/np.var(y_all,axis=0))"
   ]
  },
  {
   "cell_type": "code",
   "execution_count": null,
   "id": "c42462df",
   "metadata": {},
   "outputs": [],
   "source": [
    "fig, ax = plt.subplots()\n",
    "\n",
    "\n",
    "ax.scatter(y_labels.values.squeeze(),np.array(1-MSE.mean(axis=0)/np.var(y_all,axis=0)))\n",
    "plt.errorbar(y_labels.values.squeeze(),np.array(1-MSE.mean(axis=0)/np.var(y_all,axis=0)),fmt='o',yerr=R2.std(axis=0))\n",
    "plt.setp(ax.get_xticklabels(), rotation=60, ha=\"right\",\n",
    "         rotation_mode=\"anchor\");"
   ]
  },
  {
   "cell_type": "code",
   "execution_count": null,
   "id": "b5e35242",
   "metadata": {
    "scrolled": true
   },
   "outputs": [],
   "source": [
    "y_calibration = y_all.loc[:,['V_TAT','A_TAT','LVpMax','LVedv','LVesv']]"
   ]
  },
  {
   "cell_type": "code",
   "execution_count": null,
   "id": "9cb72087",
   "metadata": {},
   "outputs": [],
   "source": [
    "y_calibration2 = pd.DataFrame({'LV_EF':(y_all.loc[:,'LVedv']-y_all.loc[:,'LVesv'])/y_all.loc[:,'LVedv']})"
   ]
  },
  {
   "cell_type": "code",
   "execution_count": null,
   "id": "c3b7dc7e",
   "metadata": {},
   "outputs": [],
   "source": [
    "y_calibration2=y_calibration.join(y_calibration2)"
   ]
  },
  {
   "cell_type": "code",
   "execution_count": null,
   "id": "24c1e05f",
   "metadata": {},
   "outputs": [],
   "source": [
    "MSE = np.zeros((y_calibration.shape[0],y_calibration.shape[1]))\n",
    "\n",
    "for i in range(y_calibration.shape[0]):\n",
    "    y_train = torch.tensor(y_calibration.copy().drop(y_calibration.index[i]).values)\n",
    "    X_train = torch.tensor(input_masked.copy().drop(y_calibration.index[i]).values)\n",
    "    \n",
    "    y_test = torch.tensor(y_calibration.loc[[y_calibration.index[i]]].values)\n",
    "    X_test = torch.tensor(input_masked.loc[[y_calibration.index[i]]].values)\n",
    "    print(y_test)\n",
    "    emulator = GPE.ensemble(X_train,y_train,mean_func=\"linear\",training_iter=500)\n",
    "    MSE[i,:] = emulator.MSE(X_test,y_test).detach().numpy()"
   ]
  },
  {
   "cell_type": "code",
   "execution_count": null,
   "id": "b841c6c7",
   "metadata": {},
   "outputs": [],
   "source": [
    "R2=np.zeros((18,5))\n",
    "for i in range(18):\n",
    "    R2[i]=(1-MSE[i]/np.var(y_calibration,axis=0))"
   ]
  },
  {
   "cell_type": "code",
   "execution_count": null,
   "id": "5a346a1f",
   "metadata": {},
   "outputs": [],
   "source": [
    "R2.std(axis=0)"
   ]
  },
  {
   "cell_type": "code",
   "execution_count": null,
   "id": "b7bb44f8",
   "metadata": {},
   "outputs": [],
   "source": [
    "plt.plot(np.array(1-MSE.mean(axis=0)/np.var(y_calibration,axis=0)),'o')"
   ]
  },
  {
   "cell_type": "code",
   "execution_count": null,
   "id": "280bbf44",
   "metadata": {},
   "outputs": [],
   "source": [
    "y_calibration.columns.values.tolist()"
   ]
  },
  {
   "cell_type": "code",
   "execution_count": null,
   "id": "00186509",
   "metadata": {},
   "outputs": [],
   "source": [
    "fig, ax = plt.subplots()\n",
    "\n",
    "\n",
    "ax.scatter(y_calibration.columns.values.tolist(),np.array(1-MSE.mean(axis=0)/np.var(y_calibration,axis=0)))\n",
    "plt.errorbar(y_calibration.columns.values.tolist(),np.array(1-MSE.mean(axis=0)/np.var(y_calibration,axis=0)),fmt='o',yerr=R2.std(axis=0))\n",
    "plt.setp(ax.get_xticklabels(), rotation=60, ha=\"right\",\n",
    "         rotation_mode=\"anchor\");"
   ]
  },
  {
   "cell_type": "code",
   "execution_count": null,
   "id": "ce2266d1",
   "metadata": {},
   "outputs": [],
   "source": [
    "X_train = torch.tensor(input_masked.values)"
   ]
  },
  {
   "cell_type": "code",
   "execution_count": null,
   "id": "deac7219",
   "metadata": {},
   "outputs": [],
   "source": [
    "y_train=torch.tensor(y_calibration.values)"
   ]
  },
  {
   "cell_type": "code",
   "execution_count": null,
   "id": "139f41d2",
   "metadata": {},
   "outputs": [],
   "source": []
  },
  {
   "cell_type": "code",
   "execution_count": null,
   "id": "8da4dbb2",
   "metadata": {},
   "outputs": [],
   "source": [
    "X_train"
   ]
  },
  {
   "cell_type": "code",
   "execution_count": null,
   "id": "267def64",
   "metadata": {
    "scrolled": false
   },
   "outputs": [],
   "source": [
    "emulator=GPE.ensemble(X_train,y_train,mean_func=\"linear\",training_iter=500)"
   ]
  },
  {
   "cell_type": "code",
   "execution_count": null,
   "id": "2be4d35d",
   "metadata": {},
   "outputs": [],
   "source": [
    "nDim = X_train.shape[1]\n",
    "boundsMaxMin = []\n",
    "for i in range(nDim):\n",
    "    boundsMaxMin.append([torch.min(X_train[:,i]).detach().numpy(),torch.max(X_train[:,i]).detach().numpy()])\n",
    "    print(boundsMaxMin[i])"
   ]
  },
  {
   "cell_type": "code",
   "execution_count": null,
   "id": "0aa882dd",
   "metadata": {},
   "outputs": [],
   "source": [
    "##### from SALib.sample import saltelli\n",
    "from SALib.sample import saltelli\n",
    "from SALib.analyze import sobol\n",
    "from SALib.test_functions import Ishigami\n",
    "import numpy as np\n",
    "\n",
    "# Define the model inputs\n",
    "problem = {\n",
    "    'num_vars': nDim,\n",
    "    'names': x_labels,\n",
    "    'bounds': boundsMaxMin\n",
    "    #'bounds': [[-1, 1],\n",
    "     #          [-1, 1],\n",
    "      #         [-1, 1],\n",
    "       #        [-1, 1],\n",
    "        #       [-1, 1],\n",
    "         #      [-1, 1],\n",
    "          #     [-1, 1],\n",
    "           #    [-1, 1],\n",
    "            #   [-1,1]]\n",
    "}\n",
    "\n",
    "# Generate samples\n",
    "param_values = saltelli.sample(problem, 1024)\n",
    "\n",
    "data1 = torch.tensor(param_values)\n",
    "#data1.columns = X_train.columns\n",
    "\n",
    "Ymean=emulator.predict(data1)"
   ]
  },
  {
   "cell_type": "code",
   "execution_count": null,
   "id": "8fdb2346",
   "metadata": {},
   "outputs": [],
   "source": [
    "Si = []\n",
    "nMod = y_train.shape[1]\n",
    "nDim = X_train.shape[1]\n",
    "for i in range(nMod):\n",
    "    Si.append(sobol.analyze(problem, Ymean[:,i].detach().numpy(), print_to_console=True,calc_second_order=True))"
   ]
  },
  {
   "cell_type": "code",
   "execution_count": null,
   "id": "c143468a",
   "metadata": {},
   "outputs": [],
   "source": [
    "Si_first=np.zeros((nDim,nMod))\n",
    "Si_total=np.zeros((nDim,nMod))\n",
    "for i in range(nMod):\n",
    "    total_Si, first_Si, second_Si = Si[i].to_df()\n",
    "    Si_first[:,i] =  first_Si.iloc[:,0]\n",
    "    Si_total[:,i] =  total_Si.iloc[:,0]\n"
   ]
  },
  {
   "cell_type": "code",
   "execution_count": null,
   "id": "29d9d146",
   "metadata": {},
   "outputs": [],
   "source": [
    "inputs = x_labels.values.tolist()\n",
    "outputs = y_calibration.columns.tolist()\n",
    "fig, ax = plt.subplots()\n",
    "im = ax.imshow(Si_first.T[0:10],cmap='magma_r',vmin=0,vmax=1)\n",
    "\n",
    "ax.set_yticks(np.arange(len(outputs)),labels=outputs)\n",
    "ax.set_xticks(np.arange(len(inputs)), labels=inputs)\n",
    "plt.setp(ax.get_xticklabels(), rotation=60, ha=\"right\",\n",
    "         rotation_mode=\"anchor\");\n",
    "\n",
    "plt.colorbar(im,fraction=0.015, pad=0.04)"
   ]
  },
  {
   "cell_type": "code",
   "execution_count": null,
   "id": "6f9a7ac3",
   "metadata": {
    "scrolled": true
   },
   "outputs": [],
   "source": [
    "inputs = x_labels.values.tolist()\n",
    "outputs = y_calibration.columns.tolist()\n",
    "fig, ax = plt.subplots()\n",
    "im = ax.imshow(Si_total.T,cmap='magma_r',vmin=0,vmax=1)\n",
    "\n",
    "ax.set_yticks(np.arange(len(outputs)),labels=outputs)\n",
    "ax.set_xticks(np.arange(len(inputs)), labels=inputs)\n",
    "plt.setp(ax.get_xticklabels(), rotation=60, ha=\"right\",\n",
    "         rotation_mode=\"anchor\");\n",
    "\n",
    "plt.colorbar(im,fraction=0.015, pad=0.04)"
   ]
  },
  {
   "cell_type": "code",
   "execution_count": null,
   "id": "41bc8277",
   "metadata": {},
   "outputs": [],
   "source": [
    "emulator.predict(data1).detach().numpy()[:,4]"
   ]
  },
  {
   "cell_type": "code",
   "execution_count": null,
   "id": "a5b24540",
   "metadata": {},
   "outputs": [],
   "source": [
    "fig = plt.figure()\n",
    "ax=fig.add_subplot(projection='3d')\n",
    "ax.scatter(data1[:,4],data1[:,6],emulator.predict(data1).detach().numpy()[:,3])\n",
    "plt.ylabel('a_ventricles')\n",
    "plt.xlabel('EDP_lv')"
   ]
  },
  {
   "cell_type": "code",
   "execution_count": null,
   "id": "2d3d1b54",
   "metadata": {},
   "outputs": [],
   "source": [
    "Si[i].to_df()"
   ]
  },
  {
   "cell_type": "code",
   "execution_count": null,
   "id": "d1509836",
   "metadata": {},
   "outputs": [],
   "source": [
    "y_calibration"
   ]
  },
  {
   "cell_type": "code",
   "execution_count": null,
   "id": "01288064",
   "metadata": {},
   "outputs": [],
   "source": []
  },
  {
   "cell_type": "code",
   "execution_count": null,
   "id": "cd876b88",
   "metadata": {
    "scrolled": true
   },
   "outputs": [],
   "source": [
    "y_calibration = y_all.loc[:,['V_TAT','LVpMax']]"
   ]
  },
  {
   "cell_type": "code",
   "execution_count": null,
   "id": "838579cf",
   "metadata": {},
   "outputs": [],
   "source": [
    "y_calibration2 = pd.DataFrame({'LV_EF':(y_all.loc[:,'LVedv']-y_all.loc[:,'LVesv'])/y_all.loc[:,'LVedv']})"
   ]
  },
  {
   "cell_type": "code",
   "execution_count": null,
   "id": "b7957c14",
   "metadata": {},
   "outputs": [],
   "source": [
    "y_calibration=torch.tensor(y_calibration.join(y_calibration2).values)"
   ]
  },
  {
   "cell_type": "code",
   "execution_count": null,
   "id": "4203ae08",
   "metadata": {},
   "outputs": [],
   "source": []
  },
  {
   "cell_type": "code",
   "execution_count": null,
   "id": "2565f0f9",
   "metadata": {},
   "outputs": [],
   "source": [
    "emulator=GPE.ensemble(torch.tensor(input_masked.values),y_calibration,mean_func=\"linear\",training_iter=500)"
   ]
  },
  {
   "cell_type": "code",
   "execution_count": null,
   "id": "9ff6afd7",
   "metadata": {},
   "outputs": [],
   "source": [
    "input_masked"
   ]
  },
  {
   "cell_type": "code",
   "execution_count": null,
   "id": "27837b98",
   "metadata": {},
   "outputs": [],
   "source": [
    "boundsMaxMin"
   ]
  },
  {
   "cell_type": "code",
   "execution_count": null,
   "id": "58c61de8",
   "metadata": {},
   "outputs": [],
   "source": [
    "boundsMaxMin"
   ]
  },
  {
   "cell_type": "code",
   "execution_count": null,
   "id": "203a62a8",
   "metadata": {},
   "outputs": [],
   "source": [
    "centre = (np.array(boundsMaxMin)[:,1]+np.array(boundsMaxMin)[:,0])/2"
   ]
  },
  {
   "cell_type": "code",
   "execution_count": null,
   "id": "aaeb2312",
   "metadata": {},
   "outputs": [],
   "source": [
    "import emcee\n",
    "ndim = nDim\n",
    "nwalkers = 18\n",
    "p0 = np.random.multivariate_normal(centre, 0.000000001*np.identity(ndim), size=(nwalkers))\n",
    "y_val = torch.tensor([100,157,0.8])"
   ]
  },
  {
   "cell_type": "code",
   "execution_count": null,
   "id": "fc8ee18b",
   "metadata": {},
   "outputs": [],
   "source": [
    "boundsMaxMin"
   ]
  },
  {
   "cell_type": "code",
   "execution_count": null,
   "id": "259b3699",
   "metadata": {},
   "outputs": [],
   "source": [
    "np.array(boundsMaxMin)[:,0]*2"
   ]
  },
  {
   "cell_type": "code",
   "execution_count": null,
   "id": "c573d998",
   "metadata": {},
   "outputs": [],
   "source": [
    "p0[0]"
   ]
  },
  {
   "cell_type": "code",
   "execution_count": null,
   "id": "fc9489ab",
   "metadata": {},
   "outputs": [],
   "source": [
    "def log_prior(theta):\n",
    "    \n",
    "    #if (np.array(boundsMaxMin)[:,0]<theta).all() and (theta<np.array(boundsMaxMin)[:,1]).all():\n",
    "        \n",
    "    if (np.array(boundsMaxMin)[:,0]*0.5<theta).all() and (theta<np.array(boundsMaxMin)[:,1]*2).all():\n",
    "        return 0.0\n",
    "    return -np.inf"
   ]
  },
  {
   "cell_type": "code",
   "execution_count": null,
   "id": "3903a146",
   "metadata": {},
   "outputs": [],
   "source": [
    "def log_likelihood(x,emulator,y_val):\n",
    "    x=torch.tensor(x)[None]\n",
    "    ll =np.sum((emulator.ensemble_log_likelihood_obs_error(x,y_val[None,:],0)).detach().numpy())\n",
    "    return ll"
   ]
  },
  {
   "cell_type": "code",
   "execution_count": null,
   "id": "8e2d1b03",
   "metadata": {},
   "outputs": [],
   "source": [
    "def log_prob(theta, emulator,y_val):\n",
    "    \n",
    "    lp = log_prior(theta)\n",
    "    if not np.isfinite(lp):\n",
    "        return -np.inf\n",
    "    \n",
    "    return lp + log_likelihood(theta,emulator, y_val)"
   ]
  },
  {
   "cell_type": "code",
   "execution_count": null,
   "id": "90a07cc3",
   "metadata": {},
   "outputs": [],
   "source": [
    "sampler = emcee.EnsembleSampler(nwalkers, ndim, log_prob, args=[emulator,y_val])"
   ]
  },
  {
   "cell_type": "code",
   "execution_count": null,
   "id": "a8004877",
   "metadata": {},
   "outputs": [],
   "source": [
    "p0[i].shape"
   ]
  },
  {
   "cell_type": "code",
   "execution_count": null,
   "id": "80e70bb3",
   "metadata": {},
   "outputs": [],
   "source": [
    "torch.tensor(p0[0]).shape"
   ]
  },
  {
   "cell_type": "code",
   "execution_count": null,
   "id": "0ed05061",
   "metadata": {},
   "outputs": [],
   "source": [
    "emulator.predict(torch.tensor(p0)).shape"
   ]
  },
  {
   "cell_type": "code",
   "execution_count": null,
   "id": "550560d8",
   "metadata": {},
   "outputs": [],
   "source": [
    "for i in range(16):\n",
    "    print(log_prob(p0[i],emulator,y_val))"
   ]
  },
  {
   "cell_type": "code",
   "execution_count": null,
   "id": "3dd50fa3",
   "metadata": {},
   "outputs": [],
   "source": []
  },
  {
   "cell_type": "code",
   "execution_count": null,
   "id": "502a53b9",
   "metadata": {},
   "outputs": [],
   "source": [
    "sampler.run_mcmc(p0, 40000)"
   ]
  },
  {
   "cell_type": "code",
   "execution_count": null,
   "id": "c5bf097d",
   "metadata": {},
   "outputs": [],
   "source": []
  },
  {
   "cell_type": "code",
   "execution_count": null,
   "id": "449b2dee",
   "metadata": {
    "scrolled": true
   },
   "outputs": [],
   "source": [
    "flat_samples = sampler.get_chain(discard=20000, thin=10, flat=True)\n",
    "print(flat_samples.shape)"
   ]
  },
  {
   "cell_type": "code",
   "execution_count": null,
   "id": "1c60ac74",
   "metadata": {},
   "outputs": [],
   "source": []
  },
  {
   "cell_type": "code",
   "execution_count": null,
   "id": "35be679a",
   "metadata": {
    "scrolled": false
   },
   "outputs": [],
   "source": [
    "import corner\n",
    "\n",
    "fig = corner.corner(\n",
    "    flat_samples, labels=x_labels.values, label_kwargs=dict(fontsize=18)\n",
    ");"
   ]
  },
  {
   "cell_type": "code",
   "execution_count": null,
   "id": "4c745968",
   "metadata": {},
   "outputs": [],
   "source": []
  },
  {
   "cell_type": "code",
   "execution_count": null,
   "id": "f41da0e5",
   "metadata": {},
   "outputs": [],
   "source": [
    "samp = pd.DataFrame(flat_samples).sample(50)"
   ]
  },
  {
   "cell_type": "code",
   "execution_count": null,
   "id": "21b15ecb",
   "metadata": {},
   "outputs": [],
   "source": [
    "samp.to_csv(\"MCMC_samples_scenario_6_80_2timesUpper.dat\", sep = \" \",index=False,header=None)"
   ]
  },
  {
   "cell_type": "code",
   "execution_count": null,
   "id": "f79c69e5",
   "metadata": {
    "scrolled": true
   },
   "outputs": [],
   "source": [
    "flat_samples.mean(axis=0)"
   ]
  },
  {
   "cell_type": "code",
   "execution_count": null,
   "id": "d1f1b334",
   "metadata": {
    "scrolled": false
   },
   "outputs": [],
   "source": [
    "fig, axes = plt.subplots(ndim, figsize=(10, 7), sharex=True)\n",
    "samples = sampler.get_chain()\n",
    "labels = x_labels.values\n",
    "for i in range(ndim):\n",
    "    ax = axes[i]\n",
    "    ax.plot(samples[:, :, i], \"k\", alpha=0.3)\n",
    "    ax.set_xlim(0, len(samples))\n",
    "    ax.set_ylabel(labels[i],rotation=0)\n",
    "    ax.yaxis.set_label_coords(-0.1, 0.5)\n",
    "\n",
    "\n",
    "axes[-1].set_xlabel(\"step number\");"
   ]
  },
  {
   "cell_type": "code",
   "execution_count": null,
   "id": "3175637a",
   "metadata": {},
   "outputs": [],
   "source": [
    "x_out = torch.tensor(flat_samples.mean(axis=0).T)\n"
   ]
  },
  {
   "cell_type": "code",
   "execution_count": null,
   "id": "5e25cdde",
   "metadata": {},
   "outputs": [],
   "source": [
    "y_calibration"
   ]
  },
  {
   "cell_type": "code",
   "execution_count": null,
   "id": "4af5b2d6",
   "metadata": {},
   "outputs": [],
   "source": [
    "x_out.shape"
   ]
  },
  {
   "cell_type": "code",
   "execution_count": null,
   "id": "42ec3c4f",
   "metadata": {},
   "outputs": [],
   "source": [
    "emulator.predict(x_out[None,:])"
   ]
  },
  {
   "cell_type": "code",
   "execution_count": null,
   "id": "d5dd0342",
   "metadata": {},
   "outputs": [],
   "source": [
    "torch.tensor(flat_samples.T).shape"
   ]
  },
  {
   "cell_type": "code",
   "execution_count": null,
   "id": "13d3d6a4",
   "metadata": {},
   "outputs": [],
   "source": [
    "plt.hist(emulator.predict(torch.tensor(flat_samples))[:,3].detach().numpy())"
   ]
  },
  {
   "cell_type": "code",
   "execution_count": null,
   "id": "e4650e01",
   "metadata": {},
   "outputs": [],
   "source": [
    "fig, axes = plt.subplots(ndim, figsize=(10, 7), sharex=True)\n",
    "samples = flat_samples\n",
    "labels = x_labels.values\n",
    "for i in range(ndim):\n",
    "    ax = axes[i]\n",
    "    ax.plot(samples[:, i], \"k\", alpha=0.3)\n",
    "    ax.set_xlim(0, len(samples))\n",
    "    ax.set_ylabel(labels[i],rotation=0)\n",
    "    ax.yaxis.set_label_coords(-0.1, 0.5)\n",
    "\n",
    "\n",
    "axes[-1].set_xlabel(\"step number\");"
   ]
  },
  {
   "cell_type": "code",
   "execution_count": null,
   "id": "1b7d9902",
   "metadata": {},
   "outputs": [],
   "source": [
    "working = model.predict(flat_samples)"
   ]
  },
  {
   "cell_type": "code",
   "execution_count": null,
   "id": "d41b325a",
   "metadata": {},
   "outputs": [],
   "source": [
    "plt.plot(working,'o')"
   ]
  },
  {
   "cell_type": "markdown",
   "id": "e2b1b403",
   "metadata": {},
   "source": [
    "# Calibration with fixed inputs"
   ]
  },
  {
   "cell_type": "code",
   "execution_count": null,
   "id": "7227555a",
   "metadata": {
    "scrolled": true
   },
   "outputs": [],
   "source": [
    "new_input=input_masked.copy()\n",
    "new_input=new_input.drop(['CV_atria','a_atria','a_ventricles'],axis=1)"
   ]
  },
  {
   "cell_type": "code",
   "execution_count": null,
   "id": "891a7fd3",
   "metadata": {},
   "outputs": [],
   "source": []
  },
  {
   "cell_type": "code",
   "execution_count": null,
   "id": "ee351c8c",
   "metadata": {},
   "outputs": [],
   "source": [
    "emulator = GPE.ensemble(new_input,y_calibration,mean_func=\"linear\",training_iter=500)"
   ]
  },
  {
   "cell_type": "code",
   "execution_count": null,
   "id": "6e5255a6",
   "metadata": {},
   "outputs": [],
   "source": [
    "nDim = new_input.shape[1]\n",
    "boundsMaxMin = []\n",
    "for i in range(nDim):\n",
    "    boundsMaxMin.append([np.min(new_input.iloc[:,i]),np.max(new_input.iloc[:,i])])\n",
    "    print(boundsMaxMin[i])"
   ]
  },
  {
   "cell_type": "code",
   "execution_count": null,
   "id": "e73abeed",
   "metadata": {},
   "outputs": [],
   "source": [
    "centre = (np.array(boundsMaxMin)[:,1]+np.array(boundsMaxMin)[:,0])/2"
   ]
  },
  {
   "cell_type": "code",
   "execution_count": null,
   "id": "5f590698",
   "metadata": {},
   "outputs": [],
   "source": [
    "nDim"
   ]
  },
  {
   "cell_type": "code",
   "execution_count": null,
   "id": "b2e8bc61",
   "metadata": {},
   "outputs": [],
   "source": [
    "import emcee\n",
    "ndim = nDim\n",
    "nwalkers = 16\n",
    "p0 = np.random.multivariate_normal(centre, 0.001*np.identity(ndim), size=(nwalkers))\n",
    "y_val = [100,157,111,0.5]"
   ]
  },
  {
   "cell_type": "code",
   "execution_count": null,
   "id": "35e43ad6",
   "metadata": {},
   "outputs": [],
   "source": [
    "x_labels.values.squeeze().tolist()"
   ]
  },
  {
   "cell_type": "code",
   "execution_count": null,
   "id": "d584ebd7",
   "metadata": {},
   "outputs": [],
   "source": [
    "new_input.columns"
   ]
  },
  {
   "cell_type": "code",
   "execution_count": null,
   "id": "56177e0d",
   "metadata": {},
   "outputs": [],
   "source": [
    "def log_likelihood(x,emulator,y_val):\n",
    "    x=pd.DataFrame(x).T\n",
    "    x.columns = new_input.columns.values.squeeze().tolist()\n",
    "    y_val = pd.DataFrame(y_val).T\n",
    "    y_val.columns = y_calibration.columns.values.squeeze().tolist()\n",
    "    ll =np.sum(emulator.ensemble_log_likelihood(x,y_val))\n",
    "    return ll"
   ]
  },
  {
   "cell_type": "code",
   "execution_count": null,
   "id": "9c13222c",
   "metadata": {},
   "outputs": [],
   "source": [
    "sampler = emcee.EnsembleSampler(nwalkers, ndim, log_prob, args=[emulator,y_val])"
   ]
  },
  {
   "cell_type": "code",
   "execution_count": null,
   "id": "f2d0fb94",
   "metadata": {},
   "outputs": [],
   "source": [
    "sampler.run_mcmc(p0, 30000)"
   ]
  },
  {
   "cell_type": "code",
   "execution_count": null,
   "id": "221362bb",
   "metadata": {
    "scrolled": true
   },
   "outputs": [],
   "source": [
    "flat_samples = sampler.get_chain(discard=6000, thin=10, flat=True)\n",
    "print(flat_samples.shape)"
   ]
  },
  {
   "cell_type": "code",
   "execution_count": null,
   "id": "cc8d70bb",
   "metadata": {},
   "outputs": [],
   "source": []
  },
  {
   "cell_type": "code",
   "execution_count": null,
   "id": "f5b53bb5",
   "metadata": {
    "scrolled": false
   },
   "outputs": [],
   "source": [
    "import corner\n",
    "\n",
    "fig = corner.corner(\n",
    "    flat_samples, labels=x_labels.values, label_kwargs=dict(fontsize=18)\n",
    ");"
   ]
  },
  {
   "cell_type": "code",
   "execution_count": null,
   "id": "a638efec",
   "metadata": {},
   "outputs": [],
   "source": [
    "samp = pd.DataFrame(flat_samples).sample(50)"
   ]
  },
  {
   "cell_type": "code",
   "execution_count": null,
   "id": "ea1f6cb9",
   "metadata": {},
   "outputs": [],
   "source": [
    "samp.to_csv(\"MCMC_samples_scenario_5_90.dat\", sep = \" \",index=False,header=None)"
   ]
  },
  {
   "cell_type": "code",
   "execution_count": null,
   "id": "112f9f47",
   "metadata": {
    "scrolled": true
   },
   "outputs": [],
   "source": [
    "flat_samples.mean(axis=0)"
   ]
  },
  {
   "cell_type": "code",
   "execution_count": null,
   "id": "c5ef4028",
   "metadata": {
    "scrolled": false
   },
   "outputs": [],
   "source": [
    "fig, axes = plt.subplots(ndim, figsize=(10, 7), sharex=True)\n",
    "samples = sampler.get_chain()\n",
    "labels = x_labels.values\n",
    "for i in range(ndim):\n",
    "    ax = axes[i]\n",
    "    ax.plot(samples[:, :, i], \"k\", alpha=0.3)\n",
    "    ax.set_xlim(0, len(samples))\n",
    "    ax.set_ylabel(labels[i],rotation=0)\n",
    "    ax.yaxis.set_label_coords(-0.1, 0.5)\n",
    "\n",
    "\n",
    "axes[-1].set_xlabel(\"step number\");"
   ]
  },
  {
   "cell_type": "code",
   "execution_count": null,
   "id": "8c028d2b",
   "metadata": {},
   "outputs": [],
   "source": [
    "x_out = pd.DataFrame(flat_samples.mean(axis=0)).T\n",
    "x_out.columns = new_input.columns.values.squeeze()"
   ]
  },
  {
   "cell_type": "code",
   "execution_count": null,
   "id": "fab2c736",
   "metadata": {},
   "outputs": [],
   "source": [
    "y_calibration.columns"
   ]
  },
  {
   "cell_type": "code",
   "execution_count": null,
   "id": "1df5c740",
   "metadata": {},
   "outputs": [],
   "source": [
    "emulator.predict(x_out)"
   ]
  },
  {
   "cell_type": "code",
   "execution_count": null,
   "id": "27e13454",
   "metadata": {},
   "outputs": [],
   "source": [
    "plt.hist(emulator.predict(pd.DataFrame(flat_samples,columns=input_masked.columns))[:,3].detach().numpy())"
   ]
  },
  {
   "cell_type": "code",
   "execution_count": null,
   "id": "1fe63d2b",
   "metadata": {},
   "outputs": [],
   "source": [
    "fig, axes = plt.subplots(ndim, figsize=(10, 7), sharex=True)\n",
    "samples = flat_samples\n",
    "labels = x_labels.values\n",
    "for i in range(ndim):\n",
    "    ax = axes[i]\n",
    "    ax.plot(samples[:, i], \"k\", alpha=0.3)\n",
    "    ax.set_xlim(0, len(samples))\n",
    "    ax.set_ylabel(labels[i],rotation=0)\n",
    "    ax.yaxis.set_label_coords(-0.1, 0.5)\n",
    "\n",
    "\n",
    "axes[-1].set_xlabel(\"step number\");"
   ]
  },
  {
   "cell_type": "markdown",
   "id": "2c0ac968",
   "metadata": {},
   "source": [
    "# Multi-Output GP"
   ]
  },
  {
   "cell_type": "code",
   "execution_count": null,
   "id": "adfb8cd5",
   "metadata": {},
   "outputs": [],
   "source": [
    "import mogptk"
   ]
  },
  {
   "cell_type": "code",
   "execution_count": null,
   "id": "34340fab",
   "metadata": {},
   "outputs": [],
   "source": [
    "y_calibration"
   ]
  },
  {
   "cell_type": "code",
   "execution_count": null,
   "id": "4e1780cb",
   "metadata": {},
   "outputs": [],
   "source": [
    "# split original dataset in training, validation and testing sets\n",
    "X=input_masked\n",
    "y=y_calibration\n",
    "X_train, X_test, y_train, y_test = train_test_split(\n",
    "    X,\n",
    "    y,\n",
    "    test_size=0.2,\n",
    "    random_state=seed\n",
    ")"
   ]
  },
  {
   "cell_type": "code",
   "execution_count": null,
   "id": "cfde4d1a",
   "metadata": {},
   "outputs": [],
   "source": [
    "MOData = pd.concat((X_train,y_train),axis=1)\n"
   ]
  },
  {
   "cell_type": "code",
   "execution_count": null,
   "id": "4fdc7875",
   "metadata": {},
   "outputs": [],
   "source": [
    "MOData"
   ]
  },
  {
   "cell_type": "code",
   "execution_count": null,
   "id": "8601b286",
   "metadata": {},
   "outputs": [],
   "source": [
    "y_calibration2.columns.values.tolist()"
   ]
  },
  {
   "cell_type": "code",
   "execution_count": null,
   "id": "3ef0305a",
   "metadata": {},
   "outputs": [],
   "source": [
    "dataset = mogptk.LoadDataFrame(MOData,x_col=input_masked.columns.values.tolist(),y_col=y_calibration2.columns.values.tolist())\n",
    "dataset.transform(mogptk.TransformNormalize)\n",
    "dataset"
   ]
  },
  {
   "cell_type": "code",
   "execution_count": null,
   "id": "f62155e4",
   "metadata": {},
   "outputs": [],
   "source": [
    "dataset.get_test_data()"
   ]
  },
  {
   "cell_type": "code",
   "execution_count": null,
   "id": "d4a39033",
   "metadata": {},
   "outputs": [],
   "source": [
    "# create model, uncomment for different kernels \n",
    "#model = mogptk.MOSM(dataset, Q=2)\n",
    "#model = mogptk.CSM(dataset, Q=4)\n",
    "#model = mogptk.SM_LMC(dataset, Q=4)\n",
    "model = mogptk.CONV(dataset, Q=4)\n",
    "\n",
    "# initialize parameters of kernel using LombScargle\n",
    "model.init_parameters(method='LS', iters=500)"
   ]
  },
  {
   "cell_type": "code",
   "execution_count": null,
   "id": "440d8cf7",
   "metadata": {},
   "outputs": [],
   "source": [
    "model.train(method='Adam', lr=0.1, iters=7000, plot=True, error='MSE', verbose=True);"
   ]
  },
  {
   "cell_type": "code",
   "execution_count": null,
   "id": "59173348",
   "metadata": {},
   "outputs": [],
   "source": [
    "model.predict(X_test.values)[1]"
   ]
  },
  {
   "cell_type": "code",
   "execution_count": null,
   "id": "6e490e8f",
   "metadata": {},
   "outputs": [],
   "source": [
    "np.mean((y_test.values.T-model.predict(X_test.values)[1])**2,axis=1)/X_test.shape[0]"
   ]
  },
  {
   "cell_type": "code",
   "execution_count": null,
   "id": "0673be71",
   "metadata": {},
   "outputs": [],
   "source": [
    "emulator = GPE.ensemble(X_train,y_train,mean_func=\"linear\",training_iter=1000)"
   ]
  },
  {
   "cell_type": "code",
   "execution_count": null,
   "id": "93c5e3fc",
   "metadata": {},
   "outputs": [],
   "source": [
    "emulator.MSE(X_test,y_test)"
   ]
  },
  {
   "cell_type": "code",
   "execution_count": null,
   "id": "b9854963",
   "metadata": {},
   "outputs": [],
   "source": [
    "model.plot_correlation()"
   ]
  },
  {
   "cell_type": "code",
   "execution_count": null,
   "id": "d383cd65",
   "metadata": {
    "scrolled": false
   },
   "outputs": [],
   "source": [
    "model.print_parameters()"
   ]
  },
  {
   "cell_type": "code",
   "execution_count": null,
   "id": "d8ac5497",
   "metadata": {},
   "outputs": [],
   "source": [
    "params?"
   ]
  },
  {
   "cell_type": "code",
   "execution_count": null,
   "id": "441b582d",
   "metadata": {},
   "outputs": [],
   "source": [
    "params = []\n",
    "\n",
    "for p in model.parameters():\n",
    "    params.append(p)"
   ]
  },
  {
   "cell_type": "code",
   "execution_count": null,
   "id": "118e221a",
   "metadata": {},
   "outputs": [],
   "source": [
    "params"
   ]
  },
  {
   "cell_type": "code",
   "execution_count": null,
   "id": "6b8539af",
   "metadata": {},
   "outputs": [],
   "source": [
    "plt.imshow([[0.0009756545815890106, 0.0, 0.0, 0.0, 27819.543719613113, 0.0, 0.0, 0.0], [1.7460115277182566, 0.0, 0.0, 119410.25481699423, 0.0, 0.0, 0.0, 0.0], [11.369120898808664, 115237.02973475368, 0.0, 0.0, 0.0, 0.0, 0.0, 0.0], [1.6990749064961943, 0.0, 0.0, 74757.56112865475, 0.0, 0.0, 0.0, 0.0]])"
   ]
  },
  {
   "cell_type": "code",
   "execution_count": null,
   "id": "492057c9",
   "metadata": {},
   "outputs": [],
   "source": [
    "plt.imshow([[10.162908005474888, 0.0, 0.0, 0.0, 0.0, 0.0, 0.0, 0.0], [37.97208882285453, 0.0, 0.0, 0.0, 0.0, 0.0, 0.0, 0.0], [35.583222651507306, 0.0, 0.0, 0.0, 0.0, 0.0, 0.0, 0.0], [7.01360765548753, 0.0, 0.0, 0.0, 0.0, 0.0, 0.0, 0.0]])"
   ]
  },
  {
   "cell_type": "code",
   "execution_count": null,
   "id": "3a9d0f77",
   "metadata": {},
   "outputs": [],
   "source": [
    "# split original dataset in training, validation and testing sets\n",
    "X=input_masked\n",
    "y=y_all\n",
    "X_train, X_test, y_train, y_test = train_test_split(\n",
    "    X,\n",
    "    y,\n",
    "    test_size=0.2,\n",
    "    random_state=seed\n",
    ")"
   ]
  },
  {
   "cell_type": "code",
   "execution_count": null,
   "id": "2b18753d",
   "metadata": {},
   "outputs": [],
   "source": [
    "MOData = pd.concat((X_train,y_train),axis=1)\n"
   ]
  },
  {
   "cell_type": "code",
   "execution_count": null,
   "id": "ab1aab15",
   "metadata": {},
   "outputs": [],
   "source": [
    "MOData"
   ]
  },
  {
   "cell_type": "code",
   "execution_count": null,
   "id": "21b08d30",
   "metadata": {},
   "outputs": [],
   "source": [
    "y_calibration.columns.values.tolist()"
   ]
  },
  {
   "cell_type": "code",
   "execution_count": null,
   "id": "d5069a2f",
   "metadata": {},
   "outputs": [],
   "source": [
    "dataset = mogptk.LoadDataFrame(MOData,x_col=input_masked.columns.values.tolist(),y_col=y_all.columns.values.tolist())\n",
    "dataset.transform(mogptk.TransformNormalize)\n",
    "dataset"
   ]
  },
  {
   "cell_type": "code",
   "execution_count": null,
   "id": "9419ae1a",
   "metadata": {},
   "outputs": [],
   "source": [
    "dataset.get_test_data()"
   ]
  },
  {
   "cell_type": "code",
   "execution_count": null,
   "id": "f6ddda17",
   "metadata": {},
   "outputs": [],
   "source": [
    "# create model, uncomment for different kernels \n",
    "#model = mogptk.MOSM(dataset, Q=2)\n",
    "#model = mogptk.CSM(dataset, Q=4)\n",
    "#model = mogptk.SM_LMC(dataset, Q=4)\n",
    "model = mogptk.CONV(dataset, Q=2)\n",
    "\n",
    "# initialize parameters of kernel using LombScargle\n",
    "model.init_parameters(method='LS', iters=500)"
   ]
  },
  {
   "cell_type": "code",
   "execution_count": null,
   "id": "a16f0b5b",
   "metadata": {},
   "outputs": [],
   "source": [
    "model.train(method='SGD', lr=0.01, iters=3500, plot=True, error='MSE', verbose=True);"
   ]
  },
  {
   "cell_type": "code",
   "execution_count": null,
   "id": "910fbd12",
   "metadata": {},
   "outputs": [],
   "source": [
    "model.train(method='SGD', lr=0.01, iters=500, plot=True, error='MSE', verbose=True);"
   ]
  },
  {
   "cell_type": "code",
   "execution_count": null,
   "id": "7d08af99",
   "metadata": {},
   "outputs": [],
   "source": [
    "model.predict(X_test.values)[1]"
   ]
  },
  {
   "cell_type": "code",
   "execution_count": null,
   "id": "cd236282",
   "metadata": {},
   "outputs": [],
   "source": [
    "np.mean((y_test.values.T-model.predict(X_test.values)[1])**2,axis=1)/X_test.shape[0]"
   ]
  },
  {
   "cell_type": "code",
   "execution_count": null,
   "id": "574010f7",
   "metadata": {
    "scrolled": false
   },
   "outputs": [],
   "source": [
    "model.plot_correlation()"
   ]
  },
  {
   "cell_type": "code",
   "execution_count": null,
   "id": "58e2c265",
   "metadata": {},
   "outputs": [],
   "source": [
    "fig, ax = model.plot_correlation(figsize=(25, 25))"
   ]
  },
  {
   "cell_type": "code",
   "execution_count": null,
   "id": "9abf25e7",
   "metadata": {},
   "outputs": [],
   "source": [
    "start=time.time()\n",
    "emulator = GPE.ensemble(X_train,y_train,mean_func=\"linear\",training_iter=500)\n",
    "\n",
    "end = time.time()\n",
    "print(end - start)"
   ]
  },
  {
   "cell_type": "code",
   "execution_count": null,
   "id": "5136c4c2",
   "metadata": {},
   "outputs": [],
   "source": [
    "from matplotlib import pyplot as plt"
   ]
  },
  {
   "cell_type": "code",
   "execution_count": null,
   "id": "1b22a444",
   "metadata": {},
   "outputs": [],
   "source": [
    "X_test"
   ]
  },
  {
   "cell_type": "code",
   "execution_count": null,
   "id": "52c8535b",
   "metadata": {},
   "outputs": [],
   "source": [
    "import cigp_v10 as cig"
   ]
  },
  {
   "cell_type": "code",
   "execution_count": null,
   "id": "9c6b8b02",
   "metadata": {},
   "outputs": [],
   "source": [
    "model = cig.cigp(torch.tensor(X_train.values),torch.tensor(y_train.values),normal_y_mode=1)"
   ]
  },
  {
   "cell_type": "code",
   "execution_count": null,
   "id": "0f8c34e6",
   "metadata": {},
   "outputs": [],
   "source": [
    "import time\n",
    "start = time.time()\n",
    "\n",
    "\n",
    "model.train_adam(niteration=500)\n",
    "\n"
   ]
  },
  {
   "cell_type": "code",
   "execution_count": null,
   "id": "ae398dc8",
   "metadata": {},
   "outputs": [],
   "source": [
    "(torch.sum((model.forward(torch.tensor(X_test.values))[0]-torch.tensor(y_test.values))**2,axis=0))/y_test.values.shape[0]"
   ]
  },
  {
   "cell_type": "code",
   "execution_count": null,
   "id": "8434b694",
   "metadata": {},
   "outputs": [],
   "source": []
  },
  {
   "cell_type": "code",
   "execution_count": null,
   "id": "a7d31b2c",
   "metadata": {},
   "outputs": [],
   "source": []
  },
  {
   "cell_type": "code",
   "execution_count": null,
   "id": "946048e9",
   "metadata": {},
   "outputs": [],
   "source": []
  },
  {
   "cell_type": "code",
   "execution_count": null,
   "id": "668fd2da",
   "metadata": {},
   "outputs": [],
   "source": [
    "mogptMSE = np.array([9.10333333e-01, 1.33455636e-02, 8.78157403e-01, 6.69582124e-01,\n",
    "       3.70024071e+02, 1.23460430e+02, 6.35753356e-01, 6.52791491e-04,\n",
    "       3.76409392e-01, 5.31805275e-01, 1.71110574e+02, 5.49810697e+00,\n",
    "       1.05649088e-01, 7.97417780e-02, 1.55348111e-01, 1.24083716e-02,\n",
    "       5.45010526e-02, 5.65038223e-02, 1.02820944e-01, 1.11955787e-03,\n",
    "       2.06413166e-02, 1.92173725e-02, 5.43121107e-02, 2.30204748e-02,\n",
    "       1.96869906e-02, 1.69456459e-02, 1.63021757e+01, 1.57392304e+00])"
   ]
  },
  {
   "cell_type": "code",
   "execution_count": null,
   "id": "aec72146",
   "metadata": {},
   "outputs": [],
   "source": [
    "GPMSE = emulator.MSE(X_test,y_test).detach().numpy()\n",
    "CIGMSE=((torch.sum((model.forward(torch.tensor(X_test.values))[0]-torch.tensor(y_test.values))**2,axis=0))/y_test.values.shape[0]).detach().numpy()"
   ]
  },
  {
   "cell_type": "code",
   "execution_count": null,
   "id": "ded22143",
   "metadata": {},
   "outputs": [],
   "source": [
    "fig, ax = plt.subplots()\n",
    "\n",
    "\n",
    "\n",
    "im=plt.plot(1-GPMSE/np.var(y_test,axis=0),'o')\n",
    "plt.plot(1-mogptMSE/np.var(y_test,axis=0),'o')\n",
    "plt.plot(1-CIGMSE/np.var(y_test,axis=0),'o')\n",
    "plt.legend(('GP','MOGPT','CIGP'))\n",
    "\n",
    "\n",
    "plt.setp(ax.get_xticklabels(), rotation=60, ha=\"right\",\n",
    "         rotation_mode=\"anchor\");"
   ]
  },
  {
   "cell_type": "code",
   "execution_count": null,
   "id": "c5a4db8b",
   "metadata": {},
   "outputs": [],
   "source": [
    "np.mean((y_test.values.T-model.predict(X_test.values)[1])**2,axis=1)/X_test.shape[0]"
   ]
  },
  {
   "cell_type": "code",
   "execution_count": null,
   "id": "d2202568",
   "metadata": {},
   "outputs": [],
   "source": [
    "np.var(y_test,axis=0)"
   ]
  },
  {
   "cell_type": "code",
   "execution_count": null,
   "id": "c2c9f633",
   "metadata": {},
   "outputs": [],
   "source": [
    "y_all.iloc[:,[4]].max()"
   ]
  },
  {
   "cell_type": "code",
   "execution_count": null,
   "id": "e826904c",
   "metadata": {},
   "outputs": [],
   "source": [
    "y_all.iloc[:,[4]].min()"
   ]
  },
  {
   "cell_type": "code",
   "execution_count": null,
   "id": "c5f9179b",
   "metadata": {},
   "outputs": [],
   "source": [
    "y_all.iloc[:,[4]].std()"
   ]
  },
  {
   "cell_type": "code",
   "execution_count": null,
   "id": "5f939c54",
   "metadata": {},
   "outputs": [],
   "source": []
  }
 ],
 "metadata": {
  "kernelspec": {
   "display_name": "Python 3 (ipykernel)",
   "language": "python",
   "name": "python3"
  },
  "language_info": {
   "codemirror_mode": {
    "name": "ipython",
    "version": 3
   },
   "file_extension": ".py",
   "mimetype": "text/x-python",
   "name": "python",
   "nbconvert_exporter": "python",
   "pygments_lexer": "ipython3",
   "version": "3.11.5"
  }
 },
 "nbformat": 4,
 "nbformat_minor": 5
}
