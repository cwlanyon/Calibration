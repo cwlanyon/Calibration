{
 "cells": [
  {
   "cell_type": "markdown",
   "id": "8ad34e20",
   "metadata": {},
   "source": [
    "# Welcome to GPyEm!\n",
    "\n",
    "GPyEm is a package used to create independent multi-output emulators for cohort emulation studies using GPyTorch.\n",
    "\n",
    "In this tutorial we will show how to use GPyEm emulators for a Global Sensitivity Analysis using SALib. "
   ]
  },
  {
   "cell_type": "markdown",
   "id": "75e8210e",
   "metadata": {},
   "source": [
    "# Installation\n",
    "## If you just want to use it...\n",
    "```\n",
    "pip install git+https://github.com/cwlanyon/GPyEm.git\n",
    "```\n",
    "\n",
    "## If you want to develop it...\n",
    "\n",
    "Go to where you want to save your repo:\n",
    "```\n",
    "git clone https://github.com/cwlanyon/GPyEm.git\n",
    "pip install -e GPyEm\n",
    "```\n",
    "So you can now import this in a python script anywhere you happen to be (no need to worry about paths etc):\n",
    "```\n",
    "from GPyEm import GPE_ensemble as GPE\n",
    "```\n",
    "\n",
    "## If you already have the repo on your computer...\n",
    "\n",
    "Go to the location. E.g.\n",
    "```\n",
    "cd /home/me/Documents/code/GPyEm\n",
    "```\n",
    "Then call:\n",
    "```\n",
    "pip install -e .\n",
    "```\n"
   ]
  },
  {
   "cell_type": "code",
   "execution_count": 120,
   "id": "1f272682",
   "metadata": {},
   "outputs": [],
   "source": [
    "# Import useful libraries\n",
    "\n",
    "import math\n",
    "import torch\n",
    "import gpytorch\n",
    "import numpy as np\n",
    "from matplotlib import pyplot as plt\n",
    "from sklearn.model_selection import train_test_split\n",
    "from pyDOE import *\n",
    "\n",
    "#Import GPyEm\n",
    "\n",
    "from GPyEm import GPE_ensemble as GPE \n",
    "\n",
    "#Import libraries for sensitivity analysis \n",
    "\n",
    "import scipy.stats.qmc as qmc\n",
    "##### from SALib.sample import saltelli\n",
    "from SALib.sample import saltelli\n",
    "from SALib.analyze import sobol\n",
    "from SALib.test_functions import Ishigami\n",
    "import numpy as np"
   ]
  },
  {
   "cell_type": "markdown",
   "id": "1f004872",
   "metadata": {},
   "source": [
    "### Establishing the problem\n",
    "\n",
    "As a simple example we use the function \n",
    "\n",
    "$$ f(\\theta)=\\begin{cases}\n",
    "f_1(\\theta)=(\\theta_3\\theta_2^2-\\theta_1)/\\theta_4^2 \\\\\n",
    "f_2(\\theta)=\\sum\\theta_i\n",
    "\\end{cases}\n",
    "$$\n",
    "\n",
    "In the first case the two m"
   ]
  },
  {
   "cell_type": "code",
   "execution_count": 206,
   "id": "9a243215",
   "metadata": {},
   "outputs": [],
   "source": [
    "p=50 # Number of observations\n",
    "\n",
    "# Sample 4D theta from latin-hypercube\n",
    "theta_sampler = qmc.LatinHypercube(d=4) \n",
    "theta_sample = theta_sampler.random(n=p)\n",
    "\n",
    "l_bounds = [1,1,1,1]\n",
    "u_bounds = [10,10,10,10]\n",
    "theta = torch.tensor(qmc.scale(theta_sample, l_bounds, u_bounds))"
   ]
  },
  {
   "cell_type": "code",
   "execution_count": 207,
   "id": "fddee9af",
   "metadata": {},
   "outputs": [],
   "source": [
    "def twoD_func(theta): # define f\n",
    "    return torch.stack([theta[:,3]+(theta[:,2]*theta[:,1]**2-theta[:,0])/theta[:,2]**2,torch.sum(theta,axis=1)],axis=1)"
   ]
  },
  {
   "cell_type": "markdown",
   "id": "8164889c",
   "metadata": {},
   "source": [
    "### Train the emulator"
   ]
  },
  {
   "cell_type": "code",
   "execution_count": 208,
   "id": "2d76a066",
   "metadata": {},
   "outputs": [],
   "source": [
    "X=theta\n",
    "y=(twoD_func(theta))\n",
    "\n",
    "# Split data into training and testing\n",
    "\n",
    "theta_train, theta_test, y_train, y_test = train_test_split(\n",
    "    X,\n",
    "    y,\n",
    "    test_size=0.2,\n",
    ")"
   ]
  },
  {
   "cell_type": "code",
   "execution_count": 209,
   "id": "86eb41de",
   "metadata": {},
   "outputs": [
    {
     "name": "stdout",
     "output_type": "stream",
     "text": [
      "0\n",
      "1\n"
     ]
    }
   ],
   "source": [
    "emulator=GPE.ensemble(theta_train,y_train,kernel='RBF') "
   ]
  },
  {
   "cell_type": "code",
   "execution_count": 210,
   "id": "faa78980",
   "metadata": {},
   "outputs": [
    {
     "data": {
      "text/plain": [
       "tensor([0.9960, 1.0000], dtype=torch.float64, grad_fn=<RsubBackward1>)"
      ]
     },
     "execution_count": 210,
     "metadata": {},
     "output_type": "execute_result"
    }
   ],
   "source": [
    "emulator.R2(theta_test,y_test)"
   ]
  },
  {
   "cell_type": "markdown",
   "id": "6bbdef87",
   "metadata": {},
   "source": [
    "# GSA\n",
    "\n",
    "Here we set up our GSA using SALib. \n",
    "\n",
    "We start by taking a large sample from the parameter space."
   ]
  },
  {
   "cell_type": "code",
   "execution_count": 211,
   "id": "878d8aba",
   "metadata": {},
   "outputs": [
    {
     "name": "stdout",
     "output_type": "stream",
     "text": [
      "[1.005653712336757, 9.840643220553778]\n",
      "[1.141428362247931, 9.909506721445933]\n",
      "[1.1579527382629875, 9.838483389540139]\n",
      "[1.0699715722598586, 9.833365545254184]\n"
     ]
    },
    {
     "name": "stderr",
     "output_type": "stream",
     "text": [
      "/var/folders/_j/ptyc01811q5b1dg30hshtfzh0000gr/T/ipykernel_41318/430000757.py:15: DeprecationWarning: `salib.sample.saltelli` will be removed in SALib 1.5. Please use `salib.sample.sobol`\n",
      "  param_values = saltelli.sample(problem, 1024)\n"
     ]
    }
   ],
   "source": [
    "nDim = theta.shape[1]\n",
    "boundsMaxMin = []\n",
    "for i in range(nDim): # Calculates the max and min bounds of the parameters\n",
    "    boundsMaxMin.append([np.min(theta[:,i].detach().numpy()),np.max(theta[:,i].detach().numpy())])\n",
    "    print(boundsMaxMin[i])\n",
    "\n",
    "# Define the model inputs\n",
    "problem = {\n",
    "    'num_vars': nDim,\n",
    "    'names': ['$theta_1$','$theta_2$','$theta_3$','$theta_4$'],\n",
    "    'bounds': boundsMaxMin\n",
    "}\n",
    "\n",
    "# Generate samples via a saltelli sample\n",
    "param_values = saltelli.sample(problem, 1024)\n",
    "\n",
    "data1 = torch.tensor(param_values)\n",
    "#data1.columns = X_train.columns\n",
    "\n",
    "Ymean=emulator.predict(data1) #use the emulator to predict the f at the sampled parameter values\n"
   ]
  },
  {
   "cell_type": "markdown",
   "id": "52cbbd60",
   "metadata": {},
   "source": [
    "### Calculate the Sobol indices for each output."
   ]
  },
  {
   "cell_type": "code",
   "execution_count": 212,
   "id": "efddd808",
   "metadata": {},
   "outputs": [
    {
     "name": "stdout",
     "output_type": "stream",
     "text": [
      "                 ST   ST_conf\n",
      "$theta_1$  0.003033  0.000709\n",
      "$theta_2$  0.648675  0.099577\n",
      "$theta_3$  0.502000  0.071031\n",
      "$theta_4$  0.048461  0.006692\n",
      "                 S1   S1_conf\n",
      "$theta_1$  0.000860  0.004282\n",
      "$theta_2$  0.453462  0.081593\n",
      "$theta_3$  0.307636  0.089508\n",
      "$theta_4$  0.042369  0.021110\n",
      "                              S2   S2_conf\n",
      "($theta_1$, $theta_2$)  0.000045  0.007438\n",
      "($theta_1$, $theta_3$)  0.001833  0.010724\n",
      "($theta_1$, $theta_4$)  0.000947  0.006026\n",
      "($theta_2$, $theta_3$)  0.173809  0.146645\n",
      "($theta_2$, $theta_4$) -0.015277  0.100610\n",
      "($theta_3$, $theta_4$) -0.013964  0.135938\n",
      "                 ST   ST_conf\n",
      "$theta_1$  0.253856  0.022699\n",
      "$theta_2$  0.250323  0.023422\n",
      "$theta_3$  0.245514  0.018509\n",
      "$theta_4$  0.250183  0.021444\n",
      "                 S1   S1_conf\n",
      "$theta_1$  0.253870  0.040208\n",
      "$theta_2$  0.250350  0.040404\n",
      "$theta_3$  0.245493  0.040503\n",
      "$theta_4$  0.250214  0.037030\n",
      "                              S2   S2_conf\n",
      "($theta_1$, $theta_2$) -0.000046  0.066777\n",
      "($theta_1$, $theta_3$)  0.000002  0.057186\n",
      "($theta_1$, $theta_4$) -0.000067  0.059846\n",
      "($theta_2$, $theta_3$) -0.000020  0.065188\n",
      "($theta_2$, $theta_4$) -0.000017  0.062186\n",
      "($theta_3$, $theta_4$) -0.000006  0.067903\n"
     ]
    }
   ],
   "source": [
    "Si = []\n",
    "nMod = y_train.shape[1]\n",
    "\n",
    "for i in range(nMod):\n",
    "    Si.append(sobol.analyze(problem, Ymean[:,i].detach().numpy(), print_to_console=True,calc_second_order=True))\n",
    "\n",
    "Si_first=np.zeros((nDim,nMod))\n",
    "Si_total=np.zeros((nDim,nMod))\n",
    "for i in range(nMod):\n",
    "    total_Si, first_Si, second_Si = Si[i].to_df()\n",
    "    Si_first[:,i] =  first_Si.iloc[:,0]\n",
    "    Si_total[:,i] =  total_Si.iloc[:,0]"
   ]
  },
  {
   "cell_type": "markdown",
   "id": "6eca8040",
   "metadata": {},
   "source": [
    "### Visualise the first order Sobol indices"
   ]
  },
  {
   "cell_type": "code",
   "execution_count": 213,
   "id": "7aea2500",
   "metadata": {},
   "outputs": [
    {
     "data": {
      "text/plain": [
       "<matplotlib.colorbar.Colorbar at 0x2b9f372d0>"
      ]
     },
     "execution_count": 213,
     "metadata": {},
     "output_type": "execute_result"
    },
    {
     "data": {
      "image/png": "[encoded data removed]",
      "text/plain": [
       "<Figure size 640x480 with 2 Axes>"
      ]
     },
     "metadata": {},
     "output_type": "display_data"
    }
   ],
   "source": [
    "inputs =  ['$\\\\theta_1$','$\\\\theta_2$','$\\\\theta_3$','$\\\\theta_4$']\n",
    "outputs = ['y_1']\n",
    "fig, ax = plt.subplots()\n",
    "im = ax.imshow(Si_first,cmap='magma_r',vmin=0,vmax=1)\n",
    "\n",
    "ax.set_xticks(np.arange(len(outputs)),labels=outputs)\n",
    "ax.set_yticks(np.arange(len(inputs)), labels=inputs)\n",
    "plt.setp(ax.get_xticklabels(), rotation=60, ha=\"right\",\n",
    "         rotation_mode=\"anchor\");\n",
    "\n",
    "plt.colorbar(im,fraction=0.015, pad=0.04)"
   ]
  },
  {
   "cell_type": "code",
   "execution_count": null,
   "id": "05a5f7ff",
   "metadata": {},
   "outputs": [],
   "source": []
  }
 ],
 "metadata": {
  "kernelspec": {
   "display_name": "Python 3 (ipykernel)",
   "language": "python",
   "name": "python3"
  },
  "language_info": {
   "codemirror_mode": {
    "name": "ipython",
    "version": 3
   },
   "file_extension": ".py",
   "mimetype": "text/x-python",
   "name": "python",
   "nbconvert_exporter": "python",
   "pygments_lexer": "ipython3",
   "version": "3.11.5"
  }
 },
 "nbformat": 4,
 "nbformat_minor": 5
}
