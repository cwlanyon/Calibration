{
 "cells": [
  {
   "cell_type": "code",
   "execution_count": 1,
   "id": "2b3dba6c",
   "metadata": {},
   "outputs": [],
   "source": [
    "import math\n",
    "import torch\n",
    "import gpytorch\n",
    "import pandas as pd\n",
    "import numpy as np\n",
    "from matplotlib import pyplot as plt\n",
    "from  torch.distributions import normal , MultivariateNormal\n",
    "import GPE_ensemble as GPE\n",
    "\n",
    "dtype = torch.float\n",
    "device = torch.device(\"cpu\")\n",
    "\n",
    "import os\n",
    "from sklearn.linear_model import LinearRegression\n",
    "from sklearn.metrics import mean_squared_error, r2_score\n",
    "from sklearn.model_selection import train_test_split\n",
    "#from GPErks.gp.data.dataset import Dataset\n",
    "from gpytorch.likelihoods import GaussianLikelihood\n",
    "from gpytorch.means import LinearMean\n",
    "from gpytorch.kernels import RBFKernel, ScaleKernel\n",
    "from torchmetrics import MeanSquaredError, R2Score\n",
    "#from GPErks.gp.experiment import GPExperiment\n",
    "#from GPErks.train.emulator import GPEmulator\n",
    "#from GPErks.perks.inference import Inference\n",
    "#from GPErks.train.early_stop import NoEarlyStoppingCriterion\n",
    "#from GPErks.train.early_stop import (\n",
    "#    GLEarlyStoppingCriterion,\n",
    "#    PQEarlyStoppingCriterion,\n",
    "#    UPEarlyStoppingCriterion,\n",
    "#)\n",
    "#from GPErks.train.early_stop import PkEarlyStoppingCriterion\n",
    "\n",
    "\n",
    "\n",
    "%matplotlib inline\n",
    "%load_ext autoreload\n",
    "%autoreload 2\n",
    "\n",
    "# set logger and enforce reproducibility\n",
    "#from GPErks.log.logger import get_logger\n",
    "#from GPErks.utils.random import set_seed\n",
    "#log = get_logger()\n",
    "seed = 7\n",
    "#set_seed(seed)\n",
    "from time import process_time \n",
    "import scipy\n",
    "from scipy.optimize import minimize"
   ]
  },
  {
   "cell_type": "markdown",
   "id": "7771a724",
   "metadata": {},
   "source": [
    "$y=f(x)+\\epsilon$\n",
    "\n",
    "$f(x)\\sim GP(\\mu, k)$\n",
    "\n",
    "For some $y^*$ want to find $x^*$. Let $q(x)$ be a candidate distribution for $x^*$, in this case assume $q(x)\\sim N(m,\\Sigma)$.\n",
    "\n",
    "Want to maximise the evidence lower bound (ELBO) with respect to $q$. \n",
    "\n",
    "To calibrate three model parameters we need to optimise over $m$ and and the 6 unique elements $\\Sigma$ (9 parameters total).\n",
    "\n",
    "$ELBO = \\mathbb{E}_q[log(p(y,x))]-\\mathbb{E}_q[log(q(x))] = \\mathbb{E}_q[log(p(y|x)p(x)]-\\mathbb{E}_q[log(q(x)]$\n",
    "\n",
    "$= \\int q(x)log(p(x)\\Pi p(y_i|x))dx -\\mathbb{E}_q[log(q(x))]dx$\n",
    "\n",
    "$\\approx \\frac{1}{n}\\sum log(p(x_j)\\Pi p(y_i|x_j)) -\\mathbb{E}_q[log(q(x))]$, $x_i$ sampled from $q$.\n",
    "\n",
    "$\\mathbb{E}_q[log(q(x))] = -\\frac{3}{2}(1+log(2\\pi)) -\\frac{1}{2}log(det(\\Sigma))$"
   ]
  },
  {
   "cell_type": "markdown",
   "id": "72915fe0",
   "metadata": {},
   "source": [
    "Log likelihood\n",
    "$y=f(x)+\\epsilon$\n",
    "\n",
    "$f|x \\sim N(\\mu(x), k(x,x))$\n",
    "\n",
    "$y|x \\sim N(\\mu(x),\\sigma^2 + k(x,x))$\n",
    "\n",
    "$log p(y|x) \\propto -\\frac{1}{2}log(\\sigma^2 + k(x,x))-\\frac{1}{2(\\sigma^2 + k(x,x))}(y-\\mu(x))^2$ "
   ]
  },
  {
   "cell_type": "markdown",
   "id": "f52d7ae5",
   "metadata": {},
   "source": [
    "So what we want is:\n",
    "\n",
    "$log p(y|x) \\propto -\\frac{1}{2}log(\\sigma^2 + k(x,x))-\\frac{1}{2(\\sigma^2 + k(x,x))}(y-\\mu(x))^2$ \n",
    "\n",
    "and what I'm currently using is\n",
    "\n",
    "$log p(f|x) \\propto -\\frac{1}{2}log(k(x,x))-\\frac{1}{2(k(x,x))}(y-\\mu(x))^2$"
   ]
  },
  {
   "cell_type": "markdown",
   "id": "5629cda5",
   "metadata": {},
   "source": [
    "# $y=-a(x-b)^2+c$"
   ]
  },
  {
   "cell_type": "code",
   "execution_count": 2,
   "id": "875473b1",
   "metadata": {},
   "outputs": [],
   "source": [
    "dtype = torch.float32\n",
    "device = torch.device(\"cpu\")"
   ]
  },
  {
   "cell_type": "code",
   "execution_count": 3,
   "id": "dcb67773",
   "metadata": {},
   "outputs": [],
   "source": [
    "def ELBO(m,s2,x,emulator,y,prior_mean,prior_cov,obs_error):\n",
    "    \n",
    "    L=torch.zeros((x.shape[0],x.shape[0]))\n",
    "    L=L.diagonal_scatter(s2)\n",
    "    \n",
    "    #L[1,0]=param[6]\n",
    "   # L[2,0]=param[7]\n",
    "   # L[2,1] =param[8]\n",
    "    covar = L.matmul(L.T)\n",
    "    z=L.matmul(x)+m\n",
    "    \n",
    "    z=z.T \n",
    "    \n",
    "    mc_int = (emulator.ensemble_log_likelihood_obs_error(z,y,obs_error)+x_prior(z,prior_mean,prior_cov)[:,None]).mean()\n",
    "        #mc_int +=-np.log(np.sum(((emulator.predict(z.iloc[[i]]).detach().numpy()-y.values)**2)))+np.log(x_prior(z.iloc[[i]],prior_mean,prior_cov))\n",
    "        #mc_int += (np.sum(np.log(emulator.ensemble_likelihood(z.iloc[[i]],y)))+np.log(x_prior(z.iloc[[i]],prior_mean,prior_cov)))\n",
    "    \n",
    "    lb = mc_int - q_prior(covar)\n",
    "    \n",
    "    #print(mc_int/x.shape[1])\n",
    "    #print(-q_prior(covar))\n",
    "    #print(np.mean(z,axis=0))\n",
    "    #print(-lb)\n",
    "    return -lb\n",
    "    \n",
    "\n",
    "def ELBO_fun(m,s2,x,function,y,prior_mean,prior_cov,obs_error):\n",
    "    \n",
    "    L=torch.zeros((x.shape[0],x.shape[0]))\n",
    "    L=L.diagonal_scatter(s2)\n",
    "    \n",
    "    #L[1,0]=param[6]\n",
    "   # L[2,0]=param[7]\n",
    "   # L[2,1] =param[8]\n",
    "    covar = L.matmul(L.T)\n",
    "    z=L.matmul(x)+m\n",
    "   \n",
    "    z=z.T \n",
    "    \n",
    "    mc_int = (f_likelihood(z,y,function,obs_error)+x_prior(z,prior_mean,prior_cov)[:,None]).mean()\n",
    "        #mc_int +=-np.log(np.sum(((emulator.predict(z.iloc[[i]]).detach().numpy()-y.values)**2)))+np.log(x_prior(z.iloc[[i]],prior_mean,prior_cov))\n",
    "        #mc_int += (np.sum(np.log(emulator.ensemble_likelihood(z.iloc[[i]],y)))+np.log(x_prior(z.iloc[[i]],prior_mean,prior_cov)))\n",
    "    \n",
    "    lb = mc_int - q_prior(covar)\n",
    "    \n",
    "    #print(mc_int/x.shape[1])\n",
    "    #print(-q_prior(covar))\n",
    "    #print(np.mean(z,axis=0))\n",
    "    #print(-lb)\n",
    "    return -lb\n",
    "\n",
    "def x_prior(x,mean,cov):\n",
    "\n",
    "    #var = scipy.stats.multivariate_normal(mean=mean, cov=cov)\n",
    "    #val1 = var.pdf(x)\n",
    "    dist = MultivariateNormal(loc=mean, covariance_matrix=cov)\n",
    "    val = dist.log_prob(x)\n",
    "    return val\n",
    "\n",
    "def q_prior(covar):\n",
    "    qp = -(covar.shape[0]/2)*(1+torch.log(torch.tensor(2*torch.pi)))-0.5*torch.log(torch.linalg.det(covar))\n",
    "    return qp\n",
    "\n",
    "def f_likelihood(x,y,f,sigma2):\n",
    "    #x,f=emulator.normalise_test_data(x,f(x))\n",
    "    #x,y=emulator.normalise_test_data(x,y)\n",
    "    \n",
    "    likelihood_manual=-0.5*((f(x) - y)**2)/(sigma2)- 0.5*torch.log(torch.tensor(2*np.pi))-0.5*torch.log(sigma2)\n",
    "    return likelihood_manual\n",
    "\n",
    "def f_likelihood2(x,y,f,sigma2):\n",
    "    \n",
    "    likelihood_manual=-0.5*((f(x) - y)**2)/(sigma2)- 0.5*np.log(2*np.pi)-0.5*np.log(sigma2)\n",
    "    return likelihood_manual"
   ]
  },
  {
   "cell_type": "code",
   "execution_count": 4,
   "id": "d8cfd6c6",
   "metadata": {},
   "outputs": [],
   "source": [
    "p=5"
   ]
  },
  {
   "cell_type": "code",
   "execution_count": 5,
   "id": "362a8093",
   "metadata": {},
   "outputs": [],
   "source": [
    "rl = -10\n",
    "ru=20"
   ]
  },
  {
   "cell_type": "code",
   "execution_count": 6,
   "id": "acd54602",
   "metadata": {},
   "outputs": [],
   "source": [
    "obs_error = 0.001"
   ]
  },
  {
   "cell_type": "code",
   "execution_count": 7,
   "id": "67e1bf55",
   "metadata": {},
   "outputs": [],
   "source": [
    "x=torch.linspace(rl,ru,p)"
   ]
  },
  {
   "cell_type": "code",
   "execution_count": 8,
   "id": "95905290",
   "metadata": {},
   "outputs": [
    {
     "data": {
      "text/plain": [
       "tensor([-10.0000,  -2.5000,   5.0000,  12.5000,  20.0000])"
      ]
     },
     "execution_count": 8,
     "metadata": {},
     "output_type": "execute_result"
    }
   ],
   "source": [
    "x"
   ]
  },
  {
   "cell_type": "code",
   "execution_count": 9,
   "id": "d789bf48",
   "metadata": {},
   "outputs": [],
   "source": [
    "a=0.05\n",
    "b=5\n",
    "c=1"
   ]
  },
  {
   "cell_type": "code",
   "execution_count": 10,
   "id": "8c103006",
   "metadata": {},
   "outputs": [],
   "source": [
    "def quad(x):\n",
    "    y = - a*(x-c)**2 +b\n",
    "    return y"
   ]
  },
  {
   "cell_type": "code",
   "execution_count": 11,
   "id": "e75af914",
   "metadata": {},
   "outputs": [],
   "source": [
    "y = quad(x) #+ torch.random.normal(0,obs_error,p)"
   ]
  },
  {
   "cell_type": "code",
   "execution_count": null,
   "id": "c3261018",
   "metadata": {},
   "outputs": [],
   "source": []
  },
  {
   "cell_type": "code",
   "execution_count": 12,
   "id": "550f8de0",
   "metadata": {},
   "outputs": [
    {
     "data": {
      "text/plain": [
       "[<matplotlib.lines.Line2D at 0x2aca0c990>]"
      ]
     },
     "execution_count": 12,
     "metadata": {},
     "output_type": "execute_result"
    },
    {
     "data": {
      "image/png": "[encoded data removed]",
      "text/plain": [
       "<Figure size 640x480 with 1 Axes>"
      ]
     },
     "metadata": {},
     "output_type": "display_data"
    }
   ],
   "source": [
    "plt.plot(x,y,'o')"
   ]
  },
  {
   "cell_type": "code",
   "execution_count": 13,
   "id": "a4c4bbb2",
   "metadata": {},
   "outputs": [
    {
     "name": "stdout",
     "output_type": "stream",
     "text": [
      "0\n"
     ]
    }
   ],
   "source": [
    "emulator = GPE.ensemble(x[:,None],y[:,None],mean_func=\"constant\",training_iter=500)"
   ]
  },
  {
   "cell_type": "code",
   "execution_count": 14,
   "id": "6bc531f0",
   "metadata": {},
   "outputs": [],
   "source": [
    "tp = 500\n",
    "dx = (ru-rl)/tp\n",
    "x_test = torch.linspace(rl,ru,tp)\n"
   ]
  },
  {
   "cell_type": "code",
   "execution_count": 15,
   "id": "3cfc841a",
   "metadata": {},
   "outputs": [
    {
     "data": {
      "text/plain": [
       "<matplotlib.lines.Line2D at 0x2ae589810>"
      ]
     },
     "execution_count": 15,
     "metadata": {},
     "output_type": "execute_result"
    },
    {
     "data": {
      "image/png": "[encoded data removed]",
      "text/plain": [
       "<Figure size 640x480 with 1 Axes>"
      ]
     },
     "metadata": {},
     "output_type": "display_data"
    }
   ],
   "source": [
    "plt.plot(x_test,emulator.predict(x_test).detach().numpy())\n",
    "plt.axhline(y=3, color='r', linestyle='-')"
   ]
  },
  {
   "cell_type": "code",
   "execution_count": 16,
   "id": "752d5294",
   "metadata": {},
   "outputs": [
    {
     "data": {
      "text/plain": [
       "tensor([7.0842])"
      ]
     },
     "execution_count": 16,
     "metadata": {},
     "output_type": "execute_result"
    }
   ],
   "source": [
    "emulator.training_output_STD"
   ]
  },
  {
   "cell_type": "code",
   "execution_count": 17,
   "id": "2d1d444d",
   "metadata": {},
   "outputs": [],
   "source": [
    "prior_mean=torch.tensor([0])\n",
    "prior_cov = torch.tensor([10])*torch.eye(1)\n",
    "obs_error = torch.tensor([0.1])\n",
    "y_cal = torch.tensor([3])"
   ]
  },
  {
   "cell_type": "code",
   "execution_count": 18,
   "id": "654d9285",
   "metadata": {
    "scrolled": true
   },
   "outputs": [
    {
     "name": "stdout",
     "output_type": "stream",
     "text": [
      "99 7.693665504455566 m= 0.7134073972702026 s2= 13.183610916137695\n",
      "199 7.376188278198242 m= 0.482922226190567 s2= 13.091748237609863\n",
      "299 7.810722351074219 m= 0.24190349876880646 s2= 13.037494659423828\n",
      "399 7.5121049880981445 m= -0.02666988968849182 s2= 12.492040634155273\n",
      "499 7.351177215576172 m= -0.32113975286483765 s2= 11.870160102844238\n",
      "599 6.531836032867432 m= -0.7285391688346863 s2= 10.741351127624512\n",
      "699 5.985968112945557 m= -1.4406483173370361 s2= 8.52529239654541\n",
      "799 2.3272690773010254 m= -3.0149784088134766 s2= 3.3463077545166016\n",
      "899 -2.374116897583008 m= -4.66789436340332 s2= 0.381348580121994\n",
      "999 -2.5116381645202637 m= -4.868817329406738 s2= 0.29338568449020386\n",
      "Result: p(x|y) = N(-4.869075775146484, 0.29290637373924255) \n"
     ]
    }
   ],
   "source": [
    "### initialize the variational parameters\n",
    "m = torch.full((), 1.,dtype=dtype, requires_grad=True, device=device)\n",
    "s2 = torch.full((1,),3.,dtype=dtype, requires_grad=True, device=device)\n",
    "\n",
    "\n",
    "# Samples fixed here - but try adding them into the loop\n",
    "nsamples = 1000\n",
    "#Z = torch.randn((nsamples), dtype=dtype, requires_grad=False, device=device)\n",
    "\n",
    "learning_rate = 1e-2\n",
    "for t in range(1000):\n",
    "    Z = torch.randn((nsamples), dtype=dtype, requires_grad=False, device=device)\n",
    "    Z=Z[None,:]\n",
    "    #negELBO = -Eloglike(m,log_s2)+KL(log_s2)\n",
    "    \n",
    "    negELBO = ELBO(m,s2,Z,emulator,y_cal[:,None],prior_mean,prior_cov,obs_error)\n",
    "    \n",
    "    if t % 100 == 99:\n",
    "        print(t, negELBO.item(), 'm=', m.item(), 's2=', s2.pow(2).item())\n",
    "    \n",
    "    # Use autograd to compute the backward pass. This call will compute the\n",
    "    # gradient of loss with respect to all Tensors with requires_grad=True.\n",
    "    # After this call a.grad, b.grad. c.grad and d.grad will be Tensors holding\n",
    "    # the gradient of the loss with respect to a, b, c, d respectively.\n",
    "    negELBO.backward()\n",
    "\n",
    "    # Manually update weights using gradient descent. Wrap in torch.no_grad()\n",
    "    # because weights have requires_grad=True, but we don't need to track this\n",
    "    # in autograd.\n",
    "    with torch.no_grad():\n",
    "        m -= learning_rate * m.grad\n",
    "        s2 -= learning_rate * s2.grad\n",
    "        \n",
    "        # Manually zero the gradients after updating weights\n",
    "        m.grad = None\n",
    "        s2.grad = None\n",
    "        \n",
    "print(f'Result: p(x|y) = N({m.item()}, {torch.pow(s2,2).item()}) ')"
   ]
  },
  {
   "cell_type": "code",
   "execution_count": 19,
   "id": "d5ff26f4",
   "metadata": {},
   "outputs": [
    {
     "name": "stdout",
     "output_type": "stream",
     "text": [
      "99 11.775816917419434 m= -1.9376845359802246 s2= 6.152629375457764\n",
      "199 5.00582218170166 m= -4.055490970611572 s2= 1.350148320198059\n",
      "299 2.9366159439086914 m= -5.071960926055908 s2= 0.2806800901889801\n",
      "399 2.987452507019043 m= -5.1255059242248535 s2= 0.2597982883453369\n",
      "499 3.0071024894714355 m= -5.1305437088012695 s2= 0.2647189199924469\n",
      "599 2.976308822631836 m= -5.124831199645996 s2= 0.2633225917816162\n",
      "699 2.9704389572143555 m= -5.12282657623291 s2= 0.2621827721595764\n",
      "799 2.9364147186279297 m= -5.128586292266846 s2= 0.2611948847770691\n",
      "899 2.96297287940979 m= -5.128802299499512 s2= 0.26908934116363525\n",
      "999 2.927567720413208 m= -5.125458240509033 s2= 0.2654160261154175\n",
      "Result: p(x|y) = N(-5.124967098236084, 0.2669214606285095) \n"
     ]
    }
   ],
   "source": [
    "### initialize the variational parameters\n",
    "m_fun = torch.full((), 0.,dtype=dtype, requires_grad=True, device=device)\n",
    "s2_fun = torch.full((1,),1,dtype=dtype, requires_grad=True, device=device)\n",
    "\n",
    "\n",
    "# Samples fixed here - but try adding them into the loop\n",
    "nsamples = 1000\n",
    "#Z = torch.randn((nsamples), dtype=dtype, requires_grad=False, device=device)\n",
    "\n",
    "learning_rate = 1e-2\n",
    "for t in range(1000):\n",
    "    Z = torch.randn((nsamples), dtype=dtype, requires_grad=False, device=device)\n",
    "    Z=Z[None,:]\n",
    "    #negELBO = -Eloglike(m,log_s2)+KL(log_s2)\n",
    "    \n",
    "    negELBO = ELBO_fun(m_fun,s2_fun,Z,quad,y_cal[:,None],prior_mean,prior_cov,obs_error)\n",
    "    \n",
    "    if t % 100 == 99:\n",
    "        print(t, negELBO.item(), 'm=', m_fun.item(), 's2=', s2_fun.pow(2).item())\n",
    "    \n",
    "    # Use autograd to compute the backward pass. This call will compute the\n",
    "    # gradient of loss with respect to all Tensors with requires_grad=True.\n",
    "    # After this call a.grad, b.grad. c.grad and d.grad will be Tensors holding\n",
    "    # the gradient of the loss with respect to a, b, c, d respectively.\n",
    "    negELBO.backward()\n",
    "\n",
    "    # Manually update weights using gradient descent. Wrap in torch.no_grad()\n",
    "    # because weights have requires_grad=True, but we don't need to track this\n",
    "    # in autograd.\n",
    "    with torch.no_grad():\n",
    "        m_fun -= learning_rate * m_fun.grad\n",
    "        s2_fun -= learning_rate * s2_fun.grad\n",
    "        #print(m_fun.grad)\n",
    "        #print(s2_fun.grad)\n",
    "        # Manually zero the gradients after updating weights\n",
    "        m_fun.grad = None\n",
    "        s2_fun.grad = None\n",
    "        \n",
    "print(f'Result: p(x|y) = N({m_fun.item()}, {torch.pow(s2_fun,2).item()}) ')"
   ]
  },
  {
   "cell_type": "code",
   "execution_count": 20,
   "id": "600f0cbf",
   "metadata": {},
   "outputs": [],
   "source": [
    "x_n,x_n1 = emulator.normalise_test_data(x_test,x_test)\n",
    "c_n = emulator.likelihoods[0](emulator.models[0](x_n)).covariance_matrix"
   ]
  },
  {
   "cell_type": "code",
   "execution_count": 21,
   "id": "d2c1661c",
   "metadata": {
    "scrolled": false
   },
   "outputs": [
    {
     "data": {
      "text/plain": [
       "<matplotlib.contour.QuadContourSet at 0x2b1970d90>"
      ]
     },
     "execution_count": 21,
     "metadata": {},
     "output_type": "execute_result"
    },
    {
     "data": {
      "image/png": "[encoded data removed]",
      "text/plain": [
       "<Figure size 640x480 with 1 Axes>"
      ]
     },
     "metadata": {},
     "output_type": "display_data"
    }
   ],
   "source": [
    "plt.contourf(x_test,x_test,c_n.detach().numpy())"
   ]
  },
  {
   "cell_type": "code",
   "execution_count": 22,
   "id": "02393455",
   "metadata": {},
   "outputs": [
    {
     "data": {
      "text/plain": [
       "[<matplotlib.lines.Line2D at 0x2ae6d1990>]"
      ]
     },
     "execution_count": 22,
     "metadata": {},
     "output_type": "execute_result"
    },
    {
     "data": {
      "image/png": "[encoded data removed]",
      "text/plain": [
       "<Figure size 640x480 with 1 Axes>"
      ]
     },
     "metadata": {},
     "output_type": "display_data"
    }
   ],
   "source": [
    "like=(-0.5*((emulator.predict(x_test)-y_cal)**2)/(obs_error+c_n.diag()[:,None])-0.5*torch.log(obs_error+c_n.diag()[:,None])-- 0.5*torch.log(torch.tensor(2*np.pi))).detach().numpy()\n",
    "plt.plot(x_test,like)"
   ]
  },
  {
   "cell_type": "code",
   "execution_count": 23,
   "id": "dcbfa3bb",
   "metadata": {
    "scrolled": false
   },
   "outputs": [
    {
     "data": {
      "text/plain": [
       "[<matplotlib.lines.Line2D at 0x2b1bc5e10>]"
      ]
     },
     "execution_count": 23,
     "metadata": {},
     "output_type": "execute_result"
    },
    {
     "data": {
      "image/png": "[encoded data removed]",
      "text/plain": [
       "<Figure size 640x480 with 1 Axes>"
      ]
     },
     "metadata": {},
     "output_type": "display_data"
    }
   ],
   "source": [
    "like = -0.5*(quad(x_test)-y_cal)**2/obs_error-0.5*np.log(obs_error)- 0.5*torch.log(torch.tensor(2*np.pi))\n",
    "plt.plot(x_test,like)"
   ]
  },
  {
   "cell_type": "code",
   "execution_count": 24,
   "id": "4f314377",
   "metadata": {
    "scrolled": false
   },
   "outputs": [
    {
     "name": "stderr",
     "output_type": "stream",
     "text": [
      "/var/folders/_j/ptyc01811q5b1dg30hshtfzh0000gr/T/ipykernel_82642/3715141962.py:1: UserWarning: The use of `x.T` on tensors of dimension other than 2 to reverse their shape is deprecated and it will throw an error in a future release. Consider `x.mT` to transpose batches of matrices or `x.permute(*torch.arange(x.ndim - 1, -1, -1))` to reverse the dimensions of a tensor. (Triggered internally at /Users/runner/work/pytorch/pytorch/pytorch/aten/src/ATen/native/TensorShape.cpp:3618.)\n",
      "  plt.plot(f_likelihood(x_test,y_cal,quad,obs_error).T)\n"
     ]
    },
    {
     "data": {
      "text/plain": [
       "[<matplotlib.lines.Line2D at 0x2b1c30890>]"
      ]
     },
     "execution_count": 24,
     "metadata": {},
     "output_type": "execute_result"
    },
    {
     "data": {
      "image/png": "[encoded data removed]",
      "text/plain": [
       "<Figure size 640x480 with 1 Axes>"
      ]
     },
     "metadata": {},
     "output_type": "display_data"
    }
   ],
   "source": [
    "plt.plot(f_likelihood(x_test,y_cal,quad,obs_error).T)"
   ]
  },
  {
   "cell_type": "code",
   "execution_count": 25,
   "id": "50d1fad5",
   "metadata": {},
   "outputs": [
    {
     "data": {
      "text/plain": [
       "tensor(-149.6062)"
      ]
     },
     "execution_count": 25,
     "metadata": {},
     "output_type": "execute_result"
    }
   ],
   "source": [
    "f_likelihood(x_test,y_cal,quad,obs_error).T.mean()"
   ]
  },
  {
   "cell_type": "code",
   "execution_count": 26,
   "id": "64f4e221",
   "metadata": {},
   "outputs": [
    {
     "data": {
      "text/plain": [
       "(tensor([-0.3289]), tensor([0.3423]))"
      ]
     },
     "execution_count": 26,
     "metadata": {},
     "output_type": "execute_result"
    }
   ],
   "source": [
    "emulator.normalise_test_data(torch.tensor([1.1]),torch.tensor([1]))"
   ]
  },
  {
   "cell_type": "code",
   "execution_count": 27,
   "id": "29c7cc1e",
   "metadata": {},
   "outputs": [
    {
     "data": {
      "text/plain": [
       "(tensor([-0.5060]), tensor([0.2012]))"
      ]
     },
     "execution_count": 27,
     "metadata": {},
     "output_type": "execute_result"
    }
   ],
   "source": [
    "emulator.normalise_test_data(torch.tensor([-1]),torch.tensor([0]))"
   ]
  },
  {
   "cell_type": "code",
   "execution_count": 28,
   "id": "7631e7ac",
   "metadata": {},
   "outputs": [
    {
     "data": {
      "text/plain": [
       "tensor(-74803.0781)"
      ]
     },
     "execution_count": 28,
     "metadata": {},
     "output_type": "execute_result"
    }
   ],
   "source": [
    "torch.sum(f_likelihood(x_test,y_cal,quad,obs_error))"
   ]
  },
  {
   "cell_type": "code",
   "execution_count": 29,
   "id": "04bb391c",
   "metadata": {},
   "outputs": [
    {
     "data": {
      "text/plain": [
       "tensor(-67916.0156, grad_fn=<SumBackward0>)"
      ]
     },
     "execution_count": 29,
     "metadata": {},
     "output_type": "execute_result"
    }
   ],
   "source": [
    "torch.sum(emulator.ensemble_log_likelihood_obs_error(x_test,y_cal[:,None],obs_error))"
   ]
  },
  {
   "cell_type": "code",
   "execution_count": 30,
   "id": "ca3ada11",
   "metadata": {},
   "outputs": [
    {
     "data": {
      "text/plain": [
       "tensor([1.1843e-03, 1.2282e-03, 1.1843e-03, 1.2721e-03, 1.1672e-03, 1.1061e-03,\n",
       "        1.1881e-03, 1.1805e-03, 1.1748e-03, 1.1118e-03, 1.2415e-03, 1.0909e-03,\n",
       "        1.1977e-03, 1.0928e-03, 1.2091e-03, 1.1653e-03, 5.2432e-03, 1.1519e-03,\n",
       "        1.1099e-03, 1.6226e-02, 1.1729e-03, 1.2320e-03, 1.1881e-03, 1.5124e-03,\n",
       "        2.4966e-03, 1.1347e-03, 1.1214e-03, 1.0985e-03, 1.1023e-03, 8.4418e-03,\n",
       "        1.0890e-03, 1.3007e-03, 1.3484e-03, 1.1099e-03, 2.7593e-02, 1.2148e-03,\n",
       "        1.2396e-03, 1.2339e-03, 1.1195e-03, 1.2396e-03, 1.1920e-03, 1.2301e-03,\n",
       "        1.5200e-03, 1.2339e-03, 2.0731e-03, 1.2339e-03, 1.2320e-03, 1.1996e-03,\n",
       "        8.3826e-01, 1.4839e-02, 1.5217e-02, 1.2187e-03, 1.1920e-03, 1.1252e-03,\n",
       "        1.1977e-03, 1.2339e-03, 1.1862e-03, 1.1309e-03, 1.0890e-03, 1.0909e-03,\n",
       "        8.5238e-03, 1.0909e-03, 1.1023e-03, 1.1042e-03, 1.1805e-03, 1.1843e-03,\n",
       "        1.2187e-03, 5.5998e-02, 1.0890e-03, 6.4086e-03, 1.1958e-03, 1.2377e-03,\n",
       "        1.2148e-03, 1.1614e-03, 4.0415e-03, 1.2034e-03, 1.2167e-03, 1.1614e-03,\n",
       "        1.1614e-03, 1.1710e-03, 1.2377e-03, 1.0870e-03, 8.9549e-03, 1.1538e-03,\n",
       "        1.1118e-03, 1.1862e-03, 1.1004e-03, 1.1900e-03, 1.2263e-03, 1.2072e-03,\n",
       "        1.2339e-03, 1.4876e-03, 1.2110e-03, 1.0947e-03, 1.1576e-03, 1.1061e-03,\n",
       "        1.1500e-03, 1.1138e-03, 1.1881e-03, 1.0890e-03, 1.1042e-03, 1.1767e-03,\n",
       "        1.1691e-03, 1.0870e-03, 1.2167e-03, 1.2072e-03, 2.2352e+00, 1.2129e-03,\n",
       "        1.1042e-03, 1.2301e-03, 1.1176e-03, 1.1366e-03, 1.0909e-03, 1.2949e-03,\n",
       "        1.1653e-03, 1.1843e-03, 1.0870e-03, 1.1748e-03, 1.1805e-03, 1.1023e-03,\n",
       "        1.0909e-03, 1.1939e-03, 1.1061e-03, 8.2329e-02, 1.1862e-03, 1.1233e-03,\n",
       "        1.1385e-03, 1.2320e-03, 2.9429e-03, 1.1309e-03, 1.1595e-03, 1.1233e-03,\n",
       "        1.1328e-03, 1.1595e-03, 1.2320e-03, 1.0890e-03, 2.3840e-03, 1.1748e-03,\n",
       "        1.1614e-03, 1.2358e-03, 1.2320e-03, 1.1977e-03, 3.6753e-03, 1.0890e-03,\n",
       "        1.1023e-03, 1.0890e-03, 1.0909e-03, 1.1576e-03, 1.2396e-03, 1.6001e-03,\n",
       "        1.1595e-03, 1.2187e-03, 1.2148e-03, 1.1824e-03, 1.2597e-01, 1.1099e-03,\n",
       "        1.1614e-03, 1.2034e-03, 1.0966e-03, 1.0909e-03, 1.2358e-03, 1.1576e-03,\n",
       "        1.0909e-03, 1.2167e-03, 1.0870e-03, 1.0890e-03, 1.1405e-03, 1.1805e-03,\n",
       "        2.3538e-01, 1.1595e-03, 1.2396e-03, 4.0054e-02, 4.9532e-03, 1.2301e-03,\n",
       "        1.1633e-03, 1.0947e-03, 1.1118e-03, 1.2129e-03, 1.1729e-03, 1.1633e-03,\n",
       "        1.1633e-03, 1.1538e-03, 1.1633e-03, 1.2396e-03, 2.2830e-03, 1.8099e-01,\n",
       "        1.0890e-03, 1.2396e-03, 3.8755e-02, 2.4750e-02, 1.1824e-03, 7.0284e-03,\n",
       "        7.2157e-02, 1.1710e-03, 1.1614e-03, 1.2282e-03, 1.1004e-03, 6.3759e-02,\n",
       "        1.2282e-03, 1.0851e-03, 1.1271e-03, 1.2320e-03, 1.1843e-03, 1.9153e-02,\n",
       "        1.1920e-03, 3.8031e-03, 1.2053e-03, 1.2358e-03, 1.0890e-03, 1.1004e-03,\n",
       "        1.2377e-03, 1.0947e-03, 1.1595e-03, 1.3693e-03, 2.0045e-03, 1.0947e-03,\n",
       "        6.9197e-03, 3.3511e-03, 1.2911e-03, 1.5811e-03, 4.0270e-02, 4.3162e-03,\n",
       "        1.2015e-03, 1.1633e-03, 1.1004e-03, 1.1939e-03, 1.2206e-03, 1.1309e-03,\n",
       "        1.2396e-03, 1.2015e-03, 1.2358e-03, 1.2129e-03, 1.1642e-02, 1.2015e-03,\n",
       "        1.0947e-03, 1.0890e-03, 2.8399e-03, 1.1633e-03, 1.1118e-03, 1.2167e-03,\n",
       "        2.7597e-02, 1.1157e-03, 3.8467e-02, 1.1710e-03, 1.5970e-02, 1.1633e-03,\n",
       "        1.1862e-03, 1.2301e-03, 1.1061e-03, 1.1881e-03, 1.2187e-03, 1.2129e-03,\n",
       "        6.6927e-03, 1.1176e-03, 1.1958e-03, 1.0966e-03, 1.1729e-03, 1.1843e-03,\n",
       "        1.1729e-03, 1.8576e-03, 8.3884e-03, 1.1424e-03, 1.2244e-03, 1.0909e-03,\n",
       "        1.1385e-03, 1.1366e-03, 1.0890e-03, 1.2091e-03, 1.2415e-03, 1.2110e-03,\n",
       "        1.1996e-03, 1.1614e-03, 1.1138e-03, 1.2358e-03, 6.6032e-02, 1.2377e-03,\n",
       "        1.1786e-03, 1.1653e-03, 1.2072e-03, 2.8075e-03, 1.1595e-03, 1.1653e-03,\n",
       "        1.1004e-03, 1.1837e-02, 3.4846e-03, 1.6860e-03, 1.1691e-03, 1.0890e-03,\n",
       "        1.1920e-03, 1.1900e-03, 2.0579e-03, 1.1977e-03, 1.2396e-03, 1.2282e-03,\n",
       "        1.1977e-03, 1.1843e-03, 1.1195e-03, 1.0645e-02, 1.0947e-03, 1.0909e-03,\n",
       "        1.1786e-03, 1.0966e-03, 1.3484e-03, 1.2301e-03, 1.6472e-02, 1.0851e-03,\n",
       "        1.1614e-03, 1.0870e-03, 1.1595e-03, 1.1633e-03, 1.5238e-03, 1.2882e-02,\n",
       "        1.1233e-03, 1.0909e-03, 1.0985e-03, 1.2339e-03, 1.1881e-03, 1.1767e-03,\n",
       "        1.1595e-03, 1.1061e-03, 1.2415e-03, 1.1347e-03, 1.1824e-03, 1.1843e-03,\n",
       "        1.2206e-03, 1.2263e-03, 1.1653e-03, 1.1653e-03, 1.2377e-03, 1.3674e-03,\n",
       "        1.2396e-03, 1.1347e-03, 1.2358e-03, 1.1309e-03, 1.2187e-03, 1.9587e-03,\n",
       "        1.2358e-03, 1.3579e-03, 1.1443e-03, 1.0811e-02, 1.2167e-03, 1.1099e-03,\n",
       "        3.0646e-01, 1.4015e-01, 5.8958e-01, 1.8042e-03, 1.1748e-03, 1.2377e-03,\n",
       "        2.3020e-03, 1.1939e-03, 1.2377e-03, 1.0870e-03, 1.2377e-03, 1.2244e-03,\n",
       "        1.1080e-03, 1.1366e-03, 1.1939e-03, 1.1347e-03, 1.2339e-03, 1.1138e-03,\n",
       "        1.0909e-03, 1.1557e-03, 1.2301e-03, 1.2339e-03, 1.2167e-03, 1.1042e-03,\n",
       "        1.3102e-03, 1.1405e-03, 1.2339e-03, 1.2187e-03, 1.0890e-03, 1.0966e-03,\n",
       "        1.2034e-03, 4.5435e-02, 1.4419e-01, 1.0870e-03, 1.2225e-03, 1.1118e-03,\n",
       "        1.1118e-03, 2.4731e-02, 1.1843e-03, 1.5677e-03, 1.0928e-03, 1.2148e-03,\n",
       "        1.0890e-03, 1.0890e-03, 2.1666e-03, 1.1443e-03, 1.2358e-03, 1.2034e-03,\n",
       "        1.2053e-03, 1.2396e-03, 1.2301e-03, 1.1080e-03, 1.2396e-03, 1.1614e-03,\n",
       "        1.2358e-03, 1.1672e-03, 1.2377e-03, 1.2320e-03, 1.1538e-03, 3.7211e-03,\n",
       "        1.2072e-03, 1.5639e-03, 1.2320e-03, 1.0890e-03, 1.2015e-03, 1.9911e-03,\n",
       "        1.1653e-03, 1.1748e-03, 1.1595e-03, 1.1004e-03, 1.2415e-03, 1.0890e-03,\n",
       "        1.0870e-03, 1.1767e-03, 1.6974e-03, 1.0966e-03, 5.4511e-03, 1.1977e-03,\n",
       "        1.2301e-03, 2.5767e-03, 1.1576e-03, 1.2206e-03, 1.0870e-03, 1.1748e-03,\n",
       "        1.1576e-03, 1.2244e-03, 1.2282e-03, 1.2530e-03, 1.2319e-02, 1.2934e-02,\n",
       "        1.1729e-03, 2.0153e-02, 1.1500e-03, 1.1996e-03, 1.1614e-03, 1.1614e-03,\n",
       "        2.0731e-03, 1.0966e-03, 1.4494e-03, 1.0909e-03, 1.1729e-03, 1.1595e-03,\n",
       "        1.1042e-03, 1.3484e-03, 1.7146e-03, 1.1271e-03, 3.7364e-03, 1.0947e-03,\n",
       "        1.0928e-03, 1.2148e-03, 1.1118e-03, 4.7949e-03, 1.5029e-03, 1.1080e-03,\n",
       "        1.2301e-03, 1.1595e-03, 1.1042e-03, 1.1920e-03, 1.2320e-03, 1.2358e-03,\n",
       "        1.2358e-03, 1.3674e-03, 1.1385e-03, 1.2301e-03, 1.2206e-03, 1.2015e-03,\n",
       "        1.2282e-03, 1.0870e-03, 4.9170e-03, 1.0769e-02, 1.1920e-03, 3.5857e-03,\n",
       "        1.1271e-03, 1.1614e-03, 1.1519e-03, 1.2225e-03, 1.1118e-03, 1.0985e-03,\n",
       "        1.1366e-03, 1.1862e-03, 1.1061e-03, 1.0870e-03, 1.2396e-03, 1.1366e-03,\n",
       "        1.0966e-03, 1.1881e-03, 9.4847e-02, 1.2377e-03, 1.1004e-03, 1.2015e-03,\n",
       "        1.2148e-03, 1.2244e-03, 1.2377e-03, 2.0355e-02, 1.1004e-03, 1.0890e-03,\n",
       "        1.1633e-03, 5.9985e-03, 1.1271e-03, 1.2053e-03, 7.7587e-02, 1.0890e-03,\n",
       "        1.1138e-03, 1.1653e-03, 1.1748e-03, 1.1114e-02, 1.1862e-03, 1.1729e-03,\n",
       "        1.1614e-03, 1.1385e-03, 8.8271e-03, 1.2320e-03, 1.1786e-03, 1.1538e-03,\n",
       "        1.1805e-03, 1.2337e-01, 1.1023e-03, 1.2339e-03, 1.2415e-03, 1.6001e-03,\n",
       "        1.2396e-03, 1.1385e-03, 1.2358e-03, 1.2167e-03, 1.1500e-03, 1.1042e-03,\n",
       "        1.1939e-03, 1.1405e-03, 1.2339e-03, 1.1385e-03, 1.1271e-03, 1.2053e-03,\n",
       "        1.1481e-03, 1.2396e-03, 1.1786e-03, 4.0339e-03, 1.0966e-03, 1.2396e-03,\n",
       "        1.8274e-02, 1.5601e-03, 4.1757e-02, 1.2225e-03, 2.5176e-03, 1.2110e-03,\n",
       "        1.1080e-03, 1.1843e-03, 1.2034e-03, 1.2282e-03, 1.1271e-03, 5.8180e-02,\n",
       "        2.8323e-03, 1.1958e-03, 1.1633e-03, 1.1328e-03, 1.1118e-03, 1.2167e-03,\n",
       "        1.0985e-03, 1.1023e-03, 1.2320e-03, 1.2396e-03, 1.2377e-03, 1.1176e-03,\n",
       "        1.1958e-03, 1.6287e-03, 1.2301e-03, 2.7967e-02, 1.0890e-03, 1.0870e-03,\n",
       "        1.1900e-03, 1.1805e-03, 1.1767e-03, 1.1633e-03, 1.2015e-03, 1.2415e-03,\n",
       "        1.1576e-03, 1.1710e-03, 1.1691e-03, 1.0890e-03, 1.2377e-03, 1.0870e-03,\n",
       "        3.2424e-03, 1.5906e-03, 1.1519e-03, 1.2244e-03, 1.0851e-03, 1.0890e-03,\n",
       "        1.1939e-03, 2.0922e-03, 1.2206e-03, 1.2167e-03, 1.1786e-03, 1.2187e-03,\n",
       "        1.2377e-03, 1.0890e-03, 1.2187e-03, 1.1595e-03, 1.2129e-03, 1.1805e-03,\n",
       "        1.2988e-03, 1.0947e-03, 1.1996e-03, 1.2396e-03, 1.1672e-03, 1.0909e-03,\n",
       "        1.1653e-03, 6.6641e-03, 1.0928e-03, 1.2034e-03, 1.2339e-03, 1.0851e-03,\n",
       "        1.1862e-03, 1.0909e-03, 1.1214e-03, 1.2148e-03, 1.2187e-03, 1.1824e-03,\n",
       "        9.1151e-03, 1.1939e-03, 1.1595e-03, 1.1138e-03, 1.0870e-03, 1.1977e-03,\n",
       "        5.1440e-03, 1.2740e-03, 1.1672e-03, 1.1881e-03, 1.1099e-03, 1.1042e-03,\n",
       "        1.1042e-03, 1.1672e-03, 1.2263e-03, 1.1729e-03, 1.9492e-03, 1.2034e-03,\n",
       "        1.1748e-03, 1.1672e-03, 6.0023e-03, 3.2519e-03, 1.2358e-03, 1.1099e-03,\n",
       "        1.1672e-03, 1.1462e-03, 1.1843e-03, 1.1767e-03, 1.1729e-03, 1.2091e-03,\n",
       "        2.0823e-01, 1.1214e-03, 1.2320e-03, 1.2053e-03, 1.2702e-03, 1.1328e-03,\n",
       "        1.1557e-03, 1.2396e-03, 1.2282e-03, 1.2320e-03, 1.0928e-03, 1.2167e-03,\n",
       "        1.1385e-03, 4.3944e-03, 1.1233e-03, 1.1900e-03, 1.1767e-03, 5.0162e-03,\n",
       "        1.2396e-03, 1.1710e-03, 1.2339e-03, 1.2282e-03, 1.2225e-03, 5.4930e-03,\n",
       "        1.1729e-03, 1.1099e-03, 1.1843e-03, 1.2301e-03, 1.2072e-03, 1.0851e-03,\n",
       "        1.2301e-03, 1.0928e-03, 2.3020e-03, 1.1824e-03, 1.1786e-03, 1.0947e-03,\n",
       "        1.2606e-03, 1.1309e-03, 1.2339e-03, 1.0966e-03, 1.1138e-03, 1.1672e-03,\n",
       "        5.2718e-03, 1.1653e-03, 1.2358e-03, 1.1900e-03, 1.2396e-03, 1.1595e-03,\n",
       "        1.0870e-03, 1.2244e-03, 1.2148e-03, 1.1347e-03, 1.2415e-03, 2.2055e-02,\n",
       "        1.1729e-03, 1.1977e-03, 1.1958e-03, 2.5614e-03, 1.1614e-03, 1.1023e-03,\n",
       "        1.2339e-03, 1.1939e-03, 2.2372e-03, 1.2053e-03, 1.1576e-03, 1.2415e-03,\n",
       "        1.1977e-03, 1.1996e-03, 1.1309e-03, 1.1614e-03, 1.1996e-03, 1.2358e-03,\n",
       "        1.1500e-03, 1.1385e-03, 1.3522e-03, 1.0966e-03, 1.2396e-03, 1.2396e-03,\n",
       "        1.1920e-03, 1.1538e-03, 1.1767e-03, 1.1881e-03, 1.6851e-01, 1.1653e-03,\n",
       "        1.1900e-03, 1.1195e-03, 1.2358e-03, 7.1577e-02, 1.1595e-03, 1.1729e-03,\n",
       "        1.0909e-03, 1.1576e-03, 1.1519e-03, 1.0985e-03, 1.2225e-03, 3.6925e-03,\n",
       "        1.1004e-03, 9.8326e-02, 1.5543e-03, 1.2282e-03, 1.0966e-03, 1.1061e-03,\n",
       "        1.1964e-01, 1.1824e-03, 1.0832e-02, 1.2110e-03, 1.1614e-03, 1.2282e-03,\n",
       "        2.0059e+00, 1.0890e-03, 1.9792e-02, 5.0410e-03, 1.4285e-03, 1.0890e-03,\n",
       "        1.0890e-03, 1.3045e-03, 1.8195e-03, 1.1996e-03, 1.1729e-03, 1.2339e-03,\n",
       "        1.2206e-03, 1.1881e-03, 1.2282e-03, 1.1653e-03, 1.2415e-03, 1.1691e-03,\n",
       "        1.0890e-03, 1.1786e-03, 1.1595e-03, 1.0890e-03, 1.9104e-02, 1.1195e-03,\n",
       "        1.1157e-03, 1.1576e-03, 1.1996e-03, 1.1614e-03, 9.4641e-03, 1.0928e-03,\n",
       "        1.2072e-03, 1.1042e-03, 1.1958e-03, 1.1309e-03, 1.1862e-03, 1.8023e-03,\n",
       "        1.2282e-03, 2.9819e-02, 1.2015e-03, 2.3879e-03, 1.2396e-03, 1.2244e-03,\n",
       "        2.6430e-02, 4.2933e-03, 1.2206e-03, 1.0928e-03, 1.2377e-03, 1.0870e-03,\n",
       "        2.7617e-03, 1.9206e-03, 1.2339e-03, 1.2396e-03, 1.2339e-03, 1.0928e-03,\n",
       "        1.1748e-03, 1.0890e-03, 1.0890e-03, 1.2091e-03, 1.1595e-03, 1.1252e-03,\n",
       "        1.1672e-03, 1.1462e-03, 1.1996e-03, 1.1920e-03, 1.0966e-03, 1.0909e-03,\n",
       "        1.6971e-02, 1.1500e-03, 1.1843e-03, 2.5900e-03, 1.2301e-03, 1.1481e-03,\n",
       "        5.4396e-03, 1.2377e-03, 1.2225e-03, 1.0909e-03, 1.1576e-03, 1.4389e-02,\n",
       "        1.0890e-03, 1.2301e-03, 1.2244e-03, 1.2396e-03, 1.1157e-03, 1.1500e-03,\n",
       "        1.1214e-03, 1.2167e-03, 1.0928e-03, 1.0909e-03, 2.7435e-02, 1.2225e-03,\n",
       "        1.2377e-03, 1.2377e-03, 1.2339e-03, 1.1805e-03, 1.1881e-03, 1.1557e-03,\n",
       "        1.0909e-03, 1.1557e-03, 1.2263e-03, 1.1405e-03, 5.0047e-03, 1.1481e-03,\n",
       "        1.0909e-03, 9.8361e-03, 1.1748e-03, 1.2148e-03, 1.1633e-03, 1.3903e-03,\n",
       "        1.2301e-03, 1.2587e-03, 1.1252e-03, 1.0890e-03, 1.1328e-03, 1.1824e-03,\n",
       "        1.1557e-03, 2.0506e-01, 1.1691e-03, 1.2148e-03, 1.2301e-03, 1.1633e-03,\n",
       "        3.6508e-02, 1.2148e-03, 1.1691e-03, 1.2377e-03, 1.1233e-03, 1.0851e-03,\n",
       "        8.5448e-03, 1.1900e-03, 5.1936e-03, 1.1843e-03, 1.2244e-03, 1.0890e-03,\n",
       "        1.2244e-03, 1.1462e-03, 1.2187e-03, 1.1920e-03, 1.1214e-03, 1.0909e-03,\n",
       "        1.2282e-03, 1.2110e-03, 1.0928e-03, 1.1595e-03, 1.0909e-03, 1.1023e-03,\n",
       "        1.2225e-03, 1.3121e-03, 1.4609e-03, 1.1576e-03, 4.6996e-03, 1.0928e-03,\n",
       "        2.2105e-03, 1.1366e-03, 1.1862e-03, 1.2282e-03, 1.2377e-03, 1.2301e-03,\n",
       "        1.1595e-03, 1.1252e-03, 1.2244e-03, 1.0966e-03, 1.2091e-03, 9.0502e-02,\n",
       "        1.2377e-03, 1.1614e-03, 1.1672e-03, 5.6895e-03, 1.1519e-03, 1.1843e-03,\n",
       "        1.1309e-03, 1.2396e-03, 2.0827e-03, 1.1786e-03, 1.1214e-03, 1.1138e-03,\n",
       "        1.1328e-03, 1.4990e-03, 1.1366e-03, 1.2301e-03, 1.2396e-03, 1.2339e-03,\n",
       "        1.1633e-03, 1.1004e-03, 1.0909e-03, 1.1862e-03, 1.2358e-03, 1.2091e-03,\n",
       "        1.2396e-03, 3.5232e-02, 1.1633e-03, 1.2148e-03, 1.2339e-03, 1.1576e-03,\n",
       "        1.0909e-03, 1.1042e-03, 1.2339e-03, 1.3362e-01, 1.2167e-03, 1.1233e-03,\n",
       "        1.8553e-02, 1.1767e-03, 1.8218e-01, 1.1023e-03, 2.9124e-03, 1.1900e-03,\n",
       "        1.1385e-03, 1.1195e-03, 1.1366e-03, 1.0985e-03, 1.1595e-03, 1.1748e-03,\n",
       "        1.1939e-03, 1.1672e-03, 1.1748e-03, 1.1519e-03, 1.1424e-03, 1.0947e-03,\n",
       "        1.1824e-03, 1.1729e-03, 1.9605e-02, 1.2396e-03, 1.3407e-03, 1.1023e-03,\n",
       "        1.2396e-03, 1.1080e-03, 1.2377e-03, 1.0315e-02, 1.1004e-03, 1.0909e-03,\n",
       "        1.2396e-03, 1.1500e-03, 1.1805e-03, 1.1920e-03, 1.1748e-03, 1.1405e-03,\n",
       "        1.1939e-03, 2.1285e-03, 1.2396e-03, 1.1614e-03, 1.0947e-03, 1.1538e-03,\n",
       "        1.2396e-03, 1.2415e-03, 1.0870e-03, 1.2282e-03],\n",
       "       grad_fn=<DiagonalBackward0_copy>)"
      ]
     },
     "execution_count": 30,
     "metadata": {},
     "output_type": "execute_result"
    }
   ],
   "source": [
    "emulator.likelihoods[0](emulator.models[0](Z.T)).covariance_matrix.diag()"
   ]
  },
  {
   "cell_type": "code",
   "execution_count": 31,
   "id": "d3d67cd7",
   "metadata": {},
   "outputs": [],
   "source": [
    "dist = normal.Normal(loc=m_fun, scale=s2_fun)\n",
    "val = torch.exp(dist.log_prob(x_test))"
   ]
  },
  {
   "cell_type": "code",
   "execution_count": 32,
   "id": "3fdab9c5",
   "metadata": {
    "scrolled": true
   },
   "outputs": [],
   "source": [
    "likelihood = torch.exp(emulator.ensemble_log_likelihood_obs_error(x_test,y_cal[:,None],obs_error))"
   ]
  },
  {
   "cell_type": "code",
   "execution_count": 33,
   "id": "bdfdbf9d",
   "metadata": {},
   "outputs": [
    {
     "data": {
      "text/plain": [
       "tensor([0])"
      ]
     },
     "execution_count": 33,
     "metadata": {},
     "output_type": "execute_result"
    }
   ],
   "source": [
    "prior_mean"
   ]
  },
  {
   "cell_type": "code",
   "execution_count": 34,
   "id": "48354294",
   "metadata": {},
   "outputs": [],
   "source": [
    "dist_prior = normal.Normal(loc=prior_mean, scale=torch.sqrt(torch.tensor([5])))\n",
    "val_prior = torch.exp(dist_prior.log_prob(x_test))"
   ]
  },
  {
   "cell_type": "code",
   "execution_count": 35,
   "id": "33a4b193",
   "metadata": {},
   "outputs": [],
   "source": [
    "posterior = likelihood*val_prior / (torch.sum(likelihood*val_prior)*dx)"
   ]
  },
  {
   "cell_type": "code",
   "execution_count": 36,
   "id": "ab556528",
   "metadata": {
    "scrolled": true
   },
   "outputs": [],
   "source": [
    "true_likelihood= (f_likelihood(x_test,y_cal,quad,obs_error))"
   ]
  },
  {
   "cell_type": "code",
   "execution_count": 37,
   "id": "e0a8aa3a",
   "metadata": {
    "scrolled": true
   },
   "outputs": [],
   "source": [
    "true_likelihood=torch.exp(true_likelihood)"
   ]
  },
  {
   "cell_type": "code",
   "execution_count": 38,
   "id": "247fef26",
   "metadata": {},
   "outputs": [],
   "source": [
    "true_posterior = true_likelihood.squeeze()*val_prior / (torch.sum(true_likelihood.squeeze()*val_prior)*0.2)"
   ]
  },
  {
   "cell_type": "code",
   "execution_count": 39,
   "id": "7b34f440",
   "metadata": {},
   "outputs": [],
   "source": [
    "true_likelihood2= np.array(f_likelihood2(x_test,y_cal,quad,obs_error))"
   ]
  },
  {
   "cell_type": "code",
   "execution_count": 40,
   "id": "ea2d878e",
   "metadata": {},
   "outputs": [
    {
     "data": {
      "text/plain": [
       "[<matplotlib.lines.Line2D at 0x2b1a1e790>]"
      ]
     },
     "execution_count": 40,
     "metadata": {},
     "output_type": "execute_result"
    },
    {
     "data": {
      "image/png": "[encoded data removed]",
      "text/plain": [
       "<Figure size 640x480 with 1 Axes>"
      ]
     },
     "metadata": {},
     "output_type": "display_data"
    }
   ],
   "source": [
    "plt.plot(x_test.detach().numpy(),np.exp(true_likelihood2))"
   ]
  },
  {
   "cell_type": "code",
   "execution_count": 41,
   "id": "8f798dd9",
   "metadata": {
    "scrolled": false
   },
   "outputs": [
    {
     "data": {
      "text/plain": [
       "[<matplotlib.lines.Line2D at 0x2b1cecb10>]"
      ]
     },
     "execution_count": 41,
     "metadata": {},
     "output_type": "execute_result"
    },
    {
     "data": {
      "image/png": "[encoded data removed]",
      "text/plain": [
       "<Figure size 640x480 with 1 Axes>"
      ]
     },
     "metadata": {},
     "output_type": "display_data"
    }
   ],
   "source": [
    "plt.plot(x_test.detach().numpy(),true_likelihood.detach().numpy())"
   ]
  },
  {
   "cell_type": "code",
   "execution_count": 42,
   "id": "0eba971f",
   "metadata": {},
   "outputs": [
    {
     "data": {
      "text/plain": [
       "[<matplotlib.lines.Line2D at 0x2b1d6cdd0>]"
      ]
     },
     "execution_count": 42,
     "metadata": {},
     "output_type": "execute_result"
    },
    {
     "data": {
      "image/png": "[encoded data removed]",
      "text/plain": [
       "<Figure size 640x480 with 1 Axes>"
      ]
     },
     "metadata": {},
     "output_type": "display_data"
    }
   ],
   "source": [
    "plt.plot(x_test.detach().numpy(),true_posterior.T.detach().numpy())"
   ]
  },
  {
   "cell_type": "code",
   "execution_count": 43,
   "id": "1cb31f24",
   "metadata": {
    "scrolled": false
   },
   "outputs": [
    {
     "data": {
      "text/plain": [
       "<matplotlib.legend.Legend at 0x2b1cc5f90>"
      ]
     },
     "execution_count": 43,
     "metadata": {},
     "output_type": "execute_result"
    },
    {
     "data": {
      "image/png": "[encoded data removed]",
      "text/plain": [
       "<Figure size 640x480 with 1 Axes>"
      ]
     },
     "metadata": {},
     "output_type": "display_data"
    }
   ],
   "source": [
    "plt.plot(x_test.detach().numpy(),posterior.detach().numpy().T)\n",
    "plt.plot(x_test.detach().numpy(),val.detach().numpy())\n",
    "plt.plot(x_test.detach().numpy(),true_posterior.detach().numpy().T)\n",
    "plt.legend(['posterior_GP','posterior_VI','true_p'])"
   ]
  },
  {
   "cell_type": "code",
   "execution_count": 44,
   "id": "5e4576ac",
   "metadata": {},
   "outputs": [],
   "source": [
    "obs_errors = torch.tensor([1,0.5,0.1,0.05,0.01])\n",
    "posterior_GPE = torch.zeros((x_test.shape[0],obs_errors.shape[0]))\n",
    "posterior_VI = torch.zeros((x_test.shape[0],obs_errors.shape[0]))\n",
    "posterior_VI_fun = torch.zeros((x_test.shape[0],obs_errors.shape[0]))\n",
    "posterior_True = torch.zeros((x_test.shape[0],obs_errors.shape[0]))"
   ]
  },
  {
   "cell_type": "code",
   "execution_count": null,
   "id": "562d85ff",
   "metadata": {},
   "outputs": [],
   "source": []
  },
  {
   "cell_type": "code",
   "execution_count": 45,
   "id": "1307818a",
   "metadata": {},
   "outputs": [
    {
     "name": "stdout",
     "output_type": "stream",
     "text": [
      "99 2.278585195541382 m= -0.05212314426898956 s2= 3.145289182662964\n",
      "199 2.2073745727539062 m= -0.08983256667852402 s2= 3.237150192260742\n",
      "299 2.268650531768799 m= -0.11647338420152664 s2= 3.290325880050659\n",
      "399 2.3051199913024902 m= -0.13664494454860687 s2= 3.3163387775421143\n",
      "499 2.2048583030700684 m= -0.1535469889640808 s2= 3.3357760906219482\n",
      "599 2.248661518096924 m= -0.16843363642692566 s2= 3.3497884273529053\n",
      "699 2.2795441150665283 m= -0.17770284414291382 s2= 3.346345901489258\n",
      "799 2.310851573944092 m= -0.18740026652812958 s2= 3.3441641330718994\n",
      "899 2.2527809143066406 m= -0.19389380514621735 s2= 3.337463617324829\n",
      "999 2.2512569427490234 m= -0.20533493161201477 s2= 3.348036527633667\n",
      "1099 2.2795255184173584 m= -0.2107037752866745 s2= 3.3390042781829834\n",
      "1199 2.297382116317749 m= -0.21912594139575958 s2= 3.334033966064453\n",
      "1299 2.2790074348449707 m= -0.22661520540714264 s2= 3.332369327545166\n",
      "1399 2.255082130432129 m= -0.2343498319387436 s2= 3.3331992626190186\n",
      "1499 2.280644416809082 m= -0.241208016872406 s2= 3.333733081817627\n",
      "1599 2.2762832641601562 m= -0.24766284227371216 s2= 3.3326406478881836\n",
      "1699 2.2335147857666016 m= -0.2514936029911041 s2= 3.3296327590942383\n",
      "1799 2.2114944458007812 m= -0.25877130031585693 s2= 3.3313379287719727\n",
      "1899 2.2158854007720947 m= -0.26569128036499023 s2= 3.3310670852661133\n",
      "1999 2.214548110961914 m= -0.2732146680355072 s2= 3.333240032196045\n",
      "2099 2.263725519180298 m= -0.27616289258003235 s2= 3.3254237174987793\n",
      "2199 2.222083568572998 m= -0.28119581937789917 s2= 3.325774669647217\n",
      "2299 2.26240873336792 m= -0.2887203097343445 s2= 3.3324639797210693\n",
      "2399 2.273599147796631 m= -0.29270264506340027 s2= 3.3257908821105957\n",
      "2499 2.26883864402771 m= -0.29459235072135925 s2= 3.3205037117004395\n",
      "2599 2.272703170776367 m= -0.2997269332408905 s2= 3.318288803100586\n",
      "2699 2.321092128753662 m= -0.3017147481441498 s2= 3.315969228744507\n",
      "2799 2.2572309970855713 m= -0.30544885993003845 s2= 3.3185553550720215\n",
      "2899 2.2354373931884766 m= -0.3079589605331421 s2= 3.316817045211792\n",
      "2999 2.2663164138793945 m= -0.3141295611858368 s2= 3.3172242641448975\n",
      "3099 2.2277350425720215 m= -0.31416746973991394 s2= 3.316371202468872\n",
      "3199 2.271353244781494 m= -0.31849971413612366 s2= 3.318991184234619\n",
      "3299 2.2664132118225098 m= -0.3228149116039276 s2= 3.3188483715057373\n",
      "3399 2.25197696685791 m= -0.3252493143081665 s2= 3.3129749298095703\n",
      "3499 2.3010048866271973 m= -0.3289802670478821 s2= 3.3161091804504395\n",
      "3599 2.1926169395446777 m= -0.3328588604927063 s2= 3.320533037185669\n",
      "3699 2.314940929412842 m= -0.3310611844062805 s2= 3.312063694000244\n",
      "3799 2.3140087127685547 m= -0.33253175020217896 s2= 3.3035173416137695\n",
      "3899 2.2557153701782227 m= -0.33836060762405396 s2= 3.3119702339172363\n",
      "3999 2.1982293128967285 m= -0.33660706877708435 s2= 3.3074095249176025\n",
      "4099 2.230644702911377 m= -0.3364907503128052 s2= 3.3062474727630615\n",
      "4199 2.2456326484680176 m= -0.33748409152030945 s2= 3.3013498783111572\n",
      "4299 2.221785545349121 m= -0.339753121137619 s2= 3.309225082397461\n",
      "4399 2.2785263061523438 m= -0.3419501781463623 s2= 3.3067867755889893\n",
      "4499 2.215426206588745 m= -0.34509262442588806 s2= 3.312264919281006\n",
      "4599 2.297593832015991 m= -0.3436649441719055 s2= 3.3050358295440674\n",
      "4699 2.3252692222595215 m= -0.3462364077568054 s2= 3.311267137527466\n",
      "4799 2.2141971588134766 m= -0.3473469614982605 s2= 3.3066306114196777\n",
      "4899 2.3258376121520996 m= -0.34909671545028687 s2= 3.3111984729766846\n",
      "4999 2.2073111534118652 m= -0.3479175269603729 s2= 3.3062031269073486\n",
      "Result: p(x|y) = N(-0.3480810523033142, 10.934094429016113) \n",
      "99 1.4447979927062988 m= -0.07092022150754929 s2= 3.137387990951538\n",
      "199 1.4121003150939941 m= -0.12817810475826263 s2= 3.2248270511627197\n",
      "299 1.399942398071289 m= -0.1724623590707779 s2= 3.2746315002441406\n",
      "399 1.3648593425750732 m= -0.2096392810344696 s2= 3.3005781173706055\n",
      "499 1.337447166442871 m= -0.24168238043785095 s2= 3.3120028972625732\n",
      "599 1.4057397842407227 m= -0.26567497849464417 s2= 3.308405637741089\n",
      "699 1.4163274765014648 m= -0.29073259234428406 s2= 3.3103153705596924\n",
      "799 1.397047996520996 m= -0.3145686388015747 s2= 3.3070027828216553\n",
      "899 1.3526227474212646 m= -0.3415965437889099 s2= 3.3162217140197754\n",
      "999 1.3270087242126465 m= -0.3615803122520447 s2= 3.313632011413574\n",
      "1099 1.3848543167114258 m= -0.3791920244693756 s2= 3.3064355850219727\n",
      "1199 1.4226899147033691 m= -0.3974780738353729 s2= 3.2979066371917725\n",
      "1299 1.3404176235198975 m= -0.41295114159584045 s2= 3.289808511734009\n",
      "1399 1.3809301853179932 m= -0.4280454218387604 s2= 3.281559467315674\n",
      "1499 1.3789234161376953 m= -0.44363489747047424 s2= 3.278148889541626\n",
      "1599 1.3659389019012451 m= -0.4563109874725342 s2= 3.2662394046783447\n",
      "1699 1.342254638671875 m= -0.4717867374420166 s2= 3.261821746826172\n",
      "1799 1.380676031112671 m= -0.48831480741500854 s2= 3.2636754512786865\n",
      "1899 1.3843860626220703 m= -0.5004249811172485 s2= 3.2580466270446777\n",
      "1999 1.3857660293579102 m= -0.5129124522209167 s2= 3.2568633556365967\n",
      "2099 1.4205560684204102 m= -0.5234930515289307 s2= 3.2444047927856445\n",
      "2199 1.500732183456421 m= -0.537648618221283 s2= 3.2415311336517334\n",
      "2299 1.4504547119140625 m= -0.5503484010696411 s2= 3.2383062839508057\n",
      "2399 1.4544577598571777 m= -0.559651792049408 s2= 3.2325973510742188\n",
      "2499 1.342038631439209 m= -0.5703259706497192 s2= 3.2309439182281494\n",
      "2599 1.4208354949951172 m= -0.5808024406433105 s2= 3.230781078338623\n",
      "2699 1.3940699100494385 m= -0.5913111567497253 s2= 3.228548049926758\n",
      "2799 1.3349182605743408 m= -0.6011002659797668 s2= 3.229463577270508\n",
      "2899 1.3758735656738281 m= -0.6084085702896118 s2= 3.2216737270355225\n",
      "2999 1.4030401706695557 m= -0.6172128915786743 s2= 3.22259783744812\n",
      "3099 1.3731749057769775 m= -0.6232703328132629 s2= 3.2131752967834473\n",
      "3199 1.32951021194458 m= -0.6339667439460754 s2= 3.213667631149292\n",
      "3299 1.4589388370513916 m= -0.6416107416152954 s2= 3.210031032562256\n",
      "3399 1.351123332977295 m= -0.6479769349098206 s2= 3.2026383876800537\n",
      "3499 1.4118952751159668 m= -0.6584184169769287 s2= 3.2032527923583984\n",
      "3599 1.432999610900879 m= -0.6632830500602722 s2= 3.195596218109131\n",
      "3699 1.4229974746704102 m= -0.6714090704917908 s2= 3.197497844696045\n",
      "3799 1.3684942722320557 m= -0.6774215698242188 s2= 3.1962294578552246\n",
      "3899 1.3973000049591064 m= -0.6862612366676331 s2= 3.202234983444214\n",
      "3999 1.425511121749878 m= -0.6886361241340637 s2= 3.1921417713165283\n",
      "4099 1.3308680057525635 m= -0.6912429928779602 s2= 3.1831438541412354\n",
      "4199 1.3163552284240723 m= -0.6988691687583923 s2= 3.186372756958008\n",
      "4299 1.4413514137268066 m= -0.7064632773399353 s2= 3.193121910095215\n",
      "4399 1.377448320388794 m= -0.7113963961601257 s2= 3.1930770874023438\n",
      "4499 1.3957633972167969 m= -0.7147250175476074 s2= 3.1896657943725586\n",
      "4599 1.410374641418457 m= -0.7185414433479309 s2= 3.1845736503601074\n",
      "4699 1.370776653289795 m= -0.7236477136611938 s2= 3.1773617267608643\n",
      "4799 1.4568524360656738 m= -0.728323221206665 s2= 3.1780474185943604\n",
      "4899 1.408736228942871 m= -0.7306945323944092 s2= 3.174785852432251\n",
      "4999 1.3841886520385742 m= -0.7352423667907715 s2= 3.178375244140625\n",
      "Result: p(x|y) = N(-0.7352368831634521, 10.100688934326172) \n",
      "0\n",
      "99 3.2906949520111084 m= -0.09628380835056305 s2= 3.2423102855682373\n",
      "199 3.2392992973327637 m= -0.1496160626411438 s2= 3.3261492252349854\n",
      "299 3.205364942550659 m= -0.1921895444393158 s2= 3.361941337585449\n",
      "399 3.22200870513916 m= -0.22753608226776123 s2= 3.3662331104278564\n",
      "499 3.188298225402832 m= -0.25453630089759827 s2= 3.36970853805542\n",
      "599 3.185887336730957 m= -0.2797852158546448 s2= 3.3642807006835938\n",
      "699 3.1455817222595215 m= -0.3071737587451935 s2= 3.362947940826416\n",
      "799 3.2479000091552734 m= -0.3301648199558258 s2= 3.3433804512023926\n",
      "899 3.262448787689209 m= -0.3573513329029083 s2= 3.336726188659668\n",
      "999 3.241990566253662 m= -0.38752666115760803 s2= 3.339559555053711\n",
      "1099 3.20444393157959 m= -0.4180631935596466 s2= 3.340102195739746\n",
      "1199 3.169849395751953 m= -0.4376479685306549 s2= 3.3290469646453857\n",
      "1299 3.3088574409484863 m= -0.4626601040363312 s2= 3.312654733657837\n",
      "1399 3.095975160598755 m= -0.48847007751464844 s2= 3.3018805980682373\n",
      "1499 3.299940586090088 m= -0.514390230178833 s2= 3.284623861312866\n",
      "1599 3.177280902862549 m= -0.5466381907463074 s2= 3.2958736419677734\n",
      "1699 3.171064853668213 m= -0.5693768262863159 s2= 3.276759624481201\n",
      "1799 3.25846791267395 m= -0.5922390222549438 s2= 3.263077974319458\n",
      "1899 3.2310075759887695 m= -0.6217273473739624 s2= 3.2633278369903564\n",
      "1999 3.250431537628174 m= -0.649226188659668 s2= 3.251239776611328\n",
      "2099 3.2212462425231934 m= -0.6756598353385925 s2= 3.23056960105896\n",
      "2199 3.1908512115478516 m= -0.709886908531189 s2= 3.2277445793151855\n",
      "2299 3.187511444091797 m= -0.7358415722846985 s2= 3.210216999053955\n"
     ]
    },
    {
     "name": "stdout",
     "output_type": "stream",
     "text": [
      "2399 3.167628288269043 m= -0.7693520784378052 s2= 3.206103563308716\n",
      "2499 3.1473963260650635 m= -0.7950604557991028 s2= 3.1865711212158203\n",
      "2599 3.2695770263671875 m= -0.8303439617156982 s2= 3.1753387451171875\n",
      "2699 3.2513856887817383 m= -0.8655917048454285 s2= 3.1587717533111572\n",
      "2799 3.2925522327423096 m= -0.9046674966812134 s2= 3.147859573364258\n",
      "2899 3.1571860313415527 m= -0.9404332637786865 s2= 3.121579647064209\n",
      "2999 3.3422975540161133 m= -0.9803376793861389 s2= 3.1007537841796875\n",
      "3099 3.135042667388916 m= -1.025747537612915 s2= 3.089601755142212\n",
      "3199 3.226733446121216 m= -1.0699689388275146 s2= 3.0748982429504395\n",
      "3299 3.219322681427002 m= -1.117870569229126 s2= 3.057819366455078\n",
      "3399 3.144869327545166 m= -1.1629366874694824 s2= 3.034104824066162\n",
      "3499 3.312157154083252 m= -1.2151578664779663 s2= 3.0103957653045654\n",
      "3599 3.2460362911224365 m= -1.2679920196533203 s2= 2.9736132621765137\n",
      "3699 3.1223390102386475 m= -1.3332064151763916 s2= 2.9511141777038574\n",
      "3799 3.2379088401794434 m= -1.398014783859253 s2= 2.9224650859832764\n",
      "3899 3.197195529937744 m= -1.4675564765930176 s2= 2.895226240158081\n",
      "3999 3.2048635482788086 m= -1.5400307178497314 s2= 2.8475916385650635\n",
      "4099 3.1742706298828125 m= -1.6229981184005737 s2= 2.8035924434661865\n",
      "4199 3.122835159301758 m= -1.711412787437439 s2= 2.7555439472198486\n",
      "4299 3.1707205772399902 m= -1.812793254852295 s2= 2.7092230319976807\n",
      "4399 3.1249661445617676 m= -1.9167490005493164 s2= 2.6376495361328125\n",
      "4499 3.1377105712890625 m= -2.0370612144470215 s2= 2.575183868408203\n",
      "4599 3.0961971282958984 m= -2.171063184738159 s2= 2.5046608448028564\n",
      "4699 3.027233600616455 m= -2.3107964992523193 s2= 2.415742874145508\n",
      "4799 3.0746233463287354 m= -2.463742971420288 s2= 2.330103635787964\n",
      "4899 2.9803555011749268 m= -2.6246776580810547 s2= 2.232686996459961\n",
      "4999 2.933692455291748 m= -2.7956650257110596 s2= 2.1312997341156006\n",
      "Result: p(x|y) = N(-2.7970526218414307, 4.536658763885498) \n",
      "99 0.9994456768035889 m= -0.1374826431274414 s2= 3.214874267578125\n",
      "199 1.0393826961517334 m= -0.238119438290596 s2= 3.305356502532959\n",
      "299 0.9756629467010498 m= -0.314808189868927 s2= 3.325239896774292\n",
      "399 0.9458203315734863 m= -0.3874660134315491 s2= 3.3299384117126465\n",
      "499 0.99951171875 m= -0.4476483464241028 s2= 3.316699981689453\n",
      "599 0.9849469661712646 m= -0.507330060005188 s2= 3.2924818992614746\n",
      "699 0.9908831119537354 m= -0.5706453323364258 s2= 3.2653889656066895\n",
      "799 0.9935355186462402 m= -0.6356364488601685 s2= 3.2425055503845215\n",
      "899 1.0275192260742188 m= -0.7040615081787109 s2= 3.228137254714966\n",
      "999 0.9878363609313965 m= -0.7693966031074524 s2= 3.185526132583618\n",
      "1099 1.143554449081421 m= -0.8423137664794922 s2= 3.1568210124969482\n",
      "1199 0.9986109733581543 m= -0.9192538857460022 s2= 3.125903606414795\n",
      "1299 0.9036176204681396 m= -1.0003808736801147 s2= 3.0916523933410645\n",
      "1399 0.9176030158996582 m= -1.0862843990325928 s2= 3.0604076385498047\n",
      "1499 1.0130655765533447 m= -1.1730151176452637 s2= 3.0151889324188232\n",
      "1599 0.9368054866790771 m= -1.269627571105957 s2= 2.970662832260132\n",
      "1699 0.8523876667022705 m= -1.3737767934799194 s2= 2.9194350242614746\n",
      "1799 0.9020340442657471 m= -1.4843637943267822 s2= 2.8533530235290527\n",
      "1899 0.8553946018218994 m= -1.6047205924987793 s2= 2.7751739025115967\n",
      "1999 0.879185676574707 m= -1.7427372932434082 s2= 2.6915769577026367\n",
      "2099 0.9346113204956055 m= -1.8938162326812744 s2= 2.5987136363983154\n",
      "2199 0.784764289855957 m= -2.0589945316314697 s2= 2.4983158111572266\n",
      "2299 0.8361930847167969 m= -2.2427077293395996 s2= 2.3929646015167236\n",
      "2399 0.6515016555786133 m= -2.4410128593444824 s2= 2.2808079719543457\n",
      "2499 0.601618766784668 m= -2.639998197555542 s2= 2.147505521774292\n",
      "2599 0.548760175704956 m= -2.8489251136779785 s2= 2.0192995071411133\n",
      "2699 0.5887017250061035 m= -3.0508809089660645 s2= 1.8832746744155884\n",
      "2799 0.4586712121963501 m= -3.2399730682373047 s2= 1.7619186639785767\n",
      "2899 0.412969708442688 m= -3.409801483154297 s2= 1.6538480520248413\n",
      "2999 0.3722712993621826 m= -3.553774833679199 s2= 1.5686193704605103\n",
      "3099 0.3705167770385742 m= -3.6697192192077637 s2= 1.4944334030151367\n",
      "3199 0.3646289110183716 m= -3.7593982219696045 s2= 1.4433481693267822\n",
      "3299 0.35019946098327637 m= -3.8269269466400146 s2= 1.4100173711776733\n",
      "3399 0.34423303604125977 m= -3.876126527786255 s2= 1.3860607147216797\n",
      "3499 0.34889304637908936 m= -3.9117419719696045 s2= 1.3671566247940063\n",
      "3599 0.3136690855026245 m= -3.9376754760742188 s2= 1.3598864078521729\n",
      "3699 0.32517027854919434 m= -3.956502676010132 s2= 1.3533711433410645\n",
      "3799 0.3374553918838501 m= -3.967069625854492 s2= 1.3446063995361328\n",
      "3899 0.31013619899749756 m= -3.972905158996582 s2= 1.338194727897644\n",
      "3999 0.35497426986694336 m= -3.9801363945007324 s2= 1.3348243236541748\n",
      "4099 0.3224538564682007 m= -3.984510898590088 s2= 1.337109088897705\n",
      "4199 0.39361584186553955 m= -3.9851043224334717 s2= 1.3363754749298096\n",
      "4299 0.3704643249511719 m= -3.9873647689819336 s2= 1.3342982530593872\n",
      "4399 0.3064401149749756 m= -3.988323926925659 s2= 1.3317272663116455\n",
      "4499 0.3258991241455078 m= -3.9914095401763916 s2= 1.3371220827102661\n",
      "4599 0.34813809394836426 m= -3.9909160137176514 s2= 1.3303556442260742\n",
      "4699 0.32416462898254395 m= -3.992798089981079 s2= 1.332709550857544\n",
      "4799 0.3374677896499634 m= -3.9900496006011963 s2= 1.3310632705688477\n",
      "4899 0.33087158203125 m= -3.9909253120422363 s2= 1.3272473812103271\n",
      "4999 0.30086421966552734 m= -3.9929661750793457 s2= 1.3303873538970947\n",
      "Result: p(x|y) = N(-3.993084669113159, 1.771921157836914) \n",
      "1\n",
      "99 13.253652572631836 m= -0.30453020334243774 s2= 3.40685772895813\n",
      "199 12.78856372833252 m= -0.5447154641151428 s2= 3.3479602336883545\n",
      "299 12.96396255493164 m= -0.9182900190353394 s2= 3.227109909057617\n",
      "399 12.327493667602539 m= -1.5745995044708252 s2= 2.853062629699707\n",
      "499 8.039709091186523 m= -3.178135633468628 s2= 1.7890037298202515\n",
      "599 3.063007354736328 m= -4.942737579345703 s2= 0.5772714614868164\n",
      "699 2.966646194458008 m= -5.1224260330200195 s2= 0.5176392197608948\n",
      "799 2.950364589691162 m= -5.123253345489502 s2= 0.5106898546218872\n",
      "899 2.962675094604492 m= -5.125023365020752 s2= 0.5124192833900452\n",
      "999 2.9437711238861084 m= -5.12898063659668 s2= 0.5176889896392822\n",
      "1099 2.992319345474243 m= -5.127135276794434 s2= 0.5137337446212769\n",
      "1199 2.9959330558776855 m= -5.12697696685791 s2= 0.5162791609764099\n",
      "1299 2.9605183601379395 m= -5.126072883605957 s2= 0.5122668743133545\n",
      "1399 2.945587635040283 m= -5.1294846534729 s2= 0.5136834383010864\n",
      "1499 2.9719347953796387 m= -5.1292314529418945 s2= 0.5159872174263\n",
      "1599 3.007906913757324 m= -5.123414993286133 s2= 0.5120716094970703\n",
      "1699 2.9525885581970215 m= -5.1266913414001465 s2= 0.5156313180923462\n",
      "1799 2.9527928829193115 m= -5.12582540512085 s2= 0.5164212584495544\n",
      "1899 2.971822738647461 m= -5.124434947967529 s2= 0.5141671299934387\n",
      "1999 2.9796881675720215 m= -5.126550197601318 s2= 0.5170854330062866\n",
      "2099 2.9635086059570312 m= -5.128627300262451 s2= 0.5165449380874634\n",
      "2199 2.9798262119293213 m= -5.122555732727051 s2= 0.5147176384925842\n",
      "2299 3.002073049545288 m= -5.126464366912842 s2= 0.5175031423568726\n",
      "2399 3.016157627105713 m= -5.123147487640381 s2= 0.5127307772636414\n",
      "2499 2.976452350616455 m= -5.123500823974609 s2= 0.514082670211792\n",
      "2599 2.996736764907837 m= -5.124256134033203 s2= 0.5136692523956299\n",
      "2699 2.9950027465820312 m= -5.1262688636779785 s2= 0.5121168494224548\n",
      "2799 2.9553933143615723 m= -5.124652862548828 s2= 0.5180081725120544\n",
      "2899 2.9368069171905518 m= -5.12673807144165 s2= 0.5168027281761169\n",
      "2999 2.9893813133239746 m= -5.126189231872559 s2= 0.5165409445762634\n",
      "3099 2.967434883117676 m= -5.125513076782227 s2= 0.5107808113098145\n",
      "3199 2.9476888179779053 m= -5.125909805297852 s2= 0.5171105861663818\n",
      "3299 2.9527270793914795 m= -5.129466533660889 s2= 0.5116546750068665\n",
      "3399 2.9765050411224365 m= -5.127199172973633 s2= 0.5176382660865784\n",
      "3499 2.9066290855407715 m= -5.125965595245361 s2= 0.5119879245758057\n",
      "3599 2.994014263153076 m= -5.124954700469971 s2= 0.5110621452331543\n",
      "3699 2.975153684616089 m= -5.122175216674805 s2= 0.5117241144180298\n",
      "3799 2.9824655055999756 m= -5.128971099853516 s2= 0.5156793594360352\n",
      "3899 2.978898525238037 m= -5.123929500579834 s2= 0.5155457258224487\n",
      "3999 2.968459367752075 m= -5.125596523284912 s2= 0.5167571902275085\n",
      "4099 3.010493755340576 m= -5.127167224884033 s2= 0.5163203477859497\n",
      "4199 2.976651191711426 m= -5.124946117401123 s2= 0.5165975093841553\n",
      "4299 2.9637351036071777 m= -5.126217365264893 s2= 0.512732207775116\n",
      "4399 2.9881701469421387 m= -5.12449312210083 s2= 0.5156010985374451\n",
      "4499 2.997206687927246 m= -5.128719329833984 s2= 0.5174839496612549\n",
      "4599 2.9540984630584717 m= -5.124477386474609 s2= 0.5131676197052002\n"
     ]
    },
    {
     "name": "stdout",
     "output_type": "stream",
     "text": [
      "4699 2.973313570022583 m= -5.1269307136535645 s2= 0.5134547352790833\n",
      "4799 2.972688913345337 m= -5.129425525665283 s2= 0.5151404738426208\n",
      "4899 3.0044119358062744 m= -5.128686428070068 s2= 0.5139673948287964\n",
      "4999 3.018484115600586 m= -5.124037265777588 s2= 0.5131065249443054\n",
      "Result: p(x|y) = N(-5.123756408691406, 0.26148518919944763) \n",
      "99 6.879958629608154 m= -0.4995061457157135 s2= 3.355835199356079\n",
      "199 6.477778434753418 m= -1.0176931619644165 s2= 3.1290109157562256\n",
      "299 5.41539192199707 m= -2.051304340362549 s2= 2.5114567279815674\n",
      "399 -1.4287806749343872 m= -4.079529762268066 s2= 1.0011706352233887\n",
      "499 -2.4899158477783203 m= -4.832669258117676 s2= 0.554450511932373\n",
      "599 -2.518843412399292 m= -4.874565124511719 s2= 0.5399178266525269\n",
      "699 -2.5206024646759033 m= -4.873708724975586 s2= 0.5431029796600342\n",
      "799 -2.516920804977417 m= -4.8770599365234375 s2= 0.5433225631713867\n",
      "899 -2.530994415283203 m= -4.874535083770752 s2= 0.5437921285629272\n",
      "999 -2.553413152694702 m= -4.8784942626953125 s2= 0.5374958515167236\n",
      "1099 -2.547886371612549 m= -4.875701427459717 s2= 0.5412116050720215\n",
      "1199 -2.4835023880004883 m= -4.875223159790039 s2= 0.5398424863815308\n",
      "1299 -2.6064343452453613 m= -4.875533103942871 s2= 0.5446358919143677\n",
      "1399 -2.4971022605895996 m= -4.8721489906311035 s2= 0.5410095453262329\n",
      "1499 -2.52980899810791 m= -4.87567138671875 s2= 0.5409129858016968\n",
      "1599 -2.5101869106292725 m= -4.874483585357666 s2= 0.5391693115234375\n",
      "1699 -2.506770133972168 m= -4.87439489364624 s2= 0.5408684611320496\n",
      "1799 -2.5231552124023438 m= -4.878884315490723 s2= 0.5440345406532288\n",
      "1899 -2.493584156036377 m= -4.877234935760498 s2= 0.5437411069869995\n",
      "1999 -2.5086288452148438 m= -4.878098964691162 s2= 0.5415598154067993\n",
      "2099 -2.534770965576172 m= -4.876733303070068 s2= 0.5398833751678467\n",
      "2199 -2.5536248683929443 m= -4.876964092254639 s2= 0.5397279262542725\n",
      "2299 -2.5101232528686523 m= -4.87511682510376 s2= 0.5444170832633972\n",
      "2399 -2.5063869953155518 m= -4.877989292144775 s2= 0.5437039732933044\n",
      "2499 -2.5035407543182373 m= -4.875751972198486 s2= 0.5406498908996582\n",
      "2599 -2.499964714050293 m= -4.8769850730896 s2= 0.5430139899253845\n",
      "2699 -2.4837841987609863 m= -4.876862049102783 s2= 0.5400742888450623\n",
      "2799 -2.5217671394348145 m= -4.876730442047119 s2= 0.5420880913734436\n",
      "2899 -2.4537880420684814 m= -4.8753204345703125 s2= 0.54464191198349\n",
      "2999 -2.5496160984039307 m= -4.871996879577637 s2= 0.544739842414856\n",
      "3099 -2.5686867237091064 m= -4.8763227462768555 s2= 0.5422734022140503\n",
      "3199 -2.4958529472351074 m= -4.874913692474365 s2= 0.5434636473655701\n",
      "3299 -2.5025579929351807 m= -4.876192569732666 s2= 0.543315589427948\n",
      "3399 -2.5567636489868164 m= -4.875262260437012 s2= 0.5424322485923767\n",
      "3499 -2.530088424682617 m= -4.87733793258667 s2= 0.544532299041748\n",
      "3599 -2.5783374309539795 m= -4.877434253692627 s2= 0.545747697353363\n",
      "3699 -2.4810068607330322 m= -4.880373954772949 s2= 0.543448805809021\n",
      "3799 -2.5636608600616455 m= -4.873935222625732 s2= 0.5413223505020142\n",
      "3899 -2.5587239265441895 m= -4.875574111938477 s2= 0.5429280996322632\n",
      "3999 -2.52034854888916 m= -4.876304626464844 s2= 0.5471590757369995\n",
      "4099 -2.547783851623535 m= -4.879013538360596 s2= 0.5396237969398499\n",
      "4199 -2.5236518383026123 m= -4.873923301696777 s2= 0.538845956325531\n",
      "4299 -2.5379014015197754 m= -4.873926639556885 s2= 0.539126455783844\n",
      "4399 -2.52439022064209 m= -4.8790178298950195 s2= 0.544500470161438\n",
      "4499 -2.527134418487549 m= -4.875438690185547 s2= 0.5428812503814697\n",
      "4599 -2.5404157638549805 m= -4.874677658081055 s2= 0.541774570941925\n",
      "4699 -2.5075385570526123 m= -4.87785005569458 s2= 0.5428825616836548\n",
      "4799 -2.491544723510742 m= -4.874377727508545 s2= 0.5408197641372681\n",
      "4899 -2.526304244995117 m= -4.874177932739258 s2= 0.5419842600822449\n",
      "4999 -2.5045089721679688 m= -4.874301910400391 s2= 0.5428366661071777\n",
      "Result: p(x|y) = N(-4.874229907989502, 0.2938911020755768) \n",
      "2\n",
      "99 24.36882781982422 m= -0.5795491933822632 s2= 3.349916934967041\n",
      "199 21.951045989990234 m= -1.9131999015808105 s2= 2.6779727935791016\n",
      "299 3.0048887729644775 m= -5.184191703796387 s2= 0.36822521686553955\n",
      "399 3.009500741958618 m= -5.224756717681885 s2= 0.35972273349761963\n",
      "499 2.9893112182617188 m= -5.226170539855957 s2= 0.36472630500793457\n",
      "599 2.9728682041168213 m= -5.224034786224365 s2= 0.35868802666664124\n",
      "699 3.0069689750671387 m= -5.226049900054932 s2= 0.3610580265522003\n",
      "799 3.033921957015991 m= -5.228006839752197 s2= 0.3623645305633545\n",
      "899 3.0132243633270264 m= -5.228737831115723 s2= 0.3548823595046997\n",
      "999 3.007913112640381 m= -5.228822708129883 s2= 0.35951197147369385\n",
      "1099 2.983513593673706 m= -5.227139949798584 s2= 0.35747668147087097\n",
      "1199 2.96085786819458 m= -5.224985599517822 s2= 0.356553316116333\n",
      "1299 3.015723705291748 m= -5.228950500488281 s2= 0.358582466840744\n",
      "1399 2.9844048023223877 m= -5.224993705749512 s2= 0.35720112919807434\n",
      "1499 3.037184238433838 m= -5.230855941772461 s2= 0.3623998463153839\n",
      "1599 3.027195930480957 m= -5.227391242980957 s2= 0.3566204309463501\n",
      "1699 2.9668192863464355 m= -5.228113651275635 s2= 0.36045852303504944\n",
      "1799 3.017448902130127 m= -5.230684280395508 s2= 0.35862401127815247\n",
      "1899 2.972883701324463 m= -5.230953216552734 s2= 0.35875317454338074\n",
      "1999 3.0161192417144775 m= -5.226905345916748 s2= 0.35992589592933655\n",
      "2099 3.035639762878418 m= -5.222955703735352 s2= 0.35448578000068665\n",
      "2199 3.046144485473633 m= -5.225471496582031 s2= 0.3619975447654724\n",
      "2299 2.9912798404693604 m= -5.230765342712402 s2= 0.36151185631752014\n",
      "2399 3.0222363471984863 m= -5.225554466247559 s2= 0.35465022921562195\n",
      "2499 2.9701309204101562 m= -5.223766803741455 s2= 0.35991591215133667\n",
      "2599 3.004373550415039 m= -5.22796106338501 s2= 0.36069047451019287\n",
      "2699 3.0264182090759277 m= -5.229480266571045 s2= 0.36128562688827515\n",
      "2799 2.9873669147491455 m= -5.232234477996826 s2= 0.35987991094589233\n",
      "2899 3.022834539413452 m= -5.227396488189697 s2= 0.35607534646987915\n",
      "2999 2.9750335216522217 m= -5.227543354034424 s2= 0.3589290976524353\n",
      "3099 2.998889446258545 m= -5.227878093719482 s2= 0.36040008068084717\n",
      "3199 3.001232624053955 m= -5.224578857421875 s2= 0.3599780797958374\n",
      "3299 3.017317295074463 m= -5.224717617034912 s2= 0.3541872203350067\n",
      "3399 2.974335193634033 m= -5.225221633911133 s2= 0.3629049062728882\n",
      "3499 2.998648166656494 m= -5.229147911071777 s2= 0.3601393699645996\n",
      "3599 3.017021656036377 m= -5.227609634399414 s2= 0.35827967524528503\n",
      "3699 2.996516227722168 m= -5.227027416229248 s2= 0.3591618835926056\n",
      "3799 2.9746837615966797 m= -5.224128723144531 s2= 0.3611934781074524\n",
      "3899 2.991694927215576 m= -5.2306976318359375 s2= 0.3592281937599182\n",
      "3999 2.9409375190734863 m= -5.2264275550842285 s2= 0.36211973428726196\n",
      "4099 2.9836578369140625 m= -5.228329658508301 s2= 0.3618849515914917\n",
      "4199 3.0065078735351562 m= -5.225306034088135 s2= 0.36139634251594543\n",
      "4299 2.9815030097961426 m= -5.225179672241211 s2= 0.36100298166275024\n",
      "4399 3.0090694427490234 m= -5.226254463195801 s2= 0.3586781322956085\n",
      "4499 2.9826416969299316 m= -5.228795051574707 s2= 0.3616948425769806\n",
      "4599 2.9772706031799316 m= -5.228357315063477 s2= 0.3580465614795685\n",
      "4699 2.980316162109375 m= -5.226078510284424 s2= 0.36017906665802\n",
      "4799 3.019423723220825 m= -5.224689483642578 s2= 0.35615167021751404\n",
      "4899 2.9976916313171387 m= -5.226776123046875 s2= 0.36254972219467163\n",
      "4999 3.010859966278076 m= -5.220104217529297 s2= 0.3555256128311157\n",
      "Result: p(x|y) = N(-5.220030784606934, 0.12639422714710236) \n",
      "99 15.307077407836914 m= -1.0041149854660034 s2= 3.1756091117858887\n",
      "199 -0.0388718843460083 m= -3.929861068725586 s2= 1.0973423719406128\n",
      "299 -3.746725559234619 m= -4.966886043548584 s2= 0.3929152190685272\n",
      "399 -3.7672014236450195 m= -4.9712677001953125 s2= 0.3936794698238373\n",
      "499 -3.7391250133514404 m= -4.967928886413574 s2= 0.3952312171459198\n",
      "599 -3.733839511871338 m= -4.970988750457764 s2= 0.3914683759212494\n",
      "699 -3.743131399154663 m= -4.972172737121582 s2= 0.39435893297195435\n",
      "799 -3.698944091796875 m= -4.974918842315674 s2= 0.38694486021995544\n",
      "899 -3.782644510269165 m= -4.964679718017578 s2= 0.38978487253189087\n",
      "999 -3.745330333709717 m= -4.973244667053223 s2= 0.39631640911102295\n",
      "1099 -3.726696729660034 m= -4.970847129821777 s2= 0.39111635088920593\n",
      "1199 -3.6963720321655273 m= -4.968437194824219 s2= 0.39213454723358154\n",
      "1299 -3.738952398300171 m= -4.969343185424805 s2= 0.3912261426448822\n"
     ]
    },
    {
     "name": "stdout",
     "output_type": "stream",
     "text": [
      "1399 -3.74477481842041 m= -4.975134372711182 s2= 0.3894416093826294\n",
      "1499 -3.6974220275878906 m= -4.972721576690674 s2= 0.3960302472114563\n",
      "1599 -3.744795322418213 m= -4.969828128814697 s2= 0.39270058274269104\n",
      "1699 -3.7604925632476807 m= -4.971284866333008 s2= 0.3943529427051544\n",
      "1799 -3.6983489990234375 m= -4.97245979309082 s2= 0.39566418528556824\n",
      "1899 -3.749908447265625 m= -4.970330238342285 s2= 0.3996593952178955\n",
      "1999 -3.702476978302002 m= -4.972218036651611 s2= 0.3956746757030487\n",
      "2099 -3.7398369312286377 m= -4.973868370056152 s2= 0.39693158864974976\n",
      "2199 -3.7581450939178467 m= -4.971367835998535 s2= 0.3980379104614258\n",
      "2299 -3.737844228744507 m= -4.969183921813965 s2= 0.39277926087379456\n",
      "2399 -3.710692882537842 m= -4.970556259155273 s2= 0.39325588941574097\n",
      "2499 -3.748380184173584 m= -4.971347808837891 s2= 0.3910266160964966\n",
      "2599 -3.75632905960083 m= -4.968189239501953 s2= 0.3944457769393921\n",
      "2699 -3.71003794670105 m= -4.970081329345703 s2= 0.3936672508716583\n",
      "2799 -3.726478338241577 m= -4.9708123207092285 s2= 0.3917105495929718\n",
      "2899 -3.786156415939331 m= -4.972784996032715 s2= 0.39564934372901917\n",
      "2999 -3.6945934295654297 m= -4.971895217895508 s2= 0.39227035641670227\n",
      "3099 -3.718205451965332 m= -4.969142913818359 s2= 0.3973684310913086\n",
      "3199 -3.7323880195617676 m= -4.972455978393555 s2= 0.3945777118206024\n",
      "3299 -3.727220296859741 m= -4.973499298095703 s2= 0.3912026584148407\n",
      "3399 -3.738560199737549 m= -4.968069553375244 s2= 0.3946216106414795\n",
      "3499 -3.703792095184326 m= -4.967752933502197 s2= 0.3902025520801544\n",
      "3599 -3.7429676055908203 m= -4.973465919494629 s2= 0.3949241042137146\n",
      "3699 -3.7273101806640625 m= -4.969079494476318 s2= 0.3937787413597107\n",
      "3799 -3.701319694519043 m= -4.976284980773926 s2= 0.3947187066078186\n",
      "3899 -3.7433362007141113 m= -4.9713215827941895 s2= 0.3928665518760681\n",
      "3999 -3.7576420307159424 m= -4.969191551208496 s2= 0.39143964648246765\n",
      "4099 -3.7526445388793945 m= -4.969884395599365 s2= 0.3908390998840332\n",
      "4199 -3.724869728088379 m= -4.969729423522949 s2= 0.39534616470336914\n",
      "4299 -3.780543565750122 m= -4.970135688781738 s2= 0.39495062828063965\n",
      "4399 -3.7403478622436523 m= -4.970473289489746 s2= 0.3968017101287842\n",
      "4499 -3.749366521835327 m= -4.969302654266357 s2= 0.3937075734138489\n",
      "4599 -3.7331998348236084 m= -4.97170877456665 s2= 0.3938092291355133\n",
      "4699 -3.7115399837493896 m= -4.9663166999816895 s2= 0.391244113445282\n",
      "4799 -3.758822202682495 m= -4.970565319061279 s2= 0.39285027980804443\n",
      "4899 -3.745082139968872 m= -4.9695658683776855 s2= 0.39388954639434814\n",
      "4999 -3.759817123413086 m= -4.970017910003662 s2= 0.3935233950614929\n",
      "Result: p(x|y) = N(-4.969551086425781, 0.15592661499977112) \n",
      "3\n",
      "99 3.000606060028076 m= -5.3034234046936035 s2= 0.1647130697965622\n",
      "199 2.987572193145752 m= -5.305602073669434 s2= 0.15565741062164307\n",
      "299 3.0231568813323975 m= -5.30425500869751 s2= 0.1587364822626114\n",
      "399 3.0084407329559326 m= -5.303738117218018 s2= 0.16168977320194244\n",
      "499 3.0188822746276855 m= -5.304061412811279 s2= 0.16063877940177917\n",
      "599 3.070958375930786 m= -5.305715084075928 s2= 0.15617094933986664\n",
      "699 3.0068650245666504 m= -5.305897235870361 s2= 0.15737830102443695\n",
      "799 3.033442974090576 m= -5.303966522216797 s2= 0.15494924783706665\n",
      "899 2.987588405609131 m= -5.302737236022949 s2= 0.15691006183624268\n",
      "999 3.0405359268188477 m= -5.303913116455078 s2= 0.15738007426261902\n",
      "1099 3.026796817779541 m= -5.30992317199707 s2= 0.16538368165493011\n",
      "1199 3.016688823699951 m= -5.304412841796875 s2= 0.16443359851837158\n",
      "1299 3.0329530239105225 m= -5.308445453643799 s2= 0.1640472263097763\n",
      "1399 3.064110279083252 m= -5.30290412902832 s2= 0.15078653395175934\n",
      "1499 3.0380663871765137 m= -5.304586410522461 s2= 0.15238380432128906\n",
      "1599 3.018491744995117 m= -5.305105209350586 s2= 0.15670283138751984\n",
      "1699 3.021395206451416 m= -5.302949905395508 s2= 0.1603260487318039\n",
      "1799 3.0525779724121094 m= -5.304102897644043 s2= 0.1611040085554123\n",
      "1899 3.034966468811035 m= -5.306641578674316 s2= 0.16108983755111694\n",
      "1999 3.056185722351074 m= -5.305131912231445 s2= 0.1612723022699356\n",
      "2099 3.0282669067382812 m= -5.30511999130249 s2= 0.1607871800661087\n",
      "2199 3.0306084156036377 m= -5.305475234985352 s2= 0.15720005333423615\n",
      "2299 3.029082775115967 m= -5.305129051208496 s2= 0.1602271944284439\n",
      "2399 3.0382637977600098 m= -5.304622650146484 s2= 0.16194342076778412\n",
      "2499 2.990825653076172 m= -5.303859233856201 s2= 0.15671665966510773\n",
      "2599 3.028553009033203 m= -5.3043742179870605 s2= 0.159481480717659\n",
      "2699 3.027358055114746 m= -5.312516689300537 s2= 0.15810203552246094\n",
      "2799 3.0545663833618164 m= -5.301185607910156 s2= 0.15671060979366302\n",
      "2899 3.038361072540283 m= -5.306385040283203 s2= 0.15868572890758514\n",
      "2999 3.015841007232666 m= -5.302649974822998 s2= 0.1528489589691162\n",
      "3099 3.012610912322998 m= -5.301192760467529 s2= 0.16745181381702423\n",
      "3199 3.026365280151367 m= -5.305487155914307 s2= 0.1592240035533905\n",
      "3299 3.049370288848877 m= -5.303878307342529 s2= 0.1559489518404007\n",
      "3399 2.9983222484588623 m= -5.300341606140137 s2= 0.16436533629894257\n",
      "3499 2.970792770385742 m= -5.307272911071777 s2= 0.1554141640663147\n",
      "3599 3.033508777618408 m= -5.30795431137085 s2= 0.1599072962999344\n",
      "3699 3.028731346130371 m= -5.304614543914795 s2= 0.15480037033557892\n",
      "3799 3.021876811981201 m= -5.306557655334473 s2= 0.16207703948020935\n",
      "3899 3.059576988220215 m= -5.306849479675293 s2= 0.16031692922115326\n",
      "3999 3.0317649841308594 m= -5.300606727600098 s2= 0.1578923910856247\n",
      "4099 3.0187206268310547 m= -5.29962158203125 s2= 0.16242337226867676\n",
      "4199 3.0165255069732666 m= -5.305383205413818 s2= 0.1570516973733902\n",
      "4299 3.026841402053833 m= -5.30428409576416 s2= 0.16488905251026154\n",
      "4399 3.0336716175079346 m= -5.307522296905518 s2= 0.15888044238090515\n",
      "4499 3.025024652481079 m= -5.304327964782715 s2= 0.16207940876483917\n",
      "4599 2.9893527030944824 m= -5.306732177734375 s2= 0.1643633097410202\n",
      "4699 3.040135145187378 m= -5.306642532348633 s2= 0.15702305734157562\n",
      "4799 3.0706448554992676 m= -5.301216125488281 s2= 0.16106753051280975\n",
      "4899 3.046907901763916 m= -5.305947303771973 s2= 0.1574634164571762\n",
      "4999 3.0235915184020996 m= -5.305761814117432 s2= 0.15672793984413147\n",
      "Result: p(x|y) = N(-5.304279327392578, 0.024983322247862816) \n",
      "99 -6.00572395324707 m= -5.048105239868164 s2= 0.21966582536697388\n",
      "199 -5.997984409332275 m= -5.044775009155273 s2= 0.22192353010177612\n",
      "299 -6.025793075561523 m= -5.0462260246276855 s2= 0.22178997099399567\n",
      "399 -6.008333683013916 m= -5.048346996307373 s2= 0.221840500831604\n",
      "499 -6.002214431762695 m= -5.048007488250732 s2= 0.22127224504947662\n",
      "599 -5.987231254577637 m= -5.041340351104736 s2= 0.22217673063278198\n",
      "699 -6.012191295623779 m= -5.0451483726501465 s2= 0.21942749619483948\n",
      "799 -6.033487796783447 m= -5.046777248382568 s2= 0.21909314393997192\n",
      "899 -6.020328521728516 m= -5.049581527709961 s2= 0.22151216864585876\n",
      "999 -6.040810585021973 m= -5.049149036407471 s2= 0.22167015075683594\n",
      "1099 -6.02106237411499 m= -5.047796726226807 s2= 0.22115254402160645\n",
      "1199 -6.0229058265686035 m= -5.04765510559082 s2= 0.2165641337633133\n",
      "1299 -5.990703582763672 m= -5.050013065338135 s2= 0.22269728779792786\n",
      "1399 -5.980937957763672 m= -5.044090747833252 s2= 0.21813027560710907\n",
      "1499 -6.025041580200195 m= -5.046144008636475 s2= 0.21998298168182373\n",
      "1599 -5.968412399291992 m= -5.048966884613037 s2= 0.2201806902885437\n",
      "1699 -5.983504772186279 m= -5.047289848327637 s2= 0.21975116431713104\n",
      "1799 -5.965417861938477 m= -5.042632102966309 s2= 0.22481760382652283\n",
      "1899 -5.975102424621582 m= -5.046374797821045 s2= 0.21616294980049133\n",
      "1999 -6.009239196777344 m= -5.044848442077637 s2= 0.21509969234466553\n",
      "2099 -5.979687213897705 m= -5.048417568206787 s2= 0.22075198590755463\n",
      "2199 -5.98801851272583 m= -5.04200553894043 s2= 0.22348210215568542\n",
      "2299 -6.004659652709961 m= -5.048709392547607 s2= 0.22203345596790314\n",
      "2399 -5.995952606201172 m= -5.045124053955078 s2= 0.21958452463150024\n",
      "2499 -6.008151054382324 m= -5.048408031463623 s2= 0.21674732863903046\n",
      "2599 -6.000178813934326 m= -5.047918319702148 s2= 0.22247889637947083\n",
      "2699 -6.0157270431518555 m= -5.048356533050537 s2= 0.22122181951999664\n",
      "2799 -6.003990173339844 m= -5.049117088317871 s2= 0.2190493643283844\n",
      "2899 -5.986823081970215 m= -5.046821594238281 s2= 0.21877457201480865\n",
      "2999 -6.019826889038086 m= -5.046719074249268 s2= 0.21977074444293976\n"
     ]
    },
    {
     "name": "stdout",
     "output_type": "stream",
     "text": [
      "3099 -6.010993957519531 m= -5.052498817443848 s2= 0.22257761657238007\n",
      "3199 -6.027218818664551 m= -5.0464186668396 s2= 0.21994812786579132\n",
      "3299 -5.9918718338012695 m= -5.051856517791748 s2= 0.2132536768913269\n",
      "3399 -5.9740495681762695 m= -5.049156188964844 s2= 0.21725380420684814\n",
      "3499 -6.023089408874512 m= -5.045276165008545 s2= 0.2181062549352646\n",
      "3599 -5.980152606964111 m= -5.046055793762207 s2= 0.21558819711208344\n",
      "3699 -5.9715118408203125 m= -5.047834396362305 s2= 0.22265970706939697\n",
      "3799 -5.985615253448486 m= -5.051805019378662 s2= 0.2173270881175995\n",
      "3899 -6.015380382537842 m= -5.044151782989502 s2= 0.22186394035816193\n",
      "3999 -6.0001044273376465 m= -5.042818546295166 s2= 0.2183629274368286\n",
      "4099 -6.023193359375 m= -5.04615592956543 s2= 0.21693886816501617\n",
      "4199 -6.018592834472656 m= -5.043289661407471 s2= 0.21814800798892975\n",
      "4299 -5.996284484863281 m= -5.045860290527344 s2= 0.22248022258281708\n",
      "4399 -6.023606300354004 m= -5.046684741973877 s2= 0.21962480247020721\n",
      "4499 -5.992703437805176 m= -5.049017429351807 s2= 0.22240133583545685\n",
      "4599 -6.013545036315918 m= -5.0481157302856445 s2= 0.2179870307445526\n",
      "4699 -6.010630130767822 m= -5.053490161895752 s2= 0.2221222072839737\n",
      "4799 -6.019935607910156 m= -5.044582366943359 s2= 0.21940387785434723\n",
      "4899 -6.0279083251953125 m= -5.04513692855835 s2= 0.2194957584142685\n",
      "4999 -5.981151580810547 m= -5.0471577644348145 s2= 0.2148968130350113\n",
      "Result: p(x|y) = N(-5.048372268676758, 0.04629693552851677) \n",
      "4\n"
     ]
    }
   ],
   "source": [
    "for j,obs_error in enumerate(obs_errors):\n",
    "    #result = minimize(ELBO, [1,1], args = (xx,emulator,y_test,prior_mean,prior_covar,x.columns,obs_error),method = 'Nelder-Mead',tol=1e-6)\n",
    "    #var = scipy.stats.multivariate_normal(mean=(result.x[0]), cov=result.x[1]**2)\n",
    "    #posterior_VI[:,j] = var.pdf(x_test)\n",
    "    \n",
    "    ### initialize the variational parameters\n",
    "    m = torch.full((), 0.,dtype=dtype, requires_grad=True, device=device)\n",
    "    s2 = torch.full((1,),3.,dtype=dtype, requires_grad=True, device=device)\n",
    "\n",
    "\n",
    "    # Samples fixed here - but try adding them into the loop\n",
    "    nsamples = 1000\n",
    "    #Z = torch.randn((nsamples), dtype=dtype, requires_grad=False, device=device)\n",
    "\n",
    "    learning_rate = 1e-2\n",
    "    for t in range(5000):\n",
    "        Z = torch.randn((nsamples), dtype=dtype, requires_grad=False, device=device)\n",
    "        Z=Z[None,:]\n",
    "        #negELBO = -Eloglike(m,log_s2)+KL(log_s2)\n",
    "\n",
    "        #negELBO = ELBO(m,s2,Z,emulator,y_cal[:,None],prior_mean,prior_cov,obs_error)\n",
    "        negELBO = ELBO_fun(m,s2,Z,quad,y_cal[:,None],prior_mean,prior_cov,obs_error)\n",
    "        if t % 100 == 99:\n",
    "            print(t, negELBO.item(), 'm=', m.item(), 's2=', s2.item())\n",
    "\n",
    "        # Use autograd to compute the backward pass. This call will compute the\n",
    "        # gradient of loss with respect to all Tensors with requires_grad=True.\n",
    "        # After this call a.grad, b.grad. c.grad and d.grad will be Tensors holding\n",
    "        # the gradient of the loss with respect to a, b, c, d respectively.\n",
    "        negELBO.backward()\n",
    "\n",
    "        # Manually update weights using gradient descent. Wrap in torch.no_grad()\n",
    "        # because weights have requires_grad=True, but we don't need to track this\n",
    "        # in autograd.\n",
    "        with torch.no_grad():\n",
    "            m -= learning_rate * m.grad\n",
    "            s2 -= learning_rate * s2.grad\n",
    "\n",
    "            # Manually zero the gradients after updating weights\n",
    "            m.grad = None\n",
    "            s2.grad = None\n",
    "\n",
    "    print(f'Result: p(x|y) = N({m.item()}, {torch.pow(s2,2).item()}) ')\n",
    "    \n",
    "    dist = normal.Normal(loc=m, scale=s2)\n",
    "    posterior_VI_fun[:,j] = torch.exp(dist.log_prob(x_test))\n",
    "    \n",
    "    ### initialize the variational parameters\n",
    "    m = torch.full((), 0.,dtype=dtype, requires_grad=True, device=device)\n",
    "    s2 = torch.full((1,),3.,dtype=dtype, requires_grad=True, device=device)\n",
    "    \n",
    "    for t in range(5000):\n",
    "        Z = torch.randn((nsamples), dtype=dtype, requires_grad=False, device=device)\n",
    "        Z=Z[None,:]\n",
    "        #negELBO = -Eloglike(m,log_s2)+KL(log_s2)\n",
    "\n",
    "        negELBO = ELBO(m,s2,Z,emulator,y_cal[:,None],prior_mean,prior_cov,obs_error)\n",
    "        #negELBO = ELBO_fun(m,s2,Z,quad,y_cal[:,None],prior_mean,prior_cov,obs_error)\n",
    "        if t % 100 == 99:\n",
    "            print(t, negELBO.item(), 'm=', m.item(), 's2=', s2.item())\n",
    "\n",
    "        # Use autograd to compute the backward pass. This call will compute the\n",
    "        # gradient of loss with respect to all Tensors with requires_grad=True.\n",
    "        # After this call a.grad, b.grad. c.grad and d.grad will be Tensors holding\n",
    "        # the gradient of the loss with respect to a, b, c, d respectively.\n",
    "        negELBO.backward()\n",
    "\n",
    "        # Manually update weights using gradient descent. Wrap in torch.no_grad()\n",
    "        # because weights have requires_grad=True, but we don't need to track this\n",
    "        # in autograd.\n",
    "        with torch.no_grad():\n",
    "            m -= learning_rate * m.grad\n",
    "            s2 -= learning_rate * s2.grad\n",
    "\n",
    "            # Manually zero the gradients after updating weights\n",
    "            m.grad = None\n",
    "            s2.grad = None\n",
    "\n",
    "    print(f'Result: p(x|y) = N({m.item()}, {torch.pow(s2,2).item()}) ')\n",
    "    \n",
    "    dist = normal.Normal(loc=m, scale=s2)\n",
    "    posterior_VI[:,j] = torch.exp(dist.log_prob(x_test))\n",
    "    \n",
    "    likelihood = torch.prod(torch.exp(emulator.ensemble_log_likelihood_obs_error(x_test,y_cal[:,None],obs_error)),axis=0)\n",
    "    posterior_GPE[:,j] = likelihood*val_prior / (torch.sum(likelihood*val_prior)*dx)\n",
    "    \n",
    "    true_likelihood= f_likelihood(x_test,y_cal,quad,obs_error)\n",
    "    true_likelihood=torch.exp(true_likelihood)\n",
    "    posterior_True[:,j] = (true_likelihood.squeeze()*val_prior / (torch.sum(true_likelihood.squeeze()*val_prior)*dx)).T\n",
    "    \n",
    "    print(j)\n",
    "    \n",
    "    "
   ]
  },
  {
   "cell_type": "code",
   "execution_count": 46,
   "id": "d01418bd",
   "metadata": {},
   "outputs": [],
   "source": [
    "l = obs_errors.tolist()\n",
    "l.append('prior')"
   ]
  },
  {
   "cell_type": "code",
   "execution_count": 47,
   "id": "1684ca74",
   "metadata": {},
   "outputs": [
    {
     "data": {
      "text/plain": [
       "<matplotlib.legend.Legend at 0x2b1f347d0>"
      ]
     },
     "execution_count": 47,
     "metadata": {},
     "output_type": "execute_result"
    },
    {
     "data": {
      "image/png": "[encoded data removed]",
      "text/plain": [
       "<Figure size 640x480 with 1 Axes>"
      ]
     },
     "metadata": {},
     "output_type": "display_data"
    }
   ],
   "source": [
    "plt.plot(x_test.detach().numpy(),posterior_True.detach().numpy())\n",
    "plt.plot(x_test.detach().numpy(),val_prior.detach().numpy())\n",
    "plt.legend(l)"
   ]
  },
  {
   "cell_type": "code",
   "execution_count": 48,
   "id": "c1c8caa1",
   "metadata": {},
   "outputs": [
    {
     "data": {
      "text/plain": [
       "<matplotlib.legend.Legend at 0x2b210a990>"
      ]
     },
     "execution_count": 48,
     "metadata": {},
     "output_type": "execute_result"
    },
    {
     "data": {
      "image/png": "[encoded data removed]",
      "text/plain": [
       "<Figure size 640x480 with 1 Axes>"
      ]
     },
     "metadata": {},
     "output_type": "display_data"
    }
   ],
   "source": [
    "plt.plot(x_test.detach().numpy(),posterior_GPE.detach().numpy())\n",
    "plt.plot(x_test.detach().numpy(),val_prior.detach().numpy())\n",
    "plt.legend(l)"
   ]
  },
  {
   "cell_type": "code",
   "execution_count": 49,
   "id": "c5f1509c",
   "metadata": {
    "scrolled": false
   },
   "outputs": [
    {
     "data": {
      "text/plain": [
       "<matplotlib.legend.Legend at 0x2b1f864d0>"
      ]
     },
     "execution_count": 49,
     "metadata": {},
     "output_type": "execute_result"
    },
    {
     "data": {
      "image/png": "[encoded data removed]",
      "text/plain": [
       "<Figure size 640x480 with 1 Axes>"
      ]
     },
     "metadata": {},
     "output_type": "display_data"
    }
   ],
   "source": [
    "plt.plot(x_test.detach().numpy(),posterior_VI.detach().numpy())\n",
    "plt.plot(x_test.detach().numpy(),val_prior.detach().numpy())\n",
    "plt.legend(l)"
   ]
  },
  {
   "cell_type": "code",
   "execution_count": 50,
   "id": "b45f5c6e",
   "metadata": {},
   "outputs": [
    {
     "data": {
      "text/plain": [
       "<matplotlib.legend.Legend at 0x2b2228550>"
      ]
     },
     "execution_count": 50,
     "metadata": {},
     "output_type": "execute_result"
    },
    {
     "data": {
      "image/png": "[encoded data removed]",
      "text/plain": [
       "<Figure size 640x480 with 1 Axes>"
      ]
     },
     "metadata": {},
     "output_type": "display_data"
    }
   ],
   "source": [
    "plt.plot(x_test.detach().numpy(),posterior_VI_fun.detach().numpy())\n",
    "plt.plot(x_test.detach().numpy(),val_prior.detach().numpy())\n",
    "plt.legend(l)"
   ]
  },
  {
   "cell_type": "markdown",
   "id": "f63a6c72",
   "metadata": {},
   "source": [
    "# $y=bx$"
   ]
  },
  {
   "cell_type": "markdown",
   "id": "9998ed92",
   "metadata": {},
   "source": [
    "$y=bx+\\epsilon$\n",
    "\n",
    "$y|x \\sim N(bx,\\sigma^2)$\n",
    "\n",
    "$x \\sim N(\\mu_0,\\sigma_0^2)$\n",
    "\n",
    "Then\n",
    "\n",
    "$x|y \\sim N(\\mu_p,\\sigma_p^2)$\n",
    "\n",
    "where\n",
    "\n",
    "$\\mu_p = \\frac{\\sigma_0^2by+\\sigma^2\\mu_0}{\\sigma_0^2b^2+\\sigma^2}$\n",
    "\n",
    "and\n",
    "\n",
    "$\\sigma_p^2 = \\frac{2\\sigma_0^2\\sigma^2}{\\sigma_0^2b^2+\\sigma^2}$"
   ]
  },
  {
   "cell_type": "code",
   "execution_count": null,
   "id": "7cb8edc9",
   "metadata": {},
   "outputs": [],
   "source": []
  },
  {
   "cell_type": "code",
   "execution_count": null,
   "id": "c2e208a0",
   "metadata": {},
   "outputs": [],
   "source": []
  },
  {
   "cell_type": "code",
   "execution_count": 51,
   "id": "5e5881b9",
   "metadata": {},
   "outputs": [],
   "source": [
    "p=3"
   ]
  },
  {
   "cell_type": "code",
   "execution_count": 52,
   "id": "f0e88643",
   "metadata": {},
   "outputs": [],
   "source": [
    "rl = -10\n",
    "ru=20"
   ]
  },
  {
   "cell_type": "code",
   "execution_count": 53,
   "id": "611ceab5",
   "metadata": {},
   "outputs": [],
   "source": [
    "obs_error = 0.001"
   ]
  },
  {
   "cell_type": "code",
   "execution_count": 54,
   "id": "eec77c3f",
   "metadata": {},
   "outputs": [],
   "source": [
    "x=torch.linspace(rl,ru,p)"
   ]
  },
  {
   "cell_type": "code",
   "execution_count": 55,
   "id": "37df0575",
   "metadata": {},
   "outputs": [],
   "source": [
    "b=0.5"
   ]
  },
  {
   "cell_type": "code",
   "execution_count": 56,
   "id": "f4fba6bd",
   "metadata": {},
   "outputs": [],
   "source": [
    "def lin(x):\n",
    "    y = b*x\n",
    "    return y"
   ]
  },
  {
   "cell_type": "code",
   "execution_count": 57,
   "id": "46fbd048",
   "metadata": {},
   "outputs": [],
   "source": [
    "y = lin(x) "
   ]
  },
  {
   "cell_type": "code",
   "execution_count": 58,
   "id": "c890076a",
   "metadata": {},
   "outputs": [
    {
     "data": {
      "text/plain": [
       "[<matplotlib.lines.Line2D at 0x2b21a8850>]"
      ]
     },
     "execution_count": 58,
     "metadata": {},
     "output_type": "execute_result"
    },
    {
     "data": {
      "image/png": "[encoded data removed]",
      "text/plain": [
       "<Figure size 640x480 with 1 Axes>"
      ]
     },
     "metadata": {},
     "output_type": "display_data"
    }
   ],
   "source": [
    "plt.plot(x.detach().numpy(),y.detach().numpy(),'o')"
   ]
  },
  {
   "cell_type": "code",
   "execution_count": null,
   "id": "cf98ad1e",
   "metadata": {},
   "outputs": [],
   "source": []
  },
  {
   "cell_type": "code",
   "execution_count": 59,
   "id": "26a99b64",
   "metadata": {},
   "outputs": [
    {
     "name": "stdout",
     "output_type": "stream",
     "text": [
      "0\n"
     ]
    }
   ],
   "source": [
    "emulator = GPE.ensemble(x[:,None],y[:,None],mean_func=\"linear\",training_iter=500)"
   ]
  },
  {
   "cell_type": "code",
   "execution_count": 60,
   "id": "4a0829ef",
   "metadata": {},
   "outputs": [],
   "source": [
    "tp = 500\n",
    "dx = (ru-rl)/tp\n",
    "x_test = torch.linspace(ru,rl,tp)\n"
   ]
  },
  {
   "cell_type": "code",
   "execution_count": 61,
   "id": "61e630ae",
   "metadata": {
    "scrolled": true
   },
   "outputs": [
    {
     "data": {
      "text/plain": [
       "<matplotlib.lines.Line2D at 0x2b2386a90>"
      ]
     },
     "execution_count": 61,
     "metadata": {},
     "output_type": "execute_result"
    },
    {
     "data": {
      "image/png": "[encoded data removed]",
      "text/plain": [
       "<Figure size 640x480 with 1 Axes>"
      ]
     },
     "metadata": {},
     "output_type": "display_data"
    }
   ],
   "source": [
    "plt.plot(x_test,emulator.predict(x_test).detach().numpy())\n",
    "plt.axhline(y=3, color='r', linestyle='-',xmax=0.53)\n",
    "plt.axvline(x=6, color='r', linestyle='-',ymax=0.53)"
   ]
  },
  {
   "cell_type": "code",
   "execution_count": null,
   "id": "6e698c3d",
   "metadata": {},
   "outputs": [],
   "source": []
  },
  {
   "cell_type": "code",
   "execution_count": 62,
   "id": "3ef3bc08",
   "metadata": {},
   "outputs": [],
   "source": [
    "prior_mean=torch.tensor([0])\n",
    "prior_cov = torch.tensor([1])*torch.eye(1)\n",
    "obs_error = torch.tensor([0.001])\n",
    "y_cal = torch.tensor([3])"
   ]
  },
  {
   "cell_type": "code",
   "execution_count": 63,
   "id": "59073ffb",
   "metadata": {
    "scrolled": true
   },
   "outputs": [
    {
     "name": "stdout",
     "output_type": "stream",
     "text": [
      "99 4360.69140625 m= 5.951601028442383 s2= 61.77837371826172\n",
      "199 31.21879768371582 m= 5.957568168640137 s2= 0.3325572907924652\n",
      "299 10.867439270019531 m= 5.95381498336792 s2= 0.004293160047382116\n",
      "399 11.037919998168945 m= 5.938349723815918 s2= 0.0158676840364933\n",
      "499 11.402153968811035 m= 5.959062099456787 s2= 0.02157672867178917\n",
      "599 12.11782169342041 m= 5.959324359893799 s2= 0.03956368565559387\n",
      "699 12.26140022277832 m= 5.972078800201416 s2= 0.0001558186049805954\n",
      "799 11.837945938110352 m= 5.955815315246582 s2= 0.0003605231468100101\n",
      "899 23.727807998657227 m= 6.123908996582031 s2= 0.1843389868736267\n",
      "999 12.466516494750977 m= 5.974445819854736 s2= 0.04161003977060318\n",
      "Result: p(x|y) = N(5.9434123039245605, 0.0016803336329758167) \n"
     ]
    }
   ],
   "source": [
    "### initialize the variational parameters\n",
    "m = torch.full((), 1.,dtype=dtype, requires_grad=True, device=device)\n",
    "s2 = torch.full((1,),3.,dtype=dtype, requires_grad=True, device=device)\n",
    "\n",
    "\n",
    "# Samples fixed here - but try adding them into the loop\n",
    "nsamples = 1000\n",
    "#Z = torch.randn((nsamples), dtype=dtype, requires_grad=False, device=device)\n",
    "\n",
    "learning_rate = 1e-2\n",
    "for t in range(1000):\n",
    "    Z = torch.randn((nsamples), dtype=dtype, requires_grad=False, device=device)\n",
    "    Z=Z[None,:]\n",
    "    #negELBO = -Eloglike(m,log_s2)+KL(log_s2)\n",
    "    \n",
    "    negELBO = ELBO(m,s2,Z,emulator,y_cal[:,None],prior_mean,prior_cov,obs_error)\n",
    "    \n",
    "    if t % 100 == 99:\n",
    "        print(t, negELBO.item(), 'm=', m.item(), 's2=', s2.pow(2).item())\n",
    "    \n",
    "    # Use autograd to compute the backward pass. This call will compute the\n",
    "    # gradient of loss with respect to all Tensors with requires_grad=True.\n",
    "    # After this call a.grad, b.grad. c.grad and d.grad will be Tensors holding\n",
    "    # the gradient of the loss with respect to a, b, c, d respectively.\n",
    "    negELBO.backward()\n",
    "\n",
    "    # Manually update weights using gradient descent. Wrap in torch.no_grad()\n",
    "    # because weights have requires_grad=True, but we don't need to track this\n",
    "    # in autograd.\n",
    "    with torch.no_grad():\n",
    "        m -= learning_rate * m.grad\n",
    "        s2 -= learning_rate * s2.grad\n",
    "        \n",
    "        # Manually zero the gradients after updating weights\n",
    "        m.grad = None\n",
    "        s2.grad = None\n",
    "        \n",
    "print(f'Result: p(x|y) = N({m.item()}, {torch.pow(s2,2).item()}) ')"
   ]
  },
  {
   "cell_type": "code",
   "execution_count": 64,
   "id": "e080d405",
   "metadata": {},
   "outputs": [],
   "source": [
    "dist = normal.Normal(loc=m, scale=s2)\n",
    "val = torch.exp(dist.log_prob(x_test))"
   ]
  },
  {
   "cell_type": "code",
   "execution_count": 65,
   "id": "f49189ca",
   "metadata": {
    "scrolled": true
   },
   "outputs": [],
   "source": [
    "likelihood = torch.exp(emulator.ensemble_log_likelihood_obs_error(x_test,y_cal[:,None],obs_error))"
   ]
  },
  {
   "cell_type": "code",
   "execution_count": 66,
   "id": "5a40c0a9",
   "metadata": {},
   "outputs": [
    {
     "data": {
      "text/plain": [
       "tensor([0])"
      ]
     },
     "execution_count": 66,
     "metadata": {},
     "output_type": "execute_result"
    }
   ],
   "source": [
    "prior_mean"
   ]
  },
  {
   "cell_type": "code",
   "execution_count": 67,
   "id": "bcda7438",
   "metadata": {},
   "outputs": [],
   "source": [
    "dist_prior = normal.Normal(loc=prior_mean, scale=torch.sqrt(torch.tensor([5])))\n",
    "val_prior = torch.exp(dist_prior.log_prob(x_test))"
   ]
  },
  {
   "cell_type": "code",
   "execution_count": 82,
   "id": "767e4768",
   "metadata": {},
   "outputs": [],
   "source": [
    "obs_errors = torch.tensor([10,1,0.1,0.01,0.001])\n",
    "posterior_GPE = torch.zeros((x_test.shape[0],obs_errors.shape[0]))\n",
    "posterior_VI = torch.zeros((x_test.shape[0],obs_errors.shape[0]))\n",
    "posterior_True = torch.zeros((x_test.shape[0],obs_errors.shape[0]))\n",
    "posterior_Numerical = torch.zeros((x_test.shape[0],obs_errors.shape[0]))"
   ]
  },
  {
   "cell_type": "code",
   "execution_count": null,
   "id": "8969f9d3",
   "metadata": {},
   "outputs": [],
   "source": []
  },
  {
   "cell_type": "code",
   "execution_count": 83,
   "id": "6ba265bf",
   "metadata": {},
   "outputs": [
    {
     "name": "stdout",
     "output_type": "stream",
     "text": [
      "99 4.109880447387695 m= 0.45329928398132324 s2= 2.031651735305786\n",
      "199 3.9464011192321777 m= 0.2562068998813629 s2= 1.110605239868164\n",
      "299 3.9103426933288574 m= 0.18034496903419495 s2= 0.9862316250801086\n",
      "399 3.915146827697754 m= 0.16054587066173553 s2= 0.9806097745895386\n",
      "499 3.9112186431884766 m= 0.14862342178821564 s2= 0.9739587306976318\n",
      "599 3.9414055347442627 m= 0.14422941207885742 s2= 0.9758487939834595\n",
      "699 3.8733081817626953 m= 0.14896368980407715 s2= 0.9785605072975159\n",
      "799 3.9075491428375244 m= 0.14894314110279083 s2= 0.976706326007843\n",
      "899 3.9087934494018555 m= 0.1482669860124588 s2= 0.9880222678184509\n",
      "999 3.911435604095459 m= 0.14568641781806946 s2= 0.9753726720809937\n",
      "Result: p(x|y) = N(0.14561451971530914, 0.9750983715057373) \n",
      "0\n",
      "99 3.806480884552002 m= 1.1365238428115845 s2= 1.471540093421936\n",
      "199 3.6972103118896484 m= 1.1805331707000732 s2= 0.8526724576950073\n",
      "299 3.7016711235046387 m= 1.1919444799423218 s2= 0.8049394488334656\n",
      "399 3.7033605575561523 m= 1.196243405342102 s2= 0.7963781356811523\n",
      "499 3.6853973865509033 m= 1.1979584693908691 s2= 0.7983649969100952\n",
      "599 3.697997808456421 m= 1.1984896659851074 s2= 0.8041594624519348\n",
      "699 3.693659782409668 m= 1.1947083473205566 s2= 0.8040754199028015\n",
      "799 3.706907272338867 m= 1.1954585313796997 s2= 0.804125964641571\n",
      "899 3.6957387924194336 m= 1.1977758407592773 s2= 0.7986149191856384\n",
      "999 3.6928436756134033 m= 1.1987833976745605 s2= 0.8055433630943298\n",
      "Result: p(x|y) = N(1.1986935138702393, 0.8058600425720215) \n",
      "1\n",
      "99 9.99862289428711 m= 4.174323558807373 s2= 0.29381102323532104\n",
      "199 9.96497917175293 m= 4.273009300231934 s2= 0.2872585654258728\n",
      "299 9.989516258239746 m= 4.268587589263916 s2= 0.2877418100833893\n",
      "399 9.98973274230957 m= 4.274243354797363 s2= 0.28432318568229675\n",
      "499 10.013749122619629 m= 4.274031162261963 s2= 0.29222387075424194\n",
      "599 9.985319137573242 m= 4.27495002746582 s2= 0.2875884175300598\n",
      "699 9.955446243286133 m= 4.275489807128906 s2= 0.2848113179206848\n",
      "799 10.034844398498535 m= 4.273824214935303 s2= 0.28676220774650574\n",
      "899 9.99680233001709 m= 4.271178245544434 s2= 0.2890406548976898\n",
      "999 9.961478233337402 m= 4.269111156463623 s2= 0.2871338725090027\n",
      "Result: p(x|y) = N(4.268481731414795, 0.2885437309741974) \n",
      "2\n",
      "99 12.04249095916748 m= 5.745728492736816 s2= 0.04010314866900444\n",
      "199 12.034561157226562 m= 5.751196384429932 s2= 0.04228704050183296\n",
      "299 12.04840087890625 m= 5.749659538269043 s2= 0.040475472807884216\n",
      "399 11.97031021118164 m= 5.748348236083984 s2= 0.0408964678645134\n",
      "499 12.020133972167969 m= 5.74770975112915 s2= 0.040688011795282364\n",
      "599 12.067344665527344 m= 5.749942779541016 s2= 0.040763046592473984\n",
      "699 12.01871395111084 m= 5.751887798309326 s2= 0.04222461208701134\n",
      "799 12.046809196472168 m= 5.751206874847412 s2= 0.040361516177654266\n",
      "899 12.076931953430176 m= 5.751965522766113 s2= 0.04345455393195152\n",
      "999 12.024666786193848 m= 5.751800537109375 s2= 0.04081984981894493\n",
      "Result: p(x|y) = N(5.752272605895996, 0.04166961833834648) \n",
      "3\n",
      "99 13.022172927856445 m= 5.9631452560424805 s2= 3.2533072953810915e-05\n",
      "199 11.610377311706543 m= 5.947665214538574 s2= 0.024481242522597313\n",
      "299 16.519689559936523 m= 5.932328224182129 s2= 0.10249443352222443\n",
      "399 11.952943801879883 m= 5.937617778778076 s2= 0.03308632969856262\n",
      "499 15.966772079467773 m= 5.954235553741455 s2= 0.0950038880109787\n",
      "599 11.268888473510742 m= 5.955316066741943 s2= 0.0012902839807793498\n",
      "699 10.981809616088867 m= 5.944987773895264 s2= 0.00310117588378489\n",
      "799 20.58750343322754 m= 6.035224914550781 s2= 0.1679023802280426\n",
      "899 12.975712776184082 m= 5.951769828796387 s2= 0.05247604474425316\n",
      "999 13.972766876220703 m= 5.9527716636657715 s2= 0.07117431610822678\n",
      "Result: p(x|y) = N(5.955209732055664, 0.0031021053437143564) \n"
     ]
    },
    {
     "ename": "ValueError",
     "evalue": "Expected parameter scale (Tensor of shape (1,)) of distribution Normal(loc: tensor([5.9552], grad_fn=<ExpandBackward0>), scale: tensor([-0.0557], requires_grad=True)) to satisfy the constraint GreaterThan(lower_bound=0.0), but found invalid values:\ntensor([-0.0557], requires_grad=True)",
     "output_type": "error",
     "traceback": [
      "\u001b[0;31m---------------------------------------------------------------------------\u001b[0m",
      "\u001b[0;31mValueError\u001b[0m                                Traceback (most recent call last)",
      "Cell \u001b[0;32mIn[83], line 45\u001b[0m\n\u001b[1;32m     41\u001b[0m         s2\u001b[38;5;241m.\u001b[39mgrad \u001b[38;5;241m=\u001b[39m \u001b[38;5;28;01mNone\u001b[39;00m\n\u001b[1;32m     43\u001b[0m \u001b[38;5;28mprint\u001b[39m(\u001b[38;5;124mf\u001b[39m\u001b[38;5;124m'\u001b[39m\u001b[38;5;124mResult: p(x|y) = N(\u001b[39m\u001b[38;5;132;01m{\u001b[39;00mm\u001b[38;5;241m.\u001b[39mitem()\u001b[38;5;132;01m}\u001b[39;00m\u001b[38;5;124m, \u001b[39m\u001b[38;5;132;01m{\u001b[39;00mtorch\u001b[38;5;241m.\u001b[39mpow(s2,\u001b[38;5;241m2\u001b[39m)\u001b[38;5;241m.\u001b[39mitem()\u001b[38;5;132;01m}\u001b[39;00m\u001b[38;5;124m) \u001b[39m\u001b[38;5;124m'\u001b[39m)\n\u001b[0;32m---> 45\u001b[0m dist \u001b[38;5;241m=\u001b[39m normal\u001b[38;5;241m.\u001b[39mNormal(loc\u001b[38;5;241m=\u001b[39mm, scale\u001b[38;5;241m=\u001b[39ms2)\n\u001b[1;32m     46\u001b[0m posterior_VI[:,j] \u001b[38;5;241m=\u001b[39m torch\u001b[38;5;241m.\u001b[39mexp(dist\u001b[38;5;241m.\u001b[39mlog_prob(x_test))\n\u001b[1;32m     49\u001b[0m posterior_mean \u001b[38;5;241m=\u001b[39m (prior_cov\u001b[38;5;241m/\u001b[39m(prior_cov\u001b[38;5;241m*\u001b[39m(b\u001b[38;5;241m*\u001b[39m\u001b[38;5;241m*\u001b[39m\u001b[38;5;241m2\u001b[39m)\u001b[38;5;241m+\u001b[39mobs_error))\u001b[38;5;241m*\u001b[39mb\u001b[38;5;241m*\u001b[39my_cal\n",
      "File \u001b[0;32m~/anaconda3/lib/python3.11/site-packages/torch/distributions/normal.py:56\u001b[0m, in \u001b[0;36mNormal.__init__\u001b[0;34m(self, loc, scale, validate_args)\u001b[0m\n\u001b[1;32m     54\u001b[0m \u001b[38;5;28;01melse\u001b[39;00m:\n\u001b[1;32m     55\u001b[0m     batch_shape \u001b[38;5;241m=\u001b[39m \u001b[38;5;28mself\u001b[39m\u001b[38;5;241m.\u001b[39mloc\u001b[38;5;241m.\u001b[39msize()\n\u001b[0;32m---> 56\u001b[0m \u001b[38;5;28msuper\u001b[39m()\u001b[38;5;241m.\u001b[39m\u001b[38;5;21m__init__\u001b[39m(batch_shape, validate_args\u001b[38;5;241m=\u001b[39mvalidate_args)\n",
      "File \u001b[0;32m~/anaconda3/lib/python3.11/site-packages/torch/distributions/distribution.py:68\u001b[0m, in \u001b[0;36mDistribution.__init__\u001b[0;34m(self, batch_shape, event_shape, validate_args)\u001b[0m\n\u001b[1;32m     66\u001b[0m         valid \u001b[38;5;241m=\u001b[39m constraint\u001b[38;5;241m.\u001b[39mcheck(value)\n\u001b[1;32m     67\u001b[0m         \u001b[38;5;28;01mif\u001b[39;00m \u001b[38;5;129;01mnot\u001b[39;00m valid\u001b[38;5;241m.\u001b[39mall():\n\u001b[0;32m---> 68\u001b[0m             \u001b[38;5;28;01mraise\u001b[39;00m \u001b[38;5;167;01mValueError\u001b[39;00m(\n\u001b[1;32m     69\u001b[0m                 \u001b[38;5;124mf\u001b[39m\u001b[38;5;124m\"\u001b[39m\u001b[38;5;124mExpected parameter \u001b[39m\u001b[38;5;132;01m{\u001b[39;00mparam\u001b[38;5;132;01m}\u001b[39;00m\u001b[38;5;124m \u001b[39m\u001b[38;5;124m\"\u001b[39m\n\u001b[1;32m     70\u001b[0m                 \u001b[38;5;124mf\u001b[39m\u001b[38;5;124m\"\u001b[39m\u001b[38;5;124m(\u001b[39m\u001b[38;5;132;01m{\u001b[39;00m\u001b[38;5;28mtype\u001b[39m(value)\u001b[38;5;241m.\u001b[39m\u001b[38;5;18m__name__\u001b[39m\u001b[38;5;132;01m}\u001b[39;00m\u001b[38;5;124m of shape \u001b[39m\u001b[38;5;132;01m{\u001b[39;00m\u001b[38;5;28mtuple\u001b[39m(value\u001b[38;5;241m.\u001b[39mshape)\u001b[38;5;132;01m}\u001b[39;00m\u001b[38;5;124m) \u001b[39m\u001b[38;5;124m\"\u001b[39m\n\u001b[1;32m     71\u001b[0m                 \u001b[38;5;124mf\u001b[39m\u001b[38;5;124m\"\u001b[39m\u001b[38;5;124mof distribution \u001b[39m\u001b[38;5;132;01m{\u001b[39;00m\u001b[38;5;28mrepr\u001b[39m(\u001b[38;5;28mself\u001b[39m)\u001b[38;5;132;01m}\u001b[39;00m\u001b[38;5;124m \u001b[39m\u001b[38;5;124m\"\u001b[39m\n\u001b[1;32m     72\u001b[0m                 \u001b[38;5;124mf\u001b[39m\u001b[38;5;124m\"\u001b[39m\u001b[38;5;124mto satisfy the constraint \u001b[39m\u001b[38;5;132;01m{\u001b[39;00m\u001b[38;5;28mrepr\u001b[39m(constraint)\u001b[38;5;132;01m}\u001b[39;00m\u001b[38;5;124m, \u001b[39m\u001b[38;5;124m\"\u001b[39m\n\u001b[1;32m     73\u001b[0m                 \u001b[38;5;124mf\u001b[39m\u001b[38;5;124m\"\u001b[39m\u001b[38;5;124mbut found invalid values:\u001b[39m\u001b[38;5;130;01m\\n\u001b[39;00m\u001b[38;5;132;01m{\u001b[39;00mvalue\u001b[38;5;132;01m}\u001b[39;00m\u001b[38;5;124m\"\u001b[39m\n\u001b[1;32m     74\u001b[0m             )\n\u001b[1;32m     75\u001b[0m \u001b[38;5;28msuper\u001b[39m()\u001b[38;5;241m.\u001b[39m\u001b[38;5;21m__init__\u001b[39m()\n",
      "\u001b[0;31mValueError\u001b[0m: Expected parameter scale (Tensor of shape (1,)) of distribution Normal(loc: tensor([5.9552], grad_fn=<ExpandBackward0>), scale: tensor([-0.0557], requires_grad=True)) to satisfy the constraint GreaterThan(lower_bound=0.0), but found invalid values:\ntensor([-0.0557], requires_grad=True)"
     ]
    }
   ],
   "source": [
    "for j,obs_error in enumerate(obs_errors):\n",
    "    #result = minimize(ELBO, [1,1], args = (xx,emulator,y_test,prior_mean,prior_covar,x.columns,obs_error),method = 'Nelder-Mead',tol=1e-6)\n",
    "    #var = scipy.stats.multivariate_normal(mean=(result.x[0]), cov=result.x[1]**2)\n",
    "    #posterior_VI[:,j] = var.pdf(x_test)\n",
    "    \n",
    "    ### initialize the variational parameters\n",
    "    m = torch.full((), 1.,dtype=dtype, requires_grad=True, device=device)\n",
    "    s2 = torch.full((1,),3.,dtype=dtype, requires_grad=True, device=device)\n",
    "\n",
    "\n",
    "    # Samples fixed here - but try adding them into the loop\n",
    "    nsamples = 1000\n",
    "    #Z = torch.randn((nsamples), dtype=dtype, requires_grad=False, device=device)\n",
    "\n",
    "    learning_rate = 1e-2\n",
    "    for t in range(1000):\n",
    "        Z = torch.randn((nsamples), dtype=dtype, requires_grad=False, device=device)\n",
    "        Z=Z[None,:]\n",
    "        #negELBO = -Eloglike(m,log_s2)+KL(log_s2)\n",
    "\n",
    "        negELBO = ELBO(m,s2,Z,emulator,y_cal[:,None],prior_mean,prior_cov,obs_error)\n",
    "\n",
    "        if t % 100 == 99:\n",
    "            print(t, negELBO.item(), 'm=', m.item(), 's2=', s2.pow(2).item())\n",
    "\n",
    "        # Use autograd to compute the backward pass. This call will compute the\n",
    "        # gradient of loss with respect to all Tensors with requires_grad=True.\n",
    "        # After this call a.grad, b.grad. c.grad and d.grad will be Tensors holding\n",
    "        # the gradient of the loss with respect to a, b, c, d respectively.\n",
    "        negELBO.backward()\n",
    "\n",
    "        # Manually update weights using gradient descent. Wrap in torch.no_grad()\n",
    "        # because weights have requires_grad=True, but we don't need to track this\n",
    "        # in autograd.\n",
    "        with torch.no_grad():\n",
    "            m -= learning_rate * m.grad\n",
    "            s2 -= learning_rate * s2.grad\n",
    "\n",
    "            # Manually zero the gradients after updating weights\n",
    "            m.grad = None\n",
    "            s2.grad = None\n",
    "\n",
    "    print(f'Result: p(x|y) = N({m.item()}, {torch.pow(s2,2).item()}) ')\n",
    "    \n",
    "    dist = normal.Normal(loc=m, scale=s2)\n",
    "    posterior_VI[:,j] = torch.exp(dist.log_prob(x_test))\n",
    "    \n",
    "    \n",
    "    posterior_mean = (prior_cov/(prior_cov*(b**2)+obs_error))*b*y_cal\n",
    "    posterior_cov = obs_error*prior_cov/(prior_cov*b**2 + obs_error)\n",
    "    \n",
    "    dist_posterior = normal.Normal(loc=posterior_mean, scale=np.sqrt(posterior_cov))\n",
    "    posterior_True[:,j] = torch.exp(dist_posterior.log_prob(x_test))\n",
    "    \n",
    "    \n",
    "    likelihood = torch.prod(torch.exp(emulator.ensemble_log_likelihood_obs_error(x_test,y_cal[:,None],obs_error)),axis=0)\n",
    "    posterior_GPE[:,j] = likelihood*val_prior / (torch.sum(likelihood*val_prior)*dx)\n",
    "    \n",
    "    true_likelihood= f_likelihood(x_test,y_cal,lin,obs_error)\n",
    "    true_likelihood=torch.exp(true_likelihood)\n",
    "    posterior_Numerical[:,j] = (true_likelihood.squeeze()*val_prior / (torch.sum(true_likelihood.squeeze()*val_prior)*dx)).T\n",
    "    \n",
    "    print(j)\n",
    "    \n",
    "    "
   ]
  },
  {
   "cell_type": "code",
   "execution_count": null,
   "id": "dc705a30",
   "metadata": {},
   "outputs": [],
   "source": [
    "l = obs_errors.tolist()\n",
    "l.append('prior')"
   ]
  },
  {
   "cell_type": "code",
   "execution_count": null,
   "id": "14384a77",
   "metadata": {},
   "outputs": [],
   "source": [
    "plt.plot(x_test.detach().numpy(),posterior_Numerical.detach().numpy())\n",
    "plt.plot(x_test.detach().numpy(),val_prior.detach().numpy())\n",
    "plt.legend(l)"
   ]
  },
  {
   "cell_type": "code",
   "execution_count": null,
   "id": "6600bab1",
   "metadata": {},
   "outputs": [],
   "source": [
    "plt.plot(x_test.detach().numpy(),posterior_True.detach().numpy())\n",
    "plt.plot(x_test.detach().numpy(),val_prior.detach().numpy())\n",
    "plt.legend(l)"
   ]
  },
  {
   "cell_type": "code",
   "execution_count": null,
   "id": "056c7c7b",
   "metadata": {},
   "outputs": [],
   "source": [
    "plt.plot(x_test.detach().numpy(),posterior_GPE.detach().numpy())\n",
    "plt.plot(x_test.detach().numpy(),val_prior.detach().numpy())\n",
    "plt.legend(l)"
   ]
  },
  {
   "cell_type": "code",
   "execution_count": null,
   "id": "97127583",
   "metadata": {
    "scrolled": false
   },
   "outputs": [],
   "source": [
    "plt.plot(x_test.detach().numpy(),posterior_VI.detach().numpy())\n",
    "plt.plot(x_test.detach().numpy(),val_prior.detach().numpy())\n",
    "plt.legend(l)"
   ]
  },
  {
   "cell_type": "code",
   "execution_count": null,
   "id": "6661fb6e",
   "metadata": {
    "scrolled": true
   },
   "outputs": [],
   "source": [
    "ref = 2\n",
    "plt.plot(x_test.detach().numpy(),posterior_True[:,ref].detach().numpy())\n",
    "plt.plot(x_test.detach().numpy(),posterior_Numerical[:,ref].detach().numpy())\n",
    "plt.plot(x_test.detach().numpy(),posterior_VI[:,ref].detach().numpy())\n",
    "plt.plot(x_test.detach().numpy(),posterior_GPE[:,ref].detach().numpy())\n",
    "plt.plot(x_test.detach().numpy(),val_prior.detach().numpy())\n",
    "plt.legend(['true','numerical','VI','GPE','prior'])"
   ]
  },
  {
   "cell_type": "code",
   "execution_count": null,
   "id": "f161c9a0",
   "metadata": {},
   "outputs": [],
   "source": [
    "def acceptance(y,x,x_prime,sigma2): # Log acceptance for stability\n",
    "    ratio = (-0.5*x_prime**2-0.5*(1/sigma2)*(b*x_prime-y)**2)-(-0.5*x**2-0.5*(1/sigma2)*(b*x-y)**2)\n",
    "    alpha = np.min((0,ratio))\n",
    "    return alpha"
   ]
  },
  {
   "cell_type": "code",
   "execution_count": null,
   "id": "a180dd94",
   "metadata": {},
   "outputs": [],
   "source": [
    "acceptance(0,1,2,1)"
   ]
  },
  {
   "cell_type": "code",
   "execution_count": null,
   "id": "701f9d82",
   "metadata": {},
   "outputs": [],
   "source": [
    "np.random.uniform()"
   ]
  },
  {
   "cell_type": "code",
   "execution_count": null,
   "id": "5b6a6114",
   "metadata": {},
   "outputs": [],
   "source": [
    "def metrop(y,x0,sigma2_mc,sigma2,iters):\n",
    "    chain = np.zeros(iters+1) #Initialise markov chain\n",
    "    chain[0]=x0 #set x0 as first element\n",
    "    for i in range(iters):\n",
    "        x = chain[i] #define x\n",
    "        x_p = np.random.normal(chain[i],sigma2_mc) #select candidate value x'\n",
    "        alpha = acceptance(y,x,x_p,sigma2) #calculate alpha\n",
    "        u=np.random.uniform() #generate random uniform variable\n",
    "        if np.log(u)<alpha: \n",
    "            chain[i+1]=x_p #accept candidate value\n",
    "        else:\n",
    "            chain[i+1]=x #reject candidate value\n",
    "    return chain"
   ]
  },
  {
   "cell_type": "code",
   "execution_count": null,
   "id": "64c3cd07",
   "metadata": {},
   "outputs": [],
   "source": [
    "X = metrop(3,0,0.01,0.1,10000)"
   ]
  },
  {
   "cell_type": "code",
   "execution_count": null,
   "id": "4600d1ce",
   "metadata": {
    "scrolled": true
   },
   "outputs": [],
   "source": [
    "plt.plot(X)"
   ]
  },
  {
   "cell_type": "code",
   "execution_count": null,
   "id": "5040fc6a",
   "metadata": {},
   "outputs": [],
   "source": []
  },
  {
   "cell_type": "code",
   "execution_count": null,
   "id": "ceff78e0",
   "metadata": {},
   "outputs": [],
   "source": [
    "plt.hist(X[2000::],density=True)\n",
    "plt.plot(x_test.detach().numpy(),posterior_True[:,2].detach().numpy())\n",
    "plt.plot(x_test.detach().numpy(),val_prior.detach().numpy())\n",
    "plt.legend(['True Posterior','Prior','MCMC'])"
   ]
  },
  {
   "cell_type": "markdown",
   "id": "c3ee0b52",
   "metadata": {},
   "source": [
    "# $z=ax^2+by^2$"
   ]
  },
  {
   "cell_type": "code",
   "execution_count": null,
   "id": "50415e32",
   "metadata": {},
   "outputs": [],
   "source": [
    "def ELBO(m,s2,x,emulator,y,prior_mean,prior_cov,obs_error):\n",
    "    \n",
    "    L=torch.zeros((x.shape[0],x.shape[0]))\n",
    "    L=L.diagonal_scatter(s2)\n",
    "    \n",
    "    #L[1,0]=param[6]\n",
    "   # L[2,0]=param[7]\n",
    "   # L[2,1] =param[8]\n",
    "    covar = L.matmul(L.T)\n",
    "    z=L.matmul(x)+m\n",
    "    \n",
    "    z=z.T \n",
    "    \n",
    "    mc_int = (emulator.ensemble_log_likelihood_obs_error(z,y,obs_error)+x_prior(z,prior_mean,prior_cov)[None]).mean()\n",
    "        #mc_int +=-np.log(np.sum(((emulator.predict(z.iloc[[i]]).detach().numpy()-y.values)**2)))+np.log(x_prior(z.iloc[[i]],prior_mean,prior_cov))\n",
    "        #mc_int += (np.sum(np.log(emulator.ensemble_likelihood(z.iloc[[i]],y)))+np.log(x_prior(z.iloc[[i]],prior_mean,prior_cov)))\n",
    "    \n",
    "    lb = mc_int - q_prior(covar)\n",
    "    \n",
    "    #print(mc_int/x.shape[1])\n",
    "    #print(-q_prior(covar))\n",
    "    #print(np.mean(z,axis=0))\n",
    "    #print(-lb)\n",
    "    return -lb\n",
    "    \n",
    "\n",
    "def ELBO_fun(m,s2,x,function,y,prior_mean,prior_cov,obs_error):\n",
    "    \n",
    "    L=torch.zeros((x.shape[0],x.shape[0]))\n",
    "    L=L.diagonal_scatter(s2)\n",
    "    \n",
    "    #L[1,0]=param[6]\n",
    "   # L[2,0]=param[7]\n",
    "   # L[2,1] =param[8]\n",
    "    covar = L.matmul(L.T)\n",
    "    z=L.matmul(x)+m\n",
    "   \n",
    "    z=z.T\n",
    "    \n",
    "    lb = (f_likelihood(z.T,y,function,obs_error)+x_prior(z[None],prior_mean,prior_cov)).mean()- q_prior(covar)\n",
    "        #mc_int +=-np.log(np.sum(((emulator.predict(z.iloc[[i]]).detach().numpy()-y.values)**2)))+np.log(x_prior(z.iloc[[i]],prior_mean,prior_cov))\n",
    "        #mc_int += (np.sum(np.log(emulator.ensemble_likelihood(z.iloc[[i]],y)))+np.log(x_prior(z.iloc[[i]],prior_mean,prior_cov)))\n",
    "    \n",
    "    #print(mc_int/x.shape[1])\n",
    "    #print(-q_prior(covar))\n",
    "    #print(np.mean(z,axis=0))\n",
    "    #print(-lb)\n",
    "    return -lb\n",
    "\n",
    "def x_prior(x,mean,cov):\n",
    "\n",
    "    #var = scipy.stats.multivariate_normal(mean=mean, cov=cov)\n",
    "    #val1 = var.pdf(x)\n",
    "    dist = MultivariateNormal(loc=mean, covariance_matrix=cov)\n",
    "    val = dist.log_prob(x)\n",
    "    return val\n",
    "\n",
    "def q_prior(covar):\n",
    "    qp = -(covar.shape[0]/2)*(1+torch.log(torch.tensor(2*torch.pi)))-0.5*torch.log(torch.linalg.det(covar))\n",
    "    return qp\n",
    "\n",
    "def f_likelihood(x,y,f,sigma2):\n",
    "    #x,f=emulator.normalise_test_data(x,f(x))\n",
    "    #x,y=emulator.normalise_test_data(x,y)\n",
    "    \n",
    "    likelihood_manual=-0.5*((f(x) - y)**2)/(sigma2)- 0.5*torch.log(torch.tensor(2*np.pi))-0.5*torch.log(sigma2)\n",
    "    return likelihood_manual\n",
    "\n",
    "def f_likelihood2(x,y,f,sigma2):\n",
    "    \n",
    "    likelihood_manual=-0.5*((f(x) - y)**2)/(sigma2)- 0.5*np.log(2*np.pi)-0.5*np.log(sigma2)\n",
    "    return likelihood_manual"
   ]
  },
  {
   "cell_type": "code",
   "execution_count": null,
   "id": "9cb64ece",
   "metadata": {},
   "outputs": [],
   "source": [
    "p=100 #points for plotting"
   ]
  },
  {
   "cell_type": "code",
   "execution_count": null,
   "id": "fb6fecc1",
   "metadata": {},
   "outputs": [],
   "source": [
    "rl = -10 #lower bound\n",
    "ru=10 #upper bound"
   ]
  },
  {
   "cell_type": "code",
   "execution_count": null,
   "id": "a415c97e",
   "metadata": {},
   "outputs": [],
   "source": [
    "obs_error = 0.001 #observational error"
   ]
  },
  {
   "cell_type": "code",
   "execution_count": null,
   "id": "3290b815",
   "metadata": {},
   "outputs": [],
   "source": [
    "tp =20 #number of training points"
   ]
  },
  {
   "cell_type": "code",
   "execution_count": null,
   "id": "6e32ddaf",
   "metadata": {},
   "outputs": [],
   "source": [
    "x=torch.linspace(rl,ru,p) #x for plotting\n",
    "y=torch.linspace(rl,ru,p) #y for plotting"
   ]
  },
  {
   "cell_type": "code",
   "execution_count": null,
   "id": "dcbd491b",
   "metadata": {},
   "outputs": [],
   "source": [
    "a=0.1 #function parameters\n",
    "b=0.3"
   ]
  },
  {
   "cell_type": "code",
   "execution_count": null,
   "id": "de725f47",
   "metadata": {},
   "outputs": [],
   "source": [
    "def quad_2(x): #ax^2 + by^2 function\n",
    "    #z = -a*x[0]**2 + -b*x[1]**2+10\n",
    "    z=3*x[0]+5*x[1]\n",
    "    return z"
   ]
  },
  {
   "cell_type": "code",
   "execution_count": null,
   "id": "e1500425",
   "metadata": {},
   "outputs": [],
   "source": [
    "quad_2([0,0])"
   ]
  },
  {
   "cell_type": "code",
   "execution_count": null,
   "id": "9d82234d",
   "metadata": {
    "scrolled": true
   },
   "outputs": [],
   "source": [
    "X,Y=torch.meshgrid(x,y)"
   ]
  },
  {
   "cell_type": "code",
   "execution_count": null,
   "id": "06e5c003",
   "metadata": {},
   "outputs": [],
   "source": [
    "zp= quad_2([X,Y]) #z for plotting"
   ]
  },
  {
   "cell_type": "code",
   "execution_count": null,
   "id": "5b482818",
   "metadata": {},
   "outputs": [],
   "source": [
    "zp.max()"
   ]
  },
  {
   "cell_type": "code",
   "execution_count": null,
   "id": "5c5a4a16",
   "metadata": {},
   "outputs": [],
   "source": [
    "fig, ax = plt.subplots(subplot_kw={\"projection\": \"3d\"})\n",
    "\n",
    "# Plot the surface.\n",
    "surf = ax.plot_surface(X, Y, zp,\n",
    "                       linewidth=0, antialiased=False)"
   ]
  },
  {
   "cell_type": "code",
   "execution_count": null,
   "id": "baa36bd7",
   "metadata": {},
   "outputs": [],
   "source": [
    "y = torch.FloatTensor(tp).uniform_(-10, 10) #y training points (randomly sampled)\n"
   ]
  },
  {
   "cell_type": "code",
   "execution_count": null,
   "id": "c5cc5217",
   "metadata": {},
   "outputs": [],
   "source": [
    "x = torch.FloatTensor(tp).uniform_(-10, 10) #x training points (randomly sampled)"
   ]
  },
  {
   "cell_type": "code",
   "execution_count": null,
   "id": "79b68ef6",
   "metadata": {},
   "outputs": [],
   "source": [
    "z = quad_2([x,y]) #+ np.random.normal(0,obs_error,x.shape) # function evaluated at training points"
   ]
  },
  {
   "cell_type": "code",
   "execution_count": null,
   "id": "1b972e02",
   "metadata": {},
   "outputs": [],
   "source": [
    "train_in = torch.stack((x,y)).T #convert to DF for emulator\n",
    "train_out = z[:,None]"
   ]
  },
  {
   "cell_type": "code",
   "execution_count": null,
   "id": "d020236c",
   "metadata": {},
   "outputs": [],
   "source": [
    "train_in.shape"
   ]
  },
  {
   "cell_type": "code",
   "execution_count": null,
   "id": "ee4719c8",
   "metadata": {},
   "outputs": [],
   "source": [
    "emulator = GPE.ensemble(train_in,train_out,mean_func=\"constant\",training_iter=500) #train emulator"
   ]
  },
  {
   "cell_type": "code",
   "execution_count": null,
   "id": "3b66a40c",
   "metadata": {},
   "outputs": [],
   "source": [
    "test_points = 1000 # number of test points\n",
    "dx = (ru-rl)/test_points #distance between each test point (y and x axes equal)\n",
    "x_test = torch.stack((X.reshape(p**2),Y.reshape(p**2))).T #test dataset\n"
   ]
  },
  {
   "cell_type": "code",
   "execution_count": null,
   "id": "9a88e087",
   "metadata": {},
   "outputs": [],
   "source": [
    "x_test.shape"
   ]
  },
  {
   "cell_type": "code",
   "execution_count": null,
   "id": "c4c0692d",
   "metadata": {},
   "outputs": [],
   "source": [
    "emulator.predict(x_test).reshape(p,p)"
   ]
  },
  {
   "cell_type": "code",
   "execution_count": null,
   "id": "f78fc795",
   "metadata": {},
   "outputs": [],
   "source": [
    "fig, ax = plt.subplots(subplot_kw={\"projection\": \"3d\"}) #visualise emulator over test\n",
    "\n",
    "# Plot the surface.\n",
    "surf = ax.plot_surface(X, Y, emulator.predict(x_test).detach().numpy().reshape(p,p),\n",
    "                       linewidth=0, antialiased=False)"
   ]
  },
  {
   "cell_type": "code",
   "execution_count": null,
   "id": "51b92bb0",
   "metadata": {},
   "outputs": [],
   "source": [
    "prior_mean=torch.tensor([0,0])\n",
    "prior_cov = torch.tensor([10,10])*torch.eye(2)\n",
    "obs_error = torch.tensor(1)\n",
    "y_cal = torch.tensor([10])"
   ]
  },
  {
   "cell_type": "code",
   "execution_count": null,
   "id": "5abf7a86",
   "metadata": {},
   "outputs": [],
   "source": [
    "prior_cov.shape"
   ]
  },
  {
   "cell_type": "code",
   "execution_count": null,
   "id": "5357853f",
   "metadata": {
    "scrolled": true
   },
   "outputs": [],
   "source": [
    "dist_prior = MultivariateNormal(loc=prior_mean, covariance_matrix=prior_cov)\n",
    "val_prior = torch.exp(dist_prior.log_prob(x_test))\n",
    "\n",
    "plt.contourf(X,Y,val_prior.reshape(p,p))\n",
    "plt.colorbar()"
   ]
  },
  {
   "cell_type": "code",
   "execution_count": null,
   "id": "fc449dbb",
   "metadata": {},
   "outputs": [],
   "source": [
    "Z = torch.randn((nsamples,2), dtype=dtype, requires_grad=False, device=device)"
   ]
  },
  {
   "cell_type": "code",
   "execution_count": null,
   "id": "65564a6e",
   "metadata": {},
   "outputs": [],
   "source": [
    "Z.shape"
   ]
  },
  {
   "cell_type": "code",
   "execution_count": null,
   "id": "bf30ac87",
   "metadata": {
    "scrolled": false
   },
   "outputs": [],
   "source": [
    "### initialize the variational parameters\n",
    "m = torch.full((2,1), 10.,dtype=dtype, requires_grad=True, device=device)\n",
    "s2 = torch.full((2,),1.,dtype=dtype , requires_grad=True, device=device)\n",
    "\n",
    "\n",
    "# Samples fixed here - but try adding them into the loop\n",
    "nsamples = 1000\n",
    "#Z = torch.randn((nsamples), dtype=dtype, requires_grad=False, device=device)\n",
    "\n",
    "learning_rate = 1e-2\n",
    "for t in range(5000):\n",
    "    Z = torch.randn((2,nsamples), dtype=dtype, requires_grad=False, device=device)\n",
    "    #negELBO = -Eloglike(m,log_s2)+KL(log_s2)\n",
    "    \n",
    "    negELBO = ELBO_fun(m,s2,Z,quad_2,y_cal[:,None],prior_mean,prior_cov,obs_error)\n",
    "    \n",
    "    #if t % 100 == 99:\n",
    "        #print(t, negELBO.item(), 'm=', m.item(), 's2=', s2.pow(2).item())\n",
    "      #  print(m)\n",
    "      #  print(s2)\n",
    "      #   print(negELBO)\n",
    "    # Use autograd to compute the backward pass. This call will compute the\n",
    "    # gradient of loss with respect to all Tensors with requires_grad=True.\n",
    "    # After this call a.grad, b.grad. c.grad and d.grad will be Tensors holding\n",
    "    # the gradient of the loss with respect to a, b, c, d respectively.\n",
    "    negELBO.backward()\n",
    "\n",
    "    # Manually update weights using gradient descent. Wrap in torch.no_grad()\n",
    "    # because weights have requires_grad=True, but we don't need to track this\n",
    "    # in autograd.\n",
    "    with torch.no_grad():\n",
    "\n",
    "        m -= learning_rate * m.grad\n",
    "        s2 -= learning_rate * s2.grad\n",
    "        \n",
    "        # Manually zero the gradients after updating weights\n",
    "        m.grad = None\n",
    "        s2.grad = None\n",
    "        \n",
    "#print(f'Result: p(x|y) = N({m.item()}, {torch.pow(s2,2).item()}) ')"
   ]
  },
  {
   "cell_type": "code",
   "execution_count": null,
   "id": "309469c3",
   "metadata": {
    "scrolled": false
   },
   "outputs": [],
   "source": [
    "#establish VI posterior\n",
    "\n",
    "dist = MultivariateNormal(loc=m.squeeze(), covariance_matrix=torch.eye(2)*(s2**2))\n",
    "val= torch.exp(dist.log_prob(x_test))\n",
    "\n",
    "\n",
    "#var_prior = scipy.stats.multivariate_normal(mean=m.squeeze().detach().numpy(), cov=(torch.eye(2)*(s2**2)).detach().numpy())\n",
    "#val = var_prior.pdf(x_test.detach().numpy())\n",
    "\n",
    "plt.contourf(X.detach().numpy(),Y.detach().numpy(),val.reshape(p,p).detach().numpy())\n",
    "plt.colorbar()"
   ]
  },
  {
   "cell_type": "code",
   "execution_count": null,
   "id": "5a376a99",
   "metadata": {
    "scrolled": false
   },
   "outputs": [],
   "source": [
    "### initialize the variational parameters\n",
    "m = torch.full((2,1), 10.,dtype=dtype, requires_grad=True, device=device)\n",
    "s2 = torch.full((2,),1.,dtype=dtype , requires_grad=True, device=device)\n",
    "\n",
    "\n",
    "# Samples fixed here - but try adding them into the loop\n",
    "nsamples = 1000\n",
    "#Z = torch.randn((nsamples), dtype=dtype, requires_grad=False, device=device)\n",
    "\n",
    "learning_rate = 1e-2\n",
    "for t in range(5000):\n",
    "    Z = torch.randn((2,nsamples), dtype=dtype, requires_grad=False, device=device)\n",
    "    #negELBO = -Eloglike(m,log_s2)+KL(log_s2)\n",
    "    \n",
    "    negELBO = ELBO(m,s2,Z,emulator,y_cal[:,None],prior_mean,prior_cov,obs_error)\n",
    "    \n",
    "    #if t % 100 == 99:\n",
    "        #print(t, negELBO.item(), 'm=', m.item(), 's2=', s2.pow(2).item())\n",
    "      #  print(m)\n",
    "      #  print(s2)\n",
    "      #   print(negELBO)\n",
    "    # Use autograd to compute the backward pass. This call will compute the\n",
    "    # gradient of loss with respect to all Tensors with requires_grad=True.\n",
    "    # After this call a.grad, b.grad. c.grad and d.grad will be Tensors holding\n",
    "    # the gradient of the loss with respect to a, b, c, d respectively.\n",
    "    negELBO.backward()\n",
    "\n",
    "    # Manually update weights using gradient descent. Wrap in torch.no_grad()\n",
    "    # because weights have requires_grad=True, but we don't need to track this\n",
    "    # in autograd.\n",
    "    with torch.no_grad():\n",
    "\n",
    "        m -= learning_rate * m.grad\n",
    "        s2 -= learning_rate * s2.grad\n",
    "        \n",
    "        # Manually zero the gradients after updating weights\n",
    "        m.grad = None\n",
    "        s2.grad = None\n",
    "        \n",
    "#print(f'Result: p(x|y) = N({m.item()}, {torch.pow(s2,2).item()}) ')"
   ]
  },
  {
   "cell_type": "code",
   "execution_count": null,
   "id": "204ef7cc",
   "metadata": {
    "scrolled": false
   },
   "outputs": [],
   "source": [
    "#establish VI posterior\n",
    "\n",
    "dist = MultivariateNormal(loc=m.squeeze(), covariance_matrix=torch.eye(2)*(s2**2))\n",
    "val= torch.exp(dist.log_prob(x_test))\n",
    "\n",
    "\n",
    "#var_prior = scipy.stats.multivariate_normal(mean=m.squeeze().detach().numpy(), cov=(torch.eye(2)*(s2**2)).detach().numpy())\n",
    "#val = var_prior.pdf(x_test.detach().numpy())\n",
    "\n",
    "plt.contourf(X.detach().numpy(),Y.detach().numpy(),val.reshape(p,p).detach().numpy())\n",
    "plt.colorbar()"
   ]
  },
  {
   "cell_type": "code",
   "execution_count": null,
   "id": "dac6da3c",
   "metadata": {},
   "outputs": [],
   "source": [
    "m"
   ]
  },
  {
   "cell_type": "code",
   "execution_count": null,
   "id": "347bba5a",
   "metadata": {},
   "outputs": [],
   "source": [
    "s2**2"
   ]
  },
  {
   "cell_type": "code",
   "execution_count": null,
   "id": "e13e0f86",
   "metadata": {},
   "outputs": [],
   "source": [
    "obs_error"
   ]
  },
  {
   "cell_type": "code",
   "execution_count": null,
   "id": "357e296b",
   "metadata": {
    "scrolled": true
   },
   "outputs": [],
   "source": [
    "likelihood = torch.exp(emulator.ensemble_log_likelihood_obs_error(x_test,y_cal[:,None],obs_error)) #Generate likelihood from GP"
   ]
  },
  {
   "cell_type": "code",
   "execution_count": null,
   "id": "0b653dd7",
   "metadata": {},
   "outputs": [],
   "source": []
  },
  {
   "cell_type": "code",
   "execution_count": null,
   "id": "62624d31",
   "metadata": {},
   "outputs": [],
   "source": [
    "posterior = likelihood*val_prior / (torch.sum(likelihood*val_prior)*dx*dx) #Generate posterior from GP"
   ]
  },
  {
   "cell_type": "code",
   "execution_count": null,
   "id": "c4a2f89c",
   "metadata": {
    "scrolled": false
   },
   "outputs": [],
   "source": [
    "plt.contourf(X.detach().numpy(),Y.detach().numpy(),likelihood.reshape(p,p).detach().numpy()) #Visualise likelihood\n",
    "plt.colorbar()"
   ]
  },
  {
   "cell_type": "code",
   "execution_count": null,
   "id": "8c03b0a3",
   "metadata": {
    "scrolled": false
   },
   "outputs": [],
   "source": [
    "plt.contourf(X,Y,posterior.reshape(p,p).detach().numpy()) #visualise posterior\n",
    "plt.colorbar()"
   ]
  },
  {
   "cell_type": "code",
   "execution_count": null,
   "id": "fd12dbc9",
   "metadata": {
    "scrolled": true
   },
   "outputs": [],
   "source": [
    "true_likelihood= f_likelihood([X,Y],y_cal[:,None],quad_2,obs_error) #Generate numerical log likelihood"
   ]
  },
  {
   "cell_type": "code",
   "execution_count": null,
   "id": "ee513762",
   "metadata": {},
   "outputs": [],
   "source": [
    "plt.contourf(X,Y,true_likelihood.reshape(p,p).detach().numpy(),levels=1000) #visualise numerical likelihood\n",
    "\n",
    "plt.colorbar()"
   ]
  },
  {
   "cell_type": "code",
   "execution_count": null,
   "id": "dfbcc281",
   "metadata": {
    "scrolled": true
   },
   "outputs": [],
   "source": [
    "true_likelihood=torch.exp(true_likelihood) #Generate numerical likelihood"
   ]
  },
  {
   "cell_type": "code",
   "execution_count": null,
   "id": "11e581f6",
   "metadata": {},
   "outputs": [],
   "source": [
    "plt.contourf(X,Y,true_likelihood.reshape(p,p).detach().numpy()) #visualise numerical likelihood\n",
    "plt.colorbar()"
   ]
  },
  {
   "cell_type": "code",
   "execution_count": null,
   "id": "3a6d97c7",
   "metadata": {},
   "outputs": [],
   "source": [
    "#calculate numerical posterior\n",
    "true_posterior = true_likelihood.squeeze()*val_prior.reshape(p,p) / (torch.sum(true_likelihood.squeeze()*val_prior.reshape(p,p))*0.2)"
   ]
  },
  {
   "cell_type": "code",
   "execution_count": null,
   "id": "f73c0965",
   "metadata": {},
   "outputs": [],
   "source": [
    "plt.contourf(X,Y,true_posterior.reshape(p,p).detach().numpy()) #visualise numerical posterior\n",
    "plt.colorbar()"
   ]
  },
  {
   "cell_type": "code",
   "execution_count": null,
   "id": "502f3e05",
   "metadata": {},
   "outputs": [],
   "source": [
    "plt.contourf(X,Y,true_likelihood.reshape(p,p).detach().numpy()) #visualise numerical likelihood\n",
    "plt.colorbar()"
   ]
  },
  {
   "cell_type": "code",
   "execution_count": null,
   "id": "74441e3e",
   "metadata": {},
   "outputs": [],
   "source": [
    "#numerical likelihood in 3D\n",
    "fig, ax = plt.subplots(subplot_kw={\"projection\": \"3d\"})\n",
    "\n",
    "# Plot the surface.\n",
    "surf = ax.plot_surface(X, Y,true_likelihood.reshape(p,p))"
   ]
  },
  {
   "cell_type": "markdown",
   "id": "d6fc16a0",
   "metadata": {},
   "source": [
    "# EP Data"
   ]
  },
  {
   "cell_type": "code",
   "execution_count": null,
   "id": "e84eede9",
   "metadata": {},
   "outputs": [],
   "source": [
    "x_labels=pd.read_csv('/Users/pmzcwl/Library/CloudStorage/OneDrive-TheUniversityofNottingham/shared_simulations/EP_healthy/input/xlabels_EP.txt',delim_whitespace=True,header=None)\n",
    "inputOrig = pd.read_csv(r'/Users/pmzcwl/Library/CloudStorage/OneDrive-TheUniversityofNottingham/shared_simulations/EP_healthy/input/X_EP.txt',index_col=None,delim_whitespace=True,header=None)\n",
    "inputOrig.columns=x_labels\n",
    "print(inputOrig)"
   ]
  },
  {
   "cell_type": "code",
   "execution_count": null,
   "id": "a4ba09c6",
   "metadata": {
    "scrolled": true
   },
   "outputs": [],
   "source": [
    "y_labels=pd.read_csv(r'/Users/pmzcwl/Library/CloudStorage/OneDrive-TheUniversityofNottingham/shared_simulations/EP_healthy/output/ylabels.txt',delim_whitespace=True,header=None)\n",
    "outputOrig = pd.read_csv(r'/Users/pmzcwl/Library/CloudStorage/OneDrive-TheUniversityofNottingham/shared_simulations/EP_healthy/output/Y.txt',index_col=None,delim_whitespace=True,header=None)\n",
    "outputOrig.columns=y_labels\n",
    "print(outputOrig)"
   ]
  },
  {
   "cell_type": "code",
   "execution_count": null,
   "id": "2c35f3db",
   "metadata": {},
   "outputs": [],
   "source": []
  },
  {
   "cell_type": "code",
   "execution_count": null,
   "id": "0ea63006",
   "metadata": {},
   "outputs": [],
   "source": [
    "inputOrig.iloc[:,[0,2,3]]"
   ]
  },
  {
   "cell_type": "code",
   "execution_count": null,
   "id": "115b02f9",
   "metadata": {},
   "outputs": [],
   "source": [
    "# split original dataset in training, validation and testing sets\n",
    "X=torch.tensor(inputOrig.iloc[:,[0,2,3]].values)\n",
    "y=torch.tensor(outputOrig.values)\n",
    "x_train, x_test, y_train, y_test = train_test_split(\n",
    "    X,\n",
    "    y,\n",
    "    test_size=1,\n",
    "    random_state=seed\n",
    ")"
   ]
  },
  {
   "cell_type": "code",
   "execution_count": null,
   "id": "1e4b0e2a",
   "metadata": {},
   "outputs": [],
   "source": [
    "nDim = x_train.shape[1]\n",
    "boundsMaxMin = []\n",
    "for i in range(nDim):\n",
    "    boundsMaxMin.append([torch.min(x_train[:,i]),torch.max(x_train[:,i])])\n",
    "    print(boundsMaxMin[i])"
   ]
  },
  {
   "cell_type": "code",
   "execution_count": null,
   "id": "b240817e",
   "metadata": {},
   "outputs": [],
   "source": [
    "centre = (np.array(boundsMaxMin)[:,1]+np.array(boundsMaxMin)[:,0])/2"
   ]
  },
  {
   "cell_type": "code",
   "execution_count": null,
   "id": "c0bdc7cc",
   "metadata": {},
   "outputs": [],
   "source": [
    "p=centre.tolist()\n",
    "p=p+(torch.ones(x_train.shape[1]).tolist())"
   ]
  },
  {
   "cell_type": "code",
   "execution_count": null,
   "id": "c9f8e07f",
   "metadata": {},
   "outputs": [],
   "source": [
    "obs_error=0.001"
   ]
  },
  {
   "cell_type": "code",
   "execution_count": null,
   "id": "82010f6a",
   "metadata": {},
   "outputs": [],
   "source": [
    "p"
   ]
  },
  {
   "cell_type": "code",
   "execution_count": null,
   "id": "d25adbf9",
   "metadata": {},
   "outputs": [],
   "source": [
    "emulator = GPE.ensemble(x_train,y_train,mean_func=\"linear\",training_iter=500)"
   ]
  },
  {
   "cell_type": "code",
   "execution_count": null,
   "id": "5893ef06",
   "metadata": {},
   "outputs": [],
   "source": [
    "x_train.shape[1]"
   ]
  },
  {
   "cell_type": "code",
   "execution_count": null,
   "id": "007af7b0",
   "metadata": {},
   "outputs": [],
   "source": [
    "prior_covar"
   ]
  },
  {
   "cell_type": "code",
   "execution_count": null,
   "id": "88558579",
   "metadata": {},
   "outputs": [],
   "source": [
    "prior_mean"
   ]
  },
  {
   "cell_type": "code",
   "execution_count": null,
   "id": "21f4a970",
   "metadata": {},
   "outputs": [],
   "source": [
    "prior_covar = torch.eye(x_train.shape[1]) #prior covariance and mean\n",
    "prior_mean=torch.tensor(centre)\n",
    "obs_error = torch.tensor([0.001])"
   ]
  },
  {
   "cell_type": "code",
   "execution_count": null,
   "id": "6917c5de",
   "metadata": {},
   "outputs": [],
   "source": [
    "L=torch.zeros((x.shape[0],x.shape[0]))\n",
    "L=L.diagonal_scatter(s2)"
   ]
  },
  {
   "cell_type": "code",
   "execution_count": null,
   "id": "468a2f0e",
   "metadata": {},
   "outputs": [],
   "source": [
    "L"
   ]
  },
  {
   "cell_type": "code",
   "execution_count": null,
   "id": "67ed1b50",
   "metadata": {},
   "outputs": [],
   "source": [
    "covar = L.matmul(L.T)\n",
    "z=L.matmul(Z)+m\n",
    "    \n",
    "z=z.T "
   ]
  },
  {
   "cell_type": "code",
   "execution_count": null,
   "id": "4feecc82",
   "metadata": {},
   "outputs": [],
   "source": [
    "z"
   ]
  },
  {
   "cell_type": "code",
   "execution_count": null,
   "id": "f2e5dc09",
   "metadata": {
    "scrolled": false
   },
   "outputs": [],
   "source": [
    "### initialize the variational parameters\n",
    "m = torch.full((3,1), 0.,dtype=dtype, requires_grad=True, device=device)\n",
    "s2 = torch.full((3,),1.,dtype=dtype , requires_grad=True, device=device)\n",
    "\n",
    "\n",
    "# Samples fixed here - but try adding them into the loop\n",
    "nsamples = 1000\n",
    "#Z = torch.randn((nsamples), dtype=dtype, requires_grad=False, device=device)\n",
    "\n",
    "learning_rate = 1e-2\n",
    "for t in range(10000):\n",
    "    Z = torch.randn((3,nsamples), dtype=dtype, requires_grad=False, device=device)\n",
    "    #negELBO = -Eloglike(m,log_s2)+KL(log_s2)\n",
    "    \n",
    "    negELBO = ELBO(m,s2,Z,emulator,y_test,prior_mean,prior_covar,obs_error)\n",
    "    \n",
    "    if t % 100 == 99:\n",
    "        print(t,negELBO.item(),'m=',m)\n",
    "        #print(t, negELBO.item(), 'm=', m.item(), 's2=', s2.pow(2).item())\n",
    "      #  print(m)\n",
    "      #  print(s2)\n",
    "      #   print(negELBO)\n",
    "    # Use autograd to compute the backward pass. This call will compute the\n",
    "    # gradient of loss with respect to all Tensors with requires_grad=True.\n",
    "    # After this call a.grad, b.grad. c.grad and d.grad will be Tensors holding\n",
    "    # the gradient of the loss with respect to a, b, c, d respectively.\n",
    "    negELBO.backward()\n",
    "\n",
    "    # Manually update weights using gradient descent. Wrap in torch.no_grad()\n",
    "    # because weights have requires_grad=True, but we don't need to track this\n",
    "    # in autograd.\n",
    "    with torch.no_grad():\n",
    "\n",
    "        m -= learning_rate * m.grad\n",
    "        s2 -= learning_rate * s2.grad\n",
    "        \n",
    "        # Manually zero the gradients after updating weights\n",
    "        m.grad = None\n",
    "        s2.grad = None\n",
    "        \n",
    "#print(f'Result: p(x|y) = N({m.item()}, {torch.pow(s2,2).item()}) ')"
   ]
  },
  {
   "cell_type": "code",
   "execution_count": null,
   "id": "7898e22a",
   "metadata": {
    "scrolled": true
   },
   "outputs": [],
   "source": [
    "boundsMaxMin=torch.tensor(boundsMaxMin)"
   ]
  },
  {
   "cell_type": "code",
   "execution_count": null,
   "id": "a9183708",
   "metadata": {},
   "outputs": [],
   "source": [
    "m"
   ]
  },
  {
   "cell_type": "code",
   "execution_count": null,
   "id": "933309a2",
   "metadata": {},
   "outputs": [],
   "source": [
    "x_test"
   ]
  },
  {
   "cell_type": "code",
   "execution_count": null,
   "id": "6f72e455",
   "metadata": {},
   "outputs": [],
   "source": [
    "Nx=30"
   ]
  },
  {
   "cell_type": "code",
   "execution_count": null,
   "id": "806bcec2",
   "metadata": {},
   "outputs": [],
   "source": [
    "X=torch.linspace(boundsMaxMin[1,0],boundsMaxMin[1,1],Nx)"
   ]
  },
  {
   "cell_type": "code",
   "execution_count": null,
   "id": "dafd873d",
   "metadata": {},
   "outputs": [],
   "source": [
    "dist = MultivariateNormal(loc=m[2], covariance_matrix=torch.eye(1)*s2[2,None]**2)\n",
    "val = torch.exp(dist.log_prob(X[:,None]))"
   ]
  },
  {
   "cell_type": "code",
   "execution_count": null,
   "id": "f9b52fc2",
   "metadata": {},
   "outputs": [],
   "source": [
    "plt.plot(X.detach().numpy(),val.detach().numpy())"
   ]
  },
  {
   "cell_type": "code",
   "execution_count": null,
   "id": "b843a380",
   "metadata": {},
   "outputs": [],
   "source": [
    "Nx=30"
   ]
  },
  {
   "cell_type": "code",
   "execution_count": null,
   "id": "b56d8d22",
   "metadata": {},
   "outputs": [],
   "source": [
    "X=torch.linspace(boundsMaxMin[0,0],boundsMaxMin[0,1],Nx)\n",
    "Y=np.linspace(boundsMaxMin[1,0],boundsMaxMin[1,1],Nx)\n",
    "Z=np.linspace(boundsMaxMin[2,0],boundsMaxMin[2,1],Nx)"
   ]
  },
  {
   "cell_type": "code",
   "execution_count": null,
   "id": "811ea5bd",
   "metadata": {},
   "outputs": [],
   "source": [
    "g = np.meshgrid(X,Y,Z,indexing='ij')\n",
    "positions = pd.DataFrame(np.vstack(map(np.ravel, g)).T)\n",
    "positions.columns = x_test.columns"
   ]
  },
  {
   "cell_type": "code",
   "execution_count": null,
   "id": "b6160701",
   "metadata": {},
   "outputs": [],
   "source": [
    "var = scipy.stats.multivariate_normal(mean=(result.x[0:x_train.shape[1]]), cov=np.identity(x_train.shape[1])*result.x[x_train.shape[1]:2*x_train.shape[1]]**2)\n",
    "val = var.pdf(positions).reshape(Nx,Nx,Nx)"
   ]
  },
  {
   "cell_type": "code",
   "execution_count": null,
   "id": "b8ac26b2",
   "metadata": {
    "scrolled": false
   },
   "outputs": [],
   "source": [
    "plt.plot(X,np.sum(val,axis=(1,2)))\n",
    "plt.tick_params(\n",
    "    axis='y',          # changes apply to the x-axis\n",
    "    which='both',      # both major and minor ticks are affected\n",
    "    left=False,      # ticks along the bottom edge are off\n",
    "    right=False,         # ticks along the top edge are off\n",
    "    labelleft=False) # labels along the bottom edge are off\n",
    "plt.xlabel('a_ventricles')\n",
    "plt.axvline(x = x_test.iloc[0,0], color = 'r', label = 'axvline - full height')"
   ]
  },
  {
   "cell_type": "code",
   "execution_count": null,
   "id": "dc7a9d18",
   "metadata": {},
   "outputs": [],
   "source": [
    "x_test"
   ]
  },
  {
   "cell_type": "code",
   "execution_count": null,
   "id": "66bfcd35",
   "metadata": {},
   "outputs": [],
   "source": [
    "plt.plot(Y,np.sum(val,axis=(0,2)))\n",
    "plt.tick_params(\n",
    "    axis='y',          # changes apply to the x-axis\n",
    "    which='both',      # both major and minor ticks are affected\n",
    "    left=False,      # ticks along the bottom edge are off\n",
    "    right=False,         # ticks along the top edge are off\n",
    "    labelleft=False) # labels along the bottom edge are off\n",
    "plt.xlabel('a_ventricles')\n",
    "plt.axvline(x = x_test.iloc[0,1], color = 'r', label = 'axvline - full height')"
   ]
  },
  {
   "cell_type": "code",
   "execution_count": null,
   "id": "587331bf",
   "metadata": {
    "scrolled": false
   },
   "outputs": [],
   "source": [
    "plt.plot(Z,np.sum(val,axis=(1,0)))\n",
    "plt.tick_params(\n",
    "    axis='y',          # changes apply to the x-axis\n",
    "    which='both',      # both major and minor ticks are affected\n",
    "    left=False,      # ticks along the bottom edge are off\n",
    "    right=False,         # ticks along the top edge are off\n",
    "    labelleft=False) # labels along the bottom edge are off\n",
    "plt.xlabel('a_ventricles')\n",
    "plt.axvline(x = x_test.iloc[0,2], color = 'r', label = 'axvline - full height')"
   ]
  },
  {
   "cell_type": "code",
   "execution_count": null,
   "id": "5d2f928f",
   "metadata": {},
   "outputs": [],
   "source": [
    "likelihood = np.exp(np.sum(emulator.ensemble_log_likelihood_obs_error(positions,y_test,obs_error),axis=0)).reshape(Nx,Nx,Nx)#Generate likelihood from GP"
   ]
  },
  {
   "cell_type": "code",
   "execution_count": null,
   "id": "be6e7004",
   "metadata": {},
   "outputs": [],
   "source": [
    "val_prior = var_prior.pdf(positions).reshape(Nx,Nx,Nx)"
   ]
  },
  {
   "cell_type": "code",
   "execution_count": null,
   "id": "34e45bcf",
   "metadata": {},
   "outputs": [],
   "source": [
    "posterior=(likelihood*val_prior)/(np.sum(likelihood*val_prior)*())"
   ]
  },
  {
   "cell_type": "code",
   "execution_count": null,
   "id": "418fcca2",
   "metadata": {},
   "outputs": [],
   "source": [
    "plt.plot(X,np.sum(posterior,axis=(1,0)))"
   ]
  },
  {
   "cell_type": "code",
   "execution_count": null,
   "id": "829ba519",
   "metadata": {},
   "outputs": [],
   "source": [
    "np.sum(np.sum(emulator.ensemble_log_likelihood_obs_error(positions,y_test,obs_error),axis=0).reshape(Nx,Nx,Nx),axis=(0,1))"
   ]
  },
  {
   "cell_type": "code",
   "execution_count": null,
   "id": "76ac1180",
   "metadata": {},
   "outputs": [],
   "source": [
    "emulator.ensemble_log_likelihood_obs_error(positions,y_test,obs_error)"
   ]
  },
  {
   "cell_type": "code",
   "execution_count": null,
   "id": "6c6b3122",
   "metadata": {},
   "outputs": [],
   "source": []
  }
 ],
 "metadata": {
  "kernelspec": {
   "display_name": "Python 3 (ipykernel)",
   "language": "python",
   "name": "python3"
  },
  "language_info": {
   "codemirror_mode": {
    "name": "ipython",
    "version": 3
   },
   "file_extension": ".py",
   "mimetype": "text/x-python",
   "name": "python",
   "nbconvert_exporter": "python",
   "pygments_lexer": "ipython3",
   "version": "3.11.5"
  }
 },
 "nbformat": 4,
 "nbformat_minor": 5
}
