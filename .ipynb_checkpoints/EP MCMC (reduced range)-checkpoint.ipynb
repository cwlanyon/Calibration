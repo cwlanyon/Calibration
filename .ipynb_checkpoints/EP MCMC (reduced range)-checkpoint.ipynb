{
 "cells": [
  {
   "cell_type": "code",
   "execution_count": 59,
   "id": "5ba866e8",
   "metadata": {},
   "outputs": [
    {
     "name": "stdout",
     "output_type": "stream",
     "text": [
      "The autoreload extension is already loaded. To reload it, use:\n",
      "  %reload_ext autoreload\n"
     ]
    }
   ],
   "source": [
    "import math\n",
    "import torch\n",
    "import gpytorch\n",
    "import pandas as pd\n",
    "import numpy as np\n",
    "from matplotlib import pyplot as plt\n",
    "\n",
    "\n",
    "import GPE_ensemble as GPE\n",
    "\n",
    "import os\n",
    "from sklearn.linear_model import LinearRegression\n",
    "from sklearn.metrics import mean_squared_error, r2_score\n",
    "from sklearn.model_selection import train_test_split\n",
    "#from GPErks.gp.data.dataset import Dataset\n",
    "from gpytorch.likelihoods import GaussianLikelihood\n",
    "from gpytorch.means import LinearMean\n",
    "from gpytorch.kernels import RBFKernel, ScaleKernel\n",
    "from torchmetrics import MeanSquaredError, R2Score\n",
    "#from GPErks.gp.experiment import GPExperiment\n",
    "#from GPErks.train.emulator import GPEmulator\n",
    "#from GPErks.perks.inference import Inference\n",
    "#from GPErks.train.early_stop import NoEarlyStoppingCriterion\n",
    "#from GPErks.train.early_stop import (\n",
    "#    GLEarlyStoppingCriterion,\n",
    "#    PQEarlyStoppingCriterion,\n",
    "#    UPEarlyStoppingCriterion,\n",
    "#)\n",
    "#from GPErks.train.early_stop import PkEarlyStoppingCriterion\n",
    "\n",
    "\n",
    "\n",
    "%matplotlib inline\n",
    "%load_ext autoreload\n",
    "%autoreload 2\n",
    "\n",
    "# set logger and enforce reproducibility\n",
    "#from GPErks.log.logger import get_logger\n",
    "#from GPErks.utils.random import set_seed\n",
    "#log = get_logger()\n",
    "seed = 7\n",
    "#set_seed(seed)"
   ]
  },
  {
   "cell_type": "code",
   "execution_count": 60,
   "id": "7c20f924",
   "metadata": {},
   "outputs": [],
   "source": [
    "mesh=21"
   ]
  },
  {
   "cell_type": "code",
   "execution_count": 61,
   "id": "b81ecd1f",
   "metadata": {},
   "outputs": [
    {
     "name": "stdout",
     "output_type": "stream",
     "text": [
      "     CV_ventricles  k_ventricles    k_FEC  CV_atria   k_atria     k_BB\n",
      "0         0.738144      0.276378  5.71074  0.337617  0.253067  3.34120\n",
      "1         0.699821      0.289857  8.23437  0.899943  0.244791  3.36932\n",
      "2         0.419685      0.310723  1.32123  1.023790  0.208773  3.22631\n",
      "3         0.780850      0.326027  4.83990  0.621390  0.201804  3.25724\n",
      "4         0.794527      0.395183  5.83261  0.971377  0.346727  5.50506\n",
      "..             ...           ...      ...       ...       ...      ...\n",
      "995       0.639511      0.285979  6.68166  0.353444  0.207574  1.25594\n",
      "996       0.487964      0.201533  2.99732  0.441108  0.371365  4.35580\n",
      "997       0.506433      0.380463  6.07463  0.967278  0.359592  1.50839\n",
      "998       0.686527      0.255578  2.70725  0.322308  0.303793  1.98914\n",
      "999       0.745125      0.288781  6.70721  0.585251  0.369692  1.75873\n",
      "\n",
      "[1000 rows x 6 columns]\n"
     ]
    }
   ],
   "source": [
    "x_labels=pd.read_csv(r'/Users/pmzcwl/Library/CloudStorage/OneDrive-TheUniversityofNottingham/shared_simulations/EP/scenario_13/xlabels.txt',delim_whitespace=True,header=None)\n",
    "\n",
    "\n",
    "X_all = pd.read_csv(r'/Users/pmzcwl/Library/CloudStorage/OneDrive-TheUniversityofNottingham/shared_simulations/EP/scenario_'+str(mesh)+'/X.txt',index_col=None,delim_whitespace=True,header=None)\n",
    "X_all.columns=x_labels.values.squeeze().tolist()\n",
    "print(X_all)"
   ]
  },
  {
   "cell_type": "code",
   "execution_count": 62,
   "id": "121230ab",
   "metadata": {},
   "outputs": [
    {
     "name": "stdout",
     "output_type": "stream",
     "text": [
      "        A_TAT     V_TAT\n",
      "0    262.8740  102.4530\n",
      "1     99.4211  103.8570\n",
      "2     91.3683  201.3770\n",
      "3    151.9930   92.0042\n",
      "4     83.0633   83.9507\n",
      "..        ...       ...\n",
      "175   83.9687   97.6362\n",
      "176  130.6290  108.0540\n",
      "177  130.8720  130.5120\n",
      "178  126.2520  119.9770\n",
      "179  147.8320  221.2390\n",
      "\n",
      "[180 rows x 2 columns]\n"
     ]
    }
   ],
   "source": [
    "y_labels=pd.read_csv(r'/Users/pmzcwl/Library/CloudStorage/OneDrive-TheUniversityofNottingham/shared_simulations/EP/scenario_13/ylabels.txt',delim_whitespace=True,header=None)\n",
    "\n",
    "\n",
    "y_all = pd.read_csv(r'/Users/pmzcwl/Library/CloudStorage/OneDrive-TheUniversityofNottingham/shared_simulations/EP/scenario_'+str(mesh)+'/Y.txt',index_col=None,delim_whitespace=True,header=None)\n",
    "y_all.columns=y_labels.values.squeeze().tolist()\n",
    "print(y_all)"
   ]
  },
  {
   "cell_type": "markdown",
   "id": "f1349dc8",
   "metadata": {},
   "source": [
    "# Emulator"
   ]
  },
  {
   "cell_type": "code",
   "execution_count": 63,
   "id": "110b9938",
   "metadata": {},
   "outputs": [],
   "source": [
    "input_masked = X_all.copy()"
   ]
  },
  {
   "cell_type": "code",
   "execution_count": 64,
   "id": "7226a5aa",
   "metadata": {},
   "outputs": [
    {
     "data": {
      "text/html": [
       "<div>\n",
       "<style scoped>\n",
       "    .dataframe tbody tr th:only-of-type {\n",
       "        vertical-align: middle;\n",
       "    }\n",
       "\n",
       "    .dataframe tbody tr th {\n",
       "        vertical-align: top;\n",
       "    }\n",
       "\n",
       "    .dataframe thead th {\n",
       "        text-align: right;\n",
       "    }\n",
       "</style>\n",
       "<table border=\"1\" class=\"dataframe\">\n",
       "  <thead>\n",
       "    <tr style=\"text-align: right;\">\n",
       "      <th></th>\n",
       "      <th>A_TAT</th>\n",
       "      <th>V_TAT</th>\n",
       "    </tr>\n",
       "  </thead>\n",
       "  <tbody>\n",
       "    <tr>\n",
       "      <th>0</th>\n",
       "      <td>262.8740</td>\n",
       "      <td>102.4530</td>\n",
       "    </tr>\n",
       "    <tr>\n",
       "      <th>1</th>\n",
       "      <td>99.4211</td>\n",
       "      <td>103.8570</td>\n",
       "    </tr>\n",
       "    <tr>\n",
       "      <th>2</th>\n",
       "      <td>91.3683</td>\n",
       "      <td>201.3770</td>\n",
       "    </tr>\n",
       "    <tr>\n",
       "      <th>3</th>\n",
       "      <td>151.9930</td>\n",
       "      <td>92.0042</td>\n",
       "    </tr>\n",
       "    <tr>\n",
       "      <th>4</th>\n",
       "      <td>83.0633</td>\n",
       "      <td>83.9507</td>\n",
       "    </tr>\n",
       "    <tr>\n",
       "      <th>...</th>\n",
       "      <td>...</td>\n",
       "      <td>...</td>\n",
       "    </tr>\n",
       "    <tr>\n",
       "      <th>175</th>\n",
       "      <td>83.9687</td>\n",
       "      <td>97.6362</td>\n",
       "    </tr>\n",
       "    <tr>\n",
       "      <th>176</th>\n",
       "      <td>130.6290</td>\n",
       "      <td>108.0540</td>\n",
       "    </tr>\n",
       "    <tr>\n",
       "      <th>177</th>\n",
       "      <td>130.8720</td>\n",
       "      <td>130.5120</td>\n",
       "    </tr>\n",
       "    <tr>\n",
       "      <th>178</th>\n",
       "      <td>126.2520</td>\n",
       "      <td>119.9770</td>\n",
       "    </tr>\n",
       "    <tr>\n",
       "      <th>179</th>\n",
       "      <td>147.8320</td>\n",
       "      <td>221.2390</td>\n",
       "    </tr>\n",
       "  </tbody>\n",
       "</table>\n",
       "<p>180 rows × 2 columns</p>\n",
       "</div>"
      ],
      "text/plain": [
       "        A_TAT     V_TAT\n",
       "0    262.8740  102.4530\n",
       "1     99.4211  103.8570\n",
       "2     91.3683  201.3770\n",
       "3    151.9930   92.0042\n",
       "4     83.0633   83.9507\n",
       "..        ...       ...\n",
       "175   83.9687   97.6362\n",
       "176  130.6290  108.0540\n",
       "177  130.8720  130.5120\n",
       "178  126.2520  119.9770\n",
       "179  147.8320  221.2390\n",
       "\n",
       "[180 rows x 2 columns]"
      ]
     },
     "execution_count": 64,
     "metadata": {},
     "output_type": "execute_result"
    }
   ],
   "source": [
    "y_all"
   ]
  },
  {
   "cell_type": "code",
   "execution_count": 65,
   "id": "50a91180",
   "metadata": {},
   "outputs": [],
   "source": [
    "y_train = torch.tensor(y_all.values)\n",
    "x_train = torch.tensor(X_all[0:y_all.shape[0]].values)"
   ]
  },
  {
   "cell_type": "code",
   "execution_count": 66,
   "id": "5b7a1c9d",
   "metadata": {},
   "outputs": [
    {
     "data": {
      "text/plain": [
       "tensor([[262.8740, 102.4530],\n",
       "        [ 99.4211, 103.8570],\n",
       "        [ 91.3683, 201.3770],\n",
       "        [151.9930,  92.0042],\n",
       "        [ 83.0633,  83.9507],\n",
       "        [109.3250,  87.9502],\n",
       "        [ 81.1750, 113.3680],\n",
       "        [184.7480, 146.7630],\n",
       "        [283.0550, 100.2170],\n",
       "        [168.3680, 180.0490],\n",
       "        [ 90.1122, 168.7570],\n",
       "        [159.1110, 143.6410],\n",
       "        [197.4120, 108.7580],\n",
       "        [115.8510, 143.3450],\n",
       "        [111.0650, 125.4270],\n",
       "        [107.7040, 121.0700],\n",
       "        [205.5610, 113.0390],\n",
       "        [155.2740,  87.0419],\n",
       "        [110.7450, 173.1250],\n",
       "        [162.9650, 184.5310],\n",
       "        [130.8170, 143.1150],\n",
       "        [112.6650, 157.6530],\n",
       "        [ 81.2775, 140.0940],\n",
       "        [ 90.4644,  95.3015],\n",
       "        [142.0180, 130.8390],\n",
       "        [167.1970, 129.3580],\n",
       "        [113.6550, 152.3750],\n",
       "        [181.6910, 154.5390],\n",
       "        [ 88.0451, 115.8880],\n",
       "        [105.7950, 101.8220],\n",
       "        [ 88.6909, 114.9270],\n",
       "        [140.7790, 111.1620],\n",
       "        [ 90.8860, 155.8750],\n",
       "        [126.6430, 106.6460],\n",
       "        [197.6840, 214.8970],\n",
       "        [101.5630, 170.2810],\n",
       "        [109.8850,  97.8228],\n",
       "        [ 77.7466, 141.8240],\n",
       "        [ 89.8721, 130.3560],\n",
       "        [108.5370, 153.2290],\n",
       "        [ 96.3396, 142.6830],\n",
       "        [105.3710,  86.8104],\n",
       "        [152.1510, 105.0500],\n",
       "        [131.9910, 121.5470],\n",
       "        [ 85.0868, 107.3050],\n",
       "        [275.8000, 102.8890],\n",
       "        [ 88.2146, 119.0410],\n",
       "        [254.9070, 111.4840],\n",
       "        [268.7990,  84.3471],\n",
       "        [145.8670, 105.0970],\n",
       "        [124.5610, 107.2080],\n",
       "        [125.7320, 234.0200],\n",
       "        [196.1490, 151.0410],\n",
       "        [159.5190,  83.9400],\n",
       "        [103.2680, 161.5450],\n",
       "        [ 86.5471,  87.2389],\n",
       "        [ 94.2310, 107.0120],\n",
       "        [262.2070, 128.7800],\n",
       "        [148.4490,  97.1322],\n",
       "        [132.3730, 205.0930],\n",
       "        [ 97.8528, 123.3250],\n",
       "        [222.0400, 148.4960],\n",
       "        [142.6840, 170.8790],\n",
       "        [ 86.1665, 100.2910],\n",
       "        [ 89.6917, 100.6350],\n",
       "        [200.2780, 119.6460],\n",
       "        [ 84.8921, 104.5870],\n",
       "        [133.9290, 104.7350],\n",
       "        [110.0080, 104.6330],\n",
       "        [103.2320, 148.2790],\n",
       "        [116.6290, 144.1680],\n",
       "        [132.9710,  86.3895],\n",
       "        [251.0590, 153.3080],\n",
       "        [242.4770, 114.3750],\n",
       "        [190.5780, 124.6980],\n",
       "        [106.2580,  90.5163],\n",
       "        [104.9160, 145.3630],\n",
       "        [245.9450, 134.4830],\n",
       "        [ 78.9898,  92.9769],\n",
       "        [ 91.8239, 138.7010],\n",
       "        [143.7170,  95.0983],\n",
       "        [107.1300,  94.6056],\n",
       "        [181.2940, 137.9530],\n",
       "        [112.8590, 168.1730],\n",
       "        [106.2200, 165.1450],\n",
       "        [ 97.7251, 199.7810],\n",
       "        [135.8620, 112.1730],\n",
       "        [181.2890, 135.9050],\n",
       "        [150.5670, 156.3440],\n",
       "        [110.2500, 140.0370],\n",
       "        [102.9730, 148.2650],\n",
       "        [ 85.6257, 216.5150],\n",
       "        [152.1680,  92.0992],\n",
       "        [134.8520, 106.0170],\n",
       "        [116.2840, 130.0400],\n",
       "        [169.0870,  93.1654],\n",
       "        [197.5590, 124.6030],\n",
       "        [100.6000, 126.1840],\n",
       "        [121.5660,  96.2964],\n",
       "        [118.9450, 171.8410],\n",
       "        [114.5580, 156.7720],\n",
       "        [227.4500, 131.6360],\n",
       "        [ 81.2771, 107.9980],\n",
       "        [106.5450, 182.5870],\n",
       "        [314.3570, 130.1770],\n",
       "        [222.5710, 120.4810],\n",
       "        [194.4000,  94.1163],\n",
       "        [101.2820, 201.3420],\n",
       "        [150.1030, 163.0080],\n",
       "        [115.8600, 101.9550],\n",
       "        [116.2040, 182.3680],\n",
       "        [ 95.7130,  94.7787],\n",
       "        [ 84.7659, 108.9090],\n",
       "        [100.2050, 126.0260],\n",
       "        [111.2550, 179.8690],\n",
       "        [272.8170, 120.6160],\n",
       "        [142.1870, 118.0970],\n",
       "        [126.6010, 123.2910],\n",
       "        [136.4050,  82.5783],\n",
       "        [141.9040, 108.3570],\n",
       "        [131.2480, 100.6380],\n",
       "        [100.8210, 204.7660],\n",
       "        [185.4830, 172.5170],\n",
       "        [ 91.4511,  96.3124],\n",
       "        [128.5320,  95.5213],\n",
       "        [185.4850,  85.0633],\n",
       "        [ 95.6395, 160.2770],\n",
       "        [ 92.3152, 153.9290],\n",
       "        [203.9860, 184.3480],\n",
       "        [155.0890, 134.5510],\n",
       "        [149.9100, 113.5680],\n",
       "        [195.1920, 100.6280],\n",
       "        [100.8330,  96.5527],\n",
       "        [199.4790, 105.7730],\n",
       "        [115.6590,  96.0246],\n",
       "        [151.6390, 100.9030],\n",
       "        [ 81.8273,  98.6823],\n",
       "        [ 83.3104, 158.8940],\n",
       "        [136.9240, 137.7740],\n",
       "        [159.6560, 126.4460],\n",
       "        [110.6320, 158.2630],\n",
       "        [150.8120, 146.2820],\n",
       "        [200.5440, 114.4310],\n",
       "        [102.3610,  84.4917],\n",
       "        [152.9660,  90.4363],\n",
       "        [149.7760,  83.5025],\n",
       "        [ 82.8265, 123.9140],\n",
       "        [ 93.3851, 119.2220],\n",
       "        [132.3580, 110.8030],\n",
       "        [ 85.3016, 108.2930],\n",
       "        [186.9470, 118.1620],\n",
       "        [169.3010, 110.0940],\n",
       "        [131.9270, 131.7520],\n",
       "        [ 88.2524, 160.3460],\n",
       "        [ 87.7144, 152.1510],\n",
       "        [164.4300, 122.2650],\n",
       "        [157.5740, 196.4140],\n",
       "        [106.8530, 185.6620],\n",
       "        [104.6530, 100.5250],\n",
       "        [207.9170, 130.2600],\n",
       "        [116.5900, 113.6950],\n",
       "        [104.9460, 127.1240],\n",
       "        [139.9540, 102.7850],\n",
       "        [170.8290,  95.6021],\n",
       "        [104.5760,  96.3404],\n",
       "        [137.3790,  82.6922],\n",
       "        [256.1630, 136.4260],\n",
       "        [126.8030, 168.7730],\n",
       "        [135.1950, 157.8030],\n",
       "        [ 87.9443,  82.3179],\n",
       "        [121.4950, 158.1000],\n",
       "        [130.5630, 126.4500],\n",
       "        [104.1560,  99.3808],\n",
       "        [193.8790,  95.7146],\n",
       "        [249.8150, 124.6890],\n",
       "        [ 83.9687,  97.6362],\n",
       "        [130.6290, 108.0540],\n",
       "        [130.8720, 130.5120],\n",
       "        [126.2520, 119.9770],\n",
       "        [147.8320, 221.2390]], dtype=torch.float64)"
      ]
     },
     "execution_count": 66,
     "metadata": {},
     "output_type": "execute_result"
    }
   ],
   "source": [
    "y_train"
   ]
  },
  {
   "cell_type": "code",
   "execution_count": 67,
   "id": "b1e17ce0",
   "metadata": {},
   "outputs": [
    {
     "data": {
      "text/plain": [
       "torch.Size([180, 6])"
      ]
     },
     "execution_count": 67,
     "metadata": {},
     "output_type": "execute_result"
    }
   ],
   "source": [
    "x_train.shape"
   ]
  },
  {
   "cell_type": "code",
   "execution_count": 68,
   "id": "670120df",
   "metadata": {},
   "outputs": [
    {
     "name": "stdout",
     "output_type": "stream",
     "text": [
      "0\n",
      "1\n"
     ]
    }
   ],
   "source": [
    "emulator = GPE.ensemble(x_train,y_train,mean_func=\"linear\",training_iter=500)"
   ]
  },
  {
   "cell_type": "code",
   "execution_count": 69,
   "id": "0a066022",
   "metadata": {},
   "outputs": [
    {
     "name": "stdout",
     "output_type": "stream",
     "text": [
      "[0.380083, 0.799735]\n",
      "[0.200153, 0.499872]\n",
      "[1.20065, 8.39871]\n",
      "[0.300266, 1.02989]\n",
      "[0.200007, 0.49989]\n",
      "[1.00205, 5.69927]\n"
     ]
    }
   ],
   "source": [
    "nDim = input_masked.shape[1]\n",
    "boundsMaxMin = []\n",
    "for i in range(nDim):\n",
    "    boundsMaxMin.append([np.min(input_masked.iloc[:,i]),np.max(input_masked.iloc[:,i])])\n",
    "    print(boundsMaxMin[i])"
   ]
  },
  {
   "cell_type": "code",
   "execution_count": 70,
   "id": "5b05f92a",
   "metadata": {},
   "outputs": [
    {
     "name": "stderr",
     "output_type": "stream",
     "text": [
      "/var/folders/_j/ptyc01811q5b1dg30hshtfzh0000gr/T/ipykernel_92659/2553582652.py:24: DeprecationWarning: `salib.sample.saltelli` will be removed in SALib 1.5. Please use `salib.sample.sobol`\n",
      "  param_values = saltelli.sample(problem, 1024)\n"
     ]
    }
   ],
   "source": [
    "##### from SALib.sample import saltelli\n",
    "from SALib.sample import saltelli\n",
    "from SALib.analyze import sobol\n",
    "from SALib.test_functions import Ishigami\n",
    "import numpy as np\n",
    "\n",
    "# Define the model inputs\n",
    "problem = {\n",
    "    'num_vars': nDim,\n",
    "    'names': x_labels,\n",
    "    'bounds': boundsMaxMin\n",
    "    #'bounds': [[-1, 1],\n",
    "     #          [-1, 1],\n",
    "      #         [-1, 1],\n",
    "       #        [-1, 1],\n",
    "        #       [-1, 1],\n",
    "         #      [-1, 1],\n",
    "          #     [-1, 1],\n",
    "           #    [-1, 1],\n",
    "            #   [-1,1]]\n",
    "}\n",
    "\n",
    "# Generate samples\n",
    "param_values = saltelli.sample(problem, 1024)\n",
    "\n",
    "data1 = torch.tensor(param_values)\n",
    "#data1.columns = X_train.columns\n",
    "\n",
    "Ymean=emulator.predict(data1)"
   ]
  },
  {
   "cell_type": "code",
   "execution_count": 71,
   "id": "280aaa98",
   "metadata": {},
   "outputs": [
    {
     "data": {
      "text/plain": [
       "torch.Size([14336, 6])"
      ]
     },
     "execution_count": 71,
     "metadata": {},
     "output_type": "execute_result"
    }
   ],
   "source": [
    "data1.shape"
   ]
  },
  {
   "cell_type": "code",
   "execution_count": 51,
   "id": "79378723",
   "metadata": {},
   "outputs": [
    {
     "name": "stdout",
     "output_type": "stream",
     "text": [
      "                        ST   ST_conf\n",
      "(CV_ventricles,)  0.000010  0.000001\n",
      "(k_ventricles,)   0.000012  0.000002\n",
      "(k_FEC,)          0.000032  0.000008\n",
      "(CV_atria,)       0.943462  0.064192\n",
      "(k_atria,)        0.030492  0.003051\n",
      "(k_BB,)           0.036180  0.004614\n",
      "                        S1   S1_conf\n",
      "(CV_ventricles,) -0.000083  0.000287\n",
      "(k_ventricles,)   0.000132  0.000299\n",
      "(k_FEC,)         -0.000014  0.000473\n",
      "(CV_atria,)       0.932352  0.089277\n",
      "(k_atria,)        0.027163  0.014184\n",
      "(k_BB,)           0.034890  0.018309\n",
      "Empty DataFrame\n",
      "Columns: [S2, S2_conf]\n",
      "Index: []\n",
      "                        ST   ST_conf\n",
      "(CV_ventricles,)  0.815913  0.059415\n",
      "(k_ventricles,)   0.154432  0.013933\n",
      "(k_FEC,)          0.038357  0.005354\n",
      "(CV_atria,)       0.000038  0.000006\n",
      "(k_atria,)        0.000042  0.000006\n",
      "(k_BB,)           0.000073  0.000015\n",
      "                        S1   S1_conf\n",
      "(CV_ventricles,)  0.809071  0.068281\n",
      "(k_ventricles,)   0.145750  0.031262\n",
      "(k_FEC,)          0.031830  0.019485\n",
      "(CV_atria,)      -0.000492  0.000548\n",
      "(k_atria,)        0.000130  0.000488\n",
      "(k_BB,)          -0.000460  0.000737\n",
      "Empty DataFrame\n",
      "Columns: [S2, S2_conf]\n",
      "Index: []\n"
     ]
    }
   ],
   "source": [
    "Si = []\n",
    "nMod = y_all.shape[1]\n",
    "nDim = input_masked.shape[1]\n",
    "for i in range(nMod):\n",
    "    Si.append(sobol.analyze(problem, Ymean[:,i].detach().numpy(), print_to_console=True,calc_second_order=True))"
   ]
  },
  {
   "cell_type": "code",
   "execution_count": 52,
   "id": "be973aac",
   "metadata": {},
   "outputs": [],
   "source": [
    "Si_first=np.zeros((nDim,nMod))\n",
    "Si_total=np.zeros((nDim,nMod))\n",
    "for i in range(nMod):\n",
    "    total_Si, first_Si, second_Si = Si[i].to_df()\n",
    "    Si_first[:,i] =  first_Si.iloc[:,0]\n",
    "    Si_total[:,i] =  total_Si.iloc[:,0]\n"
   ]
  },
  {
   "cell_type": "code",
   "execution_count": 53,
   "id": "dce4441b",
   "metadata": {},
   "outputs": [
    {
     "data": {
      "text/plain": [
       "['CV_ventricles', 'k_ventricles', 'k_FEC', 'CV_atria', 'k_atria', 'k_BB']"
      ]
     },
     "execution_count": 53,
     "metadata": {},
     "output_type": "execute_result"
    }
   ],
   "source": [
    "x_labels.values.squeeze().tolist()"
   ]
  },
  {
   "cell_type": "code",
   "execution_count": 54,
   "id": "e263f1fa",
   "metadata": {},
   "outputs": [
    {
     "data": {
      "text/plain": [
       "['A_TAT', 'V_TAT']"
      ]
     },
     "execution_count": 54,
     "metadata": {},
     "output_type": "execute_result"
    }
   ],
   "source": [
    "y_all.columns.tolist()"
   ]
  },
  {
   "cell_type": "code",
   "execution_count": 55,
   "id": "47ad6507",
   "metadata": {},
   "outputs": [
    {
     "data": {
      "text/plain": [
       "['PCa_b',\n",
       " 'Tref',\n",
       " 'perm50',\n",
       " 'CV_ventricles',\n",
       " 'a_ventricles',\n",
       " 'EDP_lv',\n",
       " 'EDP_rv',\n",
       " 'Rsys',\n",
       " 'Rpulm']"
      ]
     },
     "execution_count": 55,
     "metadata": {},
     "output_type": "execute_result"
    }
   ],
   "source": [
    "['PCa_b',\n",
    " 'Tref',\n",
    " 'perm50',\n",
    " 'CV_ventricles',\n",
    " 'a_ventricles',\n",
    " 'EDP_lv',\n",
    " 'EDP_rv',\n",
    " 'Rsys',\n",
    " 'Rpulm']"
   ]
  },
  {
   "cell_type": "code",
   "execution_count": 56,
   "id": "b6b05bcd",
   "metadata": {},
   "outputs": [
    {
     "data": {
      "text/plain": [
       "<matplotlib.colorbar.Colorbar at 0x2bc767190>"
      ]
     },
     "execution_count": 56,
     "metadata": {},
     "output_type": "execute_result"
    },
    {
     "data": {
      "image/png": "[encoded data removed]",
      "text/plain": [
       "<Figure size 640x480 with 2 Axes>"
      ]
     },
     "metadata": {},
     "output_type": "display_data"
    }
   ],
   "source": [
    "inputs = X_all.columns.tolist()\n",
    "outputs = y_all.columns.tolist()\n",
    "fig, ax = plt.subplots()\n",
    "im = ax.imshow(Si_first[0:28],cmap='magma_r',vmin=0,vmax=1)\n",
    "\n",
    "ax.set_xticks(np.arange(len(outputs)),labels=outputs)\n",
    "ax.set_yticks(np.arange(len(inputs)), labels=inputs)\n",
    "plt.setp(ax.get_xticklabels(), rotation=60, ha=\"right\",\n",
    "         rotation_mode=\"anchor\");\n",
    "\n",
    "plt.colorbar(im,fraction=0.015, pad=0.04)"
   ]
  },
  {
   "cell_type": "code",
   "execution_count": 57,
   "id": "1bae98e0",
   "metadata": {
    "scrolled": false
   },
   "outputs": [
    {
     "data": {
      "text/plain": [
       "<matplotlib.colorbar.Colorbar at 0x2bc7feed0>"
      ]
     },
     "execution_count": 57,
     "metadata": {},
     "output_type": "execute_result"
    },
    {
     "data": {
      "image/png": "[encoded data removed]",
      "text/plain": [
       "<Figure size 640x480 with 2 Axes>"
      ]
     },
     "metadata": {},
     "output_type": "display_data"
    }
   ],
   "source": [
    "inputs = X_all.columns.tolist()\n",
    "outputs = y_all.columns.tolist()\n",
    "fig, ax = plt.subplots()\n",
    "im = ax.imshow(Si_total.T[0:28],cmap='magma_r',vmin=0,vmax=1)\n",
    "\n",
    "ax.set_yticks(np.arange(len(outputs)),labels=outputs)\n",
    "ax.set_xticks(np.arange(len(inputs)), labels=inputs)\n",
    "plt.setp(ax.get_xticklabels(), rotation=65, ha=\"right\",\n",
    "         rotation_mode=\"anchor\");\n",
    "\n",
    "plt.colorbar(im,fraction=0.015, pad=0.04)"
   ]
  },
  {
   "cell_type": "code",
   "execution_count": 58,
   "id": "15305bfc",
   "metadata": {},
   "outputs": [],
   "source": [
    "np.savetxt(\"Si_total_EP_\"+str(mesh)+\".csv\", Si_total, delimiter=\",\")\n",
    "np.savetxt(\"Si_first_EP_\"+str(mesh)+\".csv\", Si_first, delimiter=\",\")"
   ]
  },
  {
   "cell_type": "code",
   "execution_count": null,
   "id": "5f939c54",
   "metadata": {},
   "outputs": [],
   "source": []
  }
 ],
 "metadata": {
  "kernelspec": {
   "display_name": "Python 3 (ipykernel)",
   "language": "python",
   "name": "python3"
  },
  "language_info": {
   "codemirror_mode": {
    "name": "ipython",
    "version": 3
   },
   "file_extension": ".py",
   "mimetype": "text/x-python",
   "name": "python",
   "nbconvert_exporter": "python",
   "pygments_lexer": "ipython3",
   "version": "3.11.5"
  }
 },
 "nbformat": 4,
 "nbformat_minor": 5
}
