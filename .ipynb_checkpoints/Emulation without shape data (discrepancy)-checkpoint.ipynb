{
 "cells": [
  {
   "cell_type": "code",
   "execution_count": 2,
   "id": "a4cca39d",
   "metadata": {},
   "outputs": [],
   "source": [
    "import math\n",
    "import torch\n",
    "import gpytorch\n",
    "import pandas as pd\n",
    "import numpy as np\n",
    "from matplotlib import pyplot as plt\n",
    "import os\n",
    "import GPE_ensemble as GPE\n",
    "\n",
    "from GPErks.gp.experiment import GPExperiment\n",
    "from GPErks.train.emulator import GPEmulator\n",
    "from GPErks.perks.inference import Inference\n",
    "from GPErks.train.early_stop import NoEarlyStoppingCriterion\n",
    "from GPErks.train.early_stop import (\n",
    "    GLEarlyStoppingCriterion,\n",
    "    PQEarlyStoppingCriterion,\n",
    "    UPEarlyStoppingCriterion, \n",
    ")\n",
    "from GPErks.train.early_stop import PkEarlyStoppingCriterion\n",
    "\n",
    "import scipy\n",
    "\n",
    "%matplotlib inline\n",
    "%load_ext autoreload\n",
    "%autoreload 2\n",
    "\n",
    "from sklearn.model_selection import train_test_split\n",
    "\n",
    "# set logger and enforce reproducibility\n",
    "from GPErks.log.logger import get_logger\n",
    "from GPErks.utils.random import set_seed\n",
    "log = get_logger()\n",
    "seed = 8\n",
    "set_seed(seed)"
   ]
  },
  {
   "cell_type": "code",
   "execution_count": 3,
   "id": "622c2fed",
   "metadata": {},
   "outputs": [],
   "source": [
    "x_labels=pd.read_csv(r'C:\\Users\\pmzcwl\\Documents\\GitHub\\Calibration\\shared_simulations\\EP_healthy\\input\\xlabels_EP.txt',delim_whitespace=True,header=None)"
   ]
  },
  {
   "cell_type": "code",
   "execution_count": 4,
   "id": "4a0511d3",
   "metadata": {},
   "outputs": [],
   "source": [
    "y_labels=pd.read_csv(r'C:\\Users\\pmzcwl\\Documents\\GitHub\\Calibration\\shared_simulations\\EP_healthy\\output\\ylabels.txt',delim_whitespace=True,header=None)"
   ]
  },
  {
   "cell_type": "code",
   "execution_count": 5,
   "id": "afefc910",
   "metadata": {},
   "outputs": [],
   "source": [
    "inputData_0 = pd.read_csv(\"/Users/pmzcwl/Documents/GitHub/Calibration/shared_simulations/EP_healthy/01/X_EP.txt\",index_col=None,delim_whitespace=True,header=None).values\n",
    "outputData_0 = pd.read_csv(\"/Users/pmzcwl/Documents/GitHub/Calibration/shared_simulations/EP_healthy/01/Y.txt\",index_col=None,delim_whitespace=True,header=None).values\n",
    "\n",
    "inputData_1 = pd.read_csv(\"/Users/pmzcwl/Documents/GitHub/Calibration/shared_simulations/EP_healthy/02/X_EP.txt\",index_col=None,delim_whitespace=True,header=None).values\n",
    "outputData_1 = pd.read_csv(\"/Users/pmzcwl/Documents/GitHub/Calibration/shared_simulations/EP_healthy/02/Y.txt\",index_col=None,delim_whitespace=True,header=None).values\n",
    "\n",
    "X0 = pd.DataFrame(inputData_0)\n",
    "Y0 = pd.DataFrame(outputData_0)\n",
    "\n",
    "X1 = pd.DataFrame(inputData_1)\n",
    "Y1 = pd.DataFrame(outputData_1)\n"
   ]
  },
  {
   "cell_type": "code",
   "execution_count": 6,
   "id": "5572a0b7",
   "metadata": {},
   "outputs": [
    {
     "name": "stdout",
     "output_type": "stream",
     "text": [
      "0\n",
      "1\n"
     ]
    }
   ],
   "source": [
    "emulator_0 = GPE.ensemble(X0,Y0,mean_func=\"linear\",training_iter=500)"
   ]
  },
  {
   "cell_type": "code",
   "execution_count": null,
   "id": "eb70a01f",
   "metadata": {},
   "outputs": [],
   "source": []
  },
  {
   "cell_type": "code",
   "execution_count": 7,
   "id": "2f92cd05",
   "metadata": {},
   "outputs": [],
   "source": [
    "# split original dataset in training, validation and testing sets\n",
    "X_train, X_test, y_train, y_test = train_test_split(\n",
    "    X1,\n",
    "    Y1,\n",
    "    test_size=0.1,\n",
    "    random_state=seed\n",
    ")"
   ]
  },
  {
   "cell_type": "code",
   "execution_count": 8,
   "id": "8d1c64c3",
   "metadata": {},
   "outputs": [
    {
     "data": {
      "text/plain": [
       "6"
      ]
     },
     "execution_count": 8,
     "metadata": {},
     "output_type": "execute_result"
    }
   ],
   "source": [
    "X_test.shape[1]"
   ]
  },
  {
   "cell_type": "code",
   "execution_count": 17,
   "id": "b747554b",
   "metadata": {
    "scrolled": false
   },
   "outputs": [],
   "source": [
    "a=np.random.choice(range(X_train.shape[0]),18,replace=False)"
   ]
  },
  {
   "cell_type": "code",
   "execution_count": 19,
   "id": "7ebe2b2d",
   "metadata": {},
   "outputs": [
    {
     "data": {
      "text/html": [
       "<div>\n",
       "<style scoped>\n",
       "    .dataframe tbody tr th:only-of-type {\n",
       "        vertical-align: middle;\n",
       "    }\n",
       "\n",
       "    .dataframe tbody tr th {\n",
       "        vertical-align: top;\n",
       "    }\n",
       "\n",
       "    .dataframe thead th {\n",
       "        text-align: right;\n",
       "    }\n",
       "</style>\n",
       "<table border=\"1\" class=\"dataframe\">\n",
       "  <thead>\n",
       "    <tr style=\"text-align: right;\">\n",
       "      <th></th>\n",
       "      <th>0</th>\n",
       "      <th>1</th>\n",
       "      <th>2</th>\n",
       "      <th>3</th>\n",
       "      <th>4</th>\n",
       "      <th>5</th>\n",
       "    </tr>\n",
       "  </thead>\n",
       "  <tbody>\n",
       "    <tr>\n",
       "      <th>18</th>\n",
       "      <td>0.522433</td>\n",
       "      <td>0.299030</td>\n",
       "      <td>5.15199</td>\n",
       "      <td>0.932090</td>\n",
       "      <td>0.360966</td>\n",
       "      <td>4.49964</td>\n",
       "    </tr>\n",
       "    <tr>\n",
       "      <th>15</th>\n",
       "      <td>0.735668</td>\n",
       "      <td>0.427465</td>\n",
       "      <td>5.97280</td>\n",
       "      <td>0.545309</td>\n",
       "      <td>0.393571</td>\n",
       "      <td>2.68928</td>\n",
       "    </tr>\n",
       "    <tr>\n",
       "      <th>53</th>\n",
       "      <td>0.451063</td>\n",
       "      <td>0.396664</td>\n",
       "      <td>1.28570</td>\n",
       "      <td>0.406138</td>\n",
       "      <td>0.243779</td>\n",
       "      <td>1.38460</td>\n",
       "    </tr>\n",
       "    <tr>\n",
       "      <th>102</th>\n",
       "      <td>0.436417</td>\n",
       "      <td>0.338536</td>\n",
       "      <td>2.59911</td>\n",
       "      <td>0.572374</td>\n",
       "      <td>0.451312</td>\n",
       "      <td>4.81187</td>\n",
       "    </tr>\n",
       "    <tr>\n",
       "      <th>92</th>\n",
       "      <td>0.541112</td>\n",
       "      <td>0.379292</td>\n",
       "      <td>8.17393</td>\n",
       "      <td>0.698289</td>\n",
       "      <td>0.364063</td>\n",
       "      <td>3.94953</td>\n",
       "    </tr>\n",
       "    <tr>\n",
       "      <th>7</th>\n",
       "      <td>0.715174</td>\n",
       "      <td>0.244879</td>\n",
       "      <td>6.58943</td>\n",
       "      <td>0.945305</td>\n",
       "      <td>0.459602</td>\n",
       "      <td>3.99970</td>\n",
       "    </tr>\n",
       "    <tr>\n",
       "      <th>98</th>\n",
       "      <td>0.737398</td>\n",
       "      <td>0.378251</td>\n",
       "      <td>5.28549</td>\n",
       "      <td>0.639682</td>\n",
       "      <td>0.446726</td>\n",
       "      <td>5.26139</td>\n",
       "    </tr>\n",
       "    <tr>\n",
       "      <th>85</th>\n",
       "      <td>0.449527</td>\n",
       "      <td>0.406690</td>\n",
       "      <td>8.27665</td>\n",
       "      <td>0.372276</td>\n",
       "      <td>0.257453</td>\n",
       "      <td>5.66148</td>\n",
       "    </tr>\n",
       "    <tr>\n",
       "      <th>13</th>\n",
       "      <td>0.538537</td>\n",
       "      <td>0.454663</td>\n",
       "      <td>4.96646</td>\n",
       "      <td>0.603383</td>\n",
       "      <td>0.421177</td>\n",
       "      <td>1.10726</td>\n",
       "    </tr>\n",
       "    <tr>\n",
       "      <th>88</th>\n",
       "      <td>0.699286</td>\n",
       "      <td>0.272556</td>\n",
       "      <td>6.33115</td>\n",
       "      <td>0.846471</td>\n",
       "      <td>0.355561</td>\n",
       "      <td>3.02786</td>\n",
       "    </tr>\n",
       "    <tr>\n",
       "      <th>117</th>\n",
       "      <td>0.660042</td>\n",
       "      <td>0.216960</td>\n",
       "      <td>6.67865</td>\n",
       "      <td>0.865447</td>\n",
       "      <td>0.207534</td>\n",
       "      <td>3.08593</td>\n",
       "    </tr>\n",
       "    <tr>\n",
       "      <th>70</th>\n",
       "      <td>0.401378</td>\n",
       "      <td>0.371581</td>\n",
       "      <td>4.43419</td>\n",
       "      <td>0.956985</td>\n",
       "      <td>0.273010</td>\n",
       "      <td>5.35066</td>\n",
       "    </tr>\n",
       "    <tr>\n",
       "      <th>178</th>\n",
       "      <td>0.381607</td>\n",
       "      <td>0.466018</td>\n",
       "      <td>4.17615</td>\n",
       "      <td>0.921479</td>\n",
       "      <td>0.208698</td>\n",
       "      <td>3.59094</td>\n",
       "    </tr>\n",
       "    <tr>\n",
       "      <th>20</th>\n",
       "      <td>0.723636</td>\n",
       "      <td>0.220040</td>\n",
       "      <td>5.39449</td>\n",
       "      <td>1.014100</td>\n",
       "      <td>0.299544</td>\n",
       "      <td>3.14231</td>\n",
       "    </tr>\n",
       "    <tr>\n",
       "      <th>93</th>\n",
       "      <td>0.639832</td>\n",
       "      <td>0.214605</td>\n",
       "      <td>7.37113</td>\n",
       "      <td>0.418979</td>\n",
       "      <td>0.374193</td>\n",
       "      <td>1.82375</td>\n",
       "    </tr>\n",
       "    <tr>\n",
       "      <th>41</th>\n",
       "      <td>0.588479</td>\n",
       "      <td>0.226617</td>\n",
       "      <td>5.11876</td>\n",
       "      <td>0.324999</td>\n",
       "      <td>0.305991</td>\n",
       "      <td>5.40763</td>\n",
       "    </tr>\n",
       "    <tr>\n",
       "      <th>74</th>\n",
       "      <td>0.498091</td>\n",
       "      <td>0.385781</td>\n",
       "      <td>1.71039</td>\n",
       "      <td>0.358654</td>\n",
       "      <td>0.293272</td>\n",
       "      <td>5.63807</td>\n",
       "    </tr>\n",
       "    <tr>\n",
       "      <th>19</th>\n",
       "      <td>0.568263</td>\n",
       "      <td>0.388326</td>\n",
       "      <td>8.00412</td>\n",
       "      <td>0.876474</td>\n",
       "      <td>0.446626</td>\n",
       "      <td>1.46373</td>\n",
       "    </tr>\n",
       "  </tbody>\n",
       "</table>\n",
       "</div>"
      ],
      "text/plain": [
       "            0         1        2         3         4        5\n",
       "18   0.522433  0.299030  5.15199  0.932090  0.360966  4.49964\n",
       "15   0.735668  0.427465  5.97280  0.545309  0.393571  2.68928\n",
       "53   0.451063  0.396664  1.28570  0.406138  0.243779  1.38460\n",
       "102  0.436417  0.338536  2.59911  0.572374  0.451312  4.81187\n",
       "92   0.541112  0.379292  8.17393  0.698289  0.364063  3.94953\n",
       "7    0.715174  0.244879  6.58943  0.945305  0.459602  3.99970\n",
       "98   0.737398  0.378251  5.28549  0.639682  0.446726  5.26139\n",
       "85   0.449527  0.406690  8.27665  0.372276  0.257453  5.66148\n",
       "13   0.538537  0.454663  4.96646  0.603383  0.421177  1.10726\n",
       "88   0.699286  0.272556  6.33115  0.846471  0.355561  3.02786\n",
       "117  0.660042  0.216960  6.67865  0.865447  0.207534  3.08593\n",
       "70   0.401378  0.371581  4.43419  0.956985  0.273010  5.35066\n",
       "178  0.381607  0.466018  4.17615  0.921479  0.208698  3.59094\n",
       "20   0.723636  0.220040  5.39449  1.014100  0.299544  3.14231\n",
       "93   0.639832  0.214605  7.37113  0.418979  0.374193  1.82375\n",
       "41   0.588479  0.226617  5.11876  0.324999  0.305991  5.40763\n",
       "74   0.498091  0.385781  1.71039  0.358654  0.293272  5.63807\n",
       "19   0.568263  0.388326  8.00412  0.876474  0.446626  1.46373"
      ]
     },
     "execution_count": 19,
     "metadata": {},
     "output_type": "execute_result"
    }
   ],
   "source": [
    "X_train.iloc[a]"
   ]
  },
  {
   "cell_type": "code",
   "execution_count": 20,
   "id": "3b40912e",
   "metadata": {},
   "outputs": [],
   "source": [
    "m0 = emulator_0.predict(X_train)"
   ]
  },
  {
   "cell_type": "code",
   "execution_count": 21,
   "id": "a905056a",
   "metadata": {
    "scrolled": true
   },
   "outputs": [],
   "source": [
    "y_adjust = pd.DataFrame((torch.tensor(y_train.values) - m0).detach().numpy())"
   ]
  },
  {
   "cell_type": "code",
   "execution_count": 22,
   "id": "11816adb",
   "metadata": {},
   "outputs": [
    {
     "name": "stdout",
     "output_type": "stream",
     "text": [
      "0\n",
      "1\n"
     ]
    }
   ],
   "source": [
    "delta_1 = GPE.ensemble(X_train,y_adjust,mean_func=\"linear\",training_iter=500)"
   ]
  },
  {
   "cell_type": "code",
   "execution_count": 44,
   "id": "e1074fe7",
   "metadata": {},
   "outputs": [
    {
     "data": {
      "text/plain": [
       "array([8.88978199, 1.41457631])"
      ]
     },
     "execution_count": 44,
     "metadata": {},
     "output_type": "execute_result"
    }
   ],
   "source": [
    "np.sqrt(((emulator_0.predict(X_test)+delta_1.predict(X_test)-torch.tensor(y_test.values))**2).mean(axis=0).detach().numpy())"
   ]
  },
  {
   "cell_type": "code",
   "execution_count": 24,
   "id": "5209d687",
   "metadata": {},
   "outputs": [
    {
     "data": {
      "text/plain": [
       "tensor([0.9999, 0.9986], dtype=torch.float64, grad_fn=<RsubBackward1>)"
      ]
     },
     "execution_count": 24,
     "metadata": {},
     "output_type": "execute_result"
    }
   ],
   "source": [
    "1-((emulator_0.predict(X_test)+delta_1.predict(X_test)-torch.tensor(y_test.values))**2).mean(axis=0)/torch.tensor(np.var(y_test.values,axis=0))"
   ]
  },
  {
   "cell_type": "code",
   "execution_count": null,
   "id": "850ba914",
   "metadata": {},
   "outputs": [],
   "source": []
  },
  {
   "cell_type": "code",
   "execution_count": 59,
   "id": "50099753",
   "metadata": {},
   "outputs": [
    {
     "name": "stdout",
     "output_type": "stream",
     "text": [
      "0\n",
      "1\n",
      "0\n",
      "1\n",
      "0\n",
      "1\n",
      "0\n",
      "1\n",
      "0\n",
      "1\n",
      "0\n",
      "1\n",
      "0\n",
      "1\n",
      "0\n",
      "1\n",
      "0\n",
      "1\n"
     ]
    },
    {
     "ename": "ValueError",
     "evalue": "Cannot take a larger sample than population when 'replace=False'",
     "output_type": "error",
     "traceback": [
      "\u001b[1;31m---------------------------------------------------------------------------\u001b[0m",
      "\u001b[1;31mValueError\u001b[0m                                Traceback (most recent call last)",
      "Cell \u001b[1;32mIn[59], line 6\u001b[0m\n\u001b[0;32m      4\u001b[0m R2 \u001b[38;5;241m=\u001b[39m np\u001b[38;5;241m.\u001b[39mzeros((n,\u001b[38;5;241m2\u001b[39m))\n\u001b[0;32m      5\u001b[0m \u001b[38;5;28;01mfor\u001b[39;00m i \u001b[38;5;129;01min\u001b[39;00m \u001b[38;5;28mrange\u001b[39m(n):\n\u001b[1;32m----> 6\u001b[0m     a\u001b[38;5;241m=\u001b[39mnp\u001b[38;5;241m.\u001b[39mrandom\u001b[38;5;241m.\u001b[39mchoice(\u001b[38;5;28mrange\u001b[39m(X_train\u001b[38;5;241m.\u001b[39mshape[\u001b[38;5;241m0\u001b[39m]),(i\u001b[38;5;241m+\u001b[39m\u001b[38;5;241m1\u001b[39m)\u001b[38;5;241m*\u001b[39m\u001b[38;5;241m18\u001b[39m,replace\u001b[38;5;241m=\u001b[39m\u001b[38;5;28;01mFalse\u001b[39;00m)\n\u001b[0;32m      7\u001b[0m     m0 \u001b[38;5;241m=\u001b[39m emulator_0\u001b[38;5;241m.\u001b[39mpredict(X_train\u001b[38;5;241m.\u001b[39miloc[a,:])\n\u001b[0;32m      8\u001b[0m     y_adjust \u001b[38;5;241m=\u001b[39m pd\u001b[38;5;241m.\u001b[39mDataFrame((torch\u001b[38;5;241m.\u001b[39mtensor(y_train\u001b[38;5;241m.\u001b[39miloc[a]\u001b[38;5;241m.\u001b[39mvalues) \u001b[38;5;241m-\u001b[39m m0)\u001b[38;5;241m.\u001b[39mdetach()\u001b[38;5;241m.\u001b[39mnumpy())\n",
      "File \u001b[1;32mmtrand.pyx:984\u001b[0m, in \u001b[0;36mnumpy.random.mtrand.RandomState.choice\u001b[1;34m()\u001b[0m\n",
      "\u001b[1;31mValueError\u001b[0m: Cannot take a larger sample than population when 'replace=False'"
     ]
    }
   ],
   "source": [
    "p = X_train.shape[0]*0.05\n",
    "n = int(X_train.shape[0]/p)\n",
    "MSE = np.zeros((n,2))\n",
    "R2 = np.zeros((n,2))\n",
    "for i in range(n):\n",
    "    a=np.random.choice(range(X_train.shape[0]),(i+1)*18,replace=False)\n",
    "    m0 = emulator_0.predict(X_train.iloc[a,:])\n",
    "    y_adjust = pd.DataFrame((torch.tensor(y_train.iloc[a].values) - m0).detach().numpy())\n",
    "    delta_1 = GPE.ensemble(X_train.iloc[a,:],y_adjust,mean_func=\"linear\",training_iter=500)\n",
    "    MSE[i] = np.sqrt(((emulator_0.predict(X_test)+delta_1.predict(X_test)-torch.tensor(y_test.values))**2).mean(axis=0).detach().numpy())\n",
    "    R2[i] = (1-((emulator_0.predict(X_test)+delta_1.predict(X_test)-torch.tensor(y_test.values))**2).mean(axis=0)/torch.tensor(np.var(y_test.values,axis=0))).detach().numpy()"
   ]
  },
  {
   "cell_type": "code",
   "execution_count": null,
   "id": "3b4e0863",
   "metadata": {},
   "outputs": [],
   "source": [
    "x = np.linspace(p,X_train.shape[0],n)\n",
    "x"
   ]
  },
  {
   "cell_type": "code",
   "execution_count": null,
   "id": "a6509005",
   "metadata": {},
   "outputs": [],
   "source": [
    "plt.plot(x,MSE)"
   ]
  },
  {
   "cell_type": "code",
   "execution_count": null,
   "id": "db41cebd",
   "metadata": {},
   "outputs": [],
   "source": [
    "plt.plot(x,R2)"
   ]
  },
  {
   "cell_type": "code",
   "execution_count": null,
   "id": "9bb95f5f",
   "metadata": {},
   "outputs": [],
   "source": []
  }
 ],
 "metadata": {
  "kernelspec": {
   "display_name": "Python 3 (ipykernel)",
   "language": "python",
   "name": "python3"
  },
  "language_info": {
   "codemirror_mode": {
    "name": "ipython",
    "version": 3
   },
   "file_extension": ".py",
   "mimetype": "text/x-python",
   "name": "python",
   "nbconvert_exporter": "python",
   "pygments_lexer": "ipython3",
   "version": "3.11.5"
  }
 },
 "nbformat": 4,
 "nbformat_minor": 5
}
