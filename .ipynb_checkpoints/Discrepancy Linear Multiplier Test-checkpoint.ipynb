{
 "cells": [
  {
   "cell_type": "code",
   "execution_count": 1,
   "id": "056f1e13",
   "metadata": {},
   "outputs": [],
   "source": [
    "import math\n",
    "import torch\n",
    "import gpytorch\n",
    "import pandas as pd\n",
    "import numpy as np\n",
    "from matplotlib import pyplot as plt\n",
    "\n",
    "import GPE_ensemble as GPE\n",
    "\n",
    "import os\n",
    "from sklearn.linear_model import LinearRegression\n",
    "from sklearn.metrics import mean_squared_error, r2_score\n",
    "from sklearn.model_selection import train_test_split\n",
    "#from GPErks.gp.data.dataset import Dataset\n",
    "from gpytorch.likelihoods import GaussianLikelihood\n",
    "from gpytorch.means import LinearMean\n",
    "from gpytorch.kernels import RBFKernel, ScaleKernel\n",
    "from torchmetrics import MeanSquaredError, R2Score\n",
    "#from GPErks.gp.experiment import GPExperiment\n",
    "#from GPErks.train.emulator import GPEmulator\n",
    "#from GPErks.perks.inference import Inference\n",
    "#from GPErks.train.early_stop import NoEarlyStoppingCriterion\n",
    "#from GPErks.train.early_stop import (\n",
    "#    GLEarlyStoppingCriterion,\n",
    "#    PQEarlyStoppingCriterion,\n",
    "#    UPEarlyStoppingCriterion,\n",
    "#)\n",
    "#from GPErks.train.early_stop import PkEarlyStoppingCriterion\n",
    "\n",
    "\n",
    "\n",
    "%matplotlib inline\n",
    "%load_ext autoreload\n",
    "%autoreload 2\n",
    "\n",
    "# set logger and enforce reproducibility\n",
    "#from GPErks.log.logger import get_logger\n",
    "#from GPErks.utils.random import set_seed\n",
    "#log = get_logger()\n",
    "seed = 7\n",
    "#set_seed(seed)\n",
    "from time import process_time \n",
    "import scipy\n",
    "from scipy.optimize import minimize"
   ]
  },
  {
   "cell_type": "code",
   "execution_count": 2,
   "id": "626baf3c",
   "metadata": {},
   "outputs": [
    {
     "name": "stdout",
     "output_type": "stream",
     "text": [
      "0\n",
      "1\n"
     ]
    }
   ],
   "source": [
    "x_labels=pd.read_csv(r'/Users/pmzcwl/Library/CloudStorage/OneDrive-TheUniversityofNottingham/shared_simulations/EP_healthy/input/xlabels_EP.txt',delim_whitespace=True,header=None)\n",
    "\n",
    "y_labels=pd.read_csv(r'/Users/pmzcwl/Library/CloudStorage/OneDrive-TheUniversityofNottingham/shared_simulations/EP_healthy/output/ylabels.txt',delim_whitespace=True,header=None)\n",
    "\n",
    "y_labels\n",
    "\n",
    "inputData_0 = pd.read_csv(\"/Users/pmzcwl/Library/CloudStorage/OneDrive-TheUniversityofNottingham/shared_simulations/EP_healthy/01/X_EP.txt\",index_col=None,delim_whitespace=True,header=None).values\n",
    "outputData_0 = pd.read_csv(\"/Users/pmzcwl/Library/CloudStorage/OneDrive-TheUniversityofNottingham/shared_simulations/EP_healthy/01/Y.txt\",index_col=None,delim_whitespace=True,header=None).values\n",
    "\n",
    "inputData_1 = pd.read_csv(\"/Users/pmzcwl/Library/CloudStorage/OneDrive-TheUniversityofNottingham/shared_simulations/EP_healthy/02/X_EP.txt\",index_col=None,delim_whitespace=True,header=None).values\n",
    "outputData_1 = pd.read_csv(\"/Users/pmzcwl/Library/CloudStorage/OneDrive-TheUniversityofNottingham/shared_simulations/EP_healthy/02/Y.txt\",index_col=None,delim_whitespace=True,header=None).values\n",
    "\n",
    "X0 = torch.tensor(inputData_0)\n",
    "Y0 = torch.tensor(outputData_0)\n",
    "\n",
    "X1 = torch.tensor(inputData_1)\n",
    "Y1 = torch.tensor(outputData_1)\n",
    "\n",
    "\n",
    "\n",
    "emulator_0 = GPE.ensemble(X0,Y0,mean_func=\"constant\",training_iter=0)"
   ]
  },
  {
   "cell_type": "code",
   "execution_count": 3,
   "id": "8d58a14f",
   "metadata": {},
   "outputs": [],
   "source": [
    "X_train, X_test, y_train, y_test = train_test_split(\n",
    "                X1,\n",
    "                Y1,\n",
    "                test_size=0.1,\n",
    "                random_state=seed\n",
    "            )"
   ]
  },
  {
   "cell_type": "code",
   "execution_count": 6,
   "id": "25c0064e",
   "metadata": {},
   "outputs": [],
   "source": [
    "def proxy(a,y_train,m0,output):\n",
    "    a=torch.tensor(a)\n",
    "    res = ((a*m0-y_train)**2).mean(axis=1).detach().numpy()\n",
    "    return res[output]"
   ]
  },
  {
   "cell_type": "code",
   "execution_count": 11,
   "id": "691cff63",
   "metadata": {},
   "outputs": [
    {
     "name": "stdout",
     "output_type": "stream",
     "text": [
      "0\n",
      "1\n",
      "[0.90185251]\n",
      "[0.85678445]\n",
      "tensor([0.9019, 0.8568], dtype=torch.float64)\n",
      "0\n"
     ]
    },
    {
     "name": "stderr",
     "output_type": "stream",
     "text": [
      "/var/folders/_j/ptyc01811q5b1dg30hshtfzh0000gr/T/ipykernel_36472/428785023.py:21: UserWarning: To copy construct from a tensor, it is recommended to use sourceTensor.clone().detach() or sourceTensor.clone().detach().requires_grad_(True), rather than torch.tensor(sourceTensor).\n",
      "  y_adjust = torch.tensor(y_train[b] - a_d*m0)\n"
     ]
    },
    {
     "name": "stdout",
     "output_type": "stream",
     "text": [
      "1\n"
     ]
    },
    {
     "name": "stderr",
     "output_type": "stream",
     "text": [
      "/var/folders/_j/ptyc01811q5b1dg30hshtfzh0000gr/T/ipykernel_36472/428785023.py:23: UserWarning: To copy construct from a tensor, it is recommended to use sourceTensor.clone().detach() or sourceTensor.clone().detach().requires_grad_(True), rather than torch.tensor(sourceTensor).\n",
      "  MSE_a = np.sqrt(((a_d*emulator_0.predict(X_test)+delta_1.predict(X_test)-torch.tensor(y_test))**2).mean(axis=0).detach().numpy())\n",
      "/var/folders/_j/ptyc01811q5b1dg30hshtfzh0000gr/T/ipykernel_36472/428785023.py:24: UserWarning: To copy construct from a tensor, it is recommended to use sourceTensor.clone().detach() or sourceTensor.clone().detach().requires_grad_(True), rather than torch.tensor(sourceTensor).\n",
      "  R2_a = (1-((a_d*emulator_0.predict(X_test)+delta_1.predict(X_test)-torch.tensor(y_test))**2).mean(axis=0)/torch.tensor(y_test.var(axis=0))).detach().numpy()\n"
     ]
    }
   ],
   "source": [
    "m=60\n",
    "n=180\n",
    "a=np.random.choice(range(X0.shape[0]),n,replace=False)\n",
    "b=np.random.choice(range(X_train.shape[0]),m,replace=False)\n",
    "\n",
    "\n",
    "emulator_0 = GPE.ensemble(X0[a,:],Y0[a,:],mean_func=\"linear\",training_iter=500)\n",
    "m0 = emulator_0.predict(X_train[b,:])\n",
    "\n",
    "a_d=np.zeros(y_train.shape[1])\n",
    "for l in range(y_train.shape[1]):\n",
    "    result = scipy.optimize.minimize(proxy, 1, args=(y_train[b,:],m0,l), method='Nelder-Mead', tol=1e-8)\n",
    "    print(result.x)\n",
    "    a_d[l]=result.x\n",
    "\n",
    "a_d=torch.tensor(a_d)\n",
    "print(a_d)\n",
    "\n",
    "\n",
    "m0 = emulator_0.predict(X_train[b,:])\n",
    "y_adjust = torch.tensor(y_train[b] - a_d*m0)\n",
    "delta_1 = GPE.ensemble(X_train[b,:],y_adjust,mean_func=\"linear\",training_iter=500)\n",
    "MSE_a = np.sqrt(((a_d*emulator_0.predict(X_test)+delta_1.predict(X_test)-torch.tensor(y_test))**2).mean(axis=0).detach().numpy())\n",
    "R2_a = (1-((a_d*emulator_0.predict(X_test)+delta_1.predict(X_test)-torch.tensor(y_test))**2).mean(axis=0)/torch.tensor(y_test.var(axis=0))).detach().numpy()\n"
   ]
  },
  {
   "cell_type": "code",
   "execution_count": 12,
   "id": "e8e3edc9",
   "metadata": {},
   "outputs": [
    {
     "data": {
      "text/plain": [
       "array([3.03695759, 2.32629879])"
      ]
     },
     "execution_count": 12,
     "metadata": {},
     "output_type": "execute_result"
    }
   ],
   "source": [
    "MSE_a"
   ]
  },
  {
   "cell_type": "code",
   "execution_count": 13,
   "id": "e7523887",
   "metadata": {},
   "outputs": [
    {
     "data": {
      "text/plain": [
       "array([0.99719014, 0.99077333])"
      ]
     },
     "execution_count": 13,
     "metadata": {},
     "output_type": "execute_result"
    }
   ],
   "source": [
    "R2_a"
   ]
  },
  {
   "cell_type": "code",
   "execution_count": 23,
   "id": "bc516c39",
   "metadata": {},
   "outputs": [
    {
     "data": {
      "text/plain": [
       "Parameter containing:\n",
       "tensor([0.3560], requires_grad=True)"
      ]
     },
     "execution_count": 23,
     "metadata": {},
     "output_type": "execute_result"
    }
   ],
   "source": [
    "emulator_0.models[0].mean_module.bias"
   ]
  },
  {
   "cell_type": "code",
   "execution_count": 36,
   "id": "13c8c811",
   "metadata": {},
   "outputs": [],
   "source": [
    "ref_weights=emulator_0.models[0].mean_module.weights\n",
    "ref_bias = emulator_0.models[0].mean_module.bias"
   ]
  },
  {
   "cell_type": "code",
   "execution_count": 43,
   "id": "5a223b02",
   "metadata": {},
   "outputs": [
    {
     "data": {
      "text/plain": [
       "tensor(0.0888, grad_fn=<SoftplusBackward0>)"
      ]
     },
     "execution_count": 43,
     "metadata": {},
     "output_type": "execute_result"
    }
   ],
   "source": [
    "emulator_0.models[0].covar_module.outputscale"
   ]
  },
  {
   "cell_type": "code",
   "execution_count": 44,
   "id": "66255f92",
   "metadata": {},
   "outputs": [
    {
     "data": {
      "text/plain": [
       "<bound method Module.hyperparameters of ScaleKernel(\n",
       "  (base_kernel): RBFKernel(\n",
       "    (raw_lengthscale_constraint): Positive()\n",
       "  )\n",
       "  (raw_outputscale_constraint): Positive()\n",
       ")>"
      ]
     },
     "execution_count": 44,
     "metadata": {},
     "output_type": "execute_result"
    }
   ],
   "source": [
    "emulator_0.models[0].covar_module.lengthscale"
   ]
  },
  {
   "cell_type": "code",
   "execution_count": 16,
   "id": "94f3e5ec",
   "metadata": {},
   "outputs": [],
   "source": [
    "class DiscrepancyMean(gpytorch.means.Mean):\n",
    "    def __init__(self, input_size, batch_shape=torch.Size(), bias=True,ref_weights=0,ref_bias=0,a=0):\n",
    "        super().__init__()\n",
    "        self.register_parameter(name=\"weights\", parameter=torch.nn.Parameter(torch.randn(*batch_shape, input_size, 1)))\n",
    "        if bias:\n",
    "            self.register_parameter(name=\"bias\", parameter=torch.nn.Parameter(torch.randn(*batch_shape, 1)))\n",
    "        else:\n",
    "            self.bias = None\n",
    "\n",
    "    def forward(self, x):\n",
    "        ref = x.matmul(ref_weights).squeeze(-1)\n",
    "        res = x.matmul(self.weights).squeeze(-1)\n",
    "        if self.bias is not None:\n",
    "            res = ref+ref_bias+res + self.bias\n",
    "        return res\n"
   ]
  },
  {
   "cell_type": "code",
   "execution_count": 17,
   "id": "b0009f1b",
   "metadata": {},
   "outputs": [],
   "source": [
    "def postprocess_rbf(dist_mat):\n",
    "    return dist_mat.div_(-2).exp_()\n",
    "\n",
    "\n",
    "class ExistingKernel(gpytorch.kernels.Kernel):\n",
    "    r\"\"\"\n",
    "    Computes a covariance matrix based on the RBF (squared exponential) kernel\n",
    "    between inputs :math:`\\mathbf{x_1}` and :math:`\\mathbf{x_2}`:\n",
    "\n",
    "    .. math::\n",
    "\n",
    "       \\begin{equation*}\n",
    "          k_{\\text{RBF}}(\\mathbf{x_1}, \\mathbf{x_2}) = \\exp \\left( -\\frac{1}{2}\n",
    "          (\\mathbf{x_1} - \\mathbf{x_2})^\\top \\Theta^{-2} (\\mathbf{x_1} - \\mathbf{x_2}) \\right)\n",
    "       \\end{equation*}\n",
    "\n",
    "    where :math:`\\Theta` is a lengthscale parameter.\n",
    "    See :class:`gpytorch.kernels.Kernel` for descriptions of the lengthscale options.\n",
    "\n",
    "    .. note::\n",
    "\n",
    "        This kernel does not have an `outputscale` parameter. To add a scaling parameter,\n",
    "        decorate this kernel with a :class:`gpytorch.kernels.ScaleKernel`.\n",
    "\n",
    "    :param ard_num_dims: Set this if you want a separate lengthscale for each input\n",
    "        dimension. It should be `d` if x1 is a `n x d` matrix. (Default: `None`.)\n",
    "    :param batch_shape: Set this if you want a separate lengthscale for each batch of input\n",
    "        data. It should be :math:`B_1 \\times \\ldots \\times B_k` if :math:`\\mathbf x1` is\n",
    "        a :math:`B_1 \\times \\ldots \\times B_k \\times N \\times D` tensor.\n",
    "    :param active_dims: Set this if you want to compute the covariance of only\n",
    "        a few input dimensions. The ints corresponds to the indices of the\n",
    "        dimensions. (Default: `None`.)\n",
    "    :param lengthscale_prior: Set this if you want to apply a prior to the\n",
    "        lengthscale parameter. (Default: `None`)\n",
    "    :param lengthscale_constraint: Set this if you want to apply a constraint\n",
    "        to the lengthscale parameter. (Default: `Positive`.)\n",
    "    :param eps: The minimum value that the lengthscale can take (prevents\n",
    "        divide by zero errors). (Default: `1e-6`.)\n",
    "\n",
    "    :ivar torch.Tensor lengthscale: The lengthscale parameter. Size/shape of parameter depends on the\n",
    "        ard_num_dims and batch_shape arguments.\n",
    "\n",
    "    Example:\n",
    "        >>> x = torch.randn(10, 5)\n",
    "        >>> # Non-batch: Simple option\n",
    "        >>> covar_module = gpytorch.kernels.ScaleKernel(gpytorch.kernels.RBFKernel())\n",
    "        >>> # Non-batch: ARD (different lengthscale for each input dimension)\n",
    "        >>> covar_module = gpytorch.kernels.ScaleKernel(gpytorch.kernels.RBFKernel(ard_num_dims=5))\n",
    "        >>> covar = covar_module(x)  # Output: LinearOperator of size (10 x 10)\n",
    "        >>>\n",
    "        >>> batch_x = torch.randn(2, 10, 5)\n",
    "        >>> # Batch: Simple option\n",
    "        >>> covar_module = gpytorch.kernels.ScaleKernel(gpytorch.kernels.RBFKernel())\n",
    "        >>> # Batch: different lengthscale for each batch\n",
    "        >>> covar_module = gpytorch.kernels.ScaleKernel(gpytorch.kernels.RBFKernel(batch_shape=torch.Size([2])))\n",
    "        >>> covar = covar_module(x)  # Output: LinearOperator of size (2 x 10 x 10)\n",
    "    \"\"\"\n",
    "\n",
    "    has_lengthscale = True\n",
    "\n",
    "    \n",
    "    def __init__(self, ref_lengthscale=1,ref_outputscale=1,a=0, **kwargs):\n",
    "        super().__init__(**kwargs)\n",
    "\n",
    "    \n",
    "    def forward(self, x1, x2, diag=False, **params):\n",
    "        if (\n",
    "            x1.requires_grad\n",
    "            or x2.requires_grad\n",
    "            or (self.ard_num_dims is not None and self.ard_num_dims > 1)\n",
    "            or diag\n",
    "            or params.get(\"last_dim_is_batch\", False)\n",
    "            or trace_mode.on()\n",
    "        ):\n",
    "            \n",
    "            x1_ref = x1.div(ref_lengthscale)\n",
    "            x2_ref = x2.div(ref_lengthscale)\n",
    "            \n",
    "            ref = postprocess_rbf(self.covar_dist(x1_ref, x2_ref, square_dist=True, diag=diag, **params))\n",
    "            return (a**2)*ref_outputscale*ref\n",
    "        \n",
    "        ref=RBFCovariance.apply(\n",
    "            x1,\n",
    "            x2,\n",
    "            ref_lengthscale,\n",
    "            lambda x1, x2: self.covar_dist(x1, x2, square_dist=True, diag=False, **params),\n",
    "        )\n",
    "        \n",
    "        return (a**2)*ref_outputscale*ref "
   ]
  },
  {
   "cell_type": "code",
   "execution_count": null,
   "id": "02dbe4e9",
   "metadata": {},
   "outputs": [],
   "source": []
  }
 ],
 "metadata": {
  "kernelspec": {
   "display_name": "Python 3 (ipykernel)",
   "language": "python",
   "name": "python3"
  },
  "language_info": {
   "codemirror_mode": {
    "name": "ipython",
    "version": 3
   },
   "file_extension": ".py",
   "mimetype": "text/x-python",
   "name": "python",
   "nbconvert_exporter": "python",
   "pygments_lexer": "ipython3",
   "version": "3.11.5"
  }
 },
 "nbformat": 4,
 "nbformat_minor": 5
}
