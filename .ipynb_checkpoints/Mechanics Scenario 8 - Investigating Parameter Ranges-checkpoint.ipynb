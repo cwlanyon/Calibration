{
 "cells": [
  {
   "cell_type": "code",
   "execution_count": 1,
   "id": "5ba866e8",
   "metadata": {},
   "outputs": [],
   "source": [
    "import math\n",
    "import torch\n",
    "import gpytorch\n",
    "import pandas as pd\n",
    "import numpy as np\n",
    "from matplotlib import pyplot as plt\n",
    "\n",
    "import GPE_ensemble as GPE\n",
    "\n",
    "import os\n",
    "from sklearn.linear_model import LinearRegression\n",
    "from sklearn.metrics import mean_squared_error, r2_score\n",
    "from sklearn.model_selection import train_test_split\n",
    "#from GPErks.gp.data.dataset import Dataset\n",
    "from gpytorch.likelihoods import GaussianLikelihood\n",
    "from gpytorch.means import LinearMean\n",
    "from gpytorch.kernels import RBFKernel, ScaleKernel\n",
    "from torchmetrics import MeanSquaredError, R2Score\n",
    "#from GPErks.gp.experiment import GPExperiment\n",
    "#from GPErks.train.emulator import GPEmulator\n",
    "#from GPErks.perks.inference import Inference\n",
    "#from GPErks.train.early_stop import NoEarlyStoppingCriterion\n",
    "#from GPErks.train.early_stop import (\n",
    "#    GLEarlyStoppingCriterion,\n",
    "#    PQEarlyStoppingCriterion,\n",
    "#    UPEarlyStoppingCriterion,\n",
    "#)\n",
    "#from GPErks.train.early_stop import PkEarlyStoppingCriterion\n",
    "\n",
    "\n",
    "\n",
    "%matplotlib inline\n",
    "%load_ext autoreload\n",
    "%autoreload 2\n",
    "\n",
    "# set logger and enforce reproducibility\n",
    "#from GPErks.log.logger import get_logger\n",
    "#from GPErks.utils.random import set_seed\n",
    "#log = get_logger()\n",
    "seed = 7\n",
    "#set_seed(seed)"
   ]
  },
  {
   "cell_type": "code",
   "execution_count": 2,
   "id": "b81ecd1f",
   "metadata": {},
   "outputs": [
    {
     "name": "stdout",
     "output_type": "stream",
     "text": [
      "     a_ventricles  a_atria   EDP_lv   EDP_rv\n",
      "0         4.55728  3.68805  6.30434  6.88496\n",
      "1         4.77565  3.37159  7.40547  6.83182\n",
      "2         3.44083  4.10285  6.99799  1.66170\n",
      "3         3.00760  3.08643  2.90710  5.82416\n",
      "4         3.20078  2.19295  6.15502  3.05678\n",
      "..            ...      ...      ...      ...\n",
      "995       2.31175  3.96805  4.79704  6.54769\n",
      "996       3.06559  4.27542  6.57854  4.39223\n",
      "997       1.28976  4.76784  5.42560  4.53470\n",
      "998       2.92803  2.80237  1.76374  5.95269\n",
      "999       1.55451  3.02115  3.78612  5.67230\n",
      "\n",
      "[1000 rows x 4 columns]\n"
     ]
    }
   ],
   "source": [
    "x_labels=pd.read_csv(r'/Users/pmzcwl/Library/CloudStorage/OneDrive-TheUniversityofNottingham/shared_simulations/mechanics/scenario_8/xlabels_mechanics.txt',delim_whitespace=True,header=None)\n",
    "\n",
    "\n",
    "X_all = pd.read_csv(r'/Users/pmzcwl/Library/CloudStorage/OneDrive-TheUniversityofNottingham/shared_simulations/mechanics/scenario_8/X_mechanics.txt',index_col=None,delim_whitespace=True,header=None)\n",
    "X_all.columns=x_labels.values.squeeze().tolist()\n",
    "print(X_all)"
   ]
  },
  {
   "cell_type": "code",
   "execution_count": 3,
   "id": "302a0b25",
   "metadata": {},
   "outputs": [],
   "source": [
    "mask = pd.read_csv(r'/Users/pmzcwl/Library/CloudStorage/OneDrive-TheUniversityofNottingham/shared_simulations/mechanics/scenario_8/output_mask_beat_5.txt',index_col=None,delim_whitespace=True,header=None)"
   ]
  },
  {
   "cell_type": "code",
   "execution_count": 4,
   "id": "3e4e1daa",
   "metadata": {},
   "outputs": [
    {
     "data": {
      "text/plain": [
       "0    92\n",
       "dtype: int64"
      ]
     },
     "execution_count": 4,
     "metadata": {},
     "output_type": "execute_result"
    }
   ],
   "source": [
    "np.sum(mask)"
   ]
  },
  {
   "cell_type": "code",
   "execution_count": 5,
   "id": "2ff050cd",
   "metadata": {},
   "outputs": [
    {
     "data": {
      "text/plain": [
       "[<matplotlib.lines.Line2D at 0x2acf8e5d0>]"
      ]
     },
     "execution_count": 5,
     "metadata": {},
     "output_type": "execute_result"
    },
    {
     "data": {
      "image/png": "[encoded data removed]",
      "text/plain": [
       "<Figure size 640x480 with 1 Axes>"
      ]
     },
     "metadata": {},
     "output_type": "display_data"
    }
   ],
   "source": [
    "plt.plot(mask,'o')"
   ]
  },
  {
   "cell_type": "code",
   "execution_count": 6,
   "id": "121230ab",
   "metadata": {},
   "outputs": [
    {
     "name": "stdout",
     "output_type": "stream",
     "text": [
      "     LVedv  LVedp   LVesv  LVpMax  LVdpdtMax  LVdpdtMin   RVedv  RVedp  \\\n",
      "0   150.31   7.59  106.81   92.15       1709       -746  145.58   2.73   \n",
      "1   147.43   7.84  103.98   92.29       1738       -756  147.94   2.76   \n",
      "2   145.90   7.62   97.99   98.28       1898       -809  176.16   2.22   \n",
      "3   164.96   6.72  119.94   94.06       1639       -715  137.95   2.56   \n",
      "4   150.50   7.50  101.49  101.29       1929       -830  166.26   2.41   \n",
      "..     ...    ...     ...     ...        ...        ...     ...    ...   \n",
      "87  148.17   7.71  104.09   93.23       1751       -766  147.29   2.75   \n",
      "88  148.90   6.50   99.34  103.19       1971       -830  152.27   2.36   \n",
      "89  143.21   6.28   92.21  106.58       2116       -862  153.69   2.34   \n",
      "90  147.41   7.47  102.58   94.11       1787       -780  153.45   2.58   \n",
      "91  169.99   6.34  119.20  102.84       1834       -811  163.38   2.24   \n",
      "\n",
      "     RVesv  RVpMax  ...  RAvMax  RApMax  LAsvA  LAinflV  LAsvV  RAsvA  \\\n",
      "0   105.29   24.05  ...   89.21    3.16  13.26     8.41  12.64   9.54   \n",
      "1   107.50   24.18  ...   89.66    3.20  13.34     8.39  12.52   9.80   \n",
      "2   127.83   25.91  ...  106.78    2.86  13.75     9.53  12.34  11.58   \n",
      "3    96.00   24.05  ...   88.33    3.07  16.15     8.93  13.82  10.04   \n",
      "4   117.83   25.68  ...  101.83    3.10  17.65     9.84  14.21  13.17   \n",
      "..     ...     ...  ...     ...     ...    ...      ...    ...    ...   \n",
      "87  106.02   24.35  ...   89.91    3.22  13.65     8.47  12.50  10.21   \n",
      "88  104.59   25.45  ...   97.75    3.01  13.68     9.52  12.67  10.81   \n",
      "89  104.28   25.54  ...   99.59    3.07  14.93     9.81  12.95  12.26   \n",
      "90  110.68   24.68  ...   95.10    3.07  12.55     8.63  12.00  10.11   \n",
      "91  112.60   25.55  ...  100.85    2.98  20.91    10.87  15.93  13.57   \n",
      "\n",
      "    RAinflV  RAsvV   A_TAT    V_TAT  \n",
      "0      9.92  11.27  94.893  115.487  \n",
      "1     10.23  11.69  94.079  115.342  \n",
      "2     12.59  14.40  94.397  114.220  \n",
      "3     10.41  12.21  95.891  116.615  \n",
      "4     13.86  16.77  93.581  114.832  \n",
      "..      ...    ...     ...      ...  \n",
      "87    10.30  11.88  94.022  115.275  \n",
      "88    10.89  12.09  93.988  115.965  \n",
      "89    11.65  13.10  93.677  117.133  \n",
      "90    10.23  11.60  93.945  114.816  \n",
      "91    14.03  17.30  95.964  114.693  \n",
      "\n",
      "[92 rows x 28 columns]\n"
     ]
    }
   ],
   "source": [
    "y_labels=pd.read_csv(r'/Users/pmzcwl/Library/CloudStorage/OneDrive-TheUniversityofNottingham/shared_simulations/mechanics/scenario_8/ylabels.txt',delim_whitespace=True,header=None)\n",
    "\n",
    "\n",
    "y_all = pd.read_csv(r'/Users/pmzcwl/Library/CloudStorage/OneDrive-TheUniversityofNottingham/shared_simulations/mechanics/scenario_8/Y.txt',index_col=None,delim_whitespace=True,header=None)\n",
    "y_all.columns=y_labels.values.squeeze().tolist()\n",
    "print(y_all)"
   ]
  },
  {
   "cell_type": "code",
   "execution_count": null,
   "id": "3f92a183",
   "metadata": {},
   "outputs": [],
   "source": []
  },
  {
   "cell_type": "code",
   "execution_count": 7,
   "id": "6dd5cebd",
   "metadata": {},
   "outputs": [],
   "source": [
    "input_masked = X_all.copy().iloc[0:mask.shape[0]]\n",
    "input_complete=input_masked.copy().iloc[np.array(mask==1),]\n",
    "input_failed=input_masked.copy().iloc[np.array(mask==0),]"
   ]
  },
  {
   "cell_type": "code",
   "execution_count": 8,
   "id": "fb97eba3",
   "metadata": {},
   "outputs": [],
   "source": [
    "from sklearn.linear_model import LogisticRegression\n",
    "from sklearn.metrics import classification_report, confusion_matrix"
   ]
  },
  {
   "cell_type": "code",
   "execution_count": 9,
   "id": "9bd8550f",
   "metadata": {},
   "outputs": [],
   "source": [
    "model = LogisticRegression(solver='liblinear', random_state=0)"
   ]
  },
  {
   "cell_type": "code",
   "execution_count": 10,
   "id": "8ed3ce9c",
   "metadata": {},
   "outputs": [
    {
     "data": {
      "text/html": [
       "<style>#sk-container-id-1 {color: black;}#sk-container-id-1 pre{padding: 0;}#sk-container-id-1 div.sk-toggleable {background-color: white;}#sk-container-id-1 label.sk-toggleable__label {cursor: pointer;display: block;width: 100%;margin-bottom: 0;padding: 0.3em;box-sizing: border-box;text-align: center;}#sk-container-id-1 label.sk-toggleable__label-arrow:before {content: \"▸\";float: left;margin-right: 0.25em;color: #696969;}#sk-container-id-1 label.sk-toggleable__label-arrow:hover:before {color: black;}#sk-container-id-1 div.sk-estimator:hover label.sk-toggleable__label-arrow:before {color: black;}#sk-container-id-1 div.sk-toggleable__content {max-height: 0;max-width: 0;overflow: hidden;text-align: left;background-color: #f0f8ff;}#sk-container-id-1 div.sk-toggleable__content pre {margin: 0.2em;color: black;border-radius: 0.25em;background-color: #f0f8ff;}#sk-container-id-1 input.sk-toggleable__control:checked~div.sk-toggleable__content {max-height: 200px;max-width: 100%;overflow: auto;}#sk-container-id-1 input.sk-toggleable__control:checked~label.sk-toggleable__label-arrow:before {content: \"▾\";}#sk-container-id-1 div.sk-estimator input.sk-toggleable__control:checked~label.sk-toggleable__label {background-color: #d4ebff;}#sk-container-id-1 div.sk-label input.sk-toggleable__control:checked~label.sk-toggleable__label {background-color: #d4ebff;}#sk-container-id-1 input.sk-hidden--visually {border: 0;clip: rect(1px 1px 1px 1px);clip: rect(1px, 1px, 1px, 1px);height: 1px;margin: -1px;overflow: hidden;padding: 0;position: absolute;width: 1px;}#sk-container-id-1 div.sk-estimator {font-family: monospace;background-color: #f0f8ff;border: 1px dotted black;border-radius: 0.25em;box-sizing: border-box;margin-bottom: 0.5em;}#sk-container-id-1 div.sk-estimator:hover {background-color: #d4ebff;}#sk-container-id-1 div.sk-parallel-item::after {content: \"\";width: 100%;border-bottom: 1px solid gray;flex-grow: 1;}#sk-container-id-1 div.sk-label:hover label.sk-toggleable__label {background-color: #d4ebff;}#sk-container-id-1 div.sk-serial::before {content: \"\";position: absolute;border-left: 1px solid gray;box-sizing: border-box;top: 0;bottom: 0;left: 50%;z-index: 0;}#sk-container-id-1 div.sk-serial {display: flex;flex-direction: column;align-items: center;background-color: white;padding-right: 0.2em;padding-left: 0.2em;position: relative;}#sk-container-id-1 div.sk-item {position: relative;z-index: 1;}#sk-container-id-1 div.sk-parallel {display: flex;align-items: stretch;justify-content: center;background-color: white;position: relative;}#sk-container-id-1 div.sk-item::before, #sk-container-id-1 div.sk-parallel-item::before {content: \"\";position: absolute;border-left: 1px solid gray;box-sizing: border-box;top: 0;bottom: 0;left: 50%;z-index: -1;}#sk-container-id-1 div.sk-parallel-item {display: flex;flex-direction: column;z-index: 1;position: relative;background-color: white;}#sk-container-id-1 div.sk-parallel-item:first-child::after {align-self: flex-end;width: 50%;}#sk-container-id-1 div.sk-parallel-item:last-child::after {align-self: flex-start;width: 50%;}#sk-container-id-1 div.sk-parallel-item:only-child::after {width: 0;}#sk-container-id-1 div.sk-dashed-wrapped {border: 1px dashed gray;margin: 0 0.4em 0.5em 0.4em;box-sizing: border-box;padding-bottom: 0.4em;background-color: white;}#sk-container-id-1 div.sk-label label {font-family: monospace;font-weight: bold;display: inline-block;line-height: 1.2em;}#sk-container-id-1 div.sk-label-container {text-align: center;}#sk-container-id-1 div.sk-container {/* jupyter's `normalize.less` sets `[hidden] { display: none; }` but bootstrap.min.css set `[hidden] { display: none !important; }` so we also need the `!important` here to be able to override the default hidden behavior on the sphinx rendered scikit-learn.org. See: https://github.com/scikit-learn/scikit-learn/issues/21755 */display: inline-block !important;position: relative;}#sk-container-id-1 div.sk-text-repr-fallback {display: none;}</style><div id=\"sk-container-id-1\" class=\"sk-top-container\"><div class=\"sk-text-repr-fallback\"><pre>LogisticRegression(random_state=0, solver=&#x27;liblinear&#x27;)</pre><b>In a Jupyter environment, please rerun this cell to show the HTML representation or trust the notebook. <br />On GitHub, the HTML representation is unable to render, please try loading this page with nbviewer.org.</b></div><div class=\"sk-container\" hidden><div class=\"sk-item\"><div class=\"sk-estimator sk-toggleable\"><input class=\"sk-toggleable__control sk-hidden--visually\" id=\"sk-estimator-id-1\" type=\"checkbox\" checked><label for=\"sk-estimator-id-1\" class=\"sk-toggleable__label sk-toggleable__label-arrow\">LogisticRegression</label><div class=\"sk-toggleable__content\"><pre>LogisticRegression(random_state=0, solver=&#x27;liblinear&#x27;)</pre></div></div></div></div></div>"
      ],
      "text/plain": [
       "LogisticRegression(random_state=0, solver='liblinear')"
      ]
     },
     "execution_count": 10,
     "metadata": {},
     "output_type": "execute_result"
    }
   ],
   "source": [
    "model.fit(input_masked.values, mask.values.squeeze())"
   ]
  },
  {
   "cell_type": "code",
   "execution_count": 11,
   "id": "99aeda06",
   "metadata": {},
   "outputs": [],
   "source": [
    "reps=50\n",
    "fail_score = 0\n",
    "success_score = 0\n",
    "\n",
    "for j in range(reps):\n",
    "    complete_input_train=input_complete.sample(6)\n",
    "    complete_output_train=mask.loc[complete_input_train.index]\n",
    "    complete_input_test = input_complete.loc[~input_complete.index.isin(complete_input_train.index)]\n",
    "    complete_output_test = mask.loc[complete_input_test.index]\n",
    "    for i in range(input_failed.shape[0]):\n",
    "   \n",
    "        fail_input_test = input_failed.iloc[[i]]\n",
    "        fail_output_test = mask.loc[fail_input_test.index]\n",
    "        fail_input_train=input_failed.loc[~input_failed.index.isin(fail_input_test.index)]\n",
    "        fail_output_train=mask.loc[fail_input_train.index]\n",
    "\n",
    "        y_train = pd.concat([fail_output_train,complete_output_train])\n",
    "        y_test = pd.concat([fail_output_test,complete_output_test])\n",
    "\n",
    "        x_train = pd.concat([fail_input_train,complete_input_train])\n",
    "        x_test= pd.concat([fail_input_test,complete_input_test])\n",
    "\n",
    "        model = LogisticRegression(solver='liblinear', random_state=0)\n",
    "        model.fit(x_train.values, y_train.values.squeeze())\n",
    "\n",
    "        success_score+=(1-model.predict(fail_input_test.values))/input_failed.shape[0]/reps\n",
    "        fail_score+=model.score(complete_input_test.values,complete_output_test.values.squeeze())/reps/input_failed.shape[0]"
   ]
  },
  {
   "cell_type": "code",
   "execution_count": 12,
   "id": "74f2aeb2",
   "metadata": {},
   "outputs": [
    {
     "data": {
      "text/plain": [
       "array([0.9525])"
      ]
     },
     "execution_count": 12,
     "metadata": {},
     "output_type": "execute_result"
    }
   ],
   "source": [
    "success_score"
   ]
  },
  {
   "cell_type": "code",
   "execution_count": 13,
   "id": "f55ba097",
   "metadata": {
    "scrolled": true
   },
   "outputs": [
    {
     "data": {
      "text/plain": [
       "0.8070348837209306"
      ]
     },
     "execution_count": 13,
     "metadata": {},
     "output_type": "execute_result"
    }
   ],
   "source": [
    "fail_score"
   ]
  },
  {
   "cell_type": "code",
   "execution_count": 14,
   "id": "b5663386",
   "metadata": {},
   "outputs": [
    {
     "name": "stdout",
     "output_type": "stream",
     "text": [
      "[1.14555, 4.84362]\n",
      "[1.03657, 4.93801]\n",
      "[1.9071, 7.49807]\n",
      "[2.60492, 6.97759]\n"
     ]
    }
   ],
   "source": [
    "nDim = x_train.shape[1]\n",
    "boundsMaxMin = []\n",
    "for i in range(nDim):\n",
    "    boundsMaxMin.append([np.min(x_train.iloc[:,i]),np.max(x_train.iloc[:,i])])\n",
    "    print(boundsMaxMin[i])\n",
    "    "
   ]
  },
  {
   "cell_type": "code",
   "execution_count": 15,
   "id": "f4298dab",
   "metadata": {},
   "outputs": [
    {
     "name": "stderr",
     "output_type": "stream",
     "text": [
      "/var/folders/_j/ptyc01811q5b1dg30hshtfzh0000gr/T/ipykernel_2948/2588839841.py:24: DeprecationWarning: `salib.sample.saltelli` will be removed in SALib 1.5. Please use `salib.sample.sobol`\n",
      "  param_values = saltelli.sample(problem, 1024)\n"
     ]
    }
   ],
   "source": [
    "##### from SALib.sample import saltelli\n",
    "from SALib.sample import saltelli\n",
    "from SALib.analyze import sobol\n",
    "from SALib.test_functions import Ishigami\n",
    "import numpy as np\n",
    "\n",
    "# Define the model inputs\n",
    "problem = {\n",
    "    'num_vars': nDim,\n",
    "    'names': x_labels,\n",
    "    'bounds': boundsMaxMin\n",
    "    #'bounds': [[-1, 1],\n",
    "     #          [-1, 1],\n",
    "      #         [-1, 1],\n",
    "       #        [-1, 1],\n",
    "        #       [-1, 1],\n",
    "         #      [-1, 1],\n",
    "          #     [-1, 1],\n",
    "           #    [-1, 1],\n",
    "            #   [-1,1]]\n",
    "}\n",
    "\n",
    "# Generate samples\n",
    "param_values = saltelli.sample(problem, 1024)\n",
    "\n",
    "data1 = param_values\n",
    "#data1.columns = X_train.columns\n",
    "\n",
    "Ymean=model.predict(data1)"
   ]
  },
  {
   "cell_type": "code",
   "execution_count": 16,
   "id": "5fdd8a2f",
   "metadata": {},
   "outputs": [
    {
     "data": {
      "text/plain": [
       "(10240,)"
      ]
     },
     "execution_count": 16,
     "metadata": {},
     "output_type": "execute_result"
    }
   ],
   "source": [
    "Ymean.shape"
   ]
  },
  {
   "cell_type": "code",
   "execution_count": 17,
   "id": "0e71f4e6",
   "metadata": {},
   "outputs": [
    {
     "data": {
      "text/plain": [
       "6126"
      ]
     },
     "execution_count": 17,
     "metadata": {},
     "output_type": "execute_result"
    }
   ],
   "source": [
    "np.sum(Ymean)"
   ]
  },
  {
   "cell_type": "code",
   "execution_count": 18,
   "id": "2fcbbcbd",
   "metadata": {},
   "outputs": [
    {
     "name": "stdout",
     "output_type": "stream",
     "text": [
      "                       ST   ST_conf\n",
      "(a_ventricles,)  0.000000  0.000000\n",
      "(a_atria,)       0.573755  0.061563\n",
      "(EDP_lv,)        0.391289  0.048750\n",
      "(EDP_rv,)        0.662960  0.053449\n",
      "                       S1   S1_conf\n",
      "(a_ventricles,)  0.000000  0.000000\n",
      "(a_atria,)       0.217330  0.061451\n",
      "(EDP_lv,)        0.134641  0.057140\n",
      "(EDP_rv,)        0.347952  0.064988\n",
      "Empty DataFrame\n",
      "Columns: [S2, S2_conf]\n",
      "Index: []\n"
     ]
    }
   ],
   "source": [
    "Si = []\n",
    "nMod = y_train.shape[1]\n",
    "nDim = x_train.shape[1]\n",
    "for i in range(nMod):\n",
    "    Si.append(sobol.analyze(problem, Ymean, print_to_console=True,calc_second_order=True))"
   ]
  },
  {
   "cell_type": "code",
   "execution_count": 19,
   "id": "0e17bd34",
   "metadata": {},
   "outputs": [],
   "source": [
    "Si_first=np.zeros((nDim,nMod))\n",
    "Si_total=np.zeros((nDim,nMod))\n",
    "for i in range(nMod):\n",
    "    total_Si, first_Si, second_Si = Si[i].to_df()\n",
    "    Si_first[:,i] =  first_Si.iloc[:,0]\n",
    "    Si_total[:,i] =  total_Si.iloc[:,0]"
   ]
  },
  {
   "cell_type": "code",
   "execution_count": 20,
   "id": "3fc2e217",
   "metadata": {},
   "outputs": [
    {
     "data": {
      "text/plain": [
       "<matplotlib.colorbar.Colorbar at 0x2ae3f1090>"
      ]
     },
     "execution_count": 20,
     "metadata": {},
     "output_type": "execute_result"
    },
    {
     "data": {
      "image/png": "[encoded data removed]",
      "text/plain": [
       "<Figure size 640x480 with 2 Axes>"
      ]
     },
     "metadata": {},
     "output_type": "display_data"
    }
   ],
   "source": [
    "inputs = x_labels.values.tolist()\n",
    "\n",
    "fig, ax = plt.subplots()\n",
    "im = ax.imshow(Si_first.T[0:10],cmap='magma_r',vmin=0,vmax=1)\n",
    "\n",
    "\n",
    "ax.set_xticks(np.arange(len(inputs)), labels=inputs)\n",
    "plt.setp(ax.get_xticklabels(), rotation=60, ha=\"right\",\n",
    "         rotation_mode=\"anchor\");\n",
    "\n",
    "plt.colorbar(im,fraction=0.015, pad=0.04)"
   ]
  },
  {
   "cell_type": "code",
   "execution_count": 21,
   "id": "5451b6be",
   "metadata": {
    "scrolled": true
   },
   "outputs": [
    {
     "data": {
      "text/plain": [
       "<matplotlib.colorbar.Colorbar at 0x2ae490f90>"
      ]
     },
     "execution_count": 21,
     "metadata": {},
     "output_type": "execute_result"
    },
    {
     "data": {
      "image/png": "[encoded data removed]",
      "text/plain": [
       "<Figure size 640x480 with 2 Axes>"
      ]
     },
     "metadata": {},
     "output_type": "display_data"
    }
   ],
   "source": [
    "inputs = x_labels.values.tolist()\n",
    "\n",
    "fig, ax = plt.subplots()\n",
    "im = ax.imshow(Si_total.T[0:10],cmap='magma_r',vmin=0,vmax=1)\n",
    "\n",
    "\n",
    "ax.set_xticks(np.arange(len(inputs)), labels=inputs)\n",
    "plt.setp(ax.get_xticklabels(), rotation=60, ha=\"right\",\n",
    "         rotation_mode=\"anchor\");\n",
    "\n",
    "plt.colorbar(im,fraction=0.015, pad=0.04)"
   ]
  },
  {
   "cell_type": "code",
   "execution_count": 23,
   "id": "94da4577",
   "metadata": {},
   "outputs": [],
   "source": [
    "data2=data1[::20]"
   ]
  },
  {
   "cell_type": "code",
   "execution_count": 25,
   "id": "0f4e7ad9",
   "metadata": {
    "scrolled": false
   },
   "outputs": [
    {
     "data": {
      "text/plain": [
       "Text(0.5, 0, 'EDP_lv')"
      ]
     },
     "execution_count": 25,
     "metadata": {},
     "output_type": "execute_result"
    },
    {
     "data": {
      "image/png": "[encoded data removed]",
      "text/plain": [
       "<Figure size 640x480 with 1 Axes>"
      ]
     },
     "metadata": {},
     "output_type": "display_data"
    }
   ],
   "source": [
    "fig = plt.figure()\n",
    "ax=fig.add_subplot(projection='3d')\n",
    "ax.scatter(data2[:,1],data2[:,3],model.predict(data2))\n",
    "plt.ylabel('a_ventricles')\n",
    "plt.xlabel('EDP_lv')"
   ]
  },
  {
   "cell_type": "code",
   "execution_count": null,
   "id": "c683fa46",
   "metadata": {
    "scrolled": true
   },
   "outputs": [],
   "source": [
    "plt.plot(data1[:,4],model.predict(data1),'o')"
   ]
  },
  {
   "cell_type": "code",
   "execution_count": null,
   "id": "a24bc58b",
   "metadata": {
    "scrolled": false
   },
   "outputs": [],
   "source": [
    "plt.plot(input_masked.iloc[:,4],mask,'o')"
   ]
  },
  {
   "cell_type": "code",
   "execution_count": null,
   "id": "1692c245",
   "metadata": {},
   "outputs": [],
   "source": [
    "fig = plt.figure()\n",
    "ax=fig.add_subplot(projection='3d')\n",
    "ax.scatter(input_masked.iloc[:,6],input_masked.iloc[:,4],mask)"
   ]
  },
  {
   "cell_type": "code",
   "execution_count": null,
   "id": "4225227e",
   "metadata": {},
   "outputs": [],
   "source": []
  },
  {
   "cell_type": "markdown",
   "id": "f1349dc8",
   "metadata": {},
   "source": [
    "# Emulator"
   ]
  },
  {
   "cell_type": "code",
   "execution_count": null,
   "id": "df903aaf",
   "metadata": {},
   "outputs": [],
   "source": []
  },
  {
   "cell_type": "code",
   "execution_count": null,
   "id": "110b9938",
   "metadata": {},
   "outputs": [],
   "source": [
    "input_masked = X_all.copy().iloc[0:mask.shape[0]]"
   ]
  },
  {
   "cell_type": "code",
   "execution_count": null,
   "id": "bfc728ad",
   "metadata": {},
   "outputs": [],
   "source": [
    "input_masked=input_masked.iloc[np.array(mask==1),]\n",
    "input_masked.index = y_all.index"
   ]
  },
  {
   "cell_type": "code",
   "execution_count": null,
   "id": "ea430170",
   "metadata": {},
   "outputs": [],
   "source": [
    "input_masked.shape"
   ]
  },
  {
   "cell_type": "code",
   "execution_count": null,
   "id": "0896e6ed",
   "metadata": {},
   "outputs": [],
   "source": [
    "y_all.shape"
   ]
  },
  {
   "cell_type": "code",
   "execution_count": null,
   "id": "9051eb44",
   "metadata": {},
   "outputs": [],
   "source": [
    "y_all.index[0]"
   ]
  },
  {
   "cell_type": "code",
   "execution_count": null,
   "id": "d8fec6eb",
   "metadata": {},
   "outputs": [],
   "source": [
    "y_all"
   ]
  },
  {
   "cell_type": "code",
   "execution_count": null,
   "id": "beb5b702",
   "metadata": {},
   "outputs": [],
   "source": [
    "y_train = torch.tensor(y_all.values)\n",
    "x_train = torch.tensor(input_masked.values)"
   ]
  },
  {
   "cell_type": "code",
   "execution_count": null,
   "id": "386d712b",
   "metadata": {},
   "outputs": [],
   "source": [
    "y_train"
   ]
  },
  {
   "cell_type": "code",
   "execution_count": null,
   "id": "695db07a",
   "metadata": {},
   "outputs": [],
   "source": [
    "x_train.shape"
   ]
  },
  {
   "cell_type": "code",
   "execution_count": null,
   "id": "670120df",
   "metadata": {},
   "outputs": [],
   "source": [
    "emulator = GPE.ensemble(x_train,y_train,mean_func=\"linear\",training_iter=500)"
   ]
  },
  {
   "cell_type": "code",
   "execution_count": null,
   "id": "0a066022",
   "metadata": {},
   "outputs": [],
   "source": [
    "nDim = input_masked.shape[1]\n",
    "boundsMaxMin = []\n",
    "for i in range(nDim):\n",
    "    boundsMaxMin.append([np.min(input_masked.iloc[:,i]),np.max(input_masked.iloc[:,i])])\n",
    "    print(boundsMaxMin[i])"
   ]
  },
  {
   "cell_type": "code",
   "execution_count": null,
   "id": "5b05f92a",
   "metadata": {},
   "outputs": [],
   "source": [
    "##### from SALib.sample import saltelli\n",
    "from SALib.sample import saltelli\n",
    "from SALib.analyze import sobol\n",
    "from SALib.test_functions import Ishigami\n",
    "import numpy as np\n",
    "\n",
    "# Define the model inputs\n",
    "problem = {\n",
    "    'num_vars': nDim,\n",
    "    'names': x_labels,\n",
    "    'bounds': boundsMaxMin\n",
    "    #'bounds': [[-1, 1],\n",
    "     #          [-1, 1],\n",
    "      #         [-1, 1],\n",
    "       #        [-1, 1],\n",
    "        #       [-1, 1],\n",
    "         #      [-1, 1],\n",
    "          #     [-1, 1],\n",
    "           #    [-1, 1],\n",
    "            #   [-1,1]]\n",
    "}\n",
    "\n",
    "# Generate samples\n",
    "param_values = saltelli.sample(problem, 1024)\n",
    "\n",
    "data1 = torch.tensor(param_values)\n",
    "#data1.columns = X_train.columns\n",
    "\n",
    "Ymean=emulator.predict(data1)"
   ]
  },
  {
   "cell_type": "code",
   "execution_count": null,
   "id": "79378723",
   "metadata": {},
   "outputs": [],
   "source": [
    "Si = []\n",
    "nMod = y_all.shape[1]\n",
    "nDim = input_masked.shape[1]\n",
    "for i in range(nMod):\n",
    "    Si.append(sobol.analyze(problem, Ymean[:,i].detach().numpy(), print_to_console=True,calc_second_order=True))"
   ]
  },
  {
   "cell_type": "code",
   "execution_count": null,
   "id": "be973aac",
   "metadata": {},
   "outputs": [],
   "source": [
    "Si_first=np.zeros((nDim,nMod))\n",
    "Si_total=np.zeros((nDim,nMod))\n",
    "for i in range(nMod):\n",
    "    total_Si, first_Si, second_Si = Si[i].to_df()\n",
    "    Si_first[:,i] =  first_Si.iloc[:,0]\n",
    "    Si_total[:,i] =  total_Si.iloc[:,0]\n"
   ]
  },
  {
   "cell_type": "code",
   "execution_count": null,
   "id": "b6b05bcd",
   "metadata": {},
   "outputs": [],
   "source": [
    "inputs = x_labels.values.tolist()\n",
    "outputs = y_all.columns.tolist()\n",
    "fig, ax = plt.subplots()\n",
    "im = ax.imshow(Si_first[0:28],cmap='magma_r',vmin=0,vmax=1)\n",
    "\n",
    "ax.set_xticks(np.arange(len(outputs)),labels=outputs)\n",
    "ax.set_yticks(np.arange(len(inputs)), labels=inputs)\n",
    "plt.setp(ax.get_xticklabels(), rotation=60, ha=\"right\",\n",
    "         rotation_mode=\"anchor\");\n",
    "\n",
    "plt.colorbar(im,fraction=0.015, pad=0.04)"
   ]
  },
  {
   "cell_type": "code",
   "execution_count": null,
   "id": "1bae98e0",
   "metadata": {
    "scrolled": true
   },
   "outputs": [],
   "source": [
    "inputs = x_labels.values.tolist()\n",
    "outputs = y_all.columns.tolist()\n",
    "fig, ax = plt.subplots()\n",
    "im = ax.imshow(Si_total.T[0:28],cmap='magma_r',vmin=0,vmax=1)\n",
    "\n",
    "ax.set_yticks(np.arange(len(outputs)),labels=outputs)\n",
    "ax.set_xticks(np.arange(len(inputs)), labels=inputs)\n",
    "plt.setp(ax.get_xticklabels(), rotation=60, ha=\"right\",\n",
    "         rotation_mode=\"anchor\");\n",
    "\n",
    "plt.colorbar(im,fraction=0.015, pad=0.04)"
   ]
  },
  {
   "cell_type": "code",
   "execution_count": null,
   "id": "9b557665",
   "metadata": {},
   "outputs": [],
   "source": [
    "y_all"
   ]
  },
  {
   "cell_type": "code",
   "execution_count": null,
   "id": "a9de927b",
   "metadata": {},
   "outputs": [],
   "source": [
    "y_train"
   ]
  },
  {
   "cell_type": "code",
   "execution_count": null,
   "id": "a806c97a",
   "metadata": {},
   "outputs": [],
   "source": [
    "y_all.copy().drop(y_all.index[i]).values"
   ]
  },
  {
   "cell_type": "code",
   "execution_count": null,
   "id": "5f1e2e19",
   "metadata": {},
   "outputs": [],
   "source": [
    "nsamp=100\n",
    "MSE = np.zeros((y_all.shape[0],y_all.shape[1]))\n",
    "\n",
    "for i in range(y_all.shape[0]):\n",
    "    y_train = torch.tensor(y_all.copy().drop(y_all.index[i]).values)\n",
    "    X_train = torch.tensor(input_masked.copy().drop(y_all.index[i]).values)\n",
    "    \n",
    "    y_test = torch.tensor(y_all.loc[[y_all.index[i]]].values)\n",
    "    X_test = torch.tensor(input_masked.loc[[y_all.index[i]]].values)\n",
    "    \n",
    "    \n",
    "    \n",
    "    emulator = GPE.ensemble(X_train,y_train,mean_func=\"linear\",training_iter=500)\n",
    "    MSE[i,:] = emulator.MSE(X_test,y_test).detach().numpy()"
   ]
  },
  {
   "cell_type": "code",
   "execution_count": null,
   "id": "51a628d1",
   "metadata": {},
   "outputs": [],
   "source": [
    "1-MSE.mean(axis=0)/np.var(y_all,axis=0)"
   ]
  },
  {
   "cell_type": "code",
   "execution_count": null,
   "id": "60959a49",
   "metadata": {},
   "outputs": [],
   "source": [
    "MSE.shape"
   ]
  },
  {
   "cell_type": "code",
   "execution_count": null,
   "id": "cf401aa1",
   "metadata": {
    "scrolled": true
   },
   "outputs": [],
   "source": [
    "MSE[0].shape"
   ]
  },
  {
   "cell_type": "code",
   "execution_count": null,
   "id": "2ff2721d",
   "metadata": {},
   "outputs": [],
   "source": [
    "np.var(y_all,axis=0).shape"
   ]
  },
  {
   "cell_type": "code",
   "execution_count": null,
   "id": "2c14921b",
   "metadata": {},
   "outputs": [],
   "source": [
    "R2=np.zeros((18,28))\n",
    "for i in range(18):\n",
    "    R2[i]=(1-MSE[i]/np.var(y_all,axis=0))"
   ]
  },
  {
   "cell_type": "code",
   "execution_count": null,
   "id": "c42462df",
   "metadata": {},
   "outputs": [],
   "source": [
    "fig, ax = plt.subplots()\n",
    "\n",
    "\n",
    "ax.scatter(y_labels.values.squeeze(),np.array(1-MSE.mean(axis=0)/np.var(y_all,axis=0)))\n",
    "plt.errorbar(y_labels.values.squeeze(),np.array(1-MSE.mean(axis=0)/np.var(y_all,axis=0)),fmt='o',yerr=R2.std(axis=0))\n",
    "plt.setp(ax.get_xticklabels(), rotation=60, ha=\"right\",\n",
    "         rotation_mode=\"anchor\");"
   ]
  },
  {
   "cell_type": "code",
   "execution_count": null,
   "id": "b5e35242",
   "metadata": {
    "scrolled": true
   },
   "outputs": [],
   "source": [
    "y_calibration = y_all.loc[:,['V_TAT','A_TAT','LVpMax','LVedv','LVesv']]"
   ]
  },
  {
   "cell_type": "code",
   "execution_count": null,
   "id": "9cb72087",
   "metadata": {},
   "outputs": [],
   "source": [
    "y_calibration2 = pd.DataFrame({'LV_EF':(y_all.loc[:,'LVedv']-y_all.loc[:,'LVesv'])/y_all.loc[:,'LVedv']})"
   ]
  },
  {
   "cell_type": "code",
   "execution_count": null,
   "id": "c3b7dc7e",
   "metadata": {},
   "outputs": [],
   "source": [
    "y_calibration2=y_calibration.join(y_calibration2)"
   ]
  },
  {
   "cell_type": "code",
   "execution_count": null,
   "id": "24c1e05f",
   "metadata": {},
   "outputs": [],
   "source": [
    "MSE = np.zeros((y_calibration.shape[0],y_calibration.shape[1]))\n",
    "\n",
    "for i in range(y_calibration.shape[0]):\n",
    "    y_train = torch.tensor(y_calibration.copy().drop(y_calibration.index[i]).values)\n",
    "    X_train = torch.tensor(input_masked.copy().drop(y_calibration.index[i]).values)\n",
    "    \n",
    "    y_test = torch.tensor(y_calibration.loc[[y_calibration.index[i]]].values)\n",
    "    X_test = torch.tensor(input_masked.loc[[y_calibration.index[i]]].values)\n",
    "    print(y_test)\n",
    "    emulator = GPE.ensemble(X_train,y_train,mean_func=\"linear\",training_iter=500)\n",
    "    MSE[i,:] = emulator.MSE(X_test,y_test).detach().numpy()"
   ]
  },
  {
   "cell_type": "code",
   "execution_count": null,
   "id": "b841c6c7",
   "metadata": {},
   "outputs": [],
   "source": [
    "R2=np.zeros((18,5))\n",
    "for i in range(18):\n",
    "    R2[i]=(1-MSE[i]/np.var(y_calibration,axis=0))"
   ]
  },
  {
   "cell_type": "code",
   "execution_count": null,
   "id": "5a346a1f",
   "metadata": {},
   "outputs": [],
   "source": [
    "R2.std(axis=0)"
   ]
  },
  {
   "cell_type": "code",
   "execution_count": null,
   "id": "b7bb44f8",
   "metadata": {},
   "outputs": [],
   "source": [
    "plt.plot(np.array(1-MSE.mean(axis=0)/np.var(y_calibration,axis=0)),'o')"
   ]
  },
  {
   "cell_type": "code",
   "execution_count": null,
   "id": "280bbf44",
   "metadata": {},
   "outputs": [],
   "source": [
    "y_calibration.columns.values.tolist()"
   ]
  },
  {
   "cell_type": "code",
   "execution_count": null,
   "id": "00186509",
   "metadata": {},
   "outputs": [],
   "source": [
    "fig, ax = plt.subplots()\n",
    "\n",
    "\n",
    "ax.scatter(y_calibration.columns.values.tolist(),np.array(1-MSE.mean(axis=0)/np.var(y_calibration,axis=0)))\n",
    "plt.errorbar(y_calibration.columns.values.tolist(),np.array(1-MSE.mean(axis=0)/np.var(y_calibration,axis=0)),fmt='o',yerr=R2.std(axis=0))\n",
    "plt.setp(ax.get_xticklabels(), rotation=60, ha=\"right\",\n",
    "         rotation_mode=\"anchor\");"
   ]
  },
  {
   "cell_type": "code",
   "execution_count": null,
   "id": "ce2266d1",
   "metadata": {},
   "outputs": [],
   "source": [
    "X_train = torch.tensor(input_masked.values)"
   ]
  },
  {
   "cell_type": "code",
   "execution_count": null,
   "id": "deac7219",
   "metadata": {},
   "outputs": [],
   "source": [
    "y_train=torch.tensor(y_calibration.values)"
   ]
  },
  {
   "cell_type": "code",
   "execution_count": null,
   "id": "139f41d2",
   "metadata": {},
   "outputs": [],
   "source": []
  },
  {
   "cell_type": "code",
   "execution_count": null,
   "id": "8da4dbb2",
   "metadata": {},
   "outputs": [],
   "source": [
    "X_train"
   ]
  },
  {
   "cell_type": "code",
   "execution_count": null,
   "id": "267def64",
   "metadata": {
    "scrolled": false
   },
   "outputs": [],
   "source": [
    "emulator=GPE.ensemble(X_train,y_train,mean_func=\"linear\",training_iter=500)"
   ]
  },
  {
   "cell_type": "code",
   "execution_count": null,
   "id": "2be4d35d",
   "metadata": {},
   "outputs": [],
   "source": [
    "nDim = X_train.shape[1]\n",
    "boundsMaxMin = []\n",
    "for i in range(nDim):\n",
    "    boundsMaxMin.append([torch.min(X_train[:,i]).detach().numpy(),torch.max(X_train[:,i]).detach().numpy()])\n",
    "    print(boundsMaxMin[i])"
   ]
  },
  {
   "cell_type": "code",
   "execution_count": null,
   "id": "0aa882dd",
   "metadata": {},
   "outputs": [],
   "source": [
    "##### from SALib.sample import saltelli\n",
    "from SALib.sample import saltelli\n",
    "from SALib.analyze import sobol\n",
    "from SALib.test_functions import Ishigami\n",
    "import numpy as np\n",
    "\n",
    "# Define the model inputs\n",
    "problem = {\n",
    "    'num_vars': nDim,\n",
    "    'names': x_labels,\n",
    "    'bounds': boundsMaxMin\n",
    "    #'bounds': [[-1, 1],\n",
    "     #          [-1, 1],\n",
    "      #         [-1, 1],\n",
    "       #        [-1, 1],\n",
    "        #       [-1, 1],\n",
    "         #      [-1, 1],\n",
    "          #     [-1, 1],\n",
    "           #    [-1, 1],\n",
    "            #   [-1,1]]\n",
    "}\n",
    "\n",
    "# Generate samples\n",
    "param_values = saltelli.sample(problem, 1024)\n",
    "\n",
    "data1 = torch.tensor(param_values)\n",
    "#data1.columns = X_train.columns\n",
    "\n",
    "Ymean=emulator.predict(data1)"
   ]
  },
  {
   "cell_type": "code",
   "execution_count": null,
   "id": "8fdb2346",
   "metadata": {},
   "outputs": [],
   "source": [
    "Si = []\n",
    "nMod = y_train.shape[1]\n",
    "nDim = X_train.shape[1]\n",
    "for i in range(nMod):\n",
    "    Si.append(sobol.analyze(problem, Ymean[:,i].detach().numpy(), print_to_console=True,calc_second_order=True))"
   ]
  },
  {
   "cell_type": "code",
   "execution_count": null,
   "id": "c143468a",
   "metadata": {},
   "outputs": [],
   "source": [
    "Si_first=np.zeros((nDim,nMod))\n",
    "Si_total=np.zeros((nDim,nMod))\n",
    "for i in range(nMod):\n",
    "    total_Si, first_Si, second_Si = Si[i].to_df()\n",
    "    Si_first[:,i] =  first_Si.iloc[:,0]\n",
    "    Si_total[:,i] =  total_Si.iloc[:,0]\n"
   ]
  },
  {
   "cell_type": "code",
   "execution_count": null,
   "id": "29d9d146",
   "metadata": {},
   "outputs": [],
   "source": [
    "inputs = x_labels.values.tolist()\n",
    "outputs = y_calibration.columns.tolist()\n",
    "fig, ax = plt.subplots()\n",
    "im = ax.imshow(Si_first.T[0:10],cmap='magma_r',vmin=0,vmax=1)\n",
    "\n",
    "ax.set_yticks(np.arange(len(outputs)),labels=outputs)\n",
    "ax.set_xticks(np.arange(len(inputs)), labels=inputs)\n",
    "plt.setp(ax.get_xticklabels(), rotation=60, ha=\"right\",\n",
    "         rotation_mode=\"anchor\");\n",
    "\n",
    "plt.colorbar(im,fraction=0.015, pad=0.04)"
   ]
  },
  {
   "cell_type": "code",
   "execution_count": null,
   "id": "6f9a7ac3",
   "metadata": {
    "scrolled": true
   },
   "outputs": [],
   "source": [
    "inputs = x_labels.values.tolist()\n",
    "outputs = y_calibration.columns.tolist()\n",
    "fig, ax = plt.subplots()\n",
    "im = ax.imshow(Si_total.T,cmap='magma_r',vmin=0,vmax=1)\n",
    "\n",
    "ax.set_yticks(np.arange(len(outputs)),labels=outputs)\n",
    "ax.set_xticks(np.arange(len(inputs)), labels=inputs)\n",
    "plt.setp(ax.get_xticklabels(), rotation=60, ha=\"right\",\n",
    "         rotation_mode=\"anchor\");\n",
    "\n",
    "plt.colorbar(im,fraction=0.015, pad=0.04)"
   ]
  },
  {
   "cell_type": "code",
   "execution_count": null,
   "id": "41bc8277",
   "metadata": {},
   "outputs": [],
   "source": [
    "emulator.predict(data1).detach().numpy()[:,4]"
   ]
  },
  {
   "cell_type": "code",
   "execution_count": null,
   "id": "a5b24540",
   "metadata": {},
   "outputs": [],
   "source": [
    "fig = plt.figure()\n",
    "ax=fig.add_subplot(projection='3d')\n",
    "ax.scatter(data1[:,4],data1[:,6],emulator.predict(data1).detach().numpy()[:,3])\n",
    "plt.ylabel('a_ventricles')\n",
    "plt.xlabel('EDP_lv')"
   ]
  },
  {
   "cell_type": "code",
   "execution_count": null,
   "id": "2d3d1b54",
   "metadata": {},
   "outputs": [],
   "source": [
    "Si[i].to_df()"
   ]
  },
  {
   "cell_type": "code",
   "execution_count": null,
   "id": "d1509836",
   "metadata": {},
   "outputs": [],
   "source": [
    "y_calibration"
   ]
  },
  {
   "cell_type": "code",
   "execution_count": null,
   "id": "cd876b88",
   "metadata": {
    "scrolled": true
   },
   "outputs": [],
   "source": [
    "y_calibration = y_all.loc[:,['V_TAT','A_TAT','LVpMax','LVedv']]"
   ]
  },
  {
   "cell_type": "code",
   "execution_count": null,
   "id": "838579cf",
   "metadata": {},
   "outputs": [],
   "source": [
    "y_calibration2 = pd.DataFrame({'LV_EF':(y_all.loc[:,'LVedv']-y_all.loc[:,'LVesv'])/y_all.loc[:,'LVedv']})"
   ]
  },
  {
   "cell_type": "code",
   "execution_count": null,
   "id": "b7957c14",
   "metadata": {},
   "outputs": [],
   "source": [
    "y_calibration=torch.tensor(y_calibration.join(y_calibration2).values)"
   ]
  },
  {
   "cell_type": "code",
   "execution_count": null,
   "id": "4203ae08",
   "metadata": {},
   "outputs": [],
   "source": []
  },
  {
   "cell_type": "code",
   "execution_count": null,
   "id": "2565f0f9",
   "metadata": {},
   "outputs": [],
   "source": [
    "emulator=GPE.ensemble(torch.tensor(input_masked.values),y_calibration,mean_func=\"linear\",training_iter=500)"
   ]
  },
  {
   "cell_type": "code",
   "execution_count": null,
   "id": "9ff6afd7",
   "metadata": {},
   "outputs": [],
   "source": [
    "input_masked"
   ]
  },
  {
   "cell_type": "code",
   "execution_count": null,
   "id": "27837b98",
   "metadata": {},
   "outputs": [],
   "source": [
    "boundsMaxMin"
   ]
  },
  {
   "cell_type": "code",
   "execution_count": null,
   "id": "58c61de8",
   "metadata": {},
   "outputs": [],
   "source": [
    "boundsMaxMin"
   ]
  },
  {
   "cell_type": "code",
   "execution_count": null,
   "id": "203a62a8",
   "metadata": {},
   "outputs": [],
   "source": [
    "centre = (np.array(boundsMaxMin)[:,1]+np.array(boundsMaxMin)[:,0])/2"
   ]
  },
  {
   "cell_type": "code",
   "execution_count": null,
   "id": "aaeb2312",
   "metadata": {},
   "outputs": [],
   "source": [
    "import emcee\n",
    "ndim = nDim\n",
    "nwalkers = 18\n",
    "p0 = np.random.multivariate_normal(centre, 0.000000001*np.identity(ndim), size=(nwalkers))\n",
    "y_val = torch.tensor([100,134,157,111,0.8])"
   ]
  },
  {
   "cell_type": "code",
   "execution_count": null,
   "id": "fc8ee18b",
   "metadata": {},
   "outputs": [],
   "source": [
    "boundsMaxMin"
   ]
  },
  {
   "cell_type": "code",
   "execution_count": null,
   "id": "259b3699",
   "metadata": {},
   "outputs": [],
   "source": [
    "np.array(boundsMaxMin)[:,0]*2"
   ]
  },
  {
   "cell_type": "code",
   "execution_count": null,
   "id": "c573d998",
   "metadata": {},
   "outputs": [],
   "source": [
    "p0[0]"
   ]
  },
  {
   "cell_type": "code",
   "execution_count": null,
   "id": "fc9489ab",
   "metadata": {},
   "outputs": [],
   "source": [
    "def log_prior(theta):\n",
    "    \n",
    "    #if (np.array(boundsMaxMin)[:,0]<theta).all() and (theta<np.array(boundsMaxMin)[:,1]).all():\n",
    "        \n",
    "    if (np.array(boundsMaxMin)[:,0]*0.5<theta).all() and (theta<np.array(boundsMaxMin)[:,1]*2).all():\n",
    "        return 0.0\n",
    "    return -np.inf"
   ]
  },
  {
   "cell_type": "code",
   "execution_count": null,
   "id": "ece5aecf",
   "metadata": {},
   "outputs": [],
   "source": [
    "x=torch.tensor(p0[0])[None]\n",
    "ll =np.sum(emulator.ensemble_log_likelihood_obs_error(x,y_val[None,:],0).detach().numpy())"
   ]
  },
  {
   "cell_type": "code",
   "execution_count": null,
   "id": "3903a146",
   "metadata": {},
   "outputs": [],
   "source": [
    "def log_likelihood(x,emulator,y_val):\n",
    "    x=torch.tensor(x)[None]\n",
    "    ll =np.sum((emulator.ensemble_log_likelihood_obs_error(x,y_val[None,:],0)).detach().numpy())\n",
    "    return ll"
   ]
  },
  {
   "cell_type": "code",
   "execution_count": null,
   "id": "7f5c7971",
   "metadata": {
    "scrolled": true
   },
   "outputs": [],
   "source": [
    "log_likelihood(p0[1],emulator,y_val)"
   ]
  },
  {
   "cell_type": "code",
   "execution_count": null,
   "id": "8e2d1b03",
   "metadata": {},
   "outputs": [],
   "source": [
    "def log_prob(theta, emulator,y_val):\n",
    "    \n",
    "    lp = log_prior(theta)\n",
    "    if not np.isfinite(lp):\n",
    "        return -np.inf\n",
    "    \n",
    "    return lp + log_likelihood(theta,emulator, y_val)"
   ]
  },
  {
   "cell_type": "code",
   "execution_count": null,
   "id": "90a07cc3",
   "metadata": {},
   "outputs": [],
   "source": [
    "sampler = emcee.EnsembleSampler(nwalkers, ndim, log_prob, args=[emulator,y_val])"
   ]
  },
  {
   "cell_type": "code",
   "execution_count": null,
   "id": "6002d25d",
   "metadata": {},
   "outputs": [],
   "source": [
    "p0[i].shape"
   ]
  },
  {
   "cell_type": "code",
   "execution_count": null,
   "id": "0f9a941b",
   "metadata": {},
   "outputs": [],
   "source": [
    "torch.tensor(p0[0]).shape"
   ]
  },
  {
   "cell_type": "code",
   "execution_count": null,
   "id": "b2c069a2",
   "metadata": {},
   "outputs": [],
   "source": [
    "emulator.predict(torch.tensor(p0)).shape"
   ]
  },
  {
   "cell_type": "code",
   "execution_count": null,
   "id": "550560d8",
   "metadata": {},
   "outputs": [],
   "source": [
    "for i in range(16):\n",
    "    print(log_prob(p0[i],emulator,y_val))"
   ]
  },
  {
   "cell_type": "code",
   "execution_count": null,
   "id": "502a53b9",
   "metadata": {},
   "outputs": [],
   "source": [
    "sampler.run_mcmc(p0, 40000)"
   ]
  },
  {
   "cell_type": "code",
   "execution_count": null,
   "id": "c5bf097d",
   "metadata": {},
   "outputs": [],
   "source": []
  },
  {
   "cell_type": "code",
   "execution_count": null,
   "id": "449b2dee",
   "metadata": {
    "scrolled": true
   },
   "outputs": [],
   "source": [
    "flat_samples = sampler.get_chain(discard=20000, thin=10, flat=True)\n",
    "print(flat_samples.shape)"
   ]
  },
  {
   "cell_type": "code",
   "execution_count": null,
   "id": "1c60ac74",
   "metadata": {},
   "outputs": [],
   "source": []
  },
  {
   "cell_type": "code",
   "execution_count": null,
   "id": "35be679a",
   "metadata": {
    "scrolled": false
   },
   "outputs": [],
   "source": [
    "import corner\n",
    "\n",
    "fig = corner.corner(\n",
    "    flat_samples, labels=x_labels.values, label_kwargs=dict(fontsize=18)\n",
    ");"
   ]
  },
  {
   "cell_type": "code",
   "execution_count": null,
   "id": "f41da0e5",
   "metadata": {},
   "outputs": [],
   "source": [
    "samp = pd.DataFrame(flat_samples).sample(50)"
   ]
  },
  {
   "cell_type": "code",
   "execution_count": null,
   "id": "21b15ecb",
   "metadata": {},
   "outputs": [],
   "source": [
    "samp.to_csv(\"MCMC_samples_scenario_5_50_4timesUpper.dat\", sep = \" \",index=False,header=None)"
   ]
  },
  {
   "cell_type": "code",
   "execution_count": null,
   "id": "f79c69e5",
   "metadata": {
    "scrolled": true
   },
   "outputs": [],
   "source": [
    "flat_samples.mean(axis=0)"
   ]
  },
  {
   "cell_type": "code",
   "execution_count": null,
   "id": "d1f1b334",
   "metadata": {
    "scrolled": false
   },
   "outputs": [],
   "source": [
    "fig, axes = plt.subplots(ndim, figsize=(10, 7), sharex=True)\n",
    "samples = sampler.get_chain()\n",
    "labels = x_labels.values\n",
    "for i in range(ndim):\n",
    "    ax = axes[i]\n",
    "    ax.plot(samples[:, :, i], \"k\", alpha=0.3)\n",
    "    ax.set_xlim(0, len(samples))\n",
    "    ax.set_ylabel(labels[i],rotation=0)\n",
    "    ax.yaxis.set_label_coords(-0.1, 0.5)\n",
    "\n",
    "\n",
    "axes[-1].set_xlabel(\"step number\");"
   ]
  },
  {
   "cell_type": "code",
   "execution_count": null,
   "id": "3175637a",
   "metadata": {},
   "outputs": [],
   "source": [
    "x_out = torch.tensor(flat_samples.mean(axis=0).T)\n"
   ]
  },
  {
   "cell_type": "code",
   "execution_count": null,
   "id": "5e25cdde",
   "metadata": {},
   "outputs": [],
   "source": [
    "y_calibration.columns"
   ]
  },
  {
   "cell_type": "code",
   "execution_count": null,
   "id": "940773a4",
   "metadata": {},
   "outputs": [],
   "source": [
    "x_out.shape"
   ]
  },
  {
   "cell_type": "code",
   "execution_count": null,
   "id": "42ec3c4f",
   "metadata": {},
   "outputs": [],
   "source": [
    "emulator.predict(x_out[None,:])"
   ]
  },
  {
   "cell_type": "code",
   "execution_count": null,
   "id": "cffb0580",
   "metadata": {},
   "outputs": [],
   "source": [
    "torch.tensor(flat_samples.T).shape"
   ]
  },
  {
   "cell_type": "code",
   "execution_count": null,
   "id": "13d3d6a4",
   "metadata": {},
   "outputs": [],
   "source": [
    "plt.hist(emulator.predict(torch.tensor(flat_samples))[:,3].detach().numpy())"
   ]
  },
  {
   "cell_type": "code",
   "execution_count": null,
   "id": "e4650e01",
   "metadata": {},
   "outputs": [],
   "source": [
    "fig, axes = plt.subplots(ndim, figsize=(10, 7), sharex=True)\n",
    "samples = flat_samples\n",
    "labels = x_labels.values\n",
    "for i in range(ndim):\n",
    "    ax = axes[i]\n",
    "    ax.plot(samples[:, i], \"k\", alpha=0.3)\n",
    "    ax.set_xlim(0, len(samples))\n",
    "    ax.set_ylabel(labels[i],rotation=0)\n",
    "    ax.yaxis.set_label_coords(-0.1, 0.5)\n",
    "\n",
    "\n",
    "axes[-1].set_xlabel(\"step number\");"
   ]
  },
  {
   "cell_type": "code",
   "execution_count": null,
   "id": "1b7d9902",
   "metadata": {},
   "outputs": [],
   "source": [
    "working = model.predict(flat_samples)"
   ]
  },
  {
   "cell_type": "code",
   "execution_count": null,
   "id": "d41b325a",
   "metadata": {},
   "outputs": [],
   "source": [
    "plt.plot(working,'o')"
   ]
  },
  {
   "cell_type": "markdown",
   "id": "e2b1b403",
   "metadata": {},
   "source": [
    "# Calibration with fixed inputs"
   ]
  },
  {
   "cell_type": "code",
   "execution_count": null,
   "id": "7227555a",
   "metadata": {
    "scrolled": true
   },
   "outputs": [],
   "source": [
    "new_input=input_masked.copy()\n",
    "new_input=new_input.drop(['CV_atria','a_atria','a_ventricles'],axis=1)"
   ]
  },
  {
   "cell_type": "code",
   "execution_count": null,
   "id": "891a7fd3",
   "metadata": {},
   "outputs": [],
   "source": []
  },
  {
   "cell_type": "code",
   "execution_count": null,
   "id": "ee351c8c",
   "metadata": {},
   "outputs": [],
   "source": [
    "emulator = GPE.ensemble(new_input,y_calibration,mean_func=\"linear\",training_iter=500)"
   ]
  },
  {
   "cell_type": "code",
   "execution_count": null,
   "id": "6e5255a6",
   "metadata": {},
   "outputs": [],
   "source": [
    "nDim = new_input.shape[1]\n",
    "boundsMaxMin = []\n",
    "for i in range(nDim):\n",
    "    boundsMaxMin.append([np.min(new_input.iloc[:,i]),np.max(new_input.iloc[:,i])])\n",
    "    print(boundsMaxMin[i])"
   ]
  },
  {
   "cell_type": "code",
   "execution_count": null,
   "id": "e73abeed",
   "metadata": {},
   "outputs": [],
   "source": [
    "centre = (np.array(boundsMaxMin)[:,1]+np.array(boundsMaxMin)[:,0])/2"
   ]
  },
  {
   "cell_type": "code",
   "execution_count": null,
   "id": "5f590698",
   "metadata": {},
   "outputs": [],
   "source": [
    "nDim"
   ]
  },
  {
   "cell_type": "code",
   "execution_count": null,
   "id": "b2e8bc61",
   "metadata": {},
   "outputs": [],
   "source": [
    "import emcee\n",
    "ndim = nDim\n",
    "nwalkers = 16\n",
    "p0 = np.random.multivariate_normal(centre, 0.001*np.identity(ndim), size=(nwalkers))\n",
    "y_val = [100,157,111,0.5]"
   ]
  },
  {
   "cell_type": "code",
   "execution_count": null,
   "id": "35e43ad6",
   "metadata": {},
   "outputs": [],
   "source": [
    "x_labels.values.squeeze().tolist()"
   ]
  },
  {
   "cell_type": "code",
   "execution_count": null,
   "id": "d584ebd7",
   "metadata": {},
   "outputs": [],
   "source": [
    "new_input.columns"
   ]
  },
  {
   "cell_type": "code",
   "execution_count": null,
   "id": "56177e0d",
   "metadata": {},
   "outputs": [],
   "source": [
    "def log_likelihood(x,emulator,y_val):\n",
    "    x=pd.DataFrame(x).T\n",
    "    x.columns = new_input.columns.values.squeeze().tolist()\n",
    "    y_val = pd.DataFrame(y_val).T\n",
    "    y_val.columns = y_calibration.columns.values.squeeze().tolist()\n",
    "    ll =np.sum(emulator.ensemble_log_likelihood(x,y_val))\n",
    "    return ll"
   ]
  },
  {
   "cell_type": "code",
   "execution_count": null,
   "id": "9c13222c",
   "metadata": {},
   "outputs": [],
   "source": [
    "sampler = emcee.EnsembleSampler(nwalkers, ndim, log_prob, args=[emulator,y_val])"
   ]
  },
  {
   "cell_type": "code",
   "execution_count": null,
   "id": "f2d0fb94",
   "metadata": {},
   "outputs": [],
   "source": [
    "sampler.run_mcmc(p0, 30000)"
   ]
  },
  {
   "cell_type": "code",
   "execution_count": null,
   "id": "221362bb",
   "metadata": {
    "scrolled": true
   },
   "outputs": [],
   "source": [
    "flat_samples = sampler.get_chain(discard=6000, thin=10, flat=True)\n",
    "print(flat_samples.shape)"
   ]
  },
  {
   "cell_type": "code",
   "execution_count": null,
   "id": "cc8d70bb",
   "metadata": {},
   "outputs": [],
   "source": []
  },
  {
   "cell_type": "code",
   "execution_count": null,
   "id": "f5b53bb5",
   "metadata": {
    "scrolled": false
   },
   "outputs": [],
   "source": [
    "import corner\n",
    "\n",
    "fig = corner.corner(\n",
    "    flat_samples, labels=x_labels.values, label_kwargs=dict(fontsize=18)\n",
    ");"
   ]
  },
  {
   "cell_type": "code",
   "execution_count": null,
   "id": "a638efec",
   "metadata": {},
   "outputs": [],
   "source": [
    "samp = pd.DataFrame(flat_samples).sample(50)"
   ]
  },
  {
   "cell_type": "code",
   "execution_count": null,
   "id": "ea1f6cb9",
   "metadata": {},
   "outputs": [],
   "source": [
    "samp.to_csv(\"MCMC_samples_scenario_5_90.dat\", sep = \" \",index=False,header=None)"
   ]
  },
  {
   "cell_type": "code",
   "execution_count": null,
   "id": "112f9f47",
   "metadata": {
    "scrolled": true
   },
   "outputs": [],
   "source": [
    "flat_samples.mean(axis=0)"
   ]
  },
  {
   "cell_type": "code",
   "execution_count": null,
   "id": "c5ef4028",
   "metadata": {
    "scrolled": false
   },
   "outputs": [],
   "source": [
    "fig, axes = plt.subplots(ndim, figsize=(10, 7), sharex=True)\n",
    "samples = sampler.get_chain()\n",
    "labels = x_labels.values\n",
    "for i in range(ndim):\n",
    "    ax = axes[i]\n",
    "    ax.plot(samples[:, :, i], \"k\", alpha=0.3)\n",
    "    ax.set_xlim(0, len(samples))\n",
    "    ax.set_ylabel(labels[i],rotation=0)\n",
    "    ax.yaxis.set_label_coords(-0.1, 0.5)\n",
    "\n",
    "\n",
    "axes[-1].set_xlabel(\"step number\");"
   ]
  },
  {
   "cell_type": "code",
   "execution_count": null,
   "id": "8c028d2b",
   "metadata": {},
   "outputs": [],
   "source": [
    "x_out = pd.DataFrame(flat_samples.mean(axis=0)).T\n",
    "x_out.columns = new_input.columns.values.squeeze()"
   ]
  },
  {
   "cell_type": "code",
   "execution_count": null,
   "id": "fab2c736",
   "metadata": {},
   "outputs": [],
   "source": [
    "y_calibration.columns"
   ]
  },
  {
   "cell_type": "code",
   "execution_count": null,
   "id": "1df5c740",
   "metadata": {},
   "outputs": [],
   "source": [
    "emulator.predict(x_out)"
   ]
  },
  {
   "cell_type": "code",
   "execution_count": null,
   "id": "27e13454",
   "metadata": {},
   "outputs": [],
   "source": [
    "plt.hist(emulator.predict(pd.DataFrame(flat_samples,columns=input_masked.columns))[:,3].detach().numpy())"
   ]
  },
  {
   "cell_type": "code",
   "execution_count": null,
   "id": "1fe63d2b",
   "metadata": {},
   "outputs": [],
   "source": [
    "fig, axes = plt.subplots(ndim, figsize=(10, 7), sharex=True)\n",
    "samples = flat_samples\n",
    "labels = x_labels.values\n",
    "for i in range(ndim):\n",
    "    ax = axes[i]\n",
    "    ax.plot(samples[:, i], \"k\", alpha=0.3)\n",
    "    ax.set_xlim(0, len(samples))\n",
    "    ax.set_ylabel(labels[i],rotation=0)\n",
    "    ax.yaxis.set_label_coords(-0.1, 0.5)\n",
    "\n",
    "\n",
    "axes[-1].set_xlabel(\"step number\");"
   ]
  },
  {
   "cell_type": "markdown",
   "id": "2c0ac968",
   "metadata": {},
   "source": [
    "# Multi-Output GP"
   ]
  },
  {
   "cell_type": "code",
   "execution_count": null,
   "id": "adfb8cd5",
   "metadata": {},
   "outputs": [],
   "source": [
    "import mogptk"
   ]
  },
  {
   "cell_type": "code",
   "execution_count": null,
   "id": "34340fab",
   "metadata": {},
   "outputs": [],
   "source": [
    "y_calibration"
   ]
  },
  {
   "cell_type": "code",
   "execution_count": null,
   "id": "4e1780cb",
   "metadata": {},
   "outputs": [],
   "source": [
    "# split original dataset in training, validation and testing sets\n",
    "X=input_masked\n",
    "y=y_calibration\n",
    "X_train, X_test, y_train, y_test = train_test_split(\n",
    "    X,\n",
    "    y,\n",
    "    test_size=0.2,\n",
    "    random_state=seed\n",
    ")"
   ]
  },
  {
   "cell_type": "code",
   "execution_count": null,
   "id": "cfde4d1a",
   "metadata": {},
   "outputs": [],
   "source": [
    "MOData = pd.concat((X_train,y_train),axis=1)\n"
   ]
  },
  {
   "cell_type": "code",
   "execution_count": null,
   "id": "4fdc7875",
   "metadata": {},
   "outputs": [],
   "source": [
    "MOData"
   ]
  },
  {
   "cell_type": "code",
   "execution_count": null,
   "id": "8601b286",
   "metadata": {},
   "outputs": [],
   "source": [
    "y_calibration2.columns.values.tolist()"
   ]
  },
  {
   "cell_type": "code",
   "execution_count": null,
   "id": "3ef0305a",
   "metadata": {},
   "outputs": [],
   "source": [
    "dataset = mogptk.LoadDataFrame(MOData,x_col=input_masked.columns.values.tolist(),y_col=y_calibration2.columns.values.tolist())\n",
    "dataset.transform(mogptk.TransformNormalize)\n",
    "dataset"
   ]
  },
  {
   "cell_type": "code",
   "execution_count": null,
   "id": "f62155e4",
   "metadata": {},
   "outputs": [],
   "source": [
    "dataset.get_test_data()"
   ]
  },
  {
   "cell_type": "code",
   "execution_count": null,
   "id": "d4a39033",
   "metadata": {},
   "outputs": [],
   "source": [
    "# create model, uncomment for different kernels \n",
    "#model = mogptk.MOSM(dataset, Q=2)\n",
    "#model = mogptk.CSM(dataset, Q=4)\n",
    "#model = mogptk.SM_LMC(dataset, Q=4)\n",
    "model = mogptk.CONV(dataset, Q=4)\n",
    "\n",
    "# initialize parameters of kernel using LombScargle\n",
    "model.init_parameters(method='LS', iters=500)"
   ]
  },
  {
   "cell_type": "code",
   "execution_count": null,
   "id": "440d8cf7",
   "metadata": {},
   "outputs": [],
   "source": [
    "model.train(method='Adam', lr=0.1, iters=7000, plot=True, error='MSE', verbose=True);"
   ]
  },
  {
   "cell_type": "code",
   "execution_count": null,
   "id": "59173348",
   "metadata": {},
   "outputs": [],
   "source": [
    "model.predict(X_test.values)[1]"
   ]
  },
  {
   "cell_type": "code",
   "execution_count": null,
   "id": "6e490e8f",
   "metadata": {},
   "outputs": [],
   "source": [
    "np.mean((y_test.values.T-model.predict(X_test.values)[1])**2,axis=1)/X_test.shape[0]"
   ]
  },
  {
   "cell_type": "code",
   "execution_count": null,
   "id": "0673be71",
   "metadata": {},
   "outputs": [],
   "source": [
    "emulator = GPE.ensemble(X_train,y_train,mean_func=\"linear\",training_iter=1000)"
   ]
  },
  {
   "cell_type": "code",
   "execution_count": null,
   "id": "93c5e3fc",
   "metadata": {},
   "outputs": [],
   "source": [
    "emulator.MSE(X_test,y_test)"
   ]
  },
  {
   "cell_type": "code",
   "execution_count": null,
   "id": "b9854963",
   "metadata": {},
   "outputs": [],
   "source": [
    "model.plot_correlation()"
   ]
  },
  {
   "cell_type": "code",
   "execution_count": null,
   "id": "d383cd65",
   "metadata": {
    "scrolled": false
   },
   "outputs": [],
   "source": [
    "model.print_parameters()"
   ]
  },
  {
   "cell_type": "code",
   "execution_count": null,
   "id": "d8ac5497",
   "metadata": {},
   "outputs": [],
   "source": [
    "params?"
   ]
  },
  {
   "cell_type": "code",
   "execution_count": null,
   "id": "441b582d",
   "metadata": {},
   "outputs": [],
   "source": [
    "params = []\n",
    "\n",
    "for p in model.parameters():\n",
    "    params.append(p)"
   ]
  },
  {
   "cell_type": "code",
   "execution_count": null,
   "id": "118e221a",
   "metadata": {},
   "outputs": [],
   "source": [
    "params"
   ]
  },
  {
   "cell_type": "code",
   "execution_count": null,
   "id": "6b8539af",
   "metadata": {},
   "outputs": [],
   "source": [
    "plt.imshow([[0.0009756545815890106, 0.0, 0.0, 0.0, 27819.543719613113, 0.0, 0.0, 0.0], [1.7460115277182566, 0.0, 0.0, 119410.25481699423, 0.0, 0.0, 0.0, 0.0], [11.369120898808664, 115237.02973475368, 0.0, 0.0, 0.0, 0.0, 0.0, 0.0], [1.6990749064961943, 0.0, 0.0, 74757.56112865475, 0.0, 0.0, 0.0, 0.0]])"
   ]
  },
  {
   "cell_type": "code",
   "execution_count": null,
   "id": "492057c9",
   "metadata": {},
   "outputs": [],
   "source": [
    "plt.imshow([[10.162908005474888, 0.0, 0.0, 0.0, 0.0, 0.0, 0.0, 0.0], [37.97208882285453, 0.0, 0.0, 0.0, 0.0, 0.0, 0.0, 0.0], [35.583222651507306, 0.0, 0.0, 0.0, 0.0, 0.0, 0.0, 0.0], [7.01360765548753, 0.0, 0.0, 0.0, 0.0, 0.0, 0.0, 0.0]])"
   ]
  },
  {
   "cell_type": "code",
   "execution_count": null,
   "id": "3a9d0f77",
   "metadata": {},
   "outputs": [],
   "source": [
    "# split original dataset in training, validation and testing sets\n",
    "X=input_masked\n",
    "y=y_all\n",
    "X_train, X_test, y_train, y_test = train_test_split(\n",
    "    X,\n",
    "    y,\n",
    "    test_size=0.2,\n",
    "    random_state=seed\n",
    ")"
   ]
  },
  {
   "cell_type": "code",
   "execution_count": null,
   "id": "2b18753d",
   "metadata": {},
   "outputs": [],
   "source": [
    "MOData = pd.concat((X_train,y_train),axis=1)\n"
   ]
  },
  {
   "cell_type": "code",
   "execution_count": null,
   "id": "ab1aab15",
   "metadata": {},
   "outputs": [],
   "source": [
    "MOData"
   ]
  },
  {
   "cell_type": "code",
   "execution_count": null,
   "id": "21b08d30",
   "metadata": {},
   "outputs": [],
   "source": [
    "y_calibration.columns.values.tolist()"
   ]
  },
  {
   "cell_type": "code",
   "execution_count": null,
   "id": "d5069a2f",
   "metadata": {},
   "outputs": [],
   "source": [
    "dataset = mogptk.LoadDataFrame(MOData,x_col=input_masked.columns.values.tolist(),y_col=y_all.columns.values.tolist())\n",
    "dataset.transform(mogptk.TransformNormalize)\n",
    "dataset"
   ]
  },
  {
   "cell_type": "code",
   "execution_count": null,
   "id": "9419ae1a",
   "metadata": {},
   "outputs": [],
   "source": [
    "dataset.get_test_data()"
   ]
  },
  {
   "cell_type": "code",
   "execution_count": null,
   "id": "f6ddda17",
   "metadata": {},
   "outputs": [],
   "source": [
    "# create model, uncomment for different kernels \n",
    "#model = mogptk.MOSM(dataset, Q=2)\n",
    "#model = mogptk.CSM(dataset, Q=4)\n",
    "#model = mogptk.SM_LMC(dataset, Q=4)\n",
    "model = mogptk.CONV(dataset, Q=2)\n",
    "\n",
    "# initialize parameters of kernel using LombScargle\n",
    "model.init_parameters(method='LS', iters=500)"
   ]
  },
  {
   "cell_type": "code",
   "execution_count": null,
   "id": "a16f0b5b",
   "metadata": {},
   "outputs": [],
   "source": [
    "model.train(method='SGD', lr=0.01, iters=3500, plot=True, error='MSE', verbose=True);"
   ]
  },
  {
   "cell_type": "code",
   "execution_count": null,
   "id": "910fbd12",
   "metadata": {},
   "outputs": [],
   "source": [
    "model.train(method='SGD', lr=0.01, iters=500, plot=True, error='MSE', verbose=True);"
   ]
  },
  {
   "cell_type": "code",
   "execution_count": null,
   "id": "7d08af99",
   "metadata": {},
   "outputs": [],
   "source": [
    "model.predict(X_test.values)[1]"
   ]
  },
  {
   "cell_type": "code",
   "execution_count": null,
   "id": "cd236282",
   "metadata": {},
   "outputs": [],
   "source": [
    "np.mean((y_test.values.T-model.predict(X_test.values)[1])**2,axis=1)/X_test.shape[0]"
   ]
  },
  {
   "cell_type": "code",
   "execution_count": null,
   "id": "574010f7",
   "metadata": {
    "scrolled": false
   },
   "outputs": [],
   "source": [
    "model.plot_correlation()"
   ]
  },
  {
   "cell_type": "code",
   "execution_count": null,
   "id": "58e2c265",
   "metadata": {},
   "outputs": [],
   "source": [
    "fig, ax = model.plot_correlation(figsize=(25, 25))"
   ]
  },
  {
   "cell_type": "code",
   "execution_count": null,
   "id": "9abf25e7",
   "metadata": {},
   "outputs": [],
   "source": [
    "start=time.time()\n",
    "emulator = GPE.ensemble(X_train,y_train,mean_func=\"linear\",training_iter=500)\n",
    "\n",
    "end = time.time()\n",
    "print(end - start)"
   ]
  },
  {
   "cell_type": "code",
   "execution_count": null,
   "id": "5136c4c2",
   "metadata": {},
   "outputs": [],
   "source": [
    "from matplotlib import pyplot as plt"
   ]
  },
  {
   "cell_type": "code",
   "execution_count": null,
   "id": "1b22a444",
   "metadata": {},
   "outputs": [],
   "source": [
    "X_test"
   ]
  },
  {
   "cell_type": "code",
   "execution_count": null,
   "id": "52c8535b",
   "metadata": {},
   "outputs": [],
   "source": [
    "import cigp_v10 as cig"
   ]
  },
  {
   "cell_type": "code",
   "execution_count": null,
   "id": "9c6b8b02",
   "metadata": {},
   "outputs": [],
   "source": [
    "model = cig.cigp(torch.tensor(X_train.values),torch.tensor(y_train.values),normal_y_mode=1)"
   ]
  },
  {
   "cell_type": "code",
   "execution_count": null,
   "id": "0f8c34e6",
   "metadata": {},
   "outputs": [],
   "source": [
    "import time\n",
    "start = time.time()\n",
    "\n",
    "\n",
    "model.train_adam(niteration=500)\n",
    "\n"
   ]
  },
  {
   "cell_type": "code",
   "execution_count": null,
   "id": "ae398dc8",
   "metadata": {},
   "outputs": [],
   "source": [
    "(torch.sum((model.forward(torch.tensor(X_test.values))[0]-torch.tensor(y_test.values))**2,axis=0))/y_test.values.shape[0]"
   ]
  },
  {
   "cell_type": "code",
   "execution_count": null,
   "id": "8434b694",
   "metadata": {},
   "outputs": [],
   "source": []
  },
  {
   "cell_type": "code",
   "execution_count": null,
   "id": "a7d31b2c",
   "metadata": {},
   "outputs": [],
   "source": []
  },
  {
   "cell_type": "code",
   "execution_count": null,
   "id": "946048e9",
   "metadata": {},
   "outputs": [],
   "source": []
  },
  {
   "cell_type": "code",
   "execution_count": null,
   "id": "668fd2da",
   "metadata": {},
   "outputs": [],
   "source": [
    "mogptMSE = np.array([9.10333333e-01, 1.33455636e-02, 8.78157403e-01, 6.69582124e-01,\n",
    "       3.70024071e+02, 1.23460430e+02, 6.35753356e-01, 6.52791491e-04,\n",
    "       3.76409392e-01, 5.31805275e-01, 1.71110574e+02, 5.49810697e+00,\n",
    "       1.05649088e-01, 7.97417780e-02, 1.55348111e-01, 1.24083716e-02,\n",
    "       5.45010526e-02, 5.65038223e-02, 1.02820944e-01, 1.11955787e-03,\n",
    "       2.06413166e-02, 1.92173725e-02, 5.43121107e-02, 2.30204748e-02,\n",
    "       1.96869906e-02, 1.69456459e-02, 1.63021757e+01, 1.57392304e+00])"
   ]
  },
  {
   "cell_type": "code",
   "execution_count": null,
   "id": "aec72146",
   "metadata": {},
   "outputs": [],
   "source": [
    "GPMSE = emulator.MSE(X_test,y_test).detach().numpy()\n",
    "CIGMSE=((torch.sum((model.forward(torch.tensor(X_test.values))[0]-torch.tensor(y_test.values))**2,axis=0))/y_test.values.shape[0]).detach().numpy()"
   ]
  },
  {
   "cell_type": "code",
   "execution_count": null,
   "id": "ded22143",
   "metadata": {},
   "outputs": [],
   "source": [
    "fig, ax = plt.subplots()\n",
    "\n",
    "\n",
    "\n",
    "im=plt.plot(1-GPMSE/np.var(y_test,axis=0),'o')\n",
    "plt.plot(1-mogptMSE/np.var(y_test,axis=0),'o')\n",
    "plt.plot(1-CIGMSE/np.var(y_test,axis=0),'o')\n",
    "plt.legend(('GP','MOGPT','CIGP'))\n",
    "\n",
    "\n",
    "plt.setp(ax.get_xticklabels(), rotation=60, ha=\"right\",\n",
    "         rotation_mode=\"anchor\");"
   ]
  },
  {
   "cell_type": "code",
   "execution_count": null,
   "id": "c5a4db8b",
   "metadata": {},
   "outputs": [],
   "source": [
    "np.mean((y_test.values.T-model.predict(X_test.values)[1])**2,axis=1)/X_test.shape[0]"
   ]
  },
  {
   "cell_type": "code",
   "execution_count": null,
   "id": "d2202568",
   "metadata": {},
   "outputs": [],
   "source": [
    "np.var(y_test,axis=0)"
   ]
  },
  {
   "cell_type": "code",
   "execution_count": null,
   "id": "c2c9f633",
   "metadata": {},
   "outputs": [],
   "source": [
    "y_all.iloc[:,[4]].max()"
   ]
  },
  {
   "cell_type": "code",
   "execution_count": null,
   "id": "e826904c",
   "metadata": {},
   "outputs": [],
   "source": [
    "y_all.iloc[:,[4]].min()"
   ]
  },
  {
   "cell_type": "code",
   "execution_count": null,
   "id": "c5f9179b",
   "metadata": {},
   "outputs": [],
   "source": [
    "y_all.iloc[:,[4]].std()"
   ]
  },
  {
   "cell_type": "code",
   "execution_count": null,
   "id": "5f939c54",
   "metadata": {},
   "outputs": [],
   "source": []
  }
 ],
 "metadata": {
  "kernelspec": {
   "display_name": "Python 3 (ipykernel)",
   "language": "python",
   "name": "python3"
  },
  "language_info": {
   "codemirror_mode": {
    "name": "ipython",
    "version": 3
   },
   "file_extension": ".py",
   "mimetype": "text/x-python",
   "name": "python",
   "nbconvert_exporter": "python",
   "pygments_lexer": "ipython3",
   "version": "3.11.5"
  }
 },
 "nbformat": 4,
 "nbformat_minor": 5
}
