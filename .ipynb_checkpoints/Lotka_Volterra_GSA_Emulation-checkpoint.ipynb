{
 "cells": [
  {
   "cell_type": "code",
   "execution_count": 1,
   "id": "803b8625",
   "metadata": {},
   "outputs": [],
   "source": [
    "def vectorfield(w, t, p):\n",
    "    \"\"\"\n",
    "    Defines the differential equations for the coupled spring-mass system.\n",
    "\n",
    "    Arguments:\n",
    "        w :  vector of the state variables:\n",
    "                  w = [x1,y1,x2,y2]\n",
    "        t :  time\n",
    "        p :  vector of the parameters:\n",
    "                  p = [m1,m2,k1,k2,L1,L2,b1,b2]\n",
    "    \"\"\"\n",
    "    x1, y1,x2, y2 = w\n",
    "    m1, m2, k1, k2, L1, L2, b1, b2 = p\n",
    "\n",
    "    # Create f = (x1',y1',x2',y2'):\n",
    "    f = [y1,\n",
    "         (-b1 * y1 - k1 * (x1 - L1) + k2 * (x2 - x1 - L2)) / m1,\n",
    "         y2,\n",
    "         (-b2 * y2 - k2 * (x2 - x1 - L2)) / m2]\n",
    "    return f"
   ]
  },
  {
   "cell_type": "code",
   "execution_count": 2,
   "id": "209fdc44",
   "metadata": {},
   "outputs": [],
   "source": [
    "def lotkavolteraODE(w, t, p):\n",
    "    \"\"\"\n",
    "    Defines the differential equations for the coupled spring-mass system.\n",
    "\n",
    "    Arguments:\n",
    "        w :  vector of the state variables:\n",
    "                  w = [x1,y1,x2,y2]\n",
    "        t :  time\n",
    "        p :  vector of the parameters:\n",
    "                  p = [m1,m2,k1,k2,L1,L2,b1,b2]\n",
    "    \"\"\"\n",
    "    x1, x2 = w\n",
    "    alpha, beta,delta,gamma = p\n",
    "\n",
    "    # Create f = (x1',y1',x2',y2'):\n",
    "    f = [alpha*x1-beta*x1*x2,\n",
    "         delta*x1*x2-gamma*x2]\n",
    "    return f"
   ]
  },
  {
   "cell_type": "code",
   "execution_count": 3,
   "id": "c134d344",
   "metadata": {},
   "outputs": [],
   "source": [
    "# Use ODEINT to solve the differential equations defined by the vector field\n",
    "from scipy.integrate import odeint\n",
    "import numpy as np\n",
    "\n",
    "# Parameter values\n",
    "# Masses:\n",
    "m1 = 2.0\n",
    "m2 = 1.5\n",
    "# Spring constants\n",
    "k1 = 8.0\n",
    "k2 = 40.0\n",
    "# Natural lengths\n",
    "L1 = 0.5\n",
    "L2 = 1.0\n",
    "# Friction coefficients\n",
    "b1 = 0.8\n",
    "b2 = 0.5\n",
    "\n",
    "# Initial conditions\n",
    "# x1 and x2 are the initial displacements; y1 and y2 are the initial velocities\n",
    "x1 = 0.5\n",
    "y1 = 0.0\n",
    "x2 = 2.25\n",
    "y2 = 0.0\n",
    "\n",
    "# ODE solver parameters\n",
    "abserr = 1.0e-8\n",
    "relerr = 1.0e-6\n",
    "stoptime = 10.0\n",
    "numpoints = 250\n",
    "\n",
    "# Create the time samples for the output of the ODE solver.\n",
    "# I use a large number of points, only because I want to make\n",
    "# a plot of the solution that looks nice.\n",
    "t = [stoptime * float(i) / (numpoints - 1) for i in range(numpoints)]\n",
    "\n",
    "# Pack up the parameters and initial conditions:\n",
    "p = [m1, m2, k1, k2, L1, L2, b1, b2]\n",
    "w = [x1,y1, x2,y2]\n",
    "SolveP=[abserr,relerr,stoptime ,numpoints]"
   ]
  },
  {
   "cell_type": "code",
   "execution_count": 4,
   "id": "dcd97410",
   "metadata": {},
   "outputs": [],
   "source": [
    "alpha=1.1\n",
    "beta=1.4\n",
    "delta=0.5\n",
    "gamma=0.4\n",
    "\n",
    "x1 = 1\n",
    "\n",
    "x2 = 1\n",
    "\n",
    "\n",
    "\n",
    "# ODE solver parameters\n",
    "abserr = 1.0e-8\n",
    "relerr = 1.0e-6\n",
    "stoptime = 100.0\n",
    "numpoints = 2500\n",
    "\n",
    "# Create the time samples for the output of the ODE solver.\n",
    "# I use a large number of points, only because I want to make\n",
    "# a plot of the solution that looks nice.\n",
    "t = [stoptime * float(i) / (numpoints - 1) for i in range(numpoints)]\n",
    "\n",
    "# Pack up the parameters and initial conditions:\n",
    "p = [alpha,beta,delta,gamma]\n",
    "w = [x1, x2]\n",
    "SolveP=[abserr,relerr,stoptime ,numpoints]"
   ]
  },
  {
   "cell_type": "code",
   "execution_count": 5,
   "id": "a0f507f8",
   "metadata": {},
   "outputs": [],
   "source": [
    "def lotkaVolterra(w,t,p,SolveP):\n",
    "    # ODE solver parameters\n",
    "    abserr = SolveP[0]\n",
    "    relerr = SolveP[1]\n",
    "    stoptime = SolveP[2]\n",
    "    numpoints = SolveP[3]\n",
    "    t = [stoptime * float(i) / (numpoints - 1) for i in range(numpoints)]\n",
    "    wsol = odeint(lotkavolteraODE, w, t, args=(p,),\n",
    "              atol=abserr, rtol=relerr)\n",
    "\n",
    "\n",
    "    output=np.hstack((np.array(t)[:,None],wsol)).T\n",
    "    return output"
   ]
  },
  {
   "cell_type": "code",
   "execution_count": 6,
   "id": "47d96f2b",
   "metadata": {},
   "outputs": [],
   "source": [
    "def minPrey(w,t,p,SolveP):\n",
    "    out = lotkaVolterra(w,t,p,SolveP)\n",
    "    t, x1, x2 = out\n",
    "    half=int(SolveP[3]/2)\n",
    "    minPrey = max(x1[half:])\n",
    "    return minPrey"
   ]
  },
  {
   "cell_type": "code",
   "execution_count": 7,
   "id": "8007110a",
   "metadata": {},
   "outputs": [],
   "source": [
    "def minPred(w,t,p,SolveP):\n",
    "    out = lotkaVolterra(w,t,p,SolveP)\n",
    "    t, x1, x2 = out\n",
    "    half=int(SolveP[3]/2)\n",
    "    minPrey = max(x2[half:])\n",
    "    return minPrey"
   ]
  },
  {
   "cell_type": "code",
   "execution_count": 8,
   "id": "5a5c1d3c",
   "metadata": {},
   "outputs": [],
   "source": [
    "def coupledSpring(w,t,p,SolveP):\n",
    "    # ODE solver parameters\n",
    "    abserr = SolveP[0]\n",
    "    relerr = SolveP[1]\n",
    "    stoptime = SolveP[2]\n",
    "    numpoints = SolveP[3]\n",
    "    t = [stoptime * float(i) / (numpoints - 1) for i in range(numpoints)]\n",
    "    wsol = odeint(vectorfield, w, t, args=(p,),\n",
    "              atol=abserr, rtol=relerr)\n",
    "\n",
    "\n",
    "    output=np.hstack((np.array(t)[:,None],wsol)).T\n",
    "    return output"
   ]
  },
  {
   "cell_type": "code",
   "execution_count": 9,
   "id": "fbedf393",
   "metadata": {},
   "outputs": [],
   "source": [
    "data=lotkaVolterra(w,t,p,SolveP)"
   ]
  },
  {
   "cell_type": "code",
   "execution_count": 10,
   "id": "a2b978e8",
   "metadata": {},
   "outputs": [
    {
     "data": {
      "text/plain": [
       "1.2443567955421808"
      ]
     },
     "execution_count": 10,
     "metadata": {},
     "output_type": "execute_result"
    }
   ],
   "source": [
    "minPrey(w,t,p,SolveP)"
   ]
  },
  {
   "cell_type": "code",
   "execution_count": 11,
   "id": "419a9d8f",
   "metadata": {
    "scrolled": true
   },
   "outputs": [
    {
     "data": {
      "image/png": "[encoded data removed]",
      "text/plain": [
       "<Figure size 600x450 with 1 Axes>"
      ]
     },
     "metadata": {},
     "output_type": "display_data"
    }
   ],
   "source": [
    "# Plot the solution that was generated\n",
    "\n",
    "from numpy import loadtxt\n",
    "from pylab import figure, plot, xlabel, grid, legend, title, savefig\n",
    "from matplotlib.font_manager import FontProperties\n",
    "\n",
    "t, x1, x2 = data\n",
    "\n",
    "figure(1, figsize=(6, 4.5))\n",
    "\n",
    "xlabel('t')\n",
    "grid(True)\n",
    "\n",
    "lw = 1\n",
    "\n",
    "plot(t, x1, 'b', linewidth=lw)\n",
    "plot(t, x2, 'g', linewidth=lw)\n",
    "\n",
    "legend((r'$x_1$', r'$x_2$'), prop=FontProperties(size=16))\n",
    "title('Mass Displacements for the\\nCoupled Spring-Mass System')\n",
    "savefig('two_springs.png', dpi=100)"
   ]
  },
  {
   "cell_type": "code",
   "execution_count": 12,
   "id": "566fc0c5",
   "metadata": {},
   "outputs": [
    {
     "name": "stderr",
     "output_type": "stream",
     "text": [
      "C:\\Users\\chris\\AppData\\Local\\Temp\\ipykernel_27660\\329280985.py:17: DeprecationWarning: `salib.sample.saltelli` will be removed in SALib 1.5. Please use `salib.sample.sobol`\n",
      "  param_values = saltelli.sample(problem, 1024)\n"
     ]
    }
   ],
   "source": [
    "from SALib.sample import saltelli\n",
    "from SALib.analyze import sobol\n",
    "from SALib.test_functions import Ishigami\n",
    "import numpy as np\n",
    "\n",
    "# Define the model inputs\n",
    "problem = {\n",
    "    'num_vars': 4,\n",
    "    'names': ['alpha', 'beta', 'delta', 'gamma'],\n",
    "    'bounds': [[1, 5],\n",
    "               [1, 5],\n",
    "               [1, 5],\n",
    "               [1, 5]]\n",
    "}\n",
    "\n",
    "# Generate samples\n",
    "param_values = saltelli.sample(problem, 1024)\n",
    "\n",
    "Yprey = np.zeros([param_values.shape[0]])\n",
    "Ypred = np.zeros([param_values.shape[0]])\n",
    "# Run model (example)\n",
    "for i,p1 in enumerate(param_values):\n",
    "    Yprey[i] = minPrey(w,t,p1,SolveP)\n",
    "    Ypred[i] = minPred(w,t,p1,SolveP)\n",
    "    # Perform analysis\n"
   ]
  },
  {
   "cell_type": "code",
   "execution_count": 13,
   "id": "70cd3225",
   "metadata": {},
   "outputs": [
    {
     "name": "stdout",
     "output_type": "stream",
     "text": [
      "             ST   ST_conf\n",
      "alpha  0.378051  0.075561\n",
      "beta   0.751577  0.115437\n",
      "delta  0.053752  0.012042\n",
      "gamma  0.046504  0.008525\n",
      "             S1   S1_conf\n",
      "alpha  0.191143  0.054090\n",
      "beta   0.530435  0.113058\n",
      "delta  0.003915  0.018740\n",
      "gamma  0.003024  0.018676\n",
      "                      S2   S2_conf\n",
      "(alpha, beta)   0.184811  0.165129\n",
      "(alpha, delta) -0.007689  0.079794\n",
      "(alpha, gamma) -0.004329  0.083957\n",
      "(beta, delta)   0.030045  0.167707\n",
      "(beta, gamma)   0.027114  0.177682\n",
      "(delta, gamma)  0.047806  0.031866\n",
      "[0.19114335 0.53043542 0.00391537 0.00302432]\n"
     ]
    }
   ],
   "source": [
    "Si = sobol.analyze(problem, Ypred, print_to_console=True)\n",
    "\n",
    "# Print the first-order sensitivity indices\n",
    "print(Si['S1'])"
   ]
  },
  {
   "cell_type": "code",
   "execution_count": 14,
   "id": "69770b7e",
   "metadata": {},
   "outputs": [
    {
     "name": "stdout",
     "output_type": "stream",
     "text": [
      "             ST   ST_conf\n",
      "alpha  0.049207  0.008708\n",
      "beta   0.054050  0.009447\n",
      "delta  0.768751  0.113803\n",
      "gamma  0.375947  0.072469\n",
      "             S1   S1_conf\n",
      "alpha  0.006276  0.022721\n",
      "beta  -0.003264  0.016198\n",
      "delta  0.549926  0.100052\n",
      "gamma  0.195818  0.061937\n",
      "                      S2   S2_conf\n",
      "(alpha, beta)   0.036147  0.029433\n",
      "(alpha, delta)  0.002272  0.034362\n",
      "(alpha, gamma) -0.000908  0.031795\n",
      "(beta, delta)   0.007765  0.034804\n",
      "(beta, gamma)   0.013705  0.027470\n",
      "(delta, gamma)  0.187511  0.194921\n",
      "[ 0.00627634 -0.00326409  0.54992636  0.19581789]\n"
     ]
    }
   ],
   "source": [
    "Si = sobol.analyze(problem, Yprey, print_to_console=True)\n",
    "\n",
    "# Print the first-order sensitivity indices\n",
    "print(Si['S1'])"
   ]
  },
  {
   "cell_type": "code",
   "execution_count": 15,
   "id": "bcc280a4",
   "metadata": {},
   "outputs": [],
   "source": [
    "import math\n",
    "import torch\n",
    "import gpytorch"
   ]
  },
  {
   "cell_type": "code",
   "execution_count": 16,
   "id": "93d68377",
   "metadata": {},
   "outputs": [],
   "source": [
    "class ExactGPModel(gpytorch.models.ExactGP):\n",
    "    def __init__(self, train_x, train_y, likelihood):\n",
    "        super(ExactGPModel, self).__init__(train_x, train_y, likelihood)\n",
    "        self.mean_module = gpytorch.means.ConstantMean()\n",
    "        self.covar_module = gpytorch.kernels.ScaleKernel(gpytorch.kernels.RBFKernel())\n",
    "\n",
    "    def forward(self, x):\n",
    "        mean_x = self.mean_module(x)\n",
    "        covar_x = self.covar_module(x)\n",
    "        return gpytorch.distributions.MultivariateNormal(mean_x, covar_x)\n",
    "\n",
    "    \n",
    "    \n",
    "# initialize likelihood and model\n",
    "likelihoodPred = gpytorch.likelihoods.GaussianLikelihood()\n",
    "likelihoodPrey = gpytorch.likelihoods.GaussianLikelihood()\n",
    "predModel = ExactGPModel(torch.tensor(param_values), torch.tensor(Ypred), likelihoodPred)\n",
    "preyModel = ExactGPModel(torch.tensor(param_values), torch.tensor(Yprey), likelihoodPrey)"
   ]
  },
  {
   "cell_type": "code",
   "execution_count": 17,
   "id": "a1e5a113",
   "metadata": {},
   "outputs": [
    {
     "name": "stdout",
     "output_type": "stream",
     "text": [
      "Iter 1/50 - Loss: 0.982   lengthscale: 0.693   noise: 0.693\n",
      "Iter 2/50 - Loss: 0.913   lengthscale: 0.744   noise: 0.644\n",
      "Iter 3/50 - Loss: 0.850   lengthscale: 0.798   noise: 0.598\n",
      "Iter 4/50 - Loss: 0.794   lengthscale: 0.852   noise: 0.554\n",
      "Iter 5/50 - Loss: 0.740   lengthscale: 0.907   noise: 0.513\n",
      "Iter 6/50 - Loss: 0.689   lengthscale: 0.962   noise: 0.474\n",
      "Iter 7/50 - Loss: 0.640   lengthscale: 1.017   noise: 0.437\n",
      "Iter 8/50 - Loss: 0.592   lengthscale: 1.071   noise: 0.402\n",
      "Iter 9/50 - Loss: 0.544   lengthscale: 1.123   noise: 0.370\n",
      "Iter 10/50 - Loss: 0.498   lengthscale: 1.174   noise: 0.339\n",
      "Iter 11/50 - Loss: 0.451   lengthscale: 1.222   noise: 0.311\n",
      "Iter 12/50 - Loss: 0.405   lengthscale: 1.267   noise: 0.285\n",
      "Iter 13/50 - Loss: 0.359   lengthscale: 1.309   noise: 0.260\n",
      "Iter 14/50 - Loss: 0.312   lengthscale: 1.348   noise: 0.238\n",
      "Iter 15/50 - Loss: 0.266   lengthscale: 1.382   noise: 0.217\n",
      "Iter 16/50 - Loss: 0.220   lengthscale: 1.414   noise: 0.197\n",
      "Iter 17/50 - Loss: 0.174   lengthscale: 1.441   noise: 0.180\n",
      "Iter 18/50 - Loss: 0.127   lengthscale: 1.464   noise: 0.163\n",
      "Iter 19/50 - Loss: 0.081   lengthscale: 1.482   noise: 0.148\n",
      "Iter 20/50 - Loss: 0.034   lengthscale: 1.497   noise: 0.135\n",
      "Iter 21/50 - Loss: -0.018   lengthscale: 1.509   noise: 0.122\n",
      "Iter 22/50 - Loss: -0.064   lengthscale: 1.516   noise: 0.110\n",
      "Iter 23/50 - Loss: -0.108   lengthscale: 1.521   noise: 0.100\n",
      "Iter 24/50 - Loss: -0.157   lengthscale: 1.525   noise: 0.090\n",
      "Iter 25/50 - Loss: -0.208   lengthscale: 1.527   noise: 0.082\n",
      "Iter 26/50 - Loss: -0.255   lengthscale: 1.528   noise: 0.074\n",
      "Iter 27/50 - Loss: -0.302   lengthscale: 1.528   noise: 0.067\n",
      "Iter 28/50 - Loss: -0.351   lengthscale: 1.530   noise: 0.060\n",
      "Iter 29/50 - Loss: -0.400   lengthscale: 1.534   noise: 0.054\n",
      "Iter 30/50 - Loss: -0.447   lengthscale: 1.542   noise: 0.049\n",
      "Iter 31/50 - Loss: -0.492   lengthscale: 1.555   noise: 0.044\n",
      "Iter 32/50 - Loss: -0.541   lengthscale: 1.573   noise: 0.040\n",
      "Iter 33/50 - Loss: -0.595   lengthscale: 1.598   noise: 0.036\n",
      "Iter 34/50 - Loss: -0.642   lengthscale: 1.628   noise: 0.032\n",
      "Iter 35/50 - Loss: -0.689   lengthscale: 1.662   noise: 0.029\n",
      "Iter 36/50 - Loss: -0.743   lengthscale: 1.703   noise: 0.026\n",
      "Iter 37/50 - Loss: -0.789   lengthscale: 1.745   noise: 0.024\n",
      "Iter 38/50 - Loss: -0.837   lengthscale: 1.787   noise: 0.021\n",
      "Iter 39/50 - Loss: -0.883   lengthscale: 1.828   noise: 0.019\n",
      "Iter 40/50 - Loss: -0.930   lengthscale: 1.868   noise: 0.017\n",
      "Iter 41/50 - Loss: -0.977   lengthscale: 1.903   noise: 0.016\n",
      "Iter 42/50 - Loss: -1.023   lengthscale: 1.930   noise: 0.014\n",
      "Iter 43/50 - Loss: -1.071   lengthscale: 1.949   noise: 0.013\n",
      "Iter 44/50 - Loss: -1.119   lengthscale: 1.968   noise: 0.011\n",
      "Iter 45/50 - Loss: -1.158   lengthscale: 1.981   noise: 0.010\n",
      "Iter 46/50 - Loss: -1.205   lengthscale: 1.984   noise: 0.009\n",
      "Iter 47/50 - Loss: -1.249   lengthscale: 1.991   noise: 0.008\n",
      "Iter 48/50 - Loss: -1.300   lengthscale: 1.998   noise: 0.008\n",
      "Iter 49/50 - Loss: -1.342   lengthscale: 2.009   noise: 0.007\n",
      "Iter 50/50 - Loss: -1.379   lengthscale: 2.022   noise: 0.006\n"
     ]
    }
   ],
   "source": [
    "import os\n",
    "smoke_test = ('CI' in os.environ)\n",
    "training_iter = 2 if smoke_test else 50\n",
    "\n",
    "\n",
    "# Find optimal model hyperparameters\n",
    "preyModel.train()\n",
    "likelihoodPrey.train()\n",
    "\n",
    "# Use the adam optimizer\n",
    "optimizer = torch.optim.Adam(preyModel.parameters(), lr=0.1)  # Includes GaussianLikelihood parameters\n",
    "\n",
    "# \"Loss\" for GPs - the marginal log likelihood\n",
    "mll = gpytorch.mlls.ExactMarginalLogLikelihood(likelihoodPrey, preyModel)\n",
    "\n",
    "for i in range(training_iter):\n",
    "    # Zero gradients from previous iteration\n",
    "    optimizer.zero_grad()\n",
    "    # Output from model\n",
    "    output = preyModel(torch.tensor(param_values))\n",
    "    # Calc loss and backprop gradients\n",
    "    Y2=torch.tensor(Ypred)\n",
    "    loss = -mll(output, Y2)\n",
    "    loss.backward()\n",
    "    print('Iter %d/%d - Loss: %.3f   lengthscale: %.3f   noise: %.3f' % (\n",
    "        i + 1, training_iter, loss.item(),\n",
    "        preyModel.covar_module.base_kernel.lengthscale.item(),\n",
    "        preyModel.likelihood.noise.item()\n",
    "    ))\n",
    "    optimizer.step()"
   ]
  },
  {
   "cell_type": "code",
   "execution_count": 18,
   "id": "250bb6b1",
   "metadata": {
    "scrolled": true
   },
   "outputs": [
    {
     "name": "stdout",
     "output_type": "stream",
     "text": [
      "Iter 1/50 - Loss: 0.979   lengthscale: 0.693   noise: 0.693\n",
      "Iter 2/50 - Loss: 0.913   lengthscale: 0.744   noise: 0.644\n",
      "Iter 3/50 - Loss: 0.851   lengthscale: 0.798   noise: 0.598\n",
      "Iter 4/50 - Loss: 0.797   lengthscale: 0.852   noise: 0.554\n",
      "Iter 5/50 - Loss: 0.744   lengthscale: 0.907   noise: 0.513\n",
      "Iter 6/50 - Loss: 0.691   lengthscale: 0.963   noise: 0.474\n",
      "Iter 7/50 - Loss: 0.639   lengthscale: 1.018   noise: 0.437\n",
      "Iter 8/50 - Loss: 0.594   lengthscale: 1.072   noise: 0.402\n",
      "Iter 9/50 - Loss: 0.543   lengthscale: 1.125   noise: 0.370\n",
      "Iter 10/50 - Loss: 0.499   lengthscale: 1.175   noise: 0.339\n",
      "Iter 11/50 - Loss: 0.453   lengthscale: 1.223   noise: 0.311\n",
      "Iter 12/50 - Loss: 0.404   lengthscale: 1.268   noise: 0.285\n",
      "Iter 13/50 - Loss: 0.361   lengthscale: 1.310   noise: 0.260\n",
      "Iter 14/50 - Loss: 0.314   lengthscale: 1.348   noise: 0.238\n",
      "Iter 15/50 - Loss: 0.266   lengthscale: 1.383   noise: 0.217\n",
      "Iter 16/50 - Loss: 0.220   lengthscale: 1.414   noise: 0.197\n",
      "Iter 17/50 - Loss: 0.177   lengthscale: 1.441   noise: 0.180\n",
      "Iter 18/50 - Loss: 0.128   lengthscale: 1.464   noise: 0.163\n",
      "Iter 19/50 - Loss: 0.079   lengthscale: 1.483   noise: 0.148\n",
      "Iter 20/50 - Loss: 0.033   lengthscale: 1.499   noise: 0.135\n",
      "Iter 21/50 - Loss: -0.013   lengthscale: 1.510   noise: 0.122\n",
      "Iter 22/50 - Loss: -0.063   lengthscale: 1.519   noise: 0.110\n",
      "Iter 23/50 - Loss: -0.111   lengthscale: 1.524   noise: 0.100\n",
      "Iter 24/50 - Loss: -0.159   lengthscale: 1.528   noise: 0.090\n",
      "Iter 25/50 - Loss: -0.208   lengthscale: 1.529   noise: 0.082\n",
      "Iter 26/50 - Loss: -0.254   lengthscale: 1.531   noise: 0.074\n",
      "Iter 27/50 - Loss: -0.301   lengthscale: 1.532   noise: 0.067\n",
      "Iter 28/50 - Loss: -0.351   lengthscale: 1.536   noise: 0.060\n",
      "Iter 29/50 - Loss: -0.399   lengthscale: 1.541   noise: 0.054\n",
      "Iter 30/50 - Loss: -0.446   lengthscale: 1.549   noise: 0.049\n",
      "Iter 31/50 - Loss: -0.494   lengthscale: 1.560   noise: 0.044\n",
      "Iter 32/50 - Loss: -0.544   lengthscale: 1.577   noise: 0.040\n",
      "Iter 33/50 - Loss: -0.594   lengthscale: 1.598   noise: 0.036\n",
      "Iter 34/50 - Loss: -0.636   lengthscale: 1.625   noise: 0.032\n",
      "Iter 35/50 - Loss: -0.690   lengthscale: 1.653   noise: 0.029\n",
      "Iter 36/50 - Loss: -0.736   lengthscale: 1.685   noise: 0.026\n",
      "Iter 37/50 - Loss: -0.792   lengthscale: 1.721   noise: 0.024\n",
      "Iter 38/50 - Loss: -0.836   lengthscale: 1.759   noise: 0.021\n",
      "Iter 39/50 - Loss: -0.880   lengthscale: 1.798   noise: 0.019\n",
      "Iter 40/50 - Loss: -0.929   lengthscale: 1.837   noise: 0.017\n",
      "Iter 41/50 - Loss: -0.975   lengthscale: 1.875   noise: 0.016\n",
      "Iter 42/50 - Loss: -1.028   lengthscale: 1.910   noise: 0.014\n",
      "Iter 43/50 - Loss: -1.071   lengthscale: 1.934   noise: 0.013\n",
      "Iter 44/50 - Loss: -1.120   lengthscale: 1.954   noise: 0.011\n",
      "Iter 45/50 - Loss: -1.160   lengthscale: 1.963   noise: 0.010\n",
      "Iter 46/50 - Loss: -1.213   lengthscale: 1.964   noise: 0.009\n",
      "Iter 47/50 - Loss: -1.253   lengthscale: 1.968   noise: 0.008\n",
      "Iter 48/50 - Loss: -1.295   lengthscale: 1.968   noise: 0.008\n",
      "Iter 49/50 - Loss: -1.338   lengthscale: 1.967   noise: 0.007\n",
      "Iter 50/50 - Loss: -1.372   lengthscale: 1.980   noise: 0.006\n"
     ]
    }
   ],
   "source": [
    "import os\n",
    "smoke_test = ('CI' in os.environ)\n",
    "training_iter = 2 if smoke_test else 50\n",
    "\n",
    "\n",
    "# Find optimal model hyperparameters\n",
    "predModel.train()\n",
    "likelihoodPred.train()\n",
    "\n",
    "# Use the adam optimizer\n",
    "optimizer = torch.optim.Adam(predModel.parameters(), lr=0.1)  # Includes GaussianLikelihood parameters\n",
    "\n",
    "# \"Loss\" for GPs - the marginal log likelihood\n",
    "mll = gpytorch.mlls.ExactMarginalLogLikelihood(likelihoodPred, predModel)\n",
    "\n",
    "for i in range(training_iter):\n",
    "    # Zero gradients from previous iteration\n",
    "    optimizer.zero_grad()\n",
    "    # Output from model\n",
    "    output = predModel(torch.tensor(param_values))\n",
    "    # Calc loss and backprop gradients\n",
    "    Y2=torch.tensor(Ypred)\n",
    "    loss = -mll(output, Y2)\n",
    "    loss.backward()\n",
    "    print('Iter %d/%d - Loss: %.3f   lengthscale: %.3f   noise: %.3f' % (\n",
    "        i + 1, training_iter, loss.item(),\n",
    "        predModel.covar_module.base_kernel.lengthscale.item(),\n",
    "        predModel.likelihood.noise.item()\n",
    "    ))\n",
    "    optimizer.step()"
   ]
  },
  {
   "cell_type": "code",
   "execution_count": 19,
   "id": "d69f7732",
   "metadata": {},
   "outputs": [
    {
     "data": {
      "text/plain": [
       "ExactGPModel(\n",
       "  (likelihood): GaussianLikelihood(\n",
       "    (noise_covar): HomoskedasticNoise(\n",
       "      (raw_noise_constraint): GreaterThan(1.000E-04)\n",
       "    )\n",
       "  )\n",
       "  (mean_module): ConstantMean()\n",
       "  (covar_module): ScaleKernel(\n",
       "    (base_kernel): RBFKernel(\n",
       "      (raw_lengthscale_constraint): Positive()\n",
       "    )\n",
       "    (raw_outputscale_constraint): Positive()\n",
       "  )\n",
       ")"
      ]
     },
     "execution_count": 19,
     "metadata": {},
     "output_type": "execute_result"
    }
   ],
   "source": [
    "predModel"
   ]
  },
  {
   "cell_type": "code",
   "execution_count": 20,
   "id": "b01820f5",
   "metadata": {},
   "outputs": [
    {
     "data": {
      "text/plain": [
       "GaussianLikelihood(\n",
       "  (noise_covar): HomoskedasticNoise(\n",
       "    (raw_noise_constraint): GreaterThan(1.000E-04)\n",
       "  )\n",
       ")"
      ]
     },
     "execution_count": 20,
     "metadata": {},
     "output_type": "execute_result"
    }
   ],
   "source": [
    "# Get into evaluation (predictive posterior) mode\n",
    "predModel.eval()\n",
    "likelihoodPred.eval()"
   ]
  },
  {
   "cell_type": "code",
   "execution_count": 21,
   "id": "064947d4",
   "metadata": {},
   "outputs": [
    {
     "data": {
      "text/plain": [
       "GaussianLikelihood(\n",
       "  (noise_covar): HomoskedasticNoise(\n",
       "    (raw_noise_constraint): GreaterThan(1.000E-04)\n",
       "  )\n",
       ")"
      ]
     },
     "execution_count": 21,
     "metadata": {},
     "output_type": "execute_result"
    }
   ],
   "source": [
    "# Get into evaluation (predictive posterior) mode\n",
    "preyModel.eval()\n",
    "likelihoodPrey.eval()"
   ]
  },
  {
   "cell_type": "code",
   "execution_count": 22,
   "id": "7481612a",
   "metadata": {},
   "outputs": [
    {
     "data": {
      "text/plain": [
       "tensor([[1.0059, 2.5059, 2.7910, 2.9473],\n",
       "        [3.2285, 2.5059, 2.7910, 2.9473],\n",
       "        [1.0059, 4.3770, 2.7910, 2.9473],\n",
       "        ...,\n",
       "        [3.5215, 3.6309, 4.7246, 1.1270],\n",
       "        [3.5215, 3.6309, 1.4707, 2.4043],\n",
       "        [3.5215, 3.6309, 1.4707, 1.1270]], dtype=torch.float64)"
      ]
     },
     "execution_count": 22,
     "metadata": {},
     "output_type": "execute_result"
    }
   ],
   "source": [
    "torch.tensor(param_values)"
   ]
  },
  {
   "cell_type": "code",
   "execution_count": 23,
   "id": "d401ddc7",
   "metadata": {
    "scrolled": true
   },
   "outputs": [],
   "source": [
    "predatorPredict=predModel(torch.tensor([[0.4,1,1,1]]))\n",
    "preyPredict=preyModel(torch.tensor([[0.4,1,1,1]]))"
   ]
  },
  {
   "cell_type": "code",
   "execution_count": 24,
   "id": "45eeefb0",
   "metadata": {},
   "outputs": [
    {
     "data": {
      "text/plain": [
       "MultivariateNormal(loc: tensor([1.0063], dtype=torch.float64, grad_fn=<ViewBackward0>))"
      ]
     },
     "execution_count": 24,
     "metadata": {},
     "output_type": "execute_result"
    }
   ],
   "source": [
    "predatorPredict"
   ]
  },
  {
   "cell_type": "code",
   "execution_count": 33,
   "id": "3ea6ffd3",
   "metadata": {},
   "outputs": [
    {
     "data": {
      "text/plain": [
       "tensor([1.5103], dtype=torch.float64, grad_fn=<ViewBackward0>)"
      ]
     },
     "execution_count": 33,
     "metadata": {},
     "output_type": "execute_result"
    }
   ],
   "source": [
    "preyPredict.mean"
   ]
  },
  {
   "cell_type": "code",
   "execution_count": 26,
   "id": "55fceaa1",
   "metadata": {},
   "outputs": [
    {
     "data": {
      "text/plain": [
       "1.8470950400178707"
      ]
     },
     "execution_count": 26,
     "metadata": {},
     "output_type": "execute_result"
    }
   ],
   "source": [
    "minPrey(w,t,[0.4,1,1,1],SolveP)"
   ]
  },
  {
   "cell_type": "code",
   "execution_count": 27,
   "id": "f71f6ca2",
   "metadata": {},
   "outputs": [
    {
     "data": {
      "text/plain": [
       "0.9999959243121708"
      ]
     },
     "execution_count": 27,
     "metadata": {},
     "output_type": "execute_result"
    }
   ],
   "source": [
    "minPred(w,t,[0.4,1,1,1],SolveP)"
   ]
  },
  {
   "cell_type": "code",
   "execution_count": 28,
   "id": "14b5522a",
   "metadata": {},
   "outputs": [
    {
     "data": {
      "text/plain": [
       "torch.return_types.sort(\n",
       "values=tensor([16.0690, 15.8632, 14.8956,  ...,  0.9999,  0.9998,  0.9998],\n",
       "       dtype=torch.float64),\n",
       "indices=tensor([8368, 8369, 8367,  ..., 5654, 3050, 5644]))"
      ]
     },
     "execution_count": 28,
     "metadata": {},
     "output_type": "execute_result"
    }
   ],
   "source": [
    "torch.sort(torch.tensor(Ypred),descending=True)"
   ]
  },
  {
   "cell_type": "code",
   "execution_count": 29,
   "id": "1e868b5f",
   "metadata": {},
   "outputs": [
    {
     "data": {
      "text/plain": [
       "2.453057397768609"
      ]
     },
     "execution_count": 29,
     "metadata": {},
     "output_type": "execute_result"
    }
   ],
   "source": [
    "np.mean(Ypred)"
   ]
  },
  {
   "cell_type": "code",
   "execution_count": null,
   "id": "137291ae",
   "metadata": {},
   "outputs": [
    {
     "name": "stderr",
     "output_type": "stream",
     "text": [
      "C:\\Users\\chris\\AppData\\Local\\Temp\\ipykernel_27660\\1411377823.py:17: DeprecationWarning: `salib.sample.saltelli` will be removed in SALib 1.5. Please use `salib.sample.sobol`\n",
      "  param_values = saltelli.sample(problem, 1024)\n",
      "C:\\Users\\chris\\AppData\\Local\\Temp\\ipykernel_27660\\1411377823.py:23: UserWarning: Creating a tensor from a list of numpy.ndarrays is extremely slow. Please consider converting the list to a single numpy.ndarray with numpy.array() before converting to a tensor. (Triggered internally at C:\\actions-runner\\_work\\pytorch\\pytorch\\builder\\windows\\pytorch\\torch\\csrc\\utils\\tensor_new.cpp:248.)\n",
      "  Yprey[i] = preyModel(torch.tensor([p1])).mean\n"
     ]
    }
   ],
   "source": [
    "from SALib.sample import saltelli\n",
    "from SALib.analyze import sobol\n",
    "from SALib.test_functions import Ishigami\n",
    "import numpy as np\n",
    "\n",
    "# Define the model inputs\n",
    "problem = {\n",
    "    'num_vars': 4,\n",
    "    'names': ['alpha', 'beta', 'delta', 'gamma'],\n",
    "    'bounds': [[1, 5],\n",
    "               [1, 5],\n",
    "               [1, 5],\n",
    "               [1, 5]]\n",
    "}\n",
    "\n",
    "# Generate samples\n",
    "param_values = saltelli.sample(problem, 1024)\n",
    "\n",
    "Yprey = np.zeros([param_values.shape[0]])\n",
    "Ypred = np.zeros([param_values.shape[0]])\n",
    "# Run model (example)\n",
    "for i,p1 in enumerate(param_values):\n",
    "    p1=numpy.array(p1)\n",
    "    Yprey[i] = preyModel(torch.tensor([p1])).mean\n",
    "    Ypred[i] = predModel(torch.tensor([p1])).mean\n",
    "    # Perform analysis"
   ]
  },
  {
   "cell_type": "code",
   "execution_count": null,
   "id": "f94f1395",
   "metadata": {},
   "outputs": [],
   "source": []
  },
  {
   "cell_type": "code",
   "execution_count": null,
   "id": "6d31204f",
   "metadata": {},
   "outputs": [],
   "source": []
  }
 ],
 "metadata": {
  "kernelspec": {
   "display_name": "Python 3 (ipykernel)",
   "language": "python",
   "name": "python3"
  },
  "language_info": {
   "codemirror_mode": {
    "name": "ipython",
    "version": 3
   },
   "file_extension": ".py",
   "mimetype": "text/x-python",
   "name": "python",
   "nbconvert_exporter": "python",
   "pygments_lexer": "ipython3",
   "version": "3.8.8"
  }
 },
 "nbformat": 4,
 "nbformat_minor": 5
}
