{
 "cells": [
  {
   "cell_type": "code",
   "execution_count": 1,
   "id": "5ba866e8",
   "metadata": {},
   "outputs": [],
   "source": [
    "import math\n",
    "import torch\n",
    "import gpytorch\n",
    "import pandas as pd\n",
    "import numpy as np\n",
    "from matplotlib import pyplot as plt\n",
    "\n",
    "\n",
    "import GPE_ensemble as GPE\n",
    "\n",
    "import os\n",
    "from sklearn.linear_model import LinearRegression\n",
    "from sklearn.metrics import mean_squared_error, r2_score\n",
    "from sklearn.model_selection import train_test_split\n",
    "#from GPErks.gp.data.dataset import Dataset\n",
    "from gpytorch.likelihoods import GaussianLikelihood\n",
    "from gpytorch.means import LinearMean\n",
    "from gpytorch.kernels import RBFKernel, ScaleKernel\n",
    "from torchmetrics import MeanSquaredError, R2Score\n",
    "#from GPErks.gp.experiment import GPExperiment\n",
    "#from GPErks.train.emulator import GPEmulator\n",
    "#from GPErks.perks.inference import Inference\n",
    "#from GPErks.train.early_stop import NoEarlyStoppingCriterion\n",
    "#from GPErks.train.early_stop import (\n",
    "#    GLEarlyStoppingCriterion,\n",
    "#    PQEarlyStoppingCriterion,\n",
    "#    UPEarlyStoppingCriterion,\n",
    "#)\n",
    "#from GPErks.train.early_stop import PkEarlyStoppingCriterion\n",
    "\n",
    "\n",
    "\n",
    "%matplotlib inline\n",
    "%load_ext autoreload\n",
    "%autoreload 2\n",
    "\n",
    "# set logger and enforce reproducibility\n",
    "#from GPErks.log.logger import get_logger\n",
    "#from GPErks.utils.random import set_seed\n",
    "#log = get_logger()\n",
    "seed = 7\n",
    "#set_seed(seed)"
   ]
  },
  {
   "cell_type": "code",
   "execution_count": 2,
   "id": "7c20f924",
   "metadata": {},
   "outputs": [],
   "source": [
    "mesh=13\n",
    "y_val = torch.tensor([134,80])"
   ]
  },
  {
   "cell_type": "code",
   "execution_count": 3,
   "id": "b81ecd1f",
   "metadata": {},
   "outputs": [
    {
     "name": "stdout",
     "output_type": "stream",
     "text": [
      "     CV_ventricles  k_ventricles    k_FEC  CV_atria   k_atria     k_BB\n",
      "0         0.738144      0.276378  5.71074  0.337617  0.253067  3.34120\n",
      "1         0.699821      0.289857  8.23437  0.899943  0.244791  3.36932\n",
      "2         0.419685      0.310723  1.32123  1.023790  0.208773  3.22631\n",
      "3         0.780850      0.326027  4.83990  0.621390  0.201804  3.25724\n",
      "4         0.794527      0.395183  5.83261  0.971377  0.346727  5.50506\n",
      "..             ...           ...      ...       ...       ...      ...\n",
      "995       0.639511      0.285979  6.68166  0.353444  0.207574  1.25594\n",
      "996       0.487964      0.201533  2.99732  0.441108  0.371365  4.35580\n",
      "997       0.506433      0.380463  6.07463  0.967278  0.359592  1.50839\n",
      "998       0.686527      0.255578  2.70725  0.322308  0.303793  1.98914\n",
      "999       0.745125      0.288781  6.70721  0.585251  0.369692  1.75873\n",
      "\n",
      "[1000 rows x 6 columns]\n"
     ]
    }
   ],
   "source": [
    "x_labels=pd.read_csv(r'/Users/pmzcwl/Library/CloudStorage/OneDrive-TheUniversityofNottingham/shared_simulations/EP/scenario_13/xlabels.txt',delim_whitespace=True,header=None)\n",
    "\n",
    "\n",
    "X_all = pd.read_csv(r'/Users/pmzcwl/Library/CloudStorage/OneDrive-TheUniversityofNottingham/shared_simulations/EP/scenario_'+str(mesh)+'/X.txt',index_col=None,delim_whitespace=True,header=None)\n",
    "X_all.columns=x_labels.values.squeeze().tolist()\n",
    "print(X_all)"
   ]
  },
  {
   "cell_type": "code",
   "execution_count": 4,
   "id": "121230ab",
   "metadata": {},
   "outputs": [
    {
     "name": "stdout",
     "output_type": "stream",
     "text": [
      "        A_TAT     V_TAT\n",
      "0    315.4700   97.6231\n",
      "1    119.7940  100.6130\n",
      "2    112.3490  183.1760\n",
      "3    187.0580   86.8046\n",
      "4     90.6858   78.7504\n",
      "..        ...       ...\n",
      "175   90.0410   92.6852\n",
      "176  147.1390   99.3163\n",
      "177  143.7290  119.9870\n",
      "178  144.0190  111.9080\n",
      "179  166.9070  193.3910\n",
      "\n",
      "[180 rows x 2 columns]\n"
     ]
    }
   ],
   "source": [
    "y_labels=pd.read_csv(r'/Users/pmzcwl/Library/CloudStorage/OneDrive-TheUniversityofNottingham/shared_simulations/EP/scenario_13/ylabels.txt',delim_whitespace=True,header=None)\n",
    "\n",
    "\n",
    "y_all = pd.read_csv(r'/Users/pmzcwl/Library/CloudStorage/OneDrive-TheUniversityofNottingham/shared_simulations/EP/scenario_'+str(mesh)+'/Y.txt',index_col=None,delim_whitespace=True,header=None)\n",
    "y_all.columns=y_labels.values.squeeze().tolist()\n",
    "print(y_all)"
   ]
  },
  {
   "cell_type": "markdown",
   "id": "f1349dc8",
   "metadata": {},
   "source": [
    "# Emulator"
   ]
  },
  {
   "cell_type": "code",
   "execution_count": 5,
   "id": "12ed0178",
   "metadata": {},
   "outputs": [
    {
     "data": {
      "text/plain": [
       "A_TAT    385.727\n",
       "V_TAT    205.297\n",
       "dtype: float64"
      ]
     },
     "execution_count": 5,
     "metadata": {},
     "output_type": "execute_result"
    }
   ],
   "source": [
    "y_all.max()"
   ]
  },
  {
   "cell_type": "code",
   "execution_count": 6,
   "id": "110b9938",
   "metadata": {},
   "outputs": [],
   "source": [
    "input_masked = X_all.copy()"
   ]
  },
  {
   "cell_type": "code",
   "execution_count": 7,
   "id": "7226a5aa",
   "metadata": {},
   "outputs": [
    {
     "data": {
      "text/html": [
       "<div>\n",
       "<style scoped>\n",
       "    .dataframe tbody tr th:only-of-type {\n",
       "        vertical-align: middle;\n",
       "    }\n",
       "\n",
       "    .dataframe tbody tr th {\n",
       "        vertical-align: top;\n",
       "    }\n",
       "\n",
       "    .dataframe thead th {\n",
       "        text-align: right;\n",
       "    }\n",
       "</style>\n",
       "<table border=\"1\" class=\"dataframe\">\n",
       "  <thead>\n",
       "    <tr style=\"text-align: right;\">\n",
       "      <th></th>\n",
       "      <th>A_TAT</th>\n",
       "      <th>V_TAT</th>\n",
       "    </tr>\n",
       "  </thead>\n",
       "  <tbody>\n",
       "    <tr>\n",
       "      <th>0</th>\n",
       "      <td>315.4700</td>\n",
       "      <td>97.6231</td>\n",
       "    </tr>\n",
       "    <tr>\n",
       "      <th>1</th>\n",
       "      <td>119.7940</td>\n",
       "      <td>100.6130</td>\n",
       "    </tr>\n",
       "    <tr>\n",
       "      <th>2</th>\n",
       "      <td>112.3490</td>\n",
       "      <td>183.1760</td>\n",
       "    </tr>\n",
       "    <tr>\n",
       "      <th>3</th>\n",
       "      <td>187.0580</td>\n",
       "      <td>86.8046</td>\n",
       "    </tr>\n",
       "    <tr>\n",
       "      <th>4</th>\n",
       "      <td>90.6858</td>\n",
       "      <td>78.7504</td>\n",
       "    </tr>\n",
       "    <tr>\n",
       "      <th>...</th>\n",
       "      <td>...</td>\n",
       "      <td>...</td>\n",
       "    </tr>\n",
       "    <tr>\n",
       "      <th>175</th>\n",
       "      <td>90.0410</td>\n",
       "      <td>92.6852</td>\n",
       "    </tr>\n",
       "    <tr>\n",
       "      <th>176</th>\n",
       "      <td>147.1390</td>\n",
       "      <td>99.3163</td>\n",
       "    </tr>\n",
       "    <tr>\n",
       "      <th>177</th>\n",
       "      <td>143.7290</td>\n",
       "      <td>119.9870</td>\n",
       "    </tr>\n",
       "    <tr>\n",
       "      <th>178</th>\n",
       "      <td>144.0190</td>\n",
       "      <td>111.9080</td>\n",
       "    </tr>\n",
       "    <tr>\n",
       "      <th>179</th>\n",
       "      <td>166.9070</td>\n",
       "      <td>193.3910</td>\n",
       "    </tr>\n",
       "  </tbody>\n",
       "</table>\n",
       "<p>180 rows × 2 columns</p>\n",
       "</div>"
      ],
      "text/plain": [
       "        A_TAT     V_TAT\n",
       "0    315.4700   97.6231\n",
       "1    119.7940  100.6130\n",
       "2    112.3490  183.1760\n",
       "3    187.0580   86.8046\n",
       "4     90.6858   78.7504\n",
       "..        ...       ...\n",
       "175   90.0410   92.6852\n",
       "176  147.1390   99.3163\n",
       "177  143.7290  119.9870\n",
       "178  144.0190  111.9080\n",
       "179  166.9070  193.3910\n",
       "\n",
       "[180 rows x 2 columns]"
      ]
     },
     "execution_count": 7,
     "metadata": {},
     "output_type": "execute_result"
    }
   ],
   "source": [
    "y_all"
   ]
  },
  {
   "cell_type": "code",
   "execution_count": 8,
   "id": "50a91180",
   "metadata": {},
   "outputs": [],
   "source": [
    "y_train = torch.tensor(y_all.values)\n",
    "x_train = torch.tensor(X_all[0:y_all.shape[0]].values)"
   ]
  },
  {
   "cell_type": "code",
   "execution_count": 9,
   "id": "94627afb",
   "metadata": {},
   "outputs": [
    {
     "data": {
      "text/plain": [
       "[<matplotlib.lines.Line2D at 0x28a2d9d10>]"
      ]
     },
     "execution_count": 9,
     "metadata": {},
     "output_type": "execute_result"
    },
    {
     "data": {
      "image/png": "[encoded data removed]",
      "text/plain": [
       "<Figure size 640x480 with 1 Axes>"
      ]
     },
     "metadata": {},
     "output_type": "display_data"
    }
   ],
   "source": [
    "plt.plot(x_train[:,0],y_train[:,1],'o')"
   ]
  },
  {
   "cell_type": "code",
   "execution_count": 10,
   "id": "5b7a1c9d",
   "metadata": {},
   "outputs": [
    {
     "data": {
      "text/plain": [
       "tensor([[315.4700,  97.6231],\n",
       "        [119.7940, 100.6130],\n",
       "        [112.3490, 183.1760],\n",
       "        [187.0580,  86.8046],\n",
       "        [ 90.6858,  78.7504],\n",
       "        [128.7110,  81.3305],\n",
       "        [ 91.2266, 107.0270],\n",
       "        [217.1570, 133.9420],\n",
       "        [345.6780,  95.6268],\n",
       "        [190.3400, 169.0470],\n",
       "        [100.9040, 159.6070],\n",
       "        [187.5820, 130.6680],\n",
       "        [209.2220,  99.9675],\n",
       "        [132.5320, 130.0060],\n",
       "        [134.7740, 116.3020],\n",
       "        [129.1430, 113.0810],\n",
       "        [219.8920, 105.3620],\n",
       "        [179.1050,  81.1545],\n",
       "        [129.2600, 158.2780],\n",
       "        [183.3650, 163.8170],\n",
       "        [146.7630, 132.7050],\n",
       "        [129.4070, 145.1490],\n",
       "        [ 89.8129, 131.0260],\n",
       "        [101.7090,  88.5885],\n",
       "        [160.7560, 121.6790],\n",
       "        [196.4600, 119.5220],\n",
       "        [130.9080, 146.3930],\n",
       "        [205.4800, 142.0810],\n",
       "        [ 97.6107, 102.5550],\n",
       "        [125.8490,  96.9932],\n",
       "        [106.0140, 104.9890],\n",
       "        [157.0580, 102.1780],\n",
       "        [ 97.3853, 141.1870],\n",
       "        [134.4130, 102.4140],\n",
       "        [234.7070, 192.8460],\n",
       "        [117.9900, 155.9110],\n",
       "        [135.6900,  89.4749],\n",
       "        [ 83.3867, 126.8880],\n",
       "        [102.5330, 119.3340],\n",
       "        [131.3610, 148.0810],\n",
       "        [117.7870, 132.0030],\n",
       "        [128.1440,  82.6567],\n",
       "        [185.5910,  95.1228],\n",
       "        [146.3360, 113.8770],\n",
       "        [ 98.6655, 100.6390],\n",
       "        [335.6920,  95.3862],\n",
       "        [ 99.6424, 115.4680],\n",
       "        [277.5310, 105.6020],\n",
       "        [320.6760,  78.4278],\n",
       "        [163.1030,  97.8411],\n",
       "        [137.1850,  98.2991],\n",
       "        [141.9570, 205.2970],\n",
       "        [235.8360, 141.4580],\n",
       "        [167.6850,  79.5100],\n",
       "        [123.4940, 156.5620],\n",
       "        [ 95.6235,  82.5976],\n",
       "        [114.3440,  97.8298],\n",
       "        [291.6980, 117.6560],\n",
       "        [161.6740,  90.7686],\n",
       "        [160.0190, 196.2420],\n",
       "        [108.0730, 113.2260],\n",
       "        [264.7140, 135.8220],\n",
       "        [155.5860, 150.9630],\n",
       "        [ 93.1726,  95.1772],\n",
       "        [ 94.9934,  92.8069],\n",
       "        [235.7270, 116.0570],\n",
       "        [ 92.3475, 101.7120],\n",
       "        [153.8400,  97.6651],\n",
       "        [128.7110, 100.7160],\n",
       "        [119.2330, 141.0800],\n",
       "        [132.5520, 127.2600],\n",
       "        [139.5760,  79.2755],\n",
       "        [299.4070, 136.7310],\n",
       "        [257.2680, 107.6230],\n",
       "        [207.5470, 113.5530],\n",
       "        [121.3990,  85.5811],\n",
       "        [128.5790, 139.6570],\n",
       "        [290.8620, 125.8180],\n",
       "        [ 86.1079,  85.2225],\n",
       "        [101.2290, 132.5430],\n",
       "        [169.0400,  90.9736],\n",
       "        [123.7940,  89.1346],\n",
       "        [207.6970, 131.8680],\n",
       "        [131.0170, 156.1430],\n",
       "        [114.7320, 150.5050],\n",
       "        [110.9740, 186.1230],\n",
       "        [162.0600, 105.6020],\n",
       "        [204.3190, 125.5480],\n",
       "        [178.8050, 141.3970],\n",
       "        [123.8760, 133.2110],\n",
       "        [114.6660, 139.9330],\n",
       "        [ 97.1949, 198.9670],\n",
       "        [169.8140,  86.9293],\n",
       "        [156.6150, 100.0020],\n",
       "        [132.4020, 120.7400],\n",
       "        [201.4800,  87.0837],\n",
       "        [237.7810, 116.6840],\n",
       "        [123.3300, 118.8840],\n",
       "        [135.7620,  92.7000],\n",
       "        [126.1010, 158.1400],\n",
       "        [129.7560, 143.1020],\n",
       "        [277.5850, 121.5010],\n",
       "        [ 91.6688,  99.2449],\n",
       "        [117.7990, 176.4090],\n",
       "        [385.7270, 119.1360],\n",
       "        [255.0240, 112.7710],\n",
       "        [226.0910,  88.9218],\n",
       "        [115.0570, 180.4700],\n",
       "        [169.9100, 152.7240],\n",
       "        [132.5090,  94.3995],\n",
       "        [131.6500, 173.5350],\n",
       "        [103.5040,  90.2524],\n",
       "        [100.2010,  99.7473],\n",
       "        [111.3510, 113.8370],\n",
       "        [137.7360, 168.4810],\n",
       "        [313.7870, 110.4690],\n",
       "        [172.5900, 112.5810],\n",
       "        [143.6340, 112.7650],\n",
       "        [164.6120,  77.0339],\n",
       "        [164.5380, 106.2760],\n",
       "        [148.4890,  92.7196],\n",
       "        [110.1060, 186.0080],\n",
       "        [220.9420, 153.7550],\n",
       "        [106.8320,  87.6156],\n",
       "        [152.8070,  87.1550],\n",
       "        [208.4040,  77.5018],\n",
       "        [118.5760, 147.6350],\n",
       "        [ 95.9836, 142.3110],\n",
       "        [223.5880, 174.4470],\n",
       "        [190.8130, 129.7600],\n",
       "        [166.5990, 103.9030],\n",
       "        [225.7220,  93.6639],\n",
       "        [120.6130,  90.6836],\n",
       "        [209.7420, 100.2400],\n",
       "        [133.1860,  89.5017],\n",
       "        [183.4930,  95.4460],\n",
       "        [ 87.1845,  92.8317],\n",
       "        [ 88.5874, 155.0580],\n",
       "        [150.4170, 130.5800],\n",
       "        [192.6790, 115.6450],\n",
       "        [123.7230, 152.0710],\n",
       "        [177.8260, 138.8530],\n",
       "        [229.0250, 105.1150],\n",
       "        [107.9040,  78.6730],\n",
       "        [183.8650,  86.3479],\n",
       "        [176.1380,  76.4930],\n",
       "        [ 93.0935, 116.7500],\n",
       "        [105.2360, 110.5380],\n",
       "        [156.8000, 103.4550],\n",
       "        [ 94.4447,  98.5315],\n",
       "        [220.3290, 108.9910],\n",
       "        [195.4860, 103.5960],\n",
       "        [150.6260, 123.3320],\n",
       "        [ 95.6898, 148.8110],\n",
       "        [ 92.9161, 141.1500],\n",
       "        [185.2950, 118.9100],\n",
       "        [183.2600, 191.9540],\n",
       "        [121.2890, 174.6150],\n",
       "        [118.1490,  92.7103],\n",
       "        [236.2500, 124.0280],\n",
       "        [123.2090, 108.0300],\n",
       "        [120.9670, 120.2700],\n",
       "        [170.8850,  96.6028],\n",
       "        [197.6980,  87.1352],\n",
       "        [124.7980,  90.9296],\n",
       "        [148.8040,  77.1404],\n",
       "        [303.6310, 131.1830],\n",
       "        [154.0450, 158.0590],\n",
       "        [155.3000, 145.4660],\n",
       "        [104.6470,  75.1770],\n",
       "        [135.4300, 148.7780],\n",
       "        [142.5950, 117.1380],\n",
       "        [118.1910,  92.3253],\n",
       "        [223.3810,  88.7114],\n",
       "        [272.0020, 114.0840],\n",
       "        [ 90.0410,  92.6852],\n",
       "        [147.1390,  99.3163],\n",
       "        [143.7290, 119.9870],\n",
       "        [144.0190, 111.9080],\n",
       "        [166.9070, 193.3910]], dtype=torch.float64)"
      ]
     },
     "execution_count": 10,
     "metadata": {},
     "output_type": "execute_result"
    }
   ],
   "source": [
    "y_train"
   ]
  },
  {
   "cell_type": "code",
   "execution_count": 11,
   "id": "b1e17ce0",
   "metadata": {},
   "outputs": [
    {
     "data": {
      "text/plain": [
       "torch.Size([180, 6])"
      ]
     },
     "execution_count": 11,
     "metadata": {},
     "output_type": "execute_result"
    }
   ],
   "source": [
    "x_train.shape"
   ]
  },
  {
   "cell_type": "code",
   "execution_count": 12,
   "id": "670120df",
   "metadata": {},
   "outputs": [
    {
     "name": "stdout",
     "output_type": "stream",
     "text": [
      "0\n",
      "1\n"
     ]
    }
   ],
   "source": [
    "emulator = GPE.ensemble(x_train,y_train,mean_func=\"linear\",training_iter=500)"
   ]
  },
  {
   "cell_type": "code",
   "execution_count": 13,
   "id": "0a066022",
   "metadata": {},
   "outputs": [
    {
     "name": "stdout",
     "output_type": "stream",
     "text": [
      "[0.380083, 0.799735]\n",
      "[0.200153, 0.499872]\n",
      "[1.20065, 8.39871]\n",
      "[0.300266, 1.02989]\n",
      "[0.200007, 0.49989]\n",
      "[1.00205, 5.69927]\n"
     ]
    }
   ],
   "source": [
    "nDim = input_masked.shape[1]\n",
    "boundsMaxMin = []\n",
    "for i in range(nDim):\n",
    "    boundsMaxMin.append([np.min(input_masked.iloc[:,i]),np.max(input_masked.iloc[:,i])])\n",
    "    print(boundsMaxMin[i])"
   ]
  },
  {
   "cell_type": "code",
   "execution_count": 14,
   "id": "5b05f92a",
   "metadata": {},
   "outputs": [
    {
     "name": "stderr",
     "output_type": "stream",
     "text": [
      "/var/folders/_j/ptyc01811q5b1dg30hshtfzh0000gr/T/ipykernel_71129/2553582652.py:24: DeprecationWarning: `salib.sample.saltelli` will be removed in SALib 1.5. Please use `salib.sample.sobol`\n",
      "  param_values = saltelli.sample(problem, 1024)\n"
     ]
    }
   ],
   "source": [
    "##### from SALib.sample import saltelli\n",
    "from SALib.sample import saltelli\n",
    "from SALib.analyze import sobol\n",
    "from SALib.test_functions import Ishigami\n",
    "import numpy as np\n",
    "\n",
    "# Define the model inputs\n",
    "problem = {\n",
    "    'num_vars': nDim,\n",
    "    'names': x_labels,\n",
    "    'bounds': boundsMaxMin\n",
    "    #'bounds': [[-1, 1],\n",
    "     #          [-1, 1],\n",
    "      #         [-1, 1],\n",
    "       #        [-1, 1],\n",
    "        #       [-1, 1],\n",
    "         #      [-1, 1],\n",
    "          #     [-1, 1],\n",
    "           #    [-1, 1],\n",
    "            #   [-1,1]]\n",
    "}\n",
    "\n",
    "# Generate samples\n",
    "param_values = saltelli.sample(problem, 1024)\n",
    "\n",
    "data1 = torch.tensor(param_values)\n",
    "#data1.columns = X_train.columns\n",
    "\n",
    "Ymean=emulator.predict(data1)"
   ]
  },
  {
   "cell_type": "code",
   "execution_count": 15,
   "id": "280aaa98",
   "metadata": {},
   "outputs": [
    {
     "data": {
      "text/plain": [
       "torch.Size([14336, 6])"
      ]
     },
     "execution_count": 15,
     "metadata": {},
     "output_type": "execute_result"
    }
   ],
   "source": [
    "data1.shape"
   ]
  },
  {
   "cell_type": "code",
   "execution_count": 16,
   "id": "79378723",
   "metadata": {},
   "outputs": [
    {
     "name": "stdout",
     "output_type": "stream",
     "text": [
      "                        ST   ST_conf\n",
      "(CV_ventricles,)  0.000008  0.000001\n",
      "(k_ventricles,)   0.000017  0.000003\n",
      "(k_FEC,)          0.000018  0.000003\n",
      "(CV_atria,)       0.893273  0.066922\n",
      "(k_atria,)        0.074346  0.007504\n",
      "(k_BB,)           0.050499  0.005878\n",
      "                        S1   S1_conf\n",
      "(CV_ventricles,) -0.000039  0.000254\n",
      "(k_ventricles,)   0.000008  0.000358\n",
      "(k_FEC,)          0.000039  0.000349\n",
      "(CV_atria,)       0.874924  0.085709\n",
      "(k_atria,)        0.065757  0.024856\n",
      "(k_BB,)           0.046660  0.020448\n",
      "Empty DataFrame\n",
      "Columns: [S2, S2_conf]\n",
      "Index: []\n",
      "                        ST   ST_conf\n",
      "(CV_ventricles,)  0.816200  0.070908\n",
      "(k_ventricles,)   0.178661  0.014286\n",
      "(k_FEC,)          0.012307  0.002367\n",
      "(CV_atria,)       0.000020  0.000003\n",
      "(k_atria,)        0.000064  0.000011\n",
      "(k_BB,)           0.000072  0.000018\n",
      "                        S1   S1_conf\n",
      "(CV_ventricles,)  0.809226  0.070842\n",
      "(k_ventricles,)   0.171506  0.034837\n",
      "(k_FEC,)          0.009499  0.009834\n",
      "(CV_atria,)      -0.000020  0.000370\n",
      "(k_atria,)       -0.000007  0.000693\n",
      "(k_BB,)          -0.000088  0.000754\n",
      "Empty DataFrame\n",
      "Columns: [S2, S2_conf]\n",
      "Index: []\n"
     ]
    }
   ],
   "source": [
    "Si = []\n",
    "nMod = y_all.shape[1]\n",
    "nDim = input_masked.shape[1]\n",
    "for i in range(nMod):\n",
    "    Si.append(sobol.analyze(problem, Ymean[:,i].detach().numpy(), print_to_console=True,calc_second_order=True))"
   ]
  },
  {
   "cell_type": "code",
   "execution_count": 17,
   "id": "be973aac",
   "metadata": {},
   "outputs": [],
   "source": [
    "Si_first=np.zeros((nDim,nMod))\n",
    "Si_total=np.zeros((nDim,nMod))\n",
    "for i in range(nMod):\n",
    "    total_Si, first_Si, second_Si = Si[i].to_df()\n",
    "    Si_first[:,i] =  first_Si.iloc[:,0]\n",
    "    Si_total[:,i] =  total_Si.iloc[:,0]\n"
   ]
  },
  {
   "cell_type": "code",
   "execution_count": 18,
   "id": "dce4441b",
   "metadata": {},
   "outputs": [
    {
     "data": {
      "text/plain": [
       "['CV_ventricles', 'k_ventricles', 'k_FEC', 'CV_atria', 'k_atria', 'k_BB']"
      ]
     },
     "execution_count": 18,
     "metadata": {},
     "output_type": "execute_result"
    }
   ],
   "source": [
    "x_labels.values.squeeze().tolist()"
   ]
  },
  {
   "cell_type": "code",
   "execution_count": 19,
   "id": "e263f1fa",
   "metadata": {},
   "outputs": [
    {
     "data": {
      "text/plain": [
       "['A_TAT', 'V_TAT']"
      ]
     },
     "execution_count": 19,
     "metadata": {},
     "output_type": "execute_result"
    }
   ],
   "source": [
    "y_all.columns.tolist()"
   ]
  },
  {
   "cell_type": "code",
   "execution_count": 20,
   "id": "47ad6507",
   "metadata": {},
   "outputs": [
    {
     "data": {
      "text/plain": [
       "['PCa_b',\n",
       " 'Tref',\n",
       " 'perm50',\n",
       " 'CV_ventricles',\n",
       " 'a_ventricles',\n",
       " 'EDP_lv',\n",
       " 'EDP_rv',\n",
       " 'Rsys',\n",
       " 'Rpulm']"
      ]
     },
     "execution_count": 20,
     "metadata": {},
     "output_type": "execute_result"
    }
   ],
   "source": [
    "['PCa_b',\n",
    " 'Tref',\n",
    " 'perm50',\n",
    " 'CV_ventricles',\n",
    " 'a_ventricles',\n",
    " 'EDP_lv',\n",
    " 'EDP_rv',\n",
    " 'Rsys',\n",
    " 'Rpulm']"
   ]
  },
  {
   "cell_type": "code",
   "execution_count": 21,
   "id": "b6b05bcd",
   "metadata": {},
   "outputs": [
    {
     "data": {
      "text/plain": [
       "<matplotlib.colorbar.Colorbar at 0x29dc50350>"
      ]
     },
     "execution_count": 21,
     "metadata": {},
     "output_type": "execute_result"
    },
    {
     "data": {
      "image/png": "[encoded data removed]",
      "text/plain": [
       "<Figure size 640x480 with 2 Axes>"
      ]
     },
     "metadata": {},
     "output_type": "display_data"
    }
   ],
   "source": [
    "inputs = X_all.columns.tolist()\n",
    "outputs = y_all.columns.tolist()\n",
    "fig, ax = plt.subplots()\n",
    "im = ax.imshow(Si_first[0:28],cmap='magma_r',vmin=0,vmax=1)\n",
    "\n",
    "ax.set_xticks(np.arange(len(outputs)),labels=outputs)\n",
    "ax.set_yticks(np.arange(len(inputs)), labels=inputs)\n",
    "plt.setp(ax.get_xticklabels(), rotation=60, ha=\"right\",\n",
    "         rotation_mode=\"anchor\");\n",
    "\n",
    "plt.colorbar(im,fraction=0.015, pad=0.04)"
   ]
  },
  {
   "cell_type": "code",
   "execution_count": 22,
   "id": "1bae98e0",
   "metadata": {
    "scrolled": true
   },
   "outputs": [
    {
     "data": {
      "text/plain": [
       "<matplotlib.colorbar.Colorbar at 0x2960c7610>"
      ]
     },
     "execution_count": 22,
     "metadata": {},
     "output_type": "execute_result"
    },
    {
     "data": {
      "image/png": "[encoded data removed]",
      "text/plain": [
       "<Figure size 640x480 with 2 Axes>"
      ]
     },
     "metadata": {},
     "output_type": "display_data"
    }
   ],
   "source": [
    "inputs = X_all.columns.tolist()\n",
    "outputs = y_all.columns.tolist()\n",
    "fig, ax = plt.subplots()\n",
    "im = ax.imshow(Si_total.T[0:28],cmap='magma_r',vmin=0,vmax=1)\n",
    "\n",
    "ax.set_yticks(np.arange(len(outputs)),labels=outputs)\n",
    "ax.set_xticks(np.arange(len(inputs)), labels=inputs)\n",
    "plt.setp(ax.get_xticklabels(), rotation=65, ha=\"right\",\n",
    "         rotation_mode=\"anchor\");\n",
    "\n",
    "plt.colorbar(im,fraction=0.015, pad=0.04)"
   ]
  },
  {
   "cell_type": "code",
   "execution_count": 23,
   "id": "5afdf48b",
   "metadata": {},
   "outputs": [],
   "source": [
    "centre = (np.array(boundsMaxMin)[:,1]+np.array(boundsMaxMin)[:,0])/2"
   ]
  },
  {
   "cell_type": "code",
   "execution_count": 24,
   "id": "5b908d88",
   "metadata": {},
   "outputs": [
    {
     "data": {
      "text/plain": [
       "[[0.380083, 0.799735],\n",
       " [0.200153, 0.499872],\n",
       " [1.20065, 8.39871],\n",
       " [0.300266, 1.02989],\n",
       " [0.200007, 0.49989],\n",
       " [1.00205, 5.69927]]"
      ]
     },
     "execution_count": 24,
     "metadata": {},
     "output_type": "execute_result"
    }
   ],
   "source": [
    "boundsMaxMin"
   ]
  },
  {
   "cell_type": "code",
   "execution_count": 25,
   "id": "31e375dd",
   "metadata": {},
   "outputs": [
    {
     "data": {
      "text/plain": [
       "array([0.3500125, 4.79968  , 0.3499485, 3.35066  ])"
      ]
     },
     "execution_count": 25,
     "metadata": {},
     "output_type": "execute_result"
    }
   ],
   "source": [
    "centre[[1,2,4,5,]]"
   ]
  },
  {
   "cell_type": "code",
   "execution_count": 26,
   "id": "c90429b3",
   "metadata": {},
   "outputs": [],
   "source": [
    "boundsMaxMin=np.array(boundsMaxMin)"
   ]
  },
  {
   "cell_type": "code",
   "execution_count": 27,
   "id": "d203c5ae",
   "metadata": {},
   "outputs": [],
   "source": [
    "down=centre[[1,2,4,5,]]-centre[[1,2,4,5,]]*0.05\n",
    "up=centre[[1,2,4,5,]]+centre[[1,2,4,5,]]*0.05"
   ]
  },
  {
   "cell_type": "code",
   "execution_count": 28,
   "id": "c0e3bcd4",
   "metadata": {},
   "outputs": [],
   "source": [
    "boundsMaxMin[[1,2,4,5,],0]=down"
   ]
  },
  {
   "cell_type": "code",
   "execution_count": 29,
   "id": "3c7c28b5",
   "metadata": {},
   "outputs": [],
   "source": [
    "boundsMaxMin[[1,2,4,5,],1]=up"
   ]
  },
  {
   "cell_type": "code",
   "execution_count": 30,
   "id": "8c48cbf9",
   "metadata": {},
   "outputs": [
    {
     "data": {
      "text/plain": [
       "array([[0.380083  , 0.799735  ],\n",
       "       [0.33251188, 0.36751312],\n",
       "       [4.559696  , 5.039664  ],\n",
       "       [0.300266  , 1.02989   ],\n",
       "       [0.33245107, 0.36744593],\n",
       "       [3.183127  , 3.518193  ]])"
      ]
     },
     "execution_count": 30,
     "metadata": {},
     "output_type": "execute_result"
    }
   ],
   "source": [
    "boundsMaxMin"
   ]
  },
  {
   "cell_type": "code",
   "execution_count": 31,
   "id": "54c82c47",
   "metadata": {},
   "outputs": [],
   "source": [
    "def log_prior(theta):\n",
    "    \n",
    "    #if (np.array(boundsMaxMin)[:,0]<theta).all() and (theta<np.array(boundsMaxMin)[:,1]).all():\n",
    "        \n",
    "    if (np.array(boundsMaxMin)[:,0]<theta).all() and (theta<np.array(boundsMaxMin)[:,1]).all():\n",
    "        return 0.0\n",
    "    return -np.inf"
   ]
  },
  {
   "cell_type": "code",
   "execution_count": 32,
   "id": "40a62e66",
   "metadata": {},
   "outputs": [],
   "source": [
    "def log_likelihood(x,emulator,y_val,obs_error):\n",
    "    x=torch.tensor(x)[None]\n",
    "    ll =np.sum((emulator.ensemble_log_likelihood_obs_error(x,y_val[None,:],obs_error)).detach().numpy())\n",
    "    return ll"
   ]
  },
  {
   "cell_type": "code",
   "execution_count": 33,
   "id": "589ee9b5",
   "metadata": {},
   "outputs": [],
   "source": [
    "def log_prob(theta, emulator,y_val,obs_error):\n",
    "    \n",
    "    lp = log_prior(theta)\n",
    "    if not np.isfinite(lp):\n",
    "        return -np.inf\n",
    "\n",
    "    return lp + log_likelihood(theta,emulator, y_val,obs_error)"
   ]
  },
  {
   "cell_type": "code",
   "execution_count": 34,
   "id": "7d157a42",
   "metadata": {},
   "outputs": [],
   "source": [
    "import emcee"
   ]
  },
  {
   "cell_type": "code",
   "execution_count": 35,
   "id": "5a18a928",
   "metadata": {},
   "outputs": [],
   "source": [
    "centre = (np.array(boundsMaxMin)[:,1]+np.array(boundsMaxMin)[:,0])/2\n",
    "ndim = input_masked.shape[1]\n",
    "nwalkers = 18\n",
    "p0 = np.random.uniform(0,1,(nwalkers,ndim))*(np.array(boundsMaxMin)[:,1]-np.array(boundsMaxMin)[:,0])+np.array(boundsMaxMin)[:,0]\n",
    "#y_val = torch.tensor([80,134])\n",
    "obs_error=((y_val*0.05))**2"
   ]
  },
  {
   "cell_type": "code",
   "execution_count": 36,
   "id": "3c578ab2",
   "metadata": {},
   "outputs": [
    {
     "data": {
      "text/plain": [
       "tensor([147.4000,  88.0000])"
      ]
     },
     "execution_count": 36,
     "metadata": {},
     "output_type": "execute_result"
    }
   ],
   "source": [
    "y_val+2*((y_val*0.05))"
   ]
  },
  {
   "cell_type": "code",
   "execution_count": 37,
   "id": "2b5440ca",
   "metadata": {},
   "outputs": [
    {
     "data": {
      "text/plain": [
       "tensor([24.1200, 14.4000])"
      ]
     },
     "execution_count": 37,
     "metadata": {},
     "output_type": "execute_result"
    }
   ],
   "source": [
    "y_val*0.18"
   ]
  },
  {
   "cell_type": "code",
   "execution_count": 38,
   "id": "b93f3560",
   "metadata": {},
   "outputs": [
    {
     "data": {
      "text/plain": [
       "tensor([44.8900, 16.0000])"
      ]
     },
     "execution_count": 38,
     "metadata": {},
     "output_type": "execute_result"
    }
   ],
   "source": [
    "obs_error"
   ]
  },
  {
   "cell_type": "code",
   "execution_count": null,
   "id": "fc636e05",
   "metadata": {},
   "outputs": [],
   "source": [
    "sampler = emcee.EnsembleSampler(nwalkers, ndim, log_prob, args=[emulator,y_val,obs_error])\n",
    "\n",
    "sampler.run_mcmc(p0, 40000)"
   ]
  },
  {
   "cell_type": "code",
   "execution_count": null,
   "id": "2b7fdabb",
   "metadata": {},
   "outputs": [],
   "source": [
    "flat_samples = sampler.get_chain(discard=20000, thin=10, flat=True)\n",
    "print(flat_samples.shape)"
   ]
  },
  {
   "cell_type": "code",
   "execution_count": null,
   "id": "8386207b",
   "metadata": {},
   "outputs": [],
   "source": [
    "boundsMaxMin"
   ]
  },
  {
   "cell_type": "code",
   "execution_count": null,
   "id": "574fb7c0",
   "metadata": {},
   "outputs": [],
   "source": [
    "import corner\n",
    "\n",
    "fig = corner.corner(\n",
    "    flat_samples, labels=x_labels.values, label_kwargs=dict(fontsize=18)\n",
    ");"
   ]
  },
  {
   "cell_type": "code",
   "execution_count": null,
   "id": "bd475a0f",
   "metadata": {},
   "outputs": [],
   "source": [
    "plt.hist(emulator.predict(torch.tensor(flat_samples)).detach().numpy()[:,0])"
   ]
  },
  {
   "cell_type": "code",
   "execution_count": null,
   "id": "7428f382",
   "metadata": {},
   "outputs": [],
   "source": []
  },
  {
   "cell_type": "code",
   "execution_count": null,
   "id": "4681c984",
   "metadata": {},
   "outputs": [],
   "source": [
    "emulator.predict(torch.tensor(flat_samples)).mean(axis=0)"
   ]
  },
  {
   "cell_type": "code",
   "execution_count": null,
   "id": "472db751",
   "metadata": {},
   "outputs": [],
   "source": [
    "emulator.predict(torch.tensor(flat_samples)).std(axis=0)"
   ]
  },
  {
   "cell_type": "code",
   "execution_count": null,
   "id": "a2773ac8",
   "metadata": {},
   "outputs": [],
   "source": [
    "y_val*0.05"
   ]
  },
  {
   "cell_type": "code",
   "execution_count": null,
   "id": "73d8d74a",
   "metadata": {},
   "outputs": [],
   "source": [
    "fig, axes = plt.subplots(ndim, figsize=(10, 7), sharex=True)\n",
    "samples = sampler.get_chain()\n",
    "labels = x_labels.values\n",
    "for i in range(ndim):\n",
    "    ax = axes[i]\n",
    "    ax.plot(samples[:, :, i], \"k\", alpha=0.3)\n",
    "    ax.set_xlim(0, len(samples))\n",
    "    ax.set_ylabel(labels[i],rotation=0)\n",
    "    ax.yaxis.set_label_coords(-0.1, 0.5)\n",
    "\n",
    "\n",
    "axes[-1].set_xlabel(\"step number\");"
   ]
  },
  {
   "cell_type": "code",
   "execution_count": null,
   "id": "0cbd9966",
   "metadata": {},
   "outputs": [],
   "source": [
    "y_all.min()"
   ]
  },
  {
   "cell_type": "code",
   "execution_count": null,
   "id": "bea1ac96",
   "metadata": {},
   "outputs": [],
   "source": [
    "flat_samples.mean(axis=0)-flat_samples.std(axis=0)"
   ]
  },
  {
   "cell_type": "code",
   "execution_count": null,
   "id": "b5defc0c",
   "metadata": {},
   "outputs": [],
   "source": [
    "flat_samples.mean(axis=0)+flat_samples.std(axis=0)"
   ]
  },
  {
   "cell_type": "code",
   "execution_count": null,
   "id": "8e7760a7",
   "metadata": {},
   "outputs": [],
   "source": [
    "boundsMaxMin"
   ]
  },
  {
   "cell_type": "code",
   "execution_count": null,
   "id": "85728ecb",
   "metadata": {},
   "outputs": [],
   "source": [
    "emulator.predict(torch.tensor(flat_samples.mean(axis=0))[None])"
   ]
  },
  {
   "cell_type": "code",
   "execution_count": null,
   "id": "19f6ede0",
   "metadata": {},
   "outputs": [],
   "source": []
  },
  {
   "cell_type": "code",
   "execution_count": null,
   "id": "a57d0fff",
   "metadata": {},
   "outputs": [],
   "source": []
  }
 ],
 "metadata": {
  "kernelspec": {
   "display_name": "Python 3 (ipykernel)",
   "language": "python",
   "name": "python3"
  },
  "language_info": {
   "codemirror_mode": {
    "name": "ipython",
    "version": 3
   },
   "file_extension": ".py",
   "mimetype": "text/x-python",
   "name": "python",
   "nbconvert_exporter": "python",
   "pygments_lexer": "ipython3",
   "version": "3.11.5"
  }
 },
 "nbformat": 4,
 "nbformat_minor": 5
}
