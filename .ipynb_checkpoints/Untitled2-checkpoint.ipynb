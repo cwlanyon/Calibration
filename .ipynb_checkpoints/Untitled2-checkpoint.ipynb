{
 "cells": [
  {
   "cell_type": "code",
   "execution_count": 1,
   "id": "d0e9a954",
   "metadata": {},
   "outputs": [],
   "source": [
    "import math\n",
    "import torch\n",
    "import gpytorch\n",
    "import pandas as pd\n",
    "import numpy as np\n",
    "from matplotlib import pyplot as plt\n",
    "import emcee\n",
    "\n",
    "import GPE_ensemble as GPE\n",
    "\n",
    "import os\n",
    "from sklearn.linear_model import LinearRegression\n",
    "from sklearn.metrics import mean_squared_error, r2_score\n",
    "from sklearn.model_selection import train_test_split\n",
    "#from GPErks.gp.data.dataset import Dataset\n",
    "from gpytorch.likelihoods import GaussianLikelihood\n",
    "from gpytorch.means import LinearMean\n",
    "from gpytorch.kernels import RBFKernel, ScaleKernel\n",
    "from torchmetrics import MeanSquaredError, R2Score\n",
    "#from GPErks.gp.experiment import GPExperiment\n",
    "#from GPErks.train.emulator import GPEmulator\n",
    "#from GPErks.perks.inference import Inference\n",
    "#from GPErks.train.early_stop import NoEarlyStoppingCriterion\n",
    "#from GPErks.train.early_stop import (\n",
    "#    GLEarlyStoppingCriterion,\n",
    "#    PQEarlyStoppingCriterion,\n",
    "#    UPEarlyStoppingCriterion,\n",
    "#)\n",
    "#from GPErks.train.early_stop import PkEarlyStoppingCriterion\n",
    "\n",
    "\n",
    "\n",
    "%matplotlib inline\n",
    "%load_ext autoreload\n",
    "%autoreload 2\n",
    "\n",
    "# set logger and enforce reproducibility\n",
    "#from GPErks.log.logger import get_logger\n",
    "#from GPErks.utils.random import set_seed\n",
    "#log = get_logger()\n",
    "seed = 7\n",
    "#set_seed(seed)"
   ]
  },
  {
   "cell_type": "code",
   "execution_count": 2,
   "id": "f27251e4",
   "metadata": {},
   "outputs": [],
   "source": [
    "posterior=pd.read_csv(\"MCMC_samples_scenario_10_40_full_posterior.dat\",delim_whitespace=True,header=None)"
   ]
  },
  {
   "cell_type": "code",
   "execution_count": 3,
   "id": "55653b50",
   "metadata": {},
   "outputs": [],
   "source": [
    "y_val = torch.tensor([134,100,133,0.6])"
   ]
  },
  {
   "cell_type": "code",
   "execution_count": 4,
   "id": "cf0722cb",
   "metadata": {},
   "outputs": [
    {
     "data": {
      "text/plain": [
       "(54000, 7)"
      ]
     },
     "execution_count": 4,
     "metadata": {},
     "output_type": "execute_result"
    }
   ],
   "source": [
    "posterior.shape"
   ]
  },
  {
   "cell_type": "code",
   "execution_count": 5,
   "id": "58cb4607",
   "metadata": {},
   "outputs": [
    {
     "name": "stdout",
     "output_type": "stream",
     "text": [
      "     CV_ventricles  CV_atria  a_atria   EDP_lv   EDP_rv     Rsys    Rpulm\n",
      "0         0.583426  0.559737  2.63999  3.00130  4.86389  2.62436  1.74940\n",
      "1         0.513584  0.679305  3.15695  5.65473  6.89338  2.07232  3.77998\n",
      "2         0.528843  0.596498  4.85812  5.02497  2.16558  1.34170  2.09279\n",
      "3         0.576382  0.320044  2.30249  3.45923  3.79267  1.44626  3.62270\n",
      "4         0.706760  0.986539  1.47919  2.71888  3.53382  3.55907  3.37904\n",
      "..             ...       ...      ...      ...      ...      ...      ...\n",
      "995       0.492465  0.433849  3.11757  1.13969  5.68550  2.69079  1.14159\n",
      "996       0.693082  0.775705  3.06761  3.16270  5.87700  2.03175  3.11116\n",
      "997       0.383862  0.422026  3.75881  2.76191  7.32266  2.90629  2.73541\n",
      "998       0.391658  0.580093  3.14632  7.38027  6.52224  3.83890  1.65956\n",
      "999       0.488805  0.328415  4.39081  5.60215  1.67397  1.75135  3.87967\n",
      "\n",
      "[1000 rows x 7 columns]\n",
      "     LVedv  LVedp   LVesv  LVpMax  LVdpdtMax  LVdpdtMin   RVedv  RVedp  \\\n",
      "0   167.78   5.84  118.11   93.76       1726       -709  133.88   2.44   \n",
      "1   141.10   4.37   96.59   75.32       1473       -564  131.79   3.18   \n",
      "2   142.30   4.95   79.35   76.89       1591       -626  179.98   2.76   \n",
      "3   143.07   3.12   89.46   71.14       1470       -560  160.68   2.88   \n",
      "4   163.04   4.87  118.61  104.88       1851       -801  150.54   2.19   \n",
      "..     ...    ...     ...     ...        ...        ...     ...    ...   \n",
      "71  131.58   4.84   76.58   81.69       1847       -666  165.19   3.00   \n",
      "72  157.00   5.91  107.64  107.75       1975       -844  153.31   1.93   \n",
      "73  139.09   4.27   97.86   88.56       1625       -686  138.71   2.24   \n",
      "74  157.62   7.52  108.61   98.41       1858       -738  122.12   2.90   \n",
      "75  156.26   4.12  108.01   87.15       1698       -682  150.00   2.69   \n",
      "\n",
      "     RVesv  RVpMax  ...  RAvMax  RApMax  LAsvA  LAinflV  LAsvV  RAsvA  \\\n",
      "0    87.71   23.96  ...   91.58    2.65  14.10    10.54  14.97   9.83   \n",
      "1    92.76   30.29  ...   89.30    3.47  10.53     7.69  12.09  10.91   \n",
      "2   118.56   28.13  ...  109.13    3.17   9.98    12.45  13.53  11.33   \n",
      "3   110.73   32.23  ...  101.59    3.11   8.04    10.91  15.60   9.95   \n",
      "4   107.03   29.76  ...   92.97    3.08  20.86     8.09  13.07  14.88   \n",
      "..     ...     ...  ...     ...     ...    ...      ...    ...    ...   \n",
      "71  112.36   30.16  ...  103.85    3.37  11.61    10.72  13.84  14.15   \n",
      "72  105.20   24.79  ...   99.45    2.19  12.47    10.33  13.74   9.55   \n",
      "73  101.77   28.95  ...   92.80    2.50   7.57     7.35  11.05   6.95   \n",
      "74   77.55   22.71  ...   83.99    3.44  16.57    10.03  14.04  10.02   \n",
      "75  105.02   31.64  ...   94.03    3.55  17.00     9.20  14.92  15.52   \n",
      "\n",
      "    RAinflV  RAsvV    A_TAT     V_TAT  \n",
      "0     11.04  13.15  155.850  105.7710  \n",
      "1      8.59   9.34  128.153  122.2630  \n",
      "2     13.15  13.70  145.158  114.4830  \n",
      "3     11.49  14.39  271.590  106.0450  \n",
      "4     11.28  14.38   88.644   86.2818  \n",
      "..      ...    ...      ...       ...  \n",
      "71    12.85  14.84  131.276   78.9207  \n",
      "72    11.72  13.43  165.760  132.4770  \n",
      "73     8.18   9.43  250.260  157.9110  \n",
      "74    10.12  11.55   93.644   84.0473  \n",
      "75    10.98  12.93   90.638   77.4899  \n",
      "\n",
      "[76 rows x 28 columns]\n"
     ]
    },
    {
     "data": {
      "image/png": "[encoded data removed]",
      "text/plain": [
       "<Figure size 640x480 with 1 Axes>"
      ]
     },
     "metadata": {},
     "output_type": "display_data"
    }
   ],
   "source": [
    "x_labels=pd.read_csv(r'/Users/pmzcwl/Library/CloudStorage/OneDrive-TheUniversityofNottingham/shared_simulations/mechanics/scenario_10/xlabels.txt',delim_whitespace=True,header=None)\n",
    "\n",
    "\n",
    "X_all = pd.read_csv(r'/Users/pmzcwl/Library/CloudStorage/OneDrive-TheUniversityofNottingham/shared_simulations/mechanics/scenario_10/X.txt',index_col=None,delim_whitespace=True,header=None)\n",
    "X_all.columns=x_labels.values.squeeze().tolist()\n",
    "print(X_all)\n",
    "\n",
    "mask = pd.read_csv(r'/Users/pmzcwl/Library/CloudStorage/OneDrive-TheUniversityofNottingham/shared_simulations/mechanics/scenario_10/output_mask_beat_5.txt',index_col=None,delim_whitespace=True,header=None)\n",
    "\n",
    "np.sum(mask)\n",
    "\n",
    "plt.plot(mask,'o')\n",
    "\n",
    "y_labels=pd.read_csv(r'/Users/pmzcwl/Library/CloudStorage/OneDrive-TheUniversityofNottingham/shared_simulations/mechanics/scenario_10/ylabels.txt',delim_whitespace=True,header=None)\n",
    "\n",
    "\n",
    "y_all = pd.read_csv(r'/Users/pmzcwl/Library/CloudStorage/OneDrive-TheUniversityofNottingham/shared_simulations/mechanics/scenario_10/Y.txt',index_col=None,delim_whitespace=True,header=None)\n",
    "y_all.columns=y_labels.values.squeeze().tolist()\n",
    "print(y_all)\n",
    "\n",
    "\n",
    "\n",
    "input_masked = X_all.copy().iloc[0:mask.shape[0]]\n",
    "input_complete=input_masked.copy().iloc[np.array(mask==1),]\n",
    "input_failed=input_masked.copy().iloc[np.array(mask==0),]"
   ]
  },
  {
   "cell_type": "code",
   "execution_count": 6,
   "id": "e3edfbac",
   "metadata": {},
   "outputs": [
    {
     "name": "stdout",
     "output_type": "stream",
     "text": [
      "[0.386498, 0.799253]\n",
      "[0.305504, 1.02567]\n",
      "[1.47919, 4.96054]\n",
      "[1.05607, 7.27469]\n",
      "[1.06364, 7.4999]\n",
      "[1.02992, 3.98405]\n",
      "[1.03672, 3.85692]\n",
      "0\n",
      "1\n",
      "2\n",
      "3\n"
     ]
    }
   ],
   "source": [
    "input_masked = X_all.copy().iloc[0:mask.shape[0]]\n",
    "\n",
    "input_masked=input_masked.iloc[np.array(mask==1),]\n",
    "\n",
    "nDim = input_masked.shape[1]\n",
    "boundsMaxMin = []\n",
    "for i in range(nDim):\n",
    "    boundsMaxMin.append([np.min(input_masked.iloc[:,i]),np.max(input_masked.iloc[:,i])])\n",
    "    print(boundsMaxMin[i])\n",
    "\n",
    "x_all = torch.tensor(input_masked.values)\n",
    "\n",
    "y_calibration = y_all.loc[:,['A_TAT','V_TAT','LVpMax']]\n",
    "\n",
    "y_calibration2 = pd.DataFrame({'LV_EF':(y_all.loc[:,'LVedv']-y_all.loc[:,'LVesv'])/y_all.loc[:,'LVedv']})\n",
    "\n",
    "y_calibration=torch.tensor(y_calibration.join(y_calibration2).values)\n",
    "\n",
    "\n",
    "\n",
    "\n",
    "\n",
    "y_max=y_calibration.max(axis=0)\n",
    "\n",
    "y_max\n",
    "\n",
    "y_test = y_calibration[y_max[1][3],:]\n",
    "x_test = x_all[y_max[1][3],:]\n",
    "\n",
    "y_train = y_calibration[~torch.all(y_calibration == y_test, dim=1)]\n",
    "x_train = x_all[~torch.all(x_all == x_test, dim=1)]\n",
    "\n",
    "\n",
    "emulator=GPE.ensemble(x_train,y_train,mean_func=\"linear\",training_iter=500)\n"
   ]
  },
  {
   "cell_type": "code",
   "execution_count": 7,
   "id": "8b7bdf26",
   "metadata": {},
   "outputs": [],
   "source": [
    "posterior=torch.tensor(posterior.values)"
   ]
  },
  {
   "cell_type": "code",
   "execution_count": 8,
   "id": "ace52883",
   "metadata": {},
   "outputs": [],
   "source": [
    "ll=torch.sum(emulator.ensemble_log_likelihood_obs_error(posterior[45000:45100],y_test[None],[0.1,0.1,0.1,0.001]),axis=0)"
   ]
  },
  {
   "cell_type": "code",
   "execution_count": 9,
   "id": "96724919",
   "metadata": {},
   "outputs": [
    {
     "data": {
      "text/plain": [
       "[<matplotlib.lines.Line2D at 0x2af4b7d90>]"
      ]
     },
     "execution_count": 9,
     "metadata": {},
     "output_type": "execute_result"
    },
    {
     "data": {
      "image/png": "[encoded data removed]",
      "text/plain": [
       "<Figure size 640x480 with 1 Axes>"
      ]
     },
     "metadata": {},
     "output_type": "display_data"
    }
   ],
   "source": [
    "plt.plot(ll.detach().numpy().T,'o')"
   ]
  },
  {
   "cell_type": "code",
   "execution_count": 10,
   "id": "aa5afcbc",
   "metadata": {},
   "outputs": [
    {
     "data": {
      "text/plain": [
       "torch.Size([99, 7])"
      ]
     },
     "execution_count": 10,
     "metadata": {},
     "output_type": "execute_result"
    }
   ],
   "source": [
    "posterior[1:100].shape"
   ]
  },
  {
   "cell_type": "code",
   "execution_count": 11,
   "id": "5f4b6022",
   "metadata": {},
   "outputs": [
    {
     "data": {
      "text/plain": [
       "tensor([144.1990,  89.5618,  73.9400,   0.4480], dtype=torch.float64)"
      ]
     },
     "execution_count": 11,
     "metadata": {},
     "output_type": "execute_result"
    }
   ],
   "source": [
    "y_test"
   ]
  },
  {
   "cell_type": "code",
   "execution_count": 12,
   "id": "68d00813",
   "metadata": {},
   "outputs": [
    {
     "data": {
      "text/plain": [
       "tensor([[5.8082e-02, 1.6961e-01, 7.2161e-02, 8.5742e-04],\n",
       "        [1.9914e+04, 3.0057e+02, 1.8788e+01, 5.4486e-02],\n",
       "        [3.1057e-02, 6.9181e-06, 4.4205e-01, 2.0974e-03],\n",
       "        [2.4365e-01, 4.3416e-02, 3.2664e-01, 9.0523e-04],\n",
       "        [2.8057e-01, 1.5871e-02, 5.5438e-02, 2.7025e-03],\n",
       "        [1.1833e-03, 3.9658e-02, 4.2750e-01, 1.8359e-03],\n",
       "        [8.3140e-04, 4.8306e-02, 1.6641e-05, 5.5364e-04],\n",
       "        [1.1761e-02, 1.2354e-01, 3.6051e-04, 3.9440e-03],\n",
       "        [5.7708e-04, 1.2370e-02, 6.3049e-01, 2.3874e-03],\n",
       "        [8.5127e-05, 5.4652e-01, 7.7189e-02, 5.3798e-04],\n",
       "        [6.2246e-02, 2.9940e-02, 1.6687e-03, 6.9657e-04],\n",
       "        [4.2331e-02, 5.7856e-03, 2.1365e-01, 1.1923e-03],\n",
       "        [2.1470e-02, 1.1616e-03, 3.6068e-02, 2.1079e-04],\n",
       "        [2.1613e-02, 2.8214e-01, 1.4419e-01, 1.4146e-04],\n",
       "        [2.0480e-02, 6.9643e-01, 6.9307e-02, 8.4845e-04],\n",
       "        [2.5093e-01, 4.6467e-02, 1.9274e-04, 1.5948e-03],\n",
       "        [2.5539e-02, 2.2141e-05, 3.1266e-01, 6.3185e-04],\n",
       "        [3.9714e-02, 2.3550e-02, 4.1889e-02, 2.0412e-04],\n",
       "        [4.9225e-02, 1.9669e-01, 7.5226e-02, 7.1273e-04],\n",
       "        [1.9914e+04, 3.0057e+02, 1.8788e+01, 5.4486e-02],\n",
       "        [8.4641e-03, 8.4902e-03, 3.2986e-01, 1.5486e-03],\n",
       "        [4.1109e-01, 2.1627e-02, 6.5317e-02, 1.5230e-03],\n",
       "        [1.2084e-01, 5.3550e-02, 1.5377e-04, 1.7630e-03],\n",
       "        [3.7056e-02, 2.2393e-05, 2.3921e-01, 8.7239e-04],\n",
       "        [2.6711e-01, 1.9996e-02, 8.4106e-02, 4.2053e-04],\n",
       "        [7.6454e-03, 1.0173e-01, 4.2957e-03, 6.3869e-03],\n",
       "        [8.6968e-03, 1.6101e-02, 5.8219e-01, 6.6474e-04],\n",
       "        [1.3196e-03, 4.3351e-01, 1.4705e-01, 5.7636e-04],\n",
       "        [4.1450e-02, 2.9684e-04, 4.1925e-05, 7.0754e-04],\n",
       "        [8.5777e-03, 7.1585e-02, 7.4742e-02, 1.4643e-03],\n",
       "        [1.0570e-02, 5.7202e-03, 1.4657e-01, 3.2463e-04],\n",
       "        [3.9455e-02, 3.7148e-01, 6.4373e-02, 7.4310e-05],\n",
       "        [1.4607e-02, 3.8032e-01, 3.2239e-02, 6.9103e-04],\n",
       "        [1.4277e-01, 5.7578e-03, 4.4059e-02, 1.4116e-03],\n",
       "        [1.7042e-02, 5.9699e-02, 3.8999e-01, 9.3385e-04],\n",
       "        [3.4158e-02, 2.4393e-02, 1.6164e-02, 2.0106e-04],\n",
       "        [1.0319e-01, 4.7580e-01, 1.8445e-01, 9.9709e-04],\n",
       "        [1.9914e+04, 3.0057e+02, 1.8788e+01, 5.4486e-02],\n",
       "        [8.8349e-02, 6.4630e-02, 1.1330e-01, 5.5569e-04],\n",
       "        [1.4550e-01, 8.3883e-02, 3.2131e-03, 2.0965e-03],\n",
       "        [1.4079e-01, 1.0566e-01, 4.9743e-03, 2.2308e-03],\n",
       "        [1.2599e-01, 3.4030e-02, 2.1621e-01, 6.4646e-04],\n",
       "        [1.5186e-01, 3.1722e-02, 1.0161e-01, 4.9025e-04],\n",
       "        [2.4648e-03, 5.9149e-04, 1.1200e-01, 1.4397e-03],\n",
       "        [7.4740e-04, 1.5771e-03, 6.7081e-01, 7.3261e-04],\n",
       "        [3.6321e-03, 1.4013e-01, 2.9531e-01, 9.2233e-04],\n",
       "        [3.1240e-02, 2.6083e-02, 7.7753e-02, 7.4091e-04],\n",
       "        [7.5652e-02, 6.3532e-04, 9.1248e-04, 1.3209e-03],\n",
       "        [2.2097e-03, 5.0629e-04, 1.2032e-01, 3.8238e-04],\n",
       "        [4.0523e-02, 3.5682e-01, 9.3194e-03, 7.1581e-05],\n",
       "        [1.8977e-01, 1.4838e-01, 5.2394e-01, 2.0594e-03],\n",
       "        [3.3716e-02, 1.3736e-03, 8.1805e-02, 9.0236e-04],\n",
       "        [4.8369e-02, 3.9020e-02, 3.0888e-01, 1.1308e-03],\n",
       "        [4.1119e-02, 1.8938e-01, 2.0764e-03, 1.8147e-04],\n",
       "        [6.8774e-04, 2.1246e-01, 4.4067e-01, 9.0980e-04],\n",
       "        [1.9914e+04, 3.0057e+02, 1.8788e+01, 5.4486e-02],\n",
       "        [2.6196e-01, 1.2547e-01, 7.5480e-02, 1.2119e-04],\n",
       "        [6.7878e-02, 2.0443e-02, 1.5599e-02, 1.4836e-03],\n",
       "        [1.2103e-01, 9.6687e-03, 1.8315e-03, 1.8788e-03],\n",
       "        [1.8852e-01, 1.6306e-02, 3.8485e-01, 3.6643e-04],\n",
       "        [1.2668e-01, 3.1535e-02, 7.9245e-02, 5.1363e-04],\n",
       "        [1.9253e-01, 1.5160e-02, 8.4991e-02, 2.7704e-03],\n",
       "        [1.5397e-01, 8.9504e-03, 1.8178e-01, 1.6844e-04],\n",
       "        [1.0227e-02, 2.9495e-01, 4.0157e-01, 7.2320e-04],\n",
       "        [4.7498e-03, 1.5284e-03, 6.2061e-03, 1.4989e-05],\n",
       "        [1.2747e-01, 1.0014e-03, 2.8186e-01, 1.4003e-03],\n",
       "        [2.4384e-06, 1.5699e-04, 3.2884e-03, 9.8156e-06],\n",
       "        [3.5893e-03, 1.3509e-01, 1.4331e-01, 1.3535e-05],\n",
       "        [9.4669e-02, 3.2602e-01, 3.4643e-01, 3.8155e-03],\n",
       "        [2.8377e-01, 3.5574e-02, 5.7160e-01, 1.3635e-03],\n",
       "        [4.2159e-02, 2.4241e-02, 2.7266e-01, 9.2393e-04],\n",
       "        [2.7803e-01, 1.4786e-01, 5.3046e-03, 1.0525e-04],\n",
       "        [8.1543e-02, 1.2384e-01, 1.0255e-04, 3.4360e-04],\n",
       "        [1.9914e+04, 3.0057e+02, 1.8788e+01, 5.4486e-02],\n",
       "        [1.0327e-01, 9.3579e-02, 5.5702e-02, 3.4081e-08],\n",
       "        [9.0504e-03, 2.7558e-03, 1.9830e-01, 8.0893e-04],\n",
       "        [1.6297e-01, 2.7430e-03, 2.7318e-03, 1.3385e-03],\n",
       "        [3.0801e-01, 1.3273e-03, 7.5334e-02, 1.1301e-04],\n",
       "        [8.6286e-03, 5.2180e-02, 5.8199e-02, 8.2320e-04],\n",
       "        [1.5827e-01, 1.3311e-02, 4.4127e-02, 2.7205e-03],\n",
       "        [2.9493e-01, 1.9936e-01, 1.2388e-01, 9.1649e-04],\n",
       "        [1.1031e-05, 9.8305e-02, 1.4631e-01, 5.1108e-04],\n",
       "        [3.1776e-02, 1.6568e-02, 1.6337e-02, 8.4444e-04],\n",
       "        [1.5269e-01, 2.7854e-01, 2.7515e-02, 4.7960e-03],\n",
       "        [1.8799e-02, 5.7546e-04, 1.1239e-01, 1.3367e-04],\n",
       "        [1.0924e-02, 9.2105e-02, 4.1074e-03, 1.7229e-05],\n",
       "        [6.4795e-03, 1.0887e-01, 2.0449e-01, 3.3476e-03],\n",
       "        [2.6172e-02, 2.5466e-02, 3.1961e-01, 1.3411e-03],\n",
       "        [2.0045e-01, 8.0751e-02, 2.1677e-02, 1.7070e-04],\n",
       "        [6.8254e-03, 1.9017e-06, 2.7809e-01, 3.0863e-04],\n",
       "        [4.4782e-01, 2.4478e-02, 1.1800e-01, 6.0344e-04],\n",
       "        [1.9914e+04, 3.0057e+02, 1.8788e+01, 5.4486e-02],\n",
       "        [6.6826e-01, 1.6339e-01, 1.7645e-01, 2.0532e-06],\n",
       "        [1.9402e-02, 2.4078e-02, 1.5323e-01, 8.5610e-06],\n",
       "        [9.6670e-02, 4.2128e-02, 1.9335e-01, 2.7513e-03],\n",
       "        [3.3948e-01, 1.5439e-02, 8.0937e-02, 2.3077e-04],\n",
       "        [2.9025e-01, 5.5200e-01, 3.3574e-01, 1.5999e-03],\n",
       "        [3.8197e-02, 2.6171e-02, 2.2773e-02, 5.4422e-03],\n",
       "        [2.9493e-01, 1.9936e-01, 1.2388e-01, 9.1649e-04],\n",
       "        [2.2640e-03, 1.5684e-01, 1.9207e-01, 9.0426e-04]], dtype=torch.float64,\n",
       "       grad_fn=<PowBackward0>)"
      ]
     },
     "execution_count": 12,
     "metadata": {},
     "output_type": "execute_result"
    }
   ],
   "source": [
    "(emulator.predict(posterior[45000:45100])-y_test)**2"
   ]
  },
  {
   "cell_type": "code",
   "execution_count": 13,
   "id": "1c6b46ee",
   "metadata": {},
   "outputs": [],
   "source": [
    "ll=(emulator.ensemble_log_likelihood_obs_error(posterior[45000:45100],y_test[None],[0.1,0.1,0.1,0.1]))"
   ]
  },
  {
   "cell_type": "code",
   "execution_count": 14,
   "id": "a358c327",
   "metadata": {},
   "outputs": [
    {
     "data": {
      "text/plain": [
       "<matplotlib.legend.Legend at 0x2b0ebf350>"
      ]
     },
     "execution_count": 14,
     "metadata": {},
     "output_type": "execute_result"
    },
    {
     "data": {
      "image/png": "[encoded data removed]",
      "text/plain": [
       "<Figure size 640x480 with 1 Axes>"
      ]
     },
     "metadata": {},
     "output_type": "display_data"
    }
   ],
   "source": [
    "plt.plot(ll.detach().numpy().T,'o')\n",
    "plt.legend(['A_TAT','V_TAT','LVpMax','EF'])"
   ]
  },
  {
   "cell_type": "code",
   "execution_count": 15,
   "id": "f9fc2c2a",
   "metadata": {},
   "outputs": [
    {
     "data": {
      "text/plain": [
       "tensor([[   83.2285,    84.2827,    84.1401,    86.3310],\n",
       "        [-1883.1760,  -831.9628,    13.2642,    85.9031],\n",
       "        [   83.3996,    85.1184,    80.2817,    86.3178],\n",
       "        [   81.9721,    84.8640,    81.7758,    86.3292],\n",
       "        [   81.3157,    84.8378,    83.4020,    86.3191],\n",
       "        [   82.4395,    84.6304,    79.8853,    86.3148],\n",
       "        [   83.3471,    84.8408,    83.8512,    86.3299],\n",
       "        [   83.0415,    84.4696,    84.2765,    86.3147],\n",
       "        [   83.3794,    85.0070,    80.4550,    86.3186],\n",
       "        [   83.0535,    82.1442,    80.5861,    86.3231],\n",
       "        [   82.6591,    84.6382,    82.2825,    86.3242],\n",
       "        [   83.4612,    85.0536,    82.3275,    86.3240],\n",
       "        [   82.8163,    84.9682,    83.0440,    86.3279],\n",
       "        [   83.5215,    83.6795,    82.8742,    86.3315],\n",
       "        [   83.5019,    81.7058,    83.5851,    86.3279],\n",
       "        [   81.9920,    84.7453,    83.0155,    86.3242],\n",
       "        [   83.3996,    85.0570,    82.1429,    86.3276],\n",
       "        [   83.1165,    84.8132,    83.7667,    86.3314],\n",
       "        [   83.3716,    84.1581,    83.4696,    86.3296],\n",
       "        [-1883.1760,  -831.9628,    13.2642,    85.9031],\n",
       "        [   83.5570,    85.0828,    81.2134,    86.3222],\n",
       "        [   81.3950,    85.0156,    81.9438,    86.3229],\n",
       "        [   82.2647,    84.6753,    83.6006,    86.3226],\n",
       "        [   83.2700,    85.0339,    82.5690,    86.3281],\n",
       "        [   81.5075,    84.8168,    81.5688,    86.3246],\n",
       "        [   83.0919,    84.6206,    83.1111,    86.2996],\n",
       "        [   83.3931,    84.9620,    80.3099,    86.3248],\n",
       "        [   83.3138,    82.7802,    81.5654,    86.3267],\n",
       "        [   83.0258,    84.9393,    83.6802,    86.3285],\n",
       "        [   83.6314,    84.7605,    83.0335,    86.3237],\n",
       "        [   83.3002,    85.0122,    82.7934,    86.3283],\n",
       "        [   83.4049,    83.2104,    83.3424,    86.3316],\n",
       "        [   83.5192,    83.2315,    83.8042,    86.3288],\n",
       "        [   82.7925,    85.0644,    84.4352,    86.3287],\n",
       "        [   83.5006,    84.8050,    81.7872,    86.3266],\n",
       "        [   83.1815,    84.8230,    83.8825,    86.3315],\n",
       "        [   83.0416,    82.8086,    82.9846,    86.3285],\n",
       "        [-1883.1760,  -831.9628,    13.2642,    85.9031],\n",
       "        [   83.2029,    84.7872,    82.0633,    86.3272],\n",
       "        [   82.7898,    84.7203,    82.8018,    86.3203],\n",
       "        [   81.8455,    84.3788,    83.3368,    86.3197],\n",
       "        [   82.6901,    84.8055,    83.1397,    86.3302],\n",
       "        [   82.2999,    84.8316,    82.7550,    86.3278],\n",
       "        [   83.6341,    85.1261,    83.0533,    86.3256],\n",
       "        [   83.4200,    85.0270,    79.6782,    86.3236],\n",
       "        [   83.5715,    84.3413,    81.3765,    86.3249],\n",
       "        [   82.2815,    84.5798,    82.2751,    86.3229],\n",
       "        [   83.2613,    85.1045,    83.5966,    86.3258],\n",
       "        [   83.3793,    85.0515,    83.1048,    86.3289],\n",
       "        [   83.2901,    83.2346,    84.1039,    86.3329],\n",
       "        [   82.4703,    84.3942,    81.8855,    86.3249],\n",
       "        [   83.3410,    85.0842,    83.9196,    86.3294],\n",
       "        [   83.3627,    84.9125,    82.1888,    86.3259],\n",
       "        [   83.1148,    84.0287,    83.8703,    86.3311],\n",
       "        [   83.5930,    84.0887,    82.0169,    86.3294],\n",
       "        [-1883.1760,  -831.9628,    13.2642,    85.9031],\n",
       "        [   82.3103,    84.4072,    83.0089,    86.3310],\n",
       "        [   83.2507,    85.0272,    82.5384,    86.3227],\n",
       "        [   82.0157,    84.8370,    83.7871,    86.3228],\n",
       "        [   82.3484,    84.8366,    82.3931,    86.3318],\n",
       "        [   82.4073,    84.8332,    82.8804,    86.3278],\n",
       "        [   82.6746,    85.0391,    82.7861,    86.3168],\n",
       "        [   82.7865,    85.0064,    83.3610,    86.3329],\n",
       "        [   83.1432,    83.4186,    80.5362,    86.3244],\n",
       "        [   83.3944,    84.9222,    83.8753,    86.3320],\n",
       "        [   82.8279,    85.0865,    82.9535,    86.3283],\n",
       "        [   83.2792,    85.0016,    83.2904,    86.3294],\n",
       "        [   83.1847,    84.1482,    82.9416,    86.3299],\n",
       "        [   82.7545,    83.5285,    82.7512,    86.3158],\n",
       "        [   81.4118,    84.7997,    80.7054,    86.3237],\n",
       "        [   83.3947,    84.9842,    82.4227,    86.3271],\n",
       "        [   82.1706,    84.2224,    83.1990,    86.3279],\n",
       "        [   82.5040,    84.3805,    83.4611,    86.3283],\n",
       "        [-1883.1760,  -831.9628,    13.2642,    85.9031],\n",
       "        [   82.1754,    84.2315,    82.2453,    86.3261],\n",
       "        [   83.2914,    84.9903,    81.8953,    86.3260],\n",
       "        [   82.5194,    85.0046,    84.3070,    86.3275],\n",
       "        [   81.2932,    84.6770,    82.4319,    86.3287],\n",
       "        [   82.9170,    84.7711,    83.8106,    86.3292],\n",
       "        [   82.7757,    85.0276,    82.8524,    86.3165],\n",
       "        [   82.0639,    84.0979,    83.9035,    86.3307],\n",
       "        [   83.4070,    84.4298,    81.2885,    86.3244],\n",
       "        [   83.2259,    84.9816,    83.7149,    86.3279],\n",
       "        [   82.0374,    83.5919,    80.4375,    86.2961],\n",
       "        [   83.1252,    85.0344,    83.4605,    86.3327],\n",
       "        [   83.0441,    84.3257,    83.1750,    86.3282],\n",
       "        [   83.2192,    84.5975,    83.5498,    86.3191],\n",
       "        [   83.0488,    84.9239,    82.3974,    86.3258],\n",
       "        [   82.6936,    84.6412,    82.0523,    86.3255],\n",
       "        [   83.5533,    85.0906,    82.9577,    86.3328],\n",
       "        [   81.2944,    84.9458,    82.8296,    86.3280],\n",
       "        [-1883.1760,  -831.9628,    13.2642,    85.9031],\n",
       "        [   80.0496,    84.0349,    81.9011,    86.3276],\n",
       "        [   83.5057,    84.9242,    82.7191,    86.3314],\n",
       "        [   83.0531,    84.9278,    83.3037,    86.3204],\n",
       "        [   81.5384,    84.7652,    82.7846,    86.3298],\n",
       "        [   82.0307,    82.3927,    82.1296,    86.3233],\n",
       "        [   83.1128,    84.9959,    83.4191,    86.3051],\n",
       "        [   82.0636,    84.0979,    83.9035,    86.3307],\n",
       "        [   81.7142,    83.7777,    79.7795,    86.3156]],\n",
       "       grad_fn=<PermuteBackward0>)"
      ]
     },
     "execution_count": 15,
     "metadata": {},
     "output_type": "execute_result"
    }
   ],
   "source": [
    "ll.T"
   ]
  },
  {
   "cell_type": "code",
   "execution_count": 21,
   "id": "2df09370",
   "metadata": {},
   "outputs": [],
   "source": [
    "emulator.models[i].eval()\n",
    "emulator.likelihoods[i].eval()\n",
    "    \n",
    "inputNorm,outputNorm = emulator.normalise_test_data(posterior,y_test)\n",
    "inputNorm=inputNorm.float()\n",
    "outputNorm=outputNorm.float()\n",
    "sigma = 0.1\n",
    "i=0\n",
    "posterior=posterior.float()\n",
    "m = emulator.likelihoods[i](emulator.models[i](inputNorm[45000:45010])).mean\n",
    "k = emulator.likelihoods[i](emulator.models[i](inputNorm[45000:45010])).covariance_matrix.diag()\n",
    "\n",
    "likelihood_manual=-0.5*((y_test[i]-(emulator.training_output_STD[i]*m+emulator.training_output_mean[i]))**2)/(emulator.training_output_STD[i]*k+sigma) -0.5*nDim*torch.log(emulator.training_output_STD[i]*k+sigma)"
   ]
  },
  {
   "cell_type": "code",
   "execution_count": 22,
   "id": "20a2c503",
   "metadata": {},
   "outputs": [
    {
     "data": {
      "text/plain": [
       "tensor([   83.2282, -1883.1750,    83.4009,    81.9715,    81.3127,    82.4388,\n",
       "           83.3484,    83.0425,    83.3814,    83.0530],\n",
       "       grad_fn=<SubBackward0>)"
      ]
     },
     "execution_count": 22,
     "metadata": {},
     "output_type": "execute_result"
    }
   ],
   "source": [
    "likelihood_manual"
   ]
  },
  {
   "cell_type": "code",
   "execution_count": 18,
   "id": "a0e6b549",
   "metadata": {},
   "outputs": [],
   "source": [
    "nMod = emulator.training_output_normalised.shape[1]\n",
    "nDim = emulator.training_output_normalised.shape[0]\n",
    "nP = posterior[45000:45010].shape[0]\n",
    "likelihood_eval = torch.zeros((nMod,nP))\n",
    "\n",
    "inputNorm,outputNorm = emulator.normalise_test_data(posterior,y_test)\n",
    "inputNorm=inputNorm.float()\n",
    "outputNorm=outputNorm.float()\n",
    "sigma = 0.1\n",
    "posterior=posterior.float()\n",
    "for i in range(4):\n",
    "    emulator.models[i].eval()\n",
    "    emulator.likelihoods[i].eval()\n",
    "    \n",
    "    m = emulator.likelihoods[i](emulator.models[i](inputNorm[45000:45010])).mean\n",
    "    k = emulator.likelihoods[i](emulator.models[i](inputNorm[45000:45010])).covariance_matrix.diag()\n",
    "\n",
    "    likelihood_manual=-0.5*((y_test[i]-(emulator.training_output_STD[i]*m+emulator.training_output_mean[i]))**2)/(emulator.training_output_STD[i]*k+sigma) -0.5*nDim*torch.log(emulator.training_output_STD[i]*k+sigma)\n",
    "    likelihood_eval[i,:] = likelihood_manual"
   ]
  },
  {
   "cell_type": "code",
   "execution_count": 19,
   "id": "de86e024",
   "metadata": {
    "scrolled": false
   },
   "outputs": [
    {
     "data": {
      "text/plain": [
       "tensor([[   83.2282, -1883.1750,    83.4009,    81.9715,    81.3127,    82.4388,\n",
       "            83.3484,    83.0425,    83.3814,    83.0530],\n",
       "        [   84.2825,  -831.9637,    85.1183,    84.8641,    84.8378,    84.6304,\n",
       "            84.8410,    84.4697,    85.0073,    82.1445],\n",
       "        [   84.1401,    13.2645,    80.2817,    81.7758,    83.4020,    79.8853,\n",
       "            83.8513,    84.2765,    80.4552,    80.5861],\n",
       "        [   86.3310,    85.9031,    86.3178,    86.3292,    86.3191,    86.3148,\n",
       "            86.3299,    86.3147,    86.3186,    86.3231]],\n",
       "       grad_fn=<CopySlices>)"
      ]
     },
     "execution_count": 19,
     "metadata": {},
     "output_type": "execute_result"
    }
   ],
   "source": [
    "likelihood_eval"
   ]
  },
  {
   "cell_type": "code",
   "execution_count": 20,
   "id": "a378ee8c",
   "metadata": {},
   "outputs": [
    {
     "data": {
      "text/plain": [
       "tensor([[   83.2282, -1883.1749,    83.4009,    81.9715,    81.3127,    82.4388,\n",
       "            83.3484,    83.0425,    83.3814,    83.0530],\n",
       "        [   84.2825,  -831.9639,    85.1183,    84.8641,    84.8378,    84.6304,\n",
       "            84.8410,    84.4697,    85.0073,    82.1445],\n",
       "        [   84.1401,    13.2645,    80.2817,    81.7758,    83.4020,    79.8853,\n",
       "            83.8513,    84.2765,    80.4552,    80.5861],\n",
       "        [   86.3310,    85.9031,    86.3178,    86.3292,    86.3191,    86.3148,\n",
       "            86.3299,    86.3147,    86.3186,    86.3231]],\n",
       "       grad_fn=<CopySlices>)"
      ]
     },
     "execution_count": 20,
     "metadata": {},
     "output_type": "execute_result"
    }
   ],
   "source": [
    "(emulator.ensemble_log_likelihood_obs_error(posterior[45000:45010],y_test[None],[0.1,0.1,0.1,0.1]))"
   ]
  },
  {
   "cell_type": "code",
   "execution_count": null,
   "id": "8f25c900",
   "metadata": {},
   "outputs": [],
   "source": []
  },
  {
   "cell_type": "code",
   "execution_count": null,
   "id": "e4ca0855",
   "metadata": {},
   "outputs": [],
   "source": []
  }
 ],
 "metadata": {
  "kernelspec": {
   "display_name": "Python 3 (ipykernel)",
   "language": "python",
   "name": "python3"
  },
  "language_info": {
   "codemirror_mode": {
    "name": "ipython",
    "version": 3
   },
   "file_extension": ".py",
   "mimetype": "text/x-python",
   "name": "python",
   "nbconvert_exporter": "python",
   "pygments_lexer": "ipython3",
   "version": "3.11.5"
  }
 },
 "nbformat": 4,
 "nbformat_minor": 5
}
