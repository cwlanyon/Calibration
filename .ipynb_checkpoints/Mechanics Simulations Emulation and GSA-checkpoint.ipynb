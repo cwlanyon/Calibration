{
 "cells": [
  {
   "cell_type": "code",
   "execution_count": 19,
   "id": "f5455388",
   "metadata": {},
   "outputs": [
    {
     "name": "stdout",
     "output_type": "stream",
     "text": [
      "The autoreload extension is already loaded. To reload it, use:\n",
      "  %reload_ext autoreload\n"
     ]
    }
   ],
   "source": [
    "import math\n",
    "import torch\n",
    "import gpytorch\n",
    "import pandas as pd\n",
    "import numpy as np\n",
    "from matplotlib import pyplot as plt\n",
    "\n",
    "import GPE_ensemble as GPE\n",
    "\n",
    "import os\n",
    "from sklearn.linear_model import LinearRegression\n",
    "from sklearn.metrics import mean_squared_error, r2_score\n",
    "from sklearn.model_selection import train_test_split\n",
    "from GPErks.gp.data.dataset import Dataset\n",
    "from gpytorch.likelihoods import GaussianLikelihood\n",
    "from gpytorch.means import LinearMean\n",
    "from gpytorch.kernels import RBFKernel, ScaleKernel\n",
    "from torchmetrics import MeanSquaredError, R2Score\n",
    "from GPErks.gp.experiment import GPExperiment\n",
    "from GPErks.train.emulator import GPEmulator\n",
    "from GPErks.perks.inference import Inference\n",
    "from GPErks.train.early_stop import NoEarlyStoppingCriterion\n",
    "from GPErks.train.early_stop import (\n",
    "    GLEarlyStoppingCriterion,\n",
    "    PQEarlyStoppingCriterion,\n",
    "    UPEarlyStoppingCriterion,\n",
    ")\n",
    "from GPErks.train.early_stop import PkEarlyStoppingCriterion\n",
    "\n",
    "\n",
    "\n",
    "%matplotlib inline\n",
    "%load_ext autoreload\n",
    "%autoreload 2\n",
    "\n",
    "# set logger and enforce reproducibility\n",
    "from GPErks.log.logger import get_logger\n",
    "from GPErks.utils.random import set_seed\n",
    "log = get_logger()\n",
    "seed = 7\n",
    "set_seed(seed)"
   ]
  },
  {
   "cell_type": "markdown",
   "id": "6ff51ae4",
   "metadata": {},
   "source": [
    "# Model 1: Basic GP"
   ]
  },
  {
   "cell_type": "code",
   "execution_count": 20,
   "id": "37a017c5",
   "metadata": {
    "scrolled": false
   },
   "outputs": [
    {
     "name": "stdout",
     "output_type": "stream",
     "text": [
      "     (a_ventricles,)  (bf_lv_scaling,)  (bf_rv_scaling,)  (bf_aa_scaling,)  \\\n",
      "0            3.84315           4.76533           2.62208           4.15803   \n",
      "1            2.37204           1.70855           1.31320           4.36507   \n",
      "2            1.77956           1.96063           1.34211           2.88522   \n",
      "3            1.36631           1.73614           2.19638           4.86120   \n",
      "4            3.04018           2.71531           1.10030           4.09171   \n",
      "..               ...               ...               ...               ...   \n",
      "995          2.72167           3.92166           1.60195           1.27218   \n",
      "996          1.21623           1.83460           3.69258           2.67676   \n",
      "997          3.18001           1.16078           3.64652           1.41063   \n",
      "998          4.48897           1.27125           2.05338           4.60240   \n",
      "999          1.56021           4.55104           1.85340           3.70604   \n",
      "\n",
      "     (EDP_lv,)  (EDP_rv,)  \n",
      "0      2.81186    4.35443  \n",
      "1      6.32845    5.68505  \n",
      "2      4.23991    5.04903  \n",
      "3      7.27292    5.87951  \n",
      "4      3.31193    7.00536  \n",
      "..         ...        ...  \n",
      "995    4.83584    3.42827  \n",
      "996    3.03415    2.87483  \n",
      "997    2.39625    2.58284  \n",
      "998    4.76524    6.97960  \n",
      "999    4.27339    1.99645  \n",
      "\n",
      "[1000 rows x 6 columns]\n"
     ]
    }
   ],
   "source": [
    "x_labels=pd.read_csv(r'C:\\Users\\pmzcwl\\Documents\\GitHub\\Calibration\\shared_simulations\\mechanics\\xlabels_mechanics.txt',delim_whitespace=True,header=None)\n",
    "inputOrig = pd.read_csv(r'C:\\Users\\pmzcwl\\Documents\\GitHub\\Calibration\\shared_simulations\\mechanics\\X_mechanics.txt',index_col=None,delim_whitespace=True,header=None)\n",
    "inputOrig.columns=x_labels\n",
    "print(inputOrig)"
   ]
  },
  {
   "cell_type": "code",
   "execution_count": 21,
   "id": "8bb9f9c4",
   "metadata": {},
   "outputs": [
    {
     "name": "stdout",
     "output_type": "stream",
     "text": [
      "    (LVedv,)  (LVedp,)  (LVesv,)  (LVpMax,)  (LVdpdtMax,)  (LVdpdtMin,)  \\\n",
      "0     134.19      6.81    119.53      23.83         175.0        -107.0   \n",
      "1     127.58      7.07    110.57      26.31         208.0        -119.0   \n",
      "2     136.03      6.68    118.68      26.39         223.0        -116.0   \n",
      "3     138.70      7.14    123.23      24.55         184.0        -108.0   \n",
      "4     133.38      6.72    116.49      26.00         215.0        -116.0   \n",
      "..       ...       ...       ...        ...           ...           ...   \n",
      "85    143.03      6.72    126.79      25.17         205.0        -110.0   \n",
      "86    138.51      6.59    123.17      24.37         189.0        -109.0   \n",
      "87    134.28      6.47    115.06      28.30         255.0        -126.0   \n",
      "88    131.04      6.60    115.33      24.84         192.0        -112.0   \n",
      "89    124.88      6.75    106.53      27.60         239.0        -124.0   \n",
      "\n",
      "    (RVedv,)  (RVedp,)  (RVesv,)  (RVpMax,)  ...  (RAedv,)  (RAesv,)  \\\n",
      "0     183.03      4.08    173.79       8.58  ...    109.84     98.32   \n",
      "1     174.25      4.17    164.16       9.58  ...    108.63     97.04   \n",
      "2     171.25      3.97    159.65       9.68  ...    108.36     96.52   \n",
      "3     159.90      4.26    151.53       8.76  ...    104.04     94.48   \n",
      "4     182.78      3.97    171.67       9.51  ...    108.90     96.94   \n",
      "..       ...       ...       ...        ...  ...       ...       ...   \n",
      "85    169.35      4.04    159.04       9.17  ...    104.64     94.31   \n",
      "86    178.65      3.96    168.22       8.83  ...    109.27     97.63   \n",
      "87    193.54      3.73    179.35      10.47  ...    111.38     98.18   \n",
      "88    191.69      3.86    181.27       9.06  ...    112.97    100.28   \n",
      "89    187.12      3.90    174.34      10.13  ...    110.93     98.22   \n",
      "\n",
      "    (RAvMax,)  (RApMax,)  (LAsvA,)  (LAinflV,)  (LAsvV,)  (RAsvA,)  \\\n",
      "0      111.22       4.16     12.47       -0.50      1.40     11.52   \n",
      "1      110.35       4.38     11.87       -0.20      1.65     11.59   \n",
      "2      109.97       4.24     13.13        0.02      1.45     11.84   \n",
      "3      105.39       4.25     12.90       -0.62      1.36      9.56   \n",
      "4      110.55       4.24     12.44       -0.03      1.51     11.97   \n",
      "..        ...        ...       ...         ...       ...       ...   \n",
      "85     106.05       4.17     13.49       -0.27      1.23     10.33   \n",
      "86     110.65       4.11     13.32       -0.31      1.30     11.64   \n",
      "87     113.32       4.19     12.68        0.77      1.78     13.19   \n",
      "88     114.53       4.10     12.18       -0.26      1.44     12.70   \n",
      "89     112.82       4.28     12.41        0.35      1.73     12.71   \n",
      "\n",
      "    (RAinflV,)  (RAsvV,)  \n",
      "0         1.38      1.11  \n",
      "1         1.72      1.37  \n",
      "2         1.62      1.34  \n",
      "3         1.35      1.04  \n",
      "4         1.65      1.36  \n",
      "..         ...       ...  \n",
      "85        1.40      1.14  \n",
      "86        1.38      1.13  \n",
      "87        1.94      1.69  \n",
      "88        1.55      1.26  \n",
      "89        1.89      1.62  \n",
      "\n",
      "[90 rows x 26 columns]\n"
     ]
    }
   ],
   "source": [
    "y_labels=pd.read_csv(r'C:\\Users\\pmzcwl\\Documents\\GitHub\\Calibration\\shared_simulations\\mechanics\\ylabels.txt',delim_whitespace=True,header=None)\n",
    "outputOrig = pd.read_csv(r'C:\\Users\\pmzcwl\\Documents\\GitHub\\Calibration\\shared_simulations\\mechanics\\Y.txt',index_col=None,delim_whitespace=True,header=None)\n",
    "outputOrig.columns=y_labels\n",
    "print(outputOrig)"
   ]
  },
  {
   "cell_type": "code",
   "execution_count": 23,
   "id": "194e2463",
   "metadata": {},
   "outputs": [],
   "source": [
    "mask = pd.read_csv(r'C:\\Users\\pmzcwl\\Documents\\GitHub\\Calibration\\shared_simulations\\mechanics\\output_mask.txt',index_col=None,delim_whitespace=True,header=None)"
   ]
  },
  {
   "cell_type": "code",
   "execution_count": 26,
   "id": "e47fb7cf",
   "metadata": {},
   "outputs": [
    {
     "data": {
      "text/plain": [
       "(100, 1)"
      ]
     },
     "execution_count": 26,
     "metadata": {},
     "output_type": "execute_result"
    }
   ],
   "source": [
    "mask.shape"
   ]
  },
  {
   "cell_type": "code",
   "execution_count": 30,
   "id": "ecaf9435",
   "metadata": {},
   "outputs": [
    {
     "ename": "ValueError",
     "evalue": "The truth value of a Series is ambiguous. Use a.empty, a.bool(), a.item(), a.any() or a.all().",
     "output_type": "error",
     "traceback": [
      "\u001b[1;31m---------------------------------------------------------------------------\u001b[0m",
      "\u001b[1;31mValueError\u001b[0m                                Traceback (most recent call last)",
      "\u001b[1;32m~\\AppData\\Local\\Temp\\ipykernel_5096\\302506127.py\u001b[0m in \u001b[0;36m?\u001b[1;34m()\u001b[0m\n\u001b[0;32m      1\u001b[0m \u001b[0mnp\u001b[0m\u001b[1;33m.\u001b[0m\u001b[0msum\u001b[0m\u001b[1;33m(\u001b[0m\u001b[0mmask\u001b[0m\u001b[1;33m)\u001b[0m\u001b[1;33m\u001b[0m\u001b[1;33m\u001b[0m\u001b[0m\n\u001b[0;32m      2\u001b[0m \u001b[0minput_masked\u001b[0m \u001b[1;33m=\u001b[0m \u001b[0mnp\u001b[0m\u001b[1;33m.\u001b[0m\u001b[0mzeros\u001b[0m\u001b[1;33m(\u001b[0m\u001b[1;33m(\u001b[0m\u001b[0mmask\u001b[0m\u001b[1;33m.\u001b[0m\u001b[0mshape\u001b[0m\u001b[1;33m[\u001b[0m\u001b[1;36m0\u001b[0m\u001b[1;33m]\u001b[0m\u001b[1;33m,\u001b[0m\u001b[0minputOrig\u001b[0m\u001b[1;33m.\u001b[0m\u001b[0mshape\u001b[0m\u001b[1;33m[\u001b[0m\u001b[1;36m1\u001b[0m\u001b[1;33m]\u001b[0m\u001b[1;33m)\u001b[0m\u001b[1;33m)\u001b[0m\u001b[1;33m\u001b[0m\u001b[1;33m\u001b[0m\u001b[0m\n\u001b[0;32m      3\u001b[0m \u001b[1;32mfor\u001b[0m \u001b[0mi\u001b[0m \u001b[1;32min\u001b[0m \u001b[0mrange\u001b[0m\u001b[1;33m(\u001b[0m\u001b[0mmask\u001b[0m\u001b[1;33m.\u001b[0m\u001b[0mshape\u001b[0m\u001b[1;33m[\u001b[0m\u001b[1;36m0\u001b[0m\u001b[1;33m]\u001b[0m\u001b[1;33m)\u001b[0m\u001b[1;33m:\u001b[0m\u001b[1;33m\u001b[0m\u001b[1;33m\u001b[0m\u001b[0m\n\u001b[1;32m----> 4\u001b[1;33m     \u001b[1;32mif\u001b[0m \u001b[0mmask\u001b[0m\u001b[1;33m[\u001b[0m\u001b[0mi\u001b[0m\u001b[1;33m]\u001b[0m\u001b[1;33m==\u001b[0m\u001b[1;36m1\u001b[0m\u001b[1;33m:\u001b[0m\u001b[1;33m\u001b[0m\u001b[1;33m\u001b[0m\u001b[0m\n\u001b[0m\u001b[0;32m      5\u001b[0m         \u001b[0minput_masked\u001b[0m\u001b[1;33m[\u001b[0m\u001b[0mi\u001b[0m\u001b[1;33m]\u001b[0m\u001b[1;33m=\u001b[0m\u001b[0minputOrig\u001b[0m\u001b[1;33m.\u001b[0m\u001b[0miloc\u001b[0m\u001b[1;33m[\u001b[0m\u001b[0mi\u001b[0m\u001b[1;33m]\u001b[0m\u001b[1;33m\u001b[0m\u001b[1;33m\u001b[0m\u001b[0m\n",
      "\u001b[1;32m~\\AppData\\Local\\anaconda3\\Lib\\site-packages\\pandas\\core\\generic.py\u001b[0m in \u001b[0;36m?\u001b[1;34m(self)\u001b[0m\n\u001b[0;32m   1464\u001b[0m     \u001b[1;33m@\u001b[0m\u001b[0mfinal\u001b[0m\u001b[1;33m\u001b[0m\u001b[1;33m\u001b[0m\u001b[0m\n\u001b[0;32m   1465\u001b[0m     \u001b[1;32mdef\u001b[0m \u001b[0m__nonzero__\u001b[0m\u001b[1;33m(\u001b[0m\u001b[0mself\u001b[0m\u001b[1;33m)\u001b[0m \u001b[1;33m->\u001b[0m \u001b[0mNoReturn\u001b[0m\u001b[1;33m:\u001b[0m\u001b[1;33m\u001b[0m\u001b[1;33m\u001b[0m\u001b[0m\n\u001b[1;32m-> 1466\u001b[1;33m         raise ValueError(\n\u001b[0m\u001b[0;32m   1467\u001b[0m             \u001b[1;34mf\"The truth value of a {type(self).__name__} is ambiguous. \"\u001b[0m\u001b[1;33m\u001b[0m\u001b[1;33m\u001b[0m\u001b[0m\n\u001b[0;32m   1468\u001b[0m             \u001b[1;34m\"Use a.empty, a.bool(), a.item(), a.any() or a.all().\"\u001b[0m\u001b[1;33m\u001b[0m\u001b[1;33m\u001b[0m\u001b[0m\n\u001b[0;32m   1469\u001b[0m         )\n",
      "\u001b[1;31mValueError\u001b[0m: The truth value of a Series is ambiguous. Use a.empty, a.bool(), a.item(), a.any() or a.all()."
     ]
    }
   ],
   "source": [
    "np.sum(mask)\n",
    "input_masked = np.zeros((mask.shape[0],inputOrig.shape[1]))\n",
    "for i in range(mask.shape[0]):\n",
    "    if mask[i]==1:\n",
    "        input_masked[i]=inputOrig.iloc[i]"
   ]
  },
  {
   "cell_type": "code",
   "execution_count": 7,
   "id": "c4064df5",
   "metadata": {},
   "outputs": [],
   "source": [
    "# split original dataset in training, validation and testing sets\n",
    "X=inputOrig.iloc[0:90]\n",
    "y=outputOrig\n",
    "X_train, X_test, y_train, y_test = train_test_split(\n",
    "    X,\n",
    "    y,\n",
    "    test_size=0.2,\n",
    "    random_state=seed\n",
    ")\n"
   ]
  },
  {
   "cell_type": "code",
   "execution_count": 11,
   "id": "0f6bd2c5",
   "metadata": {},
   "outputs": [
    {
     "name": "stdout",
     "output_type": "stream",
     "text": [
      "TestExperiment dataset loaded.\n",
      "Notes from the author:\n",
      "\"An example dataset to test GPErks' power!\"\n",
      "Dataset properties:\n",
      "-Input size: 6\n",
      "-Input parameters: ['a_ventricles', 'bf_lv_scaling', 'bf_rv_scaling', 'bf_aa_scaling', 'EDP_lv', 'EDP_rv']\n",
      "-Output size: 1\n",
      "-Output feature: [array(['LVesv'], dtype=object)]\n",
      "-Sample size: 72\n",
      "-Discrepancy: 0.0290\n",
      "-Validation data available: No\n",
      "-Testing data available: Yes (size = 18)\n"
     ]
    },
    {
     "data": {
      "image/png": "[encoded data removed]",
      "text/plain": [
       "<Figure size 1183.33x374.444 with 6 Axes>"
      ]
     },
     "metadata": {},
     "output_type": "display_data"
    },
    {
     "data": {
      "image/png": "[encoded data removed]",
      "text/plain": [
       "<Figure size 1183.33x936.111 with 36 Axes>"
      ]
     },
     "metadata": {},
     "output_type": "display_data"
    }
   ],
   "source": [
    "\n",
    "dataset = Dataset(\n",
    "        X_train.values,\n",
    "        y_train.iloc[:,2].values,\n",
    "        X_test=X_test.values,\n",
    "        y_test=y_test.iloc[:,2].values,\n",
    "        x_labels=x_labels.values.squeeze().tolist(),\n",
    "        y_label=y_labels.values[2],\n",
    "    \n",
    "        )\n",
    "dataset.plot()\n",
    "dataset.plot_pairwise()"
   ]
  },
  {
   "cell_type": "code",
   "execution_count": 14,
   "id": "d6feabd0",
   "metadata": {},
   "outputs": [
    {
     "data": {
      "text/plain": [
       "(LVedv,)        116.94\n",
       "(LVedp,)          5.70\n",
       "(LVesv,)         99.43\n",
       "(LVpMax,)        23.05\n",
       "(LVdpdtMax,)    157.00\n",
       "(LVdpdtMin,)   -128.00\n",
       "(RVedv,)        159.90\n",
       "(RVedp,)          3.23\n",
       "(RVesv,)        151.53\n",
       "(RVpMax,)         8.17\n",
       "(RVdpdtMax,)     58.00\n",
       "(RVdpdtMin,)    -42.00\n",
       "(LAedv,)         61.07\n",
       "(LAesv,)         50.91\n",
       "(LAvMax,)        60.66\n",
       "(LApMax,)         5.25\n",
       "(RAedv,)        102.74\n",
       "(RAesv,)         93.35\n",
       "(RAvMax,)       104.14\n",
       "(RApMax,)         3.73\n",
       "(LAsvA,)          9.76\n",
       "(LAinflV,)       -0.79\n",
       "(LAsvV,)          1.21\n",
       "(RAsvA,)          9.39\n",
       "(RAinflV,)        1.28\n",
       "(RAsvV,)          1.02\n",
       "dtype: float64"
      ]
     },
     "execution_count": 14,
     "metadata": {},
     "output_type": "execute_result"
    }
   ],
   "source": [
    "np.min(y_train,axis=0)"
   ]
  },
  {
   "cell_type": "code",
   "execution_count": null,
   "id": "7041516a",
   "metadata": {},
   "outputs": [],
   "source": []
  },
  {
   "cell_type": "code",
   "execution_count": 18,
   "id": "ea8fba83",
   "metadata": {
    "scrolled": true
   },
   "outputs": [
    {
     "name": "stdout",
     "output_type": "stream",
     "text": [
      "0\n",
      "1\n",
      "2\n",
      "3\n",
      "4\n",
      "5\n",
      "6\n",
      "7\n",
      "8\n",
      "9\n",
      "10\n",
      "11\n",
      "12\n",
      "13\n",
      "14\n",
      "15\n",
      "16\n",
      "17\n",
      "18\n",
      "19\n",
      "20\n",
      "21\n",
      "22\n",
      "23\n",
      "24\n",
      "25\n"
     ]
    }
   ],
   "source": [
    "emulator = GPE.ensemble(X_train,y_train,mean_func=\"linear\",training_iter=500)"
   ]
  },
  {
   "cell_type": "code",
   "execution_count": 33,
   "id": "34cd4f9a",
   "metadata": {},
   "outputs": [
    {
     "data": {
      "text/plain": [
       "array([[4.82263590e+02, 2.53433121e+02, 5.44309777e+00, 4.69570896e+03,\n",
       "        4.50311225e+03, 4.55856751e+03, 2.05159695e+01, 9.44309906e+02,\n",
       "        7.65070772e+02, 6.29417397e+02, 4.69558780e+03, 4.60495755e+03,\n",
       "        4.60468822e+03],\n",
       "       [2.14980428e+03, 2.18446275e+03, 2.16115967e+03, 7.56526714e+02,\n",
       "        2.26829794e+02, 3.31989217e+00, 6.01852115e+00, 2.15678928e+03,\n",
       "        2.18446513e+03, 2.16126391e+03, 8.06707471e+02, 3.75110048e+02,\n",
       "        2.21627084e+02]])"
      ]
     },
     "execution_count": 33,
     "metadata": {},
     "output_type": "execute_result"
    }
   ],
   "source": [
    "emulator.MSE(X_test,)"
   ]
  },
  {
   "cell_type": "code",
   "execution_count": 34,
   "id": "b79cbb7c",
   "metadata": {
    "scrolled": false
   },
   "outputs": [
    {
     "data": {
      "text/plain": [
       "array([[ 8.95249887e-01, -1.22525153e-01],\n",
       "       [ 9.44953033e-01, -1.40622153e-01],\n",
       "       [ 9.98817731e-01, -1.28454393e-01],\n",
       "       [-1.99319474e-02,  6.04977870e-01],\n",
       "       [ 2.19010422e-02,  8.81560312e-01],\n",
       "       [ 9.85587590e-03,  9.98266511e-01],\n",
       "       [ 9.95543827e-01,  9.96857416e-01],\n",
       "       [ 7.94891070e-01, -1.26172388e-01],\n",
       "       [ 8.33822724e-01, -1.40623396e-01],\n",
       "       [ 8.63287330e-01, -1.28508825e-01],\n",
       "       [-1.99056310e-02,  5.78775875e-01],\n",
       "       [-2.20278014e-04,  8.04135443e-01],\n",
       "       [-1.61776649e-04,  8.84276918e-01]])"
      ]
     },
     "execution_count": 34,
     "metadata": {},
     "output_type": "execute_result"
    }
   ],
   "source": [
    "(1-MSE/np.var(y_test).values)"
   ]
  },
  {
   "cell_type": "code",
   "execution_count": 35,
   "id": "40d4c871",
   "metadata": {},
   "outputs": [
    {
     "data": {
      "text/plain": [
       "tensor([[     0.7864,     -1.2318],\n",
       "        [    -1.4533,      0.6321],\n",
       "        [     0.0011,     -0.4491],\n",
       "        [    -0.0866,      0.6382],\n",
       "        [    -0.7003,     -1.1552],\n",
       "        [    -0.6055,      0.1336],\n",
       "        [     0.6891,     -0.5689],\n",
       "        [     0.1157,      1.5493],\n",
       "        [    -0.8344,      0.5214],\n",
       "        [     0.4204,      0.0464],\n",
       "        [    -0.9094,      1.7671],\n",
       "        [    -0.2133,      0.9366],\n",
       "        [    -0.0192,     -0.8590],\n",
       "        [     1.2583,     -0.9586],\n",
       "        [    -0.4166,     -0.5396],\n",
       "        [     0.8220,      0.2388],\n",
       "        [     0.4152,      1.0484],\n",
       "        [    -1.6256,     -1.4885],\n",
       "        [    -1.4181,     -0.1336],\n",
       "        [     0.7512,     -1.1404],\n",
       "        [     1.5135,      1.0701],\n",
       "        [     1.0263,      0.8794],\n",
       "        [    -1.2268,      1.5334],\n",
       "        [     0.2990,      0.1930],\n",
       "        [    -1.1718,      1.4518],\n",
       "        [     0.6630,      1.0151],\n",
       "        [    -0.5230,      0.1602],\n",
       "        [    -1.0485,     -0.6572],\n",
       "        [    -0.8597,      1.7219],\n",
       "        [     0.3282,      1.1943],\n",
       "        [    -1.2614,      1.7301],\n",
       "        [    -0.5647,      0.6763],\n",
       "        [    -1.1245,      0.2788],\n",
       "        [     0.5014,      1.0837],\n",
       "        [    -0.0988,      0.0947],\n",
       "        [     0.9766,     -0.0003]], dtype=torch.float64)"
      ]
     },
     "execution_count": 35,
     "metadata": {},
     "output_type": "execute_result"
    }
   ],
   "source": [
    "torch.tensor(((X_test.iloc[:,[3,5]]-inputMean[[3,5]])/inputStd[[3,5]]).values)"
   ]
  },
  {
   "cell_type": "code",
   "execution_count": 46,
   "id": "df5abaf6",
   "metadata": {
    "scrolled": true
   },
   "outputs": [],
   "source": [
    "ISE = np.zeros((7,2))\n",
    "for i in range(2):\n",
    "    model_1A_mean=GPEnsemblePredict(models_1A,likelihoods_1A,torch.tensor(((X_test.iloc[:,3:4]-inputMean[3:4])/inputStd[3:4]).values),outMean,outStd)[i].mean()\n",
    "    model_1A_std=GPEnsemblePredict(models_1A,likelihoods_1A,torch.tensor(((X_test.iloc[:,3:4]-inputMean[3:4])/inputStd[3:4]).values),outMean,outStd)[i].std()\n",
    "    \n",
    "    model_2A_mean=GPEnsemblePredict(models_2A,likelihoods_2A,torch.tensor(((X_test.iloc[:,[3,5]]-inputMean[[3,5]])/inputStd[[3,5]]).values),outMean,outStd)[i].mean()\n",
    "    model_2A_std=GPEnsemblePredict(models_2A,likelihoods_2A,torch.tensor(((X_test.iloc[:,[3,5]]-inputMean[[3,5]])/inputStd[[3,5]]).values),outMean,outStd)[i].std()\n",
    "    \n",
    "    model_3A_mean=GPEnsemblePredict(models_3A,likelihoods_3A,torch.tensor(((X_test.iloc[:,3:6]-inputMean[3:6])/inputStd[3:6]).values),outMean,outStd)[i].mean()\n",
    "    model_3A_std=GPEnsemblePredict(models_3A,likelihoods_3A,torch.tensor(((X_test.iloc[:,3:6]-inputMean[3:6])/inputStd[3:6]).values),outMean,outStd)[i].std()\n",
    "    \n",
    "    model_1V_mean=GPEnsemblePredict(models_1V,likelihoods_1V,torch.tensor(((X_test.iloc[:,0:1]-inputMean[0:1])/inputStd[0:1]).values),outMean,outStd)[i].mean()\n",
    "    model_1V_std=GPEnsemblePredict(models_1V,likelihoods_1V,torch.tensor(((X_test.iloc[:,3:4]-inputMean[3:4])/inputStd[3:4]).values),outMean,outStd)[i].std()\n",
    "    \n",
    "    model_2V_mean=GPEnsemblePredict(models_2V,likelihoods_2V,torch.tensor(((X_test.iloc[:,[0,2]]-inputMean[[0,2]])/inputStd[[0,2]]).values),outMean,outStd)[i].mean()\n",
    "    model_2V_std=GPEnsemblePredict(models_2V,likelihoods_2V,torch.tensor(((X_test.iloc[:,[0,2]]-inputMean[[0,2]])/inputStd[[0,2]]).values),outMean,outStd)[i].std()\n",
    "    \n",
    "    model_3V_mean=GPEnsemblePredict(models_3V,likelihoods_3V,torch.tensor(((X_test.iloc[:,0:3]-inputMean[0:3])/inputStd[0:3]).values),outMean,outStd)[i].mean()\n",
    "    model_3V_std=GPEnsemblePredict(models_3V,likelihoods_3V,torch.tensor(((X_test.iloc[:,0:3]-inputMean[0:3])/inputStd[0:3]).values),outMean,outStd)[i].std()\n",
    "    \n",
    "    LR_mean=LRGPEnsemblePredict(regression_model,modelsZM,likelihoodsZM,torch.tensor(((X_test-inputMean)/inputStd).values),outMean,outStd)[i].mean()\n",
    "    LR_std=LRGPEnsemblePredict(regression_model,modelsZM,likelihoodsZM,torch.tensor(((X_test-inputMean)/inputStd).values),outMean,outStd)[i].std()\n",
    "    \n",
    "    \n",
    "    ISE[0,i] =(100*sum(torch.FloatTensor.abs_(model_1A_mean-torch.tensor(y_test.values)[:,i])<2*model_1A_std)/36)\n",
    "    ISE[1,i] =(100*sum(torch.FloatTensor.abs_(model_2A_mean-torch.tensor(y_test.values)[:,i])<2*model_2A_std)/36)\n",
    "    ISE[2,i] =(100*sum(torch.FloatTensor.abs_(model_3A_mean-torch.tensor(y_test.values)[:,i])<2*model_3A_std)/36)\n",
    "    ISE[3,i] =(100*sum(torch.FloatTensor.abs_(model_1V_mean-torch.tensor(y_test.values)[:,i])<2*model_1V_std)/36)\n",
    "    ISE[4,i] =(100*sum(torch.FloatTensor.abs_(model_2V_mean-torch.tensor(y_test.values)[:,i])<2*model_2V_std)/36)\n",
    "    ISE[5,i] =(100*sum(torch.FloatTensor.abs_(model_3V_mean-torch.tensor(y_test.values)[:,i])<2*model_3V_std)/36)\n",
    "    ISE[6,i] =(100*sum(torch.FloatTensor.abs_(LR_mean-torch.tensor(y_test.values)[:,i])<2*LR_std)/36)       "
   ]
  },
  {
   "cell_type": "code",
   "execution_count": 47,
   "id": "c0ae87fb",
   "metadata": {},
   "outputs": [
    {
     "data": {
      "text/plain": [
       "tensor(88.1466, grad_fn=<MulBackward0>)"
      ]
     },
     "execution_count": 47,
     "metadata": {},
     "output_type": "execute_result"
    }
   ],
   "source": [
    "2*model_3V_std"
   ]
  },
  {
   "cell_type": "code",
   "execution_count": 48,
   "id": "0de11bc8",
   "metadata": {
    "scrolled": true
   },
   "outputs": [
    {
     "data": {
      "text/plain": [
       "tensor([ 61.7133,  28.9900,  42.9480,  30.1480,  28.6770,  27.0290,  10.8730,\n",
       "         27.6030,  33.6820,  16.0490,  50.5290,  16.7130,   0.5200,  57.6460,\n",
       "        105.6180,  81.0850,  19.1670,  80.7000,  45.7609,  28.7960,  44.7480,\n",
       "         30.0310,  28.2760,  41.9280,  25.2740,  35.8270,  55.9620,  22.3990,\n",
       "         52.4310,  41.3130,  13.9810,  29.4600,   2.6860,  31.7970,  41.4090,\n",
       "         82.1560], dtype=torch.float64, grad_fn=<AbsBackward0>)"
      ]
     },
     "execution_count": 48,
     "metadata": {},
     "output_type": "execute_result"
    }
   ],
   "source": [
    "torch.FloatTensor.abs_(model_1V_mean-torch.tensor(y_test.values)[:,1])"
   ]
  },
  {
   "cell_type": "code",
   "execution_count": 49,
   "id": "a41c0f4f",
   "metadata": {},
   "outputs": [
    {
     "data": {
      "text/plain": [
       "tensor([ True,  True,  True,  True,  True,  True,  True,  True,  True,  True,\n",
       "         True,  True,  True,  True, False,  True,  True,  True,  True,  True,\n",
       "         True,  True,  True,  True,  True,  True,  True,  True,  True,  True,\n",
       "         True,  True,  True,  True,  True,  True])"
      ]
     },
     "execution_count": 49,
     "metadata": {},
     "output_type": "execute_result"
    }
   ],
   "source": [
    "torch.FloatTensor.abs_(model_3V_mean-torch.tensor(y_test.values)[:,1])<2*model_3V_std"
   ]
  },
  {
   "cell_type": "code",
   "execution_count": 50,
   "id": "1e7743bc",
   "metadata": {
    "scrolled": false
   },
   "outputs": [
    {
     "data": {
      "text/plain": [
       "tensor([    0.0578,   124.0022,     8.9242,    26.3102,    98.5282,    44.7862,\n",
       "           22.3088,     1.3162,    56.4332,     7.0518,    84.7472,    27.3232,\n",
       "           10.6812,    29.3978,    31.6492,    20.9678,    21.6738,   259.3202,\n",
       "          177.5852,     1.9458,    54.2705,    30.4428,   117.0252,    15.9288,\n",
       "          134.3492,     9.8258,    26.3002,    96.0132,    51.4822,    10.9568,\n",
       "           87.9382,    66.5912,   130.9622,    16.8418,    30.8712,    33.9558],\n",
       "       dtype=torch.float64, grad_fn=<AbsBackward0>)"
      ]
     },
     "execution_count": 50,
     "metadata": {},
     "output_type": "execute_result"
    }
   ],
   "source": [
    "torch.FloatTensor.abs_(model_3V_mean-torch.tensor(y_test.values)[:,0])"
   ]
  },
  {
   "cell_type": "code",
   "execution_count": 51,
   "id": "8e409149",
   "metadata": {},
   "outputs": [
    {
     "data": {
      "text/plain": [
       "array([[94.44444275,  2.77777767],\n",
       "       [94.44444275,  8.33333302],\n",
       "       [94.44444275,  8.33333302],\n",
       "       [19.44444466, 75.        ],\n",
       "       [22.22222137, 88.8888855 ],\n",
       "       [22.22222137, 97.22222137],\n",
       "       [94.44444275, 97.22222137]])"
      ]
     },
     "execution_count": 51,
     "metadata": {},
     "output_type": "execute_result"
    }
   ],
   "source": [
    "ISE"
   ]
  },
  {
   "cell_type": "code",
   "execution_count": 52,
   "id": "d09c2a0a",
   "metadata": {
    "scrolled": true
   },
   "outputs": [
    {
     "name": "stdout",
     "output_type": "stream",
     "text": [
      "0\n",
      "1\n"
     ]
    }
   ],
   "source": [
    "models, likelihoods = GPEnsemble(inputNorm,outputNorm)"
   ]
  },
  {
   "cell_type": "code",
   "execution_count": 53,
   "id": "e9abe8ae",
   "metadata": {
    "scrolled": true
   },
   "outputs": [
    {
     "name": "stdout",
     "output_type": "stream",
     "text": [
      "0\n",
      "1\n"
     ]
    }
   ],
   "source": [
    "modelsLR, likelihoodsLR = GPEnsemble(inputNorm,outputNorm,meanFunc=\"linear\")"
   ]
  },
  {
   "cell_type": "code",
   "execution_count": 54,
   "id": "41cede99",
   "metadata": {},
   "outputs": [
    {
     "name": "stdout",
     "output_type": "stream",
     "text": [
      "0\n",
      "1\n"
     ]
    }
   ],
   "source": [
    "regression_model, modelsZM, likelihoodsZM=LRGPEnsemble(inputNorm,outputNorm)"
   ]
  },
  {
   "cell_type": "code",
   "execution_count": 55,
   "id": "6458adfa",
   "metadata": {
    "scrolled": false
   },
   "outputs": [
    {
     "data": {
      "text/plain": [
       "tensor(6.8144, dtype=torch.float64, grad_fn=<MeanBackward0>)"
      ]
     },
     "execution_count": 55,
     "metadata": {},
     "output_type": "execute_result"
    }
   ],
   "source": [
    " ((GPEnsemblePredict(models,likelihoods,torch.tensor(((X_test-inputMean)/inputStd).values),outMean,outStd)[1]-torch.tensor(y_test.values)[:,1])**2).mean()"
   ]
  },
  {
   "cell_type": "code",
   "execution_count": 56,
   "id": "d6ea6a55",
   "metadata": {},
   "outputs": [
    {
     "data": {
      "text/plain": [
       "tensor(5.8914, dtype=torch.float64, grad_fn=<MeanBackward0>)"
      ]
     },
     "execution_count": 56,
     "metadata": {},
     "output_type": "execute_result"
    }
   ],
   "source": [
    "((GPEnsemblePredict(modelsLR,likelihoodsLR,torch.tensor(((X_test-inputMean)/inputStd).values),outMean,outStd)[1]-torch.tensor(y_test.values)[:,1])**2).mean()"
   ]
  },
  {
   "cell_type": "code",
   "execution_count": 57,
   "id": "358ed8a0",
   "metadata": {
    "scrolled": true
   },
   "outputs": [
    {
     "name": "stderr",
     "output_type": "stream",
     "text": [
      "C:\\Users\\pmzcwl\\AppData\\Local\\anaconda3\\lib\\site-packages\\numpy\\core\\fromnumeric.py:84: FutureWarning: In a future version, DataFrame.min(axis=None) will return a scalar min over the entire DataFrame. To retain the old behavior, use 'frame.min(axis=0)' or just 'frame.min()'\n",
      "  return reduction(axis=axis, out=out, **passkwargs)\n"
     ]
    },
    {
     "data": {
      "text/plain": [
       "(A_TAT,)    98.3833\n",
       "(V_TAT,)    82.2549\n",
       "dtype: float64"
      ]
     },
     "execution_count": 57,
     "metadata": {},
     "output_type": "execute_result"
    }
   ],
   "source": [
    "np.min(y)"
   ]
  },
  {
   "cell_type": "code",
   "execution_count": 58,
   "id": "3c36ef3e",
   "metadata": {},
   "outputs": [
    {
     "data": {
      "text/plain": [
       "612.128912427082"
      ]
     },
     "execution_count": 58,
     "metadata": {},
     "output_type": "execute_result"
    }
   ],
   "source": [
    "(((outStd[0]*(regression_model.predict(((X_test-inputMean)/inputStd))[:,0])+outMean[0])-y_test.values[:,0])**2).mean()"
   ]
  },
  {
   "cell_type": "code",
   "execution_count": 59,
   "id": "2379f6a9",
   "metadata": {
    "scrolled": true
   },
   "outputs": [
    {
     "data": {
      "text/plain": [
       "array([150.46814582, 266.8692335 , 187.23735625, 202.93934026,\n",
       "       257.89742466, 224.28706958, 142.43380974, 175.27896716,\n",
       "       236.68128714, 165.70585571, 251.90581723, 208.57764017,\n",
       "       188.09915429, 120.79573528, 211.9732073 , 137.93488211,\n",
       "       143.96481908, 313.95018967, 298.31938399, 149.09938405,\n",
       "        65.51827639, 120.80792439, 273.98983784, 154.97633823,\n",
       "       270.80961042, 154.82887053, 205.84473286, 257.83670811,\n",
       "       232.32346091, 159.21914061, 245.58727005, 237.56503462,\n",
       "       280.15910087, 150.40239171, 207.47308969, 122.25121712])"
      ]
     },
     "execution_count": 59,
     "metadata": {},
     "output_type": "execute_result"
    }
   ],
   "source": [
    "(outStd[0]*(regression_model.predict(((X_test-inputMean)/inputStd))[:,0])+outMean[0])"
   ]
  },
  {
   "cell_type": "code",
   "execution_count": 60,
   "id": "7af08b55",
   "metadata": {
    "scrolled": true
   },
   "outputs": [
    {
     "data": {
      "text/plain": [
       "array([152.596 , 276.656 , 161.578 , 178.964 , 251.182 , 197.44  ,\n",
       "       130.345 , 153.97  , 209.087 , 145.602 , 237.401 , 179.977 ,\n",
       "       163.335 , 123.256 , 184.303 , 131.686 , 130.98  , 411.974 ,\n",
       "       330.239 , 150.708 ,  98.3833, 122.211 , 269.679 , 136.725 ,\n",
       "       287.003 , 142.828 , 178.954 , 248.667 , 204.136 , 141.697 ,\n",
       "       240.592 , 219.245 , 283.616 , 135.812 , 183.525 , 118.698 ])"
      ]
     },
     "execution_count": 60,
     "metadata": {},
     "output_type": "execute_result"
    }
   ],
   "source": [
    "y_test.values[:,0]"
   ]
  },
  {
   "cell_type": "code",
   "execution_count": 61,
   "id": "1216267c",
   "metadata": {},
   "outputs": [
    {
     "data": {
      "text/plain": [
       "(A_TAT,)    4735.484646\n",
       "(V_TAT,)    1969.868786\n",
       "dtype: float64"
      ]
     },
     "execution_count": 61,
     "metadata": {},
     "output_type": "execute_result"
    }
   ],
   "source": [
    "y_test.var()"
   ]
  },
  {
   "cell_type": "code",
   "execution_count": 62,
   "id": "602de7e6",
   "metadata": {
    "scrolled": false
   },
   "outputs": [],
   "source": [
    "MSE = np.zeros((3,2))\n",
    "for i in range(2):\n",
    "    MSE[0,i] =((GPEnsemblePredict(models,likelihoods,torch.tensor(((X_test-inputMean)/inputStd).values),outMean,outStd)[i]-torch.tensor(y_test.values)[:,i])**2).mean()\n",
    "    MSE[1,i] =((GPEnsemblePredict(modelsLR,likelihoodsLR,torch.tensor(((X_test-inputMean)/inputStd).values),outMean,outStd)[i]-torch.tensor(y_test.values)[:,i])**2).mean()\n",
    "    MSE[2,i] =((LRGPEnsemblePredict(regression_model,modelsZM,likelihoodsZM,torch.tensor(((X_test-inputMean)/inputStd).values),outMean,outStd)[i]-torch.tensor(y_test.values)[:,i])**2).mean()\n",
    "   \n",
    "    "
   ]
  },
  {
   "cell_type": "code",
   "execution_count": 63,
   "id": "6b6be663",
   "metadata": {},
   "outputs": [
    {
     "data": {
      "text/plain": [
       "array([[23.665706  , 20.1662698 , 22.88638616],\n",
       "       [ 6.81441349,  5.89142147,  7.03718353]])"
      ]
     },
     "execution_count": 63,
     "metadata": {},
     "output_type": "execute_result"
    }
   ],
   "source": [
    "MSE.T"
   ]
  },
  {
   "cell_type": "code",
   "execution_count": 64,
   "id": "c224e2b9",
   "metadata": {},
   "outputs": [
    {
     "data": {
      "text/plain": [
       "tensor([-0.5698,  1.2320, -0.4528, -0.1488,  0.8539,  0.1150, -0.8909, -0.5495,\n",
       "         0.2622, -0.6687,  0.7462, -0.1532, -0.4038, -0.9532, -0.1257, -0.8578,\n",
       "        -0.8766,  2.8206,  2.0039, -0.5837, -1.3657, -0.9865,  1.2111, -0.7757,\n",
       "         1.3647, -0.6849, -0.1569,  0.8317,  0.2365, -0.7375,  0.7528,  0.4157,\n",
       "         1.3469, -0.8088, -0.0720, -1.0463], grad_fn=<ViewBackward0>)"
      ]
     },
     "execution_count": 64,
     "metadata": {},
     "output_type": "execute_result"
    }
   ],
   "source": [
    "(likelihoods[0](models[0](torch.tensor(((X_test-inputMean)/inputStd).values).float())).mean)"
   ]
  },
  {
   "cell_type": "code",
   "execution_count": 65,
   "id": "31ac4ede",
   "metadata": {
    "scrolled": true
   },
   "outputs": [
    {
     "data": {
      "text/html": [
       "<div>\n",
       "<style scoped>\n",
       "    .dataframe tbody tr th:only-of-type {\n",
       "        vertical-align: middle;\n",
       "    }\n",
       "\n",
       "    .dataframe tbody tr th {\n",
       "        vertical-align: top;\n",
       "    }\n",
       "\n",
       "    .dataframe thead th {\n",
       "        text-align: right;\n",
       "    }\n",
       "</style>\n",
       "<table border=\"1\" class=\"dataframe\">\n",
       "  <thead>\n",
       "    <tr style=\"text-align: right;\">\n",
       "      <th></th>\n",
       "      <th>(A_TAT,)</th>\n",
       "      <th>(V_TAT,)</th>\n",
       "    </tr>\n",
       "  </thead>\n",
       "  <tbody>\n",
       "    <tr>\n",
       "      <th>138</th>\n",
       "      <td>-0.552813</td>\n",
       "      <td>-1.526635</td>\n",
       "    </tr>\n",
       "    <tr>\n",
       "      <th>36</th>\n",
       "      <td>1.251448</td>\n",
       "      <td>-0.626634</td>\n",
       "    </tr>\n",
       "    <tr>\n",
       "      <th>169</th>\n",
       "      <td>-0.422184</td>\n",
       "      <td>-1.010526</td>\n",
       "    </tr>\n",
       "    <tr>\n",
       "      <th>143</th>\n",
       "      <td>-0.169331</td>\n",
       "      <td>-0.658483</td>\n",
       "    </tr>\n",
       "    <tr>\n",
       "      <th>126</th>\n",
       "      <td>0.880968</td>\n",
       "      <td>0.959403</td>\n",
       "    </tr>\n",
       "    <tr>\n",
       "      <th>133</th>\n",
       "      <td>0.099374</td>\n",
       "      <td>-0.572700</td>\n",
       "    </tr>\n",
       "    <tr>\n",
       "      <th>102</th>\n",
       "      <td>-0.876419</td>\n",
       "      <td>0.469733</td>\n",
       "    </tr>\n",
       "    <tr>\n",
       "      <th>32</th>\n",
       "      <td>-0.532830</td>\n",
       "      <td>-0.588487</td>\n",
       "    </tr>\n",
       "    <tr>\n",
       "      <th>120</th>\n",
       "      <td>0.268761</td>\n",
       "      <td>1.097057</td>\n",
       "    </tr>\n",
       "    <tr>\n",
       "      <th>145</th>\n",
       "      <td>-0.654530</td>\n",
       "      <td>0.612091</td>\n",
       "    </tr>\n",
       "    <tr>\n",
       "      <th>22</th>\n",
       "      <td>0.680545</td>\n",
       "      <td>1.560407</td>\n",
       "    </tr>\n",
       "    <tr>\n",
       "      <th>115</th>\n",
       "      <td>-0.154599</td>\n",
       "      <td>0.630353</td>\n",
       "    </tr>\n",
       "    <tr>\n",
       "      <th>163</th>\n",
       "      <td>-0.396631</td>\n",
       "      <td>0.156387</td>\n",
       "    </tr>\n",
       "    <tr>\n",
       "      <th>119</th>\n",
       "      <td>-0.979518</td>\n",
       "      <td>1.756148</td>\n",
       "    </tr>\n",
       "    <tr>\n",
       "      <th>85</th>\n",
       "      <td>-0.091684</td>\n",
       "      <td>3.075540</td>\n",
       "    </tr>\n",
       "    <tr>\n",
       "      <th>111</th>\n",
       "      <td>-0.856917</td>\n",
       "      <td>2.400800</td>\n",
       "    </tr>\n",
       "    <tr>\n",
       "      <th>109</th>\n",
       "      <td>-0.867184</td>\n",
       "      <td>-0.356468</td>\n",
       "    </tr>\n",
       "    <tr>\n",
       "      <th>161</th>\n",
       "      <td>3.219439</td>\n",
       "      <td>2.390211</td>\n",
       "    </tr>\n",
       "    <tr>\n",
       "      <th>51</th>\n",
       "      <td>2.030730</td>\n",
       "      <td>-1.087890</td>\n",
       "    </tr>\n",
       "    <tr>\n",
       "      <th>45</th>\n",
       "      <td>-0.580271</td>\n",
       "      <td>-0.621298</td>\n",
       "    </tr>\n",
       "    <tr>\n",
       "      <th>74</th>\n",
       "      <td>-1.341253</td>\n",
       "      <td>-1.060032</td>\n",
       "    </tr>\n",
       "    <tr>\n",
       "      <th>66</th>\n",
       "      <td>-0.994716</td>\n",
       "      <td>0.996643</td>\n",
       "    </tr>\n",
       "    <tr>\n",
       "      <th>122</th>\n",
       "      <td>1.149978</td>\n",
       "      <td>0.948374</td>\n",
       "    </tr>\n",
       "    <tr>\n",
       "      <th>96</th>\n",
       "      <td>-0.783632</td>\n",
       "      <td>-0.982472</td>\n",
       "    </tr>\n",
       "    <tr>\n",
       "      <th>13</th>\n",
       "      <td>1.401929</td>\n",
       "      <td>-0.524431</td>\n",
       "    </tr>\n",
       "    <tr>\n",
       "      <th>166</th>\n",
       "      <td>-0.694873</td>\n",
       "      <td>1.156052</td>\n",
       "    </tr>\n",
       "    <tr>\n",
       "      <th>86</th>\n",
       "      <td>-0.169477</td>\n",
       "      <td>1.709833</td>\n",
       "    </tr>\n",
       "    <tr>\n",
       "      <th>178</th>\n",
       "      <td>0.844391</td>\n",
       "      <td>0.786737</td>\n",
       "    </tr>\n",
       "    <tr>\n",
       "      <th>155</th>\n",
       "      <td>0.196757</td>\n",
       "      <td>1.612718</td>\n",
       "    </tr>\n",
       "    <tr>\n",
       "      <th>134</th>\n",
       "      <td>-0.711322</td>\n",
       "      <td>-0.965558</td>\n",
       "    </tr>\n",
       "    <tr>\n",
       "      <th>128</th>\n",
       "      <td>0.726953</td>\n",
       "      <td>-0.213836</td>\n",
       "    </tr>\n",
       "    <tr>\n",
       "      <th>24</th>\n",
       "      <td>0.416494</td>\n",
       "      <td>0.980938</td>\n",
       "    </tr>\n",
       "    <tr>\n",
       "      <th>167</th>\n",
       "      <td>1.352670</td>\n",
       "      <td>0.244563</td>\n",
       "    </tr>\n",
       "    <tr>\n",
       "      <th>125</th>\n",
       "      <td>-0.796910</td>\n",
       "      <td>-0.703836</td>\n",
       "    </tr>\n",
       "    <tr>\n",
       "      <th>97</th>\n",
       "      <td>-0.102999</td>\n",
       "      <td>-0.968198</td>\n",
       "    </tr>\n",
       "    <tr>\n",
       "      <th>78</th>\n",
       "      <td>-1.045807</td>\n",
       "      <td>2.430256</td>\n",
       "    </tr>\n",
       "  </tbody>\n",
       "</table>\n",
       "</div>"
      ],
      "text/plain": [
       "     (A_TAT,)  (V_TAT,)\n",
       "138 -0.552813 -1.526635\n",
       "36   1.251448 -0.626634\n",
       "169 -0.422184 -1.010526\n",
       "143 -0.169331 -0.658483\n",
       "126  0.880968  0.959403\n",
       "133  0.099374 -0.572700\n",
       "102 -0.876419  0.469733\n",
       "32  -0.532830 -0.588487\n",
       "120  0.268761  1.097057\n",
       "145 -0.654530  0.612091\n",
       "22   0.680545  1.560407\n",
       "115 -0.154599  0.630353\n",
       "163 -0.396631  0.156387\n",
       "119 -0.979518  1.756148\n",
       "85  -0.091684  3.075540\n",
       "111 -0.856917  2.400800\n",
       "109 -0.867184 -0.356468\n",
       "161  3.219439  2.390211\n",
       "51   2.030730 -1.087890\n",
       "45  -0.580271 -0.621298\n",
       "74  -1.341253 -1.060032\n",
       "66  -0.994716  0.996643\n",
       "122  1.149978  0.948374\n",
       "96  -0.783632 -0.982472\n",
       "13   1.401929 -0.524431\n",
       "166 -0.694873  1.156052\n",
       "86  -0.169477  1.709833\n",
       "178  0.844391  0.786737\n",
       "155  0.196757  1.612718\n",
       "134 -0.711322 -0.965558\n",
       "128  0.726953 -0.213836\n",
       "24   0.416494  0.980938\n",
       "167  1.352670  0.244563\n",
       "125 -0.796910 -0.703836\n",
       "97  -0.102999 -0.968198\n",
       "78  -1.045807  2.430256"
      ]
     },
     "execution_count": 65,
     "metadata": {},
     "output_type": "execute_result"
    }
   ],
   "source": [
    "(y_test-outMean)/outStd"
   ]
  },
  {
   "cell_type": "code",
   "execution_count": 66,
   "id": "84f6cfb2",
   "metadata": {},
   "outputs": [
    {
     "data": {
      "text/plain": [
       "(A_TAT,)    4727.863687\n",
       "(V_TAT,)    1321.990099\n",
       "dtype: float64"
      ]
     },
     "execution_count": 66,
     "metadata": {},
     "output_type": "execute_result"
    }
   ],
   "source": [
    "np.var(y_train)"
   ]
  },
  {
   "cell_type": "code",
   "execution_count": 67,
   "id": "4c773257",
   "metadata": {
    "scrolled": false
   },
   "outputs": [
    {
     "data": {
      "text/plain": [
       "array([[23.665706  , 20.1662698 , 22.88638616],\n",
       "       [ 6.81441349,  5.89142147,  7.03718353]])"
      ]
     },
     "execution_count": 67,
     "metadata": {},
     "output_type": "execute_result"
    }
   ],
   "source": [
    "MSE.T"
   ]
  },
  {
   "cell_type": "code",
   "execution_count": 68,
   "id": "33fd1e6f",
   "metadata": {
    "scrolled": true
   },
   "outputs": [
    {
     "data": {
      "text/plain": [
       "array([[0.99485969, 0.99561978, 0.99502896],\n",
       "       [0.99644184, 0.99692378, 0.99632552]])"
      ]
     },
     "execution_count": 68,
     "metadata": {},
     "output_type": "execute_result"
    }
   ],
   "source": [
    "(1-MSE/np.var(y_test).values).T"
   ]
  },
  {
   "cell_type": "code",
   "execution_count": 69,
   "id": "397efa9d",
   "metadata": {},
   "outputs": [],
   "source": [
    "CM_mean=GPEnsemblePredict(models,likelihoods,torch.tensor(((X_test-inputMean)/inputStd).values),outMean,outStd)[0].mean()\n",
    "CM_std=GPEnsemblePredict(models,likelihoods,torch.tensor(((X_test-inputMean)/inputStd).values),outMean,outStd)[0].std()"
   ]
  },
  {
   "cell_type": "code",
   "execution_count": 70,
   "id": "283c8db5",
   "metadata": {},
   "outputs": [
    {
     "data": {
      "text/plain": [
       "tensor(66.5295, grad_fn=<StdBackward0>)"
      ]
     },
     "execution_count": 70,
     "metadata": {},
     "output_type": "execute_result"
    }
   ],
   "source": [
    "CM_std"
   ]
  },
  {
   "cell_type": "code",
   "execution_count": 71,
   "id": "63ca686c",
   "metadata": {
    "scrolled": true
   },
   "outputs": [
    {
     "data": {
      "text/plain": [
       "tensor(100.)"
      ]
     },
     "execution_count": 71,
     "metadata": {},
     "output_type": "execute_result"
    }
   ],
   "source": [
    "100*sum(torch.FloatTensor.abs_(CM_mean-torch.tensor(y_test.values)[:,i])<2*CM_std)/36 "
   ]
  },
  {
   "cell_type": "code",
   "execution_count": 72,
   "id": "e3a79bf5",
   "metadata": {},
   "outputs": [
    {
     "data": {
      "text/plain": [
       "tensor([107.3936,  74.6703,  88.6283,  75.8283,  17.0033,  72.7093,  34.8073,\n",
       "         73.2833,  11.9983,  29.6313,   4.8487,  28.9673,  46.2003,  11.9657,\n",
       "         59.9377,  35.4047,  64.8473,  35.0197,  91.4412,  74.4763,  90.4283,\n",
       "         15.6493,  17.4043,  87.6083,  70.9543,   9.8533,  10.2817,  23.2813,\n",
       "          6.7507,  86.9933,  59.6613,  16.2203,  42.9943,  77.4773,  87.0893,\n",
       "         36.4757], dtype=torch.float64, grad_fn=<AbsBackward0>)"
      ]
     },
     "execution_count": 72,
     "metadata": {},
     "output_type": "execute_result"
    }
   ],
   "source": [
    "torch.FloatTensor.abs_(CM_mean-torch.tensor(y_test.values)[:,i])"
   ]
  },
  {
   "cell_type": "code",
   "execution_count": 73,
   "id": "f01b9bd8",
   "metadata": {},
   "outputs": [
    {
     "name": "stdout",
     "output_type": "stream",
     "text": [
      "tensor(66.5295, grad_fn=<StdBackward0>)\n",
      "tensor(66.7804, grad_fn=<StdBackward0>)\n",
      "tensor(66.5606, dtype=torch.float64, grad_fn=<StdBackward0>)\n",
      "58.33379363505046\n",
      "tensor(43.7268, grad_fn=<StdBackward0>)\n",
      "tensor(43.8729, grad_fn=<StdBackward0>)\n",
      "tensor(43.7705, dtype=torch.float64, grad_fn=<StdBackward0>)\n",
      "39.41406676577685\n"
     ]
    },
    {
     "name": "stderr",
     "output_type": "stream",
     "text": [
      "C:\\Users\\pmzcwl\\AppData\\Local\\Temp\\ipykernel_10596\\1106491507.py:22: UserWarning: To copy construct from a tensor, it is recommended to use sourceTensor.clone().detach() or sourceTensor.clone().detach().requires_grad_(True), rather than torch.tensor(sourceTensor).\n",
      "  ISE[2,i] =(100*sum(torch.FloatTensor.abs_(torch.tensor(LR_mean)-torch.tensor(y_test.values)[:,i])<2*LR_std)/36)\n",
      "C:\\Users\\pmzcwl\\AppData\\Local\\Temp\\ipykernel_10596\\1106491507.py:22: UserWarning: To copy construct from a tensor, it is recommended to use sourceTensor.clone().detach() or sourceTensor.clone().detach().requires_grad_(True), rather than torch.tensor(sourceTensor).\n",
      "  ISE[2,i] =(100*sum(torch.FloatTensor.abs_(torch.tensor(LR_mean)-torch.tensor(y_test.values)[:,i])<2*LR_std)/36)\n"
     ]
    }
   ],
   "source": [
    "ISE = np.zeros((4,2))\n",
    "for i in range(2):\n",
    "    CM_mean=GPEnsemblePredict(models,likelihoods,torch.tensor(((X_test-inputMean)/inputStd).values),outMean,outStd)[i].mean()\n",
    "    CM_std=GPEnsemblePredict(models,likelihoods,torch.tensor(((X_test-inputMean)/inputStd).values),outMean,outStd)[i].std()\n",
    "    \n",
    "    LM_mean=GPEnsemblePredict(modelsLR,likelihoodsLR,torch.tensor(((X_test-inputMean)/inputStd).values),outMean,outStd)[i].mean()\n",
    "    LM_std=GPEnsemblePredict(modelsLR,likelihoodsLR,torch.tensor(((X_test-inputMean)/inputStd).values),outMean,outStd)[i].std()\n",
    "    \n",
    "    LR_mean=LRGPEnsemblePredict(regression_model,modelsZM,likelihoodsZM,torch.tensor(((X_test-inputMean)/inputStd).values),outMean,outStd)[i].mean()\n",
    "    LR_std=LRGPEnsemblePredict(regression_model,modelsZM,likelihoodsZM,torch.tensor(((X_test-inputMean)/inputStd).values),outMean,outStd)[i].std()\n",
    "    \n",
    "    R_mean= (outStd[i]*(regression_model.predict(((X_test-inputMean)/inputStd))[:,i])+outMean[i]).mean()\n",
    "    R_std= (outStd[i]*(regression_model.predict(((X_test-inputMean)/inputStd))[:,i])+outMean[i]).std()\n",
    "    \n",
    "    print(CM_std)\n",
    "    print(LM_std)\n",
    "    print(LR_std)\n",
    "    print(R_std)\n",
    "    \n",
    "    ISE[0,i] =(100*sum(torch.FloatTensor.abs_(CM_mean-torch.tensor(y_test.values)[:,i])<2*CM_std)/36)\n",
    "    ISE[1,i] =(100*sum(torch.FloatTensor.abs_(LM_mean-torch.tensor(y_test.values)[:,i])<2*LM_std)/36)\n",
    "    ISE[2,i] =(100*sum(torch.FloatTensor.abs_(torch.tensor(LR_mean)-torch.tensor(y_test.values)[:,i])<2*LR_std)/36)\n",
    "    ISE[3,i] =(100*sum(torch.FloatTensor.abs_(torch.tensor(R_mean)-torch.tensor(y_test.values)[:,i])<2*R_std)/36)\n",
    "   "
   ]
  },
  {
   "cell_type": "code",
   "execution_count": 74,
   "id": "1d444d1e",
   "metadata": {},
   "outputs": [
    {
     "data": {
      "text/plain": [
       "array([[94.44444275, 94.44444275, 94.44444275, 94.44444275],\n",
       "       [97.22222137, 97.22222137, 97.22222137, 97.22222137]])"
      ]
     },
     "execution_count": 74,
     "metadata": {},
     "output_type": "execute_result"
    }
   ],
   "source": [
    "ISE.T"
   ]
  },
  {
   "cell_type": "code",
   "execution_count": 77,
   "id": "240a3ce5",
   "metadata": {},
   "outputs": [
    {
     "data": {
      "text/plain": [
       "tensor(203.5222, grad_fn=<MeanBackward0>)"
      ]
     },
     "execution_count": 77,
     "metadata": {},
     "output_type": "execute_result"
    }
   ],
   "source": [
    "CM_mean"
   ]
  },
  {
   "cell_type": "code",
   "execution_count": null,
   "id": "1375e674",
   "metadata": {},
   "outputs": [],
   "source": []
  },
  {
   "cell_type": "code",
   "execution_count": 103,
   "id": "f43bb8b4",
   "metadata": {},
   "outputs": [],
   "source": [
    "x_coord=np.linspace(1,36,36)"
   ]
  },
  {
   "cell_type": "code",
   "execution_count": 104,
   "id": "899cdc5d",
   "metadata": {},
   "outputs": [
    {
     "data": {
      "text/plain": [
       "array([ 1.,  2.,  3.,  4.,  5.,  6.,  7.,  8.,  9., 10., 11., 12., 13.,\n",
       "       14., 15., 16., 17., 18., 19., 20., 21., 22., 23., 24., 25., 26.,\n",
       "       27., 28., 29., 30., 31., 32., 33., 34., 35., 36.])"
      ]
     },
     "execution_count": 104,
     "metadata": {},
     "output_type": "execute_result"
    }
   ],
   "source": [
    "x_coord"
   ]
  },
  {
   "cell_type": "code",
   "execution_count": 156,
   "id": "3d110731",
   "metadata": {
    "scrolled": true
   },
   "outputs": [
    {
     "data": {
      "text/plain": [
       "[<matplotlib.lines.Line2D at 0x14bab0b0880>]"
      ]
     },
     "execution_count": 156,
     "metadata": {},
     "output_type": "execute_result"
    },
    {
     "data": {
      "image/png": "[encoded data removed]",
      "text/plain": [
       "<Figure size 640x480 with 1 Axes>"
      ]
     },
     "metadata": {},
     "output_type": "display_data"
    }
   ],
   "source": [
    "plt.plot(x_coord,((GPEnsemblePredict(models,likelihoods,torch.tensor(((X_test-inputMean)/inputStd).values),outMean,outStd)[0])).tolist(),'o')\n",
    "plt.plot(x_coord,y_test.values[:,0],'o')"
   ]
  },
  {
   "cell_type": "code",
   "execution_count": 157,
   "id": "058fb5e0",
   "metadata": {
    "scrolled": false
   },
   "outputs": [
    {
     "data": {
      "text/plain": [
       "[<matplotlib.lines.Line2D at 0x14bab10d5d0>]"
      ]
     },
     "execution_count": 157,
     "metadata": {},
     "output_type": "execute_result"
    },
    {
     "data": {
      "image/png": "[encoded data removed]",
      "text/plain": [
       "<Figure size 640x480 with 1 Axes>"
      ]
     },
     "metadata": {},
     "output_type": "display_data"
    }
   ],
   "source": [
    "plt.plot(x_coord,((GPEnsemblePredict(modelsLR,likelihoodsLR,torch.tensor(((X_test-inputMean)/inputStd).values),outMean,outStd)[0])).tolist(),'o')\n",
    "plt.plot(x_coord,y_test.values[:,0],'o')"
   ]
  },
  {
   "cell_type": "code",
   "execution_count": 158,
   "id": "d55cc904",
   "metadata": {},
   "outputs": [
    {
     "data": {
      "text/html": [
       "<div>\n",
       "<style scoped>\n",
       "    .dataframe tbody tr th:only-of-type {\n",
       "        vertical-align: middle;\n",
       "    }\n",
       "\n",
       "    .dataframe tbody tr th {\n",
       "        vertical-align: top;\n",
       "    }\n",
       "\n",
       "    .dataframe thead th {\n",
       "        text-align: right;\n",
       "    }\n",
       "</style>\n",
       "<table border=\"1\" class=\"dataframe\">\n",
       "  <thead>\n",
       "    <tr style=\"text-align: right;\">\n",
       "      <th></th>\n",
       "      <th>(A_TAT,)</th>\n",
       "      <th>(V_TAT,)</th>\n",
       "    </tr>\n",
       "  </thead>\n",
       "  <tbody>\n",
       "    <tr>\n",
       "      <th>0</th>\n",
       "      <td>127.156</td>\n",
       "      <td>227.8230</td>\n",
       "    </tr>\n",
       "    <tr>\n",
       "      <th>1</th>\n",
       "      <td>251.071</td>\n",
       "      <td>188.8540</td>\n",
       "    </tr>\n",
       "    <tr>\n",
       "      <th>2</th>\n",
       "      <td>163.448</td>\n",
       "      <td>164.8120</td>\n",
       "    </tr>\n",
       "    <tr>\n",
       "      <th>3</th>\n",
       "      <td>110.207</td>\n",
       "      <td>110.6940</td>\n",
       "    </tr>\n",
       "    <tr>\n",
       "      <th>4</th>\n",
       "      <td>140.815</td>\n",
       "      <td>136.1450</td>\n",
       "    </tr>\n",
       "    <tr>\n",
       "      <th>...</th>\n",
       "      <td>...</td>\n",
       "      <td>...</td>\n",
       "    </tr>\n",
       "    <tr>\n",
       "      <th>175</th>\n",
       "      <td>321.082</td>\n",
       "      <td>94.4139</td>\n",
       "    </tr>\n",
       "    <tr>\n",
       "      <th>176</th>\n",
       "      <td>141.936</td>\n",
       "      <td>190.0140</td>\n",
       "    </tr>\n",
       "    <tr>\n",
       "      <th>177</th>\n",
       "      <td>236.662</td>\n",
       "      <td>224.8330</td>\n",
       "    </tr>\n",
       "    <tr>\n",
       "      <th>178</th>\n",
       "      <td>248.667</td>\n",
       "      <td>167.9450</td>\n",
       "    </tr>\n",
       "    <tr>\n",
       "      <th>179</th>\n",
       "      <td>118.693</td>\n",
       "      <td>115.3070</td>\n",
       "    </tr>\n",
       "  </tbody>\n",
       "</table>\n",
       "<p>180 rows × 2 columns</p>\n",
       "</div>"
      ],
      "text/plain": [
       "     (A_TAT,)  (V_TAT,)\n",
       "0     127.156  227.8230\n",
       "1     251.071  188.8540\n",
       "2     163.448  164.8120\n",
       "3     110.207  110.6940\n",
       "4     140.815  136.1450\n",
       "..        ...       ...\n",
       "175   321.082   94.4139\n",
       "176   141.936  190.0140\n",
       "177   236.662  224.8330\n",
       "178   248.667  167.9450\n",
       "179   118.693  115.3070\n",
       "\n",
       "[180 rows x 2 columns]"
      ]
     },
     "execution_count": 158,
     "metadata": {},
     "output_type": "execute_result"
    }
   ],
   "source": [
    "y"
   ]
  },
  {
   "cell_type": "code",
   "execution_count": 159,
   "id": "3e3ac4f0",
   "metadata": {
    "scrolled": true
   },
   "outputs": [
    {
     "data": {
      "text/plain": [
       "array([[6.77523867, 3.09694647, 6.5655962 ],\n",
       "       [2.01242776, 0.92341371, 1.30493526]])"
      ]
     },
     "execution_count": 159,
     "metadata": {},
     "output_type": "execute_result"
    }
   ],
   "source": [
    "MSE.T"
   ]
  },
  {
   "cell_type": "code",
   "execution_count": 160,
   "id": "39566321",
   "metadata": {
    "scrolled": true
   },
   "outputs": [
    {
     "data": {
      "text/plain": [
       "(tensor([[232.3740, 136.0810, 109.7010, 174.1980, 145.9460, 257.4710, 251.0710,\n",
       "          263.6110, 132.4430, 253.4790, 238.0580, 269.6790, 102.4210, 251.1820,\n",
       "          243.3990, 293.9230, 200.8450, 200.1320, 307.7590, 140.8150, 143.6020,\n",
       "          141.6970, 131.8700, 236.3190, 181.9400, 284.2150, 194.9670, 116.6180,\n",
       "          275.1840, 110.2070, 120.4670, 262.3260, 256.6380, 328.2840, 200.1360,\n",
       "          172.4190]], dtype=torch.float64),\n",
       " tensor([[161.2020, 146.8570, 237.8320, 112.1920,  88.5843, 132.2110, 188.8540,\n",
       "          122.0900, 148.1340, 124.4890, 107.3120, 173.8220, 123.1670, 174.2230,\n",
       "          119.5790, 103.7740, 104.4230, 101.7830, 158.2120, 136.1450, 162.0710,\n",
       "          104.2330, 185.6180, 113.4480, 127.5390, 128.2440,  93.0340, 189.7530,\n",
       "          121.1850, 110.6940,  82.2549, 132.2110, 178.0800, 167.1690, 146.3500,\n",
       "          106.4440]], dtype=torch.float64))"
      ]
     },
     "execution_count": 160,
     "metadata": {},
     "output_type": "execute_result"
    }
   ],
   "source": [
    "torch.split(torch.tensor(y_test.values.T),1,dim=0)"
   ]
  },
  {
   "cell_type": "code",
   "execution_count": 161,
   "id": "c5c03d2e",
   "metadata": {
    "scrolled": true
   },
   "outputs": [
    {
     "data": {
      "text/plain": [
       "[tensor([228.0725, 134.5347, 108.1762, 174.5548, 145.6408, 257.6647, 249.3268,\n",
       "         264.2424, 133.1635, 253.9243, 237.2465, 274.2481, 102.4297, 247.4258,\n",
       "         239.2447, 290.9100, 200.3438, 198.7774, 308.5836, 140.4084, 142.7583,\n",
       "         141.8135, 130.9326, 236.3590, 182.6250, 283.2758, 195.2262, 116.2642,\n",
       "         276.3633, 108.8368, 121.1678, 260.2458, 254.3841, 328.1633, 198.5968,\n",
       "         172.9118], grad_fn=<AddBackward0>),\n",
       " tensor([161.1105, 147.3033, 237.6671, 111.9583,  87.5186, 130.2831, 190.1161,\n",
       "         121.9419, 148.7964, 123.4444, 108.2156, 174.7770, 122.0393, 174.6756,\n",
       "         119.1631, 103.8213, 104.4577, 101.1165, 158.9537, 136.4330, 162.6060,\n",
       "         104.0854, 183.1503, 113.9274, 127.3943, 127.4981,  93.0463, 189.4417,\n",
       "         121.5516, 113.3622,  80.6270, 132.0537, 176.4818, 167.7823, 146.1184,\n",
       "         106.9763], grad_fn=<AddBackward0>)]"
      ]
     },
     "execution_count": 161,
     "metadata": {},
     "output_type": "execute_result"
    }
   ],
   "source": [
    "GPEnsemblePredict(modelsLR,likelihoodsLR,torch.tensor(((X_test-inputMean)/inputStd).values),outMean,outStd)"
   ]
  },
  {
   "cell_type": "code",
   "execution_count": 162,
   "id": "cba3a690",
   "metadata": {
    "scrolled": true
   },
   "outputs": [
    {
     "data": {
      "text/plain": [
       "[tensor([[226.8208, 134.4579, 108.8654, 173.9575, 146.0838, 257.7415, 249.8304,\n",
       "          264.2484, 133.0002, 254.1894, 237.6765, 274.4265, 102.5071, 244.3748,\n",
       "          235.2921, 290.3613, 199.9911, 199.0793, 307.3518, 140.4182, 142.5207,\n",
       "          141.5482, 131.1738, 233.0501, 182.4045, 282.4176, 194.8222, 115.5600,\n",
       "          276.6222, 108.5086, 121.3982, 259.2599, 253.4481, 326.3896, 198.3210,\n",
       "          173.0942]], dtype=torch.float64, grad_fn=<AddBackward0>),\n",
       " tensor([[160.3166, 147.4448, 237.4199, 112.3579,  87.3981, 129.8752, 187.2737,\n",
       "          121.5061, 148.8175, 123.3226, 107.5177, 174.4551, 121.5513, 174.3898,\n",
       "          119.7258, 103.8646, 104.4672, 102.2637, 156.2610, 135.8787, 162.8987,\n",
       "          104.4298, 183.0562, 113.9255, 127.6618, 127.5584,  93.0303, 189.0387,\n",
       "          121.1605, 112.7072,  80.6886, 131.7951, 174.7289, 166.8961, 145.9119,\n",
       "          106.9073]], dtype=torch.float64, grad_fn=<AddBackward0>)]"
      ]
     },
     "execution_count": 162,
     "metadata": {},
     "output_type": "execute_result"
    }
   ],
   "source": [
    "LRGPEnsemblePredict(regression_model, modelsZM,likelihoodsZM,torch.tensor(((X_test-inputMean)/inputStd).values),outMean,outStd)"
   ]
  },
  {
   "cell_type": "code",
   "execution_count": 417,
   "id": "0a3b7bfa",
   "metadata": {},
   "outputs": [],
   "source": [
    "inputNorm,inputMean,inputStd = normalise(X)\n",
    "\n",
    "outputNorm,outMean,outStd=normalise(y)"
   ]
  },
  {
   "cell_type": "code",
   "execution_count": 418,
   "id": "050c41a3",
   "metadata": {
    "scrolled": false
   },
   "outputs": [
    {
     "name": "stdout",
     "output_type": "stream",
     "text": [
      "0\n",
      "1\n"
     ]
    }
   ],
   "source": [
    "models, likelihoods = GPEnsemble(inputNorm,outputNorm)"
   ]
  },
  {
   "cell_type": "code",
   "execution_count": 419,
   "id": "c5579f1d",
   "metadata": {
    "scrolled": false
   },
   "outputs": [
    {
     "name": "stdout",
     "output_type": "stream",
     "text": [
      "0\n",
      "1\n"
     ]
    }
   ],
   "source": [
    "modelsLR, likelihoodsLR = GPEnsemble(inputNorm,outputNorm,meanFunc=\"linear\")"
   ]
  },
  {
   "cell_type": "code",
   "execution_count": 420,
   "id": "9888f455",
   "metadata": {},
   "outputs": [
    {
     "name": "stdout",
     "output_type": "stream",
     "text": [
      "0\n",
      "1\n"
     ]
    }
   ],
   "source": [
    "regression_model, modelsZM, likelihoodsZM=LRGPEnsemble(inputNorm,outputNorm)"
   ]
  },
  {
   "cell_type": "code",
   "execution_count": null,
   "id": "258e6ae5",
   "metadata": {},
   "outputs": [],
   "source": []
  },
  {
   "cell_type": "code",
   "execution_count": 421,
   "id": "4321ac9b",
   "metadata": {},
   "outputs": [],
   "source": [
    "nMod=outputNorm.shape[1]\n",
    "nInput = inputNorm.shape[1]"
   ]
  },
  {
   "cell_type": "code",
   "execution_count": 422,
   "id": "b5d4515d",
   "metadata": {},
   "outputs": [
    {
     "name": "stdout",
     "output_type": "stream",
     "text": [
      "[0.380173, 0.798883]\n",
      "[0.200114, 0.499215]\n",
      "[1.2811, 8.39681]\n",
      "[0.300285, 1.02928]\n",
      "[0.201206, 0.499887]\n",
      "[1.02207, 5.67575]\n"
     ]
    }
   ],
   "source": [
    "boundsMaxMin = []\n",
    "for i in range(nDim):\n",
    "    boundsMaxMin.append([np.min(X_train.iloc[:,i]),np.max(X_train.iloc[:,i])])\n",
    "    print(boundsMaxMin[i])"
   ]
  },
  {
   "cell_type": "code",
   "execution_count": 423,
   "id": "62272c20",
   "metadata": {},
   "outputs": [
    {
     "name": "stdout",
     "output_type": "stream",
     "text": [
      "[-1.7299006611692156, 1.7225465552907784]\n",
      "[-1.7290789003370721, 1.7217277414801047]\n",
      "[-1.7253041777413964, 1.7297942760822342]\n",
      "[-1.7307000363223575, 1.7289863698084669]\n",
      "[-1.719926276162042, 1.7321604339951135]\n",
      "[-1.7149833104147123, 1.7142073787228762]\n"
     ]
    }
   ],
   "source": [
    "boundsMaxMin = []\n",
    "for i in range(nDim):\n",
    "    boundsMaxMin.append([np.min(inputNorm.iloc[:,i]),np.max(inputNorm.iloc[:,i])])\n",
    "    print(boundsMaxMin[i])"
   ]
  },
  {
   "cell_type": "code",
   "execution_count": 424,
   "id": "31d0cacb",
   "metadata": {
    "scrolled": true
   },
   "outputs": [
    {
     "name": "stderr",
     "output_type": "stream",
     "text": [
      "C:\\Users\\pmzcwl\\AppData\\Local\\Temp\\ipykernel_12632\\491133695.py:24: DeprecationWarning: `salib.sample.saltelli` will be removed in SALib 1.5. Please use `salib.sample.sobol`\n",
      "  param_values = saltelli.sample(problem, 4096)\n"
     ]
    }
   ],
   "source": [
    "##### from SALib.sample import saltelli\n",
    "from SALib.sample import saltelli\n",
    "from SALib.analyze import sobol\n",
    "from SALib.test_functions import Ishigami\n",
    "import numpy as np\n",
    "\n",
    "# Define the model inputs\n",
    "problem = {\n",
    "    'num_vars': nInput,\n",
    "    'names': x_labels,\n",
    "    'bounds': boundsMaxMin\n",
    "    #'bounds': [[-1, 1],\n",
    "     #          [-1, 1],\n",
    "      #         [-1, 1],\n",
    "       #        [-1, 1],\n",
    "        #       [-1, 1],\n",
    "         #      [-1, 1],\n",
    "          #     [-1, 1],\n",
    "           #    [-1, 1],\n",
    "            #   [-1,1]]\n",
    "}\n",
    "\n",
    "# Generate samples\n",
    "param_values = saltelli.sample(problem, 4096)\n",
    "\n",
    "data1 = torch.tensor(param_values)\n",
    "Ymean=GPEnsemblePredict(models,likelihoods,data1,outMean,outStd)\n",
    "YmeanLR = GPEnsemblePredict(modelsLR,likelihoodsLR,data1,outMean,outStd)\n",
    "# Run model (example)\n",
    "#outMean = np.mean(modelOutputOrig,axis=0)\n",
    "#outStd = np.std(modelOutputOrig,axis=0)\n",
    "#nMod = modelOutputOrig.shape[1]\n",
    "#Ymean=[]\n",
    "#for j in range(nMod):\n",
    "#    models[j].eval()\n",
    "#    #Ymean.append(np.zeros([param_values.shape[0]]))\n",
    "#    Ymean.append(outStd[j]*models[j](torch.tensor([np.hstack((param_values,np.zeros((param_values.shape[0],9))))])).mean+outMean[j])\n",
    "\n",
    "    "
   ]
  },
  {
   "cell_type": "code",
   "execution_count": 425,
   "id": "cd51fe12",
   "metadata": {},
   "outputs": [
    {
     "data": {
      "text/plain": [
       "torch.Size([57344, 6])"
      ]
     },
     "execution_count": 425,
     "metadata": {},
     "output_type": "execute_result"
    }
   ],
   "source": [
    "data1.size()"
   ]
  },
  {
   "cell_type": "code",
   "execution_count": 426,
   "id": "4d699d3b",
   "metadata": {
    "scrolled": true
   },
   "outputs": [
    {
     "name": "stdout",
     "output_type": "stream",
     "text": [
      "                        ST   ST_conf\n",
      "(CV_ventricles,)  0.000075  0.000014\n",
      "(k_ventricles,)   0.000030  0.000003\n",
      "(k_FEC,)          0.000034  0.000004\n",
      "(CV_atria,)       0.938864  0.036185\n",
      "(k_atria,)        0.023414  0.001218\n",
      "(k_BB,)           0.045284  0.002727\n",
      "                        S1   S1_conf\n",
      "(CV_ventricles,) -0.000011  0.000340\n",
      "(k_ventricles,)   0.000088  0.000230\n",
      "(k_FEC,)          0.000054  0.000236\n",
      "(CV_atria,)       0.930607  0.044612\n",
      "(k_atria,)        0.021079  0.006784\n",
      "(k_BB,)           0.040028  0.008847\n",
      "Empty DataFrame\n",
      "Columns: [S2, S2_conf]\n",
      "Index: []\n",
      "                        ST   ST_conf\n",
      "(CV_ventricles,)  0.628073  0.028360\n",
      "(k_ventricles,)   0.076157  0.003915\n",
      "(k_FEC,)          0.312103  0.017078\n",
      "(CV_atria,)       0.000075  0.000006\n",
      "(k_atria,)        0.000105  0.000010\n",
      "(k_BB,)           0.000080  0.000008\n",
      "                        S1   S1_conf\n",
      "(CV_ventricles,)  0.612403  0.035002\n",
      "(k_ventricles,)   0.072224  0.012516\n",
      "(k_FEC,)          0.298488  0.026896\n",
      "(CV_atria,)       0.000002  0.000361\n",
      "(k_atria,)       -0.000029  0.000415\n",
      "(k_BB,)           0.000221  0.000346\n",
      "Empty DataFrame\n",
      "Columns: [S2, S2_conf]\n",
      "Index: []\n"
     ]
    }
   ],
   "source": [
    "Si = []\n",
    "for i in range(nMod):\n",
    "    Si.append(sobol.analyze(problem, Ymean[i].detach().numpy(), print_to_console=True))"
   ]
  },
  {
   "cell_type": "code",
   "execution_count": 427,
   "id": "4117f24e",
   "metadata": {},
   "outputs": [
    {
     "name": "stdout",
     "output_type": "stream",
     "text": [
      "                        ST       ST_conf\n",
      "(CV_ventricles,)  0.000045  4.138406e-06\n",
      "(k_ventricles,)   0.000010  6.964893e-07\n",
      "(k_FEC,)          0.000011  8.939184e-07\n",
      "(CV_atria,)       0.938477  3.175822e-02\n",
      "(k_atria,)        0.023277  1.332086e-03\n",
      "(k_BB,)           0.045768  2.536671e-03\n",
      "                        S1   S1_conf\n",
      "(CV_ventricles,)  0.000013  0.000278\n",
      "(k_ventricles,)   0.000015  0.000127\n",
      "(k_FEC,)          0.000007  0.000134\n",
      "(CV_atria,)       0.930130  0.040867\n",
      "(k_atria,)        0.021391  0.007120\n",
      "(k_BB,)           0.040401  0.010642\n",
      "Empty DataFrame\n",
      "Columns: [S2, S2_conf]\n",
      "Index: []\n",
      "                        ST   ST_conf\n",
      "(CV_ventricles,)  0.627238  0.026080\n",
      "(k_ventricles,)   0.076460  0.004233\n",
      "(k_FEC,)          0.312495  0.013470\n",
      "(CV_atria,)       0.000093  0.000009\n",
      "(k_atria,)        0.000118  0.000013\n",
      "(k_BB,)           0.000061  0.000007\n",
      "                        S1   S1_conf\n",
      "(CV_ventricles,)  0.611757  0.032679\n",
      "(k_ventricles,)   0.072558  0.013133\n",
      "(k_FEC,)          0.299079  0.026868\n",
      "(CV_atria,)       0.000002  0.000379\n",
      "(k_atria,)        0.000037  0.000433\n",
      "(k_BB,)           0.000092  0.000307\n",
      "Empty DataFrame\n",
      "Columns: [S2, S2_conf]\n",
      "Index: []\n"
     ]
    }
   ],
   "source": [
    "SiLR = []\n",
    "for i in range(nMod):\n",
    "    SiLR.append(sobol.analyze(problem, YmeanLR[i].detach().numpy(), print_to_console=True))"
   ]
  },
  {
   "cell_type": "markdown",
   "id": "db77652c",
   "metadata": {},
   "source": [
    "# Model 2: Linear regression + Zero Mean GP"
   ]
  },
  {
   "cell_type": "code",
   "execution_count": null,
   "id": "65011443",
   "metadata": {},
   "outputs": [],
   "source": []
  },
  {
   "cell_type": "code",
   "execution_count": 428,
   "id": "c4994a5d",
   "metadata": {
    "scrolled": true
   },
   "outputs": [],
   "source": [
    "\n",
    "\n",
    "# generate random data-set\n",
    "\n",
    "# sckit-learn implementation\n",
    "\n",
    "# Model initialization\n",
    "#regression_model = LinearRegression()\n",
    "# Fit the data(train the model)\n",
    "#regression_model.fit(modeWeights, modelOutput)\n",
    "# Predict\n",
    "#y_predicted = regression_model.predict(modeWeights)\n",
    "\n",
    "# model evaluation\n",
    "#rmse = mean_squared_error(modelOutput, y_predicted)\n",
    "#r2 = r2_score(modelOutput, y_predicted)\n",
    "\n",
    "# printing values\n",
    "#print('Slope:' ,regression_model.coef_)\n",
    "#print('Intercept:', regression_model.intercept_)\n",
    "#print('Root mean squared error: ', rmse)\n",
    "#print('R2 score: ', r2)\n"
   ]
  },
  {
   "cell_type": "code",
   "execution_count": 429,
   "id": "472e06ff",
   "metadata": {},
   "outputs": [],
   "source": [
    "#modelOutputAdjusted = modelOutput - y_predicted"
   ]
  },
  {
   "cell_type": "code",
   "execution_count": 430,
   "id": "3d00913f",
   "metadata": {},
   "outputs": [],
   "source": [
    "#modelsZM, likelihoodsZM = GPEnsemble(modeWeights,modelOutputAdjusted,zeroMean=True)"
   ]
  },
  {
   "cell_type": "code",
   "execution_count": 431,
   "id": "2fa8d79c",
   "metadata": {
    "scrolled": false
   },
   "outputs": [],
   "source": [
    "YmeanSens = LRGPEnsemblePredict(regression_model,modelsZM,likelihoodsZM,data1,outMean,outStd)"
   ]
  },
  {
   "cell_type": "code",
   "execution_count": 432,
   "id": "045e2be1",
   "metadata": {
    "scrolled": true
   },
   "outputs": [
    {
     "name": "stdout",
     "output_type": "stream",
     "text": [
      "                        ST   ST_conf\n",
      "(CV_ventricles,)  0.000051  0.000007\n",
      "(k_ventricles,)   0.000016  0.000001\n",
      "(k_FEC,)          0.000016  0.000001\n",
      "(CV_atria,)       0.939189  0.032891\n",
      "(k_atria,)        0.023155  0.001268\n",
      "(k_BB,)           0.045204  0.002843\n",
      "                        S1   S1_conf\n",
      "(CV_ventricles,)  0.000009  0.000317\n",
      "(k_ventricles,)   0.000045  0.000192\n",
      "(k_FEC,)          0.000025  0.000185\n",
      "(CV_atria,)       0.930988  0.038549\n",
      "(k_atria,)        0.020994  0.006453\n",
      "(k_BB,)           0.039896  0.011688\n",
      "Empty DataFrame\n",
      "Columns: [S2, S2_conf]\n",
      "Index: []\n",
      "                        ST   ST_conf\n",
      "(CV_ventricles,)  0.627434  0.026596\n",
      "(k_ventricles,)   0.076617  0.004371\n",
      "(k_FEC,)          0.312188  0.014778\n",
      "(CV_atria,)       0.000060  0.000006\n",
      "(k_atria,)        0.000101  0.000010\n",
      "(k_BB,)           0.000050  0.000005\n",
      "                        S1   S1_conf\n",
      "(CV_ventricles,)  0.611835  0.030275\n",
      "(k_ventricles,)   0.072694  0.012511\n",
      "(k_FEC,)          0.298665  0.027450\n",
      "(CV_atria,)      -0.000012  0.000331\n",
      "(k_atria,)       -0.000013  0.000470\n",
      "(k_BB,)           0.000161  0.000321\n",
      "Empty DataFrame\n",
      "Columns: [S2, S2_conf]\n",
      "Index: []\n"
     ]
    }
   ],
   "source": [
    "SiZM = []\n",
    "for i in range(nMod):\n",
    "    SiZM.append(sobol.analyze(problem, YmeanSens[i].detach().numpy().squeeze(), print_to_console=True))"
   ]
  },
  {
   "cell_type": "code",
   "execution_count": 433,
   "id": "d8c5083b",
   "metadata": {},
   "outputs": [],
   "source": [
    "SiZM_first=np.zeros((nInput,nMod))\n",
    "SiZM_total=np.zeros((nInput,nMod))\n",
    "Si_first=np.zeros((nInput,nMod))\n",
    "Si_total=np.zeros((nInput,nMod))\n",
    "SiLR_first=np.zeros((nInput,nMod))\n",
    "SiLR_total=np.zeros((nInput,nMod))\n",
    "for i in range(nMod):\n",
    "    total_Si, first_Si, second_Si = SiZM[i].to_df()\n",
    "    SiZM_first[:,i] =  first_Si.iloc[:,0]\n",
    "    SiZM_total[:,i] =  total_Si.iloc[:,0]\n",
    "    \n",
    "    total_Si, first_Si, second_Si = Si[i].to_df()\n",
    "    Si_first[:,i] =  first_Si.iloc[:,0]\n",
    "    Si_total[:,i] =  total_Si.iloc[:,0]\n",
    "    \n",
    "    total_Si, first_Si, second_Si = SiLR[i].to_df()\n",
    "    SiLR_first[:,i] =  first_Si.iloc[:,0]\n",
    "    SiLR_total[:,i] =  total_Si.iloc[:,0]"
   ]
  },
  {
   "cell_type": "markdown",
   "id": "49359da0",
   "metadata": {},
   "source": [
    "## Linear Regression + GP"
   ]
  },
  {
   "cell_type": "code",
   "execution_count": 434,
   "id": "1e0f5336",
   "metadata": {
    "scrolled": false
   },
   "outputs": [
    {
     "data": {
      "text/plain": [
       "<matplotlib.colorbar.Colorbar at 0x14bee4b7460>"
      ]
     },
     "execution_count": 434,
     "metadata": {},
     "output_type": "execute_result"
    },
    {
     "data": {
      "image/png": "[encoded data removed]",
      "text/plain": [
       "<Figure size 640x480 with 2 Axes>"
      ]
     },
     "metadata": {},
     "output_type": "display_data"
    }
   ],
   "source": [
    "inputs = x_labels.values.tolist()\n",
    "outputs = y_labels.values.tolist()\n",
    "fig, ax = plt.subplots()\n",
    "im = ax.imshow(SiZM_first.T,cmap='magma_r',vmin=0,vmax=1)\n",
    "\n",
    "ax.set_yticks(np.arange(len(outputs)), labels=outputs)\n",
    "ax.set_xticks(np.arange(len(inputs)), labels=inputs)\n",
    "plt.setp(ax.get_xticklabels(), rotation=60, ha=\"right\",\n",
    "         rotation_mode=\"anchor\");\n",
    "\n",
    "plt.colorbar(im,fraction=0.015, pad=0.04)"
   ]
  },
  {
   "cell_type": "code",
   "execution_count": 435,
   "id": "2cee066e",
   "metadata": {
    "scrolled": true
   },
   "outputs": [
    {
     "data": {
      "text/plain": [
       "array([8.67366537e-06, 4.52151198e-05, 2.46551138e-05, 9.30988411e-01,\n",
       "       2.09936596e-02, 3.98963884e-02])"
      ]
     },
     "execution_count": 435,
     "metadata": {},
     "output_type": "execute_result"
    }
   ],
   "source": [
    "SiZM_first[:,0]"
   ]
  },
  {
   "cell_type": "code",
   "execution_count": 178,
   "id": "8e79bc36",
   "metadata": {
    "scrolled": true
   },
   "outputs": [
    {
     "data": {
      "image/png": "[encoded data removed]",
      "text/plain": [
       "<Figure size 640x480 with 1 Axes>"
      ]
     },
     "metadata": {},
     "output_type": "display_data"
    }
   ],
   "source": [
    "fig, ax = plt.subplots()\n",
    "ax.pie(SiZM_first[:,0]/np.max(SiZM_first[:,0]), labels=inputs);\n"
   ]
  },
  {
   "cell_type": "code",
   "execution_count": 179,
   "id": "312245c9",
   "metadata": {
    "scrolled": true
   },
   "outputs": [
    {
     "data": {
      "text/plain": [
       "<matplotlib.colorbar.Colorbar at 0x14baae22950>"
      ]
     },
     "execution_count": 179,
     "metadata": {},
     "output_type": "execute_result"
    },
    {
     "data": {
      "image/png": "[encoded data removed]",
      "text/plain": [
       "<Figure size 640x480 with 2 Axes>"
      ]
     },
     "metadata": {},
     "output_type": "display_data"
    }
   ],
   "source": [
    "fig, ax = plt.subplots()\n",
    "im = ax.imshow(SiZM_total.T,cmap='magma_r',vmin=0,vmax=1)\n",
    "\n",
    "ax.set_yticks(np.arange(len(outputs)), labels=outputs)\n",
    "ax.set_xticks(np.arange(len(inputs)), labels=inputs)\n",
    "plt.setp(ax.get_xticklabels(), rotation=60, ha=\"right\",\n",
    "         rotation_mode=\"anchor\");\n",
    "plt.colorbar(im,fraction=0.015, pad=0.04)"
   ]
  },
  {
   "cell_type": "markdown",
   "id": "9cebddcc",
   "metadata": {},
   "source": [
    "## Basic GP"
   ]
  },
  {
   "cell_type": "code",
   "execution_count": 180,
   "id": "f1726932",
   "metadata": {},
   "outputs": [
    {
     "data": {
      "text/plain": [
       "0.9416977140591901"
      ]
     },
     "execution_count": 180,
     "metadata": {},
     "output_type": "execute_result"
    }
   ],
   "source": [
    "np.max(SiZM_total)"
   ]
  },
  {
   "cell_type": "code",
   "execution_count": 181,
   "id": "65ce8e27",
   "metadata": {
    "scrolled": false
   },
   "outputs": [
    {
     "data": {
      "text/plain": [
       "<matplotlib.colorbar.Colorbar at 0x14baaebf9d0>"
      ]
     },
     "execution_count": 181,
     "metadata": {},
     "output_type": "execute_result"
    },
    {
     "data": {
      "image/png": "[encoded data removed]",
      "text/plain": [
       "<Figure size 640x480 with 2 Axes>"
      ]
     },
     "metadata": {},
     "output_type": "display_data"
    }
   ],
   "source": [
    "fig, ax = plt.subplots()\n",
    "im = ax.imshow(Si_total.T,cmap='magma_r',vmin=0,vmax=1)\n",
    "\n",
    "ax.set_yticks(np.arange(len(outputs)), labels=outputs)\n",
    "ax.set_xticks(np.arange(len(inputs)), labels=inputs)\n",
    "plt.setp(ax.get_xticklabels(), rotation=60, ha=\"right\",\n",
    "         rotation_mode=\"anchor\");\n",
    "\n",
    "plt.colorbar(im,fraction=0.015, pad=0.04)"
   ]
  },
  {
   "cell_type": "code",
   "execution_count": 436,
   "id": "4d763185",
   "metadata": {},
   "outputs": [
    {
     "data": {
      "text/plain": [
       "array([-1.07773428e-05,  8.75360603e-05,  5.38142588e-05,  9.30606615e-01,\n",
       "        2.10794013e-02,  4.00277766e-02])"
      ]
     },
     "execution_count": 436,
     "metadata": {},
     "output_type": "execute_result"
    }
   ],
   "source": [
    "Si_first[:,0]"
   ]
  },
  {
   "cell_type": "code",
   "execution_count": 437,
   "id": "9102d996",
   "metadata": {
    "scrolled": false
   },
   "outputs": [
    {
     "ename": "ValueError",
     "evalue": "Wedge sizes 'x' must be non negative values",
     "output_type": "error",
     "traceback": [
      "\u001b[1;31m---------------------------------------------------------------------------\u001b[0m",
      "\u001b[1;31mValueError\u001b[0m                                Traceback (most recent call last)",
      "Cell \u001b[1;32mIn[437], line 2\u001b[0m\n\u001b[0;32m      1\u001b[0m fig, ax \u001b[38;5;241m=\u001b[39m plt\u001b[38;5;241m.\u001b[39msubplots()\n\u001b[1;32m----> 2\u001b[0m \u001b[43max\u001b[49m\u001b[38;5;241;43m.\u001b[39;49m\u001b[43mpie\u001b[49m\u001b[43m(\u001b[49m\u001b[43mSi_first\u001b[49m\u001b[43m[\u001b[49m\u001b[43m:\u001b[49m\u001b[43m,\u001b[49m\u001b[38;5;241;43m0\u001b[39;49m\u001b[43m]\u001b[49m\u001b[38;5;241;43m/\u001b[39;49m\u001b[43mnp\u001b[49m\u001b[38;5;241;43m.\u001b[39;49m\u001b[43mmax\u001b[49m\u001b[43m(\u001b[49m\u001b[43mSi_first\u001b[49m\u001b[43m[\u001b[49m\u001b[43m:\u001b[49m\u001b[43m,\u001b[49m\u001b[38;5;241;43m0\u001b[39;49m\u001b[43m]\u001b[49m\u001b[43m)\u001b[49m\u001b[43m,\u001b[49m\u001b[43m \u001b[49m\u001b[43mlabels\u001b[49m\u001b[38;5;241;43m=\u001b[39;49m\u001b[43minputs\u001b[49m\u001b[43m)\u001b[49m\n",
      "File \u001b[1;32m~\\AppData\\Local\\anaconda3\\lib\\site-packages\\matplotlib\\__init__.py:1442\u001b[0m, in \u001b[0;36m_preprocess_data.<locals>.inner\u001b[1;34m(ax, data, *args, **kwargs)\u001b[0m\n\u001b[0;32m   1439\u001b[0m \u001b[38;5;129m@functools\u001b[39m\u001b[38;5;241m.\u001b[39mwraps(func)\n\u001b[0;32m   1440\u001b[0m \u001b[38;5;28;01mdef\u001b[39;00m \u001b[38;5;21minner\u001b[39m(ax, \u001b[38;5;241m*\u001b[39margs, data\u001b[38;5;241m=\u001b[39m\u001b[38;5;28;01mNone\u001b[39;00m, \u001b[38;5;241m*\u001b[39m\u001b[38;5;241m*\u001b[39mkwargs):\n\u001b[0;32m   1441\u001b[0m     \u001b[38;5;28;01mif\u001b[39;00m data \u001b[38;5;129;01mis\u001b[39;00m \u001b[38;5;28;01mNone\u001b[39;00m:\n\u001b[1;32m-> 1442\u001b[0m         \u001b[38;5;28;01mreturn\u001b[39;00m func(ax, \u001b[38;5;241m*\u001b[39m\u001b[38;5;28mmap\u001b[39m(sanitize_sequence, args), \u001b[38;5;241m*\u001b[39m\u001b[38;5;241m*\u001b[39mkwargs)\n\u001b[0;32m   1444\u001b[0m     bound \u001b[38;5;241m=\u001b[39m new_sig\u001b[38;5;241m.\u001b[39mbind(ax, \u001b[38;5;241m*\u001b[39margs, \u001b[38;5;241m*\u001b[39m\u001b[38;5;241m*\u001b[39mkwargs)\n\u001b[0;32m   1445\u001b[0m     auto_label \u001b[38;5;241m=\u001b[39m (bound\u001b[38;5;241m.\u001b[39marguments\u001b[38;5;241m.\u001b[39mget(label_namer)\n\u001b[0;32m   1446\u001b[0m                   \u001b[38;5;129;01mor\u001b[39;00m bound\u001b[38;5;241m.\u001b[39mkwargs\u001b[38;5;241m.\u001b[39mget(label_namer))\n",
      "File \u001b[1;32m~\\AppData\\Local\\anaconda3\\lib\\site-packages\\matplotlib\\axes\\_axes.py:3196\u001b[0m, in \u001b[0;36mAxes.pie\u001b[1;34m(self, x, explode, labels, colors, autopct, pctdistance, shadow, labeldistance, startangle, radius, counterclock, wedgeprops, textprops, center, frame, rotatelabels, normalize, hatch)\u001b[0m\n\u001b[0;32m   3193\u001b[0m     \u001b[38;5;28;01mraise\u001b[39;00m \u001b[38;5;167;01mValueError\u001b[39;00m(\u001b[38;5;124m\"\u001b[39m\u001b[38;5;124mx must be 1D\u001b[39m\u001b[38;5;124m\"\u001b[39m)\n\u001b[0;32m   3195\u001b[0m \u001b[38;5;28;01mif\u001b[39;00m np\u001b[38;5;241m.\u001b[39many(x \u001b[38;5;241m<\u001b[39m \u001b[38;5;241m0\u001b[39m):\n\u001b[1;32m-> 3196\u001b[0m     \u001b[38;5;28;01mraise\u001b[39;00m \u001b[38;5;167;01mValueError\u001b[39;00m(\u001b[38;5;124m\"\u001b[39m\u001b[38;5;124mWedge sizes \u001b[39m\u001b[38;5;124m'\u001b[39m\u001b[38;5;124mx\u001b[39m\u001b[38;5;124m'\u001b[39m\u001b[38;5;124m must be non negative values\u001b[39m\u001b[38;5;124m\"\u001b[39m)\n\u001b[0;32m   3198\u001b[0m sx \u001b[38;5;241m=\u001b[39m x\u001b[38;5;241m.\u001b[39msum()\n\u001b[0;32m   3200\u001b[0m \u001b[38;5;28;01mif\u001b[39;00m normalize:\n",
      "\u001b[1;31mValueError\u001b[0m: Wedge sizes 'x' must be non negative values"
     ]
    },
    {
     "data": {
      "image/png": "[encoded data removed]",
      "text/plain": [
       "<Figure size 640x480 with 1 Axes>"
      ]
     },
     "metadata": {},
     "output_type": "display_data"
    }
   ],
   "source": [
    "fig, ax = plt.subplots()\n",
    "ax.pie(Si_first[:,0]/np.max(Si_first[:,0]), labels=inputs);\n"
   ]
  },
  {
   "cell_type": "code",
   "execution_count": 438,
   "id": "ca8a2123",
   "metadata": {},
   "outputs": [
    {
     "data": {
      "text/plain": [
       "<matplotlib.colorbar.Colorbar at 0x14bf18a4460>"
      ]
     },
     "execution_count": 438,
     "metadata": {},
     "output_type": "execute_result"
    },
    {
     "data": {
      "image/png": "[encoded data removed]",
      "text/plain": [
       "<Figure size 640x480 with 2 Axes>"
      ]
     },
     "metadata": {},
     "output_type": "display_data"
    }
   ],
   "source": [
    "fig, ax = plt.subplots()\n",
    "im = ax.imshow(Si_first.T,cmap='magma_r',vmin=0,vmax=1)\n",
    "\n",
    "ax.set_yticks(np.arange(len(outputs)), labels=outputs)\n",
    "ax.set_xticks(np.arange(len(inputs)), labels=inputs)\n",
    "plt.setp(ax.get_xticklabels(), rotation=60, ha=\"right\",\n",
    "         rotation_mode=\"anchor\");\n",
    "\n",
    "plt.colorbar(im,fraction=0.015, pad=0.04)"
   ]
  },
  {
   "cell_type": "markdown",
   "id": "ceb14880",
   "metadata": {},
   "source": [
    "# Linear Mean GP"
   ]
  },
  {
   "cell_type": "code",
   "execution_count": 439,
   "id": "bc55e0ac",
   "metadata": {
    "scrolled": false
   },
   "outputs": [
    {
     "data": {
      "text/plain": [
       "<matplotlib.colorbar.Colorbar at 0x14bf1d757e0>"
      ]
     },
     "execution_count": 439,
     "metadata": {},
     "output_type": "execute_result"
    },
    {
     "data": {
      "image/png": "[encoded data removed]",
      "text/plain": [
       "<Figure size 640x480 with 2 Axes>"
      ]
     },
     "metadata": {},
     "output_type": "display_data"
    }
   ],
   "source": [
    "fig, ax = plt.subplots()\n",
    "im = ax.imshow(SiLR_total.T,cmap='magma_r',vmin=0,vmax=1)\n",
    "\n",
    "ax.set_yticks(np.arange(len(outputs)), labels=outputs)\n",
    "ax.set_xticks(np.arange(len(inputs)), labels=inputs)\n",
    "plt.setp(ax.get_xticklabels(), rotation=60, ha=\"right\",\n",
    "         rotation_mode=\"anchor\");\n",
    "\n",
    "plt.colorbar(im,fraction=0.015, pad=0.04)"
   ]
  },
  {
   "cell_type": "code",
   "execution_count": 440,
   "id": "ba88c86e",
   "metadata": {},
   "outputs": [
    {
     "data": {
      "text/plain": [
       "0.00011476309737190604"
      ]
     },
     "execution_count": 440,
     "metadata": {},
     "output_type": "execute_result"
    }
   ],
   "source": [
    "modelsZM[1].likelihood.noise.item()"
   ]
  },
  {
   "cell_type": "markdown",
   "id": "a22e9d6f",
   "metadata": {},
   "source": [
    "# Leave one out MSE"
   ]
  },
  {
   "cell_type": "code",
   "execution_count": 192,
   "id": "164cf753",
   "metadata": {},
   "outputs": [],
   "source": [
    "import random"
   ]
  },
  {
   "cell_type": "code",
   "execution_count": 193,
   "id": "a6e5eeea",
   "metadata": {},
   "outputs": [],
   "source": [
    "def standardise(data,mean,std):\n",
    "    dataStandard = (data-mean)/std.T\n",
    "    return dataStandard"
   ]
  },
  {
   "cell_type": "code",
   "execution_count": 194,
   "id": "48cd9338",
   "metadata": {},
   "outputs": [],
   "source": [
    "def EnsembleMSE(models,likelihoods,modelInput,modelOutput):\n",
    "    MSE = np.zeros(modelOutput.shape[1])\n",
    "    nMod=len(models)\n",
    "    for i in range(nMod):\n",
    "        models[i].eval()\n",
    "        likelihoods[i].eval()\n",
    "        MSE[i] = (((outputTrainStd[i]*likelihoods[i](models[i](torch.tensor(modelInput.values).float())).mean-outputTrainStd[i]*torch.tensor(modelOutput.iloc[:,i].values))**2).mean());\n",
    "    return MSE"
   ]
  },
  {
   "cell_type": "code",
   "execution_count": 195,
   "id": "5e7edc16",
   "metadata": {},
   "outputs": [],
   "source": [
    "def LREnsembleMSE(GPmodels,likelihoods,LRModel,modelInput,modelOutput):\n",
    "    MSE = np.zeros(modelOutput.shape[1])\n",
    "    nMod = len(models)\n",
    "    y_predicted = regression_model.predict(modelInput)\n",
    "    for i in range(nMod):\n",
    "        GPmodels[i].eval()\n",
    "        likelihoods[i].eval()\n",
    "        MSE[i] = (((outputTrainStd[i]*(torch.tensor(y_predicted[:,i])+likelihoods[i](GPmodels[i](torch.tensor(modelInput.values).float())).mean)-outputTrainStd[i]*torch.tensor(modelOutput.iloc[:,i].values))**2).mean());\n",
    "    return MSE"
   ]
  },
  {
   "cell_type": "code",
   "execution_count": 196,
   "id": "5f54077a",
   "metadata": {},
   "outputs": [
    {
     "data": {
      "text/plain": [
       "[13, 25, 41, 1, 29, 31, 45, 24, 44, 36]"
      ]
     },
     "execution_count": 196,
     "metadata": {},
     "output_type": "execute_result"
    }
   ],
   "source": [
    "random.sample(range(0,50),10)"
   ]
  },
  {
   "cell_type": "code",
   "execution_count": 197,
   "id": "b6daab8c",
   "metadata": {
    "scrolled": false
   },
   "outputs": [],
   "source": [
    "GP_MSE = np.zeros(outputNorm.shape[1])\n",
    "LRGP_MSE = np.zeros(outputNorm.shape[1])\n",
    "LMGP_MSE = np.zeros(outputNorm.shape[1])\n",
    "iters = inputNorm.shape[0]\n",
    "nMod = outputNorm.shape[1]\n",
    "\n",
    "for i in range(iters):\n",
    "\n",
    "    models2=[]\n",
    "    likelihoods2=[]\n",
    "    \n",
    "    modelsLR2 = []\n",
    "    likelihoodsLR2=[]\n",
    "    \n",
    "    modelsZM2=[]\n",
    "    likelihoodsZM2=[]\n",
    "    \n",
    "\n",
    "    testIndices = [i]\n",
    "    inputTest = inputOrig.iloc[testIndices,:]\n",
    "    inputTrain = inputOrig[~inputOrig.index.isin([inputOrig.index[i]])]\n",
    "    outputTest = outputOrig.iloc[testIndices,:]\n",
    "    outputTrain = outputOrig.iloc[~outputOrig.index.isin([outputOrig.index[i]])]\n",
    "    \n",
    "    inputTrainNorm,inputTrainMean,inputTrainStd = normalise(inputTrain)\n",
    "    inputTestNorm=(inputTest-inputTrainMean)/inputTrainStd\n",
    "    \n",
    "    outputTrainNorm,outputTrainMean,outputTrainStd = normalise(outputTrain)\n",
    "    outputTestNorm=(outputTest-outputTrainMean)/outputTrainStd\n",
    "    \n",
    "    y_predicted = regression_model.predict(inputTrainNorm)\n",
    "\n",
    "    for j in range(nMod):\n",
    "\n",
    "        likelihood2 = gpytorch.likelihoods.GaussianLikelihood()\n",
    "        model2 = ExactGPModel(torch.tensor(inputTrainNorm.values), torch.tensor(outputTrainNorm.iloc[:,j].values).squeeze(), likelihood2)\n",
    "\n",
    "\n",
    "        model2.likelihood.noise_covar.noise= models[j].likelihood.noise_covar.noise,\n",
    "        model2.covar_module.base_kernel.lengthscale= models[j].covar_module.base_kernel.lengthscale.tolist(),\n",
    "        model2.covar_module.outputscale=models[j].covar_module.outputscale,\n",
    "        model2.mean_module.constant=models[j].mean_module.constant.tolist()\n",
    "        model2.train()\n",
    "        models2.append(model2)\n",
    "        likelihoods2.append(likelihood2)\n",
    "        \n",
    "        likelihoodLR2 = gpytorch.likelihoods.GaussianLikelihood()\n",
    "        modelLR2 = ExactLRGPModel(torch.tensor(inputTrainNorm.values).float(), torch.tensor(outputTrainNorm.iloc[:,j].values).squeeze().float(), likelihoodLR2)\n",
    "\n",
    "\n",
    "        modelLR2.likelihood.noise_covar.noise= modelsLR[j].likelihood.noise_covar.noise,\n",
    "        modelLR2.covar_module.base_kernel.lengthscale= modelsLR[j].covar_module.base_kernel.lengthscale.tolist(),\n",
    "        modelLR2.covar_module.outputscale=modelsLR[j].covar_module.outputscale,\n",
    "        modelLR2.mean_module.weights=modelsLR[j].mean_module.weights\n",
    "        modelLR2.mean_module.bias=modelsLR[j].mean_module.bias\n",
    "        modelLR2.train()\n",
    "        modelsLR2.append(modelLR2)\n",
    "        likelihoodsLR2.append(likelihoodLR2)\n",
    "    \n",
    "        modelOutputAdjusted = outputTrainNorm - y_predicted\n",
    "        \n",
    "        likelihoodZM2 = gpytorch.likelihoods.GaussianLikelihood()\n",
    "        modelZM2 = ZeroMeanGPModel(torch.tensor(inputTrainNorm.values), torch.tensor(modelOutputAdjusted.iloc[:,j].values).squeeze(), likelihood2)\n",
    "\n",
    "        modelZM2.likelihood.noise_covar.noise= modelsZM[j].likelihood.noise_covar.noise,\n",
    "        modelZM2.covar_module.base_kernel.lengthscale= modelsZM[j].covar_module.base_kernel.lengthscale.tolist(),\n",
    "        modelZM2.covar_module.outputscale=modelsZM[j].covar_module.outputscale,\n",
    "        #modelZM2.mean_module.constant=modelsZM[j].mean_module.constant.tolist()\n",
    "        modelZM2.train()\n",
    "        modelsZM2.append(modelZM2)\n",
    "        likelihoodsZM2.append(likelihoodZM2)\n",
    "        \n",
    "    GP_MSE+= EnsembleMSE(models2,likelihoods2,inputTestNorm,outputTestNorm)/iters\n",
    "    LRGP_MSE+=LREnsembleMSE(modelsZM2,likelihoodsZM2,regression_model,inputTestNorm,outputTestNorm)/iters\n",
    "    LMGP_MSE+=EnsembleMSE(modelsLR2,likelihoodsLR2,inputTestNorm,outputTestNorm)/iters"
   ]
  },
  {
   "cell_type": "code",
   "execution_count": 198,
   "id": "1d2d899c",
   "metadata": {},
   "outputs": [],
   "source": [
    "dataset = pd.DataFrame({'GP MSE': GP_MSE, 'LRGP MSE': LRGP_MSE,'LMGP MSE': LMGP_MSE}, columns=['GP MSE', 'LRGP MSE', 'LMGP MSE'])\n",
    "dataset.index = list(outputOrig.columns)"
   ]
  },
  {
   "cell_type": "code",
   "execution_count": 199,
   "id": "5cf3bc7c",
   "metadata": {
    "scrolled": true
   },
   "outputs": [
    {
     "data": {
      "text/html": [
       "<div>\n",
       "<style scoped>\n",
       "    .dataframe tbody tr th:only-of-type {\n",
       "        vertical-align: middle;\n",
       "    }\n",
       "\n",
       "    .dataframe tbody tr th {\n",
       "        vertical-align: top;\n",
       "    }\n",
       "\n",
       "    .dataframe thead th {\n",
       "        text-align: right;\n",
       "    }\n",
       "</style>\n",
       "<table border=\"1\" class=\"dataframe\">\n",
       "  <thead>\n",
       "    <tr style=\"text-align: right;\">\n",
       "      <th></th>\n",
       "      <th>GP MSE</th>\n",
       "      <th>LRGP MSE</th>\n",
       "      <th>LMGP MSE</th>\n",
       "    </tr>\n",
       "  </thead>\n",
       "  <tbody>\n",
       "    <tr>\n",
       "      <th>(A_TAT,)</th>\n",
       "      <td>2.374417</td>\n",
       "      <td>1.915979</td>\n",
       "      <td>1.798480</td>\n",
       "    </tr>\n",
       "    <tr>\n",
       "      <th>(V_TAT,)</th>\n",
       "      <td>1.128991</td>\n",
       "      <td>0.927477</td>\n",
       "      <td>0.964744</td>\n",
       "    </tr>\n",
       "  </tbody>\n",
       "</table>\n",
       "</div>"
      ],
      "text/plain": [
       "            GP MSE  LRGP MSE  LMGP MSE\n",
       "(A_TAT,)  2.374417  1.915979  1.798480\n",
       "(V_TAT,)  1.128991  0.927477  0.964744"
      ]
     },
     "execution_count": 199,
     "metadata": {},
     "output_type": "execute_result"
    }
   ],
   "source": [
    "dataset"
   ]
  },
  {
   "cell_type": "code",
   "execution_count": 200,
   "id": "2251b64b",
   "metadata": {},
   "outputs": [
    {
     "data": {
      "text/plain": [
       "0.00010734867100836709"
      ]
     },
     "execution_count": 200,
     "metadata": {},
     "output_type": "execute_result"
    }
   ],
   "source": [
    "modelsZM[0].likelihood.noise.item()"
   ]
  },
  {
   "cell_type": "code",
   "execution_count": 201,
   "id": "7901c66e",
   "metadata": {},
   "outputs": [
    {
     "data": {
      "text/plain": [
       "[1.9159789038315664, 0.9274773153304463]"
      ]
     },
     "execution_count": 201,
     "metadata": {},
     "output_type": "execute_result"
    }
   ],
   "source": [
    "LRGP_MSE.tolist()"
   ]
  },
  {
   "cell_type": "code",
   "execution_count": 202,
   "id": "b1cc6d10",
   "metadata": {
    "scrolled": true
   },
   "outputs": [
    {
     "name": "stdout",
     "output_type": "stream",
     "text": [
      "0\n",
      "1\n",
      "0\n",
      "1\n",
      "0\n",
      "1\n",
      "0\n",
      "1\n",
      "0\n",
      "1\n",
      "0\n",
      "1\n",
      "0\n",
      "1\n",
      "0\n",
      "1\n",
      "0\n",
      "1\n",
      "0\n",
      "1\n",
      "0\n",
      "1\n",
      "0\n",
      "1\n",
      "0\n",
      "1\n",
      "0\n",
      "1\n",
      "0\n",
      "1\n",
      "0\n",
      "1\n",
      "0\n",
      "1\n",
      "0\n",
      "1\n",
      "0\n",
      "1\n",
      "0\n",
      "1\n",
      "0\n",
      "1\n",
      "0\n",
      "1\n",
      "0\n",
      "1\n",
      "0\n",
      "1\n",
      "0\n",
      "1\n",
      "0\n",
      "1\n",
      "0\n",
      "1\n",
      "0\n",
      "1\n",
      "0\n",
      "1\n",
      "0\n",
      "1\n",
      "0\n",
      "1\n",
      "0\n",
      "1\n",
      "0\n",
      "1\n",
      "0\n",
      "1\n",
      "0\n",
      "1\n",
      "0\n",
      "1\n",
      "0\n",
      "1\n",
      "0\n",
      "1\n",
      "0\n",
      "1\n",
      "0\n",
      "1\n",
      "0\n",
      "1\n",
      "0\n",
      "1\n",
      "0\n",
      "1\n",
      "0\n",
      "1\n",
      "0\n",
      "1\n",
      "0\n",
      "1\n",
      "0\n",
      "1\n",
      "0\n",
      "1\n",
      "0\n",
      "1\n",
      "0\n",
      "1\n",
      "0\n",
      "1\n",
      "0\n",
      "1\n",
      "0\n",
      "1\n",
      "0\n",
      "1\n",
      "0\n",
      "1\n",
      "0\n",
      "1\n",
      "0\n",
      "1\n",
      "0\n",
      "1\n",
      "0\n",
      "1\n",
      "0\n",
      "1\n",
      "0\n",
      "1\n",
      "0\n",
      "1\n",
      "0\n",
      "1\n",
      "0\n",
      "1\n",
      "0\n",
      "1\n",
      "0\n",
      "1\n",
      "0\n",
      "1\n",
      "0\n",
      "1\n",
      "0\n",
      "1\n",
      "0\n",
      "1\n",
      "0\n",
      "1\n",
      "0\n",
      "1\n",
      "0\n",
      "1\n",
      "0\n",
      "1\n",
      "0\n",
      "1\n",
      "0\n",
      "1\n",
      "0\n",
      "1\n",
      "0\n",
      "1\n",
      "0\n",
      "1\n",
      "0\n",
      "1\n",
      "0\n",
      "1\n",
      "0\n",
      "1\n",
      "0\n",
      "1\n",
      "0\n",
      "1\n",
      "0\n",
      "1\n",
      "0\n",
      "1\n",
      "0\n",
      "1\n",
      "0\n",
      "1\n",
      "0\n",
      "1\n",
      "0\n",
      "1\n",
      "0\n",
      "1\n",
      "0\n",
      "1\n",
      "0\n",
      "1\n",
      "0\n",
      "1\n",
      "0\n",
      "1\n",
      "0\n",
      "1\n",
      "0\n",
      "1\n",
      "0\n",
      "1\n",
      "0\n",
      "1\n",
      "0\n",
      "1\n",
      "0\n",
      "1\n",
      "0\n",
      "1\n",
      "0\n",
      "1\n",
      "0\n",
      "1\n",
      "0\n",
      "1\n",
      "0\n",
      "1\n",
      "0\n",
      "1\n",
      "0\n",
      "1\n",
      "0\n",
      "1\n",
      "0\n",
      "1\n",
      "0\n",
      "1\n",
      "0\n",
      "1\n",
      "0\n",
      "1\n",
      "0\n",
      "1\n",
      "0\n",
      "1\n",
      "0\n",
      "1\n",
      "0\n",
      "1\n",
      "0\n",
      "1\n",
      "0\n",
      "1\n",
      "0\n",
      "1\n",
      "0\n",
      "1\n",
      "0\n",
      "1\n",
      "0\n",
      "1\n",
      "0\n",
      "1\n",
      "0\n",
      "1\n",
      "0\n",
      "1\n",
      "0\n",
      "1\n",
      "0\n",
      "1\n",
      "0\n",
      "1\n",
      "0\n",
      "1\n",
      "0\n",
      "1\n",
      "0\n",
      "1\n",
      "0\n",
      "1\n",
      "0\n",
      "1\n",
      "0\n",
      "1\n",
      "0\n",
      "1\n",
      "0\n",
      "1\n",
      "0\n",
      "1\n",
      "0\n",
      "1\n",
      "0\n",
      "1\n",
      "0\n",
      "1\n",
      "0\n",
      "1\n",
      "0\n",
      "1\n",
      "0\n",
      "1\n",
      "0\n",
      "1\n",
      "0\n",
      "1\n",
      "0\n",
      "1\n",
      "0\n",
      "1\n",
      "0\n",
      "1\n",
      "0\n",
      "1\n",
      "0\n",
      "1\n",
      "0\n",
      "1\n",
      "0\n",
      "1\n",
      "0\n",
      "1\n",
      "0\n",
      "1\n",
      "0\n",
      "1\n",
      "0\n",
      "1\n",
      "0\n",
      "1\n",
      "0\n",
      "1\n",
      "0\n",
      "1\n",
      "0\n",
      "1\n",
      "0\n",
      "1\n",
      "0\n",
      "1\n",
      "0\n",
      "1\n",
      "0\n",
      "1\n",
      "0\n",
      "1\n",
      "0\n",
      "1\n",
      "0\n",
      "1\n",
      "0\n",
      "1\n",
      "0\n",
      "1\n",
      "0\n",
      "1\n",
      "0\n",
      "1\n",
      "0\n",
      "1\n",
      "0\n",
      "1\n",
      "0\n",
      "1\n",
      "0\n",
      "1\n",
      "0\n",
      "1\n",
      "0\n",
      "1\n",
      "0\n",
      "1\n",
      "0\n",
      "1\n",
      "0\n",
      "1\n",
      "0\n",
      "1\n",
      "0\n",
      "1\n",
      "0\n",
      "1\n",
      "0\n",
      "1\n",
      "0\n",
      "1\n",
      "0\n",
      "1\n",
      "0\n",
      "1\n",
      "0\n",
      "1\n",
      "0\n",
      "1\n",
      "0\n",
      "1\n",
      "0\n",
      "1\n",
      "0\n",
      "1\n",
      "0\n",
      "1\n",
      "0\n",
      "1\n",
      "0\n",
      "1\n",
      "0\n",
      "1\n",
      "0\n",
      "1\n",
      "0\n",
      "1\n",
      "0\n",
      "1\n",
      "0\n",
      "1\n",
      "0\n",
      "1\n",
      "0\n",
      "1\n",
      "0\n",
      "1\n",
      "0\n",
      "1\n",
      "0\n",
      "1\n",
      "0\n",
      "1\n",
      "0\n",
      "1\n",
      "0\n",
      "1\n",
      "0\n",
      "1\n",
      "0\n",
      "1\n",
      "0\n",
      "1\n",
      "0\n",
      "1\n",
      "0\n",
      "1\n",
      "0\n",
      "1\n",
      "0\n",
      "1\n",
      "0\n",
      "1\n",
      "0\n",
      "1\n",
      "0\n",
      "1\n",
      "0\n",
      "1\n",
      "0\n",
      "1\n",
      "0\n",
      "1\n",
      "0\n",
      "1\n",
      "0\n",
      "1\n",
      "0\n",
      "1\n",
      "0\n",
      "1\n",
      "0\n",
      "1\n",
      "0\n",
      "1\n",
      "0\n",
      "1\n",
      "0\n",
      "1\n",
      "0\n",
      "1\n",
      "0\n",
      "1\n",
      "0\n",
      "1\n",
      "0\n",
      "1\n",
      "0\n",
      "1\n",
      "0\n",
      "1\n",
      "0\n",
      "1\n",
      "0\n",
      "1\n",
      "0\n",
      "1\n",
      "0\n",
      "1\n",
      "0\n",
      "1\n",
      "0\n",
      "1\n",
      "0\n",
      "1\n",
      "0\n",
      "1\n",
      "0\n",
      "1\n",
      "0\n",
      "1\n",
      "0\n",
      "1\n",
      "0\n",
      "1\n",
      "0\n",
      "1\n",
      "0\n",
      "1\n",
      "0\n",
      "1\n",
      "0\n",
      "1\n",
      "0\n",
      "1\n",
      "0\n",
      "1\n",
      "0\n",
      "1\n",
      "0\n",
      "1\n",
      "0\n",
      "1\n",
      "0\n",
      "1\n",
      "0\n",
      "1\n",
      "0\n",
      "1\n",
      "0\n",
      "1\n",
      "0\n",
      "1\n",
      "0\n",
      "1\n",
      "0\n",
      "1\n",
      "0\n",
      "1\n",
      "0\n",
      "1\n",
      "0\n",
      "1\n",
      "0\n",
      "1\n",
      "0\n",
      "1\n",
      "0\n",
      "1\n",
      "0\n",
      "1\n",
      "0\n",
      "1\n",
      "0\n",
      "1\n",
      "0\n",
      "1\n",
      "0\n",
      "1\n",
      "0\n",
      "1\n",
      "0\n",
      "1\n",
      "0\n",
      "1\n",
      "0\n",
      "1\n",
      "0\n",
      "1\n",
      "0\n",
      "1\n",
      "0\n",
      "1\n",
      "0\n",
      "1\n",
      "0\n",
      "1\n",
      "0\n",
      "1\n",
      "0\n",
      "1\n",
      "0\n",
      "1\n",
      "0\n",
      "1\n"
     ]
    }
   ],
   "source": [
    "GP_MSE = np.zeros(outputNorm.shape[1])\n",
    "LRGP_MSE = np.zeros(outputNorm.shape[1])\n",
    "\n",
    "for i in range(iters):\n",
    "\n",
    "    testIndices = [i]\n",
    "    inputTest = inputOrig.iloc[testIndices,:]\n",
    "    inputTrain = inputOrig[~inputOrig.index.isin([inputOrig.index[i]])]\n",
    "    outputTest = outputOrig.iloc[testIndices,:]\n",
    "    outputTrain = outputOrig.iloc[~outputOrig.index.isin([outputOrig.index[i]])]\n",
    "    \n",
    "    inputTrainNorm,inputTrainMean,inputTrainStd = normalise(inputTrain)\n",
    "    inputTestNorm=(inputTest-inputTrainMean)/inputTrainStd\n",
    "    \n",
    "    outputTrainNorm,outputTrainMean,outputTrainStd = normalise(outputTrain)\n",
    "    outputTestNorm=(outputTest-outputTrainMean)/outputTrainStd\n",
    "    \n",
    "    models, likelihoods= GPEnsemble(inputTrainNorm,outputTrainNorm)\n",
    "    \n",
    "    GP_MSE+= EnsembleMSE(models,likelihoods,inputTestNorm,outputTestNorm)/iters\n",
    "    \n",
    "    regression_model, modelsZM, likelihoodsZM = LRGPEnsemble(inputTrainNorm,outputTrainNorm)\n",
    "    \n",
    "    \n",
    "    LRGP_MSE+=LREnsembleMSE(modelsZM,likelihoodsZM,regression_model,inputTestNorm,outputTestNorm)/iters"
   ]
  },
  {
   "cell_type": "code",
   "execution_count": 203,
   "id": "7fef40c8",
   "metadata": {
    "scrolled": true
   },
   "outputs": [
    {
     "data": {
      "text/plain": [
       "array([2.69355001, 1.11770362])"
      ]
     },
     "execution_count": 203,
     "metadata": {},
     "output_type": "execute_result"
    }
   ],
   "source": [
    "GP_MSE"
   ]
  },
  {
   "cell_type": "code",
   "execution_count": null,
   "id": "3b271ec2",
   "metadata": {},
   "outputs": [],
   "source": [
    "dataset = pd.DataFrame({'GP MSE': GP_MSE, 'LRGP MSE': LRGP_MSE}, columns=['GP MSE', 'LRGP MSE'])\n",
    "dataset.index = list(outputOrig.columns)"
   ]
  },
  {
   "cell_type": "code",
   "execution_count": null,
   "id": "b5174ede",
   "metadata": {},
   "outputs": [],
   "source": [
    "dataset"
   ]
  },
  {
   "cell_type": "code",
   "execution_count": 269,
   "id": "655af6d9",
   "metadata": {},
   "outputs": [
    {
     "data": {
      "text/html": [
       "<div>\n",
       "<style scoped>\n",
       "    .dataframe tbody tr th:only-of-type {\n",
       "        vertical-align: middle;\n",
       "    }\n",
       "\n",
       "    .dataframe tbody tr th {\n",
       "        vertical-align: top;\n",
       "    }\n",
       "\n",
       "    .dataframe thead th {\n",
       "        text-align: right;\n",
       "    }\n",
       "</style>\n",
       "<table border=\"1\" class=\"dataframe\">\n",
       "  <thead>\n",
       "    <tr style=\"text-align: right;\">\n",
       "      <th></th>\n",
       "      <th>(CV_ventricles,)</th>\n",
       "      <th>(CV_atria,)</th>\n",
       "    </tr>\n",
       "  </thead>\n",
       "  <tbody>\n",
       "    <tr>\n",
       "      <th>67</th>\n",
       "      <td>0.306260</td>\n",
       "      <td>-0.969200</td>\n",
       "    </tr>\n",
       "    <tr>\n",
       "      <th>141</th>\n",
       "      <td>-1.441605</td>\n",
       "      <td>1.339890</td>\n",
       "    </tr>\n",
       "    <tr>\n",
       "      <th>88</th>\n",
       "      <td>0.969388</td>\n",
       "      <td>0.344957</td>\n",
       "    </tr>\n",
       "    <tr>\n",
       "      <th>30</th>\n",
       "      <td>0.919335</td>\n",
       "      <td>-1.329597</td>\n",
       "    </tr>\n",
       "    <tr>\n",
       "      <th>57</th>\n",
       "      <td>-1.054113</td>\n",
       "      <td>-0.315881</td>\n",
       "    </tr>\n",
       "    <tr>\n",
       "      <th>...</th>\n",
       "      <td>...</td>\n",
       "      <td>...</td>\n",
       "    </tr>\n",
       "    <tr>\n",
       "      <th>83</th>\n",
       "      <td>-0.657008</td>\n",
       "      <td>0.267552</td>\n",
       "    </tr>\n",
       "    <tr>\n",
       "      <th>136</th>\n",
       "      <td>-0.742451</td>\n",
       "      <td>-0.838235</td>\n",
       "    </tr>\n",
       "    <tr>\n",
       "      <th>133</th>\n",
       "      <td>1.503548</td>\n",
       "      <td>-0.640924</td>\n",
       "    </tr>\n",
       "    <tr>\n",
       "      <th>105</th>\n",
       "      <td>0.209907</td>\n",
       "      <td>0.547353</td>\n",
       "    </tr>\n",
       "    <tr>\n",
       "      <th>84</th>\n",
       "      <td>1.751407</td>\n",
       "      <td>-1.676076</td>\n",
       "    </tr>\n",
       "  </tbody>\n",
       "</table>\n",
       "<p>144 rows × 2 columns</p>\n",
       "</div>"
      ],
      "text/plain": [
       "     (CV_ventricles,)  (CV_atria,)\n",
       "67           0.306260    -0.969200\n",
       "141         -1.441605     1.339890\n",
       "88           0.969388     0.344957\n",
       "30           0.919335    -1.329597\n",
       "57          -1.054113    -0.315881\n",
       "..                ...          ...\n",
       "83          -0.657008     0.267552\n",
       "136         -0.742451    -0.838235\n",
       "133          1.503548    -0.640924\n",
       "105          0.209907     0.547353\n",
       "84           1.751407    -1.676076\n",
       "\n",
       "[144 rows x 2 columns]"
      ]
     },
     "execution_count": 269,
     "metadata": {},
     "output_type": "execute_result"
    }
   ],
   "source": [
    "inputNorm.iloc[:,[0,3]]"
   ]
  },
  {
   "cell_type": "code",
   "execution_count": 441,
   "id": "c283d064",
   "metadata": {},
   "outputs": [],
   "source": [
    "inputNorm,inputMean,inputStd = normalise(X_train)"
   ]
  },
  {
   "cell_type": "code",
   "execution_count": 442,
   "id": "035248bc",
   "metadata": {},
   "outputs": [],
   "source": [
    "outputNorm,outMean,outStd=normalise(y_train)"
   ]
  },
  {
   "cell_type": "code",
   "execution_count": null,
   "id": "9dd0a111",
   "metadata": {},
   "outputs": [],
   "source": []
  },
  {
   "cell_type": "code",
   "execution_count": 444,
   "id": "cab6c09f",
   "metadata": {
    "scrolled": true
   },
   "outputs": [
    {
     "name": "stdout",
     "output_type": "stream",
     "text": [
      "0\n",
      "1\n",
      "0\n",
      "1\n",
      "0\n",
      "1\n",
      "0\n",
      "1\n",
      "0\n",
      "1\n",
      "0\n",
      "1\n"
     ]
    }
   ],
   "source": []
  },
  {
   "cell_type": "code",
   "execution_count": 445,
   "id": "54955e7d",
   "metadata": {},
   "outputs": [],
   "source": [
    "MSE = np.zeros((7,2))\n",
    "for i in range(2):\n",
    "    MSE[0,i] =((GPEnsemblePredict(models_1A,likelihoods_1A,torch.tensor(((X_test.iloc[:,3:4]-inputMean[3:4])/inputStd[3:4]).values),outMean,outStd)[i]-torch.tensor(y_test.values)[:,i])**2).mean()\n",
    "    MSE[1,i] =((GPEnsemblePredict(models_2A,likelihoods_2A,torch.tensor(((X_test.iloc[:,[3,5]]-inputMean[[3,5]])/inputStd[[3,5]]).values),outMean,outStd)[i]-torch.tensor(y_test.values)[:,i])**2).mean()\n",
    "    MSE[2,i] =((GPEnsemblePredict(models_3A,likelihoods_3A,torch.tensor(((X_test.iloc[:,3:6]-inputMean[3:6])/inputStd[3:6]).values),outMean,outStd)[i]-torch.tensor(y_test.values)[:,i])**2).mean()\n",
    "    MSE[3,i] =((GPEnsemblePredict(models_1V,likelihoods_1V,torch.tensor(((X_test.iloc[:,0:1]-inputMean[0:1])/inputStd[0:1]).values),outMean,outStd)[i]-torch.tensor(y_test.values)[:,i])**2).mean()\n",
    "    MSE[4,i] =((GPEnsemblePredict(models_2V,likelihoods_2V,torch.tensor(((X_test.iloc[:,[0,2]]-inputMean[[0,2]])/inputStd[[0,2]]).values),outMean,outStd)[i]-torch.tensor(y_test.values)[:,i])**2).mean()\n",
    "    MSE[5,i] =((GPEnsemblePredict(models_3V,likelihoods_3V,torch.tensor(((X_test.iloc[:,0:3]-inputMean[0:3])/inputStd[0:3]).values),outMean,outStd)[i]-torch.tensor(y_test.values)[:,i])**2).mean()\n",
    "    MSE[6,i] =((GPEnsemblePredict(modelsLR,likelihoodsLR,torch.tensor(((X_test-inputMean)/inputStd).values),outMean,outStd)[i]-torch.tensor(y_test.values)[:,i])**2).mean()"
   ]
  },
  {
   "cell_type": "code",
   "execution_count": 451,
   "id": "77b932a6",
   "metadata": {
    "scrolled": false
   },
   "outputs": [
    {
     "data": {
      "text/plain": [
       "array([[5.49098221e+02, 2.07078667e+02, 1.85679127e+00, 4.44245875e+03,\n",
       "        4.35259870e+03, 5.94503814e+03, 2.43054703e+01],\n",
       "       [1.20117355e+03, 1.21210662e+03, 1.29933315e+03, 6.76657320e+02,\n",
       "        1.31821443e+02, 8.06877385e-01, 4.70857404e+00]])"
      ]
     },
     "execution_count": 451,
     "metadata": {},
     "output_type": "execute_result"
    }
   ],
   "source": [
    "MSE.T"
   ]
  },
  {
   "cell_type": "code",
   "execution_count": 453,
   "id": "c8f6af95",
   "metadata": {
    "scrolled": true
   },
   "outputs": [
    {
     "data": {
      "text/plain": [
       "array([[ 0.88527444,  0.21801975],\n",
       "       [ 0.95673412,  0.21090218],\n",
       "       [ 0.99961205,  0.15411653],\n",
       "       [ 0.07181708,  0.55948692],\n",
       "       [ 0.09059195,  0.91418246],\n",
       "       [-0.2421236 ,  0.99947471],\n",
       "       [ 0.99492175,  0.99693465]])"
      ]
     },
     "execution_count": 453,
     "metadata": {},
     "output_type": "execute_result"
    }
   ],
   "source": [
    "(1-MSE/np.var(y_train).values)"
   ]
  },
  {
   "cell_type": "code",
   "execution_count": 237,
   "id": "9e47e1bf",
   "metadata": {},
   "outputs": [
    {
     "data": {
      "text/html": [
       "<div>\n",
       "<style scoped>\n",
       "    .dataframe tbody tr th:only-of-type {\n",
       "        vertical-align: middle;\n",
       "    }\n",
       "\n",
       "    .dataframe tbody tr th {\n",
       "        vertical-align: top;\n",
       "    }\n",
       "\n",
       "    .dataframe thead th {\n",
       "        text-align: right;\n",
       "    }\n",
       "</style>\n",
       "<table border=\"1\" class=\"dataframe\">\n",
       "  <thead>\n",
       "    <tr style=\"text-align: right;\">\n",
       "      <th></th>\n",
       "      <th>(CV_atria,)</th>\n",
       "    </tr>\n",
       "  </thead>\n",
       "  <tbody>\n",
       "    <tr>\n",
       "      <th>67</th>\n",
       "      <td>-0.969200</td>\n",
       "    </tr>\n",
       "    <tr>\n",
       "      <th>141</th>\n",
       "      <td>1.339890</td>\n",
       "    </tr>\n",
       "    <tr>\n",
       "      <th>88</th>\n",
       "      <td>0.344957</td>\n",
       "    </tr>\n",
       "    <tr>\n",
       "      <th>30</th>\n",
       "      <td>-1.329597</td>\n",
       "    </tr>\n",
       "    <tr>\n",
       "      <th>57</th>\n",
       "      <td>-0.315881</td>\n",
       "    </tr>\n",
       "    <tr>\n",
       "      <th>...</th>\n",
       "      <td>...</td>\n",
       "    </tr>\n",
       "    <tr>\n",
       "      <th>83</th>\n",
       "      <td>0.267552</td>\n",
       "    </tr>\n",
       "    <tr>\n",
       "      <th>136</th>\n",
       "      <td>-0.838235</td>\n",
       "    </tr>\n",
       "    <tr>\n",
       "      <th>133</th>\n",
       "      <td>-0.640924</td>\n",
       "    </tr>\n",
       "    <tr>\n",
       "      <th>105</th>\n",
       "      <td>0.547353</td>\n",
       "    </tr>\n",
       "    <tr>\n",
       "      <th>84</th>\n",
       "      <td>-1.676076</td>\n",
       "    </tr>\n",
       "  </tbody>\n",
       "</table>\n",
       "<p>144 rows × 1 columns</p>\n",
       "</div>"
      ],
      "text/plain": [
       "     (CV_atria,)\n",
       "67     -0.969200\n",
       "141     1.339890\n",
       "88      0.344957\n",
       "30     -1.329597\n",
       "57     -0.315881\n",
       "..           ...\n",
       "83      0.267552\n",
       "136    -0.838235\n",
       "133    -0.640924\n",
       "105     0.547353\n",
       "84     -1.676076\n",
       "\n",
       "[144 rows x 1 columns]"
      ]
     },
     "execution_count": 237,
     "metadata": {},
     "output_type": "execute_result"
    }
   ],
   "source": [
    "inputNorm.iloc[:,3:4]"
   ]
  },
  {
   "cell_type": "code",
   "execution_count": 239,
   "id": "fa9957de",
   "metadata": {},
   "outputs": [
    {
     "data": {
      "text/plain": [
       "(A_TAT,)    4141.266429\n",
       "(V_TAT,)    1168.657262\n",
       "dtype: float64"
      ]
     },
     "execution_count": 239,
     "metadata": {},
     "output_type": "execute_result"
    }
   ],
   "source": [
    "np.var(y_test)"
   ]
  },
  {
   "cell_type": "code",
   "execution_count": 244,
   "id": "5863c38f",
   "metadata": {},
   "outputs": [
    {
     "data": {
      "text/plain": [
       "0.9990340497464381"
      ]
     },
     "execution_count": 244,
     "metadata": {},
     "output_type": "execute_result"
    }
   ],
   "source": [
    "1-(4/4141)"
   ]
  },
  {
   "cell_type": "code",
   "execution_count": 107,
   "id": "82271071",
   "metadata": {
    "scrolled": true
   },
   "outputs": [
    {
     "data": {
      "text/plain": [
       "array([102.421, 109.701, 110.207, 116.618, 120.467, 131.87 , 132.443,\n",
       "       136.081, 140.815, 141.697, 143.602, 145.946, 172.419, 174.198,\n",
       "       181.94 , 194.967, 200.132, 200.136, 200.845, 232.374, 236.319,\n",
       "       238.058, 243.399, 251.071, 251.182, 253.479, 256.638, 257.471,\n",
       "       262.326, 263.611, 269.679, 275.184, 284.215, 293.923, 307.759,\n",
       "       328.284])"
      ]
     },
     "execution_count": 107,
     "metadata": {},
     "output_type": "execute_result"
    }
   ],
   "source": [
    "np.sort(y_test.values[:,0])"
   ]
  },
  {
   "cell_type": "code",
   "execution_count": 134,
   "id": "dca67bfe",
   "metadata": {},
   "outputs": [],
   "source": [
    "X_GPE=GPEnsemblePredict(models_2A,likelihoods_2A,torch.tensor(((X_test.iloc[:,[3,5]]-inputMean[[3,5]])/inputStd[[3,5]]).values),outMean,outStd)[0].tolist()\n",
    "X_LR=LREnsemblePredict(LR_1A,torch.tensor(((X_test.iloc[:,3:4]-inputMean[3:4])/inputStd[3:4]).values),outMean,outStd)[0]\n"
   ]
  },
  {
   "cell_type": "code",
   "execution_count": 135,
   "id": "173a9631",
   "metadata": {},
   "outputs": [
    {
     "data": {
      "text/plain": [
       "tensor([[224.6351, 115.7152,  82.4350, 199.9277, 184.1672, 269.9497, 259.8669,\n",
       "         276.8797, 131.4656, 253.3968, 265.7564, 269.0422,  99.9672, 234.3907,\n",
       "         217.2764, 285.7320, 212.6948, 207.6677, 279.8419, 114.4763, 139.9068,\n",
       "         166.6898,  81.0990, 210.9708, 191.1355, 288.2174, 211.9772, 128.7912,\n",
       "         263.4555,  84.7661, 125.7669, 229.8996, 247.0249, 299.1100, 232.5523,\n",
       "         175.5592]], dtype=torch.float64)"
      ]
     },
     "execution_count": 135,
     "metadata": {},
     "output_type": "execute_result"
    }
   ],
   "source": [
    "X_LR"
   ]
  },
  {
   "cell_type": "code",
   "execution_count": 136,
   "id": "5cc049d6",
   "metadata": {},
   "outputs": [
    {
     "data": {
      "text/plain": [
       "Text(0, 0.5, 'V_TAT')"
      ]
     },
     "execution_count": 136,
     "metadata": {},
     "output_type": "execute_result"
    },
    {
     "data": {
      "image/png": "[encoded data removed]",
      "text/plain": [
       "<Figure size 640x480 with 1 Axes>"
      ]
     },
     "metadata": {},
     "output_type": "display_data"
    }
   ],
   "source": [
    "plt.plot((X_test.iloc[:,3:4]-inputMean[3:4])/inputStd[3:4],X_GPE,'o')\n",
    "plt.plot((X_test.iloc[:,3:4]-inputMean[3:4])/inputStd[3:4],y_test.values[:,0],'o')\n",
    "plt.legend(('y_GPE','y_true'))\n",
    "plt.xlabel('CV_Ventricles')\n",
    "plt.ylabel('V_TAT')\n"
   ]
  },
  {
   "cell_type": "code",
   "execution_count": 137,
   "id": "a910eea6",
   "metadata": {},
   "outputs": [
    {
     "data": {
      "text/plain": [
       "Text(0, 0.5, 'V_TAT')"
      ]
     },
     "execution_count": 137,
     "metadata": {},
     "output_type": "execute_result"
    },
    {
     "data": {
      "image/png": "[encoded data removed]",
      "text/plain": [
       "<Figure size 640x480 with 1 Axes>"
      ]
     },
     "metadata": {},
     "output_type": "display_data"
    }
   ],
   "source": [
    "\n",
    "plt.plot((X_test.iloc[:,3:4]-inputMean[3:4])/inputStd[3:4],X_LR.T,'o')\n",
    "plt.plot((X_test.iloc[:,3:4]-inputMean[3:4])/inputStd[3:4],y_test.values[:,0],'o')\n",
    "plt.legend(('y_LR','y_true'))\n",
    "plt.xlabel('CV_Ventricles')\n",
    "plt.ylabel('V_TAT')"
   ]
  },
  {
   "cell_type": "code",
   "execution_count": null,
   "id": "7cb1c84d",
   "metadata": {},
   "outputs": [],
   "source": []
  }
 ],
 "metadata": {
  "kernelspec": {
   "display_name": "Python 3 (ipykernel)",
   "language": "python",
   "name": "python3"
  },
  "language_info": {
   "codemirror_mode": {
    "name": "ipython",
    "version": 3
   },
   "file_extension": ".py",
   "mimetype": "text/x-python",
   "name": "python",
   "nbconvert_exporter": "python",
   "pygments_lexer": "ipython3",
   "version": "3.11.5"
  }
 },
 "nbformat": 4,
 "nbformat_minor": 5
}
